{
 "cells": [
  {
   "cell_type": "code",
   "execution_count": 108,
   "metadata": {},
   "outputs": [],
   "source": [
    "# 패키지 불러오기\n",
    "import seaborn as sns\n",
    "import matplotlib.pyplot as plt\n",
    "%matplotlib inline\n",
    "from matplotlib import font_manager, rc\n",
    "import plotly.offline as py\n",
    "import plotly.graph_objs as go\n",
    "import plotly.express as px\n",
    "from tqdm import tqdm\n",
    "from plotly.subplots import make_subplots\n",
    "plt.rcParams['axes.unicode_minus'] = False\n",
    "f_path = \"/Library/Fonts/Arial Unicode.ttf\"\n",
    "font_name = font_manager.FontProperties(fname=f_path).get_name()\n",
    "rc('font', family=font_name)"
   ]
  },
  {
   "cell_type": "markdown",
   "metadata": {},
   "source": [
    "### 목차\n",
    "- 데이터 탐색\n",
    "        - 결측치 제거 및 유니크 값 확인\n",
    "        - 시간에 따른 탐색\n",
    "        - Amount의 심화 탐색\n",
    "        - installments(할부) 심화 탐색"
   ]
  },
  {
   "cell_type": "code",
   "execution_count": 56,
   "metadata": {},
   "outputs": [],
   "source": [
    "# 데이터 탐색하기"
   ]
  },
  {
   "cell_type": "code",
   "execution_count": 57,
   "metadata": {},
   "outputs": [],
   "source": [
    "# 데이터 불러오기\n",
    "train = pd.read_csv(\"train.csv\")"
   ]
  },
  {
   "cell_type": "code",
   "execution_count": 58,
   "metadata": {},
   "outputs": [
    {
     "data": {
      "text/html": [
       "<div>\n",
       "<style scoped>\n",
       "    .dataframe tbody tr th:only-of-type {\n",
       "        vertical-align: middle;\n",
       "    }\n",
       "\n",
       "    .dataframe tbody tr th {\n",
       "        vertical-align: top;\n",
       "    }\n",
       "\n",
       "    .dataframe thead th {\n",
       "        text-align: right;\n",
       "    }\n",
       "</style>\n",
       "<table border=\"1\" class=\"dataframe\">\n",
       "  <thead>\n",
       "    <tr style=\"text-align: right;\">\n",
       "      <th></th>\n",
       "      <th>store_id</th>\n",
       "      <th>date</th>\n",
       "      <th>time</th>\n",
       "      <th>card_id</th>\n",
       "      <th>amount</th>\n",
       "      <th>installments</th>\n",
       "      <th>days_of_week</th>\n",
       "      <th>holyday</th>\n",
       "    </tr>\n",
       "  </thead>\n",
       "  <tbody>\n",
       "    <tr>\n",
       "      <th>3362791</th>\n",
       "      <td>1799</td>\n",
       "      <td>2018-07-19</td>\n",
       "      <td>17:58:31</td>\n",
       "      <td>e254bf70d9</td>\n",
       "      <td>600</td>\n",
       "      <td>NaN</td>\n",
       "      <td>3</td>\n",
       "      <td>0</td>\n",
       "    </tr>\n",
       "    <tr>\n",
       "      <th>3362792</th>\n",
       "      <td>1799</td>\n",
       "      <td>2018-07-19</td>\n",
       "      <td>18:54:34</td>\n",
       "      <td>8f41c89891</td>\n",
       "      <td>275</td>\n",
       "      <td>NaN</td>\n",
       "      <td>3</td>\n",
       "      <td>0</td>\n",
       "    </tr>\n",
       "    <tr>\n",
       "      <th>3362793</th>\n",
       "      <td>1799</td>\n",
       "      <td>2018-07-22</td>\n",
       "      <td>14:46:57</td>\n",
       "      <td>aeb64fe1fb</td>\n",
       "      <td>350</td>\n",
       "      <td>NaN</td>\n",
       "      <td>6</td>\n",
       "      <td>0</td>\n",
       "    </tr>\n",
       "    <tr>\n",
       "      <th>3362794</th>\n",
       "      <td>1799</td>\n",
       "      <td>2018-07-25</td>\n",
       "      <td>18:09:13</td>\n",
       "      <td>57932602d6</td>\n",
       "      <td>300</td>\n",
       "      <td>NaN</td>\n",
       "      <td>2</td>\n",
       "      <td>0</td>\n",
       "    </tr>\n",
       "    <tr>\n",
       "      <th>3362795</th>\n",
       "      <td>1799</td>\n",
       "      <td>2018-07-30</td>\n",
       "      <td>10:58:53</td>\n",
       "      <td>42d354807a</td>\n",
       "      <td>325</td>\n",
       "      <td>NaN</td>\n",
       "      <td>0</td>\n",
       "      <td>0</td>\n",
       "    </tr>\n",
       "  </tbody>\n",
       "</table>\n",
       "</div>"
      ],
      "text/plain": [
       "         store_id        date      time     card_id  amount  installments  \\\n",
       "3362791      1799  2018-07-19  17:58:31  e254bf70d9     600           NaN   \n",
       "3362792      1799  2018-07-19  18:54:34  8f41c89891     275           NaN   \n",
       "3362793      1799  2018-07-22  14:46:57  aeb64fe1fb     350           NaN   \n",
       "3362794      1799  2018-07-25  18:09:13  57932602d6     300           NaN   \n",
       "3362795      1799  2018-07-30  10:58:53  42d354807a     325           NaN   \n",
       "\n",
       "         days_of_week  holyday  \n",
       "3362791             3        0  \n",
       "3362792             3        0  \n",
       "3362793             6        0  \n",
       "3362794             2        0  \n",
       "3362795             0        0  "
      ]
     },
     "execution_count": 58,
     "metadata": {},
     "output_type": "execute_result"
    }
   ],
   "source": [
    "train.tail()"
   ]
  },
  {
   "cell_type": "code",
   "execution_count": 59,
   "metadata": {},
   "outputs": [
    {
     "data": {
      "text/plain": [
       "(3362796, 8)"
      ]
     },
     "execution_count": 59,
     "metadata": {},
     "output_type": "execute_result"
    }
   ],
   "source": [
    "# 변수 8개 관측치는 약 330만개로 관측치에 비해 변수가 적은편이다.\n",
    "train.shape"
   ]
  },
  {
   "cell_type": "code",
   "execution_count": 60,
   "metadata": {},
   "outputs": [
    {
     "name": "stdout",
     "output_type": "stream",
     "text": [
      "<class 'pandas.core.frame.DataFrame'>\n",
      "RangeIndex: 3362796 entries, 0 to 3362795\n",
      "Data columns (total 8 columns):\n",
      " #   Column        Dtype  \n",
      "---  ------        -----  \n",
      " 0   store_id      int64  \n",
      " 1   date          object \n",
      " 2   time          object \n",
      " 3   card_id       object \n",
      " 4   amount        int64  \n",
      " 5   installments  float64\n",
      " 6   days_of_week  int64  \n",
      " 7   holyday       int64  \n",
      "dtypes: float64(1), int64(4), object(3)\n",
      "memory usage: 205.2+ MB\n"
     ]
    }
   ],
   "source": [
    "# 데이터 정보\n",
    "# store_id :각 파일에서의 상점 고유 번호.\n",
    "# date : 거래 일자\n",
    "# time :거래 시간\n",
    "# card_id :카드 번호의 hash 값\n",
    "# amount :매출액\n",
    "# installments : 할부개월수. 일시불은 빈 문자열\n",
    "# days_of_week : 요일, 월요일이 0, 일요일은 6\n",
    "# holiday : 0이면 공휴일 아님, 1이면 공휴일\n",
    "# 여기서 매출액은 원화가 아닙니다.\n",
    "train.info()"
   ]
  },
  {
   "cell_type": "code",
   "execution_count": 61,
   "metadata": {},
   "outputs": [
    {
     "data": {
      "text/html": [
       "<div>\n",
       "<style scoped>\n",
       "    .dataframe tbody tr th:only-of-type {\n",
       "        vertical-align: middle;\n",
       "    }\n",
       "\n",
       "    .dataframe tbody tr th {\n",
       "        vertical-align: top;\n",
       "    }\n",
       "\n",
       "    .dataframe thead th {\n",
       "        text-align: right;\n",
       "    }\n",
       "</style>\n",
       "<table border=\"1\" class=\"dataframe\">\n",
       "  <thead>\n",
       "    <tr style=\"text-align: right;\">\n",
       "      <th></th>\n",
       "      <th>Columns</th>\n",
       "      <th>Unique_value</th>\n",
       "    </tr>\n",
       "  </thead>\n",
       "  <tbody>\n",
       "    <tr>\n",
       "      <th>0</th>\n",
       "      <td>store_id</td>\n",
       "      <td>1775</td>\n",
       "    </tr>\n",
       "    <tr>\n",
       "      <th>1</th>\n",
       "      <td>date</td>\n",
       "      <td>730</td>\n",
       "    </tr>\n",
       "    <tr>\n",
       "      <th>2</th>\n",
       "      <td>time</td>\n",
       "      <td>85924</td>\n",
       "    </tr>\n",
       "    <tr>\n",
       "      <th>3</th>\n",
       "      <td>card_id</td>\n",
       "      <td>922522</td>\n",
       "    </tr>\n",
       "    <tr>\n",
       "      <th>4</th>\n",
       "      <td>amount</td>\n",
       "      <td>6031</td>\n",
       "    </tr>\n",
       "    <tr>\n",
       "      <th>5</th>\n",
       "      <td>installments</td>\n",
       "      <td>17</td>\n",
       "    </tr>\n",
       "    <tr>\n",
       "      <th>6</th>\n",
       "      <td>days_of_week</td>\n",
       "      <td>7</td>\n",
       "    </tr>\n",
       "    <tr>\n",
       "      <th>7</th>\n",
       "      <td>holyday</td>\n",
       "      <td>2</td>\n",
       "    </tr>\n",
       "  </tbody>\n",
       "</table>\n",
       "</div>"
      ],
      "text/plain": [
       "        Columns  Unique_value\n",
       "0      store_id          1775\n",
       "1          date           730\n",
       "2          time         85924\n",
       "3       card_id        922522\n",
       "4        amount          6031\n",
       "5  installments            17\n",
       "6  days_of_week             7\n",
       "7       holyday             2"
      ]
     },
     "execution_count": 61,
     "metadata": {},
     "output_type": "execute_result"
    }
   ],
   "source": [
    "# 데이터 유니크 값 개수 확인\n",
    "# 2년동안 1775개의 상점에서 922522개의 신용카드가 조사된 것을 알 수 있다.\n",
    "train_unique = []\n",
    "for i in train.columns.values:\n",
    "    train_unique.append(len(train[i].unique()))\n",
    "unique_train = pd.DataFrame()\n",
    "unique_train['Columns'] = list(train.columns)\n",
    "unique_train['Unique_value'] = train_unique\n",
    "unique_train"
   ]
  },
  {
   "cell_type": "code",
   "execution_count": 62,
   "metadata": {},
   "outputs": [
    {
     "data": {
      "application/vnd.plotly.v1+json": {
       "config": {
        "linkText": "Export to plot.ly",
        "plotlyServerURL": "https://plot.ly",
        "showLink": false
       },
       "data": [
        {
         "name": "유니크 값",
         "opacity": 0.8,
         "type": "bar",
         "x": [
          "store_id",
          "date",
          "time",
          "card_id",
          "amount",
          "installments",
          "days_of_week",
          "holyday"
         ],
         "y": [
          1775,
          730,
          85924,
          922522,
          6031,
          17,
          7,
          2
         ]
        }
       ],
       "layout": {
        "showlegend": true,
        "template": {
         "data": {
          "bar": [
           {
            "error_x": {
             "color": "#2a3f5f"
            },
            "error_y": {
             "color": "#2a3f5f"
            },
            "marker": {
             "line": {
              "color": "#E5ECF6",
              "width": 0.5
             }
            },
            "type": "bar"
           }
          ],
          "barpolar": [
           {
            "marker": {
             "line": {
              "color": "#E5ECF6",
              "width": 0.5
             }
            },
            "type": "barpolar"
           }
          ],
          "carpet": [
           {
            "aaxis": {
             "endlinecolor": "#2a3f5f",
             "gridcolor": "white",
             "linecolor": "white",
             "minorgridcolor": "white",
             "startlinecolor": "#2a3f5f"
            },
            "baxis": {
             "endlinecolor": "#2a3f5f",
             "gridcolor": "white",
             "linecolor": "white",
             "minorgridcolor": "white",
             "startlinecolor": "#2a3f5f"
            },
            "type": "carpet"
           }
          ],
          "choropleth": [
           {
            "colorbar": {
             "outlinewidth": 0,
             "ticks": ""
            },
            "type": "choropleth"
           }
          ],
          "contour": [
           {
            "colorbar": {
             "outlinewidth": 0,
             "ticks": ""
            },
            "colorscale": [
             [
              0,
              "#0d0887"
             ],
             [
              0.1111111111111111,
              "#46039f"
             ],
             [
              0.2222222222222222,
              "#7201a8"
             ],
             [
              0.3333333333333333,
              "#9c179e"
             ],
             [
              0.4444444444444444,
              "#bd3786"
             ],
             [
              0.5555555555555556,
              "#d8576b"
             ],
             [
              0.6666666666666666,
              "#ed7953"
             ],
             [
              0.7777777777777778,
              "#fb9f3a"
             ],
             [
              0.8888888888888888,
              "#fdca26"
             ],
             [
              1,
              "#f0f921"
             ]
            ],
            "type": "contour"
           }
          ],
          "contourcarpet": [
           {
            "colorbar": {
             "outlinewidth": 0,
             "ticks": ""
            },
            "type": "contourcarpet"
           }
          ],
          "heatmap": [
           {
            "colorbar": {
             "outlinewidth": 0,
             "ticks": ""
            },
            "colorscale": [
             [
              0,
              "#0d0887"
             ],
             [
              0.1111111111111111,
              "#46039f"
             ],
             [
              0.2222222222222222,
              "#7201a8"
             ],
             [
              0.3333333333333333,
              "#9c179e"
             ],
             [
              0.4444444444444444,
              "#bd3786"
             ],
             [
              0.5555555555555556,
              "#d8576b"
             ],
             [
              0.6666666666666666,
              "#ed7953"
             ],
             [
              0.7777777777777778,
              "#fb9f3a"
             ],
             [
              0.8888888888888888,
              "#fdca26"
             ],
             [
              1,
              "#f0f921"
             ]
            ],
            "type": "heatmap"
           }
          ],
          "heatmapgl": [
           {
            "colorbar": {
             "outlinewidth": 0,
             "ticks": ""
            },
            "colorscale": [
             [
              0,
              "#0d0887"
             ],
             [
              0.1111111111111111,
              "#46039f"
             ],
             [
              0.2222222222222222,
              "#7201a8"
             ],
             [
              0.3333333333333333,
              "#9c179e"
             ],
             [
              0.4444444444444444,
              "#bd3786"
             ],
             [
              0.5555555555555556,
              "#d8576b"
             ],
             [
              0.6666666666666666,
              "#ed7953"
             ],
             [
              0.7777777777777778,
              "#fb9f3a"
             ],
             [
              0.8888888888888888,
              "#fdca26"
             ],
             [
              1,
              "#f0f921"
             ]
            ],
            "type": "heatmapgl"
           }
          ],
          "histogram": [
           {
            "marker": {
             "colorbar": {
              "outlinewidth": 0,
              "ticks": ""
             }
            },
            "type": "histogram"
           }
          ],
          "histogram2d": [
           {
            "colorbar": {
             "outlinewidth": 0,
             "ticks": ""
            },
            "colorscale": [
             [
              0,
              "#0d0887"
             ],
             [
              0.1111111111111111,
              "#46039f"
             ],
             [
              0.2222222222222222,
              "#7201a8"
             ],
             [
              0.3333333333333333,
              "#9c179e"
             ],
             [
              0.4444444444444444,
              "#bd3786"
             ],
             [
              0.5555555555555556,
              "#d8576b"
             ],
             [
              0.6666666666666666,
              "#ed7953"
             ],
             [
              0.7777777777777778,
              "#fb9f3a"
             ],
             [
              0.8888888888888888,
              "#fdca26"
             ],
             [
              1,
              "#f0f921"
             ]
            ],
            "type": "histogram2d"
           }
          ],
          "histogram2dcontour": [
           {
            "colorbar": {
             "outlinewidth": 0,
             "ticks": ""
            },
            "colorscale": [
             [
              0,
              "#0d0887"
             ],
             [
              0.1111111111111111,
              "#46039f"
             ],
             [
              0.2222222222222222,
              "#7201a8"
             ],
             [
              0.3333333333333333,
              "#9c179e"
             ],
             [
              0.4444444444444444,
              "#bd3786"
             ],
             [
              0.5555555555555556,
              "#d8576b"
             ],
             [
              0.6666666666666666,
              "#ed7953"
             ],
             [
              0.7777777777777778,
              "#fb9f3a"
             ],
             [
              0.8888888888888888,
              "#fdca26"
             ],
             [
              1,
              "#f0f921"
             ]
            ],
            "type": "histogram2dcontour"
           }
          ],
          "mesh3d": [
           {
            "colorbar": {
             "outlinewidth": 0,
             "ticks": ""
            },
            "type": "mesh3d"
           }
          ],
          "parcoords": [
           {
            "line": {
             "colorbar": {
              "outlinewidth": 0,
              "ticks": ""
             }
            },
            "type": "parcoords"
           }
          ],
          "pie": [
           {
            "automargin": true,
            "type": "pie"
           }
          ],
          "scatter": [
           {
            "marker": {
             "colorbar": {
              "outlinewidth": 0,
              "ticks": ""
             }
            },
            "type": "scatter"
           }
          ],
          "scatter3d": [
           {
            "line": {
             "colorbar": {
              "outlinewidth": 0,
              "ticks": ""
             }
            },
            "marker": {
             "colorbar": {
              "outlinewidth": 0,
              "ticks": ""
             }
            },
            "type": "scatter3d"
           }
          ],
          "scattercarpet": [
           {
            "marker": {
             "colorbar": {
              "outlinewidth": 0,
              "ticks": ""
             }
            },
            "type": "scattercarpet"
           }
          ],
          "scattergeo": [
           {
            "marker": {
             "colorbar": {
              "outlinewidth": 0,
              "ticks": ""
             }
            },
            "type": "scattergeo"
           }
          ],
          "scattergl": [
           {
            "marker": {
             "colorbar": {
              "outlinewidth": 0,
              "ticks": ""
             }
            },
            "type": "scattergl"
           }
          ],
          "scattermapbox": [
           {
            "marker": {
             "colorbar": {
              "outlinewidth": 0,
              "ticks": ""
             }
            },
            "type": "scattermapbox"
           }
          ],
          "scatterpolar": [
           {
            "marker": {
             "colorbar": {
              "outlinewidth": 0,
              "ticks": ""
             }
            },
            "type": "scatterpolar"
           }
          ],
          "scatterpolargl": [
           {
            "marker": {
             "colorbar": {
              "outlinewidth": 0,
              "ticks": ""
             }
            },
            "type": "scatterpolargl"
           }
          ],
          "scatterternary": [
           {
            "marker": {
             "colorbar": {
              "outlinewidth": 0,
              "ticks": ""
             }
            },
            "type": "scatterternary"
           }
          ],
          "surface": [
           {
            "colorbar": {
             "outlinewidth": 0,
             "ticks": ""
            },
            "colorscale": [
             [
              0,
              "#0d0887"
             ],
             [
              0.1111111111111111,
              "#46039f"
             ],
             [
              0.2222222222222222,
              "#7201a8"
             ],
             [
              0.3333333333333333,
              "#9c179e"
             ],
             [
              0.4444444444444444,
              "#bd3786"
             ],
             [
              0.5555555555555556,
              "#d8576b"
             ],
             [
              0.6666666666666666,
              "#ed7953"
             ],
             [
              0.7777777777777778,
              "#fb9f3a"
             ],
             [
              0.8888888888888888,
              "#fdca26"
             ],
             [
              1,
              "#f0f921"
             ]
            ],
            "type": "surface"
           }
          ],
          "table": [
           {
            "cells": {
             "fill": {
              "color": "#EBF0F8"
             },
             "line": {
              "color": "white"
             }
            },
            "header": {
             "fill": {
              "color": "#C8D4E3"
             },
             "line": {
              "color": "white"
             }
            },
            "type": "table"
           }
          ]
         },
         "layout": {
          "annotationdefaults": {
           "arrowcolor": "#2a3f5f",
           "arrowhead": 0,
           "arrowwidth": 1
          },
          "coloraxis": {
           "colorbar": {
            "outlinewidth": 0,
            "ticks": ""
           }
          },
          "colorscale": {
           "diverging": [
            [
             0,
             "#8e0152"
            ],
            [
             0.1,
             "#c51b7d"
            ],
            [
             0.2,
             "#de77ae"
            ],
            [
             0.3,
             "#f1b6da"
            ],
            [
             0.4,
             "#fde0ef"
            ],
            [
             0.5,
             "#f7f7f7"
            ],
            [
             0.6,
             "#e6f5d0"
            ],
            [
             0.7,
             "#b8e186"
            ],
            [
             0.8,
             "#7fbc41"
            ],
            [
             0.9,
             "#4d9221"
            ],
            [
             1,
             "#276419"
            ]
           ],
           "sequential": [
            [
             0,
             "#0d0887"
            ],
            [
             0.1111111111111111,
             "#46039f"
            ],
            [
             0.2222222222222222,
             "#7201a8"
            ],
            [
             0.3333333333333333,
             "#9c179e"
            ],
            [
             0.4444444444444444,
             "#bd3786"
            ],
            [
             0.5555555555555556,
             "#d8576b"
            ],
            [
             0.6666666666666666,
             "#ed7953"
            ],
            [
             0.7777777777777778,
             "#fb9f3a"
            ],
            [
             0.8888888888888888,
             "#fdca26"
            ],
            [
             1,
             "#f0f921"
            ]
           ],
           "sequentialminus": [
            [
             0,
             "#0d0887"
            ],
            [
             0.1111111111111111,
             "#46039f"
            ],
            [
             0.2222222222222222,
             "#7201a8"
            ],
            [
             0.3333333333333333,
             "#9c179e"
            ],
            [
             0.4444444444444444,
             "#bd3786"
            ],
            [
             0.5555555555555556,
             "#d8576b"
            ],
            [
             0.6666666666666666,
             "#ed7953"
            ],
            [
             0.7777777777777778,
             "#fb9f3a"
            ],
            [
             0.8888888888888888,
             "#fdca26"
            ],
            [
             1,
             "#f0f921"
            ]
           ]
          },
          "colorway": [
           "#636efa",
           "#EF553B",
           "#00cc96",
           "#ab63fa",
           "#FFA15A",
           "#19d3f3",
           "#FF6692",
           "#B6E880",
           "#FF97FF",
           "#FECB52"
          ],
          "font": {
           "color": "#2a3f5f"
          },
          "geo": {
           "bgcolor": "white",
           "lakecolor": "white",
           "landcolor": "#E5ECF6",
           "showlakes": true,
           "showland": true,
           "subunitcolor": "white"
          },
          "hoverlabel": {
           "align": "left"
          },
          "hovermode": "closest",
          "mapbox": {
           "style": "light"
          },
          "paper_bgcolor": "white",
          "plot_bgcolor": "#E5ECF6",
          "polar": {
           "angularaxis": {
            "gridcolor": "white",
            "linecolor": "white",
            "ticks": ""
           },
           "bgcolor": "#E5ECF6",
           "radialaxis": {
            "gridcolor": "white",
            "linecolor": "white",
            "ticks": ""
           }
          },
          "scene": {
           "xaxis": {
            "backgroundcolor": "#E5ECF6",
            "gridcolor": "white",
            "gridwidth": 2,
            "linecolor": "white",
            "showbackground": true,
            "ticks": "",
            "zerolinecolor": "white"
           },
           "yaxis": {
            "backgroundcolor": "#E5ECF6",
            "gridcolor": "white",
            "gridwidth": 2,
            "linecolor": "white",
            "showbackground": true,
            "ticks": "",
            "zerolinecolor": "white"
           },
           "zaxis": {
            "backgroundcolor": "#E5ECF6",
            "gridcolor": "white",
            "gridwidth": 2,
            "linecolor": "white",
            "showbackground": true,
            "ticks": "",
            "zerolinecolor": "white"
           }
          },
          "shapedefaults": {
           "line": {
            "color": "#2a3f5f"
           }
          },
          "ternary": {
           "aaxis": {
            "gridcolor": "white",
            "linecolor": "white",
            "ticks": ""
           },
           "baxis": {
            "gridcolor": "white",
            "linecolor": "white",
            "ticks": ""
           },
           "bgcolor": "#E5ECF6",
           "caxis": {
            "gridcolor": "white",
            "linecolor": "white",
            "ticks": ""
           }
          },
          "title": {
           "x": 0.05
          },
          "xaxis": {
           "automargin": true,
           "gridcolor": "white",
           "linecolor": "white",
           "ticks": "",
           "title": {
            "standoff": 15
           },
           "zerolinecolor": "white",
           "zerolinewidth": 2
          },
          "yaxis": {
           "automargin": true,
           "gridcolor": "white",
           "linecolor": "white",
           "ticks": "",
           "title": {
            "standoff": 15
           },
           "zerolinecolor": "white",
           "zerolinewidth": 2
          }
         }
        },
        "title": {
         "text": "컬럼별 유니크 값 개수"
        },
        "xaxis": {
         "gridwidth": 2,
         "ticklen": 5,
         "title": {
          "text": " "
         },
         "zeroline": false
        },
        "yaxis": {
         "gridwidth": 2,
         "ticklen": 5,
         "title": {
          "text": "개수"
         }
        }
       }
      },
      "text/html": [
       "<div>                            <div id=\"428e9121-61d1-4f30-809e-d12a97cd14b0\" class=\"plotly-graph-div\" style=\"height:525px; width:100%;\"></div>            <script type=\"text/javascript\">                require([\"plotly\"], function(Plotly) {                    window.PLOTLYENV=window.PLOTLYENV || {};                                    if (document.getElementById(\"428e9121-61d1-4f30-809e-d12a97cd14b0\")) {                    Plotly.newPlot(                        \"428e9121-61d1-4f30-809e-d12a97cd14b0\",                        [{\"name\": \"\\uc720\\ub2c8\\ud06c \\uac12\", \"opacity\": 0.8, \"type\": \"bar\", \"x\": [\"store_id\", \"date\", \"time\", \"card_id\", \"amount\", \"installments\", \"days_of_week\", \"holyday\"], \"y\": [1775, 730, 85924, 922522, 6031, 17, 7, 2]}],                        {\"showlegend\": true, \"template\": {\"data\": {\"bar\": [{\"error_x\": {\"color\": \"#2a3f5f\"}, \"error_y\": {\"color\": \"#2a3f5f\"}, \"marker\": {\"line\": {\"color\": \"#E5ECF6\", \"width\": 0.5}}, \"type\": \"bar\"}], \"barpolar\": [{\"marker\": {\"line\": {\"color\": \"#E5ECF6\", \"width\": 0.5}}, \"type\": \"barpolar\"}], \"carpet\": [{\"aaxis\": {\"endlinecolor\": \"#2a3f5f\", \"gridcolor\": \"white\", \"linecolor\": \"white\", \"minorgridcolor\": \"white\", \"startlinecolor\": \"#2a3f5f\"}, \"baxis\": {\"endlinecolor\": \"#2a3f5f\", \"gridcolor\": \"white\", \"linecolor\": \"white\", \"minorgridcolor\": \"white\", \"startlinecolor\": \"#2a3f5f\"}, \"type\": \"carpet\"}], \"choropleth\": [{\"colorbar\": {\"outlinewidth\": 0, \"ticks\": \"\"}, \"type\": \"choropleth\"}], \"contour\": [{\"colorbar\": {\"outlinewidth\": 0, \"ticks\": \"\"}, \"colorscale\": [[0.0, \"#0d0887\"], [0.1111111111111111, \"#46039f\"], [0.2222222222222222, \"#7201a8\"], [0.3333333333333333, \"#9c179e\"], [0.4444444444444444, \"#bd3786\"], [0.5555555555555556, \"#d8576b\"], [0.6666666666666666, \"#ed7953\"], [0.7777777777777778, \"#fb9f3a\"], [0.8888888888888888, \"#fdca26\"], [1.0, \"#f0f921\"]], \"type\": \"contour\"}], \"contourcarpet\": [{\"colorbar\": {\"outlinewidth\": 0, \"ticks\": \"\"}, \"type\": \"contourcarpet\"}], \"heatmap\": [{\"colorbar\": {\"outlinewidth\": 0, \"ticks\": \"\"}, \"colorscale\": [[0.0, \"#0d0887\"], [0.1111111111111111, \"#46039f\"], [0.2222222222222222, \"#7201a8\"], [0.3333333333333333, \"#9c179e\"], [0.4444444444444444, \"#bd3786\"], [0.5555555555555556, \"#d8576b\"], [0.6666666666666666, \"#ed7953\"], [0.7777777777777778, \"#fb9f3a\"], [0.8888888888888888, \"#fdca26\"], [1.0, \"#f0f921\"]], \"type\": \"heatmap\"}], \"heatmapgl\": [{\"colorbar\": {\"outlinewidth\": 0, \"ticks\": \"\"}, \"colorscale\": [[0.0, \"#0d0887\"], [0.1111111111111111, \"#46039f\"], [0.2222222222222222, \"#7201a8\"], [0.3333333333333333, \"#9c179e\"], [0.4444444444444444, \"#bd3786\"], [0.5555555555555556, \"#d8576b\"], [0.6666666666666666, \"#ed7953\"], [0.7777777777777778, \"#fb9f3a\"], [0.8888888888888888, \"#fdca26\"], [1.0, \"#f0f921\"]], \"type\": \"heatmapgl\"}], \"histogram\": [{\"marker\": {\"colorbar\": {\"outlinewidth\": 0, \"ticks\": \"\"}}, \"type\": \"histogram\"}], \"histogram2d\": [{\"colorbar\": {\"outlinewidth\": 0, \"ticks\": \"\"}, \"colorscale\": [[0.0, \"#0d0887\"], [0.1111111111111111, \"#46039f\"], [0.2222222222222222, \"#7201a8\"], [0.3333333333333333, \"#9c179e\"], [0.4444444444444444, \"#bd3786\"], [0.5555555555555556, \"#d8576b\"], [0.6666666666666666, \"#ed7953\"], [0.7777777777777778, \"#fb9f3a\"], [0.8888888888888888, \"#fdca26\"], [1.0, \"#f0f921\"]], \"type\": \"histogram2d\"}], \"histogram2dcontour\": [{\"colorbar\": {\"outlinewidth\": 0, \"ticks\": \"\"}, \"colorscale\": [[0.0, \"#0d0887\"], [0.1111111111111111, \"#46039f\"], [0.2222222222222222, \"#7201a8\"], [0.3333333333333333, \"#9c179e\"], [0.4444444444444444, \"#bd3786\"], [0.5555555555555556, \"#d8576b\"], [0.6666666666666666, \"#ed7953\"], [0.7777777777777778, \"#fb9f3a\"], [0.8888888888888888, \"#fdca26\"], [1.0, \"#f0f921\"]], \"type\": \"histogram2dcontour\"}], \"mesh3d\": [{\"colorbar\": {\"outlinewidth\": 0, \"ticks\": \"\"}, \"type\": \"mesh3d\"}], \"parcoords\": [{\"line\": {\"colorbar\": {\"outlinewidth\": 0, \"ticks\": \"\"}}, \"type\": \"parcoords\"}], \"pie\": [{\"automargin\": true, \"type\": \"pie\"}], \"scatter\": [{\"marker\": {\"colorbar\": {\"outlinewidth\": 0, \"ticks\": \"\"}}, \"type\": \"scatter\"}], \"scatter3d\": [{\"line\": {\"colorbar\": {\"outlinewidth\": 0, \"ticks\": \"\"}}, \"marker\": {\"colorbar\": {\"outlinewidth\": 0, \"ticks\": \"\"}}, \"type\": \"scatter3d\"}], \"scattercarpet\": [{\"marker\": {\"colorbar\": {\"outlinewidth\": 0, \"ticks\": \"\"}}, \"type\": \"scattercarpet\"}], \"scattergeo\": [{\"marker\": {\"colorbar\": {\"outlinewidth\": 0, \"ticks\": \"\"}}, \"type\": \"scattergeo\"}], \"scattergl\": [{\"marker\": {\"colorbar\": {\"outlinewidth\": 0, \"ticks\": \"\"}}, \"type\": \"scattergl\"}], \"scattermapbox\": [{\"marker\": {\"colorbar\": {\"outlinewidth\": 0, \"ticks\": \"\"}}, \"type\": \"scattermapbox\"}], \"scatterpolar\": [{\"marker\": {\"colorbar\": {\"outlinewidth\": 0, \"ticks\": \"\"}}, \"type\": \"scatterpolar\"}], \"scatterpolargl\": [{\"marker\": {\"colorbar\": {\"outlinewidth\": 0, \"ticks\": \"\"}}, \"type\": \"scatterpolargl\"}], \"scatterternary\": [{\"marker\": {\"colorbar\": {\"outlinewidth\": 0, \"ticks\": \"\"}}, \"type\": \"scatterternary\"}], \"surface\": [{\"colorbar\": {\"outlinewidth\": 0, \"ticks\": \"\"}, \"colorscale\": [[0.0, \"#0d0887\"], [0.1111111111111111, \"#46039f\"], [0.2222222222222222, \"#7201a8\"], [0.3333333333333333, \"#9c179e\"], [0.4444444444444444, \"#bd3786\"], [0.5555555555555556, \"#d8576b\"], [0.6666666666666666, \"#ed7953\"], [0.7777777777777778, \"#fb9f3a\"], [0.8888888888888888, \"#fdca26\"], [1.0, \"#f0f921\"]], \"type\": \"surface\"}], \"table\": [{\"cells\": {\"fill\": {\"color\": \"#EBF0F8\"}, \"line\": {\"color\": \"white\"}}, \"header\": {\"fill\": {\"color\": \"#C8D4E3\"}, \"line\": {\"color\": \"white\"}}, \"type\": \"table\"}]}, \"layout\": {\"annotationdefaults\": {\"arrowcolor\": \"#2a3f5f\", \"arrowhead\": 0, \"arrowwidth\": 1}, \"coloraxis\": {\"colorbar\": {\"outlinewidth\": 0, \"ticks\": \"\"}}, \"colorscale\": {\"diverging\": [[0, \"#8e0152\"], [0.1, \"#c51b7d\"], [0.2, \"#de77ae\"], [0.3, \"#f1b6da\"], [0.4, \"#fde0ef\"], [0.5, \"#f7f7f7\"], [0.6, \"#e6f5d0\"], [0.7, \"#b8e186\"], [0.8, \"#7fbc41\"], [0.9, \"#4d9221\"], [1, \"#276419\"]], \"sequential\": [[0.0, \"#0d0887\"], [0.1111111111111111, \"#46039f\"], [0.2222222222222222, \"#7201a8\"], [0.3333333333333333, \"#9c179e\"], [0.4444444444444444, \"#bd3786\"], [0.5555555555555556, \"#d8576b\"], [0.6666666666666666, \"#ed7953\"], [0.7777777777777778, \"#fb9f3a\"], [0.8888888888888888, \"#fdca26\"], [1.0, \"#f0f921\"]], \"sequentialminus\": [[0.0, \"#0d0887\"], [0.1111111111111111, \"#46039f\"], [0.2222222222222222, \"#7201a8\"], [0.3333333333333333, \"#9c179e\"], [0.4444444444444444, \"#bd3786\"], [0.5555555555555556, \"#d8576b\"], [0.6666666666666666, \"#ed7953\"], [0.7777777777777778, \"#fb9f3a\"], [0.8888888888888888, \"#fdca26\"], [1.0, \"#f0f921\"]]}, \"colorway\": [\"#636efa\", \"#EF553B\", \"#00cc96\", \"#ab63fa\", \"#FFA15A\", \"#19d3f3\", \"#FF6692\", \"#B6E880\", \"#FF97FF\", \"#FECB52\"], \"font\": {\"color\": \"#2a3f5f\"}, \"geo\": {\"bgcolor\": \"white\", \"lakecolor\": \"white\", \"landcolor\": \"#E5ECF6\", \"showlakes\": true, \"showland\": true, \"subunitcolor\": \"white\"}, \"hoverlabel\": {\"align\": \"left\"}, \"hovermode\": \"closest\", \"mapbox\": {\"style\": \"light\"}, \"paper_bgcolor\": \"white\", \"plot_bgcolor\": \"#E5ECF6\", \"polar\": {\"angularaxis\": {\"gridcolor\": \"white\", \"linecolor\": \"white\", \"ticks\": \"\"}, \"bgcolor\": \"#E5ECF6\", \"radialaxis\": {\"gridcolor\": \"white\", \"linecolor\": \"white\", \"ticks\": \"\"}}, \"scene\": {\"xaxis\": {\"backgroundcolor\": \"#E5ECF6\", \"gridcolor\": \"white\", \"gridwidth\": 2, \"linecolor\": \"white\", \"showbackground\": true, \"ticks\": \"\", \"zerolinecolor\": \"white\"}, \"yaxis\": {\"backgroundcolor\": \"#E5ECF6\", \"gridcolor\": \"white\", \"gridwidth\": 2, \"linecolor\": \"white\", \"showbackground\": true, \"ticks\": \"\", \"zerolinecolor\": \"white\"}, \"zaxis\": {\"backgroundcolor\": \"#E5ECF6\", \"gridcolor\": \"white\", \"gridwidth\": 2, \"linecolor\": \"white\", \"showbackground\": true, \"ticks\": \"\", \"zerolinecolor\": \"white\"}}, \"shapedefaults\": {\"line\": {\"color\": \"#2a3f5f\"}}, \"ternary\": {\"aaxis\": {\"gridcolor\": \"white\", \"linecolor\": \"white\", \"ticks\": \"\"}, \"baxis\": {\"gridcolor\": \"white\", \"linecolor\": \"white\", \"ticks\": \"\"}, \"bgcolor\": \"#E5ECF6\", \"caxis\": {\"gridcolor\": \"white\", \"linecolor\": \"white\", \"ticks\": \"\"}}, \"title\": {\"x\": 0.05}, \"xaxis\": {\"automargin\": true, \"gridcolor\": \"white\", \"linecolor\": \"white\", \"ticks\": \"\", \"title\": {\"standoff\": 15}, \"zerolinecolor\": \"white\", \"zerolinewidth\": 2}, \"yaxis\": {\"automargin\": true, \"gridcolor\": \"white\", \"linecolor\": \"white\", \"ticks\": \"\", \"title\": {\"standoff\": 15}, \"zerolinecolor\": \"white\", \"zerolinewidth\": 2}}}, \"title\": {\"text\": \"\\uceec\\ub7fc\\ubcc4 \\uc720\\ub2c8\\ud06c \\uac12 \\uac1c\\uc218\"}, \"xaxis\": {\"gridwidth\": 2, \"ticklen\": 5, \"title\": {\"text\": \" \"}, \"zeroline\": false}, \"yaxis\": {\"gridwidth\": 2, \"ticklen\": 5, \"title\": {\"text\": \"\\uac1c\\uc218\"}}},                        {\"responsive\": true}                    ).then(function(){\n",
       "                            \n",
       "var gd = document.getElementById('428e9121-61d1-4f30-809e-d12a97cd14b0');\n",
       "var x = new MutationObserver(function (mutations, observer) {{\n",
       "        var display = window.getComputedStyle(gd).display;\n",
       "        if (!display || display === 'none') {{\n",
       "            console.log([gd, 'removed!']);\n",
       "            Plotly.purge(gd);\n",
       "            observer.disconnect();\n",
       "        }}\n",
       "}});\n",
       "\n",
       "// Listen for the removal of the full notebook cells\n",
       "var notebookContainer = gd.closest('#notebook-container');\n",
       "if (notebookContainer) {{\n",
       "    x.observe(notebookContainer, {childList: true});\n",
       "}}\n",
       "\n",
       "// Listen for the clearing of the current output cell\n",
       "var outputEl = gd.closest('.output');\n",
       "if (outputEl) {{\n",
       "    x.observe(outputEl, {childList: true});\n",
       "}}\n",
       "\n",
       "                        })                };                });            </script>        </div>"
      ]
     },
     "metadata": {},
     "output_type": "display_data"
    }
   ],
   "source": [
    "# 유니크 값 개수 그래프로 확인\n",
    "data = [go.Bar(x = unique_train['Columns'], y = unique_train['Unique_value'], name = \"유니크 값\", opacity = 0.8)]\n",
    "layout= go.Layout(title= \"컬럼별 유니크 값 개수\", xaxis= dict(title=' ', ticklen=5, zeroline=False, gridwidth=2), yaxis= dict(title='개수', ticklen=5, gridwidth=2), showlegend=True)\n",
    "fig = go.Figure(data=data, layout=layout)\n",
    "py.iplot(fig, filename='컬럼별 유니크 값 개수')"
   ]
  },
  {
   "cell_type": "code",
   "execution_count": 63,
   "metadata": {},
   "outputs": [
    {
     "data": {
      "text/plain": [
       "store_id        3362796\n",
       "date            3362796\n",
       "time            3362796\n",
       "card_id         3362796\n",
       "amount          3362796\n",
       "installments      16860\n",
       "days_of_week    3362796\n",
       "holyday         3362796\n",
       "dtype: int64"
      ]
     },
     "execution_count": 63,
     "metadata": {},
     "output_type": "execute_result"
    }
   ],
   "source": [
    "# installments 컬럼에 결측치가 3345936개 있는 것 확인\n",
    "\n",
    "train.count()"
   ]
  },
  {
   "cell_type": "code",
   "execution_count": 64,
   "metadata": {},
   "outputs": [
    {
     "data": {
      "application/vnd.plotly.v1+json": {
       "config": {
        "linkText": "Export to plot.ly",
        "plotlyServerURL": "https://plot.ly",
        "showLink": false
       },
       "data": [
        {
         "name": "결측치",
         "opacity": 0.8,
         "type": "bar",
         "x": [
          "store_id",
          "date",
          "time",
          "card_id",
          "amount",
          "installments",
          "days_of_week",
          "holyday"
         ],
         "y": [
          0,
          0,
          0,
          0,
          0,
          3345936,
          0,
          0
         ]
        }
       ],
       "layout": {
        "showlegend": true,
        "template": {
         "data": {
          "bar": [
           {
            "error_x": {
             "color": "#2a3f5f"
            },
            "error_y": {
             "color": "#2a3f5f"
            },
            "marker": {
             "line": {
              "color": "#E5ECF6",
              "width": 0.5
             }
            },
            "type": "bar"
           }
          ],
          "barpolar": [
           {
            "marker": {
             "line": {
              "color": "#E5ECF6",
              "width": 0.5
             }
            },
            "type": "barpolar"
           }
          ],
          "carpet": [
           {
            "aaxis": {
             "endlinecolor": "#2a3f5f",
             "gridcolor": "white",
             "linecolor": "white",
             "minorgridcolor": "white",
             "startlinecolor": "#2a3f5f"
            },
            "baxis": {
             "endlinecolor": "#2a3f5f",
             "gridcolor": "white",
             "linecolor": "white",
             "minorgridcolor": "white",
             "startlinecolor": "#2a3f5f"
            },
            "type": "carpet"
           }
          ],
          "choropleth": [
           {
            "colorbar": {
             "outlinewidth": 0,
             "ticks": ""
            },
            "type": "choropleth"
           }
          ],
          "contour": [
           {
            "colorbar": {
             "outlinewidth": 0,
             "ticks": ""
            },
            "colorscale": [
             [
              0,
              "#0d0887"
             ],
             [
              0.1111111111111111,
              "#46039f"
             ],
             [
              0.2222222222222222,
              "#7201a8"
             ],
             [
              0.3333333333333333,
              "#9c179e"
             ],
             [
              0.4444444444444444,
              "#bd3786"
             ],
             [
              0.5555555555555556,
              "#d8576b"
             ],
             [
              0.6666666666666666,
              "#ed7953"
             ],
             [
              0.7777777777777778,
              "#fb9f3a"
             ],
             [
              0.8888888888888888,
              "#fdca26"
             ],
             [
              1,
              "#f0f921"
             ]
            ],
            "type": "contour"
           }
          ],
          "contourcarpet": [
           {
            "colorbar": {
             "outlinewidth": 0,
             "ticks": ""
            },
            "type": "contourcarpet"
           }
          ],
          "heatmap": [
           {
            "colorbar": {
             "outlinewidth": 0,
             "ticks": ""
            },
            "colorscale": [
             [
              0,
              "#0d0887"
             ],
             [
              0.1111111111111111,
              "#46039f"
             ],
             [
              0.2222222222222222,
              "#7201a8"
             ],
             [
              0.3333333333333333,
              "#9c179e"
             ],
             [
              0.4444444444444444,
              "#bd3786"
             ],
             [
              0.5555555555555556,
              "#d8576b"
             ],
             [
              0.6666666666666666,
              "#ed7953"
             ],
             [
              0.7777777777777778,
              "#fb9f3a"
             ],
             [
              0.8888888888888888,
              "#fdca26"
             ],
             [
              1,
              "#f0f921"
             ]
            ],
            "type": "heatmap"
           }
          ],
          "heatmapgl": [
           {
            "colorbar": {
             "outlinewidth": 0,
             "ticks": ""
            },
            "colorscale": [
             [
              0,
              "#0d0887"
             ],
             [
              0.1111111111111111,
              "#46039f"
             ],
             [
              0.2222222222222222,
              "#7201a8"
             ],
             [
              0.3333333333333333,
              "#9c179e"
             ],
             [
              0.4444444444444444,
              "#bd3786"
             ],
             [
              0.5555555555555556,
              "#d8576b"
             ],
             [
              0.6666666666666666,
              "#ed7953"
             ],
             [
              0.7777777777777778,
              "#fb9f3a"
             ],
             [
              0.8888888888888888,
              "#fdca26"
             ],
             [
              1,
              "#f0f921"
             ]
            ],
            "type": "heatmapgl"
           }
          ],
          "histogram": [
           {
            "marker": {
             "colorbar": {
              "outlinewidth": 0,
              "ticks": ""
             }
            },
            "type": "histogram"
           }
          ],
          "histogram2d": [
           {
            "colorbar": {
             "outlinewidth": 0,
             "ticks": ""
            },
            "colorscale": [
             [
              0,
              "#0d0887"
             ],
             [
              0.1111111111111111,
              "#46039f"
             ],
             [
              0.2222222222222222,
              "#7201a8"
             ],
             [
              0.3333333333333333,
              "#9c179e"
             ],
             [
              0.4444444444444444,
              "#bd3786"
             ],
             [
              0.5555555555555556,
              "#d8576b"
             ],
             [
              0.6666666666666666,
              "#ed7953"
             ],
             [
              0.7777777777777778,
              "#fb9f3a"
             ],
             [
              0.8888888888888888,
              "#fdca26"
             ],
             [
              1,
              "#f0f921"
             ]
            ],
            "type": "histogram2d"
           }
          ],
          "histogram2dcontour": [
           {
            "colorbar": {
             "outlinewidth": 0,
             "ticks": ""
            },
            "colorscale": [
             [
              0,
              "#0d0887"
             ],
             [
              0.1111111111111111,
              "#46039f"
             ],
             [
              0.2222222222222222,
              "#7201a8"
             ],
             [
              0.3333333333333333,
              "#9c179e"
             ],
             [
              0.4444444444444444,
              "#bd3786"
             ],
             [
              0.5555555555555556,
              "#d8576b"
             ],
             [
              0.6666666666666666,
              "#ed7953"
             ],
             [
              0.7777777777777778,
              "#fb9f3a"
             ],
             [
              0.8888888888888888,
              "#fdca26"
             ],
             [
              1,
              "#f0f921"
             ]
            ],
            "type": "histogram2dcontour"
           }
          ],
          "mesh3d": [
           {
            "colorbar": {
             "outlinewidth": 0,
             "ticks": ""
            },
            "type": "mesh3d"
           }
          ],
          "parcoords": [
           {
            "line": {
             "colorbar": {
              "outlinewidth": 0,
              "ticks": ""
             }
            },
            "type": "parcoords"
           }
          ],
          "pie": [
           {
            "automargin": true,
            "type": "pie"
           }
          ],
          "scatter": [
           {
            "marker": {
             "colorbar": {
              "outlinewidth": 0,
              "ticks": ""
             }
            },
            "type": "scatter"
           }
          ],
          "scatter3d": [
           {
            "line": {
             "colorbar": {
              "outlinewidth": 0,
              "ticks": ""
             }
            },
            "marker": {
             "colorbar": {
              "outlinewidth": 0,
              "ticks": ""
             }
            },
            "type": "scatter3d"
           }
          ],
          "scattercarpet": [
           {
            "marker": {
             "colorbar": {
              "outlinewidth": 0,
              "ticks": ""
             }
            },
            "type": "scattercarpet"
           }
          ],
          "scattergeo": [
           {
            "marker": {
             "colorbar": {
              "outlinewidth": 0,
              "ticks": ""
             }
            },
            "type": "scattergeo"
           }
          ],
          "scattergl": [
           {
            "marker": {
             "colorbar": {
              "outlinewidth": 0,
              "ticks": ""
             }
            },
            "type": "scattergl"
           }
          ],
          "scattermapbox": [
           {
            "marker": {
             "colorbar": {
              "outlinewidth": 0,
              "ticks": ""
             }
            },
            "type": "scattermapbox"
           }
          ],
          "scatterpolar": [
           {
            "marker": {
             "colorbar": {
              "outlinewidth": 0,
              "ticks": ""
             }
            },
            "type": "scatterpolar"
           }
          ],
          "scatterpolargl": [
           {
            "marker": {
             "colorbar": {
              "outlinewidth": 0,
              "ticks": ""
             }
            },
            "type": "scatterpolargl"
           }
          ],
          "scatterternary": [
           {
            "marker": {
             "colorbar": {
              "outlinewidth": 0,
              "ticks": ""
             }
            },
            "type": "scatterternary"
           }
          ],
          "surface": [
           {
            "colorbar": {
             "outlinewidth": 0,
             "ticks": ""
            },
            "colorscale": [
             [
              0,
              "#0d0887"
             ],
             [
              0.1111111111111111,
              "#46039f"
             ],
             [
              0.2222222222222222,
              "#7201a8"
             ],
             [
              0.3333333333333333,
              "#9c179e"
             ],
             [
              0.4444444444444444,
              "#bd3786"
             ],
             [
              0.5555555555555556,
              "#d8576b"
             ],
             [
              0.6666666666666666,
              "#ed7953"
             ],
             [
              0.7777777777777778,
              "#fb9f3a"
             ],
             [
              0.8888888888888888,
              "#fdca26"
             ],
             [
              1,
              "#f0f921"
             ]
            ],
            "type": "surface"
           }
          ],
          "table": [
           {
            "cells": {
             "fill": {
              "color": "#EBF0F8"
             },
             "line": {
              "color": "white"
             }
            },
            "header": {
             "fill": {
              "color": "#C8D4E3"
             },
             "line": {
              "color": "white"
             }
            },
            "type": "table"
           }
          ]
         },
         "layout": {
          "annotationdefaults": {
           "arrowcolor": "#2a3f5f",
           "arrowhead": 0,
           "arrowwidth": 1
          },
          "coloraxis": {
           "colorbar": {
            "outlinewidth": 0,
            "ticks": ""
           }
          },
          "colorscale": {
           "diverging": [
            [
             0,
             "#8e0152"
            ],
            [
             0.1,
             "#c51b7d"
            ],
            [
             0.2,
             "#de77ae"
            ],
            [
             0.3,
             "#f1b6da"
            ],
            [
             0.4,
             "#fde0ef"
            ],
            [
             0.5,
             "#f7f7f7"
            ],
            [
             0.6,
             "#e6f5d0"
            ],
            [
             0.7,
             "#b8e186"
            ],
            [
             0.8,
             "#7fbc41"
            ],
            [
             0.9,
             "#4d9221"
            ],
            [
             1,
             "#276419"
            ]
           ],
           "sequential": [
            [
             0,
             "#0d0887"
            ],
            [
             0.1111111111111111,
             "#46039f"
            ],
            [
             0.2222222222222222,
             "#7201a8"
            ],
            [
             0.3333333333333333,
             "#9c179e"
            ],
            [
             0.4444444444444444,
             "#bd3786"
            ],
            [
             0.5555555555555556,
             "#d8576b"
            ],
            [
             0.6666666666666666,
             "#ed7953"
            ],
            [
             0.7777777777777778,
             "#fb9f3a"
            ],
            [
             0.8888888888888888,
             "#fdca26"
            ],
            [
             1,
             "#f0f921"
            ]
           ],
           "sequentialminus": [
            [
             0,
             "#0d0887"
            ],
            [
             0.1111111111111111,
             "#46039f"
            ],
            [
             0.2222222222222222,
             "#7201a8"
            ],
            [
             0.3333333333333333,
             "#9c179e"
            ],
            [
             0.4444444444444444,
             "#bd3786"
            ],
            [
             0.5555555555555556,
             "#d8576b"
            ],
            [
             0.6666666666666666,
             "#ed7953"
            ],
            [
             0.7777777777777778,
             "#fb9f3a"
            ],
            [
             0.8888888888888888,
             "#fdca26"
            ],
            [
             1,
             "#f0f921"
            ]
           ]
          },
          "colorway": [
           "#636efa",
           "#EF553B",
           "#00cc96",
           "#ab63fa",
           "#FFA15A",
           "#19d3f3",
           "#FF6692",
           "#B6E880",
           "#FF97FF",
           "#FECB52"
          ],
          "font": {
           "color": "#2a3f5f"
          },
          "geo": {
           "bgcolor": "white",
           "lakecolor": "white",
           "landcolor": "#E5ECF6",
           "showlakes": true,
           "showland": true,
           "subunitcolor": "white"
          },
          "hoverlabel": {
           "align": "left"
          },
          "hovermode": "closest",
          "mapbox": {
           "style": "light"
          },
          "paper_bgcolor": "white",
          "plot_bgcolor": "#E5ECF6",
          "polar": {
           "angularaxis": {
            "gridcolor": "white",
            "linecolor": "white",
            "ticks": ""
           },
           "bgcolor": "#E5ECF6",
           "radialaxis": {
            "gridcolor": "white",
            "linecolor": "white",
            "ticks": ""
           }
          },
          "scene": {
           "xaxis": {
            "backgroundcolor": "#E5ECF6",
            "gridcolor": "white",
            "gridwidth": 2,
            "linecolor": "white",
            "showbackground": true,
            "ticks": "",
            "zerolinecolor": "white"
           },
           "yaxis": {
            "backgroundcolor": "#E5ECF6",
            "gridcolor": "white",
            "gridwidth": 2,
            "linecolor": "white",
            "showbackground": true,
            "ticks": "",
            "zerolinecolor": "white"
           },
           "zaxis": {
            "backgroundcolor": "#E5ECF6",
            "gridcolor": "white",
            "gridwidth": 2,
            "linecolor": "white",
            "showbackground": true,
            "ticks": "",
            "zerolinecolor": "white"
           }
          },
          "shapedefaults": {
           "line": {
            "color": "#2a3f5f"
           }
          },
          "ternary": {
           "aaxis": {
            "gridcolor": "white",
            "linecolor": "white",
            "ticks": ""
           },
           "baxis": {
            "gridcolor": "white",
            "linecolor": "white",
            "ticks": ""
           },
           "bgcolor": "#E5ECF6",
           "caxis": {
            "gridcolor": "white",
            "linecolor": "white",
            "ticks": ""
           }
          },
          "title": {
           "x": 0.05
          },
          "xaxis": {
           "automargin": true,
           "gridcolor": "white",
           "linecolor": "white",
           "ticks": "",
           "title": {
            "standoff": 15
           },
           "zerolinecolor": "white",
           "zerolinewidth": 2
          },
          "yaxis": {
           "automargin": true,
           "gridcolor": "white",
           "linecolor": "white",
           "ticks": "",
           "title": {
            "standoff": 15
           },
           "zerolinecolor": "white",
           "zerolinewidth": 2
          }
         }
        },
        "title": {
         "text": "결측치 개수"
        },
        "xaxis": {
         "gridwidth": 2,
         "ticklen": 5,
         "title": {
          "text": " "
         },
         "zeroline": false
        },
        "yaxis": {
         "gridwidth": 2,
         "ticklen": 5,
         "title": {
          "text": "결측치 개수"
         }
        }
       }
      },
      "text/html": [
       "<div>                            <div id=\"7c143f5f-0df9-4ab9-9ce9-02d69ef13dee\" class=\"plotly-graph-div\" style=\"height:525px; width:100%;\"></div>            <script type=\"text/javascript\">                require([\"plotly\"], function(Plotly) {                    window.PLOTLYENV=window.PLOTLYENV || {};                                    if (document.getElementById(\"7c143f5f-0df9-4ab9-9ce9-02d69ef13dee\")) {                    Plotly.newPlot(                        \"7c143f5f-0df9-4ab9-9ce9-02d69ef13dee\",                        [{\"name\": \"\\uacb0\\uce21\\uce58\", \"opacity\": 0.8, \"type\": \"bar\", \"x\": [\"store_id\", \"date\", \"time\", \"card_id\", \"amount\", \"installments\", \"days_of_week\", \"holyday\"], \"y\": [0, 0, 0, 0, 0, 3345936, 0, 0]}],                        {\"showlegend\": true, \"template\": {\"data\": {\"bar\": [{\"error_x\": {\"color\": \"#2a3f5f\"}, \"error_y\": {\"color\": \"#2a3f5f\"}, \"marker\": {\"line\": {\"color\": \"#E5ECF6\", \"width\": 0.5}}, \"type\": \"bar\"}], \"barpolar\": [{\"marker\": {\"line\": {\"color\": \"#E5ECF6\", \"width\": 0.5}}, \"type\": \"barpolar\"}], \"carpet\": [{\"aaxis\": {\"endlinecolor\": \"#2a3f5f\", \"gridcolor\": \"white\", \"linecolor\": \"white\", \"minorgridcolor\": \"white\", \"startlinecolor\": \"#2a3f5f\"}, \"baxis\": {\"endlinecolor\": \"#2a3f5f\", \"gridcolor\": \"white\", \"linecolor\": \"white\", \"minorgridcolor\": \"white\", \"startlinecolor\": \"#2a3f5f\"}, \"type\": \"carpet\"}], \"choropleth\": [{\"colorbar\": {\"outlinewidth\": 0, \"ticks\": \"\"}, \"type\": \"choropleth\"}], \"contour\": [{\"colorbar\": {\"outlinewidth\": 0, \"ticks\": \"\"}, \"colorscale\": [[0.0, \"#0d0887\"], [0.1111111111111111, \"#46039f\"], [0.2222222222222222, \"#7201a8\"], [0.3333333333333333, \"#9c179e\"], [0.4444444444444444, \"#bd3786\"], [0.5555555555555556, \"#d8576b\"], [0.6666666666666666, \"#ed7953\"], [0.7777777777777778, \"#fb9f3a\"], [0.8888888888888888, \"#fdca26\"], [1.0, \"#f0f921\"]], \"type\": \"contour\"}], \"contourcarpet\": [{\"colorbar\": {\"outlinewidth\": 0, \"ticks\": \"\"}, \"type\": \"contourcarpet\"}], \"heatmap\": [{\"colorbar\": {\"outlinewidth\": 0, \"ticks\": \"\"}, \"colorscale\": [[0.0, \"#0d0887\"], [0.1111111111111111, \"#46039f\"], [0.2222222222222222, \"#7201a8\"], [0.3333333333333333, \"#9c179e\"], [0.4444444444444444, \"#bd3786\"], [0.5555555555555556, \"#d8576b\"], [0.6666666666666666, \"#ed7953\"], [0.7777777777777778, \"#fb9f3a\"], [0.8888888888888888, \"#fdca26\"], [1.0, \"#f0f921\"]], \"type\": \"heatmap\"}], \"heatmapgl\": [{\"colorbar\": {\"outlinewidth\": 0, \"ticks\": \"\"}, \"colorscale\": [[0.0, \"#0d0887\"], [0.1111111111111111, \"#46039f\"], [0.2222222222222222, \"#7201a8\"], [0.3333333333333333, \"#9c179e\"], [0.4444444444444444, \"#bd3786\"], [0.5555555555555556, \"#d8576b\"], [0.6666666666666666, \"#ed7953\"], [0.7777777777777778, \"#fb9f3a\"], [0.8888888888888888, \"#fdca26\"], [1.0, \"#f0f921\"]], \"type\": \"heatmapgl\"}], \"histogram\": [{\"marker\": {\"colorbar\": {\"outlinewidth\": 0, \"ticks\": \"\"}}, \"type\": \"histogram\"}], \"histogram2d\": [{\"colorbar\": {\"outlinewidth\": 0, \"ticks\": \"\"}, \"colorscale\": [[0.0, \"#0d0887\"], [0.1111111111111111, \"#46039f\"], [0.2222222222222222, \"#7201a8\"], [0.3333333333333333, \"#9c179e\"], [0.4444444444444444, \"#bd3786\"], [0.5555555555555556, \"#d8576b\"], [0.6666666666666666, \"#ed7953\"], [0.7777777777777778, \"#fb9f3a\"], [0.8888888888888888, \"#fdca26\"], [1.0, \"#f0f921\"]], \"type\": \"histogram2d\"}], \"histogram2dcontour\": [{\"colorbar\": {\"outlinewidth\": 0, \"ticks\": \"\"}, \"colorscale\": [[0.0, \"#0d0887\"], [0.1111111111111111, \"#46039f\"], [0.2222222222222222, \"#7201a8\"], [0.3333333333333333, \"#9c179e\"], [0.4444444444444444, \"#bd3786\"], [0.5555555555555556, \"#d8576b\"], [0.6666666666666666, \"#ed7953\"], [0.7777777777777778, \"#fb9f3a\"], [0.8888888888888888, \"#fdca26\"], [1.0, \"#f0f921\"]], \"type\": \"histogram2dcontour\"}], \"mesh3d\": [{\"colorbar\": {\"outlinewidth\": 0, \"ticks\": \"\"}, \"type\": \"mesh3d\"}], \"parcoords\": [{\"line\": {\"colorbar\": {\"outlinewidth\": 0, \"ticks\": \"\"}}, \"type\": \"parcoords\"}], \"pie\": [{\"automargin\": true, \"type\": \"pie\"}], \"scatter\": [{\"marker\": {\"colorbar\": {\"outlinewidth\": 0, \"ticks\": \"\"}}, \"type\": \"scatter\"}], \"scatter3d\": [{\"line\": {\"colorbar\": {\"outlinewidth\": 0, \"ticks\": \"\"}}, \"marker\": {\"colorbar\": {\"outlinewidth\": 0, \"ticks\": \"\"}}, \"type\": \"scatter3d\"}], \"scattercarpet\": [{\"marker\": {\"colorbar\": {\"outlinewidth\": 0, \"ticks\": \"\"}}, \"type\": \"scattercarpet\"}], \"scattergeo\": [{\"marker\": {\"colorbar\": {\"outlinewidth\": 0, \"ticks\": \"\"}}, \"type\": \"scattergeo\"}], \"scattergl\": [{\"marker\": {\"colorbar\": {\"outlinewidth\": 0, \"ticks\": \"\"}}, \"type\": \"scattergl\"}], \"scattermapbox\": [{\"marker\": {\"colorbar\": {\"outlinewidth\": 0, \"ticks\": \"\"}}, \"type\": \"scattermapbox\"}], \"scatterpolar\": [{\"marker\": {\"colorbar\": {\"outlinewidth\": 0, \"ticks\": \"\"}}, \"type\": \"scatterpolar\"}], \"scatterpolargl\": [{\"marker\": {\"colorbar\": {\"outlinewidth\": 0, \"ticks\": \"\"}}, \"type\": \"scatterpolargl\"}], \"scatterternary\": [{\"marker\": {\"colorbar\": {\"outlinewidth\": 0, \"ticks\": \"\"}}, \"type\": \"scatterternary\"}], \"surface\": [{\"colorbar\": {\"outlinewidth\": 0, \"ticks\": \"\"}, \"colorscale\": [[0.0, \"#0d0887\"], [0.1111111111111111, \"#46039f\"], [0.2222222222222222, \"#7201a8\"], [0.3333333333333333, \"#9c179e\"], [0.4444444444444444, \"#bd3786\"], [0.5555555555555556, \"#d8576b\"], [0.6666666666666666, \"#ed7953\"], [0.7777777777777778, \"#fb9f3a\"], [0.8888888888888888, \"#fdca26\"], [1.0, \"#f0f921\"]], \"type\": \"surface\"}], \"table\": [{\"cells\": {\"fill\": {\"color\": \"#EBF0F8\"}, \"line\": {\"color\": \"white\"}}, \"header\": {\"fill\": {\"color\": \"#C8D4E3\"}, \"line\": {\"color\": \"white\"}}, \"type\": \"table\"}]}, \"layout\": {\"annotationdefaults\": {\"arrowcolor\": \"#2a3f5f\", \"arrowhead\": 0, \"arrowwidth\": 1}, \"coloraxis\": {\"colorbar\": {\"outlinewidth\": 0, \"ticks\": \"\"}}, \"colorscale\": {\"diverging\": [[0, \"#8e0152\"], [0.1, \"#c51b7d\"], [0.2, \"#de77ae\"], [0.3, \"#f1b6da\"], [0.4, \"#fde0ef\"], [0.5, \"#f7f7f7\"], [0.6, \"#e6f5d0\"], [0.7, \"#b8e186\"], [0.8, \"#7fbc41\"], [0.9, \"#4d9221\"], [1, \"#276419\"]], \"sequential\": [[0.0, \"#0d0887\"], [0.1111111111111111, \"#46039f\"], [0.2222222222222222, \"#7201a8\"], [0.3333333333333333, \"#9c179e\"], [0.4444444444444444, \"#bd3786\"], [0.5555555555555556, \"#d8576b\"], [0.6666666666666666, \"#ed7953\"], [0.7777777777777778, \"#fb9f3a\"], [0.8888888888888888, \"#fdca26\"], [1.0, \"#f0f921\"]], \"sequentialminus\": [[0.0, \"#0d0887\"], [0.1111111111111111, \"#46039f\"], [0.2222222222222222, \"#7201a8\"], [0.3333333333333333, \"#9c179e\"], [0.4444444444444444, \"#bd3786\"], [0.5555555555555556, \"#d8576b\"], [0.6666666666666666, \"#ed7953\"], [0.7777777777777778, \"#fb9f3a\"], [0.8888888888888888, \"#fdca26\"], [1.0, \"#f0f921\"]]}, \"colorway\": [\"#636efa\", \"#EF553B\", \"#00cc96\", \"#ab63fa\", \"#FFA15A\", \"#19d3f3\", \"#FF6692\", \"#B6E880\", \"#FF97FF\", \"#FECB52\"], \"font\": {\"color\": \"#2a3f5f\"}, \"geo\": {\"bgcolor\": \"white\", \"lakecolor\": \"white\", \"landcolor\": \"#E5ECF6\", \"showlakes\": true, \"showland\": true, \"subunitcolor\": \"white\"}, \"hoverlabel\": {\"align\": \"left\"}, \"hovermode\": \"closest\", \"mapbox\": {\"style\": \"light\"}, \"paper_bgcolor\": \"white\", \"plot_bgcolor\": \"#E5ECF6\", \"polar\": {\"angularaxis\": {\"gridcolor\": \"white\", \"linecolor\": \"white\", \"ticks\": \"\"}, \"bgcolor\": \"#E5ECF6\", \"radialaxis\": {\"gridcolor\": \"white\", \"linecolor\": \"white\", \"ticks\": \"\"}}, \"scene\": {\"xaxis\": {\"backgroundcolor\": \"#E5ECF6\", \"gridcolor\": \"white\", \"gridwidth\": 2, \"linecolor\": \"white\", \"showbackground\": true, \"ticks\": \"\", \"zerolinecolor\": \"white\"}, \"yaxis\": {\"backgroundcolor\": \"#E5ECF6\", \"gridcolor\": \"white\", \"gridwidth\": 2, \"linecolor\": \"white\", \"showbackground\": true, \"ticks\": \"\", \"zerolinecolor\": \"white\"}, \"zaxis\": {\"backgroundcolor\": \"#E5ECF6\", \"gridcolor\": \"white\", \"gridwidth\": 2, \"linecolor\": \"white\", \"showbackground\": true, \"ticks\": \"\", \"zerolinecolor\": \"white\"}}, \"shapedefaults\": {\"line\": {\"color\": \"#2a3f5f\"}}, \"ternary\": {\"aaxis\": {\"gridcolor\": \"white\", \"linecolor\": \"white\", \"ticks\": \"\"}, \"baxis\": {\"gridcolor\": \"white\", \"linecolor\": \"white\", \"ticks\": \"\"}, \"bgcolor\": \"#E5ECF6\", \"caxis\": {\"gridcolor\": \"white\", \"linecolor\": \"white\", \"ticks\": \"\"}}, \"title\": {\"x\": 0.05}, \"xaxis\": {\"automargin\": true, \"gridcolor\": \"white\", \"linecolor\": \"white\", \"ticks\": \"\", \"title\": {\"standoff\": 15}, \"zerolinecolor\": \"white\", \"zerolinewidth\": 2}, \"yaxis\": {\"automargin\": true, \"gridcolor\": \"white\", \"linecolor\": \"white\", \"ticks\": \"\", \"title\": {\"standoff\": 15}, \"zerolinecolor\": \"white\", \"zerolinewidth\": 2}}}, \"title\": {\"text\": \"\\uacb0\\uce21\\uce58 \\uac1c\\uc218\"}, \"xaxis\": {\"gridwidth\": 2, \"ticklen\": 5, \"title\": {\"text\": \" \"}, \"zeroline\": false}, \"yaxis\": {\"gridwidth\": 2, \"ticklen\": 5, \"title\": {\"text\": \"\\uacb0\\uce21\\uce58 \\uac1c\\uc218\"}}},                        {\"responsive\": true}                    ).then(function(){\n",
       "                            \n",
       "var gd = document.getElementById('7c143f5f-0df9-4ab9-9ce9-02d69ef13dee');\n",
       "var x = new MutationObserver(function (mutations, observer) {{\n",
       "        var display = window.getComputedStyle(gd).display;\n",
       "        if (!display || display === 'none') {{\n",
       "            console.log([gd, 'removed!']);\n",
       "            Plotly.purge(gd);\n",
       "            observer.disconnect();\n",
       "        }}\n",
       "}});\n",
       "\n",
       "// Listen for the removal of the full notebook cells\n",
       "var notebookContainer = gd.closest('#notebook-container');\n",
       "if (notebookContainer) {{\n",
       "    x.observe(notebookContainer, {childList: true});\n",
       "}}\n",
       "\n",
       "// Listen for the clearing of the current output cell\n",
       "var outputEl = gd.closest('.output');\n",
       "if (outputEl) {{\n",
       "    x.observe(outputEl, {childList: true});\n",
       "}}\n",
       "\n",
       "                        })                };                });            </script>        </div>"
      ]
     },
     "metadata": {},
     "output_type": "display_data"
    }
   ],
   "source": [
    "# 결측치 그래프로 확인\n",
    "\n",
    "data = [go.Bar(x=train.columns, y=train.isnull().sum(), name=\"결측치\", opacity = 0.8)]\n",
    "layout= go.Layout(title= \"결측치 개수\", xaxis= dict(title=' ', ticklen=5, zeroline=False, gridwidth=2), yaxis= dict(title='결측치 개수', ticklen=5, gridwidth=2), showlegend=True)\n",
    "fig = go.Figure(data=data, layout=layout)\n",
    "py.iplot(fig, filename='결측치 개수')"
   ]
  },
  {
   "cell_type": "code",
   "execution_count": 65,
   "metadata": {},
   "outputs": [],
   "source": [
    "# 결측치가 있다는 것을 확인했으니 결측치를 채우자!\n",
    "# installments에서 결측치는 일시불을 의미하니 1로 채우겠습니다."
   ]
  },
  {
   "cell_type": "code",
   "execution_count": 66,
   "metadata": {},
   "outputs": [],
   "source": [
    "train[\"installments\"] = train[\"installments\"].fillna(1)"
   ]
  },
  {
   "cell_type": "code",
   "execution_count": 67,
   "metadata": {},
   "outputs": [
    {
     "data": {
      "text/plain": [
       "store_id        3362796\n",
       "date            3362796\n",
       "time            3362796\n",
       "card_id         3362796\n",
       "amount          3362796\n",
       "installments    3362796\n",
       "days_of_week    3362796\n",
       "holyday         3362796\n",
       "dtype: int64"
      ]
     },
     "execution_count": 67,
     "metadata": {},
     "output_type": "execute_result"
    }
   ],
   "source": [
    "# 결측치를 채웠으니 다시 확인해보자!\n",
    "train.count()"
   ]
  },
  {
   "cell_type": "code",
   "execution_count": 68,
   "metadata": {},
   "outputs": [
    {
     "data": {
      "text/html": [
       "<div>\n",
       "<style scoped>\n",
       "    .dataframe tbody tr th:only-of-type {\n",
       "        vertical-align: middle;\n",
       "    }\n",
       "\n",
       "    .dataframe tbody tr th {\n",
       "        vertical-align: top;\n",
       "    }\n",
       "\n",
       "    .dataframe thead th {\n",
       "        text-align: right;\n",
       "    }\n",
       "</style>\n",
       "<table border=\"1\" class=\"dataframe\">\n",
       "  <thead>\n",
       "    <tr style=\"text-align: right;\">\n",
       "      <th></th>\n",
       "      <th>store_id</th>\n",
       "      <th>date</th>\n",
       "      <th>time</th>\n",
       "      <th>card_id</th>\n",
       "      <th>amount</th>\n",
       "      <th>installments</th>\n",
       "      <th>days_of_week</th>\n",
       "      <th>holyday</th>\n",
       "    </tr>\n",
       "  </thead>\n",
       "  <tbody>\n",
       "    <tr>\n",
       "      <th>3362791</th>\n",
       "      <td>1799</td>\n",
       "      <td>2018-07-19</td>\n",
       "      <td>17:58:31</td>\n",
       "      <td>e254bf70d9</td>\n",
       "      <td>600</td>\n",
       "      <td>1.0</td>\n",
       "      <td>3</td>\n",
       "      <td>0</td>\n",
       "    </tr>\n",
       "    <tr>\n",
       "      <th>3362792</th>\n",
       "      <td>1799</td>\n",
       "      <td>2018-07-19</td>\n",
       "      <td>18:54:34</td>\n",
       "      <td>8f41c89891</td>\n",
       "      <td>275</td>\n",
       "      <td>1.0</td>\n",
       "      <td>3</td>\n",
       "      <td>0</td>\n",
       "    </tr>\n",
       "    <tr>\n",
       "      <th>3362793</th>\n",
       "      <td>1799</td>\n",
       "      <td>2018-07-22</td>\n",
       "      <td>14:46:57</td>\n",
       "      <td>aeb64fe1fb</td>\n",
       "      <td>350</td>\n",
       "      <td>1.0</td>\n",
       "      <td>6</td>\n",
       "      <td>0</td>\n",
       "    </tr>\n",
       "    <tr>\n",
       "      <th>3362794</th>\n",
       "      <td>1799</td>\n",
       "      <td>2018-07-25</td>\n",
       "      <td>18:09:13</td>\n",
       "      <td>57932602d6</td>\n",
       "      <td>300</td>\n",
       "      <td>1.0</td>\n",
       "      <td>2</td>\n",
       "      <td>0</td>\n",
       "    </tr>\n",
       "    <tr>\n",
       "      <th>3362795</th>\n",
       "      <td>1799</td>\n",
       "      <td>2018-07-30</td>\n",
       "      <td>10:58:53</td>\n",
       "      <td>42d354807a</td>\n",
       "      <td>325</td>\n",
       "      <td>1.0</td>\n",
       "      <td>0</td>\n",
       "      <td>0</td>\n",
       "    </tr>\n",
       "  </tbody>\n",
       "</table>\n",
       "</div>"
      ],
      "text/plain": [
       "         store_id        date      time     card_id  amount  installments  \\\n",
       "3362791      1799  2018-07-19  17:58:31  e254bf70d9     600           1.0   \n",
       "3362792      1799  2018-07-19  18:54:34  8f41c89891     275           1.0   \n",
       "3362793      1799  2018-07-22  14:46:57  aeb64fe1fb     350           1.0   \n",
       "3362794      1799  2018-07-25  18:09:13  57932602d6     300           1.0   \n",
       "3362795      1799  2018-07-30  10:58:53  42d354807a     325           1.0   \n",
       "\n",
       "         days_of_week  holyday  \n",
       "3362791             3        0  \n",
       "3362792             3        0  \n",
       "3362793             6        0  \n",
       "3362794             2        0  \n",
       "3362795             0        0  "
      ]
     },
     "execution_count": 68,
     "metadata": {},
     "output_type": "execute_result"
    }
   ],
   "source": [
    "# installments가 채워진 것을 확인할 수 있다.\n",
    "train.tail()"
   ]
  },
  {
   "cell_type": "code",
   "execution_count": 69,
   "metadata": {},
   "outputs": [
    {
     "data": {
      "text/html": [
       "<div>\n",
       "<style scoped>\n",
       "    .dataframe tbody tr th:only-of-type {\n",
       "        vertical-align: middle;\n",
       "    }\n",
       "\n",
       "    .dataframe tbody tr th {\n",
       "        vertical-align: top;\n",
       "    }\n",
       "\n",
       "    .dataframe thead th {\n",
       "        text-align: right;\n",
       "    }\n",
       "</style>\n",
       "<table border=\"1\" class=\"dataframe\">\n",
       "  <thead>\n",
       "    <tr style=\"text-align: right;\">\n",
       "      <th></th>\n",
       "      <th>store_id</th>\n",
       "      <th>amount</th>\n",
       "      <th>installments</th>\n",
       "      <th>days_of_week</th>\n",
       "      <th>holyday</th>\n",
       "    </tr>\n",
       "  </thead>\n",
       "  <tbody>\n",
       "    <tr>\n",
       "      <th>count</th>\n",
       "      <td>3.362796e+06</td>\n",
       "      <td>3.362796e+06</td>\n",
       "      <td>3.362796e+06</td>\n",
       "      <td>3.362796e+06</td>\n",
       "      <td>3.362796e+06</td>\n",
       "    </tr>\n",
       "    <tr>\n",
       "      <th>mean</th>\n",
       "      <td>8.323770e+02</td>\n",
       "      <td>1.459623e+02</td>\n",
       "      <td>1.012331e+00</td>\n",
       "      <td>3.066320e+00</td>\n",
       "      <td>4.431283e-02</td>\n",
       "    </tr>\n",
       "    <tr>\n",
       "      <th>std</th>\n",
       "      <td>5.468544e+02</td>\n",
       "      <td>6.017306e+02</td>\n",
       "      <td>2.421382e-01</td>\n",
       "      <td>1.976153e+00</td>\n",
       "      <td>2.057892e-01</td>\n",
       "    </tr>\n",
       "    <tr>\n",
       "      <th>min</th>\n",
       "      <td>0.000000e+00</td>\n",
       "      <td>-2.500000e+05</td>\n",
       "      <td>1.000000e+00</td>\n",
       "      <td>0.000000e+00</td>\n",
       "      <td>0.000000e+00</td>\n",
       "    </tr>\n",
       "    <tr>\n",
       "      <th>25%</th>\n",
       "      <td>3.350000e+02</td>\n",
       "      <td>3.200000e+01</td>\n",
       "      <td>1.000000e+00</td>\n",
       "      <td>1.000000e+00</td>\n",
       "      <td>0.000000e+00</td>\n",
       "    </tr>\n",
       "    <tr>\n",
       "      <th>50%</th>\n",
       "      <td>8.220000e+02</td>\n",
       "      <td>7.500000e+01</td>\n",
       "      <td>1.000000e+00</td>\n",
       "      <td>3.000000e+00</td>\n",
       "      <td>0.000000e+00</td>\n",
       "    </tr>\n",
       "    <tr>\n",
       "      <th>75%</th>\n",
       "      <td>1.342000e+03</td>\n",
       "      <td>1.500000e+02</td>\n",
       "      <td>1.000000e+00</td>\n",
       "      <td>5.000000e+00</td>\n",
       "      <td>0.000000e+00</td>\n",
       "    </tr>\n",
       "    <tr>\n",
       "      <th>max</th>\n",
       "      <td>1.799000e+03</td>\n",
       "      <td>2.500000e+05</td>\n",
       "      <td>3.600000e+01</td>\n",
       "      <td>6.000000e+00</td>\n",
       "      <td>1.000000e+00</td>\n",
       "    </tr>\n",
       "  </tbody>\n",
       "</table>\n",
       "</div>"
      ],
      "text/plain": [
       "           store_id        amount  installments  days_of_week       holyday\n",
       "count  3.362796e+06  3.362796e+06  3.362796e+06  3.362796e+06  3.362796e+06\n",
       "mean   8.323770e+02  1.459623e+02  1.012331e+00  3.066320e+00  4.431283e-02\n",
       "std    5.468544e+02  6.017306e+02  2.421382e-01  1.976153e+00  2.057892e-01\n",
       "min    0.000000e+00 -2.500000e+05  1.000000e+00  0.000000e+00  0.000000e+00\n",
       "25%    3.350000e+02  3.200000e+01  1.000000e+00  1.000000e+00  0.000000e+00\n",
       "50%    8.220000e+02  7.500000e+01  1.000000e+00  3.000000e+00  0.000000e+00\n",
       "75%    1.342000e+03  1.500000e+02  1.000000e+00  5.000000e+00  0.000000e+00\n",
       "max    1.799000e+03  2.500000e+05  3.600000e+01  6.000000e+00  1.000000e+00"
      ]
     },
     "execution_count": 69,
     "metadata": {},
     "output_type": "execute_result"
    }
   ],
   "source": [
    "train.describe()"
   ]
  },
  {
   "cell_type": "code",
   "execution_count": 70,
   "metadata": {},
   "outputs": [],
   "source": [
    "# amount의 분포를 그래프로 보겠습니다. 이렇게 봐서는 정확하게 파악하기 어려움"
   ]
  },
  {
   "cell_type": "code",
   "execution_count": 71,
   "metadata": {},
   "outputs": [
    {
     "data": {
      "image/png": "[encoded data removed]",
      "text/plain": [
       "<Figure size 720x432 with 1 Axes>"
      ]
     },
     "metadata": {
      "image/png": {
       "height": 375,
       "width": 572
      },
      "needs_background": "light"
     },
     "output_type": "display_data"
    }
   ],
   "source": [
    "plt.figure(figsize=(10, 6))\n",
    "sns.set_style(\"darkgrid\")\n",
    "sns.boxplot(x=train[\"amount\"])\n",
    "plt.show()"
   ]
  },
  {
   "cell_type": "code",
   "execution_count": 72,
   "metadata": {},
   "outputs": [],
   "source": [
    "# amount는 환불 때문에 -값이 생긴 것을 볼 수 있다."
   ]
  },
  {
   "cell_type": "code",
   "execution_count": 73,
   "metadata": {},
   "outputs": [],
   "source": [
    "# 환불 건을 제거하기 위해 날짜와 시간 컬럼을 합친 컬럼을 만들겠습니다.\n",
    "train['datetime'] = pd.to_datetime(train.date + \" \" + train.time, format='%Y-%m-%d %H:%M:%S')"
   ]
  },
  {
   "cell_type": "code",
   "execution_count": 74,
   "metadata": {},
   "outputs": [],
   "source": [
    "##환볼 노이즈를 제거 하는 함수\n",
    "def refund_remove(df):\n",
    "    refund=df[df['amount']<0]\n",
    "    non_refund=df[df['amount']>0]\n",
    "    remove_data=pd.DataFrame()\n",
    "    \n",
    "    for i in tqdm(df.store_id.unique()):\n",
    "        divided_data=non_refund[non_refund['store_id']==i] ##non_refund 스토어 데이터를 스토어별로 나눔\n",
    "        divided_data2=refund[refund['store_id']==i] ##refund 스토어 데이터를 나눔 스토어별로 나눔\n",
    "        \n",
    "        for neg in divided_data2.to_records()[:]: ##환불데이터를 차례대로 검사\n",
    "            refund_store=neg['store_id']\n",
    "            refund_id=neg['card_id'] ## 환불 카드 아이디\n",
    "            refund_datetime=neg['datetime'] ## 환불 시간\n",
    "            refund_amount=abs(neg['amount']) ## 환불액 절대값을 씌움\n",
    "                \n",
    "            ##환불시간 이전의 데이터중 카드이이디와 환불액이 같은 후보 리스트를 뽑는다.\n",
    "            refund_pay_list=divided_data[divided_data['datetime']<=refund_datetime]\n",
    "            refund_pay_list=refund_pay_list[refund_pay_list['card_id']==refund_id]\n",
    "            refund_pay_list=refund_pay_list[refund_pay_list['amount']==refund_amount]\n",
    "                \n",
    "                \n",
    "            #후보리스트가 있으면,카드아이디, 환불액이 같으면서 가장 최근시간을 제거\n",
    "            if(len(refund_pay_list)!=0):\n",
    "                refund_datetime=max(refund_pay_list['datetime']) ##가장 최근 시간을 구한다\n",
    "                remove=divided_data[divided_data['datetime']==refund_datetime] ##가장 최근시간\n",
    "                remove=remove[remove['card_id']==refund_id] ##환불 카드 아이디\n",
    "                remove=remove[remove['amount']==refund_amount] ##환불액\n",
    "                divided_data=divided_data.drop(index=remove.index) #인덱스를 통해 제거\n",
    "                    \n",
    "        ##제거한데이터를 데이터프레임에 추가한다.\n",
    "        remove_data=pd.concat([remove_data,divided_data],axis=0)\n",
    "    \n",
    "    return remove_data"
   ]
  },
  {
   "cell_type": "code",
   "execution_count": null,
   "metadata": {},
   "outputs": [],
   "source": [
    "# 환불한 결제건 지우기\n",
    "train=refund_remove(train)"
   ]
  },
  {
   "cell_type": "code",
   "execution_count": 76,
   "metadata": {},
   "outputs": [
    {
     "data": {
      "image/png": "[encoded data removed]",
      "text/plain": [
       "<Figure size 720x432 with 1 Axes>"
      ]
     },
     "metadata": {
      "image/png": {
       "height": 375,
       "width": 572
      }
     },
     "output_type": "display_data"
    }
   ],
   "source": [
    "# 환불값을 제거한 후의 amount \n",
    "# -값은 정리가 되었으나 너무 격차가 큰 이상치가 1개 있어서 제거하기로 함\n",
    "plt.figure(figsize=(10, 6))\n",
    "sns.set_style(\"darkgrid\")\n",
    "sns.boxplot(x=train[\"amount\"])\n",
    "plt.show()"
   ]
  },
  {
   "cell_type": "code",
   "execution_count": null,
   "metadata": {},
   "outputs": [],
   "source": [
    "train[train[\"amount\"]>200000]"
   ]
  },
  {
   "cell_type": "code",
   "execution_count": null,
   "metadata": {},
   "outputs": [],
   "source": [
    "# 200000이 넘는 이상치 한 개 제거함\n",
    "train = train.drop([700736], axis=0)"
   ]
  },
  {
   "cell_type": "code",
   "execution_count": null,
   "metadata": {},
   "outputs": [],
   "source": [
    "# 이상치 제거 후 amount 분포\n",
    "plt.figure(figsize=(10, 6))\n",
    "sns.set_style(\"darkgrid\")\n",
    "sns.boxplot(x=train[\"amount\"])\n",
    "plt.show()"
   ]
  },
  {
   "cell_type": "code",
   "execution_count": 79,
   "metadata": {},
   "outputs": [],
   "source": [
    "# 월별 매출을 알아보기 위해 컬럼 생성\n",
    "train[\"year-month\"] = train[\"date\"].apply(lambda x: x[:7])"
   ]
  },
  {
   "cell_type": "code",
   "execution_count": 80,
   "metadata": {},
   "outputs": [],
   "source": [
    "# 나머지 컬럼생성을 쉽게 하기위해 \"date\" 타입을 변경\n",
    "train[\"date\"] = train[\"date\"].astype(\"datetime64[ns]\")"
   ]
  },
  {
   "cell_type": "code",
   "execution_count": 130,
   "metadata": {},
   "outputs": [
    {
     "name": "stdout",
     "output_type": "stream",
     "text": [
      "<class 'pandas.core.frame.DataFrame'>\n",
      "RangeIndex: 3294119 entries, 0 to 3294118\n",
      "Data columns (total 15 columns):\n",
      " #   Column        Dtype         \n",
      "---  ------        -----         \n",
      " 0   store_id      int64         \n",
      " 1   date          datetime64[ns]\n",
      " 2   time          object        \n",
      " 3   card_id       object        \n",
      " 4   amount        int64         \n",
      " 5   installments  float64       \n",
      " 6   days_of_week  int64         \n",
      " 7   holyday       int64         \n",
      " 8   year-month    object        \n",
      " 9   datetime      object        \n",
      " 10  year          int64         \n",
      " 11  month         int64         \n",
      " 12  day           int64         \n",
      " 13  hour          int64         \n",
      " 14  weekend       int64         \n",
      "dtypes: datetime64[ns](1), float64(1), int64(9), object(4)\n",
      "memory usage: 377.0+ MB\n"
     ]
    }
   ],
   "source": [
    "# date 타입이 datetime64[ns]로 변경됨\n",
    "train.info()"
   ]
  },
  {
   "cell_type": "code",
   "execution_count": 82,
   "metadata": {},
   "outputs": [],
   "source": [
    "# 현재 데이터로는 월별로 groupby를 할 수 없어 년, 월, 일, 시간, 평일과 주말 컬럼을 새로 만들어 주겠습니다."
   ]
  },
  {
   "cell_type": "code",
   "execution_count": 83,
   "metadata": {},
   "outputs": [],
   "source": [
    "train['date'] = pd.to_datetime(train['date'])\n",
    "train['year'] = train['date'].dt.year\n",
    "train['month'] = train['date'].dt.month\n",
    "train['day'] = train['date'].dt.day\n",
    "\n",
    "\n",
    "train['hour'] = train['time'].apply(lambda x: x[0:2])\n",
    "train['hour'] = train['hour'].astype('int')\n",
    "\n",
    "train['weekend'] = train['days_of_week'].apply(lambda x: 1 if x > 4 else 0)"
   ]
  },
  {
   "cell_type": "code",
   "execution_count": 84,
   "metadata": {},
   "outputs": [
    {
     "data": {
      "text/html": [
       "<div>\n",
       "<style scoped>\n",
       "    .dataframe tbody tr th:only-of-type {\n",
       "        vertical-align: middle;\n",
       "    }\n",
       "\n",
       "    .dataframe tbody tr th {\n",
       "        vertical-align: top;\n",
       "    }\n",
       "\n",
       "    .dataframe thead th {\n",
       "        text-align: right;\n",
       "    }\n",
       "</style>\n",
       "<table border=\"1\" class=\"dataframe\">\n",
       "  <thead>\n",
       "    <tr style=\"text-align: right;\">\n",
       "      <th></th>\n",
       "      <th>store_id</th>\n",
       "      <th>date</th>\n",
       "      <th>time</th>\n",
       "      <th>card_id</th>\n",
       "      <th>amount</th>\n",
       "      <th>installments</th>\n",
       "      <th>days_of_week</th>\n",
       "      <th>holyday</th>\n",
       "      <th>year-month</th>\n",
       "      <th>datetime</th>\n",
       "      <th>year</th>\n",
       "      <th>month</th>\n",
       "      <th>day</th>\n",
       "      <th>hour</th>\n",
       "      <th>weekend</th>\n",
       "    </tr>\n",
       "  </thead>\n",
       "  <tbody>\n",
       "    <tr>\n",
       "      <th>3294114</th>\n",
       "      <td>1799</td>\n",
       "      <td>2018-07-19</td>\n",
       "      <td>17:58:31</td>\n",
       "      <td>e254bf70d9</td>\n",
       "      <td>600</td>\n",
       "      <td>1.0</td>\n",
       "      <td>3</td>\n",
       "      <td>0</td>\n",
       "      <td>2018-07</td>\n",
       "      <td>2018-07-19 17:58:31</td>\n",
       "      <td>2018</td>\n",
       "      <td>7</td>\n",
       "      <td>19</td>\n",
       "      <td>17</td>\n",
       "      <td>0</td>\n",
       "    </tr>\n",
       "    <tr>\n",
       "      <th>3294115</th>\n",
       "      <td>1799</td>\n",
       "      <td>2018-07-19</td>\n",
       "      <td>18:54:34</td>\n",
       "      <td>8f41c89891</td>\n",
       "      <td>275</td>\n",
       "      <td>1.0</td>\n",
       "      <td>3</td>\n",
       "      <td>0</td>\n",
       "      <td>2018-07</td>\n",
       "      <td>2018-07-19 18:54:34</td>\n",
       "      <td>2018</td>\n",
       "      <td>7</td>\n",
       "      <td>19</td>\n",
       "      <td>18</td>\n",
       "      <td>0</td>\n",
       "    </tr>\n",
       "    <tr>\n",
       "      <th>3294116</th>\n",
       "      <td>1799</td>\n",
       "      <td>2018-07-22</td>\n",
       "      <td>14:46:57</td>\n",
       "      <td>aeb64fe1fb</td>\n",
       "      <td>350</td>\n",
       "      <td>1.0</td>\n",
       "      <td>6</td>\n",
       "      <td>0</td>\n",
       "      <td>2018-07</td>\n",
       "      <td>2018-07-22 14:46:57</td>\n",
       "      <td>2018</td>\n",
       "      <td>7</td>\n",
       "      <td>22</td>\n",
       "      <td>14</td>\n",
       "      <td>1</td>\n",
       "    </tr>\n",
       "    <tr>\n",
       "      <th>3294117</th>\n",
       "      <td>1799</td>\n",
       "      <td>2018-07-25</td>\n",
       "      <td>18:09:13</td>\n",
       "      <td>57932602d6</td>\n",
       "      <td>300</td>\n",
       "      <td>1.0</td>\n",
       "      <td>2</td>\n",
       "      <td>0</td>\n",
       "      <td>2018-07</td>\n",
       "      <td>2018-07-25 18:09:13</td>\n",
       "      <td>2018</td>\n",
       "      <td>7</td>\n",
       "      <td>25</td>\n",
       "      <td>18</td>\n",
       "      <td>0</td>\n",
       "    </tr>\n",
       "    <tr>\n",
       "      <th>3294118</th>\n",
       "      <td>1799</td>\n",
       "      <td>2018-07-30</td>\n",
       "      <td>10:58:53</td>\n",
       "      <td>42d354807a</td>\n",
       "      <td>325</td>\n",
       "      <td>1.0</td>\n",
       "      <td>0</td>\n",
       "      <td>0</td>\n",
       "      <td>2018-07</td>\n",
       "      <td>2018-07-30 10:58:53</td>\n",
       "      <td>2018</td>\n",
       "      <td>7</td>\n",
       "      <td>30</td>\n",
       "      <td>10</td>\n",
       "      <td>0</td>\n",
       "    </tr>\n",
       "  </tbody>\n",
       "</table>\n",
       "</div>"
      ],
      "text/plain": [
       "         store_id       date      time     card_id  amount  installments  \\\n",
       "3294114      1799 2018-07-19  17:58:31  e254bf70d9     600           1.0   \n",
       "3294115      1799 2018-07-19  18:54:34  8f41c89891     275           1.0   \n",
       "3294116      1799 2018-07-22  14:46:57  aeb64fe1fb     350           1.0   \n",
       "3294117      1799 2018-07-25  18:09:13  57932602d6     300           1.0   \n",
       "3294118      1799 2018-07-30  10:58:53  42d354807a     325           1.0   \n",
       "\n",
       "         days_of_week  holyday year-month             datetime  year  month  \\\n",
       "3294114             3        0    2018-07  2018-07-19 17:58:31  2018      7   \n",
       "3294115             3        0    2018-07  2018-07-19 18:54:34  2018      7   \n",
       "3294116             6        0    2018-07  2018-07-22 14:46:57  2018      7   \n",
       "3294117             2        0    2018-07  2018-07-25 18:09:13  2018      7   \n",
       "3294118             0        0    2018-07  2018-07-30 10:58:53  2018      7   \n",
       "\n",
       "         day  hour  weekend  \n",
       "3294114   19    17        0  \n",
       "3294115   19    18        0  \n",
       "3294116   22    14        1  \n",
       "3294117   25    18        0  \n",
       "3294118   30    10        0  "
      ]
     },
     "execution_count": 84,
     "metadata": {},
     "output_type": "execute_result"
    }
   ],
   "source": [
    "# 컬럼 생성 확인\n",
    "train.tail()"
   ]
  },
  {
   "cell_type": "code",
   "execution_count": 86,
   "metadata": {},
   "outputs": [],
   "source": [
    "# 전처리도 했고 컬럼을 생성했으니 이제부터 데이터 분석 시작."
   ]
  },
  {
   "cell_type": "code",
   "execution_count": 93,
   "metadata": {},
   "outputs": [
    {
     "data": {
      "text/html": [
       "<div>\n",
       "<style scoped>\n",
       "    .dataframe tbody tr th:only-of-type {\n",
       "        vertical-align: middle;\n",
       "    }\n",
       "\n",
       "    .dataframe tbody tr th {\n",
       "        vertical-align: top;\n",
       "    }\n",
       "\n",
       "    .dataframe thead th {\n",
       "        text-align: right;\n",
       "    }\n",
       "</style>\n",
       "<table border=\"1\" class=\"dataframe\">\n",
       "  <thead>\n",
       "    <tr style=\"text-align: right;\">\n",
       "      <th></th>\n",
       "      <th>year-month</th>\n",
       "      <th>monthly_total_amount</th>\n",
       "    </tr>\n",
       "  </thead>\n",
       "  <tbody>\n",
       "    <tr>\n",
       "      <th>0</th>\n",
       "      <td>2016-08</td>\n",
       "      <td>12745783</td>\n",
       "    </tr>\n",
       "    <tr>\n",
       "      <th>1</th>\n",
       "      <td>2016-09</td>\n",
       "      <td>12447832</td>\n",
       "    </tr>\n",
       "  </tbody>\n",
       "</table>\n",
       "</div>"
      ],
      "text/plain": [
       "  year-month  monthly_total_amount\n",
       "0    2016-08              12745783\n",
       "1    2016-09              12447832"
      ]
     },
     "execution_count": 93,
     "metadata": {},
     "output_type": "execute_result"
    }
   ],
   "source": [
    "# 우선 2년동안 상점들의 월별 매출을 확인해보겠습니다.\n",
    "# 월별 총 매출을 확인해보자\n",
    "monthly_sales = train.groupby(\"year-month\").sum()[\"amount\"].reset_index(name=\"monthly_total_amount\")\n",
    "monthly_sales.head(2)"
   ]
  },
  {
   "cell_type": "code",
   "execution_count": 114,
   "metadata": {},
   "outputs": [
    {
     "data": {
      "text/html": [
       "<div>\n",
       "<style scoped>\n",
       "    .dataframe tbody tr th:only-of-type {\n",
       "        vertical-align: middle;\n",
       "    }\n",
       "\n",
       "    .dataframe tbody tr th {\n",
       "        vertical-align: top;\n",
       "    }\n",
       "\n",
       "    .dataframe thead th {\n",
       "        text-align: right;\n",
       "    }\n",
       "</style>\n",
       "<table border=\"1\" class=\"dataframe\">\n",
       "  <thead>\n",
       "    <tr style=\"text-align: right;\">\n",
       "      <th></th>\n",
       "      <th>year-month</th>\n",
       "      <th>monthly_mean</th>\n",
       "    </tr>\n",
       "  </thead>\n",
       "  <tbody>\n",
       "    <tr>\n",
       "      <th>0</th>\n",
       "      <td>2016-08</td>\n",
       "      <td>145.579576</td>\n",
       "    </tr>\n",
       "    <tr>\n",
       "      <th>1</th>\n",
       "      <td>2016-09</td>\n",
       "      <td>147.531609</td>\n",
       "    </tr>\n",
       "  </tbody>\n",
       "</table>\n",
       "</div>"
      ],
      "text/plain": [
       "  year-month  monthly_mean\n",
       "0    2016-08    145.579576\n",
       "1    2016-09    147.531609"
      ]
     },
     "execution_count": 114,
     "metadata": {},
     "output_type": "execute_result"
    }
   ],
   "source": [
    "monthly_mean = train.groupby(\"year-month\")[\"amount\"].mean().reset_index(name=\"monthly_mean\")\n",
    "monthly_mean.head(2)"
   ]
  },
  {
   "cell_type": "code",
   "execution_count": 113,
   "metadata": {},
   "outputs": [
    {
     "data": {
      "text/html": [
       "<div>\n",
       "<style scoped>\n",
       "    .dataframe tbody tr th:only-of-type {\n",
       "        vertical-align: middle;\n",
       "    }\n",
       "\n",
       "    .dataframe tbody tr th {\n",
       "        vertical-align: top;\n",
       "    }\n",
       "\n",
       "    .dataframe thead th {\n",
       "        text-align: right;\n",
       "    }\n",
       "</style>\n",
       "<table border=\"1\" class=\"dataframe\">\n",
       "  <thead>\n",
       "    <tr style=\"text-align: right;\">\n",
       "      <th></th>\n",
       "      <th>year-month</th>\n",
       "      <th>monthly_count</th>\n",
       "    </tr>\n",
       "  </thead>\n",
       "  <tbody>\n",
       "    <tr>\n",
       "      <th>0</th>\n",
       "      <td>2016-08</td>\n",
       "      <td>87552</td>\n",
       "    </tr>\n",
       "    <tr>\n",
       "      <th>1</th>\n",
       "      <td>2016-09</td>\n",
       "      <td>84374</td>\n",
       "    </tr>\n",
       "  </tbody>\n",
       "</table>\n",
       "</div>"
      ],
      "text/plain": [
       "  year-month  monthly_count\n",
       "0    2016-08          87552\n",
       "1    2016-09          84374"
      ]
     },
     "execution_count": 113,
     "metadata": {},
     "output_type": "execute_result"
    }
   ],
   "source": [
    "# 결제 횟수가 많아지면서 총 매출이 상승함\n",
    "monthly_count = train.groupby(\"year-month\")[\"amount\"].size().reset_index(name=\"monthly_count\") # 상관계수 계산하기\n",
    "monthly_count.head(2)"
   ]
  },
  {
   "cell_type": "code",
   "execution_count": 122,
   "metadata": {},
   "outputs": [
    {
     "data": {
      "text/plain": [
       "0.9826144038929044"
      ]
     },
     "execution_count": 122,
     "metadata": {},
     "output_type": "execute_result"
    }
   ],
   "source": [
    "# 결제횟수와 매출과의 관계를 보았더니 상관계수가 매우 높게 나왔다.\n",
    "np.corrcoef(monthly_sales[\"monthly_total_amount\"], monthly_count[\"monthly_count\"])[0, 1]"
   ]
  },
  {
   "cell_type": "code",
   "execution_count": 123,
   "metadata": {},
   "outputs": [
    {
     "data": {
      "application/vnd.plotly.v1+json": {
       "config": {
        "plotlyServerURL": "https://plot.ly"
       },
       "data": [
        {
         "name": "결제 횟수",
         "type": "scatter",
         "x": [
          "2016-08",
          "2016-09",
          "2016-10",
          "2016-11",
          "2016-12",
          "2017-01",
          "2017-02",
          "2017-03",
          "2017-04",
          "2017-05",
          "2017-06",
          "2017-07",
          "2017-08",
          "2017-09",
          "2017-10",
          "2017-11",
          "2017-12",
          "2018-01",
          "2018-02",
          "2018-03",
          "2018-04",
          "2018-05",
          "2018-06",
          "2018-07"
         ],
         "xaxis": "x",
         "y": [
          87552,
          84374,
          92380,
          86867,
          96062,
          93890,
          94334,
          115564,
          121601,
          129131,
          134885,
          141005,
          146091,
          151792,
          147660,
          148470,
          163462,
          159347,
          150098,
          188156,
          189632,
          195666,
          190294,
          185806
         ],
         "yaxis": "y"
        },
        {
         "marker": {
          "color": "limegreen"
         },
         "name": "월 매출",
         "opacity": 0.9,
         "type": "bar",
         "x": [
          "2016-08",
          "2016-09",
          "2016-10",
          "2016-11",
          "2016-12",
          "2017-01",
          "2017-02",
          "2017-03",
          "2017-04",
          "2017-05",
          "2017-06",
          "2017-07",
          "2017-08",
          "2017-09",
          "2017-10",
          "2017-11",
          "2017-12",
          "2018-01",
          "2018-02",
          "2018-03",
          "2018-04",
          "2018-05",
          "2018-06",
          "2018-07"
         ],
         "xaxis": "x2",
         "y": [
          12745783,
          12447832,
          13653742,
          13552132,
          16739655,
          15462780,
          15386022,
          18117747,
          18538301,
          18958389,
          19303079,
          20519784,
          21103570,
          21719699,
          20990747,
          21928099,
          26499271,
          24013948,
          23177840,
          27843687,
          27447783,
          27960520,
          26392673,
          26139763
         ],
         "yaxis": "y2"
        }
       ],
       "layout": {
        "height": 660,
        "template": {
         "data": {
          "bar": [
           {
            "error_x": {
             "color": "#2a3f5f"
            },
            "error_y": {
             "color": "#2a3f5f"
            },
            "marker": {
             "line": {
              "color": "#E5ECF6",
              "width": 0.5
             }
            },
            "type": "bar"
           }
          ],
          "barpolar": [
           {
            "marker": {
             "line": {
              "color": "#E5ECF6",
              "width": 0.5
             }
            },
            "type": "barpolar"
           }
          ],
          "carpet": [
           {
            "aaxis": {
             "endlinecolor": "#2a3f5f",
             "gridcolor": "white",
             "linecolor": "white",
             "minorgridcolor": "white",
             "startlinecolor": "#2a3f5f"
            },
            "baxis": {
             "endlinecolor": "#2a3f5f",
             "gridcolor": "white",
             "linecolor": "white",
             "minorgridcolor": "white",
             "startlinecolor": "#2a3f5f"
            },
            "type": "carpet"
           }
          ],
          "choropleth": [
           {
            "colorbar": {
             "outlinewidth": 0,
             "ticks": ""
            },
            "type": "choropleth"
           }
          ],
          "contour": [
           {
            "colorbar": {
             "outlinewidth": 0,
             "ticks": ""
            },
            "colorscale": [
             [
              0,
              "#0d0887"
             ],
             [
              0.1111111111111111,
              "#46039f"
             ],
             [
              0.2222222222222222,
              "#7201a8"
             ],
             [
              0.3333333333333333,
              "#9c179e"
             ],
             [
              0.4444444444444444,
              "#bd3786"
             ],
             [
              0.5555555555555556,
              "#d8576b"
             ],
             [
              0.6666666666666666,
              "#ed7953"
             ],
             [
              0.7777777777777778,
              "#fb9f3a"
             ],
             [
              0.8888888888888888,
              "#fdca26"
             ],
             [
              1,
              "#f0f921"
             ]
            ],
            "type": "contour"
           }
          ],
          "contourcarpet": [
           {
            "colorbar": {
             "outlinewidth": 0,
             "ticks": ""
            },
            "type": "contourcarpet"
           }
          ],
          "heatmap": [
           {
            "colorbar": {
             "outlinewidth": 0,
             "ticks": ""
            },
            "colorscale": [
             [
              0,
              "#0d0887"
             ],
             [
              0.1111111111111111,
              "#46039f"
             ],
             [
              0.2222222222222222,
              "#7201a8"
             ],
             [
              0.3333333333333333,
              "#9c179e"
             ],
             [
              0.4444444444444444,
              "#bd3786"
             ],
             [
              0.5555555555555556,
              "#d8576b"
             ],
             [
              0.6666666666666666,
              "#ed7953"
             ],
             [
              0.7777777777777778,
              "#fb9f3a"
             ],
             [
              0.8888888888888888,
              "#fdca26"
             ],
             [
              1,
              "#f0f921"
             ]
            ],
            "type": "heatmap"
           }
          ],
          "heatmapgl": [
           {
            "colorbar": {
             "outlinewidth": 0,
             "ticks": ""
            },
            "colorscale": [
             [
              0,
              "#0d0887"
             ],
             [
              0.1111111111111111,
              "#46039f"
             ],
             [
              0.2222222222222222,
              "#7201a8"
             ],
             [
              0.3333333333333333,
              "#9c179e"
             ],
             [
              0.4444444444444444,
              "#bd3786"
             ],
             [
              0.5555555555555556,
              "#d8576b"
             ],
             [
              0.6666666666666666,
              "#ed7953"
             ],
             [
              0.7777777777777778,
              "#fb9f3a"
             ],
             [
              0.8888888888888888,
              "#fdca26"
             ],
             [
              1,
              "#f0f921"
             ]
            ],
            "type": "heatmapgl"
           }
          ],
          "histogram": [
           {
            "marker": {
             "colorbar": {
              "outlinewidth": 0,
              "ticks": ""
             }
            },
            "type": "histogram"
           }
          ],
          "histogram2d": [
           {
            "colorbar": {
             "outlinewidth": 0,
             "ticks": ""
            },
            "colorscale": [
             [
              0,
              "#0d0887"
             ],
             [
              0.1111111111111111,
              "#46039f"
             ],
             [
              0.2222222222222222,
              "#7201a8"
             ],
             [
              0.3333333333333333,
              "#9c179e"
             ],
             [
              0.4444444444444444,
              "#bd3786"
             ],
             [
              0.5555555555555556,
              "#d8576b"
             ],
             [
              0.6666666666666666,
              "#ed7953"
             ],
             [
              0.7777777777777778,
              "#fb9f3a"
             ],
             [
              0.8888888888888888,
              "#fdca26"
             ],
             [
              1,
              "#f0f921"
             ]
            ],
            "type": "histogram2d"
           }
          ],
          "histogram2dcontour": [
           {
            "colorbar": {
             "outlinewidth": 0,
             "ticks": ""
            },
            "colorscale": [
             [
              0,
              "#0d0887"
             ],
             [
              0.1111111111111111,
              "#46039f"
             ],
             [
              0.2222222222222222,
              "#7201a8"
             ],
             [
              0.3333333333333333,
              "#9c179e"
             ],
             [
              0.4444444444444444,
              "#bd3786"
             ],
             [
              0.5555555555555556,
              "#d8576b"
             ],
             [
              0.6666666666666666,
              "#ed7953"
             ],
             [
              0.7777777777777778,
              "#fb9f3a"
             ],
             [
              0.8888888888888888,
              "#fdca26"
             ],
             [
              1,
              "#f0f921"
             ]
            ],
            "type": "histogram2dcontour"
           }
          ],
          "mesh3d": [
           {
            "colorbar": {
             "outlinewidth": 0,
             "ticks": ""
            },
            "type": "mesh3d"
           }
          ],
          "parcoords": [
           {
            "line": {
             "colorbar": {
              "outlinewidth": 0,
              "ticks": ""
             }
            },
            "type": "parcoords"
           }
          ],
          "pie": [
           {
            "automargin": true,
            "type": "pie"
           }
          ],
          "scatter": [
           {
            "marker": {
             "colorbar": {
              "outlinewidth": 0,
              "ticks": ""
             }
            },
            "type": "scatter"
           }
          ],
          "scatter3d": [
           {
            "line": {
             "colorbar": {
              "outlinewidth": 0,
              "ticks": ""
             }
            },
            "marker": {
             "colorbar": {
              "outlinewidth": 0,
              "ticks": ""
             }
            },
            "type": "scatter3d"
           }
          ],
          "scattercarpet": [
           {
            "marker": {
             "colorbar": {
              "outlinewidth": 0,
              "ticks": ""
             }
            },
            "type": "scattercarpet"
           }
          ],
          "scattergeo": [
           {
            "marker": {
             "colorbar": {
              "outlinewidth": 0,
              "ticks": ""
             }
            },
            "type": "scattergeo"
           }
          ],
          "scattergl": [
           {
            "marker": {
             "colorbar": {
              "outlinewidth": 0,
              "ticks": ""
             }
            },
            "type": "scattergl"
           }
          ],
          "scattermapbox": [
           {
            "marker": {
             "colorbar": {
              "outlinewidth": 0,
              "ticks": ""
             }
            },
            "type": "scattermapbox"
           }
          ],
          "scatterpolar": [
           {
            "marker": {
             "colorbar": {
              "outlinewidth": 0,
              "ticks": ""
             }
            },
            "type": "scatterpolar"
           }
          ],
          "scatterpolargl": [
           {
            "marker": {
             "colorbar": {
              "outlinewidth": 0,
              "ticks": ""
             }
            },
            "type": "scatterpolargl"
           }
          ],
          "scatterternary": [
           {
            "marker": {
             "colorbar": {
              "outlinewidth": 0,
              "ticks": ""
             }
            },
            "type": "scatterternary"
           }
          ],
          "surface": [
           {
            "colorbar": {
             "outlinewidth": 0,
             "ticks": ""
            },
            "colorscale": [
             [
              0,
              "#0d0887"
             ],
             [
              0.1111111111111111,
              "#46039f"
             ],
             [
              0.2222222222222222,
              "#7201a8"
             ],
             [
              0.3333333333333333,
              "#9c179e"
             ],
             [
              0.4444444444444444,
              "#bd3786"
             ],
             [
              0.5555555555555556,
              "#d8576b"
             ],
             [
              0.6666666666666666,
              "#ed7953"
             ],
             [
              0.7777777777777778,
              "#fb9f3a"
             ],
             [
              0.8888888888888888,
              "#fdca26"
             ],
             [
              1,
              "#f0f921"
             ]
            ],
            "type": "surface"
           }
          ],
          "table": [
           {
            "cells": {
             "fill": {
              "color": "#EBF0F8"
             },
             "line": {
              "color": "white"
             }
            },
            "header": {
             "fill": {
              "color": "#C8D4E3"
             },
             "line": {
              "color": "white"
             }
            },
            "type": "table"
           }
          ]
         },
         "layout": {
          "annotationdefaults": {
           "arrowcolor": "#2a3f5f",
           "arrowhead": 0,
           "arrowwidth": 1
          },
          "coloraxis": {
           "colorbar": {
            "outlinewidth": 0,
            "ticks": ""
           }
          },
          "colorscale": {
           "diverging": [
            [
             0,
             "#8e0152"
            ],
            [
             0.1,
             "#c51b7d"
            ],
            [
             0.2,
             "#de77ae"
            ],
            [
             0.3,
             "#f1b6da"
            ],
            [
             0.4,
             "#fde0ef"
            ],
            [
             0.5,
             "#f7f7f7"
            ],
            [
             0.6,
             "#e6f5d0"
            ],
            [
             0.7,
             "#b8e186"
            ],
            [
             0.8,
             "#7fbc41"
            ],
            [
             0.9,
             "#4d9221"
            ],
            [
             1,
             "#276419"
            ]
           ],
           "sequential": [
            [
             0,
             "#0d0887"
            ],
            [
             0.1111111111111111,
             "#46039f"
            ],
            [
             0.2222222222222222,
             "#7201a8"
            ],
            [
             0.3333333333333333,
             "#9c179e"
            ],
            [
             0.4444444444444444,
             "#bd3786"
            ],
            [
             0.5555555555555556,
             "#d8576b"
            ],
            [
             0.6666666666666666,
             "#ed7953"
            ],
            [
             0.7777777777777778,
             "#fb9f3a"
            ],
            [
             0.8888888888888888,
             "#fdca26"
            ],
            [
             1,
             "#f0f921"
            ]
           ],
           "sequentialminus": [
            [
             0,
             "#0d0887"
            ],
            [
             0.1111111111111111,
             "#46039f"
            ],
            [
             0.2222222222222222,
             "#7201a8"
            ],
            [
             0.3333333333333333,
             "#9c179e"
            ],
            [
             0.4444444444444444,
             "#bd3786"
            ],
            [
             0.5555555555555556,
             "#d8576b"
            ],
            [
             0.6666666666666666,
             "#ed7953"
            ],
            [
             0.7777777777777778,
             "#fb9f3a"
            ],
            [
             0.8888888888888888,
             "#fdca26"
            ],
            [
             1,
             "#f0f921"
            ]
           ]
          },
          "colorway": [
           "#636efa",
           "#EF553B",
           "#00cc96",
           "#ab63fa",
           "#FFA15A",
           "#19d3f3",
           "#FF6692",
           "#B6E880",
           "#FF97FF",
           "#FECB52"
          ],
          "font": {
           "color": "#2a3f5f"
          },
          "geo": {
           "bgcolor": "white",
           "lakecolor": "white",
           "landcolor": "#E5ECF6",
           "showlakes": true,
           "showland": true,
           "subunitcolor": "white"
          },
          "hoverlabel": {
           "align": "left"
          },
          "hovermode": "closest",
          "mapbox": {
           "style": "light"
          },
          "paper_bgcolor": "white",
          "plot_bgcolor": "#E5ECF6",
          "polar": {
           "angularaxis": {
            "gridcolor": "white",
            "linecolor": "white",
            "ticks": ""
           },
           "bgcolor": "#E5ECF6",
           "radialaxis": {
            "gridcolor": "white",
            "linecolor": "white",
            "ticks": ""
           }
          },
          "scene": {
           "xaxis": {
            "backgroundcolor": "#E5ECF6",
            "gridcolor": "white",
            "gridwidth": 2,
            "linecolor": "white",
            "showbackground": true,
            "ticks": "",
            "zerolinecolor": "white"
           },
           "yaxis": {
            "backgroundcolor": "#E5ECF6",
            "gridcolor": "white",
            "gridwidth": 2,
            "linecolor": "white",
            "showbackground": true,
            "ticks": "",
            "zerolinecolor": "white"
           },
           "zaxis": {
            "backgroundcolor": "#E5ECF6",
            "gridcolor": "white",
            "gridwidth": 2,
            "linecolor": "white",
            "showbackground": true,
            "ticks": "",
            "zerolinecolor": "white"
           }
          },
          "shapedefaults": {
           "line": {
            "color": "#2a3f5f"
           }
          },
          "ternary": {
           "aaxis": {
            "gridcolor": "white",
            "linecolor": "white",
            "ticks": ""
           },
           "baxis": {
            "gridcolor": "white",
            "linecolor": "white",
            "ticks": ""
           },
           "bgcolor": "#E5ECF6",
           "caxis": {
            "gridcolor": "white",
            "linecolor": "white",
            "ticks": ""
           }
          },
          "title": {
           "x": 0.05
          },
          "xaxis": {
           "automargin": true,
           "gridcolor": "white",
           "linecolor": "white",
           "ticks": "",
           "title": {
            "standoff": 15
           },
           "zerolinecolor": "white",
           "zerolinewidth": 2
          },
          "yaxis": {
           "automargin": true,
           "gridcolor": "white",
           "linecolor": "white",
           "ticks": "",
           "title": {
            "standoff": 15
           },
           "zerolinecolor": "white",
           "zerolinewidth": 2
          }
         }
        },
        "title": {
         "text": "월 매출과 결제횟수"
        },
        "width": 900,
        "xaxis": {
         "anchor": "y",
         "domain": [
          0,
          1
         ],
         "matches": "x2",
         "showticklabels": false
        },
        "xaxis2": {
         "anchor": "y2",
         "domain": [
          0,
          1
         ]
        },
        "yaxis": {
         "anchor": "x",
         "domain": [
          0.608,
          1
         ],
         "title": {
          "text": "결제횟수"
         }
        },
        "yaxis2": {
         "anchor": "x2",
         "domain": [
          0,
          0.588
         ],
         "title": {
          "text": "매출액"
         }
        }
       }
      },
      "text/html": [
       "<div>                            <div id=\"a3d0da61-f200-47a2-a70e-71060caa9763\" class=\"plotly-graph-div\" style=\"height:660px; width:900px;\"></div>            <script type=\"text/javascript\">                require([\"plotly\"], function(Plotly) {                    window.PLOTLYENV=window.PLOTLYENV || {};                                    if (document.getElementById(\"a3d0da61-f200-47a2-a70e-71060caa9763\")) {                    Plotly.newPlot(                        \"a3d0da61-f200-47a2-a70e-71060caa9763\",                        [{\"name\": \"\\uacb0\\uc81c \\ud69f\\uc218\", \"type\": \"scatter\", \"x\": [\"2016-08\", \"2016-09\", \"2016-10\", \"2016-11\", \"2016-12\", \"2017-01\", \"2017-02\", \"2017-03\", \"2017-04\", \"2017-05\", \"2017-06\", \"2017-07\", \"2017-08\", \"2017-09\", \"2017-10\", \"2017-11\", \"2017-12\", \"2018-01\", \"2018-02\", \"2018-03\", \"2018-04\", \"2018-05\", \"2018-06\", \"2018-07\"], \"xaxis\": \"x\", \"y\": [87552, 84374, 92380, 86867, 96062, 93890, 94334, 115564, 121601, 129131, 134885, 141005, 146091, 151792, 147660, 148470, 163462, 159347, 150098, 188156, 189632, 195666, 190294, 185806], \"yaxis\": \"y\"}, {\"marker\": {\"color\": \"limegreen\"}, \"name\": \"\\uc6d4 \\ub9e4\\ucd9c\", \"opacity\": 0.9, \"type\": \"bar\", \"x\": [\"2016-08\", \"2016-09\", \"2016-10\", \"2016-11\", \"2016-12\", \"2017-01\", \"2017-02\", \"2017-03\", \"2017-04\", \"2017-05\", \"2017-06\", \"2017-07\", \"2017-08\", \"2017-09\", \"2017-10\", \"2017-11\", \"2017-12\", \"2018-01\", \"2018-02\", \"2018-03\", \"2018-04\", \"2018-05\", \"2018-06\", \"2018-07\"], \"xaxis\": \"x2\", \"y\": [12745783, 12447832, 13653742, 13552132, 16739655, 15462780, 15386022, 18117747, 18538301, 18958389, 19303079, 20519784, 21103570, 21719699, 20990747, 21928099, 26499271, 24013948, 23177840, 27843687, 27447783, 27960520, 26392673, 26139763], \"yaxis\": \"y2\"}],                        {\"height\": 660, \"template\": {\"data\": {\"bar\": [{\"error_x\": {\"color\": \"#2a3f5f\"}, \"error_y\": {\"color\": \"#2a3f5f\"}, \"marker\": {\"line\": {\"color\": \"#E5ECF6\", \"width\": 0.5}}, \"type\": \"bar\"}], \"barpolar\": [{\"marker\": {\"line\": {\"color\": \"#E5ECF6\", \"width\": 0.5}}, \"type\": \"barpolar\"}], \"carpet\": [{\"aaxis\": {\"endlinecolor\": \"#2a3f5f\", \"gridcolor\": \"white\", \"linecolor\": \"white\", \"minorgridcolor\": \"white\", \"startlinecolor\": \"#2a3f5f\"}, \"baxis\": {\"endlinecolor\": \"#2a3f5f\", \"gridcolor\": \"white\", \"linecolor\": \"white\", \"minorgridcolor\": \"white\", \"startlinecolor\": \"#2a3f5f\"}, \"type\": \"carpet\"}], \"choropleth\": [{\"colorbar\": {\"outlinewidth\": 0, \"ticks\": \"\"}, \"type\": \"choropleth\"}], \"contour\": [{\"colorbar\": {\"outlinewidth\": 0, \"ticks\": \"\"}, \"colorscale\": [[0.0, \"#0d0887\"], [0.1111111111111111, \"#46039f\"], [0.2222222222222222, \"#7201a8\"], [0.3333333333333333, \"#9c179e\"], [0.4444444444444444, \"#bd3786\"], [0.5555555555555556, \"#d8576b\"], [0.6666666666666666, \"#ed7953\"], [0.7777777777777778, \"#fb9f3a\"], [0.8888888888888888, \"#fdca26\"], [1.0, \"#f0f921\"]], \"type\": \"contour\"}], \"contourcarpet\": [{\"colorbar\": {\"outlinewidth\": 0, \"ticks\": \"\"}, \"type\": \"contourcarpet\"}], \"heatmap\": [{\"colorbar\": {\"outlinewidth\": 0, \"ticks\": \"\"}, \"colorscale\": [[0.0, \"#0d0887\"], [0.1111111111111111, \"#46039f\"], [0.2222222222222222, \"#7201a8\"], [0.3333333333333333, \"#9c179e\"], [0.4444444444444444, \"#bd3786\"], [0.5555555555555556, \"#d8576b\"], [0.6666666666666666, \"#ed7953\"], [0.7777777777777778, \"#fb9f3a\"], [0.8888888888888888, \"#fdca26\"], [1.0, \"#f0f921\"]], \"type\": \"heatmap\"}], \"heatmapgl\": [{\"colorbar\": {\"outlinewidth\": 0, \"ticks\": \"\"}, \"colorscale\": [[0.0, \"#0d0887\"], [0.1111111111111111, \"#46039f\"], [0.2222222222222222, \"#7201a8\"], [0.3333333333333333, \"#9c179e\"], [0.4444444444444444, \"#bd3786\"], [0.5555555555555556, \"#d8576b\"], [0.6666666666666666, \"#ed7953\"], [0.7777777777777778, \"#fb9f3a\"], [0.8888888888888888, \"#fdca26\"], [1.0, \"#f0f921\"]], \"type\": \"heatmapgl\"}], \"histogram\": [{\"marker\": {\"colorbar\": {\"outlinewidth\": 0, \"ticks\": \"\"}}, \"type\": \"histogram\"}], \"histogram2d\": [{\"colorbar\": {\"outlinewidth\": 0, \"ticks\": \"\"}, \"colorscale\": [[0.0, \"#0d0887\"], [0.1111111111111111, \"#46039f\"], [0.2222222222222222, \"#7201a8\"], [0.3333333333333333, \"#9c179e\"], [0.4444444444444444, \"#bd3786\"], [0.5555555555555556, \"#d8576b\"], [0.6666666666666666, \"#ed7953\"], [0.7777777777777778, \"#fb9f3a\"], [0.8888888888888888, \"#fdca26\"], [1.0, \"#f0f921\"]], \"type\": \"histogram2d\"}], \"histogram2dcontour\": [{\"colorbar\": {\"outlinewidth\": 0, \"ticks\": \"\"}, \"colorscale\": [[0.0, \"#0d0887\"], [0.1111111111111111, \"#46039f\"], [0.2222222222222222, \"#7201a8\"], [0.3333333333333333, \"#9c179e\"], [0.4444444444444444, \"#bd3786\"], [0.5555555555555556, \"#d8576b\"], [0.6666666666666666, \"#ed7953\"], [0.7777777777777778, \"#fb9f3a\"], [0.8888888888888888, \"#fdca26\"], [1.0, \"#f0f921\"]], \"type\": \"histogram2dcontour\"}], \"mesh3d\": [{\"colorbar\": {\"outlinewidth\": 0, \"ticks\": \"\"}, \"type\": \"mesh3d\"}], \"parcoords\": [{\"line\": {\"colorbar\": {\"outlinewidth\": 0, \"ticks\": \"\"}}, \"type\": \"parcoords\"}], \"pie\": [{\"automargin\": true, \"type\": \"pie\"}], \"scatter\": [{\"marker\": {\"colorbar\": {\"outlinewidth\": 0, \"ticks\": \"\"}}, \"type\": \"scatter\"}], \"scatter3d\": [{\"line\": {\"colorbar\": {\"outlinewidth\": 0, \"ticks\": \"\"}}, \"marker\": {\"colorbar\": {\"outlinewidth\": 0, \"ticks\": \"\"}}, \"type\": \"scatter3d\"}], \"scattercarpet\": [{\"marker\": {\"colorbar\": {\"outlinewidth\": 0, \"ticks\": \"\"}}, \"type\": \"scattercarpet\"}], \"scattergeo\": [{\"marker\": {\"colorbar\": {\"outlinewidth\": 0, \"ticks\": \"\"}}, \"type\": \"scattergeo\"}], \"scattergl\": [{\"marker\": {\"colorbar\": {\"outlinewidth\": 0, \"ticks\": \"\"}}, \"type\": \"scattergl\"}], \"scattermapbox\": [{\"marker\": {\"colorbar\": {\"outlinewidth\": 0, \"ticks\": \"\"}}, \"type\": \"scattermapbox\"}], \"scatterpolar\": [{\"marker\": {\"colorbar\": {\"outlinewidth\": 0, \"ticks\": \"\"}}, \"type\": \"scatterpolar\"}], \"scatterpolargl\": [{\"marker\": {\"colorbar\": {\"outlinewidth\": 0, \"ticks\": \"\"}}, \"type\": \"scatterpolargl\"}], \"scatterternary\": [{\"marker\": {\"colorbar\": {\"outlinewidth\": 0, \"ticks\": \"\"}}, \"type\": \"scatterternary\"}], \"surface\": [{\"colorbar\": {\"outlinewidth\": 0, \"ticks\": \"\"}, \"colorscale\": [[0.0, \"#0d0887\"], [0.1111111111111111, \"#46039f\"], [0.2222222222222222, \"#7201a8\"], [0.3333333333333333, \"#9c179e\"], [0.4444444444444444, \"#bd3786\"], [0.5555555555555556, \"#d8576b\"], [0.6666666666666666, \"#ed7953\"], [0.7777777777777778, \"#fb9f3a\"], [0.8888888888888888, \"#fdca26\"], [1.0, \"#f0f921\"]], \"type\": \"surface\"}], \"table\": [{\"cells\": {\"fill\": {\"color\": \"#EBF0F8\"}, \"line\": {\"color\": \"white\"}}, \"header\": {\"fill\": {\"color\": \"#C8D4E3\"}, \"line\": {\"color\": \"white\"}}, \"type\": \"table\"}]}, \"layout\": {\"annotationdefaults\": {\"arrowcolor\": \"#2a3f5f\", \"arrowhead\": 0, \"arrowwidth\": 1}, \"coloraxis\": {\"colorbar\": {\"outlinewidth\": 0, \"ticks\": \"\"}}, \"colorscale\": {\"diverging\": [[0, \"#8e0152\"], [0.1, \"#c51b7d\"], [0.2, \"#de77ae\"], [0.3, \"#f1b6da\"], [0.4, \"#fde0ef\"], [0.5, \"#f7f7f7\"], [0.6, \"#e6f5d0\"], [0.7, \"#b8e186\"], [0.8, \"#7fbc41\"], [0.9, \"#4d9221\"], [1, \"#276419\"]], \"sequential\": [[0.0, \"#0d0887\"], [0.1111111111111111, \"#46039f\"], [0.2222222222222222, \"#7201a8\"], [0.3333333333333333, \"#9c179e\"], [0.4444444444444444, \"#bd3786\"], [0.5555555555555556, \"#d8576b\"], [0.6666666666666666, \"#ed7953\"], [0.7777777777777778, \"#fb9f3a\"], [0.8888888888888888, \"#fdca26\"], [1.0, \"#f0f921\"]], \"sequentialminus\": [[0.0, \"#0d0887\"], [0.1111111111111111, \"#46039f\"], [0.2222222222222222, \"#7201a8\"], [0.3333333333333333, \"#9c179e\"], [0.4444444444444444, \"#bd3786\"], [0.5555555555555556, \"#d8576b\"], [0.6666666666666666, \"#ed7953\"], [0.7777777777777778, \"#fb9f3a\"], [0.8888888888888888, \"#fdca26\"], [1.0, \"#f0f921\"]]}, \"colorway\": [\"#636efa\", \"#EF553B\", \"#00cc96\", \"#ab63fa\", \"#FFA15A\", \"#19d3f3\", \"#FF6692\", \"#B6E880\", \"#FF97FF\", \"#FECB52\"], \"font\": {\"color\": \"#2a3f5f\"}, \"geo\": {\"bgcolor\": \"white\", \"lakecolor\": \"white\", \"landcolor\": \"#E5ECF6\", \"showlakes\": true, \"showland\": true, \"subunitcolor\": \"white\"}, \"hoverlabel\": {\"align\": \"left\"}, \"hovermode\": \"closest\", \"mapbox\": {\"style\": \"light\"}, \"paper_bgcolor\": \"white\", \"plot_bgcolor\": \"#E5ECF6\", \"polar\": {\"angularaxis\": {\"gridcolor\": \"white\", \"linecolor\": \"white\", \"ticks\": \"\"}, \"bgcolor\": \"#E5ECF6\", \"radialaxis\": {\"gridcolor\": \"white\", \"linecolor\": \"white\", \"ticks\": \"\"}}, \"scene\": {\"xaxis\": {\"backgroundcolor\": \"#E5ECF6\", \"gridcolor\": \"white\", \"gridwidth\": 2, \"linecolor\": \"white\", \"showbackground\": true, \"ticks\": \"\", \"zerolinecolor\": \"white\"}, \"yaxis\": {\"backgroundcolor\": \"#E5ECF6\", \"gridcolor\": \"white\", \"gridwidth\": 2, \"linecolor\": \"white\", \"showbackground\": true, \"ticks\": \"\", \"zerolinecolor\": \"white\"}, \"zaxis\": {\"backgroundcolor\": \"#E5ECF6\", \"gridcolor\": \"white\", \"gridwidth\": 2, \"linecolor\": \"white\", \"showbackground\": true, \"ticks\": \"\", \"zerolinecolor\": \"white\"}}, \"shapedefaults\": {\"line\": {\"color\": \"#2a3f5f\"}}, \"ternary\": {\"aaxis\": {\"gridcolor\": \"white\", \"linecolor\": \"white\", \"ticks\": \"\"}, \"baxis\": {\"gridcolor\": \"white\", \"linecolor\": \"white\", \"ticks\": \"\"}, \"bgcolor\": \"#E5ECF6\", \"caxis\": {\"gridcolor\": \"white\", \"linecolor\": \"white\", \"ticks\": \"\"}}, \"title\": {\"x\": 0.05}, \"xaxis\": {\"automargin\": true, \"gridcolor\": \"white\", \"linecolor\": \"white\", \"ticks\": \"\", \"title\": {\"standoff\": 15}, \"zerolinecolor\": \"white\", \"zerolinewidth\": 2}, \"yaxis\": {\"automargin\": true, \"gridcolor\": \"white\", \"linecolor\": \"white\", \"ticks\": \"\", \"title\": {\"standoff\": 15}, \"zerolinecolor\": \"white\", \"zerolinewidth\": 2}}}, \"title\": {\"text\": \"\\uc6d4 \\ub9e4\\ucd9c\\uacfc \\uacb0\\uc81c\\ud69f\\uc218\"}, \"width\": 900, \"xaxis\": {\"anchor\": \"y\", \"domain\": [0.0, 1.0], \"matches\": \"x2\", \"showticklabels\": false}, \"xaxis2\": {\"anchor\": \"y2\", \"domain\": [0.0, 1.0]}, \"yaxis\": {\"anchor\": \"x\", \"domain\": [0.608, 1.0], \"title\": {\"text\": \"\\uacb0\\uc81c\\ud69f\\uc218\"}}, \"yaxis2\": {\"anchor\": \"x2\", \"domain\": [0.0, 0.588], \"title\": {\"text\": \"\\ub9e4\\ucd9c\\uc561\"}}},                        {\"responsive\": true}                    ).then(function(){\n",
       "                            \n",
       "var gd = document.getElementById('a3d0da61-f200-47a2-a70e-71060caa9763');\n",
       "var x = new MutationObserver(function (mutations, observer) {{\n",
       "        var display = window.getComputedStyle(gd).display;\n",
       "        if (!display || display === 'none') {{\n",
       "            console.log([gd, 'removed!']);\n",
       "            Plotly.purge(gd);\n",
       "            observer.disconnect();\n",
       "        }}\n",
       "}});\n",
       "\n",
       "// Listen for the removal of the full notebook cells\n",
       "var notebookContainer = gd.closest('#notebook-container');\n",
       "if (notebookContainer) {{\n",
       "    x.observe(notebookContainer, {childList: true});\n",
       "}}\n",
       "\n",
       "// Listen for the clearing of the current output cell\n",
       "var outputEl = gd.closest('.output');\n",
       "if (outputEl) {{\n",
       "    x.observe(outputEl, {childList: true});\n",
       "}}\n",
       "\n",
       "                        })                };                });            </script>        </div>"
      ]
     },
     "metadata": {},
     "output_type": "display_data"
    }
   ],
   "source": [
    "# 12월에는 총 매출이 많이 증가하는 것을 볼 수 있다. 연말이라 사람들의 소비가 늘어난 것으로 보인다.\n",
    "fig = make_subplots(\n",
    "    rows=2, cols=1, shared_xaxes=True, vertical_spacing=0.02,\n",
    "    row_heights = [0.4, 0.6],\n",
    ")\n",
    " \n",
    "fig.add_trace(go.Line(x=monthly_count[\"year-month\"], y=monthly_count[\"monthly_count\"], name=\"결제 횟수\"), row=1, col=1)\n",
    "fig.add_trace(go.Bar(x=monthly_sales[\"year-month\"], y=monthly_sales[\"monthly_total_amount\"], name=\"월 매출\", marker_color=\"limegreen\", opacity = 0.9), row=2, col=1)\n",
    " \n",
    "fig.update_layout(height=330*2, width=300*3, title_text=\"월 매출과 결제횟수\")\n",
    "fig.update_yaxes(title_text=\"결제횟수\", row=1, col=1)\n",
    "fig.update_yaxes(title_text=\"매출액\", row=2, col=1)\n",
    "\n",
    "fig.show()"
   ]
  },
  {
   "cell_type": "code",
   "execution_count": 124,
   "metadata": {},
   "outputs": [],
   "source": [
    "# 해석은 각자 알아서"
   ]
  },
  {
   "cell_type": "code",
   "execution_count": 125,
   "metadata": {},
   "outputs": [
    {
     "data": {
      "text/html": [
       "<div>\n",
       "<style scoped>\n",
       "    .dataframe tbody tr th:only-of-type {\n",
       "        vertical-align: middle;\n",
       "    }\n",
       "\n",
       "    .dataframe tbody tr th {\n",
       "        vertical-align: top;\n",
       "    }\n",
       "\n",
       "    .dataframe thead th {\n",
       "        text-align: right;\n",
       "    }\n",
       "</style>\n",
       "<table border=\"1\" class=\"dataframe\">\n",
       "  <thead>\n",
       "    <tr style=\"text-align: right;\">\n",
       "      <th></th>\n",
       "      <th>month</th>\n",
       "      <th>seasonal_sales</th>\n",
       "    </tr>\n",
       "  </thead>\n",
       "  <tbody>\n",
       "    <tr>\n",
       "      <th>0</th>\n",
       "      <td>1</td>\n",
       "      <td>39476728</td>\n",
       "    </tr>\n",
       "    <tr>\n",
       "      <th>1</th>\n",
       "      <td>2</td>\n",
       "      <td>38563862</td>\n",
       "    </tr>\n",
       "    <tr>\n",
       "      <th>2</th>\n",
       "      <td>3</td>\n",
       "      <td>45961434</td>\n",
       "    </tr>\n",
       "    <tr>\n",
       "      <th>3</th>\n",
       "      <td>4</td>\n",
       "      <td>45986084</td>\n",
       "    </tr>\n",
       "    <tr>\n",
       "      <th>4</th>\n",
       "      <td>5</td>\n",
       "      <td>46918909</td>\n",
       "    </tr>\n",
       "    <tr>\n",
       "      <th>5</th>\n",
       "      <td>6</td>\n",
       "      <td>45695752</td>\n",
       "    </tr>\n",
       "    <tr>\n",
       "      <th>6</th>\n",
       "      <td>7</td>\n",
       "      <td>46659547</td>\n",
       "    </tr>\n",
       "    <tr>\n",
       "      <th>7</th>\n",
       "      <td>8</td>\n",
       "      <td>33849353</td>\n",
       "    </tr>\n",
       "    <tr>\n",
       "      <th>8</th>\n",
       "      <td>9</td>\n",
       "      <td>34167531</td>\n",
       "    </tr>\n",
       "    <tr>\n",
       "      <th>9</th>\n",
       "      <td>10</td>\n",
       "      <td>34644489</td>\n",
       "    </tr>\n",
       "    <tr>\n",
       "      <th>10</th>\n",
       "      <td>11</td>\n",
       "      <td>35480231</td>\n",
       "    </tr>\n",
       "    <tr>\n",
       "      <th>11</th>\n",
       "      <td>12</td>\n",
       "      <td>43238926</td>\n",
       "    </tr>\n",
       "  </tbody>\n",
       "</table>\n",
       "</div>"
      ],
      "text/plain": [
       "    month  seasonal_sales\n",
       "0       1        39476728\n",
       "1       2        38563862\n",
       "2       3        45961434\n",
       "3       4        45986084\n",
       "4       5        46918909\n",
       "5       6        45695752\n",
       "6       7        46659547\n",
       "7       8        33849353\n",
       "8       9        34167531\n",
       "9      10        34644489\n",
       "10     11        35480231\n",
       "11     12        43238926"
      ]
     },
     "execution_count": 125,
     "metadata": {},
     "output_type": "execute_result"
    }
   ],
   "source": [
    "# 계절별 매출은 어떨까? 확인해보자\n",
    "seasonal_sales = train.groupby(\"month\").sum()[\"amount\"].reset_index(name=\"seasonal_sales\")\n",
    "seasonal_sales"
   ]
  },
  {
   "cell_type": "code",
   "execution_count": 129,
   "metadata": {},
   "outputs": [
    {
     "data": {
      "application/vnd.plotly.v1+json": {
       "config": {
        "linkText": "Export to plot.ly",
        "plotlyServerURL": "https://plot.ly",
        "showLink": false
       },
       "data": [
        {
         "marker": {
          "color": "blue"
         },
         "name": "월별 매출",
         "opacity": 0.6,
         "type": "bar",
         "x": [
          1,
          2,
          3,
          4,
          5,
          6,
          7,
          8,
          9,
          10,
          11,
          12
         ],
         "y": [
          39476728,
          38563862,
          45961434,
          45986084,
          46918909,
          45695752,
          46659547,
          33849353,
          34167531,
          34644489,
          35480231,
          43238926
         ]
        }
       ],
       "layout": {
        "showlegend": true,
        "template": {
         "data": {
          "bar": [
           {
            "error_x": {
             "color": "#2a3f5f"
            },
            "error_y": {
             "color": "#2a3f5f"
            },
            "marker": {
             "line": {
              "color": "#E5ECF6",
              "width": 0.5
             }
            },
            "type": "bar"
           }
          ],
          "barpolar": [
           {
            "marker": {
             "line": {
              "color": "#E5ECF6",
              "width": 0.5
             }
            },
            "type": "barpolar"
           }
          ],
          "carpet": [
           {
            "aaxis": {
             "endlinecolor": "#2a3f5f",
             "gridcolor": "white",
             "linecolor": "white",
             "minorgridcolor": "white",
             "startlinecolor": "#2a3f5f"
            },
            "baxis": {
             "endlinecolor": "#2a3f5f",
             "gridcolor": "white",
             "linecolor": "white",
             "minorgridcolor": "white",
             "startlinecolor": "#2a3f5f"
            },
            "type": "carpet"
           }
          ],
          "choropleth": [
           {
            "colorbar": {
             "outlinewidth": 0,
             "ticks": ""
            },
            "type": "choropleth"
           }
          ],
          "contour": [
           {
            "colorbar": {
             "outlinewidth": 0,
             "ticks": ""
            },
            "colorscale": [
             [
              0,
              "#0d0887"
             ],
             [
              0.1111111111111111,
              "#46039f"
             ],
             [
              0.2222222222222222,
              "#7201a8"
             ],
             [
              0.3333333333333333,
              "#9c179e"
             ],
             [
              0.4444444444444444,
              "#bd3786"
             ],
             [
              0.5555555555555556,
              "#d8576b"
             ],
             [
              0.6666666666666666,
              "#ed7953"
             ],
             [
              0.7777777777777778,
              "#fb9f3a"
             ],
             [
              0.8888888888888888,
              "#fdca26"
             ],
             [
              1,
              "#f0f921"
             ]
            ],
            "type": "contour"
           }
          ],
          "contourcarpet": [
           {
            "colorbar": {
             "outlinewidth": 0,
             "ticks": ""
            },
            "type": "contourcarpet"
           }
          ],
          "heatmap": [
           {
            "colorbar": {
             "outlinewidth": 0,
             "ticks": ""
            },
            "colorscale": [
             [
              0,
              "#0d0887"
             ],
             [
              0.1111111111111111,
              "#46039f"
             ],
             [
              0.2222222222222222,
              "#7201a8"
             ],
             [
              0.3333333333333333,
              "#9c179e"
             ],
             [
              0.4444444444444444,
              "#bd3786"
             ],
             [
              0.5555555555555556,
              "#d8576b"
             ],
             [
              0.6666666666666666,
              "#ed7953"
             ],
             [
              0.7777777777777778,
              "#fb9f3a"
             ],
             [
              0.8888888888888888,
              "#fdca26"
             ],
             [
              1,
              "#f0f921"
             ]
            ],
            "type": "heatmap"
           }
          ],
          "heatmapgl": [
           {
            "colorbar": {
             "outlinewidth": 0,
             "ticks": ""
            },
            "colorscale": [
             [
              0,
              "#0d0887"
             ],
             [
              0.1111111111111111,
              "#46039f"
             ],
             [
              0.2222222222222222,
              "#7201a8"
             ],
             [
              0.3333333333333333,
              "#9c179e"
             ],
             [
              0.4444444444444444,
              "#bd3786"
             ],
             [
              0.5555555555555556,
              "#d8576b"
             ],
             [
              0.6666666666666666,
              "#ed7953"
             ],
             [
              0.7777777777777778,
              "#fb9f3a"
             ],
             [
              0.8888888888888888,
              "#fdca26"
             ],
             [
              1,
              "#f0f921"
             ]
            ],
            "type": "heatmapgl"
           }
          ],
          "histogram": [
           {
            "marker": {
             "colorbar": {
              "outlinewidth": 0,
              "ticks": ""
             }
            },
            "type": "histogram"
           }
          ],
          "histogram2d": [
           {
            "colorbar": {
             "outlinewidth": 0,
             "ticks": ""
            },
            "colorscale": [
             [
              0,
              "#0d0887"
             ],
             [
              0.1111111111111111,
              "#46039f"
             ],
             [
              0.2222222222222222,
              "#7201a8"
             ],
             [
              0.3333333333333333,
              "#9c179e"
             ],
             [
              0.4444444444444444,
              "#bd3786"
             ],
             [
              0.5555555555555556,
              "#d8576b"
             ],
             [
              0.6666666666666666,
              "#ed7953"
             ],
             [
              0.7777777777777778,
              "#fb9f3a"
             ],
             [
              0.8888888888888888,
              "#fdca26"
             ],
             [
              1,
              "#f0f921"
             ]
            ],
            "type": "histogram2d"
           }
          ],
          "histogram2dcontour": [
           {
            "colorbar": {
             "outlinewidth": 0,
             "ticks": ""
            },
            "colorscale": [
             [
              0,
              "#0d0887"
             ],
             [
              0.1111111111111111,
              "#46039f"
             ],
             [
              0.2222222222222222,
              "#7201a8"
             ],
             [
              0.3333333333333333,
              "#9c179e"
             ],
             [
              0.4444444444444444,
              "#bd3786"
             ],
             [
              0.5555555555555556,
              "#d8576b"
             ],
             [
              0.6666666666666666,
              "#ed7953"
             ],
             [
              0.7777777777777778,
              "#fb9f3a"
             ],
             [
              0.8888888888888888,
              "#fdca26"
             ],
             [
              1,
              "#f0f921"
             ]
            ],
            "type": "histogram2dcontour"
           }
          ],
          "mesh3d": [
           {
            "colorbar": {
             "outlinewidth": 0,
             "ticks": ""
            },
            "type": "mesh3d"
           }
          ],
          "parcoords": [
           {
            "line": {
             "colorbar": {
              "outlinewidth": 0,
              "ticks": ""
             }
            },
            "type": "parcoords"
           }
          ],
          "pie": [
           {
            "automargin": true,
            "type": "pie"
           }
          ],
          "scatter": [
           {
            "marker": {
             "colorbar": {
              "outlinewidth": 0,
              "ticks": ""
             }
            },
            "type": "scatter"
           }
          ],
          "scatter3d": [
           {
            "line": {
             "colorbar": {
              "outlinewidth": 0,
              "ticks": ""
             }
            },
            "marker": {
             "colorbar": {
              "outlinewidth": 0,
              "ticks": ""
             }
            },
            "type": "scatter3d"
           }
          ],
          "scattercarpet": [
           {
            "marker": {
             "colorbar": {
              "outlinewidth": 0,
              "ticks": ""
             }
            },
            "type": "scattercarpet"
           }
          ],
          "scattergeo": [
           {
            "marker": {
             "colorbar": {
              "outlinewidth": 0,
              "ticks": ""
             }
            },
            "type": "scattergeo"
           }
          ],
          "scattergl": [
           {
            "marker": {
             "colorbar": {
              "outlinewidth": 0,
              "ticks": ""
             }
            },
            "type": "scattergl"
           }
          ],
          "scattermapbox": [
           {
            "marker": {
             "colorbar": {
              "outlinewidth": 0,
              "ticks": ""
             }
            },
            "type": "scattermapbox"
           }
          ],
          "scatterpolar": [
           {
            "marker": {
             "colorbar": {
              "outlinewidth": 0,
              "ticks": ""
             }
            },
            "type": "scatterpolar"
           }
          ],
          "scatterpolargl": [
           {
            "marker": {
             "colorbar": {
              "outlinewidth": 0,
              "ticks": ""
             }
            },
            "type": "scatterpolargl"
           }
          ],
          "scatterternary": [
           {
            "marker": {
             "colorbar": {
              "outlinewidth": 0,
              "ticks": ""
             }
            },
            "type": "scatterternary"
           }
          ],
          "surface": [
           {
            "colorbar": {
             "outlinewidth": 0,
             "ticks": ""
            },
            "colorscale": [
             [
              0,
              "#0d0887"
             ],
             [
              0.1111111111111111,
              "#46039f"
             ],
             [
              0.2222222222222222,
              "#7201a8"
             ],
             [
              0.3333333333333333,
              "#9c179e"
             ],
             [
              0.4444444444444444,
              "#bd3786"
             ],
             [
              0.5555555555555556,
              "#d8576b"
             ],
             [
              0.6666666666666666,
              "#ed7953"
             ],
             [
              0.7777777777777778,
              "#fb9f3a"
             ],
             [
              0.8888888888888888,
              "#fdca26"
             ],
             [
              1,
              "#f0f921"
             ]
            ],
            "type": "surface"
           }
          ],
          "table": [
           {
            "cells": {
             "fill": {
              "color": "#EBF0F8"
             },
             "line": {
              "color": "white"
             }
            },
            "header": {
             "fill": {
              "color": "#C8D4E3"
             },
             "line": {
              "color": "white"
             }
            },
            "type": "table"
           }
          ]
         },
         "layout": {
          "annotationdefaults": {
           "arrowcolor": "#2a3f5f",
           "arrowhead": 0,
           "arrowwidth": 1
          },
          "coloraxis": {
           "colorbar": {
            "outlinewidth": 0,
            "ticks": ""
           }
          },
          "colorscale": {
           "diverging": [
            [
             0,
             "#8e0152"
            ],
            [
             0.1,
             "#c51b7d"
            ],
            [
             0.2,
             "#de77ae"
            ],
            [
             0.3,
             "#f1b6da"
            ],
            [
             0.4,
             "#fde0ef"
            ],
            [
             0.5,
             "#f7f7f7"
            ],
            [
             0.6,
             "#e6f5d0"
            ],
            [
             0.7,
             "#b8e186"
            ],
            [
             0.8,
             "#7fbc41"
            ],
            [
             0.9,
             "#4d9221"
            ],
            [
             1,
             "#276419"
            ]
           ],
           "sequential": [
            [
             0,
             "#0d0887"
            ],
            [
             0.1111111111111111,
             "#46039f"
            ],
            [
             0.2222222222222222,
             "#7201a8"
            ],
            [
             0.3333333333333333,
             "#9c179e"
            ],
            [
             0.4444444444444444,
             "#bd3786"
            ],
            [
             0.5555555555555556,
             "#d8576b"
            ],
            [
             0.6666666666666666,
             "#ed7953"
            ],
            [
             0.7777777777777778,
             "#fb9f3a"
            ],
            [
             0.8888888888888888,
             "#fdca26"
            ],
            [
             1,
             "#f0f921"
            ]
           ],
           "sequentialminus": [
            [
             0,
             "#0d0887"
            ],
            [
             0.1111111111111111,
             "#46039f"
            ],
            [
             0.2222222222222222,
             "#7201a8"
            ],
            [
             0.3333333333333333,
             "#9c179e"
            ],
            [
             0.4444444444444444,
             "#bd3786"
            ],
            [
             0.5555555555555556,
             "#d8576b"
            ],
            [
             0.6666666666666666,
             "#ed7953"
            ],
            [
             0.7777777777777778,
             "#fb9f3a"
            ],
            [
             0.8888888888888888,
             "#fdca26"
            ],
            [
             1,
             "#f0f921"
            ]
           ]
          },
          "colorway": [
           "#636efa",
           "#EF553B",
           "#00cc96",
           "#ab63fa",
           "#FFA15A",
           "#19d3f3",
           "#FF6692",
           "#B6E880",
           "#FF97FF",
           "#FECB52"
          ],
          "font": {
           "color": "#2a3f5f"
          },
          "geo": {
           "bgcolor": "white",
           "lakecolor": "white",
           "landcolor": "#E5ECF6",
           "showlakes": true,
           "showland": true,
           "subunitcolor": "white"
          },
          "hoverlabel": {
           "align": "left"
          },
          "hovermode": "closest",
          "mapbox": {
           "style": "light"
          },
          "paper_bgcolor": "white",
          "plot_bgcolor": "#E5ECF6",
          "polar": {
           "angularaxis": {
            "gridcolor": "white",
            "linecolor": "white",
            "ticks": ""
           },
           "bgcolor": "#E5ECF6",
           "radialaxis": {
            "gridcolor": "white",
            "linecolor": "white",
            "ticks": ""
           }
          },
          "scene": {
           "xaxis": {
            "backgroundcolor": "#E5ECF6",
            "gridcolor": "white",
            "gridwidth": 2,
            "linecolor": "white",
            "showbackground": true,
            "ticks": "",
            "zerolinecolor": "white"
           },
           "yaxis": {
            "backgroundcolor": "#E5ECF6",
            "gridcolor": "white",
            "gridwidth": 2,
            "linecolor": "white",
            "showbackground": true,
            "ticks": "",
            "zerolinecolor": "white"
           },
           "zaxis": {
            "backgroundcolor": "#E5ECF6",
            "gridcolor": "white",
            "gridwidth": 2,
            "linecolor": "white",
            "showbackground": true,
            "ticks": "",
            "zerolinecolor": "white"
           }
          },
          "shapedefaults": {
           "line": {
            "color": "#2a3f5f"
           }
          },
          "ternary": {
           "aaxis": {
            "gridcolor": "white",
            "linecolor": "white",
            "ticks": ""
           },
           "baxis": {
            "gridcolor": "white",
            "linecolor": "white",
            "ticks": ""
           },
           "bgcolor": "#E5ECF6",
           "caxis": {
            "gridcolor": "white",
            "linecolor": "white",
            "ticks": ""
           }
          },
          "title": {
           "x": 0.05
          },
          "xaxis": {
           "automargin": true,
           "gridcolor": "white",
           "linecolor": "white",
           "ticks": "",
           "title": {
            "standoff": 15
           },
           "zerolinecolor": "white",
           "zerolinewidth": 2
          },
          "yaxis": {
           "automargin": true,
           "gridcolor": "white",
           "linecolor": "white",
           "ticks": "",
           "title": {
            "standoff": 15
           },
           "zerolinecolor": "white",
           "zerolinewidth": 2
          }
         }
        },
        "title": {
         "text": "계절별 매출"
        },
        "xaxis": {
         "gridwidth": 2,
         "ticklen": 5,
         "title": {
          "text": " "
         },
         "zeroline": false
        },
        "yaxis": {
         "gridwidth": 2,
         "ticklen": 5,
         "title": {
          "text": "매출액"
         }
        }
       }
      },
      "text/html": [
       "<div>                            <div id=\"d3c9e674-c4d0-4613-bcd0-859828e23d3a\" class=\"plotly-graph-div\" style=\"height:525px; width:100%;\"></div>            <script type=\"text/javascript\">                require([\"plotly\"], function(Plotly) {                    window.PLOTLYENV=window.PLOTLYENV || {};                                    if (document.getElementById(\"d3c9e674-c4d0-4613-bcd0-859828e23d3a\")) {                    Plotly.newPlot(                        \"d3c9e674-c4d0-4613-bcd0-859828e23d3a\",                        [{\"marker\": {\"color\": \"blue\"}, \"name\": \"\\uc6d4\\ubcc4 \\ub9e4\\ucd9c\", \"opacity\": 0.6, \"type\": \"bar\", \"x\": [1, 2, 3, 4, 5, 6, 7, 8, 9, 10, 11, 12], \"y\": [39476728, 38563862, 45961434, 45986084, 46918909, 45695752, 46659547, 33849353, 34167531, 34644489, 35480231, 43238926]}],                        {\"showlegend\": true, \"template\": {\"data\": {\"bar\": [{\"error_x\": {\"color\": \"#2a3f5f\"}, \"error_y\": {\"color\": \"#2a3f5f\"}, \"marker\": {\"line\": {\"color\": \"#E5ECF6\", \"width\": 0.5}}, \"type\": \"bar\"}], \"barpolar\": [{\"marker\": {\"line\": {\"color\": \"#E5ECF6\", \"width\": 0.5}}, \"type\": \"barpolar\"}], \"carpet\": [{\"aaxis\": {\"endlinecolor\": \"#2a3f5f\", \"gridcolor\": \"white\", \"linecolor\": \"white\", \"minorgridcolor\": \"white\", \"startlinecolor\": \"#2a3f5f\"}, \"baxis\": {\"endlinecolor\": \"#2a3f5f\", \"gridcolor\": \"white\", \"linecolor\": \"white\", \"minorgridcolor\": \"white\", \"startlinecolor\": \"#2a3f5f\"}, \"type\": \"carpet\"}], \"choropleth\": [{\"colorbar\": {\"outlinewidth\": 0, \"ticks\": \"\"}, \"type\": \"choropleth\"}], \"contour\": [{\"colorbar\": {\"outlinewidth\": 0, \"ticks\": \"\"}, \"colorscale\": [[0.0, \"#0d0887\"], [0.1111111111111111, \"#46039f\"], [0.2222222222222222, \"#7201a8\"], [0.3333333333333333, \"#9c179e\"], [0.4444444444444444, \"#bd3786\"], [0.5555555555555556, \"#d8576b\"], [0.6666666666666666, \"#ed7953\"], [0.7777777777777778, \"#fb9f3a\"], [0.8888888888888888, \"#fdca26\"], [1.0, \"#f0f921\"]], \"type\": \"contour\"}], \"contourcarpet\": [{\"colorbar\": {\"outlinewidth\": 0, \"ticks\": \"\"}, \"type\": \"contourcarpet\"}], \"heatmap\": [{\"colorbar\": {\"outlinewidth\": 0, \"ticks\": \"\"}, \"colorscale\": [[0.0, \"#0d0887\"], [0.1111111111111111, \"#46039f\"], [0.2222222222222222, \"#7201a8\"], [0.3333333333333333, \"#9c179e\"], [0.4444444444444444, \"#bd3786\"], [0.5555555555555556, \"#d8576b\"], [0.6666666666666666, \"#ed7953\"], [0.7777777777777778, \"#fb9f3a\"], [0.8888888888888888, \"#fdca26\"], [1.0, \"#f0f921\"]], \"type\": \"heatmap\"}], \"heatmapgl\": [{\"colorbar\": {\"outlinewidth\": 0, \"ticks\": \"\"}, \"colorscale\": [[0.0, \"#0d0887\"], [0.1111111111111111, \"#46039f\"], [0.2222222222222222, \"#7201a8\"], [0.3333333333333333, \"#9c179e\"], [0.4444444444444444, \"#bd3786\"], [0.5555555555555556, \"#d8576b\"], [0.6666666666666666, \"#ed7953\"], [0.7777777777777778, \"#fb9f3a\"], [0.8888888888888888, \"#fdca26\"], [1.0, \"#f0f921\"]], \"type\": \"heatmapgl\"}], \"histogram\": [{\"marker\": {\"colorbar\": {\"outlinewidth\": 0, \"ticks\": \"\"}}, \"type\": \"histogram\"}], \"histogram2d\": [{\"colorbar\": {\"outlinewidth\": 0, \"ticks\": \"\"}, \"colorscale\": [[0.0, \"#0d0887\"], [0.1111111111111111, \"#46039f\"], [0.2222222222222222, \"#7201a8\"], [0.3333333333333333, \"#9c179e\"], [0.4444444444444444, \"#bd3786\"], [0.5555555555555556, \"#d8576b\"], [0.6666666666666666, \"#ed7953\"], [0.7777777777777778, \"#fb9f3a\"], [0.8888888888888888, \"#fdca26\"], [1.0, \"#f0f921\"]], \"type\": \"histogram2d\"}], \"histogram2dcontour\": [{\"colorbar\": {\"outlinewidth\": 0, \"ticks\": \"\"}, \"colorscale\": [[0.0, \"#0d0887\"], [0.1111111111111111, \"#46039f\"], [0.2222222222222222, \"#7201a8\"], [0.3333333333333333, \"#9c179e\"], [0.4444444444444444, \"#bd3786\"], [0.5555555555555556, \"#d8576b\"], [0.6666666666666666, \"#ed7953\"], [0.7777777777777778, \"#fb9f3a\"], [0.8888888888888888, \"#fdca26\"], [1.0, \"#f0f921\"]], \"type\": \"histogram2dcontour\"}], \"mesh3d\": [{\"colorbar\": {\"outlinewidth\": 0, \"ticks\": \"\"}, \"type\": \"mesh3d\"}], \"parcoords\": [{\"line\": {\"colorbar\": {\"outlinewidth\": 0, \"ticks\": \"\"}}, \"type\": \"parcoords\"}], \"pie\": [{\"automargin\": true, \"type\": \"pie\"}], \"scatter\": [{\"marker\": {\"colorbar\": {\"outlinewidth\": 0, \"ticks\": \"\"}}, \"type\": \"scatter\"}], \"scatter3d\": [{\"line\": {\"colorbar\": {\"outlinewidth\": 0, \"ticks\": \"\"}}, \"marker\": {\"colorbar\": {\"outlinewidth\": 0, \"ticks\": \"\"}}, \"type\": \"scatter3d\"}], \"scattercarpet\": [{\"marker\": {\"colorbar\": {\"outlinewidth\": 0, \"ticks\": \"\"}}, \"type\": \"scattercarpet\"}], \"scattergeo\": [{\"marker\": {\"colorbar\": {\"outlinewidth\": 0, \"ticks\": \"\"}}, \"type\": \"scattergeo\"}], \"scattergl\": [{\"marker\": {\"colorbar\": {\"outlinewidth\": 0, \"ticks\": \"\"}}, \"type\": \"scattergl\"}], \"scattermapbox\": [{\"marker\": {\"colorbar\": {\"outlinewidth\": 0, \"ticks\": \"\"}}, \"type\": \"scattermapbox\"}], \"scatterpolar\": [{\"marker\": {\"colorbar\": {\"outlinewidth\": 0, \"ticks\": \"\"}}, \"type\": \"scatterpolar\"}], \"scatterpolargl\": [{\"marker\": {\"colorbar\": {\"outlinewidth\": 0, \"ticks\": \"\"}}, \"type\": \"scatterpolargl\"}], \"scatterternary\": [{\"marker\": {\"colorbar\": {\"outlinewidth\": 0, \"ticks\": \"\"}}, \"type\": \"scatterternary\"}], \"surface\": [{\"colorbar\": {\"outlinewidth\": 0, \"ticks\": \"\"}, \"colorscale\": [[0.0, \"#0d0887\"], [0.1111111111111111, \"#46039f\"], [0.2222222222222222, \"#7201a8\"], [0.3333333333333333, \"#9c179e\"], [0.4444444444444444, \"#bd3786\"], [0.5555555555555556, \"#d8576b\"], [0.6666666666666666, \"#ed7953\"], [0.7777777777777778, \"#fb9f3a\"], [0.8888888888888888, \"#fdca26\"], [1.0, \"#f0f921\"]], \"type\": \"surface\"}], \"table\": [{\"cells\": {\"fill\": {\"color\": \"#EBF0F8\"}, \"line\": {\"color\": \"white\"}}, \"header\": {\"fill\": {\"color\": \"#C8D4E3\"}, \"line\": {\"color\": \"white\"}}, \"type\": \"table\"}]}, \"layout\": {\"annotationdefaults\": {\"arrowcolor\": \"#2a3f5f\", \"arrowhead\": 0, \"arrowwidth\": 1}, \"coloraxis\": {\"colorbar\": {\"outlinewidth\": 0, \"ticks\": \"\"}}, \"colorscale\": {\"diverging\": [[0, \"#8e0152\"], [0.1, \"#c51b7d\"], [0.2, \"#de77ae\"], [0.3, \"#f1b6da\"], [0.4, \"#fde0ef\"], [0.5, \"#f7f7f7\"], [0.6, \"#e6f5d0\"], [0.7, \"#b8e186\"], [0.8, \"#7fbc41\"], [0.9, \"#4d9221\"], [1, \"#276419\"]], \"sequential\": [[0.0, \"#0d0887\"], [0.1111111111111111, \"#46039f\"], [0.2222222222222222, \"#7201a8\"], [0.3333333333333333, \"#9c179e\"], [0.4444444444444444, \"#bd3786\"], [0.5555555555555556, \"#d8576b\"], [0.6666666666666666, \"#ed7953\"], [0.7777777777777778, \"#fb9f3a\"], [0.8888888888888888, \"#fdca26\"], [1.0, \"#f0f921\"]], \"sequentialminus\": [[0.0, \"#0d0887\"], [0.1111111111111111, \"#46039f\"], [0.2222222222222222, \"#7201a8\"], [0.3333333333333333, \"#9c179e\"], [0.4444444444444444, \"#bd3786\"], [0.5555555555555556, \"#d8576b\"], [0.6666666666666666, \"#ed7953\"], [0.7777777777777778, \"#fb9f3a\"], [0.8888888888888888, \"#fdca26\"], [1.0, \"#f0f921\"]]}, \"colorway\": [\"#636efa\", \"#EF553B\", \"#00cc96\", \"#ab63fa\", \"#FFA15A\", \"#19d3f3\", \"#FF6692\", \"#B6E880\", \"#FF97FF\", \"#FECB52\"], \"font\": {\"color\": \"#2a3f5f\"}, \"geo\": {\"bgcolor\": \"white\", \"lakecolor\": \"white\", \"landcolor\": \"#E5ECF6\", \"showlakes\": true, \"showland\": true, \"subunitcolor\": \"white\"}, \"hoverlabel\": {\"align\": \"left\"}, \"hovermode\": \"closest\", \"mapbox\": {\"style\": \"light\"}, \"paper_bgcolor\": \"white\", \"plot_bgcolor\": \"#E5ECF6\", \"polar\": {\"angularaxis\": {\"gridcolor\": \"white\", \"linecolor\": \"white\", \"ticks\": \"\"}, \"bgcolor\": \"#E5ECF6\", \"radialaxis\": {\"gridcolor\": \"white\", \"linecolor\": \"white\", \"ticks\": \"\"}}, \"scene\": {\"xaxis\": {\"backgroundcolor\": \"#E5ECF6\", \"gridcolor\": \"white\", \"gridwidth\": 2, \"linecolor\": \"white\", \"showbackground\": true, \"ticks\": \"\", \"zerolinecolor\": \"white\"}, \"yaxis\": {\"backgroundcolor\": \"#E5ECF6\", \"gridcolor\": \"white\", \"gridwidth\": 2, \"linecolor\": \"white\", \"showbackground\": true, \"ticks\": \"\", \"zerolinecolor\": \"white\"}, \"zaxis\": {\"backgroundcolor\": \"#E5ECF6\", \"gridcolor\": \"white\", \"gridwidth\": 2, \"linecolor\": \"white\", \"showbackground\": true, \"ticks\": \"\", \"zerolinecolor\": \"white\"}}, \"shapedefaults\": {\"line\": {\"color\": \"#2a3f5f\"}}, \"ternary\": {\"aaxis\": {\"gridcolor\": \"white\", \"linecolor\": \"white\", \"ticks\": \"\"}, \"baxis\": {\"gridcolor\": \"white\", \"linecolor\": \"white\", \"ticks\": \"\"}, \"bgcolor\": \"#E5ECF6\", \"caxis\": {\"gridcolor\": \"white\", \"linecolor\": \"white\", \"ticks\": \"\"}}, \"title\": {\"x\": 0.05}, \"xaxis\": {\"automargin\": true, \"gridcolor\": \"white\", \"linecolor\": \"white\", \"ticks\": \"\", \"title\": {\"standoff\": 15}, \"zerolinecolor\": \"white\", \"zerolinewidth\": 2}, \"yaxis\": {\"automargin\": true, \"gridcolor\": \"white\", \"linecolor\": \"white\", \"ticks\": \"\", \"title\": {\"standoff\": 15}, \"zerolinecolor\": \"white\", \"zerolinewidth\": 2}}}, \"title\": {\"text\": \"\\uacc4\\uc808\\ubcc4 \\ub9e4\\ucd9c\"}, \"xaxis\": {\"gridwidth\": 2, \"ticklen\": 5, \"title\": {\"text\": \" \"}, \"zeroline\": false}, \"yaxis\": {\"gridwidth\": 2, \"ticklen\": 5, \"title\": {\"text\": \"\\ub9e4\\ucd9c\\uc561\"}}},                        {\"responsive\": true}                    ).then(function(){\n",
       "                            \n",
       "var gd = document.getElementById('d3c9e674-c4d0-4613-bcd0-859828e23d3a');\n",
       "var x = new MutationObserver(function (mutations, observer) {{\n",
       "        var display = window.getComputedStyle(gd).display;\n",
       "        if (!display || display === 'none') {{\n",
       "            console.log([gd, 'removed!']);\n",
       "            Plotly.purge(gd);\n",
       "            observer.disconnect();\n",
       "        }}\n",
       "}});\n",
       "\n",
       "// Listen for the removal of the full notebook cells\n",
       "var notebookContainer = gd.closest('#notebook-container');\n",
       "if (notebookContainer) {{\n",
       "    x.observe(notebookContainer, {childList: true});\n",
       "}}\n",
       "\n",
       "// Listen for the clearing of the current output cell\n",
       "var outputEl = gd.closest('.output');\n",
       "if (outputEl) {{\n",
       "    x.observe(outputEl, {childList: true});\n",
       "}}\n",
       "\n",
       "                        })                };                });            </script>        </div>"
      ]
     },
     "metadata": {},
     "output_type": "display_data"
    }
   ],
   "source": [
    "# 2분기에 매출이 많이 상승하고 3분기에는 매출이 떨어지는 모습을 보인다. 12월은 연말이라 사람들의 소비가 늘어난 것으로 보임.\n",
    "data = [go.Bar(x=seasonal_sales[\"month\"], y=seasonal_sales[\"seasonal_sales\"], name=\"월별 매출\", marker_color=\"blue\", opacity = 0.6)]\n",
    "layout= go.Layout(title= \"계절별 매출\", xaxis= dict(title=' ', ticklen=5, zeroline=False, gridwidth=2), yaxis= dict(title='매출액', ticklen=5, gridwidth=2), showlegend=True)\n",
    "fig = go.Figure(data=data, layout=layout)\n",
    "py.iplot(fig, filename='계절별 매출')"
   ]
  },
  {
   "cell_type": "code",
   "execution_count": 131,
   "metadata": {},
   "outputs": [],
   "source": [
    "# 요일별로 묶기\n",
    "train_mon = train[train['days_of_week']==0]\n",
    "train_tue = train[train['days_of_week']==1]\n",
    "train_wed = train[train['days_of_week']==2]\n",
    "train_thu = train[train['days_of_week']==3]\n",
    "train_fri = train[train['days_of_week']==4]\n",
    "train_sat = train[train['days_of_week']==5]\n",
    "train_sun = train[train['days_of_week']==6]"
   ]
  },
  {
   "cell_type": "code",
   "execution_count": 132,
   "metadata": {},
   "outputs": [],
   "source": [
    "# 요일별 매출\n",
    "monday_amount = train_mon[\"amount\"].sum()\n",
    "tuesday_amount = train_tue[\"amount\"].sum()\n",
    "wednesday_amount = train_wed[\"amount\"].sum()\n",
    "thursday_amount = train_thu[\"amount\"].sum()\n",
    "firday_amount = train_fri[\"amount\"].sum()\n",
    "saturday_amount = train_sat[\"amount\"].sum()\n",
    "sunday_amount = train_sun[\"amount\"].sum()"
   ]
  },
  {
   "cell_type": "code",
   "execution_count": 133,
   "metadata": {},
   "outputs": [
    {
     "data": {
      "text/html": [
       "<div>\n",
       "<style scoped>\n",
       "    .dataframe tbody tr th:only-of-type {\n",
       "        vertical-align: middle;\n",
       "    }\n",
       "\n",
       "    .dataframe tbody tr th {\n",
       "        vertical-align: top;\n",
       "    }\n",
       "\n",
       "    .dataframe thead th {\n",
       "        text-align: right;\n",
       "    }\n",
       "</style>\n",
       "<table border=\"1\" class=\"dataframe\">\n",
       "  <thead>\n",
       "    <tr style=\"text-align: right;\">\n",
       "      <th></th>\n",
       "      <th>요일</th>\n",
       "      <th>총매출</th>\n",
       "    </tr>\n",
       "  </thead>\n",
       "  <tbody>\n",
       "    <tr>\n",
       "      <th>0</th>\n",
       "      <td>월요일</td>\n",
       "      <td>63775713</td>\n",
       "    </tr>\n",
       "    <tr>\n",
       "      <th>1</th>\n",
       "      <td>화요일</td>\n",
       "      <td>69344368</td>\n",
       "    </tr>\n",
       "    <tr>\n",
       "      <th>2</th>\n",
       "      <td>수요일</td>\n",
       "      <td>70364239</td>\n",
       "    </tr>\n",
       "    <tr>\n",
       "      <th>3</th>\n",
       "      <td>목요일</td>\n",
       "      <td>70740856</td>\n",
       "    </tr>\n",
       "    <tr>\n",
       "      <th>4</th>\n",
       "      <td>금요일</td>\n",
       "      <td>77353173</td>\n",
       "    </tr>\n",
       "    <tr>\n",
       "      <th>5</th>\n",
       "      <td>토요일</td>\n",
       "      <td>78436708</td>\n",
       "    </tr>\n",
       "    <tr>\n",
       "      <th>6</th>\n",
       "      <td>일요일</td>\n",
       "      <td>60627789</td>\n",
       "    </tr>\n",
       "  </tbody>\n",
       "</table>\n",
       "</div>"
      ],
      "text/plain": [
       "    요일       총매출\n",
       "0  월요일  63775713\n",
       "1  화요일  69344368\n",
       "2  수요일  70364239\n",
       "3  목요일  70740856\n",
       "4  금요일  77353173\n",
       "5  토요일  78436708\n",
       "6  일요일  60627789"
      ]
     },
     "execution_count": 133,
     "metadata": {},
     "output_type": "execute_result"
    }
   ],
   "source": [
    "# 요일별 매출 데이터프레임\n",
    "week_amount_data = {\"요일\":[\"월요일\", \"화요일\", \"수요일\", \"목요일\", \"금요일\", \"토요일\", \"일요일\"],\\\n",
    "        \"총매출\":[monday_amount, tuesday_amount, wednesday_amount, thursday_amount, firday_amount, saturday_amount, sunday_amount]}\n",
    "weekly_amount_df = pd.DataFrame(week_amount_data)\n",
    "weekly_amount_df"
   ]
  },
  {
   "cell_type": "code",
   "execution_count": 152,
   "metadata": {},
   "outputs": [
    {
     "data": {
      "application/vnd.plotly.v1+json": {
       "config": {
        "linkText": "Export to plot.ly",
        "plotlyServerURL": "https://plot.ly",
        "showLink": false
       },
       "data": [
        {
         "marker": {
          "color": "blue"
         },
         "name": "요일별 매출",
         "type": "scatter",
         "x": [
          "월요일",
          "화요일",
          "수요일",
          "목요일",
          "금요일",
          "토요일",
          "일요일"
         ],
         "y": [
          63775713,
          69344368,
          70364239,
          70740856,
          77353173,
          78436708,
          60627789
         ]
        }
       ],
       "layout": {
        "showlegend": true,
        "template": {
         "data": {
          "bar": [
           {
            "error_x": {
             "color": "#2a3f5f"
            },
            "error_y": {
             "color": "#2a3f5f"
            },
            "marker": {
             "line": {
              "color": "#E5ECF6",
              "width": 0.5
             }
            },
            "type": "bar"
           }
          ],
          "barpolar": [
           {
            "marker": {
             "line": {
              "color": "#E5ECF6",
              "width": 0.5
             }
            },
            "type": "barpolar"
           }
          ],
          "carpet": [
           {
            "aaxis": {
             "endlinecolor": "#2a3f5f",
             "gridcolor": "white",
             "linecolor": "white",
             "minorgridcolor": "white",
             "startlinecolor": "#2a3f5f"
            },
            "baxis": {
             "endlinecolor": "#2a3f5f",
             "gridcolor": "white",
             "linecolor": "white",
             "minorgridcolor": "white",
             "startlinecolor": "#2a3f5f"
            },
            "type": "carpet"
           }
          ],
          "choropleth": [
           {
            "colorbar": {
             "outlinewidth": 0,
             "ticks": ""
            },
            "type": "choropleth"
           }
          ],
          "contour": [
           {
            "colorbar": {
             "outlinewidth": 0,
             "ticks": ""
            },
            "colorscale": [
             [
              0,
              "#0d0887"
             ],
             [
              0.1111111111111111,
              "#46039f"
             ],
             [
              0.2222222222222222,
              "#7201a8"
             ],
             [
              0.3333333333333333,
              "#9c179e"
             ],
             [
              0.4444444444444444,
              "#bd3786"
             ],
             [
              0.5555555555555556,
              "#d8576b"
             ],
             [
              0.6666666666666666,
              "#ed7953"
             ],
             [
              0.7777777777777778,
              "#fb9f3a"
             ],
             [
              0.8888888888888888,
              "#fdca26"
             ],
             [
              1,
              "#f0f921"
             ]
            ],
            "type": "contour"
           }
          ],
          "contourcarpet": [
           {
            "colorbar": {
             "outlinewidth": 0,
             "ticks": ""
            },
            "type": "contourcarpet"
           }
          ],
          "heatmap": [
           {
            "colorbar": {
             "outlinewidth": 0,
             "ticks": ""
            },
            "colorscale": [
             [
              0,
              "#0d0887"
             ],
             [
              0.1111111111111111,
              "#46039f"
             ],
             [
              0.2222222222222222,
              "#7201a8"
             ],
             [
              0.3333333333333333,
              "#9c179e"
             ],
             [
              0.4444444444444444,
              "#bd3786"
             ],
             [
              0.5555555555555556,
              "#d8576b"
             ],
             [
              0.6666666666666666,
              "#ed7953"
             ],
             [
              0.7777777777777778,
              "#fb9f3a"
             ],
             [
              0.8888888888888888,
              "#fdca26"
             ],
             [
              1,
              "#f0f921"
             ]
            ],
            "type": "heatmap"
           }
          ],
          "heatmapgl": [
           {
            "colorbar": {
             "outlinewidth": 0,
             "ticks": ""
            },
            "colorscale": [
             [
              0,
              "#0d0887"
             ],
             [
              0.1111111111111111,
              "#46039f"
             ],
             [
              0.2222222222222222,
              "#7201a8"
             ],
             [
              0.3333333333333333,
              "#9c179e"
             ],
             [
              0.4444444444444444,
              "#bd3786"
             ],
             [
              0.5555555555555556,
              "#d8576b"
             ],
             [
              0.6666666666666666,
              "#ed7953"
             ],
             [
              0.7777777777777778,
              "#fb9f3a"
             ],
             [
              0.8888888888888888,
              "#fdca26"
             ],
             [
              1,
              "#f0f921"
             ]
            ],
            "type": "heatmapgl"
           }
          ],
          "histogram": [
           {
            "marker": {
             "colorbar": {
              "outlinewidth": 0,
              "ticks": ""
             }
            },
            "type": "histogram"
           }
          ],
          "histogram2d": [
           {
            "colorbar": {
             "outlinewidth": 0,
             "ticks": ""
            },
            "colorscale": [
             [
              0,
              "#0d0887"
             ],
             [
              0.1111111111111111,
              "#46039f"
             ],
             [
              0.2222222222222222,
              "#7201a8"
             ],
             [
              0.3333333333333333,
              "#9c179e"
             ],
             [
              0.4444444444444444,
              "#bd3786"
             ],
             [
              0.5555555555555556,
              "#d8576b"
             ],
             [
              0.6666666666666666,
              "#ed7953"
             ],
             [
              0.7777777777777778,
              "#fb9f3a"
             ],
             [
              0.8888888888888888,
              "#fdca26"
             ],
             [
              1,
              "#f0f921"
             ]
            ],
            "type": "histogram2d"
           }
          ],
          "histogram2dcontour": [
           {
            "colorbar": {
             "outlinewidth": 0,
             "ticks": ""
            },
            "colorscale": [
             [
              0,
              "#0d0887"
             ],
             [
              0.1111111111111111,
              "#46039f"
             ],
             [
              0.2222222222222222,
              "#7201a8"
             ],
             [
              0.3333333333333333,
              "#9c179e"
             ],
             [
              0.4444444444444444,
              "#bd3786"
             ],
             [
              0.5555555555555556,
              "#d8576b"
             ],
             [
              0.6666666666666666,
              "#ed7953"
             ],
             [
              0.7777777777777778,
              "#fb9f3a"
             ],
             [
              0.8888888888888888,
              "#fdca26"
             ],
             [
              1,
              "#f0f921"
             ]
            ],
            "type": "histogram2dcontour"
           }
          ],
          "mesh3d": [
           {
            "colorbar": {
             "outlinewidth": 0,
             "ticks": ""
            },
            "type": "mesh3d"
           }
          ],
          "parcoords": [
           {
            "line": {
             "colorbar": {
              "outlinewidth": 0,
              "ticks": ""
             }
            },
            "type": "parcoords"
           }
          ],
          "pie": [
           {
            "automargin": true,
            "type": "pie"
           }
          ],
          "scatter": [
           {
            "marker": {
             "colorbar": {
              "outlinewidth": 0,
              "ticks": ""
             }
            },
            "type": "scatter"
           }
          ],
          "scatter3d": [
           {
            "line": {
             "colorbar": {
              "outlinewidth": 0,
              "ticks": ""
             }
            },
            "marker": {
             "colorbar": {
              "outlinewidth": 0,
              "ticks": ""
             }
            },
            "type": "scatter3d"
           }
          ],
          "scattercarpet": [
           {
            "marker": {
             "colorbar": {
              "outlinewidth": 0,
              "ticks": ""
             }
            },
            "type": "scattercarpet"
           }
          ],
          "scattergeo": [
           {
            "marker": {
             "colorbar": {
              "outlinewidth": 0,
              "ticks": ""
             }
            },
            "type": "scattergeo"
           }
          ],
          "scattergl": [
           {
            "marker": {
             "colorbar": {
              "outlinewidth": 0,
              "ticks": ""
             }
            },
            "type": "scattergl"
           }
          ],
          "scattermapbox": [
           {
            "marker": {
             "colorbar": {
              "outlinewidth": 0,
              "ticks": ""
             }
            },
            "type": "scattermapbox"
           }
          ],
          "scatterpolar": [
           {
            "marker": {
             "colorbar": {
              "outlinewidth": 0,
              "ticks": ""
             }
            },
            "type": "scatterpolar"
           }
          ],
          "scatterpolargl": [
           {
            "marker": {
             "colorbar": {
              "outlinewidth": 0,
              "ticks": ""
             }
            },
            "type": "scatterpolargl"
           }
          ],
          "scatterternary": [
           {
            "marker": {
             "colorbar": {
              "outlinewidth": 0,
              "ticks": ""
             }
            },
            "type": "scatterternary"
           }
          ],
          "surface": [
           {
            "colorbar": {
             "outlinewidth": 0,
             "ticks": ""
            },
            "colorscale": [
             [
              0,
              "#0d0887"
             ],
             [
              0.1111111111111111,
              "#46039f"
             ],
             [
              0.2222222222222222,
              "#7201a8"
             ],
             [
              0.3333333333333333,
              "#9c179e"
             ],
             [
              0.4444444444444444,
              "#bd3786"
             ],
             [
              0.5555555555555556,
              "#d8576b"
             ],
             [
              0.6666666666666666,
              "#ed7953"
             ],
             [
              0.7777777777777778,
              "#fb9f3a"
             ],
             [
              0.8888888888888888,
              "#fdca26"
             ],
             [
              1,
              "#f0f921"
             ]
            ],
            "type": "surface"
           }
          ],
          "table": [
           {
            "cells": {
             "fill": {
              "color": "#EBF0F8"
             },
             "line": {
              "color": "white"
             }
            },
            "header": {
             "fill": {
              "color": "#C8D4E3"
             },
             "line": {
              "color": "white"
             }
            },
            "type": "table"
           }
          ]
         },
         "layout": {
          "annotationdefaults": {
           "arrowcolor": "#2a3f5f",
           "arrowhead": 0,
           "arrowwidth": 1
          },
          "coloraxis": {
           "colorbar": {
            "outlinewidth": 0,
            "ticks": ""
           }
          },
          "colorscale": {
           "diverging": [
            [
             0,
             "#8e0152"
            ],
            [
             0.1,
             "#c51b7d"
            ],
            [
             0.2,
             "#de77ae"
            ],
            [
             0.3,
             "#f1b6da"
            ],
            [
             0.4,
             "#fde0ef"
            ],
            [
             0.5,
             "#f7f7f7"
            ],
            [
             0.6,
             "#e6f5d0"
            ],
            [
             0.7,
             "#b8e186"
            ],
            [
             0.8,
             "#7fbc41"
            ],
            [
             0.9,
             "#4d9221"
            ],
            [
             1,
             "#276419"
            ]
           ],
           "sequential": [
            [
             0,
             "#0d0887"
            ],
            [
             0.1111111111111111,
             "#46039f"
            ],
            [
             0.2222222222222222,
             "#7201a8"
            ],
            [
             0.3333333333333333,
             "#9c179e"
            ],
            [
             0.4444444444444444,
             "#bd3786"
            ],
            [
             0.5555555555555556,
             "#d8576b"
            ],
            [
             0.6666666666666666,
             "#ed7953"
            ],
            [
             0.7777777777777778,
             "#fb9f3a"
            ],
            [
             0.8888888888888888,
             "#fdca26"
            ],
            [
             1,
             "#f0f921"
            ]
           ],
           "sequentialminus": [
            [
             0,
             "#0d0887"
            ],
            [
             0.1111111111111111,
             "#46039f"
            ],
            [
             0.2222222222222222,
             "#7201a8"
            ],
            [
             0.3333333333333333,
             "#9c179e"
            ],
            [
             0.4444444444444444,
             "#bd3786"
            ],
            [
             0.5555555555555556,
             "#d8576b"
            ],
            [
             0.6666666666666666,
             "#ed7953"
            ],
            [
             0.7777777777777778,
             "#fb9f3a"
            ],
            [
             0.8888888888888888,
             "#fdca26"
            ],
            [
             1,
             "#f0f921"
            ]
           ]
          },
          "colorway": [
           "#636efa",
           "#EF553B",
           "#00cc96",
           "#ab63fa",
           "#FFA15A",
           "#19d3f3",
           "#FF6692",
           "#B6E880",
           "#FF97FF",
           "#FECB52"
          ],
          "font": {
           "color": "#2a3f5f"
          },
          "geo": {
           "bgcolor": "white",
           "lakecolor": "white",
           "landcolor": "#E5ECF6",
           "showlakes": true,
           "showland": true,
           "subunitcolor": "white"
          },
          "hoverlabel": {
           "align": "left"
          },
          "hovermode": "closest",
          "mapbox": {
           "style": "light"
          },
          "paper_bgcolor": "white",
          "plot_bgcolor": "#E5ECF6",
          "polar": {
           "angularaxis": {
            "gridcolor": "white",
            "linecolor": "white",
            "ticks": ""
           },
           "bgcolor": "#E5ECF6",
           "radialaxis": {
            "gridcolor": "white",
            "linecolor": "white",
            "ticks": ""
           }
          },
          "scene": {
           "xaxis": {
            "backgroundcolor": "#E5ECF6",
            "gridcolor": "white",
            "gridwidth": 2,
            "linecolor": "white",
            "showbackground": true,
            "ticks": "",
            "zerolinecolor": "white"
           },
           "yaxis": {
            "backgroundcolor": "#E5ECF6",
            "gridcolor": "white",
            "gridwidth": 2,
            "linecolor": "white",
            "showbackground": true,
            "ticks": "",
            "zerolinecolor": "white"
           },
           "zaxis": {
            "backgroundcolor": "#E5ECF6",
            "gridcolor": "white",
            "gridwidth": 2,
            "linecolor": "white",
            "showbackground": true,
            "ticks": "",
            "zerolinecolor": "white"
           }
          },
          "shapedefaults": {
           "line": {
            "color": "#2a3f5f"
           }
          },
          "ternary": {
           "aaxis": {
            "gridcolor": "white",
            "linecolor": "white",
            "ticks": ""
           },
           "baxis": {
            "gridcolor": "white",
            "linecolor": "white",
            "ticks": ""
           },
           "bgcolor": "#E5ECF6",
           "caxis": {
            "gridcolor": "white",
            "linecolor": "white",
            "ticks": ""
           }
          },
          "title": {
           "x": 0.05
          },
          "xaxis": {
           "automargin": true,
           "gridcolor": "white",
           "linecolor": "white",
           "ticks": "",
           "title": {
            "standoff": 15
           },
           "zerolinecolor": "white",
           "zerolinewidth": 2
          },
          "yaxis": {
           "automargin": true,
           "gridcolor": "white",
           "linecolor": "white",
           "ticks": "",
           "title": {
            "standoff": 15
           },
           "zerolinecolor": "white",
           "zerolinewidth": 2
          }
         }
        },
        "title": {
         "text": "요일별 매출"
        },
        "xaxis": {
         "gridwidth": 2,
         "ticklen": 5,
         "title": {
          "text": " "
         },
         "zeroline": true
        },
        "yaxis": {
         "gridwidth": 2,
         "ticklen": 5,
         "title": {
          "text": "매출액"
         }
        }
       }
      },
      "text/html": [
       "<div>                            <div id=\"94cc83a3-a6cb-4ed0-a0d0-8652be39db73\" class=\"plotly-graph-div\" style=\"height:525px; width:100%;\"></div>            <script type=\"text/javascript\">                require([\"plotly\"], function(Plotly) {                    window.PLOTLYENV=window.PLOTLYENV || {};                                    if (document.getElementById(\"94cc83a3-a6cb-4ed0-a0d0-8652be39db73\")) {                    Plotly.newPlot(                        \"94cc83a3-a6cb-4ed0-a0d0-8652be39db73\",                        [{\"marker\": {\"color\": \"blue\"}, \"name\": \"\\uc694\\uc77c\\ubcc4 \\ub9e4\\ucd9c\", \"type\": \"scatter\", \"x\": [\"\\uc6d4\\uc694\\uc77c\", \"\\ud654\\uc694\\uc77c\", \"\\uc218\\uc694\\uc77c\", \"\\ubaa9\\uc694\\uc77c\", \"\\uae08\\uc694\\uc77c\", \"\\ud1a0\\uc694\\uc77c\", \"\\uc77c\\uc694\\uc77c\"], \"y\": [63775713, 69344368, 70364239, 70740856, 77353173, 78436708, 60627789]}],                        {\"showlegend\": true, \"template\": {\"data\": {\"bar\": [{\"error_x\": {\"color\": \"#2a3f5f\"}, \"error_y\": {\"color\": \"#2a3f5f\"}, \"marker\": {\"line\": {\"color\": \"#E5ECF6\", \"width\": 0.5}}, \"type\": \"bar\"}], \"barpolar\": [{\"marker\": {\"line\": {\"color\": \"#E5ECF6\", \"width\": 0.5}}, \"type\": \"barpolar\"}], \"carpet\": [{\"aaxis\": {\"endlinecolor\": \"#2a3f5f\", \"gridcolor\": \"white\", \"linecolor\": \"white\", \"minorgridcolor\": \"white\", \"startlinecolor\": \"#2a3f5f\"}, \"baxis\": {\"endlinecolor\": \"#2a3f5f\", \"gridcolor\": \"white\", \"linecolor\": \"white\", \"minorgridcolor\": \"white\", \"startlinecolor\": \"#2a3f5f\"}, \"type\": \"carpet\"}], \"choropleth\": [{\"colorbar\": {\"outlinewidth\": 0, \"ticks\": \"\"}, \"type\": \"choropleth\"}], \"contour\": [{\"colorbar\": {\"outlinewidth\": 0, \"ticks\": \"\"}, \"colorscale\": [[0.0, \"#0d0887\"], [0.1111111111111111, \"#46039f\"], [0.2222222222222222, \"#7201a8\"], [0.3333333333333333, \"#9c179e\"], [0.4444444444444444, \"#bd3786\"], [0.5555555555555556, \"#d8576b\"], [0.6666666666666666, \"#ed7953\"], [0.7777777777777778, \"#fb9f3a\"], [0.8888888888888888, \"#fdca26\"], [1.0, \"#f0f921\"]], \"type\": \"contour\"}], \"contourcarpet\": [{\"colorbar\": {\"outlinewidth\": 0, \"ticks\": \"\"}, \"type\": \"contourcarpet\"}], \"heatmap\": [{\"colorbar\": {\"outlinewidth\": 0, \"ticks\": \"\"}, \"colorscale\": [[0.0, \"#0d0887\"], [0.1111111111111111, \"#46039f\"], [0.2222222222222222, \"#7201a8\"], [0.3333333333333333, \"#9c179e\"], [0.4444444444444444, \"#bd3786\"], [0.5555555555555556, \"#d8576b\"], [0.6666666666666666, \"#ed7953\"], [0.7777777777777778, \"#fb9f3a\"], [0.8888888888888888, \"#fdca26\"], [1.0, \"#f0f921\"]], \"type\": \"heatmap\"}], \"heatmapgl\": [{\"colorbar\": {\"outlinewidth\": 0, \"ticks\": \"\"}, \"colorscale\": [[0.0, \"#0d0887\"], [0.1111111111111111, \"#46039f\"], [0.2222222222222222, \"#7201a8\"], [0.3333333333333333, \"#9c179e\"], [0.4444444444444444, \"#bd3786\"], [0.5555555555555556, \"#d8576b\"], [0.6666666666666666, \"#ed7953\"], [0.7777777777777778, \"#fb9f3a\"], [0.8888888888888888, \"#fdca26\"], [1.0, \"#f0f921\"]], \"type\": \"heatmapgl\"}], \"histogram\": [{\"marker\": {\"colorbar\": {\"outlinewidth\": 0, \"ticks\": \"\"}}, \"type\": \"histogram\"}], \"histogram2d\": [{\"colorbar\": {\"outlinewidth\": 0, \"ticks\": \"\"}, \"colorscale\": [[0.0, \"#0d0887\"], [0.1111111111111111, \"#46039f\"], [0.2222222222222222, \"#7201a8\"], [0.3333333333333333, \"#9c179e\"], [0.4444444444444444, \"#bd3786\"], [0.5555555555555556, \"#d8576b\"], [0.6666666666666666, \"#ed7953\"], [0.7777777777777778, \"#fb9f3a\"], [0.8888888888888888, \"#fdca26\"], [1.0, \"#f0f921\"]], \"type\": \"histogram2d\"}], \"histogram2dcontour\": [{\"colorbar\": {\"outlinewidth\": 0, \"ticks\": \"\"}, \"colorscale\": [[0.0, \"#0d0887\"], [0.1111111111111111, \"#46039f\"], [0.2222222222222222, \"#7201a8\"], [0.3333333333333333, \"#9c179e\"], [0.4444444444444444, \"#bd3786\"], [0.5555555555555556, \"#d8576b\"], [0.6666666666666666, \"#ed7953\"], [0.7777777777777778, \"#fb9f3a\"], [0.8888888888888888, \"#fdca26\"], [1.0, \"#f0f921\"]], \"type\": \"histogram2dcontour\"}], \"mesh3d\": [{\"colorbar\": {\"outlinewidth\": 0, \"ticks\": \"\"}, \"type\": \"mesh3d\"}], \"parcoords\": [{\"line\": {\"colorbar\": {\"outlinewidth\": 0, \"ticks\": \"\"}}, \"type\": \"parcoords\"}], \"pie\": [{\"automargin\": true, \"type\": \"pie\"}], \"scatter\": [{\"marker\": {\"colorbar\": {\"outlinewidth\": 0, \"ticks\": \"\"}}, \"type\": \"scatter\"}], \"scatter3d\": [{\"line\": {\"colorbar\": {\"outlinewidth\": 0, \"ticks\": \"\"}}, \"marker\": {\"colorbar\": {\"outlinewidth\": 0, \"ticks\": \"\"}}, \"type\": \"scatter3d\"}], \"scattercarpet\": [{\"marker\": {\"colorbar\": {\"outlinewidth\": 0, \"ticks\": \"\"}}, \"type\": \"scattercarpet\"}], \"scattergeo\": [{\"marker\": {\"colorbar\": {\"outlinewidth\": 0, \"ticks\": \"\"}}, \"type\": \"scattergeo\"}], \"scattergl\": [{\"marker\": {\"colorbar\": {\"outlinewidth\": 0, \"ticks\": \"\"}}, \"type\": \"scattergl\"}], \"scattermapbox\": [{\"marker\": {\"colorbar\": {\"outlinewidth\": 0, \"ticks\": \"\"}}, \"type\": \"scattermapbox\"}], \"scatterpolar\": [{\"marker\": {\"colorbar\": {\"outlinewidth\": 0, \"ticks\": \"\"}}, \"type\": \"scatterpolar\"}], \"scatterpolargl\": [{\"marker\": {\"colorbar\": {\"outlinewidth\": 0, \"ticks\": \"\"}}, \"type\": \"scatterpolargl\"}], \"scatterternary\": [{\"marker\": {\"colorbar\": {\"outlinewidth\": 0, \"ticks\": \"\"}}, \"type\": \"scatterternary\"}], \"surface\": [{\"colorbar\": {\"outlinewidth\": 0, \"ticks\": \"\"}, \"colorscale\": [[0.0, \"#0d0887\"], [0.1111111111111111, \"#46039f\"], [0.2222222222222222, \"#7201a8\"], [0.3333333333333333, \"#9c179e\"], [0.4444444444444444, \"#bd3786\"], [0.5555555555555556, \"#d8576b\"], [0.6666666666666666, \"#ed7953\"], [0.7777777777777778, \"#fb9f3a\"], [0.8888888888888888, \"#fdca26\"], [1.0, \"#f0f921\"]], \"type\": \"surface\"}], \"table\": [{\"cells\": {\"fill\": {\"color\": \"#EBF0F8\"}, \"line\": {\"color\": \"white\"}}, \"header\": {\"fill\": {\"color\": \"#C8D4E3\"}, \"line\": {\"color\": \"white\"}}, \"type\": \"table\"}]}, \"layout\": {\"annotationdefaults\": {\"arrowcolor\": \"#2a3f5f\", \"arrowhead\": 0, \"arrowwidth\": 1}, \"coloraxis\": {\"colorbar\": {\"outlinewidth\": 0, \"ticks\": \"\"}}, \"colorscale\": {\"diverging\": [[0, \"#8e0152\"], [0.1, \"#c51b7d\"], [0.2, \"#de77ae\"], [0.3, \"#f1b6da\"], [0.4, \"#fde0ef\"], [0.5, \"#f7f7f7\"], [0.6, \"#e6f5d0\"], [0.7, \"#b8e186\"], [0.8, \"#7fbc41\"], [0.9, \"#4d9221\"], [1, \"#276419\"]], \"sequential\": [[0.0, \"#0d0887\"], [0.1111111111111111, \"#46039f\"], [0.2222222222222222, \"#7201a8\"], [0.3333333333333333, \"#9c179e\"], [0.4444444444444444, \"#bd3786\"], [0.5555555555555556, \"#d8576b\"], [0.6666666666666666, \"#ed7953\"], [0.7777777777777778, \"#fb9f3a\"], [0.8888888888888888, \"#fdca26\"], [1.0, \"#f0f921\"]], \"sequentialminus\": [[0.0, \"#0d0887\"], [0.1111111111111111, \"#46039f\"], [0.2222222222222222, \"#7201a8\"], [0.3333333333333333, \"#9c179e\"], [0.4444444444444444, \"#bd3786\"], [0.5555555555555556, \"#d8576b\"], [0.6666666666666666, \"#ed7953\"], [0.7777777777777778, \"#fb9f3a\"], [0.8888888888888888, \"#fdca26\"], [1.0, \"#f0f921\"]]}, \"colorway\": [\"#636efa\", \"#EF553B\", \"#00cc96\", \"#ab63fa\", \"#FFA15A\", \"#19d3f3\", \"#FF6692\", \"#B6E880\", \"#FF97FF\", \"#FECB52\"], \"font\": {\"color\": \"#2a3f5f\"}, \"geo\": {\"bgcolor\": \"white\", \"lakecolor\": \"white\", \"landcolor\": \"#E5ECF6\", \"showlakes\": true, \"showland\": true, \"subunitcolor\": \"white\"}, \"hoverlabel\": {\"align\": \"left\"}, \"hovermode\": \"closest\", \"mapbox\": {\"style\": \"light\"}, \"paper_bgcolor\": \"white\", \"plot_bgcolor\": \"#E5ECF6\", \"polar\": {\"angularaxis\": {\"gridcolor\": \"white\", \"linecolor\": \"white\", \"ticks\": \"\"}, \"bgcolor\": \"#E5ECF6\", \"radialaxis\": {\"gridcolor\": \"white\", \"linecolor\": \"white\", \"ticks\": \"\"}}, \"scene\": {\"xaxis\": {\"backgroundcolor\": \"#E5ECF6\", \"gridcolor\": \"white\", \"gridwidth\": 2, \"linecolor\": \"white\", \"showbackground\": true, \"ticks\": \"\", \"zerolinecolor\": \"white\"}, \"yaxis\": {\"backgroundcolor\": \"#E5ECF6\", \"gridcolor\": \"white\", \"gridwidth\": 2, \"linecolor\": \"white\", \"showbackground\": true, \"ticks\": \"\", \"zerolinecolor\": \"white\"}, \"zaxis\": {\"backgroundcolor\": \"#E5ECF6\", \"gridcolor\": \"white\", \"gridwidth\": 2, \"linecolor\": \"white\", \"showbackground\": true, \"ticks\": \"\", \"zerolinecolor\": \"white\"}}, \"shapedefaults\": {\"line\": {\"color\": \"#2a3f5f\"}}, \"ternary\": {\"aaxis\": {\"gridcolor\": \"white\", \"linecolor\": \"white\", \"ticks\": \"\"}, \"baxis\": {\"gridcolor\": \"white\", \"linecolor\": \"white\", \"ticks\": \"\"}, \"bgcolor\": \"#E5ECF6\", \"caxis\": {\"gridcolor\": \"white\", \"linecolor\": \"white\", \"ticks\": \"\"}}, \"title\": {\"x\": 0.05}, \"xaxis\": {\"automargin\": true, \"gridcolor\": \"white\", \"linecolor\": \"white\", \"ticks\": \"\", \"title\": {\"standoff\": 15}, \"zerolinecolor\": \"white\", \"zerolinewidth\": 2}, \"yaxis\": {\"automargin\": true, \"gridcolor\": \"white\", \"linecolor\": \"white\", \"ticks\": \"\", \"title\": {\"standoff\": 15}, \"zerolinecolor\": \"white\", \"zerolinewidth\": 2}}}, \"title\": {\"text\": \"\\uc694\\uc77c\\ubcc4 \\ub9e4\\ucd9c\"}, \"xaxis\": {\"gridwidth\": 2, \"ticklen\": 5, \"title\": {\"text\": \" \"}, \"zeroline\": true}, \"yaxis\": {\"gridwidth\": 2, \"ticklen\": 5, \"title\": {\"text\": \"\\ub9e4\\ucd9c\\uc561\"}}},                        {\"responsive\": true}                    ).then(function(){\n",
       "                            \n",
       "var gd = document.getElementById('94cc83a3-a6cb-4ed0-a0d0-8652be39db73');\n",
       "var x = new MutationObserver(function (mutations, observer) {{\n",
       "        var display = window.getComputedStyle(gd).display;\n",
       "        if (!display || display === 'none') {{\n",
       "            console.log([gd, 'removed!']);\n",
       "            Plotly.purge(gd);\n",
       "            observer.disconnect();\n",
       "        }}\n",
       "}});\n",
       "\n",
       "// Listen for the removal of the full notebook cells\n",
       "var notebookContainer = gd.closest('#notebook-container');\n",
       "if (notebookContainer) {{\n",
       "    x.observe(notebookContainer, {childList: true});\n",
       "}}\n",
       "\n",
       "// Listen for the clearing of the current output cell\n",
       "var outputEl = gd.closest('.output');\n",
       "if (outputEl) {{\n",
       "    x.observe(outputEl, {childList: true});\n",
       "}}\n",
       "\n",
       "                        })                };                });            </script>        </div>"
      ]
     },
     "metadata": {},
     "output_type": "display_data"
    }
   ],
   "source": [
    "# 요일별 총 매출 그래프\n",
    "data = [go.Scatter(x=weekly_amount_df[\"요일\"], y=weekly_amount_df[\"총매출\"], name=\"요일별 매출\", marker_color=\"blue\")]\n",
    "layout= go.Layout(title= \"요일별 매출\", xaxis= dict(title=' ', ticklen=5, zeroline=True, gridwidth=2), yaxis= dict(title='매출액', ticklen=5, gridwidth=2), showlegend=True)\n",
    "fig = go.Figure(data=data, layout=layout)\n",
    "py.iplot(fig, filename='요일별 매출')"
   ]
  },
  {
   "cell_type": "code",
   "execution_count": 140,
   "metadata": {},
   "outputs": [
    {
     "data": {
      "text/html": [
       "<div>\n",
       "<style scoped>\n",
       "    .dataframe tbody tr th:only-of-type {\n",
       "        vertical-align: middle;\n",
       "    }\n",
       "\n",
       "    .dataframe tbody tr th {\n",
       "        vertical-align: top;\n",
       "    }\n",
       "\n",
       "    .dataframe thead th {\n",
       "        text-align: right;\n",
       "    }\n",
       "</style>\n",
       "<table border=\"1\" class=\"dataframe\">\n",
       "  <thead>\n",
       "    <tr style=\"text-align: right;\">\n",
       "      <th></th>\n",
       "      <th>hour</th>\n",
       "      <th>amount</th>\n",
       "    </tr>\n",
       "  </thead>\n",
       "  <tbody>\n",
       "    <tr>\n",
       "      <th>0</th>\n",
       "      <td>0</td>\n",
       "      <td>2202015</td>\n",
       "    </tr>\n",
       "    <tr>\n",
       "      <th>1</th>\n",
       "      <td>1</td>\n",
       "      <td>1734490</td>\n",
       "    </tr>\n",
       "    <tr>\n",
       "      <th>2</th>\n",
       "      <td>2</td>\n",
       "      <td>1230491</td>\n",
       "    </tr>\n",
       "    <tr>\n",
       "      <th>3</th>\n",
       "      <td>3</td>\n",
       "      <td>746695</td>\n",
       "    </tr>\n",
       "    <tr>\n",
       "      <th>4</th>\n",
       "      <td>4</td>\n",
       "      <td>419192</td>\n",
       "    </tr>\n",
       "  </tbody>\n",
       "</table>\n",
       "</div>"
      ],
      "text/plain": [
       "   hour   amount\n",
       "0     0  2202015\n",
       "1     1  1734490\n",
       "2     2  1230491\n",
       "3     3   746695\n",
       "4     4   419192"
      ]
     },
     "execution_count": 140,
     "metadata": {},
     "output_type": "execute_result"
    }
   ],
   "source": [
    "# 요일별 시간대 총 매출\n",
    "monday_hourly_amount = train_mon.groupby(\"hour\")[\"amount\"].sum().reset_index()\n",
    "tuesday_hourly_amount = train_tue.groupby(\"hour\")[\"amount\"].sum().reset_index()\n",
    "wednsday_hourly_amount = train_wed.groupby(\"hour\")[\"amount\"].sum().reset_index()\n",
    "thursday_hourly_amount = train_thu.groupby(\"hour\")[\"amount\"].sum().reset_index()\n",
    "friday_hourly_amount = train_fri.groupby(\"hour\")[\"amount\"].sum().reset_index()\n",
    "saturday_hourly_amount = train_sat.groupby(\"hour\")[\"amount\"].sum().reset_index()\n",
    "sunday_hourly_amount = train_sun.groupby(\"hour\")[\"amount\"].sum().reset_index()\n",
    "sunday_hourly_amount.head()"
   ]
  },
  {
   "cell_type": "code",
   "execution_count": 158,
   "metadata": {},
   "outputs": [
    {
     "data": {
      "text/html": [
       "<div>\n",
       "<style scoped>\n",
       "    .dataframe tbody tr th:only-of-type {\n",
       "        vertical-align: middle;\n",
       "    }\n",
       "\n",
       "    .dataframe tbody tr th {\n",
       "        vertical-align: top;\n",
       "    }\n",
       "\n",
       "    .dataframe thead th {\n",
       "        text-align: right;\n",
       "    }\n",
       "</style>\n",
       "<table border=\"1\" class=\"dataframe\">\n",
       "  <thead>\n",
       "    <tr style=\"text-align: right;\">\n",
       "      <th></th>\n",
       "      <th>hour</th>\n",
       "      <th>weekly_mean_slaes1</th>\n",
       "    </tr>\n",
       "  </thead>\n",
       "  <tbody>\n",
       "    <tr>\n",
       "      <th>19</th>\n",
       "      <td>19</td>\n",
       "      <td>149.374055</td>\n",
       "    </tr>\n",
       "    <tr>\n",
       "      <th>20</th>\n",
       "      <td>20</td>\n",
       "      <td>177.613360</td>\n",
       "    </tr>\n",
       "    <tr>\n",
       "      <th>21</th>\n",
       "      <td>21</td>\n",
       "      <td>173.639091</td>\n",
       "    </tr>\n",
       "    <tr>\n",
       "      <th>22</th>\n",
       "      <td>22</td>\n",
       "      <td>174.035624</td>\n",
       "    </tr>\n",
       "    <tr>\n",
       "      <th>23</th>\n",
       "      <td>23</td>\n",
       "      <td>195.203839</td>\n",
       "    </tr>\n",
       "  </tbody>\n",
       "</table>\n",
       "</div>"
      ],
      "text/plain": [
       "    hour  weekly_mean_slaes1\n",
       "19    19          149.374055\n",
       "20    20          177.613360\n",
       "21    21          173.639091\n",
       "22    22          174.035624\n",
       "23    23          195.203839"
      ]
     },
     "execution_count": 158,
     "metadata": {},
     "output_type": "execute_result"
    }
   ],
   "source": [
    "# 요일별 시간대 한 건당 매출을 확인해보겠습니다.\n",
    "weekly_mean_slaes1 = train_mon.groupby('hour')['amount'].mean().reset_index(name=\"weekly_mean_slaes1\")\n",
    "weekly_mean_slaes2 = train_tue.groupby('hour')['amount'].mean().reset_index(name=\"weekly_mean_slaes2\")\n",
    "weekly_mean_slaes3 = train_wed.groupby('hour')['amount'].mean().reset_index(name=\"weekly_mean_slaes3\")\n",
    "weekly_mean_slaes4 = train_thu.groupby('hour')['amount'].mean().reset_index(name=\"weekly_mean_slaes4\")\n",
    "weekly_mean_slaes5 = train_fri.groupby('hour')['amount'].mean().reset_index(name=\"weekly_mean_slaes5\")\n",
    "weekly_mean_slaes6 = train_sat.groupby('hour')['amount'].mean().reset_index(name=\"weekly_mean_slaes6\")\n",
    "weekly_mean_slaes7 = train_sun.groupby('hour')['amount'].mean().reset_index(name=\"weekly_mean_slaes7\")\n",
    "\n",
    "weekly_mean_slaes1.tail()"
   ]
  },
  {
   "cell_type": "code",
   "execution_count": 175,
   "metadata": {},
   "outputs": [
    {
     "data": {
      "application/vnd.plotly.v1+json": {
       "config": {
        "plotlyServerURL": "https://plot.ly"
       },
       "data": [
        {
         "marker": {
          "color": "black"
         },
         "name": "월요일",
         "type": "scatter",
         "x": [
          23,
          22,
          21,
          20,
          19,
          18,
          17,
          16,
          15,
          14,
          13,
          12,
          11,
          10,
          9,
          8,
          7,
          6,
          5,
          4,
          3,
          2,
          1,
          0
         ],
         "xaxis": "x",
         "y": [
          2593283,
          3634734,
          5081548,
          6889267,
          6321510,
          4799258,
          3833124,
          3607963,
          3693992,
          3541256,
          4536901,
          6020947,
          2453888,
          1632406,
          1005787,
          588614,
          352022,
          226735,
          136184,
          180908,
          302030,
          501468,
          758091,
          1083797
         ],
         "yaxis": "y"
        },
        {
         "marker": {
          "color": "yellow"
         },
         "name": "화요일",
         "type": "scatter",
         "x": [
          23,
          22,
          21,
          20,
          19,
          18,
          17,
          16,
          15,
          14,
          13,
          12,
          11,
          10,
          9,
          8,
          7,
          6,
          5,
          4,
          3,
          2,
          1,
          0
         ],
         "xaxis": "x",
         "y": [
          2804275,
          3944420,
          5554479,
          7367048,
          6594924,
          5168259,
          4055108,
          3565168,
          3514043,
          3616703,
          5016747,
          6422349,
          2769215,
          1707938,
          1308574,
          640153,
          394467,
          289186,
          150976,
          208979,
          457769,
          785441,
          1247097,
          1761050
         ],
         "yaxis": "y"
        },
        {
         "marker": {
          "color": "green"
         },
         "name": "수요일",
         "type": "scatter",
         "x": [
          23,
          22,
          21,
          20,
          19,
          18,
          17,
          16,
          15,
          14,
          13,
          12,
          11,
          10,
          9,
          8,
          7,
          6,
          5,
          4,
          3,
          2,
          1,
          0
         ],
         "xaxis": "x",
         "y": [
          2918023,
          4004980,
          5857288,
          7596764,
          6882799,
          5203872,
          3975748,
          3662286,
          3551324,
          3714886,
          4927772,
          6313265,
          2699929,
          1714203,
          1130822,
          606540,
          389792,
          303457,
          224003,
          213264,
          449839,
          758011,
          1294313,
          1971059
         ],
         "yaxis": "y"
        },
        {
         "marker": {
          "color": "blue"
         },
         "name": "목요일",
         "type": "scatter",
         "x": [
          23,
          22,
          21,
          20,
          19,
          18,
          17,
          16,
          15,
          14,
          13,
          12,
          11,
          10,
          9,
          8,
          7,
          6,
          5,
          4,
          3,
          2,
          1,
          0
         ],
         "xaxis": "x",
         "y": [
          2907302,
          4099564,
          5992895,
          7828266,
          6605361,
          5203296,
          4175751,
          3717978,
          3526487,
          3623189,
          4797807,
          6549704,
          2528856,
          1621905,
          1107426,
          587718,
          392649,
          264889,
          217057,
          278087,
          493181,
          832579,
          1413058,
          1975851
         ],
         "yaxis": "y"
        },
        {
         "marker": {
          "color": "purple"
         },
         "name": "금요일",
         "type": "scatter",
         "x": [
          23,
          22,
          21,
          20,
          19,
          18,
          17,
          16,
          15,
          14,
          13,
          12,
          11,
          10,
          9,
          8,
          7,
          6,
          5,
          4,
          3,
          2,
          1,
          0
         ],
         "xaxis": "x",
         "y": [
          4052481,
          5164529,
          7346150,
          8551917,
          7269714,
          5292907,
          4085389,
          3645283,
          3727376,
          3858578,
          5217752,
          6799529,
          2880751,
          1741794,
          1155281,
          646657,
          430123,
          276021,
          169396,
          234081,
          491778,
          912022,
          1398208,
          2005456
         ],
         "yaxis": "y"
        },
        {
         "marker": {
          "color": "orange"
         },
         "name": "토요일",
         "type": "scatter",
         "x": [
          23,
          22,
          21,
          20,
          19,
          18,
          17,
          16,
          15,
          14,
          13,
          12,
          11,
          10,
          9,
          8,
          7,
          6,
          5,
          4,
          3,
          2,
          1,
          0
         ],
         "xaxis": "x",
         "y": [
          3152530,
          4038392,
          5724722,
          7700772,
          7703038,
          5735125,
          4552497,
          3916715,
          4280263,
          5231504,
          5703684,
          5172793,
          3031242,
          1942561,
          1123944,
          611596,
          395238,
          316972,
          238214,
          458412,
          873210,
          1438909,
          2099746,
          2994629
         ],
         "yaxis": "y"
        },
        {
         "marker": {
          "color": "red"
         },
         "name": "일요일",
         "type": "scatter",
         "x": [
          23,
          22,
          21,
          20,
          19,
          18,
          17,
          16,
          15,
          14,
          13,
          12,
          11,
          10,
          9,
          8,
          7,
          6,
          5,
          4,
          3,
          2,
          1,
          0
         ],
         "xaxis": "x",
         "y": [
          1552569,
          2159477,
          3368040,
          5420098,
          6370469,
          5446178,
          4077926,
          3640843,
          4016055,
          4617746,
          4790022,
          3849635,
          1908739,
          1106561,
          801763,
          429821,
          272532,
          215077,
          251355,
          419192,
          746695,
          1230491,
          1734490,
          2202015
         ],
         "yaxis": "y"
        },
        {
         "marker": {
          "color": "black"
         },
         "showlegend": false,
         "type": "scatter",
         "x": [
          23,
          22,
          21,
          20,
          19,
          18,
          17,
          16,
          15,
          14,
          13,
          12,
          11,
          10,
          9,
          8,
          7,
          6,
          5,
          4,
          3,
          2,
          1,
          0
         ],
         "xaxis": "x2",
         "y": [
          195.20383891607077,
          174.0356236533397,
          173.63909106441142,
          177.61335980200062,
          149.3740548204159,
          131.98190468333195,
          141.9885909023559,
          157.4360954749749,
          168.2682093563522,
          142.05367242970036,
          119.41098594514924,
          115.75627715615026,
          139.83861408707546,
          150.89720835644297,
          115.02596065873742,
          96.74786324786325,
          109.45957711442786,
          131.1364950838635,
          113.581317764804,
          148.16380016380018,
          149.96524329692156,
          164.09293193717278,
          162.78526948679408,
          152.30424395727937
         ],
         "yaxis": "y2"
        },
        {
         "marker": {
          "color": "yellow"
         },
         "showlegend": false,
         "type": "scatter",
         "x": [
          23,
          22,
          21,
          20,
          19,
          18,
          17,
          16,
          15,
          14,
          13,
          12,
          11,
          10,
          9,
          8,
          7,
          6,
          5,
          4,
          3,
          2,
          1,
          0
         ],
         "xaxis": "x2",
         "y": [
          198.13997032431286,
          182.0389514491416,
          180.1530552672548,
          179.7981158783619,
          151.1037690457097,
          137.6990648229558,
          148.53875457875458,
          155.6162374508948,
          159.7510115015684,
          141.64263335160962,
          123.84277567947863,
          113.35490760188503,
          148.43562392795883,
          154.34104464124346,
          139.62590695689286,
          92.38750180401212,
          109.42219140083218,
          141.8273663560569,
          116.58378378378379,
          148.52807391613362,
          203.90601336302896,
          228.12692419401685,
          228.741195891416,
          212.9958877600387
         ],
         "yaxis": "y2"
        },
        {
         "marker": {
          "color": "green"
         },
         "showlegend": false,
         "type": "scatter",
         "x": [
          23,
          22,
          21,
          20,
          19,
          18,
          17,
          16,
          15,
          14,
          13,
          12,
          11,
          10,
          9,
          8,
          7,
          6,
          5,
          4,
          3,
          2,
          1,
          0
         ],
         "xaxis": "x2",
         "y": [
          200.63414466446645,
          180.4288867865027,
          182.68629530285074,
          180.4285578567357,
          153.3873908004992,
          137.10275055327222,
          142.8634877286284,
          157.88437661665805,
          160.16434402200875,
          147.96805544491357,
          122.37439157643787,
          113.40108133352493,
          147.02292528860815,
          154.83723240899647,
          122.94216133942162,
          89.00073367571534,
          110.23529411764706,
          155.22097186700768,
          169.9567526555387,
          157.8564026646928,
          194.73549783549782,
          217.81925287356322,
          232.5391663672296,
          228.4226445706339
         ],
         "yaxis": "y2"
        },
        {
         "marker": {
          "color": "blue"
         },
         "showlegend": false,
         "type": "scatter",
         "x": [
          23,
          22,
          21,
          20,
          19,
          18,
          17,
          16,
          15,
          14,
          13,
          12,
          11,
          10,
          9,
          8,
          7,
          6,
          5,
          4,
          3,
          2,
          1,
          0
         ],
         "xaxis": "x2",
         "y": [
          197.52034784971806,
          182.1623639191291,
          187.05583994007117,
          185.9666468701746,
          147.60913093030013,
          137.9782026464427,
          153.07566259760256,
          164.2942112240389,
          160.27300822615098,
          145.29952678857876,
          118.14348682590494,
          115.48858286459894,
          136.79844206426486,
          149.0447528027936,
          117.9116269165247,
          86.64573197700133,
          109.95491458975077,
          135.9799794661191,
          163.56970610399398,
          185.7628590514362,
          215.45696810834426,
          230.43980071962358,
          244.55832467982,
          219.36838014877318
         ],
         "yaxis": "y2"
        },
        {
         "marker": {
          "color": "purple"
         },
         "showlegend": false,
         "type": "scatter",
         "x": [
          23,
          22,
          21,
          20,
          19,
          18,
          17,
          16,
          15,
          14,
          13,
          12,
          11,
          10,
          9,
          8,
          7,
          6,
          5,
          4,
          3,
          2,
          1,
          0
         ],
         "xaxis": "x2",
         "y": [
          190.61528692380057,
          175.81375319148935,
          189.15825522710887,
          181.55009022396774,
          153.3921465195282,
          137.8827988641988,
          145.19632512350287,
          152.3183603543373,
          160.91245035399757,
          143.65517498138496,
          126.06310703068374,
          118.5475007409732,
          150.5881338212232,
          155.6702118151756,
          118.5633210180624,
          92.02461932545894,
          115.16010709504685,
          139.334174659263,
          134.54805401111994,
          153.89940828402368,
          202.79505154639176,
          236.091638622832,
          234.519959745052,
          222.13735046521933
         ],
         "yaxis": "y2"
        },
        {
         "marker": {
          "color": "orange"
         },
         "showlegend": false,
         "type": "scatter",
         "x": [
          23,
          22,
          21,
          20,
          19,
          18,
          17,
          16,
          15,
          14,
          13,
          12,
          11,
          10,
          9,
          8,
          7,
          6,
          5,
          4,
          3,
          2,
          1,
          0
         ],
         "xaxis": "x2",
         "y": [
          161.04055986922762,
          152.0249962355067,
          162.54179443498012,
          170.29947588403104,
          160.96957412128558,
          138.7071613418144,
          136.60496309188022,
          130.7620271759089,
          131.6436919480839,
          139.7863460253841,
          135.10396285856407,
          137.1984457470228,
          144.08413347276357,
          141.86525962170452,
          118.26010101010101,
          111.91143641354071,
          121.38759213759214,
          139.02280701754387,
          135.65717539863326,
          197.59137931034482,
          221.06582278481014,
          221.37061538461538,
          213.6059003051882,
          207.42737410819421
         ],
         "yaxis": "y2"
        },
        {
         "marker": {
          "color": "red"
         },
         "showlegend": false,
         "type": "scatter",
         "x": [
          23,
          22,
          21,
          20,
          19,
          18,
          17,
          16,
          15,
          14,
          13,
          12,
          11,
          10,
          9,
          8,
          7,
          6,
          5,
          4,
          3,
          2,
          1,
          0
         ],
         "xaxis": "x2",
         "y": [
          140.6439894918018,
          128.48676146843576,
          133.40357270170713,
          145.3304196272959,
          144.02398715861818,
          132.47818049136464,
          125.43990894829125,
          122.05306738183037,
          126.6215278872529,
          127.7738240177089,
          127.01585702163767,
          124.04572404459626,
          118.78393179413779,
          105.71902168720742,
          107.01588360918313,
          108.23998992697054,
          112.15308641975308,
          122.90114285714286,
          143.63142857142856,
          176.72512647554805,
          184.36913580246915,
          188.11970646690108,
          175.3604286725306,
          170.3818477251625
         ],
         "yaxis": "y2"
        }
       ],
       "layout": {
        "height": 660,
        "showlegend": true,
        "template": {
         "data": {
          "bar": [
           {
            "error_x": {
             "color": "#2a3f5f"
            },
            "error_y": {
             "color": "#2a3f5f"
            },
            "marker": {
             "line": {
              "color": "#E5ECF6",
              "width": 0.5
             }
            },
            "type": "bar"
           }
          ],
          "barpolar": [
           {
            "marker": {
             "line": {
              "color": "#E5ECF6",
              "width": 0.5
             }
            },
            "type": "barpolar"
           }
          ],
          "carpet": [
           {
            "aaxis": {
             "endlinecolor": "#2a3f5f",
             "gridcolor": "white",
             "linecolor": "white",
             "minorgridcolor": "white",
             "startlinecolor": "#2a3f5f"
            },
            "baxis": {
             "endlinecolor": "#2a3f5f",
             "gridcolor": "white",
             "linecolor": "white",
             "minorgridcolor": "white",
             "startlinecolor": "#2a3f5f"
            },
            "type": "carpet"
           }
          ],
          "choropleth": [
           {
            "colorbar": {
             "outlinewidth": 0,
             "ticks": ""
            },
            "type": "choropleth"
           }
          ],
          "contour": [
           {
            "colorbar": {
             "outlinewidth": 0,
             "ticks": ""
            },
            "colorscale": [
             [
              0,
              "#0d0887"
             ],
             [
              0.1111111111111111,
              "#46039f"
             ],
             [
              0.2222222222222222,
              "#7201a8"
             ],
             [
              0.3333333333333333,
              "#9c179e"
             ],
             [
              0.4444444444444444,
              "#bd3786"
             ],
             [
              0.5555555555555556,
              "#d8576b"
             ],
             [
              0.6666666666666666,
              "#ed7953"
             ],
             [
              0.7777777777777778,
              "#fb9f3a"
             ],
             [
              0.8888888888888888,
              "#fdca26"
             ],
             [
              1,
              "#f0f921"
             ]
            ],
            "type": "contour"
           }
          ],
          "contourcarpet": [
           {
            "colorbar": {
             "outlinewidth": 0,
             "ticks": ""
            },
            "type": "contourcarpet"
           }
          ],
          "heatmap": [
           {
            "colorbar": {
             "outlinewidth": 0,
             "ticks": ""
            },
            "colorscale": [
             [
              0,
              "#0d0887"
             ],
             [
              0.1111111111111111,
              "#46039f"
             ],
             [
              0.2222222222222222,
              "#7201a8"
             ],
             [
              0.3333333333333333,
              "#9c179e"
             ],
             [
              0.4444444444444444,
              "#bd3786"
             ],
             [
              0.5555555555555556,
              "#d8576b"
             ],
             [
              0.6666666666666666,
              "#ed7953"
             ],
             [
              0.7777777777777778,
              "#fb9f3a"
             ],
             [
              0.8888888888888888,
              "#fdca26"
             ],
             [
              1,
              "#f0f921"
             ]
            ],
            "type": "heatmap"
           }
          ],
          "heatmapgl": [
           {
            "colorbar": {
             "outlinewidth": 0,
             "ticks": ""
            },
            "colorscale": [
             [
              0,
              "#0d0887"
             ],
             [
              0.1111111111111111,
              "#46039f"
             ],
             [
              0.2222222222222222,
              "#7201a8"
             ],
             [
              0.3333333333333333,
              "#9c179e"
             ],
             [
              0.4444444444444444,
              "#bd3786"
             ],
             [
              0.5555555555555556,
              "#d8576b"
             ],
             [
              0.6666666666666666,
              "#ed7953"
             ],
             [
              0.7777777777777778,
              "#fb9f3a"
             ],
             [
              0.8888888888888888,
              "#fdca26"
             ],
             [
              1,
              "#f0f921"
             ]
            ],
            "type": "heatmapgl"
           }
          ],
          "histogram": [
           {
            "marker": {
             "colorbar": {
              "outlinewidth": 0,
              "ticks": ""
             }
            },
            "type": "histogram"
           }
          ],
          "histogram2d": [
           {
            "colorbar": {
             "outlinewidth": 0,
             "ticks": ""
            },
            "colorscale": [
             [
              0,
              "#0d0887"
             ],
             [
              0.1111111111111111,
              "#46039f"
             ],
             [
              0.2222222222222222,
              "#7201a8"
             ],
             [
              0.3333333333333333,
              "#9c179e"
             ],
             [
              0.4444444444444444,
              "#bd3786"
             ],
             [
              0.5555555555555556,
              "#d8576b"
             ],
             [
              0.6666666666666666,
              "#ed7953"
             ],
             [
              0.7777777777777778,
              "#fb9f3a"
             ],
             [
              0.8888888888888888,
              "#fdca26"
             ],
             [
              1,
              "#f0f921"
             ]
            ],
            "type": "histogram2d"
           }
          ],
          "histogram2dcontour": [
           {
            "colorbar": {
             "outlinewidth": 0,
             "ticks": ""
            },
            "colorscale": [
             [
              0,
              "#0d0887"
             ],
             [
              0.1111111111111111,
              "#46039f"
             ],
             [
              0.2222222222222222,
              "#7201a8"
             ],
             [
              0.3333333333333333,
              "#9c179e"
             ],
             [
              0.4444444444444444,
              "#bd3786"
             ],
             [
              0.5555555555555556,
              "#d8576b"
             ],
             [
              0.6666666666666666,
              "#ed7953"
             ],
             [
              0.7777777777777778,
              "#fb9f3a"
             ],
             [
              0.8888888888888888,
              "#fdca26"
             ],
             [
              1,
              "#f0f921"
             ]
            ],
            "type": "histogram2dcontour"
           }
          ],
          "mesh3d": [
           {
            "colorbar": {
             "outlinewidth": 0,
             "ticks": ""
            },
            "type": "mesh3d"
           }
          ],
          "parcoords": [
           {
            "line": {
             "colorbar": {
              "outlinewidth": 0,
              "ticks": ""
             }
            },
            "type": "parcoords"
           }
          ],
          "pie": [
           {
            "automargin": true,
            "type": "pie"
           }
          ],
          "scatter": [
           {
            "marker": {
             "colorbar": {
              "outlinewidth": 0,
              "ticks": ""
             }
            },
            "type": "scatter"
           }
          ],
          "scatter3d": [
           {
            "line": {
             "colorbar": {
              "outlinewidth": 0,
              "ticks": ""
             }
            },
            "marker": {
             "colorbar": {
              "outlinewidth": 0,
              "ticks": ""
             }
            },
            "type": "scatter3d"
           }
          ],
          "scattercarpet": [
           {
            "marker": {
             "colorbar": {
              "outlinewidth": 0,
              "ticks": ""
             }
            },
            "type": "scattercarpet"
           }
          ],
          "scattergeo": [
           {
            "marker": {
             "colorbar": {
              "outlinewidth": 0,
              "ticks": ""
             }
            },
            "type": "scattergeo"
           }
          ],
          "scattergl": [
           {
            "marker": {
             "colorbar": {
              "outlinewidth": 0,
              "ticks": ""
             }
            },
            "type": "scattergl"
           }
          ],
          "scattermapbox": [
           {
            "marker": {
             "colorbar": {
              "outlinewidth": 0,
              "ticks": ""
             }
            },
            "type": "scattermapbox"
           }
          ],
          "scatterpolar": [
           {
            "marker": {
             "colorbar": {
              "outlinewidth": 0,
              "ticks": ""
             }
            },
            "type": "scatterpolar"
           }
          ],
          "scatterpolargl": [
           {
            "marker": {
             "colorbar": {
              "outlinewidth": 0,
              "ticks": ""
             }
            },
            "type": "scatterpolargl"
           }
          ],
          "scatterternary": [
           {
            "marker": {
             "colorbar": {
              "outlinewidth": 0,
              "ticks": ""
             }
            },
            "type": "scatterternary"
           }
          ],
          "surface": [
           {
            "colorbar": {
             "outlinewidth": 0,
             "ticks": ""
            },
            "colorscale": [
             [
              0,
              "#0d0887"
             ],
             [
              0.1111111111111111,
              "#46039f"
             ],
             [
              0.2222222222222222,
              "#7201a8"
             ],
             [
              0.3333333333333333,
              "#9c179e"
             ],
             [
              0.4444444444444444,
              "#bd3786"
             ],
             [
              0.5555555555555556,
              "#d8576b"
             ],
             [
              0.6666666666666666,
              "#ed7953"
             ],
             [
              0.7777777777777778,
              "#fb9f3a"
             ],
             [
              0.8888888888888888,
              "#fdca26"
             ],
             [
              1,
              "#f0f921"
             ]
            ],
            "type": "surface"
           }
          ],
          "table": [
           {
            "cells": {
             "fill": {
              "color": "#EBF0F8"
             },
             "line": {
              "color": "white"
             }
            },
            "header": {
             "fill": {
              "color": "#C8D4E3"
             },
             "line": {
              "color": "white"
             }
            },
            "type": "table"
           }
          ]
         },
         "layout": {
          "annotationdefaults": {
           "arrowcolor": "#2a3f5f",
           "arrowhead": 0,
           "arrowwidth": 1
          },
          "coloraxis": {
           "colorbar": {
            "outlinewidth": 0,
            "ticks": ""
           }
          },
          "colorscale": {
           "diverging": [
            [
             0,
             "#8e0152"
            ],
            [
             0.1,
             "#c51b7d"
            ],
            [
             0.2,
             "#de77ae"
            ],
            [
             0.3,
             "#f1b6da"
            ],
            [
             0.4,
             "#fde0ef"
            ],
            [
             0.5,
             "#f7f7f7"
            ],
            [
             0.6,
             "#e6f5d0"
            ],
            [
             0.7,
             "#b8e186"
            ],
            [
             0.8,
             "#7fbc41"
            ],
            [
             0.9,
             "#4d9221"
            ],
            [
             1,
             "#276419"
            ]
           ],
           "sequential": [
            [
             0,
             "#0d0887"
            ],
            [
             0.1111111111111111,
             "#46039f"
            ],
            [
             0.2222222222222222,
             "#7201a8"
            ],
            [
             0.3333333333333333,
             "#9c179e"
            ],
            [
             0.4444444444444444,
             "#bd3786"
            ],
            [
             0.5555555555555556,
             "#d8576b"
            ],
            [
             0.6666666666666666,
             "#ed7953"
            ],
            [
             0.7777777777777778,
             "#fb9f3a"
            ],
            [
             0.8888888888888888,
             "#fdca26"
            ],
            [
             1,
             "#f0f921"
            ]
           ],
           "sequentialminus": [
            [
             0,
             "#0d0887"
            ],
            [
             0.1111111111111111,
             "#46039f"
            ],
            [
             0.2222222222222222,
             "#7201a8"
            ],
            [
             0.3333333333333333,
             "#9c179e"
            ],
            [
             0.4444444444444444,
             "#bd3786"
            ],
            [
             0.5555555555555556,
             "#d8576b"
            ],
            [
             0.6666666666666666,
             "#ed7953"
            ],
            [
             0.7777777777777778,
             "#fb9f3a"
            ],
            [
             0.8888888888888888,
             "#fdca26"
            ],
            [
             1,
             "#f0f921"
            ]
           ]
          },
          "colorway": [
           "#636efa",
           "#EF553B",
           "#00cc96",
           "#ab63fa",
           "#FFA15A",
           "#19d3f3",
           "#FF6692",
           "#B6E880",
           "#FF97FF",
           "#FECB52"
          ],
          "font": {
           "color": "#2a3f5f"
          },
          "geo": {
           "bgcolor": "white",
           "lakecolor": "white",
           "landcolor": "#E5ECF6",
           "showlakes": true,
           "showland": true,
           "subunitcolor": "white"
          },
          "hoverlabel": {
           "align": "left"
          },
          "hovermode": "closest",
          "mapbox": {
           "style": "light"
          },
          "paper_bgcolor": "white",
          "plot_bgcolor": "#E5ECF6",
          "polar": {
           "angularaxis": {
            "gridcolor": "white",
            "linecolor": "white",
            "ticks": ""
           },
           "bgcolor": "#E5ECF6",
           "radialaxis": {
            "gridcolor": "white",
            "linecolor": "white",
            "ticks": ""
           }
          },
          "scene": {
           "xaxis": {
            "backgroundcolor": "#E5ECF6",
            "gridcolor": "white",
            "gridwidth": 2,
            "linecolor": "white",
            "showbackground": true,
            "ticks": "",
            "zerolinecolor": "white"
           },
           "yaxis": {
            "backgroundcolor": "#E5ECF6",
            "gridcolor": "white",
            "gridwidth": 2,
            "linecolor": "white",
            "showbackground": true,
            "ticks": "",
            "zerolinecolor": "white"
           },
           "zaxis": {
            "backgroundcolor": "#E5ECF6",
            "gridcolor": "white",
            "gridwidth": 2,
            "linecolor": "white",
            "showbackground": true,
            "ticks": "",
            "zerolinecolor": "white"
           }
          },
          "shapedefaults": {
           "line": {
            "color": "#2a3f5f"
           }
          },
          "ternary": {
           "aaxis": {
            "gridcolor": "white",
            "linecolor": "white",
            "ticks": ""
           },
           "baxis": {
            "gridcolor": "white",
            "linecolor": "white",
            "ticks": ""
           },
           "bgcolor": "#E5ECF6",
           "caxis": {
            "gridcolor": "white",
            "linecolor": "white",
            "ticks": ""
           }
          },
          "title": {
           "x": 0.05
          },
          "xaxis": {
           "automargin": true,
           "gridcolor": "white",
           "linecolor": "white",
           "ticks": "",
           "title": {
            "standoff": 15
           },
           "zerolinecolor": "white",
           "zerolinewidth": 2
          },
          "yaxis": {
           "automargin": true,
           "gridcolor": "white",
           "linecolor": "white",
           "ticks": "",
           "title": {
            "standoff": 15
           },
           "zerolinecolor": "white",
           "zerolinewidth": 2
          }
         }
        },
        "title": {
         "text": "시간대별 매출액과 한 건당 결제금액"
        },
        "width": 900,
        "xaxis": {
         "anchor": "y",
         "domain": [
          0,
          1
         ],
         "matches": "x2",
         "showticklabels": false
        },
        "xaxis2": {
         "anchor": "y2",
         "domain": [
          0,
          1
         ]
        },
        "yaxis": {
         "anchor": "x",
         "domain": [
          0.51,
          1
         ],
         "title": {
          "text": "총 매출"
         }
        },
        "yaxis2": {
         "anchor": "x2",
         "domain": [
          0,
          0.49
         ],
         "title": {
          "text": "한 건당 결제금액"
         }
        }
       }
      },
      "text/html": [
       "<div>                            <div id=\"81d3ae04-b2ef-4ef2-b962-1f5b65a04961\" class=\"plotly-graph-div\" style=\"height:660px; width:900px;\"></div>            <script type=\"text/javascript\">                require([\"plotly\"], function(Plotly) {                    window.PLOTLYENV=window.PLOTLYENV || {};                                    if (document.getElementById(\"81d3ae04-b2ef-4ef2-b962-1f5b65a04961\")) {                    Plotly.newPlot(                        \"81d3ae04-b2ef-4ef2-b962-1f5b65a04961\",                        [{\"marker\": {\"color\": \"black\"}, \"name\": \"\\uc6d4\\uc694\\uc77c\", \"type\": \"scatter\", \"x\": [23, 22, 21, 20, 19, 18, 17, 16, 15, 14, 13, 12, 11, 10, 9, 8, 7, 6, 5, 4, 3, 2, 1, 0], \"xaxis\": \"x\", \"y\": [2593283, 3634734, 5081548, 6889267, 6321510, 4799258, 3833124, 3607963, 3693992, 3541256, 4536901, 6020947, 2453888, 1632406, 1005787, 588614, 352022, 226735, 136184, 180908, 302030, 501468, 758091, 1083797], \"yaxis\": \"y\"}, {\"marker\": {\"color\": \"yellow\"}, \"name\": \"\\ud654\\uc694\\uc77c\", \"type\": \"scatter\", \"x\": [23, 22, 21, 20, 19, 18, 17, 16, 15, 14, 13, 12, 11, 10, 9, 8, 7, 6, 5, 4, 3, 2, 1, 0], \"xaxis\": \"x\", \"y\": [2804275, 3944420, 5554479, 7367048, 6594924, 5168259, 4055108, 3565168, 3514043, 3616703, 5016747, 6422349, 2769215, 1707938, 1308574, 640153, 394467, 289186, 150976, 208979, 457769, 785441, 1247097, 1761050], \"yaxis\": \"y\"}, {\"marker\": {\"color\": \"green\"}, \"name\": \"\\uc218\\uc694\\uc77c\", \"type\": \"scatter\", \"x\": [23, 22, 21, 20, 19, 18, 17, 16, 15, 14, 13, 12, 11, 10, 9, 8, 7, 6, 5, 4, 3, 2, 1, 0], \"xaxis\": \"x\", \"y\": [2918023, 4004980, 5857288, 7596764, 6882799, 5203872, 3975748, 3662286, 3551324, 3714886, 4927772, 6313265, 2699929, 1714203, 1130822, 606540, 389792, 303457, 224003, 213264, 449839, 758011, 1294313, 1971059], \"yaxis\": \"y\"}, {\"marker\": {\"color\": \"blue\"}, \"name\": \"\\ubaa9\\uc694\\uc77c\", \"type\": \"scatter\", \"x\": [23, 22, 21, 20, 19, 18, 17, 16, 15, 14, 13, 12, 11, 10, 9, 8, 7, 6, 5, 4, 3, 2, 1, 0], \"xaxis\": \"x\", \"y\": [2907302, 4099564, 5992895, 7828266, 6605361, 5203296, 4175751, 3717978, 3526487, 3623189, 4797807, 6549704, 2528856, 1621905, 1107426, 587718, 392649, 264889, 217057, 278087, 493181, 832579, 1413058, 1975851], \"yaxis\": \"y\"}, {\"marker\": {\"color\": \"purple\"}, \"name\": \"\\uae08\\uc694\\uc77c\", \"type\": \"scatter\", \"x\": [23, 22, 21, 20, 19, 18, 17, 16, 15, 14, 13, 12, 11, 10, 9, 8, 7, 6, 5, 4, 3, 2, 1, 0], \"xaxis\": \"x\", \"y\": [4052481, 5164529, 7346150, 8551917, 7269714, 5292907, 4085389, 3645283, 3727376, 3858578, 5217752, 6799529, 2880751, 1741794, 1155281, 646657, 430123, 276021, 169396, 234081, 491778, 912022, 1398208, 2005456], \"yaxis\": \"y\"}, {\"marker\": {\"color\": \"orange\"}, \"name\": \"\\ud1a0\\uc694\\uc77c\", \"type\": \"scatter\", \"x\": [23, 22, 21, 20, 19, 18, 17, 16, 15, 14, 13, 12, 11, 10, 9, 8, 7, 6, 5, 4, 3, 2, 1, 0], \"xaxis\": \"x\", \"y\": [3152530, 4038392, 5724722, 7700772, 7703038, 5735125, 4552497, 3916715, 4280263, 5231504, 5703684, 5172793, 3031242, 1942561, 1123944, 611596, 395238, 316972, 238214, 458412, 873210, 1438909, 2099746, 2994629], \"yaxis\": \"y\"}, {\"marker\": {\"color\": \"red\"}, \"name\": \"\\uc77c\\uc694\\uc77c\", \"type\": \"scatter\", \"x\": [23, 22, 21, 20, 19, 18, 17, 16, 15, 14, 13, 12, 11, 10, 9, 8, 7, 6, 5, 4, 3, 2, 1, 0], \"xaxis\": \"x\", \"y\": [1552569, 2159477, 3368040, 5420098, 6370469, 5446178, 4077926, 3640843, 4016055, 4617746, 4790022, 3849635, 1908739, 1106561, 801763, 429821, 272532, 215077, 251355, 419192, 746695, 1230491, 1734490, 2202015], \"yaxis\": \"y\"}, {\"marker\": {\"color\": \"black\"}, \"showlegend\": false, \"type\": \"scatter\", \"x\": [23, 22, 21, 20, 19, 18, 17, 16, 15, 14, 13, 12, 11, 10, 9, 8, 7, 6, 5, 4, 3, 2, 1, 0], \"xaxis\": \"x2\", \"y\": [195.20383891607077, 174.0356236533397, 173.63909106441142, 177.61335980200062, 149.3740548204159, 131.98190468333195, 141.9885909023559, 157.4360954749749, 168.2682093563522, 142.05367242970036, 119.41098594514924, 115.75627715615026, 139.83861408707546, 150.89720835644297, 115.02596065873742, 96.74786324786325, 109.45957711442786, 131.1364950838635, 113.581317764804, 148.16380016380018, 149.96524329692156, 164.09293193717278, 162.78526948679408, 152.30424395727937], \"yaxis\": \"y2\"}, {\"marker\": {\"color\": \"yellow\"}, \"showlegend\": false, \"type\": \"scatter\", \"x\": [23, 22, 21, 20, 19, 18, 17, 16, 15, 14, 13, 12, 11, 10, 9, 8, 7, 6, 5, 4, 3, 2, 1, 0], \"xaxis\": \"x2\", \"y\": [198.13997032431286, 182.0389514491416, 180.1530552672548, 179.7981158783619, 151.1037690457097, 137.6990648229558, 148.53875457875458, 155.6162374508948, 159.7510115015684, 141.64263335160962, 123.84277567947863, 113.35490760188503, 148.43562392795883, 154.34104464124346, 139.62590695689286, 92.38750180401212, 109.42219140083218, 141.8273663560569, 116.58378378378379, 148.52807391613362, 203.90601336302896, 228.12692419401685, 228.741195891416, 212.9958877600387], \"yaxis\": \"y2\"}, {\"marker\": {\"color\": \"green\"}, \"showlegend\": false, \"type\": \"scatter\", \"x\": [23, 22, 21, 20, 19, 18, 17, 16, 15, 14, 13, 12, 11, 10, 9, 8, 7, 6, 5, 4, 3, 2, 1, 0], \"xaxis\": \"x2\", \"y\": [200.63414466446645, 180.4288867865027, 182.68629530285074, 180.4285578567357, 153.3873908004992, 137.10275055327222, 142.8634877286284, 157.88437661665805, 160.16434402200875, 147.96805544491357, 122.37439157643787, 113.40108133352493, 147.02292528860815, 154.83723240899647, 122.94216133942162, 89.00073367571534, 110.23529411764706, 155.22097186700768, 169.9567526555387, 157.8564026646928, 194.73549783549782, 217.81925287356322, 232.5391663672296, 228.4226445706339], \"yaxis\": \"y2\"}, {\"marker\": {\"color\": \"blue\"}, \"showlegend\": false, \"type\": \"scatter\", \"x\": [23, 22, 21, 20, 19, 18, 17, 16, 15, 14, 13, 12, 11, 10, 9, 8, 7, 6, 5, 4, 3, 2, 1, 0], \"xaxis\": \"x2\", \"y\": [197.52034784971806, 182.1623639191291, 187.05583994007117, 185.9666468701746, 147.60913093030013, 137.9782026464427, 153.07566259760256, 164.2942112240389, 160.27300822615098, 145.29952678857876, 118.14348682590494, 115.48858286459894, 136.79844206426486, 149.0447528027936, 117.9116269165247, 86.64573197700133, 109.95491458975077, 135.9799794661191, 163.56970610399398, 185.7628590514362, 215.45696810834426, 230.43980071962358, 244.55832467982, 219.36838014877318], \"yaxis\": \"y2\"}, {\"marker\": {\"color\": \"purple\"}, \"showlegend\": false, \"type\": \"scatter\", \"x\": [23, 22, 21, 20, 19, 18, 17, 16, 15, 14, 13, 12, 11, 10, 9, 8, 7, 6, 5, 4, 3, 2, 1, 0], \"xaxis\": \"x2\", \"y\": [190.61528692380057, 175.81375319148935, 189.15825522710887, 181.55009022396774, 153.3921465195282, 137.8827988641988, 145.19632512350287, 152.3183603543373, 160.91245035399757, 143.65517498138496, 126.06310703068374, 118.5475007409732, 150.5881338212232, 155.6702118151756, 118.5633210180624, 92.02461932545894, 115.16010709504685, 139.334174659263, 134.54805401111994, 153.89940828402368, 202.79505154639176, 236.091638622832, 234.519959745052, 222.13735046521933], \"yaxis\": \"y2\"}, {\"marker\": {\"color\": \"orange\"}, \"showlegend\": false, \"type\": \"scatter\", \"x\": [23, 22, 21, 20, 19, 18, 17, 16, 15, 14, 13, 12, 11, 10, 9, 8, 7, 6, 5, 4, 3, 2, 1, 0], \"xaxis\": \"x2\", \"y\": [161.04055986922762, 152.0249962355067, 162.54179443498012, 170.29947588403104, 160.96957412128558, 138.7071613418144, 136.60496309188022, 130.7620271759089, 131.6436919480839, 139.7863460253841, 135.10396285856407, 137.1984457470228, 144.08413347276357, 141.86525962170452, 118.26010101010101, 111.91143641354071, 121.38759213759214, 139.02280701754387, 135.65717539863326, 197.59137931034482, 221.06582278481014, 221.37061538461538, 213.6059003051882, 207.42737410819421], \"yaxis\": \"y2\"}, {\"marker\": {\"color\": \"red\"}, \"showlegend\": false, \"type\": \"scatter\", \"x\": [23, 22, 21, 20, 19, 18, 17, 16, 15, 14, 13, 12, 11, 10, 9, 8, 7, 6, 5, 4, 3, 2, 1, 0], \"xaxis\": \"x2\", \"y\": [140.6439894918018, 128.48676146843576, 133.40357270170713, 145.3304196272959, 144.02398715861818, 132.47818049136464, 125.43990894829125, 122.05306738183037, 126.6215278872529, 127.7738240177089, 127.01585702163767, 124.04572404459626, 118.78393179413779, 105.71902168720742, 107.01588360918313, 108.23998992697054, 112.15308641975308, 122.90114285714286, 143.63142857142856, 176.72512647554805, 184.36913580246915, 188.11970646690108, 175.3604286725306, 170.3818477251625], \"yaxis\": \"y2\"}],                        {\"height\": 660, \"showlegend\": true, \"template\": {\"data\": {\"bar\": [{\"error_x\": {\"color\": \"#2a3f5f\"}, \"error_y\": {\"color\": \"#2a3f5f\"}, \"marker\": {\"line\": {\"color\": \"#E5ECF6\", \"width\": 0.5}}, \"type\": \"bar\"}], \"barpolar\": [{\"marker\": {\"line\": {\"color\": \"#E5ECF6\", \"width\": 0.5}}, \"type\": \"barpolar\"}], \"carpet\": [{\"aaxis\": {\"endlinecolor\": \"#2a3f5f\", \"gridcolor\": \"white\", \"linecolor\": \"white\", \"minorgridcolor\": \"white\", \"startlinecolor\": \"#2a3f5f\"}, \"baxis\": {\"endlinecolor\": \"#2a3f5f\", \"gridcolor\": \"white\", \"linecolor\": \"white\", \"minorgridcolor\": \"white\", \"startlinecolor\": \"#2a3f5f\"}, \"type\": \"carpet\"}], \"choropleth\": [{\"colorbar\": {\"outlinewidth\": 0, \"ticks\": \"\"}, \"type\": \"choropleth\"}], \"contour\": [{\"colorbar\": {\"outlinewidth\": 0, \"ticks\": \"\"}, \"colorscale\": [[0.0, \"#0d0887\"], [0.1111111111111111, \"#46039f\"], [0.2222222222222222, \"#7201a8\"], [0.3333333333333333, \"#9c179e\"], [0.4444444444444444, \"#bd3786\"], [0.5555555555555556, \"#d8576b\"], [0.6666666666666666, \"#ed7953\"], [0.7777777777777778, \"#fb9f3a\"], [0.8888888888888888, \"#fdca26\"], [1.0, \"#f0f921\"]], \"type\": \"contour\"}], \"contourcarpet\": [{\"colorbar\": {\"outlinewidth\": 0, \"ticks\": \"\"}, \"type\": \"contourcarpet\"}], \"heatmap\": [{\"colorbar\": {\"outlinewidth\": 0, \"ticks\": \"\"}, \"colorscale\": [[0.0, \"#0d0887\"], [0.1111111111111111, \"#46039f\"], [0.2222222222222222, \"#7201a8\"], [0.3333333333333333, \"#9c179e\"], [0.4444444444444444, \"#bd3786\"], [0.5555555555555556, \"#d8576b\"], [0.6666666666666666, \"#ed7953\"], [0.7777777777777778, \"#fb9f3a\"], [0.8888888888888888, \"#fdca26\"], [1.0, \"#f0f921\"]], \"type\": \"heatmap\"}], \"heatmapgl\": [{\"colorbar\": {\"outlinewidth\": 0, \"ticks\": \"\"}, \"colorscale\": [[0.0, \"#0d0887\"], [0.1111111111111111, \"#46039f\"], [0.2222222222222222, \"#7201a8\"], [0.3333333333333333, \"#9c179e\"], [0.4444444444444444, \"#bd3786\"], [0.5555555555555556, \"#d8576b\"], [0.6666666666666666, \"#ed7953\"], [0.7777777777777778, \"#fb9f3a\"], [0.8888888888888888, \"#fdca26\"], [1.0, \"#f0f921\"]], \"type\": \"heatmapgl\"}], \"histogram\": [{\"marker\": {\"colorbar\": {\"outlinewidth\": 0, \"ticks\": \"\"}}, \"type\": \"histogram\"}], \"histogram2d\": [{\"colorbar\": {\"outlinewidth\": 0, \"ticks\": \"\"}, \"colorscale\": [[0.0, \"#0d0887\"], [0.1111111111111111, \"#46039f\"], [0.2222222222222222, \"#7201a8\"], [0.3333333333333333, \"#9c179e\"], [0.4444444444444444, \"#bd3786\"], [0.5555555555555556, \"#d8576b\"], [0.6666666666666666, \"#ed7953\"], [0.7777777777777778, \"#fb9f3a\"], [0.8888888888888888, \"#fdca26\"], [1.0, \"#f0f921\"]], \"type\": \"histogram2d\"}], \"histogram2dcontour\": [{\"colorbar\": {\"outlinewidth\": 0, \"ticks\": \"\"}, \"colorscale\": [[0.0, \"#0d0887\"], [0.1111111111111111, \"#46039f\"], [0.2222222222222222, \"#7201a8\"], [0.3333333333333333, \"#9c179e\"], [0.4444444444444444, \"#bd3786\"], [0.5555555555555556, \"#d8576b\"], [0.6666666666666666, \"#ed7953\"], [0.7777777777777778, \"#fb9f3a\"], [0.8888888888888888, \"#fdca26\"], [1.0, \"#f0f921\"]], \"type\": \"histogram2dcontour\"}], \"mesh3d\": [{\"colorbar\": {\"outlinewidth\": 0, \"ticks\": \"\"}, \"type\": \"mesh3d\"}], \"parcoords\": [{\"line\": {\"colorbar\": {\"outlinewidth\": 0, \"ticks\": \"\"}}, \"type\": \"parcoords\"}], \"pie\": [{\"automargin\": true, \"type\": \"pie\"}], \"scatter\": [{\"marker\": {\"colorbar\": {\"outlinewidth\": 0, \"ticks\": \"\"}}, \"type\": \"scatter\"}], \"scatter3d\": [{\"line\": {\"colorbar\": {\"outlinewidth\": 0, \"ticks\": \"\"}}, \"marker\": {\"colorbar\": {\"outlinewidth\": 0, \"ticks\": \"\"}}, \"type\": \"scatter3d\"}], \"scattercarpet\": [{\"marker\": {\"colorbar\": {\"outlinewidth\": 0, \"ticks\": \"\"}}, \"type\": \"scattercarpet\"}], \"scattergeo\": [{\"marker\": {\"colorbar\": {\"outlinewidth\": 0, \"ticks\": \"\"}}, \"type\": \"scattergeo\"}], \"scattergl\": [{\"marker\": {\"colorbar\": {\"outlinewidth\": 0, \"ticks\": \"\"}}, \"type\": \"scattergl\"}], \"scattermapbox\": [{\"marker\": {\"colorbar\": {\"outlinewidth\": 0, \"ticks\": \"\"}}, \"type\": \"scattermapbox\"}], \"scatterpolar\": [{\"marker\": {\"colorbar\": {\"outlinewidth\": 0, \"ticks\": \"\"}}, \"type\": \"scatterpolar\"}], \"scatterpolargl\": [{\"marker\": {\"colorbar\": {\"outlinewidth\": 0, \"ticks\": \"\"}}, \"type\": \"scatterpolargl\"}], \"scatterternary\": [{\"marker\": {\"colorbar\": {\"outlinewidth\": 0, \"ticks\": \"\"}}, \"type\": \"scatterternary\"}], \"surface\": [{\"colorbar\": {\"outlinewidth\": 0, \"ticks\": \"\"}, \"colorscale\": [[0.0, \"#0d0887\"], [0.1111111111111111, \"#46039f\"], [0.2222222222222222, \"#7201a8\"], [0.3333333333333333, \"#9c179e\"], [0.4444444444444444, \"#bd3786\"], [0.5555555555555556, \"#d8576b\"], [0.6666666666666666, \"#ed7953\"], [0.7777777777777778, \"#fb9f3a\"], [0.8888888888888888, \"#fdca26\"], [1.0, \"#f0f921\"]], \"type\": \"surface\"}], \"table\": [{\"cells\": {\"fill\": {\"color\": \"#EBF0F8\"}, \"line\": {\"color\": \"white\"}}, \"header\": {\"fill\": {\"color\": \"#C8D4E3\"}, \"line\": {\"color\": \"white\"}}, \"type\": \"table\"}]}, \"layout\": {\"annotationdefaults\": {\"arrowcolor\": \"#2a3f5f\", \"arrowhead\": 0, \"arrowwidth\": 1}, \"coloraxis\": {\"colorbar\": {\"outlinewidth\": 0, \"ticks\": \"\"}}, \"colorscale\": {\"diverging\": [[0, \"#8e0152\"], [0.1, \"#c51b7d\"], [0.2, \"#de77ae\"], [0.3, \"#f1b6da\"], [0.4, \"#fde0ef\"], [0.5, \"#f7f7f7\"], [0.6, \"#e6f5d0\"], [0.7, \"#b8e186\"], [0.8, \"#7fbc41\"], [0.9, \"#4d9221\"], [1, \"#276419\"]], \"sequential\": [[0.0, \"#0d0887\"], [0.1111111111111111, \"#46039f\"], [0.2222222222222222, \"#7201a8\"], [0.3333333333333333, \"#9c179e\"], [0.4444444444444444, \"#bd3786\"], [0.5555555555555556, \"#d8576b\"], [0.6666666666666666, \"#ed7953\"], [0.7777777777777778, \"#fb9f3a\"], [0.8888888888888888, \"#fdca26\"], [1.0, \"#f0f921\"]], \"sequentialminus\": [[0.0, \"#0d0887\"], [0.1111111111111111, \"#46039f\"], [0.2222222222222222, \"#7201a8\"], [0.3333333333333333, \"#9c179e\"], [0.4444444444444444, \"#bd3786\"], [0.5555555555555556, \"#d8576b\"], [0.6666666666666666, \"#ed7953\"], [0.7777777777777778, \"#fb9f3a\"], [0.8888888888888888, \"#fdca26\"], [1.0, \"#f0f921\"]]}, \"colorway\": [\"#636efa\", \"#EF553B\", \"#00cc96\", \"#ab63fa\", \"#FFA15A\", \"#19d3f3\", \"#FF6692\", \"#B6E880\", \"#FF97FF\", \"#FECB52\"], \"font\": {\"color\": \"#2a3f5f\"}, \"geo\": {\"bgcolor\": \"white\", \"lakecolor\": \"white\", \"landcolor\": \"#E5ECF6\", \"showlakes\": true, \"showland\": true, \"subunitcolor\": \"white\"}, \"hoverlabel\": {\"align\": \"left\"}, \"hovermode\": \"closest\", \"mapbox\": {\"style\": \"light\"}, \"paper_bgcolor\": \"white\", \"plot_bgcolor\": \"#E5ECF6\", \"polar\": {\"angularaxis\": {\"gridcolor\": \"white\", \"linecolor\": \"white\", \"ticks\": \"\"}, \"bgcolor\": \"#E5ECF6\", \"radialaxis\": {\"gridcolor\": \"white\", \"linecolor\": \"white\", \"ticks\": \"\"}}, \"scene\": {\"xaxis\": {\"backgroundcolor\": \"#E5ECF6\", \"gridcolor\": \"white\", \"gridwidth\": 2, \"linecolor\": \"white\", \"showbackground\": true, \"ticks\": \"\", \"zerolinecolor\": \"white\"}, \"yaxis\": {\"backgroundcolor\": \"#E5ECF6\", \"gridcolor\": \"white\", \"gridwidth\": 2, \"linecolor\": \"white\", \"showbackground\": true, \"ticks\": \"\", \"zerolinecolor\": \"white\"}, \"zaxis\": {\"backgroundcolor\": \"#E5ECF6\", \"gridcolor\": \"white\", \"gridwidth\": 2, \"linecolor\": \"white\", \"showbackground\": true, \"ticks\": \"\", \"zerolinecolor\": \"white\"}}, \"shapedefaults\": {\"line\": {\"color\": \"#2a3f5f\"}}, \"ternary\": {\"aaxis\": {\"gridcolor\": \"white\", \"linecolor\": \"white\", \"ticks\": \"\"}, \"baxis\": {\"gridcolor\": \"white\", \"linecolor\": \"white\", \"ticks\": \"\"}, \"bgcolor\": \"#E5ECF6\", \"caxis\": {\"gridcolor\": \"white\", \"linecolor\": \"white\", \"ticks\": \"\"}}, \"title\": {\"x\": 0.05}, \"xaxis\": {\"automargin\": true, \"gridcolor\": \"white\", \"linecolor\": \"white\", \"ticks\": \"\", \"title\": {\"standoff\": 15}, \"zerolinecolor\": \"white\", \"zerolinewidth\": 2}, \"yaxis\": {\"automargin\": true, \"gridcolor\": \"white\", \"linecolor\": \"white\", \"ticks\": \"\", \"title\": {\"standoff\": 15}, \"zerolinecolor\": \"white\", \"zerolinewidth\": 2}}}, \"title\": {\"text\": \"\\uc2dc\\uac04\\ub300\\ubcc4 \\ub9e4\\ucd9c\\uc561\\uacfc \\ud55c \\uac74\\ub2f9 \\uacb0\\uc81c\\uae08\\uc561\"}, \"width\": 900, \"xaxis\": {\"anchor\": \"y\", \"domain\": [0.0, 1.0], \"matches\": \"x2\", \"showticklabels\": false}, \"xaxis2\": {\"anchor\": \"y2\", \"domain\": [0.0, 1.0]}, \"yaxis\": {\"anchor\": \"x\", \"domain\": [0.51, 1.0], \"title\": {\"text\": \"\\ucd1d \\ub9e4\\ucd9c\"}}, \"yaxis2\": {\"anchor\": \"x2\", \"domain\": [0.0, 0.49], \"title\": {\"text\": \"\\ud55c \\uac74\\ub2f9 \\uacb0\\uc81c\\uae08\\uc561\"}}},                        {\"responsive\": true}                    ).then(function(){\n",
       "                            \n",
       "var gd = document.getElementById('81d3ae04-b2ef-4ef2-b962-1f5b65a04961');\n",
       "var x = new MutationObserver(function (mutations, observer) {{\n",
       "        var display = window.getComputedStyle(gd).display;\n",
       "        if (!display || display === 'none') {{\n",
       "            console.log([gd, 'removed!']);\n",
       "            Plotly.purge(gd);\n",
       "            observer.disconnect();\n",
       "        }}\n",
       "}});\n",
       "\n",
       "// Listen for the removal of the full notebook cells\n",
       "var notebookContainer = gd.closest('#notebook-container');\n",
       "if (notebookContainer) {{\n",
       "    x.observe(notebookContainer, {childList: true});\n",
       "}}\n",
       "\n",
       "// Listen for the clearing of the current output cell\n",
       "var outputEl = gd.closest('.output');\n",
       "if (outputEl) {{\n",
       "    x.observe(outputEl, {childList: true});\n",
       "}}\n",
       "\n",
       "                        })                };                });            </script>        </div>"
      ]
     },
     "metadata": {},
     "output_type": "display_data"
    }
   ],
   "source": [
    "fig = make_subplots(\n",
    "    rows=2, cols=1, shared_xaxes=True, vertical_spacing=0.02,\n",
    "    row_heights = [0.5, 0.5],\n",
    ")\n",
    "\n",
    "fig.add_trace(go.Scatter(x=monday_hourly_amount[\"hour\"][::-1], y=monday_hourly_amount[\"amount\"][::-1], name=\"월요일\", marker_color=\"black\"), row=1, col=1)\n",
    "fig.add_trace(go.Scatter(x=tuesday_hourly_amount[\"hour\"][::-1], y=tuesday_hourly_amount[\"amount\"][::-1], name=\"화요일\", marker_color=\"yellow\"), row=1, col=1)\n",
    "fig.add_trace(go.Scatter(x=wednsday_hourly_amount[\"hour\"][::-1], y=wednsday_hourly_amount[\"amount\"][::-1], name=\"수요일\", marker_color=\"green\"), row=1, col=1)\n",
    "fig.add_trace(go.Scatter(x=thursday_hourly_amount[\"hour\"][::-1], y=thursday_hourly_amount[\"amount\"][::-1], name=\"목요일\", marker_color=\"blue\"), row=1, col=1)\n",
    "fig.add_trace(go.Scatter(x=friday_hourly_amount[\"hour\"][::-1], y=friday_hourly_amount[\"amount\"][::-1], name=\"금요일\", marker_color=\"purple\"), row=1, col=1)\n",
    "fig.add_trace(go.Scatter(x=saturday_hourly_amount[\"hour\"][::-1], y=saturday_hourly_amount[\"amount\"][::-1], name=\"토요일\", marker_color=\"orange\"), row=1, col=1)\n",
    "fig.add_trace(go.Scatter(x=sunday_hourly_amount[\"hour\"][::-1], y=sunday_hourly_amount[\"amount\"][::-1], name=\"일요일\", marker_color=\"red\"), row=1, col=1)\n",
    "\n",
    "fig.add_trace(go.Scatter(x=weekly_mean_slaes1[\"hour\"][::-1], y=weekly_mean_slaes1[\"weekly_mean_slaes1\"][::-1], showlegend=False, marker_color=\"black\"),row=2, col=1)\n",
    "fig.add_trace(go.Scatter(x=weekly_mean_slaes2[\"hour\"][::-1], y=weekly_mean_slaes2[\"weekly_mean_slaes2\"][::-1], showlegend=False, marker_color=\"yellow\"),row=2, col=1)\n",
    "fig.add_trace(go.Scatter(x=weekly_mean_slaes3[\"hour\"][::-1], y=weekly_mean_slaes3[\"weekly_mean_slaes3\"][::-1], showlegend=False, marker_color=\"green\"),row=2, col=1)\n",
    "fig.add_trace(go.Scatter(x=weekly_mean_slaes4[\"hour\"][::-1], y=weekly_mean_slaes4[\"weekly_mean_slaes4\"][::-1], showlegend=False, marker_color=\"blue\"),row=2, col=1)\n",
    "fig.add_trace(go.Scatter(x=weekly_mean_slaes5[\"hour\"][::-1], y=weekly_mean_slaes5[\"weekly_mean_slaes5\"][::-1], showlegend=False, marker_color=\"purple\"),row=2, col=1)\n",
    "fig.add_trace(go.Scatter(x=weekly_mean_slaes6[\"hour\"][::-1], y=weekly_mean_slaes6[\"weekly_mean_slaes6\"][::-1], showlegend=False, marker_color=\"orange\"),row=2, col=1)\n",
    "fig.add_trace(go.Scatter(x=weekly_mean_slaes7[\"hour\"][::-1], y=weekly_mean_slaes7[\"weekly_mean_slaes7\"][::-1], showlegend=False, marker_color=\"red\"),row=2, col=1)\n",
    "\n",
    "fig.update_layout(height=330*2, width=300*3, title_text=\"시간대별 매출액과 한 건당 결제금액\", showlegend=True)\n",
    "fig.update_yaxes(title_text=\"총 매출\", row=1, col=1)\n",
    "fig.update_yaxes(title_text=\"한 건당 결제금액\", row=2, col=1)\n",
    "\n",
    "fig.show()"
   ]
  },
  {
   "cell_type": "code",
   "execution_count": 180,
   "metadata": {},
   "outputs": [],
   "source": [
    "# 12시와 18시에 카드 하나당 결제 금액이 낮아지는 것으로 보아 식사 후 각각 계산을 하기 때문인 듯하다.\n",
    "# 10시와 15시에는 카드 하나당 결제 금액이 높아진다. 한 번에 큰 금액이 결제되는 것"
   ]
  },
  {
   "cell_type": "code",
   "execution_count": 181,
   "metadata": {},
   "outputs": [
    {
     "data": {
      "text/html": [
       "<div>\n",
       "<style scoped>\n",
       "    .dataframe tbody tr th:only-of-type {\n",
       "        vertical-align: middle;\n",
       "    }\n",
       "\n",
       "    .dataframe tbody tr th {\n",
       "        vertical-align: top;\n",
       "    }\n",
       "\n",
       "    .dataframe thead th {\n",
       "        text-align: right;\n",
       "    }\n",
       "</style>\n",
       "<table border=\"1\" class=\"dataframe\">\n",
       "  <thead>\n",
       "    <tr style=\"text-align: right;\">\n",
       "      <th></th>\n",
       "      <th>date</th>\n",
       "      <th>daily_count</th>\n",
       "    </tr>\n",
       "  </thead>\n",
       "  <tbody>\n",
       "    <tr>\n",
       "      <th>728</th>\n",
       "      <td>2018-07-30</td>\n",
       "      <td>5691</td>\n",
       "    </tr>\n",
       "    <tr>\n",
       "      <th>729</th>\n",
       "      <td>2018-07-31</td>\n",
       "      <td>5941</td>\n",
       "    </tr>\n",
       "  </tbody>\n",
       "</table>\n",
       "</div>"
      ],
      "text/plain": [
       "          date  daily_count\n",
       "728 2018-07-30         5691\n",
       "729 2018-07-31         5941"
      ]
     },
     "execution_count": 181,
     "metadata": {},
     "output_type": "execute_result"
    }
   ],
   "source": [
    "# 일별 구매횟수를 확인해보겠습니다.\n",
    "daily_count = train.groupby(\"date\")[\"store_id\"].size().reset_index(name=\"daily_count\")\n",
    "daily_count.tail(2)"
   ]
  },
  {
   "cell_type": "code",
   "execution_count": 183,
   "metadata": {},
   "outputs": [
    {
     "data": {
      "text/html": [
       "<div>\n",
       "<style scoped>\n",
       "    .dataframe tbody tr th:only-of-type {\n",
       "        vertical-align: middle;\n",
       "    }\n",
       "\n",
       "    .dataframe tbody tr th {\n",
       "        vertical-align: top;\n",
       "    }\n",
       "\n",
       "    .dataframe thead th {\n",
       "        text-align: right;\n",
       "    }\n",
       "</style>\n",
       "<table border=\"1\" class=\"dataframe\">\n",
       "  <thead>\n",
       "    <tr style=\"text-align: right;\">\n",
       "      <th></th>\n",
       "      <th>date</th>\n",
       "      <th>daily_amount</th>\n",
       "    </tr>\n",
       "  </thead>\n",
       "  <tbody>\n",
       "    <tr>\n",
       "      <th>728</th>\n",
       "      <td>2018-07-30</td>\n",
       "      <td>775870</td>\n",
       "    </tr>\n",
       "    <tr>\n",
       "      <th>729</th>\n",
       "      <td>2018-07-31</td>\n",
       "      <td>849250</td>\n",
       "    </tr>\n",
       "  </tbody>\n",
       "</table>\n",
       "</div>"
      ],
      "text/plain": [
       "          date  daily_amount\n",
       "728 2018-07-30        775870\n",
       "729 2018-07-31        849250"
      ]
     },
     "execution_count": 183,
     "metadata": {},
     "output_type": "execute_result"
    }
   ],
   "source": [
    "# 일별 매출합을 보겠습니다.\n",
    "daily_amount = train.groupby(\"date\")[\"amount\"].sum().reset_index(name=\"daily_amount\")\n",
    "daily_amount.tail(2)"
   ]
  },
  {
   "cell_type": "code",
   "execution_count": 185,
   "metadata": {},
   "outputs": [
    {
     "data": {
      "application/vnd.plotly.v1+json": {
       "config": {
        "plotlyServerURL": "https://plot.ly"
       },
       "data": [
        {
         "marker": {
          "color": "red"
         },
         "name": "구매횟수",
         "type": "scatter",
         "x": [
          "2018-07-31T00:00:00",
          "2018-07-30T00:00:00",
          "2018-07-29T00:00:00",
          "2018-07-28T00:00:00",
          "2018-07-27T00:00:00",
          "2018-07-26T00:00:00",
          "2018-07-25T00:00:00",
          "2018-07-24T00:00:00",
          "2018-07-23T00:00:00",
          "2018-07-22T00:00:00",
          "2018-07-21T00:00:00",
          "2018-07-20T00:00:00",
          "2018-07-19T00:00:00",
          "2018-07-18T00:00:00",
          "2018-07-17T00:00:00",
          "2018-07-16T00:00:00",
          "2018-07-15T00:00:00",
          "2018-07-14T00:00:00",
          "2018-07-13T00:00:00",
          "2018-07-12T00:00:00",
          "2018-07-11T00:00:00",
          "2018-07-10T00:00:00",
          "2018-07-09T00:00:00",
          "2018-07-08T00:00:00",
          "2018-07-07T00:00:00",
          "2018-07-06T00:00:00",
          "2018-07-05T00:00:00",
          "2018-07-04T00:00:00",
          "2018-07-03T00:00:00",
          "2018-07-02T00:00:00",
          "2018-07-01T00:00:00",
          "2018-06-30T00:00:00",
          "2018-06-29T00:00:00",
          "2018-06-28T00:00:00",
          "2018-06-27T00:00:00",
          "2018-06-26T00:00:00",
          "2018-06-25T00:00:00",
          "2018-06-24T00:00:00",
          "2018-06-23T00:00:00",
          "2018-06-22T00:00:00",
          "2018-06-21T00:00:00",
          "2018-06-20T00:00:00",
          "2018-06-19T00:00:00",
          "2018-06-18T00:00:00",
          "2018-06-17T00:00:00",
          "2018-06-16T00:00:00",
          "2018-06-15T00:00:00",
          "2018-06-14T00:00:00",
          "2018-06-13T00:00:00",
          "2018-06-12T00:00:00",
          "2018-06-11T00:00:00",
          "2018-06-10T00:00:00",
          "2018-06-09T00:00:00",
          "2018-06-08T00:00:00",
          "2018-06-07T00:00:00",
          "2018-06-06T00:00:00",
          "2018-06-05T00:00:00",
          "2018-06-04T00:00:00",
          "2018-06-03T00:00:00",
          "2018-06-02T00:00:00",
          "2018-06-01T00:00:00",
          "2018-05-31T00:00:00",
          "2018-05-30T00:00:00",
          "2018-05-29T00:00:00",
          "2018-05-28T00:00:00",
          "2018-05-27T00:00:00",
          "2018-05-26T00:00:00",
          "2018-05-25T00:00:00",
          "2018-05-24T00:00:00",
          "2018-05-23T00:00:00",
          "2018-05-22T00:00:00",
          "2018-05-21T00:00:00",
          "2018-05-20T00:00:00",
          "2018-05-19T00:00:00",
          "2018-05-18T00:00:00",
          "2018-05-17T00:00:00",
          "2018-05-16T00:00:00",
          "2018-05-15T00:00:00",
          "2018-05-14T00:00:00",
          "2018-05-13T00:00:00",
          "2018-05-12T00:00:00",
          "2018-05-11T00:00:00",
          "2018-05-10T00:00:00",
          "2018-05-09T00:00:00",
          "2018-05-08T00:00:00",
          "2018-05-07T00:00:00",
          "2018-05-06T00:00:00",
          "2018-05-05T00:00:00",
          "2018-05-04T00:00:00",
          "2018-05-03T00:00:00",
          "2018-05-02T00:00:00",
          "2018-05-01T00:00:00",
          "2018-04-30T00:00:00",
          "2018-04-29T00:00:00",
          "2018-04-28T00:00:00",
          "2018-04-27T00:00:00",
          "2018-04-26T00:00:00",
          "2018-04-25T00:00:00",
          "2018-04-24T00:00:00",
          "2018-04-23T00:00:00",
          "2018-04-22T00:00:00",
          "2018-04-21T00:00:00",
          "2018-04-20T00:00:00",
          "2018-04-19T00:00:00",
          "2018-04-18T00:00:00",
          "2018-04-17T00:00:00",
          "2018-04-16T00:00:00",
          "2018-04-15T00:00:00",
          "2018-04-14T00:00:00",
          "2018-04-13T00:00:00",
          "2018-04-12T00:00:00",
          "2018-04-11T00:00:00",
          "2018-04-10T00:00:00",
          "2018-04-09T00:00:00",
          "2018-04-08T00:00:00",
          "2018-04-07T00:00:00",
          "2018-04-06T00:00:00",
          "2018-04-05T00:00:00",
          "2018-04-04T00:00:00",
          "2018-04-03T00:00:00",
          "2018-04-02T00:00:00",
          "2018-04-01T00:00:00",
          "2018-03-31T00:00:00",
          "2018-03-30T00:00:00",
          "2018-03-29T00:00:00",
          "2018-03-28T00:00:00",
          "2018-03-27T00:00:00",
          "2018-03-26T00:00:00",
          "2018-03-25T00:00:00",
          "2018-03-24T00:00:00",
          "2018-03-23T00:00:00",
          "2018-03-22T00:00:00",
          "2018-03-21T00:00:00",
          "2018-03-20T00:00:00",
          "2018-03-19T00:00:00",
          "2018-03-18T00:00:00",
          "2018-03-17T00:00:00",
          "2018-03-16T00:00:00",
          "2018-03-15T00:00:00",
          "2018-03-14T00:00:00",
          "2018-03-13T00:00:00",
          "2018-03-12T00:00:00",
          "2018-03-11T00:00:00",
          "2018-03-10T00:00:00",
          "2018-03-09T00:00:00",
          "2018-03-08T00:00:00",
          "2018-03-07T00:00:00",
          "2018-03-06T00:00:00",
          "2018-03-05T00:00:00",
          "2018-03-04T00:00:00",
          "2018-03-03T00:00:00",
          "2018-03-02T00:00:00",
          "2018-03-01T00:00:00",
          "2018-02-28T00:00:00",
          "2018-02-27T00:00:00",
          "2018-02-26T00:00:00",
          "2018-02-25T00:00:00",
          "2018-02-24T00:00:00",
          "2018-02-23T00:00:00",
          "2018-02-22T00:00:00",
          "2018-02-21T00:00:00",
          "2018-02-20T00:00:00",
          "2018-02-19T00:00:00",
          "2018-02-18T00:00:00",
          "2018-02-17T00:00:00",
          "2018-02-16T00:00:00",
          "2018-02-15T00:00:00",
          "2018-02-14T00:00:00",
          "2018-02-13T00:00:00",
          "2018-02-12T00:00:00",
          "2018-02-11T00:00:00",
          "2018-02-10T00:00:00",
          "2018-02-09T00:00:00",
          "2018-02-08T00:00:00",
          "2018-02-07T00:00:00",
          "2018-02-06T00:00:00",
          "2018-02-05T00:00:00",
          "2018-02-04T00:00:00",
          "2018-02-03T00:00:00",
          "2018-02-02T00:00:00",
          "2018-02-01T00:00:00",
          "2018-01-31T00:00:00",
          "2018-01-30T00:00:00",
          "2018-01-29T00:00:00",
          "2018-01-28T00:00:00",
          "2018-01-27T00:00:00",
          "2018-01-26T00:00:00",
          "2018-01-25T00:00:00",
          "2018-01-24T00:00:00",
          "2018-01-23T00:00:00",
          "2018-01-22T00:00:00",
          "2018-01-21T00:00:00",
          "2018-01-20T00:00:00",
          "2018-01-19T00:00:00",
          "2018-01-18T00:00:00",
          "2018-01-17T00:00:00",
          "2018-01-16T00:00:00",
          "2018-01-15T00:00:00",
          "2018-01-14T00:00:00",
          "2018-01-13T00:00:00",
          "2018-01-12T00:00:00",
          "2018-01-11T00:00:00",
          "2018-01-10T00:00:00",
          "2018-01-09T00:00:00",
          "2018-01-08T00:00:00",
          "2018-01-07T00:00:00",
          "2018-01-06T00:00:00",
          "2018-01-05T00:00:00",
          "2018-01-04T00:00:00",
          "2018-01-03T00:00:00",
          "2018-01-02T00:00:00",
          "2018-01-01T00:00:00",
          "2017-12-31T00:00:00",
          "2017-12-30T00:00:00",
          "2017-12-29T00:00:00",
          "2017-12-28T00:00:00",
          "2017-12-27T00:00:00",
          "2017-12-26T00:00:00",
          "2017-12-25T00:00:00",
          "2017-12-24T00:00:00",
          "2017-12-23T00:00:00",
          "2017-12-22T00:00:00",
          "2017-12-21T00:00:00",
          "2017-12-20T00:00:00",
          "2017-12-19T00:00:00",
          "2017-12-18T00:00:00",
          "2017-12-17T00:00:00",
          "2017-12-16T00:00:00",
          "2017-12-15T00:00:00",
          "2017-12-14T00:00:00",
          "2017-12-13T00:00:00",
          "2017-12-12T00:00:00",
          "2017-12-11T00:00:00",
          "2017-12-10T00:00:00",
          "2017-12-09T00:00:00",
          "2017-12-08T00:00:00",
          "2017-12-07T00:00:00",
          "2017-12-06T00:00:00",
          "2017-12-05T00:00:00",
          "2017-12-04T00:00:00",
          "2017-12-03T00:00:00",
          "2017-12-02T00:00:00",
          "2017-12-01T00:00:00",
          "2017-11-30T00:00:00",
          "2017-11-29T00:00:00",
          "2017-11-28T00:00:00",
          "2017-11-27T00:00:00",
          "2017-11-26T00:00:00",
          "2017-11-25T00:00:00",
          "2017-11-24T00:00:00",
          "2017-11-23T00:00:00",
          "2017-11-22T00:00:00",
          "2017-11-21T00:00:00",
          "2017-11-20T00:00:00",
          "2017-11-19T00:00:00",
          "2017-11-18T00:00:00",
          "2017-11-17T00:00:00",
          "2017-11-16T00:00:00",
          "2017-11-15T00:00:00",
          "2017-11-14T00:00:00",
          "2017-11-13T00:00:00",
          "2017-11-12T00:00:00",
          "2017-11-11T00:00:00",
          "2017-11-10T00:00:00",
          "2017-11-09T00:00:00",
          "2017-11-08T00:00:00",
          "2017-11-07T00:00:00",
          "2017-11-06T00:00:00",
          "2017-11-05T00:00:00",
          "2017-11-04T00:00:00",
          "2017-11-03T00:00:00",
          "2017-11-02T00:00:00",
          "2017-11-01T00:00:00",
          "2017-10-31T00:00:00",
          "2017-10-30T00:00:00",
          "2017-10-29T00:00:00",
          "2017-10-28T00:00:00",
          "2017-10-27T00:00:00",
          "2017-10-26T00:00:00",
          "2017-10-25T00:00:00",
          "2017-10-24T00:00:00",
          "2017-10-23T00:00:00",
          "2017-10-22T00:00:00",
          "2017-10-21T00:00:00",
          "2017-10-20T00:00:00",
          "2017-10-19T00:00:00",
          "2017-10-18T00:00:00",
          "2017-10-17T00:00:00",
          "2017-10-16T00:00:00",
          "2017-10-15T00:00:00",
          "2017-10-14T00:00:00",
          "2017-10-13T00:00:00",
          "2017-10-12T00:00:00",
          "2017-10-11T00:00:00",
          "2017-10-10T00:00:00",
          "2017-10-09T00:00:00",
          "2017-10-08T00:00:00",
          "2017-10-07T00:00:00",
          "2017-10-06T00:00:00",
          "2017-10-05T00:00:00",
          "2017-10-04T00:00:00",
          "2017-10-03T00:00:00",
          "2017-10-02T00:00:00",
          "2017-10-01T00:00:00",
          "2017-09-30T00:00:00",
          "2017-09-29T00:00:00",
          "2017-09-28T00:00:00",
          "2017-09-27T00:00:00",
          "2017-09-26T00:00:00",
          "2017-09-25T00:00:00",
          "2017-09-24T00:00:00",
          "2017-09-23T00:00:00",
          "2017-09-22T00:00:00",
          "2017-09-21T00:00:00",
          "2017-09-20T00:00:00",
          "2017-09-19T00:00:00",
          "2017-09-18T00:00:00",
          "2017-09-17T00:00:00",
          "2017-09-16T00:00:00",
          "2017-09-15T00:00:00",
          "2017-09-14T00:00:00",
          "2017-09-13T00:00:00",
          "2017-09-12T00:00:00",
          "2017-09-11T00:00:00",
          "2017-09-10T00:00:00",
          "2017-09-09T00:00:00",
          "2017-09-08T00:00:00",
          "2017-09-07T00:00:00",
          "2017-09-06T00:00:00",
          "2017-09-05T00:00:00",
          "2017-09-04T00:00:00",
          "2017-09-03T00:00:00",
          "2017-09-02T00:00:00",
          "2017-09-01T00:00:00",
          "2017-08-31T00:00:00",
          "2017-08-30T00:00:00",
          "2017-08-29T00:00:00",
          "2017-08-28T00:00:00",
          "2017-08-27T00:00:00",
          "2017-08-26T00:00:00",
          "2017-08-25T00:00:00",
          "2017-08-24T00:00:00",
          "2017-08-23T00:00:00",
          "2017-08-22T00:00:00",
          "2017-08-21T00:00:00",
          "2017-08-20T00:00:00",
          "2017-08-19T00:00:00",
          "2017-08-18T00:00:00",
          "2017-08-17T00:00:00",
          "2017-08-16T00:00:00",
          "2017-08-15T00:00:00",
          "2017-08-14T00:00:00",
          "2017-08-13T00:00:00",
          "2017-08-12T00:00:00",
          "2017-08-11T00:00:00",
          "2017-08-10T00:00:00",
          "2017-08-09T00:00:00",
          "2017-08-08T00:00:00",
          "2017-08-07T00:00:00",
          "2017-08-06T00:00:00",
          "2017-08-05T00:00:00",
          "2017-08-04T00:00:00",
          "2017-08-03T00:00:00",
          "2017-08-02T00:00:00",
          "2017-08-01T00:00:00",
          "2017-07-31T00:00:00",
          "2017-07-30T00:00:00",
          "2017-07-29T00:00:00",
          "2017-07-28T00:00:00",
          "2017-07-27T00:00:00",
          "2017-07-26T00:00:00",
          "2017-07-25T00:00:00",
          "2017-07-24T00:00:00",
          "2017-07-23T00:00:00",
          "2017-07-22T00:00:00",
          "2017-07-21T00:00:00",
          "2017-07-20T00:00:00",
          "2017-07-19T00:00:00",
          "2017-07-18T00:00:00",
          "2017-07-17T00:00:00",
          "2017-07-16T00:00:00",
          "2017-07-15T00:00:00",
          "2017-07-14T00:00:00",
          "2017-07-13T00:00:00",
          "2017-07-12T00:00:00",
          "2017-07-11T00:00:00",
          "2017-07-10T00:00:00",
          "2017-07-09T00:00:00",
          "2017-07-08T00:00:00",
          "2017-07-07T00:00:00",
          "2017-07-06T00:00:00",
          "2017-07-05T00:00:00",
          "2017-07-04T00:00:00",
          "2017-07-03T00:00:00",
          "2017-07-02T00:00:00",
          "2017-07-01T00:00:00",
          "2017-06-30T00:00:00",
          "2017-06-29T00:00:00",
          "2017-06-28T00:00:00",
          "2017-06-27T00:00:00",
          "2017-06-26T00:00:00",
          "2017-06-25T00:00:00",
          "2017-06-24T00:00:00",
          "2017-06-23T00:00:00",
          "2017-06-22T00:00:00",
          "2017-06-21T00:00:00",
          "2017-06-20T00:00:00",
          "2017-06-19T00:00:00",
          "2017-06-18T00:00:00",
          "2017-06-17T00:00:00",
          "2017-06-16T00:00:00",
          "2017-06-15T00:00:00",
          "2017-06-14T00:00:00",
          "2017-06-13T00:00:00",
          "2017-06-12T00:00:00",
          "2017-06-11T00:00:00",
          "2017-06-10T00:00:00",
          "2017-06-09T00:00:00",
          "2017-06-08T00:00:00",
          "2017-06-07T00:00:00",
          "2017-06-06T00:00:00",
          "2017-06-05T00:00:00",
          "2017-06-04T00:00:00",
          "2017-06-03T00:00:00",
          "2017-06-02T00:00:00",
          "2017-06-01T00:00:00",
          "2017-05-31T00:00:00",
          "2017-05-30T00:00:00",
          "2017-05-29T00:00:00",
          "2017-05-28T00:00:00",
          "2017-05-27T00:00:00",
          "2017-05-26T00:00:00",
          "2017-05-25T00:00:00",
          "2017-05-24T00:00:00",
          "2017-05-23T00:00:00",
          "2017-05-22T00:00:00",
          "2017-05-21T00:00:00",
          "2017-05-20T00:00:00",
          "2017-05-19T00:00:00",
          "2017-05-18T00:00:00",
          "2017-05-17T00:00:00",
          "2017-05-16T00:00:00",
          "2017-05-15T00:00:00",
          "2017-05-14T00:00:00",
          "2017-05-13T00:00:00",
          "2017-05-12T00:00:00",
          "2017-05-11T00:00:00",
          "2017-05-10T00:00:00",
          "2017-05-09T00:00:00",
          "2017-05-08T00:00:00",
          "2017-05-07T00:00:00",
          "2017-05-06T00:00:00",
          "2017-05-05T00:00:00",
          "2017-05-04T00:00:00",
          "2017-05-03T00:00:00",
          "2017-05-02T00:00:00",
          "2017-05-01T00:00:00",
          "2017-04-30T00:00:00",
          "2017-04-29T00:00:00",
          "2017-04-28T00:00:00",
          "2017-04-27T00:00:00",
          "2017-04-26T00:00:00",
          "2017-04-25T00:00:00",
          "2017-04-24T00:00:00",
          "2017-04-23T00:00:00",
          "2017-04-22T00:00:00",
          "2017-04-21T00:00:00",
          "2017-04-20T00:00:00",
          "2017-04-19T00:00:00",
          "2017-04-18T00:00:00",
          "2017-04-17T00:00:00",
          "2017-04-16T00:00:00",
          "2017-04-15T00:00:00",
          "2017-04-14T00:00:00",
          "2017-04-13T00:00:00",
          "2017-04-12T00:00:00",
          "2017-04-11T00:00:00",
          "2017-04-10T00:00:00",
          "2017-04-09T00:00:00",
          "2017-04-08T00:00:00",
          "2017-04-07T00:00:00",
          "2017-04-06T00:00:00",
          "2017-04-05T00:00:00",
          "2017-04-04T00:00:00",
          "2017-04-03T00:00:00",
          "2017-04-02T00:00:00",
          "2017-04-01T00:00:00",
          "2017-03-31T00:00:00",
          "2017-03-30T00:00:00",
          "2017-03-29T00:00:00",
          "2017-03-28T00:00:00",
          "2017-03-27T00:00:00",
          "2017-03-26T00:00:00",
          "2017-03-25T00:00:00",
          "2017-03-24T00:00:00",
          "2017-03-23T00:00:00",
          "2017-03-22T00:00:00",
          "2017-03-21T00:00:00",
          "2017-03-20T00:00:00",
          "2017-03-19T00:00:00",
          "2017-03-18T00:00:00",
          "2017-03-17T00:00:00",
          "2017-03-16T00:00:00",
          "2017-03-15T00:00:00",
          "2017-03-14T00:00:00",
          "2017-03-13T00:00:00",
          "2017-03-12T00:00:00",
          "2017-03-11T00:00:00",
          "2017-03-10T00:00:00",
          "2017-03-09T00:00:00",
          "2017-03-08T00:00:00",
          "2017-03-07T00:00:00",
          "2017-03-06T00:00:00",
          "2017-03-05T00:00:00",
          "2017-03-04T00:00:00",
          "2017-03-03T00:00:00",
          "2017-03-02T00:00:00",
          "2017-03-01T00:00:00",
          "2017-02-28T00:00:00",
          "2017-02-27T00:00:00",
          "2017-02-26T00:00:00",
          "2017-02-25T00:00:00",
          "2017-02-24T00:00:00",
          "2017-02-23T00:00:00",
          "2017-02-22T00:00:00",
          "2017-02-21T00:00:00",
          "2017-02-20T00:00:00",
          "2017-02-19T00:00:00",
          "2017-02-18T00:00:00",
          "2017-02-17T00:00:00",
          "2017-02-16T00:00:00",
          "2017-02-15T00:00:00",
          "2017-02-14T00:00:00",
          "2017-02-13T00:00:00",
          "2017-02-12T00:00:00",
          "2017-02-11T00:00:00",
          "2017-02-10T00:00:00",
          "2017-02-09T00:00:00",
          "2017-02-08T00:00:00",
          "2017-02-07T00:00:00",
          "2017-02-06T00:00:00",
          "2017-02-05T00:00:00",
          "2017-02-04T00:00:00",
          "2017-02-03T00:00:00",
          "2017-02-02T00:00:00",
          "2017-02-01T00:00:00",
          "2017-01-31T00:00:00",
          "2017-01-30T00:00:00",
          "2017-01-29T00:00:00",
          "2017-01-28T00:00:00",
          "2017-01-27T00:00:00",
          "2017-01-26T00:00:00",
          "2017-01-25T00:00:00",
          "2017-01-24T00:00:00",
          "2017-01-23T00:00:00",
          "2017-01-22T00:00:00",
          "2017-01-21T00:00:00",
          "2017-01-20T00:00:00",
          "2017-01-19T00:00:00",
          "2017-01-18T00:00:00",
          "2017-01-17T00:00:00",
          "2017-01-16T00:00:00",
          "2017-01-15T00:00:00",
          "2017-01-14T00:00:00",
          "2017-01-13T00:00:00",
          "2017-01-12T00:00:00",
          "2017-01-11T00:00:00",
          "2017-01-10T00:00:00",
          "2017-01-09T00:00:00",
          "2017-01-08T00:00:00",
          "2017-01-07T00:00:00",
          "2017-01-06T00:00:00",
          "2017-01-05T00:00:00",
          "2017-01-04T00:00:00",
          "2017-01-03T00:00:00",
          "2017-01-02T00:00:00",
          "2017-01-01T00:00:00",
          "2016-12-31T00:00:00",
          "2016-12-30T00:00:00",
          "2016-12-29T00:00:00",
          "2016-12-28T00:00:00",
          "2016-12-27T00:00:00",
          "2016-12-26T00:00:00",
          "2016-12-25T00:00:00",
          "2016-12-24T00:00:00",
          "2016-12-23T00:00:00",
          "2016-12-22T00:00:00",
          "2016-12-21T00:00:00",
          "2016-12-20T00:00:00",
          "2016-12-19T00:00:00",
          "2016-12-18T00:00:00",
          "2016-12-17T00:00:00",
          "2016-12-16T00:00:00",
          "2016-12-15T00:00:00",
          "2016-12-14T00:00:00",
          "2016-12-13T00:00:00",
          "2016-12-12T00:00:00",
          "2016-12-11T00:00:00",
          "2016-12-10T00:00:00",
          "2016-12-09T00:00:00",
          "2016-12-08T00:00:00",
          "2016-12-07T00:00:00",
          "2016-12-06T00:00:00",
          "2016-12-05T00:00:00",
          "2016-12-04T00:00:00",
          "2016-12-03T00:00:00",
          "2016-12-02T00:00:00",
          "2016-12-01T00:00:00",
          "2016-11-30T00:00:00",
          "2016-11-29T00:00:00",
          "2016-11-28T00:00:00",
          "2016-11-27T00:00:00",
          "2016-11-26T00:00:00",
          "2016-11-25T00:00:00",
          "2016-11-24T00:00:00",
          "2016-11-23T00:00:00",
          "2016-11-22T00:00:00",
          "2016-11-21T00:00:00",
          "2016-11-20T00:00:00",
          "2016-11-19T00:00:00",
          "2016-11-18T00:00:00",
          "2016-11-17T00:00:00",
          "2016-11-16T00:00:00",
          "2016-11-15T00:00:00",
          "2016-11-14T00:00:00",
          "2016-11-13T00:00:00",
          "2016-11-12T00:00:00",
          "2016-11-11T00:00:00",
          "2016-11-10T00:00:00",
          "2016-11-09T00:00:00",
          "2016-11-08T00:00:00",
          "2016-11-07T00:00:00",
          "2016-11-06T00:00:00",
          "2016-11-05T00:00:00",
          "2016-11-04T00:00:00",
          "2016-11-03T00:00:00",
          "2016-11-02T00:00:00",
          "2016-11-01T00:00:00",
          "2016-10-31T00:00:00",
          "2016-10-30T00:00:00",
          "2016-10-29T00:00:00",
          "2016-10-28T00:00:00",
          "2016-10-27T00:00:00",
          "2016-10-26T00:00:00",
          "2016-10-25T00:00:00",
          "2016-10-24T00:00:00",
          "2016-10-23T00:00:00",
          "2016-10-22T00:00:00",
          "2016-10-21T00:00:00",
          "2016-10-20T00:00:00",
          "2016-10-19T00:00:00",
          "2016-10-18T00:00:00",
          "2016-10-17T00:00:00",
          "2016-10-16T00:00:00",
          "2016-10-15T00:00:00",
          "2016-10-14T00:00:00",
          "2016-10-13T00:00:00",
          "2016-10-12T00:00:00",
          "2016-10-11T00:00:00",
          "2016-10-10T00:00:00",
          "2016-10-09T00:00:00",
          "2016-10-08T00:00:00",
          "2016-10-07T00:00:00",
          "2016-10-06T00:00:00",
          "2016-10-05T00:00:00",
          "2016-10-04T00:00:00",
          "2016-10-03T00:00:00",
          "2016-10-02T00:00:00",
          "2016-10-01T00:00:00",
          "2016-09-30T00:00:00",
          "2016-09-29T00:00:00",
          "2016-09-28T00:00:00",
          "2016-09-27T00:00:00",
          "2016-09-26T00:00:00",
          "2016-09-25T00:00:00",
          "2016-09-24T00:00:00",
          "2016-09-23T00:00:00",
          "2016-09-22T00:00:00",
          "2016-09-21T00:00:00",
          "2016-09-20T00:00:00",
          "2016-09-19T00:00:00",
          "2016-09-18T00:00:00",
          "2016-09-17T00:00:00",
          "2016-09-16T00:00:00",
          "2016-09-15T00:00:00",
          "2016-09-14T00:00:00",
          "2016-09-13T00:00:00",
          "2016-09-12T00:00:00",
          "2016-09-11T00:00:00",
          "2016-09-10T00:00:00",
          "2016-09-09T00:00:00",
          "2016-09-08T00:00:00",
          "2016-09-07T00:00:00",
          "2016-09-06T00:00:00",
          "2016-09-05T00:00:00",
          "2016-09-04T00:00:00",
          "2016-09-03T00:00:00",
          "2016-09-02T00:00:00",
          "2016-09-01T00:00:00",
          "2016-08-31T00:00:00",
          "2016-08-30T00:00:00",
          "2016-08-29T00:00:00",
          "2016-08-28T00:00:00",
          "2016-08-27T00:00:00",
          "2016-08-26T00:00:00",
          "2016-08-25T00:00:00",
          "2016-08-24T00:00:00",
          "2016-08-23T00:00:00",
          "2016-08-22T00:00:00",
          "2016-08-21T00:00:00",
          "2016-08-20T00:00:00",
          "2016-08-19T00:00:00",
          "2016-08-18T00:00:00",
          "2016-08-17T00:00:00",
          "2016-08-16T00:00:00",
          "2016-08-15T00:00:00",
          "2016-08-14T00:00:00",
          "2016-08-13T00:00:00",
          "2016-08-12T00:00:00",
          "2016-08-11T00:00:00",
          "2016-08-10T00:00:00",
          "2016-08-09T00:00:00",
          "2016-08-08T00:00:00",
          "2016-08-07T00:00:00",
          "2016-08-06T00:00:00",
          "2016-08-05T00:00:00",
          "2016-08-04T00:00:00",
          "2016-08-03T00:00:00",
          "2016-08-02T00:00:00",
          "2016-08-01T00:00:00"
         ],
         "xaxis": "x",
         "y": [
          5941,
          5691,
          5522,
          6271,
          6552,
          5920,
          6069,
          5771,
          5624,
          5954,
          6708,
          6580,
          5805,
          5905,
          5845,
          5566,
          5797,
          7105,
          6551,
          6100,
          6060,
          5998,
          5141,
          5844,
          6937,
          6660,
          6025,
          6052,
          5562,
          5240,
          5010,
          6810,
          6556,
          5849,
          6388,
          5236,
          5815,
          5957,
          7023,
          6592,
          6265,
          6230,
          5843,
          5991,
          5950,
          6905,
          6825,
          5991,
          6834,
          6509,
          5519,
          5997,
          7027,
          6711,
          6101,
          6652,
          6660,
          5826,
          6135,
          7244,
          6853,
          6363,
          6249,
          5966,
          5930,
          6252,
          7540,
          7006,
          6272,
          5924,
          5964,
          6599,
          6189,
          7449,
          6759,
          6152,
          5920,
          6679,
          5992,
          6530,
          6544,
          6789,
          6422,
          6030,
          5930,
          5146,
          4840,
          6129,
          6953,
          6374,
          5957,
          6817,
          6355,
          6095,
          7318,
          6823,
          6534,
          6507,
          5965,
          5198,
          5812,
          7556,
          7107,
          6223,
          6305,
          6263,
          6003,
          5993,
          6901,
          6965,
          6430,
          6440,
          6010,
          5706,
          5900,
          6912,
          6546,
          5603,
          6023,
          6210,
          6000,
          5929,
          7149,
          6729,
          6181,
          6277,
          5770,
          5569,
          5949,
          6944,
          6606,
          6042,
          5624,
          5743,
          5167,
          5829,
          6963,
          6485,
          5800,
          6400,
          5991,
          5558,
          6014,
          6984,
          6344,
          5649,
          5830,
          5770,
          5058,
          5076,
          6419,
          6206,
          6030,
          5574,
          5670,
          5443,
          5536,
          6335,
          5830,
          5236,
          5341,
          5187,
          4757,
          4381,
          4169,
          2693,
          4654,
          6585,
          5993,
          5381,
          5262,
          6490,
          6099,
          5593,
          5486,
          5255,
          4958,
          4933,
          5987,
          5953,
          5317,
          5439,
          5040,
          4715,
          5156,
          5977,
          5458,
          5009,
          4972,
          4850,
          4845,
          5051,
          6139,
          5529,
          5203,
          5185,
          4959,
          5003,
          5185,
          5861,
          5424,
          4956,
          5052,
          5024,
          4641,
          4744,
          5934,
          5374,
          4962,
          4888,
          4503,
          4269,
          5401,
          5557,
          5766,
          5163,
          5017,
          4856,
          5465,
          5632,
          6053,
          5653,
          5127,
          4956,
          4977,
          4907,
          4971,
          5853,
          5745,
          5147,
          5110,
          4873,
          4608,
          5038,
          5917,
          5740,
          5094,
          5092,
          4828,
          4592,
          4908,
          5782,
          5634,
          4886,
          4773,
          4691,
          4523,
          4887,
          5309,
          5129,
          4819,
          4862,
          4631,
          4561,
          4651,
          5512,
          5358,
          4931,
          5019,
          4812,
          4443,
          4812,
          5926,
          5420,
          4815,
          4838,
          4722,
          4591,
          4889,
          5581,
          5308,
          4910,
          4861,
          4841,
          4428,
          4902,
          5846,
          5468,
          5008,
          5072,
          4725,
          4647,
          5286,
          5971,
          5500,
          4902,
          4744,
          4719,
          4493,
          4791,
          5674,
          5253,
          4515,
          4556,
          4313,
          4450,
          4727,
          4766,
          4219,
          3571,
          2409,
          3932,
          5081,
          4851,
          5863,
          5732,
          5331,
          5072,
          4830,
          4661,
          5124,
          5562,
          5322,
          5007,
          5075,
          4606,
          4502,
          4852,
          5604,
          5379,
          4996,
          4971,
          4895,
          4247,
          5002,
          5563,
          5437,
          4838,
          4598,
          4715,
          4412,
          4734,
          5526,
          5336,
          5069,
          4640,
          4558,
          4111,
          4827,
          5399,
          5162,
          4579,
          4559,
          4443,
          4332,
          4328,
          5259,
          5022,
          4656,
          4408,
          4377,
          4382,
          4543,
          5364,
          5097,
          4399,
          4721,
          4680,
          4483,
          4497,
          5030,
          4950,
          4766,
          4755,
          4695,
          4156,
          4554,
          4993,
          4803,
          4588,
          4752,
          4519,
          4178,
          4381,
          5167,
          4991,
          4704,
          4655,
          4359,
          4070,
          4564,
          4891,
          4840,
          4646,
          4647,
          4506,
          3785,
          4615,
          4898,
          4696,
          4454,
          4428,
          4178,
          3945,
          4172,
          4870,
          4690,
          4406,
          4423,
          4205,
          3909,
          4400,
          5077,
          4796,
          4555,
          4571,
          4267,
          4177,
          4459,
          5249,
          4990,
          4637,
          4366,
          4257,
          4141,
          4482,
          5040,
          4721,
          4286,
          4005,
          4070,
          4407,
          4299,
          4838,
          4726,
          4436,
          4366,
          4296,
          3977,
          4382,
          4663,
          4455,
          4121,
          3980,
          3895,
          3908,
          4095,
          4724,
          4442,
          4271,
          4110,
          4043,
          3936,
          4188,
          4331,
          4192,
          3995,
          3814,
          3834,
          3994,
          3793,
          3970,
          4211,
          4320,
          4282,
          4233,
          4310,
          4262,
          4681,
          4547,
          4154,
          4023,
          3954,
          3570,
          4118,
          4680,
          4425,
          3926,
          4038,
          3811,
          3500,
          4050,
          4829,
          4032,
          3995,
          3956,
          3794,
          3770,
          4022,
          4622,
          4151,
          3808,
          3472,
          3676,
          3472,
          3895,
          4368,
          3980,
          3793,
          3805,
          3710,
          3435,
          3792,
          4234,
          4041,
          3882,
          3667,
          3508,
          3396,
          3778,
          4222,
          4009,
          3622,
          3627,
          3646,
          3421,
          3767,
          4318,
          3915,
          3582,
          3482,
          3336,
          3160,
          3481,
          4043,
          3776,
          3442,
          3694,
          3824,
          3504,
          3430,
          3903,
          3720,
          3463,
          3299,
          3360,
          3086,
          3227,
          3863,
          3830,
          3429,
          3395,
          3287,
          3062,
          3209,
          3507,
          3425,
          3139,
          3271,
          3197,
          2978,
          3025,
          3580,
          3301,
          2998,
          3022,
          2839,
          2607,
          2253,
          1476,
          2561,
          3654,
          3268,
          3099,
          2846,
          3064,
          3464,
          3337,
          3161,
          3137,
          3227,
          2852,
          3123,
          3387,
          3436,
          3144,
          3222,
          3211,
          3100,
          3124,
          3562,
          3409,
          3063,
          3029,
          2908,
          2740,
          2587,
          3567,
          3485,
          3039,
          3097,
          3130,
          2750,
          3402,
          3635,
          3283,
          3133,
          3094,
          3098,
          2809,
          3050,
          3306,
          3287,
          3035,
          3069,
          3103,
          2859,
          2979,
          3287,
          3325,
          2911,
          3005,
          2761,
          2726,
          2746,
          3089,
          3192,
          2810,
          2929,
          2693,
          2648,
          2893,
          3016,
          3015,
          2753,
          2757,
          2936,
          2613,
          2841,
          3197,
          3100,
          3063,
          3021,
          2781,
          2661,
          2885,
          3315,
          3240,
          2803,
          2806,
          2767,
          2620,
          2845,
          3195,
          3061,
          2970,
          2760,
          2683,
          2670,
          2797,
          3209,
          3169,
          2971,
          2965,
          2838,
          2793,
          3006,
          3456,
          3264,
          3069,
          2939,
          2853,
          2862,
          2663,
          3410,
          3250,
          3080,
          3000,
          2882,
          2793,
          2807,
          3298,
          3189,
          3045,
          2774,
          2760,
          2688,
          2738,
          3142,
          3116,
          2945,
          2977,
          2651,
          2548,
          2744,
          3208,
          3070,
          2948,
          2807,
          2728,
          2472,
          2409,
          2574,
          2111,
          1429,
          2330,
          3343,
          2926,
          2992,
          3372,
          3206,
          2892,
          2791,
          2908,
          2534,
          2862,
          3244,
          3141,
          3096,
          2745,
          2719,
          2536,
          2569,
          3037,
          2919,
          2764,
          2845,
          2789,
          2577,
          2691,
          3098,
          3006,
          2853,
          2923,
          2880,
          2697,
          2831,
          3103,
          3083,
          2822,
          2883,
          2739,
          2573,
          2563,
          3092,
          2912,
          2866,
          2943,
          2755,
          2739
         ],
         "yaxis": "y"
        },
        {
         "marker": {
          "color": "blue"
         },
         "name": "매출액",
         "type": "scatter",
         "x": [
          "2018-07-31T00:00:00",
          "2018-07-30T00:00:00",
          "2018-07-29T00:00:00",
          "2018-07-28T00:00:00",
          "2018-07-27T00:00:00",
          "2018-07-26T00:00:00",
          "2018-07-25T00:00:00",
          "2018-07-24T00:00:00",
          "2018-07-23T00:00:00",
          "2018-07-22T00:00:00",
          "2018-07-21T00:00:00",
          "2018-07-20T00:00:00",
          "2018-07-19T00:00:00",
          "2018-07-18T00:00:00",
          "2018-07-17T00:00:00",
          "2018-07-16T00:00:00",
          "2018-07-15T00:00:00",
          "2018-07-14T00:00:00",
          "2018-07-13T00:00:00",
          "2018-07-12T00:00:00",
          "2018-07-11T00:00:00",
          "2018-07-10T00:00:00",
          "2018-07-09T00:00:00",
          "2018-07-08T00:00:00",
          "2018-07-07T00:00:00",
          "2018-07-06T00:00:00",
          "2018-07-05T00:00:00",
          "2018-07-04T00:00:00",
          "2018-07-03T00:00:00",
          "2018-07-02T00:00:00",
          "2018-07-01T00:00:00",
          "2018-06-30T00:00:00",
          "2018-06-29T00:00:00",
          "2018-06-28T00:00:00",
          "2018-06-27T00:00:00",
          "2018-06-26T00:00:00",
          "2018-06-25T00:00:00",
          "2018-06-24T00:00:00",
          "2018-06-23T00:00:00",
          "2018-06-22T00:00:00",
          "2018-06-21T00:00:00",
          "2018-06-20T00:00:00",
          "2018-06-19T00:00:00",
          "2018-06-18T00:00:00",
          "2018-06-17T00:00:00",
          "2018-06-16T00:00:00",
          "2018-06-15T00:00:00",
          "2018-06-14T00:00:00",
          "2018-06-13T00:00:00",
          "2018-06-12T00:00:00",
          "2018-06-11T00:00:00",
          "2018-06-10T00:00:00",
          "2018-06-09T00:00:00",
          "2018-06-08T00:00:00",
          "2018-06-07T00:00:00",
          "2018-06-06T00:00:00",
          "2018-06-05T00:00:00",
          "2018-06-04T00:00:00",
          "2018-06-03T00:00:00",
          "2018-06-02T00:00:00",
          "2018-06-01T00:00:00",
          "2018-05-31T00:00:00",
          "2018-05-30T00:00:00",
          "2018-05-29T00:00:00",
          "2018-05-28T00:00:00",
          "2018-05-27T00:00:00",
          "2018-05-26T00:00:00",
          "2018-05-25T00:00:00",
          "2018-05-24T00:00:00",
          "2018-05-23T00:00:00",
          "2018-05-22T00:00:00",
          "2018-05-21T00:00:00",
          "2018-05-20T00:00:00",
          "2018-05-19T00:00:00",
          "2018-05-18T00:00:00",
          "2018-05-17T00:00:00",
          "2018-05-16T00:00:00",
          "2018-05-15T00:00:00",
          "2018-05-14T00:00:00",
          "2018-05-13T00:00:00",
          "2018-05-12T00:00:00",
          "2018-05-11T00:00:00",
          "2018-05-10T00:00:00",
          "2018-05-09T00:00:00",
          "2018-05-08T00:00:00",
          "2018-05-07T00:00:00",
          "2018-05-06T00:00:00",
          "2018-05-05T00:00:00",
          "2018-05-04T00:00:00",
          "2018-05-03T00:00:00",
          "2018-05-02T00:00:00",
          "2018-05-01T00:00:00",
          "2018-04-30T00:00:00",
          "2018-04-29T00:00:00",
          "2018-04-28T00:00:00",
          "2018-04-27T00:00:00",
          "2018-04-26T00:00:00",
          "2018-04-25T00:00:00",
          "2018-04-24T00:00:00",
          "2018-04-23T00:00:00",
          "2018-04-22T00:00:00",
          "2018-04-21T00:00:00",
          "2018-04-20T00:00:00",
          "2018-04-19T00:00:00",
          "2018-04-18T00:00:00",
          "2018-04-17T00:00:00",
          "2018-04-16T00:00:00",
          "2018-04-15T00:00:00",
          "2018-04-14T00:00:00",
          "2018-04-13T00:00:00",
          "2018-04-12T00:00:00",
          "2018-04-11T00:00:00",
          "2018-04-10T00:00:00",
          "2018-04-09T00:00:00",
          "2018-04-08T00:00:00",
          "2018-04-07T00:00:00",
          "2018-04-06T00:00:00",
          "2018-04-05T00:00:00",
          "2018-04-04T00:00:00",
          "2018-04-03T00:00:00",
          "2018-04-02T00:00:00",
          "2018-04-01T00:00:00",
          "2018-03-31T00:00:00",
          "2018-03-30T00:00:00",
          "2018-03-29T00:00:00",
          "2018-03-28T00:00:00",
          "2018-03-27T00:00:00",
          "2018-03-26T00:00:00",
          "2018-03-25T00:00:00",
          "2018-03-24T00:00:00",
          "2018-03-23T00:00:00",
          "2018-03-22T00:00:00",
          "2018-03-21T00:00:00",
          "2018-03-20T00:00:00",
          "2018-03-19T00:00:00",
          "2018-03-18T00:00:00",
          "2018-03-17T00:00:00",
          "2018-03-16T00:00:00",
          "2018-03-15T00:00:00",
          "2018-03-14T00:00:00",
          "2018-03-13T00:00:00",
          "2018-03-12T00:00:00",
          "2018-03-11T00:00:00",
          "2018-03-10T00:00:00",
          "2018-03-09T00:00:00",
          "2018-03-08T00:00:00",
          "2018-03-07T00:00:00",
          "2018-03-06T00:00:00",
          "2018-03-05T00:00:00",
          "2018-03-04T00:00:00",
          "2018-03-03T00:00:00",
          "2018-03-02T00:00:00",
          "2018-03-01T00:00:00",
          "2018-02-28T00:00:00",
          "2018-02-27T00:00:00",
          "2018-02-26T00:00:00",
          "2018-02-25T00:00:00",
          "2018-02-24T00:00:00",
          "2018-02-23T00:00:00",
          "2018-02-22T00:00:00",
          "2018-02-21T00:00:00",
          "2018-02-20T00:00:00",
          "2018-02-19T00:00:00",
          "2018-02-18T00:00:00",
          "2018-02-17T00:00:00",
          "2018-02-16T00:00:00",
          "2018-02-15T00:00:00",
          "2018-02-14T00:00:00",
          "2018-02-13T00:00:00",
          "2018-02-12T00:00:00",
          "2018-02-11T00:00:00",
          "2018-02-10T00:00:00",
          "2018-02-09T00:00:00",
          "2018-02-08T00:00:00",
          "2018-02-07T00:00:00",
          "2018-02-06T00:00:00",
          "2018-02-05T00:00:00",
          "2018-02-04T00:00:00",
          "2018-02-03T00:00:00",
          "2018-02-02T00:00:00",
          "2018-02-01T00:00:00",
          "2018-01-31T00:00:00",
          "2018-01-30T00:00:00",
          "2018-01-29T00:00:00",
          "2018-01-28T00:00:00",
          "2018-01-27T00:00:00",
          "2018-01-26T00:00:00",
          "2018-01-25T00:00:00",
          "2018-01-24T00:00:00",
          "2018-01-23T00:00:00",
          "2018-01-22T00:00:00",
          "2018-01-21T00:00:00",
          "2018-01-20T00:00:00",
          "2018-01-19T00:00:00",
          "2018-01-18T00:00:00",
          "2018-01-17T00:00:00",
          "2018-01-16T00:00:00",
          "2018-01-15T00:00:00",
          "2018-01-14T00:00:00",
          "2018-01-13T00:00:00",
          "2018-01-12T00:00:00",
          "2018-01-11T00:00:00",
          "2018-01-10T00:00:00",
          "2018-01-09T00:00:00",
          "2018-01-08T00:00:00",
          "2018-01-07T00:00:00",
          "2018-01-06T00:00:00",
          "2018-01-05T00:00:00",
          "2018-01-04T00:00:00",
          "2018-01-03T00:00:00",
          "2018-01-02T00:00:00",
          "2018-01-01T00:00:00",
          "2017-12-31T00:00:00",
          "2017-12-30T00:00:00",
          "2017-12-29T00:00:00",
          "2017-12-28T00:00:00",
          "2017-12-27T00:00:00",
          "2017-12-26T00:00:00",
          "2017-12-25T00:00:00",
          "2017-12-24T00:00:00",
          "2017-12-23T00:00:00",
          "2017-12-22T00:00:00",
          "2017-12-21T00:00:00",
          "2017-12-20T00:00:00",
          "2017-12-19T00:00:00",
          "2017-12-18T00:00:00",
          "2017-12-17T00:00:00",
          "2017-12-16T00:00:00",
          "2017-12-15T00:00:00",
          "2017-12-14T00:00:00",
          "2017-12-13T00:00:00",
          "2017-12-12T00:00:00",
          "2017-12-11T00:00:00",
          "2017-12-10T00:00:00",
          "2017-12-09T00:00:00",
          "2017-12-08T00:00:00",
          "2017-12-07T00:00:00",
          "2017-12-06T00:00:00",
          "2017-12-05T00:00:00",
          "2017-12-04T00:00:00",
          "2017-12-03T00:00:00",
          "2017-12-02T00:00:00",
          "2017-12-01T00:00:00",
          "2017-11-30T00:00:00",
          "2017-11-29T00:00:00",
          "2017-11-28T00:00:00",
          "2017-11-27T00:00:00",
          "2017-11-26T00:00:00",
          "2017-11-25T00:00:00",
          "2017-11-24T00:00:00",
          "2017-11-23T00:00:00",
          "2017-11-22T00:00:00",
          "2017-11-21T00:00:00",
          "2017-11-20T00:00:00",
          "2017-11-19T00:00:00",
          "2017-11-18T00:00:00",
          "2017-11-17T00:00:00",
          "2017-11-16T00:00:00",
          "2017-11-15T00:00:00",
          "2017-11-14T00:00:00",
          "2017-11-13T00:00:00",
          "2017-11-12T00:00:00",
          "2017-11-11T00:00:00",
          "2017-11-10T00:00:00",
          "2017-11-09T00:00:00",
          "2017-11-08T00:00:00",
          "2017-11-07T00:00:00",
          "2017-11-06T00:00:00",
          "2017-11-05T00:00:00",
          "2017-11-04T00:00:00",
          "2017-11-03T00:00:00",
          "2017-11-02T00:00:00",
          "2017-11-01T00:00:00",
          "2017-10-31T00:00:00",
          "2017-10-30T00:00:00",
          "2017-10-29T00:00:00",
          "2017-10-28T00:00:00",
          "2017-10-27T00:00:00",
          "2017-10-26T00:00:00",
          "2017-10-25T00:00:00",
          "2017-10-24T00:00:00",
          "2017-10-23T00:00:00",
          "2017-10-22T00:00:00",
          "2017-10-21T00:00:00",
          "2017-10-20T00:00:00",
          "2017-10-19T00:00:00",
          "2017-10-18T00:00:00",
          "2017-10-17T00:00:00",
          "2017-10-16T00:00:00",
          "2017-10-15T00:00:00",
          "2017-10-14T00:00:00",
          "2017-10-13T00:00:00",
          "2017-10-12T00:00:00",
          "2017-10-11T00:00:00",
          "2017-10-10T00:00:00",
          "2017-10-09T00:00:00",
          "2017-10-08T00:00:00",
          "2017-10-07T00:00:00",
          "2017-10-06T00:00:00",
          "2017-10-05T00:00:00",
          "2017-10-04T00:00:00",
          "2017-10-03T00:00:00",
          "2017-10-02T00:00:00",
          "2017-10-01T00:00:00",
          "2017-09-30T00:00:00",
          "2017-09-29T00:00:00",
          "2017-09-28T00:00:00",
          "2017-09-27T00:00:00",
          "2017-09-26T00:00:00",
          "2017-09-25T00:00:00",
          "2017-09-24T00:00:00",
          "2017-09-23T00:00:00",
          "2017-09-22T00:00:00",
          "2017-09-21T00:00:00",
          "2017-09-20T00:00:00",
          "2017-09-19T00:00:00",
          "2017-09-18T00:00:00",
          "2017-09-17T00:00:00",
          "2017-09-16T00:00:00",
          "2017-09-15T00:00:00",
          "2017-09-14T00:00:00",
          "2017-09-13T00:00:00",
          "2017-09-12T00:00:00",
          "2017-09-11T00:00:00",
          "2017-09-10T00:00:00",
          "2017-09-09T00:00:00",
          "2017-09-08T00:00:00",
          "2017-09-07T00:00:00",
          "2017-09-06T00:00:00",
          "2017-09-05T00:00:00",
          "2017-09-04T00:00:00",
          "2017-09-03T00:00:00",
          "2017-09-02T00:00:00",
          "2017-09-01T00:00:00",
          "2017-08-31T00:00:00",
          "2017-08-30T00:00:00",
          "2017-08-29T00:00:00",
          "2017-08-28T00:00:00",
          "2017-08-27T00:00:00",
          "2017-08-26T00:00:00",
          "2017-08-25T00:00:00",
          "2017-08-24T00:00:00",
          "2017-08-23T00:00:00",
          "2017-08-22T00:00:00",
          "2017-08-21T00:00:00",
          "2017-08-20T00:00:00",
          "2017-08-19T00:00:00",
          "2017-08-18T00:00:00",
          "2017-08-17T00:00:00",
          "2017-08-16T00:00:00",
          "2017-08-15T00:00:00",
          "2017-08-14T00:00:00",
          "2017-08-13T00:00:00",
          "2017-08-12T00:00:00",
          "2017-08-11T00:00:00",
          "2017-08-10T00:00:00",
          "2017-08-09T00:00:00",
          "2017-08-08T00:00:00",
          "2017-08-07T00:00:00",
          "2017-08-06T00:00:00",
          "2017-08-05T00:00:00",
          "2017-08-04T00:00:00",
          "2017-08-03T00:00:00",
          "2017-08-02T00:00:00",
          "2017-08-01T00:00:00",
          "2017-07-31T00:00:00",
          "2017-07-30T00:00:00",
          "2017-07-29T00:00:00",
          "2017-07-28T00:00:00",
          "2017-07-27T00:00:00",
          "2017-07-26T00:00:00",
          "2017-07-25T00:00:00",
          "2017-07-24T00:00:00",
          "2017-07-23T00:00:00",
          "2017-07-22T00:00:00",
          "2017-07-21T00:00:00",
          "2017-07-20T00:00:00",
          "2017-07-19T00:00:00",
          "2017-07-18T00:00:00",
          "2017-07-17T00:00:00",
          "2017-07-16T00:00:00",
          "2017-07-15T00:00:00",
          "2017-07-14T00:00:00",
          "2017-07-13T00:00:00",
          "2017-07-12T00:00:00",
          "2017-07-11T00:00:00",
          "2017-07-10T00:00:00",
          "2017-07-09T00:00:00",
          "2017-07-08T00:00:00",
          "2017-07-07T00:00:00",
          "2017-07-06T00:00:00",
          "2017-07-05T00:00:00",
          "2017-07-04T00:00:00",
          "2017-07-03T00:00:00",
          "2017-07-02T00:00:00",
          "2017-07-01T00:00:00",
          "2017-06-30T00:00:00",
          "2017-06-29T00:00:00",
          "2017-06-28T00:00:00",
          "2017-06-27T00:00:00",
          "2017-06-26T00:00:00",
          "2017-06-25T00:00:00",
          "2017-06-24T00:00:00",
          "2017-06-23T00:00:00",
          "2017-06-22T00:00:00",
          "2017-06-21T00:00:00",
          "2017-06-20T00:00:00",
          "2017-06-19T00:00:00",
          "2017-06-18T00:00:00",
          "2017-06-17T00:00:00",
          "2017-06-16T00:00:00",
          "2017-06-15T00:00:00",
          "2017-06-14T00:00:00",
          "2017-06-13T00:00:00",
          "2017-06-12T00:00:00",
          "2017-06-11T00:00:00",
          "2017-06-10T00:00:00",
          "2017-06-09T00:00:00",
          "2017-06-08T00:00:00",
          "2017-06-07T00:00:00",
          "2017-06-06T00:00:00",
          "2017-06-05T00:00:00",
          "2017-06-04T00:00:00",
          "2017-06-03T00:00:00",
          "2017-06-02T00:00:00",
          "2017-06-01T00:00:00",
          "2017-05-31T00:00:00",
          "2017-05-30T00:00:00",
          "2017-05-29T00:00:00",
          "2017-05-28T00:00:00",
          "2017-05-27T00:00:00",
          "2017-05-26T00:00:00",
          "2017-05-25T00:00:00",
          "2017-05-24T00:00:00",
          "2017-05-23T00:00:00",
          "2017-05-22T00:00:00",
          "2017-05-21T00:00:00",
          "2017-05-20T00:00:00",
          "2017-05-19T00:00:00",
          "2017-05-18T00:00:00",
          "2017-05-17T00:00:00",
          "2017-05-16T00:00:00",
          "2017-05-15T00:00:00",
          "2017-05-14T00:00:00",
          "2017-05-13T00:00:00",
          "2017-05-12T00:00:00",
          "2017-05-11T00:00:00",
          "2017-05-10T00:00:00",
          "2017-05-09T00:00:00",
          "2017-05-08T00:00:00",
          "2017-05-07T00:00:00",
          "2017-05-06T00:00:00",
          "2017-05-05T00:00:00",
          "2017-05-04T00:00:00",
          "2017-05-03T00:00:00",
          "2017-05-02T00:00:00",
          "2017-05-01T00:00:00",
          "2017-04-30T00:00:00",
          "2017-04-29T00:00:00",
          "2017-04-28T00:00:00",
          "2017-04-27T00:00:00",
          "2017-04-26T00:00:00",
          "2017-04-25T00:00:00",
          "2017-04-24T00:00:00",
          "2017-04-23T00:00:00",
          "2017-04-22T00:00:00",
          "2017-04-21T00:00:00",
          "2017-04-20T00:00:00",
          "2017-04-19T00:00:00",
          "2017-04-18T00:00:00",
          "2017-04-17T00:00:00",
          "2017-04-16T00:00:00",
          "2017-04-15T00:00:00",
          "2017-04-14T00:00:00",
          "2017-04-13T00:00:00",
          "2017-04-12T00:00:00",
          "2017-04-11T00:00:00",
          "2017-04-10T00:00:00",
          "2017-04-09T00:00:00",
          "2017-04-08T00:00:00",
          "2017-04-07T00:00:00",
          "2017-04-06T00:00:00",
          "2017-04-05T00:00:00",
          "2017-04-04T00:00:00",
          "2017-04-03T00:00:00",
          "2017-04-02T00:00:00",
          "2017-04-01T00:00:00",
          "2017-03-31T00:00:00",
          "2017-03-30T00:00:00",
          "2017-03-29T00:00:00",
          "2017-03-28T00:00:00",
          "2017-03-27T00:00:00",
          "2017-03-26T00:00:00",
          "2017-03-25T00:00:00",
          "2017-03-24T00:00:00",
          "2017-03-23T00:00:00",
          "2017-03-22T00:00:00",
          "2017-03-21T00:00:00",
          "2017-03-20T00:00:00",
          "2017-03-19T00:00:00",
          "2017-03-18T00:00:00",
          "2017-03-17T00:00:00",
          "2017-03-16T00:00:00",
          "2017-03-15T00:00:00",
          "2017-03-14T00:00:00",
          "2017-03-13T00:00:00",
          "2017-03-12T00:00:00",
          "2017-03-11T00:00:00",
          "2017-03-10T00:00:00",
          "2017-03-09T00:00:00",
          "2017-03-08T00:00:00",
          "2017-03-07T00:00:00",
          "2017-03-06T00:00:00",
          "2017-03-05T00:00:00",
          "2017-03-04T00:00:00",
          "2017-03-03T00:00:00",
          "2017-03-02T00:00:00",
          "2017-03-01T00:00:00",
          "2017-02-28T00:00:00",
          "2017-02-27T00:00:00",
          "2017-02-26T00:00:00",
          "2017-02-25T00:00:00",
          "2017-02-24T00:00:00",
          "2017-02-23T00:00:00",
          "2017-02-22T00:00:00",
          "2017-02-21T00:00:00",
          "2017-02-20T00:00:00",
          "2017-02-19T00:00:00",
          "2017-02-18T00:00:00",
          "2017-02-17T00:00:00",
          "2017-02-16T00:00:00",
          "2017-02-15T00:00:00",
          "2017-02-14T00:00:00",
          "2017-02-13T00:00:00",
          "2017-02-12T00:00:00",
          "2017-02-11T00:00:00",
          "2017-02-10T00:00:00",
          "2017-02-09T00:00:00",
          "2017-02-08T00:00:00",
          "2017-02-07T00:00:00",
          "2017-02-06T00:00:00",
          "2017-02-05T00:00:00",
          "2017-02-04T00:00:00",
          "2017-02-03T00:00:00",
          "2017-02-02T00:00:00",
          "2017-02-01T00:00:00",
          "2017-01-31T00:00:00",
          "2017-01-30T00:00:00",
          "2017-01-29T00:00:00",
          "2017-01-28T00:00:00",
          "2017-01-27T00:00:00",
          "2017-01-26T00:00:00",
          "2017-01-25T00:00:00",
          "2017-01-24T00:00:00",
          "2017-01-23T00:00:00",
          "2017-01-22T00:00:00",
          "2017-01-21T00:00:00",
          "2017-01-20T00:00:00",
          "2017-01-19T00:00:00",
          "2017-01-18T00:00:00",
          "2017-01-17T00:00:00",
          "2017-01-16T00:00:00",
          "2017-01-15T00:00:00",
          "2017-01-14T00:00:00",
          "2017-01-13T00:00:00",
          "2017-01-12T00:00:00",
          "2017-01-11T00:00:00",
          "2017-01-10T00:00:00",
          "2017-01-09T00:00:00",
          "2017-01-08T00:00:00",
          "2017-01-07T00:00:00",
          "2017-01-06T00:00:00",
          "2017-01-05T00:00:00",
          "2017-01-04T00:00:00",
          "2017-01-03T00:00:00",
          "2017-01-02T00:00:00",
          "2017-01-01T00:00:00",
          "2016-12-31T00:00:00",
          "2016-12-30T00:00:00",
          "2016-12-29T00:00:00",
          "2016-12-28T00:00:00",
          "2016-12-27T00:00:00",
          "2016-12-26T00:00:00",
          "2016-12-25T00:00:00",
          "2016-12-24T00:00:00",
          "2016-12-23T00:00:00",
          "2016-12-22T00:00:00",
          "2016-12-21T00:00:00",
          "2016-12-20T00:00:00",
          "2016-12-19T00:00:00",
          "2016-12-18T00:00:00",
          "2016-12-17T00:00:00",
          "2016-12-16T00:00:00",
          "2016-12-15T00:00:00",
          "2016-12-14T00:00:00",
          "2016-12-13T00:00:00",
          "2016-12-12T00:00:00",
          "2016-12-11T00:00:00",
          "2016-12-10T00:00:00",
          "2016-12-09T00:00:00",
          "2016-12-08T00:00:00",
          "2016-12-07T00:00:00",
          "2016-12-06T00:00:00",
          "2016-12-05T00:00:00",
          "2016-12-04T00:00:00",
          "2016-12-03T00:00:00",
          "2016-12-02T00:00:00",
          "2016-12-01T00:00:00",
          "2016-11-30T00:00:00",
          "2016-11-29T00:00:00",
          "2016-11-28T00:00:00",
          "2016-11-27T00:00:00",
          "2016-11-26T00:00:00",
          "2016-11-25T00:00:00",
          "2016-11-24T00:00:00",
          "2016-11-23T00:00:00",
          "2016-11-22T00:00:00",
          "2016-11-21T00:00:00",
          "2016-11-20T00:00:00",
          "2016-11-19T00:00:00",
          "2016-11-18T00:00:00",
          "2016-11-17T00:00:00",
          "2016-11-16T00:00:00",
          "2016-11-15T00:00:00",
          "2016-11-14T00:00:00",
          "2016-11-13T00:00:00",
          "2016-11-12T00:00:00",
          "2016-11-11T00:00:00",
          "2016-11-10T00:00:00",
          "2016-11-09T00:00:00",
          "2016-11-08T00:00:00",
          "2016-11-07T00:00:00",
          "2016-11-06T00:00:00",
          "2016-11-05T00:00:00",
          "2016-11-04T00:00:00",
          "2016-11-03T00:00:00",
          "2016-11-02T00:00:00",
          "2016-11-01T00:00:00",
          "2016-10-31T00:00:00",
          "2016-10-30T00:00:00",
          "2016-10-29T00:00:00",
          "2016-10-28T00:00:00",
          "2016-10-27T00:00:00",
          "2016-10-26T00:00:00",
          "2016-10-25T00:00:00",
          "2016-10-24T00:00:00",
          "2016-10-23T00:00:00",
          "2016-10-22T00:00:00",
          "2016-10-21T00:00:00",
          "2016-10-20T00:00:00",
          "2016-10-19T00:00:00",
          "2016-10-18T00:00:00",
          "2016-10-17T00:00:00",
          "2016-10-16T00:00:00",
          "2016-10-15T00:00:00",
          "2016-10-14T00:00:00",
          "2016-10-13T00:00:00",
          "2016-10-12T00:00:00",
          "2016-10-11T00:00:00",
          "2016-10-10T00:00:00",
          "2016-10-09T00:00:00",
          "2016-10-08T00:00:00",
          "2016-10-07T00:00:00",
          "2016-10-06T00:00:00",
          "2016-10-05T00:00:00",
          "2016-10-04T00:00:00",
          "2016-10-03T00:00:00",
          "2016-10-02T00:00:00",
          "2016-10-01T00:00:00",
          "2016-09-30T00:00:00",
          "2016-09-29T00:00:00",
          "2016-09-28T00:00:00",
          "2016-09-27T00:00:00",
          "2016-09-26T00:00:00",
          "2016-09-25T00:00:00",
          "2016-09-24T00:00:00",
          "2016-09-23T00:00:00",
          "2016-09-22T00:00:00",
          "2016-09-21T00:00:00",
          "2016-09-20T00:00:00",
          "2016-09-19T00:00:00",
          "2016-09-18T00:00:00",
          "2016-09-17T00:00:00",
          "2016-09-16T00:00:00",
          "2016-09-15T00:00:00",
          "2016-09-14T00:00:00",
          "2016-09-13T00:00:00",
          "2016-09-12T00:00:00",
          "2016-09-11T00:00:00",
          "2016-09-10T00:00:00",
          "2016-09-09T00:00:00",
          "2016-09-08T00:00:00",
          "2016-09-07T00:00:00",
          "2016-09-06T00:00:00",
          "2016-09-05T00:00:00",
          "2016-09-04T00:00:00",
          "2016-09-03T00:00:00",
          "2016-09-02T00:00:00",
          "2016-09-01T00:00:00",
          "2016-08-31T00:00:00",
          "2016-08-30T00:00:00",
          "2016-08-29T00:00:00",
          "2016-08-28T00:00:00",
          "2016-08-27T00:00:00",
          "2016-08-26T00:00:00",
          "2016-08-25T00:00:00",
          "2016-08-24T00:00:00",
          "2016-08-23T00:00:00",
          "2016-08-22T00:00:00",
          "2016-08-21T00:00:00",
          "2016-08-20T00:00:00",
          "2016-08-19T00:00:00",
          "2016-08-18T00:00:00",
          "2016-08-17T00:00:00",
          "2016-08-16T00:00:00",
          "2016-08-15T00:00:00",
          "2016-08-14T00:00:00",
          "2016-08-13T00:00:00",
          "2016-08-12T00:00:00",
          "2016-08-11T00:00:00",
          "2016-08-10T00:00:00",
          "2016-08-09T00:00:00",
          "2016-08-08T00:00:00",
          "2016-08-07T00:00:00",
          "2016-08-06T00:00:00",
          "2016-08-05T00:00:00",
          "2016-08-04T00:00:00",
          "2016-08-03T00:00:00",
          "2016-08-02T00:00:00",
          "2016-08-01T00:00:00"
         ],
         "xaxis": "x2",
         "y": [
          849250,
          775870,
          684953,
          862884,
          949692,
          833443,
          907290,
          811208,
          783275,
          728060,
          947622,
          945635,
          849568,
          874300,
          907588,
          729125,
          715833,
          966732,
          958948,
          824973,
          885543,
          847699,
          738013,
          744687,
          990396,
          1006707,
          907768,
          835287,
          817405,
          806839,
          653170,
          1023409,
          1001731,
          940701,
          906828,
          782813,
          797112,
          730314,
          975058,
          910333,
          843762,
          961064,
          782515,
          869408,
          702472,
          977595,
          984365,
          847192,
          858462,
          935454,
          731831,
          746047,
          979680,
          873941,
          855883,
          842765,
          972299,
          810156,
          793734,
          1001872,
          953877,
          1043534,
          860475,
          866751,
          818264,
          786314,
          1051609,
          1014222,
          986113,
          814842,
          772973,
          921512,
          829143,
          1011410,
          1037118,
          865906,
          903791,
          906670,
          811796,
          805250,
          969523,
          1012408,
          924374,
          878687,
          868938,
          706564,
          721834,
          934187,
          1006881,
          959546,
          926952,
          942933,
          981543,
          846153,
          1022977,
          1014891,
          975985,
          898231,
          829133,
          702650,
          750010,
          1063776,
          1011776,
          955305,
          892049,
          938519,
          1000847,
          784313,
          1021464,
          1046556,
          921248,
          917905,
          874051,
          891791,
          759353,
          1018524,
          1004604,
          861785,
          857344,
          895128,
          895490,
          814382,
          1162393,
          1036973,
          904795,
          966953,
          880560,
          830817,
          790868,
          1095432,
          1004067,
          887809,
          785163,
          919435,
          697643,
          847605,
          1022897,
          912901,
          875878,
          882863,
          855109,
          762369,
          785539,
          1043775,
          874544,
          858125,
          837868,
          959668,
          830553,
          694419,
          965309,
          984069,
          887288,
          1014765,
          869179,
          811088,
          745629,
          962557,
          938415,
          772366,
          853918,
          867585,
          677095,
          606579,
          594863,
          343923,
          695576,
          1084231,
          989744,
          881594,
          737756,
          1041571,
          972790,
          914922,
          842139,
          812504,
          721471,
          648568,
          907741,
          1049164,
          820107,
          938677,
          789584,
          648046,
          706661,
          937336,
          886490,
          813442,
          783450,
          765884,
          631167,
          688664,
          888741,
          968951,
          780401,
          737005,
          724101,
          774679,
          683854,
          968250,
          815744,
          769909,
          750740,
          749498,
          695848,
          632608,
          826331,
          868410,
          748548,
          823386,
          673541,
          544002,
          812244,
          922877,
          1101944,
          1094740,
          992165,
          794919,
          748887,
          832863,
          932911,
          988183,
          876046,
          774650,
          769764,
          808484,
          742845,
          943385,
          938868,
          771841,
          836077,
          755144,
          759039,
          662204,
          928812,
          913711,
          848154,
          813017,
          929598,
          689050,
          664458,
          873320,
          979071,
          819757,
          685985,
          708398,
          674424,
          641239,
          820432,
          729899,
          810075,
          738909,
          710562,
          655497,
          634488,
          885528,
          821839,
          737827,
          749506,
          660240,
          648464,
          610203,
          863548,
          738897,
          714339,
          695539,
          687339,
          637477,
          660977,
          857899,
          843764,
          719687,
          765361,
          785298,
          651614,
          651753,
          829169,
          899458,
          698772,
          767640,
          785297,
          621383,
          656530,
          851784,
          806200,
          658217,
          700758,
          680664,
          594707,
          610049,
          773886,
          746177,
          678143,
          712506,
          646296,
          589930,
          600506,
          673087,
          627114,
          465332,
          278572,
          544352,
          738523,
          667030,
          887576,
          937918,
          717847,
          785201,
          765154,
          635827,
          646869,
          800052,
          760961,
          704523,
          720687,
          648585,
          577426,
          646373,
          786357,
          764550,
          685125,
          721867,
          667367,
          598034,
          619027,
          833985,
          772301,
          698599,
          728150,
          728018,
          673944,
          626374,
          774928,
          806074,
          771014,
          779828,
          621733,
          605639,
          597117,
          802786,
          753042,
          711520,
          657007,
          587303,
          606169,
          572054,
          691640,
          818268,
          962169,
          592517,
          563091,
          607338,
          578416,
          784831,
          747189,
          631879,
          653296,
          707191,
          623847,
          557130,
          682284,
          715346,
          749010,
          697901,
          675015,
          617769,
          592580,
          684900,
          724372,
          698433,
          661320,
          726067,
          577696,
          578409,
          762798,
          742148,
          681584,
          684252,
          660607,
          612366,
          591182,
          755598,
          712581,
          693837,
          732027,
          616823,
          545479,
          577498,
          703732,
          745856,
          688170,
          712230,
          625547,
          581892,
          534951,
          697080,
          789820,
          687711,
          700694,
          644463,
          509724,
          551707,
          766233,
          683845,
          643243,
          685854,
          568532,
          623149,
          562274,
          710372,
          693770,
          640519,
          629377,
          608522,
          534837,
          590750,
          733673,
          665891,
          619268,
          575860,
          555431,
          612864,
          535270,
          734562,
          698642,
          746222,
          708226,
          588981,
          517970,
          537784,
          687025,
          741150,
          658743,
          600496,
          550543,
          551791,
          580258,
          761397,
          685822,
          645475,
          588183,
          579106,
          535321,
          554952,
          703792,
          641601,
          605881,
          604483,
          530756,
          627454,
          528986,
          579557,
          600015,
          639421,
          569213,
          628874,
          625133,
          580295,
          731310,
          719785,
          602413,
          716301,
          579780,
          522438,
          523120,
          744403,
          726774,
          581708,
          542921,
          543708,
          609812,
          590364,
          706870,
          679865,
          601772,
          573037,
          550891,
          604773,
          607565,
          699636,
          660088,
          580349,
          614838,
          551394,
          581957,
          537541,
          672593,
          662525,
          589697,
          593206,
          584037,
          564033,
          511285,
          735125,
          645748,
          569992,
          563800,
          577193,
          497340,
          533074,
          667977,
          626614,
          569300,
          583824,
          525581,
          511740,
          526920,
          666094,
          647388,
          545060,
          516147,
          652104,
          492088,
          510546,
          642070,
          647882,
          589538,
          569819,
          661073,
          600692,
          497780,
          632189,
          637760,
          575044,
          533393,
          562701,
          529926,
          464872,
          666620,
          650206,
          571255,
          563105,
          504283,
          479810,
          436891,
          548746,
          573681,
          489329,
          520442,
          550899,
          454180,
          435671,
          605232,
          612189,
          488088,
          539965,
          469061,
          382399,
          343268,
          189583,
          398226,
          691863,
          575426,
          531153,
          485443,
          446600,
          573142,
          609695,
          513687,
          574507,
          526552,
          468805,
          501164,
          599523,
          551863,
          505591,
          523876,
          602041,
          431816,
          431083,
          621823,
          587847,
          490781,
          522597,
          491667,
          444136,
          377562,
          671033,
          713862,
          585848,
          556686,
          611735,
          503417,
          513351,
          609752,
          664865,
          536862,
          521956,
          550722,
          504075,
          533799,
          581359,
          570928,
          500559,
          499968,
          513943,
          512697,
          445759,
          589244,
          545099,
          531679,
          513157,
          500431,
          459309,
          383594,
          508949,
          536827,
          468190,
          524143,
          460812,
          376489,
          424592,
          517415,
          491771,
          451054,
          391058,
          551031,
          447088,
          368580,
          480561,
          483128,
          482522,
          476280,
          425351,
          440438,
          410450,
          530545,
          457328,
          436053,
          434192,
          394154,
          402806,
          392577,
          458470,
          512683,
          443229,
          460657,
          426675,
          427898,
          375640,
          474174,
          564559,
          423946,
          497030,
          441801,
          450970,
          391845,
          517118,
          458756,
          466062,
          414837,
          463068,
          383989,
          337595,
          574914,
          460111,
          474572,
          427090,
          484904,
          408176,
          383150,
          456485,
          457418,
          422303,
          414625,
          446892,
          331697,
          354720,
          467397,
          511770,
          447447,
          418583,
          365270,
          364261,
          349328,
          464698,
          501172,
          453040,
          434673,
          417096,
          374798,
          306399,
          347928,
          282732,
          158956,
          311439,
          638870,
          451219,
          381804,
          489077,
          478480,
          454140,
          496211,
          421090,
          347691,
          343665,
          452751,
          511570,
          471674,
          535141,
          424382,
          336022,
          300950,
          448840,
          477433,
          407792,
          430465,
          378059,
          400245,
          320934,
          463676,
          408289,
          412465,
          443155,
          420612,
          307633,
          358402,
          425545,
          461828,
          441055,
          405533,
          382247,
          349855,
          322932,
          486131,
          438015,
          416566,
          507829,
          397806,
          435946
         ],
         "yaxis": "y2"
        }
       ],
       "layout": {
        "height": 660,
        "showlegend": true,
        "template": {
         "data": {
          "bar": [
           {
            "error_x": {
             "color": "#2a3f5f"
            },
            "error_y": {
             "color": "#2a3f5f"
            },
            "marker": {
             "line": {
              "color": "#E5ECF6",
              "width": 0.5
             }
            },
            "type": "bar"
           }
          ],
          "barpolar": [
           {
            "marker": {
             "line": {
              "color": "#E5ECF6",
              "width": 0.5
             }
            },
            "type": "barpolar"
           }
          ],
          "carpet": [
           {
            "aaxis": {
             "endlinecolor": "#2a3f5f",
             "gridcolor": "white",
             "linecolor": "white",
             "minorgridcolor": "white",
             "startlinecolor": "#2a3f5f"
            },
            "baxis": {
             "endlinecolor": "#2a3f5f",
             "gridcolor": "white",
             "linecolor": "white",
             "minorgridcolor": "white",
             "startlinecolor": "#2a3f5f"
            },
            "type": "carpet"
           }
          ],
          "choropleth": [
           {
            "colorbar": {
             "outlinewidth": 0,
             "ticks": ""
            },
            "type": "choropleth"
           }
          ],
          "contour": [
           {
            "colorbar": {
             "outlinewidth": 0,
             "ticks": ""
            },
            "colorscale": [
             [
              0,
              "#0d0887"
             ],
             [
              0.1111111111111111,
              "#46039f"
             ],
             [
              0.2222222222222222,
              "#7201a8"
             ],
             [
              0.3333333333333333,
              "#9c179e"
             ],
             [
              0.4444444444444444,
              "#bd3786"
             ],
             [
              0.5555555555555556,
              "#d8576b"
             ],
             [
              0.6666666666666666,
              "#ed7953"
             ],
             [
              0.7777777777777778,
              "#fb9f3a"
             ],
             [
              0.8888888888888888,
              "#fdca26"
             ],
             [
              1,
              "#f0f921"
             ]
            ],
            "type": "contour"
           }
          ],
          "contourcarpet": [
           {
            "colorbar": {
             "outlinewidth": 0,
             "ticks": ""
            },
            "type": "contourcarpet"
           }
          ],
          "heatmap": [
           {
            "colorbar": {
             "outlinewidth": 0,
             "ticks": ""
            },
            "colorscale": [
             [
              0,
              "#0d0887"
             ],
             [
              0.1111111111111111,
              "#46039f"
             ],
             [
              0.2222222222222222,
              "#7201a8"
             ],
             [
              0.3333333333333333,
              "#9c179e"
             ],
             [
              0.4444444444444444,
              "#bd3786"
             ],
             [
              0.5555555555555556,
              "#d8576b"
             ],
             [
              0.6666666666666666,
              "#ed7953"
             ],
             [
              0.7777777777777778,
              "#fb9f3a"
             ],
             [
              0.8888888888888888,
              "#fdca26"
             ],
             [
              1,
              "#f0f921"
             ]
            ],
            "type": "heatmap"
           }
          ],
          "heatmapgl": [
           {
            "colorbar": {
             "outlinewidth": 0,
             "ticks": ""
            },
            "colorscale": [
             [
              0,
              "#0d0887"
             ],
             [
              0.1111111111111111,
              "#46039f"
             ],
             [
              0.2222222222222222,
              "#7201a8"
             ],
             [
              0.3333333333333333,
              "#9c179e"
             ],
             [
              0.4444444444444444,
              "#bd3786"
             ],
             [
              0.5555555555555556,
              "#d8576b"
             ],
             [
              0.6666666666666666,
              "#ed7953"
             ],
             [
              0.7777777777777778,
              "#fb9f3a"
             ],
             [
              0.8888888888888888,
              "#fdca26"
             ],
             [
              1,
              "#f0f921"
             ]
            ],
            "type": "heatmapgl"
           }
          ],
          "histogram": [
           {
            "marker": {
             "colorbar": {
              "outlinewidth": 0,
              "ticks": ""
             }
            },
            "type": "histogram"
           }
          ],
          "histogram2d": [
           {
            "colorbar": {
             "outlinewidth": 0,
             "ticks": ""
            },
            "colorscale": [
             [
              0,
              "#0d0887"
             ],
             [
              0.1111111111111111,
              "#46039f"
             ],
             [
              0.2222222222222222,
              "#7201a8"
             ],
             [
              0.3333333333333333,
              "#9c179e"
             ],
             [
              0.4444444444444444,
              "#bd3786"
             ],
             [
              0.5555555555555556,
              "#d8576b"
             ],
             [
              0.6666666666666666,
              "#ed7953"
             ],
             [
              0.7777777777777778,
              "#fb9f3a"
             ],
             [
              0.8888888888888888,
              "#fdca26"
             ],
             [
              1,
              "#f0f921"
             ]
            ],
            "type": "histogram2d"
           }
          ],
          "histogram2dcontour": [
           {
            "colorbar": {
             "outlinewidth": 0,
             "ticks": ""
            },
            "colorscale": [
             [
              0,
              "#0d0887"
             ],
             [
              0.1111111111111111,
              "#46039f"
             ],
             [
              0.2222222222222222,
              "#7201a8"
             ],
             [
              0.3333333333333333,
              "#9c179e"
             ],
             [
              0.4444444444444444,
              "#bd3786"
             ],
             [
              0.5555555555555556,
              "#d8576b"
             ],
             [
              0.6666666666666666,
              "#ed7953"
             ],
             [
              0.7777777777777778,
              "#fb9f3a"
             ],
             [
              0.8888888888888888,
              "#fdca26"
             ],
             [
              1,
              "#f0f921"
             ]
            ],
            "type": "histogram2dcontour"
           }
          ],
          "mesh3d": [
           {
            "colorbar": {
             "outlinewidth": 0,
             "ticks": ""
            },
            "type": "mesh3d"
           }
          ],
          "parcoords": [
           {
            "line": {
             "colorbar": {
              "outlinewidth": 0,
              "ticks": ""
             }
            },
            "type": "parcoords"
           }
          ],
          "pie": [
           {
            "automargin": true,
            "type": "pie"
           }
          ],
          "scatter": [
           {
            "marker": {
             "colorbar": {
              "outlinewidth": 0,
              "ticks": ""
             }
            },
            "type": "scatter"
           }
          ],
          "scatter3d": [
           {
            "line": {
             "colorbar": {
              "outlinewidth": 0,
              "ticks": ""
             }
            },
            "marker": {
             "colorbar": {
              "outlinewidth": 0,
              "ticks": ""
             }
            },
            "type": "scatter3d"
           }
          ],
          "scattercarpet": [
           {
            "marker": {
             "colorbar": {
              "outlinewidth": 0,
              "ticks": ""
             }
            },
            "type": "scattercarpet"
           }
          ],
          "scattergeo": [
           {
            "marker": {
             "colorbar": {
              "outlinewidth": 0,
              "ticks": ""
             }
            },
            "type": "scattergeo"
           }
          ],
          "scattergl": [
           {
            "marker": {
             "colorbar": {
              "outlinewidth": 0,
              "ticks": ""
             }
            },
            "type": "scattergl"
           }
          ],
          "scattermapbox": [
           {
            "marker": {
             "colorbar": {
              "outlinewidth": 0,
              "ticks": ""
             }
            },
            "type": "scattermapbox"
           }
          ],
          "scatterpolar": [
           {
            "marker": {
             "colorbar": {
              "outlinewidth": 0,
              "ticks": ""
             }
            },
            "type": "scatterpolar"
           }
          ],
          "scatterpolargl": [
           {
            "marker": {
             "colorbar": {
              "outlinewidth": 0,
              "ticks": ""
             }
            },
            "type": "scatterpolargl"
           }
          ],
          "scatterternary": [
           {
            "marker": {
             "colorbar": {
              "outlinewidth": 0,
              "ticks": ""
             }
            },
            "type": "scatterternary"
           }
          ],
          "surface": [
           {
            "colorbar": {
             "outlinewidth": 0,
             "ticks": ""
            },
            "colorscale": [
             [
              0,
              "#0d0887"
             ],
             [
              0.1111111111111111,
              "#46039f"
             ],
             [
              0.2222222222222222,
              "#7201a8"
             ],
             [
              0.3333333333333333,
              "#9c179e"
             ],
             [
              0.4444444444444444,
              "#bd3786"
             ],
             [
              0.5555555555555556,
              "#d8576b"
             ],
             [
              0.6666666666666666,
              "#ed7953"
             ],
             [
              0.7777777777777778,
              "#fb9f3a"
             ],
             [
              0.8888888888888888,
              "#fdca26"
             ],
             [
              1,
              "#f0f921"
             ]
            ],
            "type": "surface"
           }
          ],
          "table": [
           {
            "cells": {
             "fill": {
              "color": "#EBF0F8"
             },
             "line": {
              "color": "white"
             }
            },
            "header": {
             "fill": {
              "color": "#C8D4E3"
             },
             "line": {
              "color": "white"
             }
            },
            "type": "table"
           }
          ]
         },
         "layout": {
          "annotationdefaults": {
           "arrowcolor": "#2a3f5f",
           "arrowhead": 0,
           "arrowwidth": 1
          },
          "coloraxis": {
           "colorbar": {
            "outlinewidth": 0,
            "ticks": ""
           }
          },
          "colorscale": {
           "diverging": [
            [
             0,
             "#8e0152"
            ],
            [
             0.1,
             "#c51b7d"
            ],
            [
             0.2,
             "#de77ae"
            ],
            [
             0.3,
             "#f1b6da"
            ],
            [
             0.4,
             "#fde0ef"
            ],
            [
             0.5,
             "#f7f7f7"
            ],
            [
             0.6,
             "#e6f5d0"
            ],
            [
             0.7,
             "#b8e186"
            ],
            [
             0.8,
             "#7fbc41"
            ],
            [
             0.9,
             "#4d9221"
            ],
            [
             1,
             "#276419"
            ]
           ],
           "sequential": [
            [
             0,
             "#0d0887"
            ],
            [
             0.1111111111111111,
             "#46039f"
            ],
            [
             0.2222222222222222,
             "#7201a8"
            ],
            [
             0.3333333333333333,
             "#9c179e"
            ],
            [
             0.4444444444444444,
             "#bd3786"
            ],
            [
             0.5555555555555556,
             "#d8576b"
            ],
            [
             0.6666666666666666,
             "#ed7953"
            ],
            [
             0.7777777777777778,
             "#fb9f3a"
            ],
            [
             0.8888888888888888,
             "#fdca26"
            ],
            [
             1,
             "#f0f921"
            ]
           ],
           "sequentialminus": [
            [
             0,
             "#0d0887"
            ],
            [
             0.1111111111111111,
             "#46039f"
            ],
            [
             0.2222222222222222,
             "#7201a8"
            ],
            [
             0.3333333333333333,
             "#9c179e"
            ],
            [
             0.4444444444444444,
             "#bd3786"
            ],
            [
             0.5555555555555556,
             "#d8576b"
            ],
            [
             0.6666666666666666,
             "#ed7953"
            ],
            [
             0.7777777777777778,
             "#fb9f3a"
            ],
            [
             0.8888888888888888,
             "#fdca26"
            ],
            [
             1,
             "#f0f921"
            ]
           ]
          },
          "colorway": [
           "#636efa",
           "#EF553B",
           "#00cc96",
           "#ab63fa",
           "#FFA15A",
           "#19d3f3",
           "#FF6692",
           "#B6E880",
           "#FF97FF",
           "#FECB52"
          ],
          "font": {
           "color": "#2a3f5f"
          },
          "geo": {
           "bgcolor": "white",
           "lakecolor": "white",
           "landcolor": "#E5ECF6",
           "showlakes": true,
           "showland": true,
           "subunitcolor": "white"
          },
          "hoverlabel": {
           "align": "left"
          },
          "hovermode": "closest",
          "mapbox": {
           "style": "light"
          },
          "paper_bgcolor": "white",
          "plot_bgcolor": "#E5ECF6",
          "polar": {
           "angularaxis": {
            "gridcolor": "white",
            "linecolor": "white",
            "ticks": ""
           },
           "bgcolor": "#E5ECF6",
           "radialaxis": {
            "gridcolor": "white",
            "linecolor": "white",
            "ticks": ""
           }
          },
          "scene": {
           "xaxis": {
            "backgroundcolor": "#E5ECF6",
            "gridcolor": "white",
            "gridwidth": 2,
            "linecolor": "white",
            "showbackground": true,
            "ticks": "",
            "zerolinecolor": "white"
           },
           "yaxis": {
            "backgroundcolor": "#E5ECF6",
            "gridcolor": "white",
            "gridwidth": 2,
            "linecolor": "white",
            "showbackground": true,
            "ticks": "",
            "zerolinecolor": "white"
           },
           "zaxis": {
            "backgroundcolor": "#E5ECF6",
            "gridcolor": "white",
            "gridwidth": 2,
            "linecolor": "white",
            "showbackground": true,
            "ticks": "",
            "zerolinecolor": "white"
           }
          },
          "shapedefaults": {
           "line": {
            "color": "#2a3f5f"
           }
          },
          "ternary": {
           "aaxis": {
            "gridcolor": "white",
            "linecolor": "white",
            "ticks": ""
           },
           "baxis": {
            "gridcolor": "white",
            "linecolor": "white",
            "ticks": ""
           },
           "bgcolor": "#E5ECF6",
           "caxis": {
            "gridcolor": "white",
            "linecolor": "white",
            "ticks": ""
           }
          },
          "title": {
           "x": 0.05
          },
          "xaxis": {
           "automargin": true,
           "gridcolor": "white",
           "linecolor": "white",
           "ticks": "",
           "title": {
            "standoff": 15
           },
           "zerolinecolor": "white",
           "zerolinewidth": 2
          },
          "yaxis": {
           "automargin": true,
           "gridcolor": "white",
           "linecolor": "white",
           "ticks": "",
           "title": {
            "standoff": 15
           },
           "zerolinecolor": "white",
           "zerolinewidth": 2
          }
         }
        },
        "title": {
         "text": "일일 구매횟수와 매출액"
        },
        "width": 900,
        "xaxis": {
         "anchor": "y",
         "domain": [
          0,
          1
         ],
         "matches": "x2",
         "showticklabels": false
        },
        "xaxis2": {
         "anchor": "y2",
         "domain": [
          0,
          1
         ]
        },
        "yaxis": {
         "anchor": "x",
         "domain": [
          0.51,
          1
         ],
         "title": {
          "text": "구매 횟수"
         }
        },
        "yaxis2": {
         "anchor": "x2",
         "domain": [
          0,
          0.49
         ],
         "title": {
          "text": "매출액"
         }
        }
       }
      },
      "text/html": [
       "<div>                            <div id=\"a83035b5-c17e-4e27-8223-f18e744fdb59\" class=\"plotly-graph-div\" style=\"height:660px; width:900px;\"></div>            <script type=\"text/javascript\">                require([\"plotly\"], function(Plotly) {                    window.PLOTLYENV=window.PLOTLYENV || {};                                    if (document.getElementById(\"a83035b5-c17e-4e27-8223-f18e744fdb59\")) {                    Plotly.newPlot(                        \"a83035b5-c17e-4e27-8223-f18e744fdb59\",                        [{\"marker\": {\"color\": \"red\"}, \"name\": \"\\uad6c\\ub9e4\\ud69f\\uc218\", \"type\": \"scatter\", \"x\": [\"2018-07-31T00:00:00\", \"2018-07-30T00:00:00\", \"2018-07-29T00:00:00\", \"2018-07-28T00:00:00\", \"2018-07-27T00:00:00\", \"2018-07-26T00:00:00\", \"2018-07-25T00:00:00\", \"2018-07-24T00:00:00\", \"2018-07-23T00:00:00\", \"2018-07-22T00:00:00\", \"2018-07-21T00:00:00\", \"2018-07-20T00:00:00\", \"2018-07-19T00:00:00\", \"2018-07-18T00:00:00\", \"2018-07-17T00:00:00\", \"2018-07-16T00:00:00\", \"2018-07-15T00:00:00\", \"2018-07-14T00:00:00\", \"2018-07-13T00:00:00\", \"2018-07-12T00:00:00\", \"2018-07-11T00:00:00\", \"2018-07-10T00:00:00\", \"2018-07-09T00:00:00\", \"2018-07-08T00:00:00\", \"2018-07-07T00:00:00\", \"2018-07-06T00:00:00\", \"2018-07-05T00:00:00\", \"2018-07-04T00:00:00\", \"2018-07-03T00:00:00\", \"2018-07-02T00:00:00\", \"2018-07-01T00:00:00\", \"2018-06-30T00:00:00\", \"2018-06-29T00:00:00\", \"2018-06-28T00:00:00\", \"2018-06-27T00:00:00\", \"2018-06-26T00:00:00\", \"2018-06-25T00:00:00\", \"2018-06-24T00:00:00\", \"2018-06-23T00:00:00\", \"2018-06-22T00:00:00\", \"2018-06-21T00:00:00\", \"2018-06-20T00:00:00\", \"2018-06-19T00:00:00\", \"2018-06-18T00:00:00\", \"2018-06-17T00:00:00\", \"2018-06-16T00:00:00\", \"2018-06-15T00:00:00\", \"2018-06-14T00:00:00\", \"2018-06-13T00:00:00\", \"2018-06-12T00:00:00\", \"2018-06-11T00:00:00\", \"2018-06-10T00:00:00\", \"2018-06-09T00:00:00\", \"2018-06-08T00:00:00\", \"2018-06-07T00:00:00\", \"2018-06-06T00:00:00\", \"2018-06-05T00:00:00\", \"2018-06-04T00:00:00\", \"2018-06-03T00:00:00\", \"2018-06-02T00:00:00\", \"2018-06-01T00:00:00\", \"2018-05-31T00:00:00\", \"2018-05-30T00:00:00\", \"2018-05-29T00:00:00\", \"2018-05-28T00:00:00\", \"2018-05-27T00:00:00\", \"2018-05-26T00:00:00\", \"2018-05-25T00:00:00\", \"2018-05-24T00:00:00\", \"2018-05-23T00:00:00\", \"2018-05-22T00:00:00\", \"2018-05-21T00:00:00\", \"2018-05-20T00:00:00\", \"2018-05-19T00:00:00\", \"2018-05-18T00:00:00\", \"2018-05-17T00:00:00\", \"2018-05-16T00:00:00\", \"2018-05-15T00:00:00\", \"2018-05-14T00:00:00\", \"2018-05-13T00:00:00\", \"2018-05-12T00:00:00\", \"2018-05-11T00:00:00\", \"2018-05-10T00:00:00\", \"2018-05-09T00:00:00\", \"2018-05-08T00:00:00\", \"2018-05-07T00:00:00\", \"2018-05-06T00:00:00\", \"2018-05-05T00:00:00\", \"2018-05-04T00:00:00\", \"2018-05-03T00:00:00\", \"2018-05-02T00:00:00\", \"2018-05-01T00:00:00\", \"2018-04-30T00:00:00\", \"2018-04-29T00:00:00\", \"2018-04-28T00:00:00\", \"2018-04-27T00:00:00\", \"2018-04-26T00:00:00\", \"2018-04-25T00:00:00\", \"2018-04-24T00:00:00\", \"2018-04-23T00:00:00\", \"2018-04-22T00:00:00\", \"2018-04-21T00:00:00\", \"2018-04-20T00:00:00\", \"2018-04-19T00:00:00\", \"2018-04-18T00:00:00\", \"2018-04-17T00:00:00\", \"2018-04-16T00:00:00\", \"2018-04-15T00:00:00\", \"2018-04-14T00:00:00\", \"2018-04-13T00:00:00\", \"2018-04-12T00:00:00\", \"2018-04-11T00:00:00\", \"2018-04-10T00:00:00\", \"2018-04-09T00:00:00\", \"2018-04-08T00:00:00\", \"2018-04-07T00:00:00\", \"2018-04-06T00:00:00\", \"2018-04-05T00:00:00\", \"2018-04-04T00:00:00\", \"2018-04-03T00:00:00\", \"2018-04-02T00:00:00\", \"2018-04-01T00:00:00\", \"2018-03-31T00:00:00\", \"2018-03-30T00:00:00\", \"2018-03-29T00:00:00\", \"2018-03-28T00:00:00\", \"2018-03-27T00:00:00\", \"2018-03-26T00:00:00\", \"2018-03-25T00:00:00\", \"2018-03-24T00:00:00\", \"2018-03-23T00:00:00\", \"2018-03-22T00:00:00\", \"2018-03-21T00:00:00\", \"2018-03-20T00:00:00\", \"2018-03-19T00:00:00\", \"2018-03-18T00:00:00\", \"2018-03-17T00:00:00\", \"2018-03-16T00:00:00\", \"2018-03-15T00:00:00\", \"2018-03-14T00:00:00\", \"2018-03-13T00:00:00\", \"2018-03-12T00:00:00\", \"2018-03-11T00:00:00\", \"2018-03-10T00:00:00\", \"2018-03-09T00:00:00\", \"2018-03-08T00:00:00\", \"2018-03-07T00:00:00\", \"2018-03-06T00:00:00\", \"2018-03-05T00:00:00\", \"2018-03-04T00:00:00\", \"2018-03-03T00:00:00\", \"2018-03-02T00:00:00\", \"2018-03-01T00:00:00\", \"2018-02-28T00:00:00\", \"2018-02-27T00:00:00\", \"2018-02-26T00:00:00\", \"2018-02-25T00:00:00\", \"2018-02-24T00:00:00\", \"2018-02-23T00:00:00\", \"2018-02-22T00:00:00\", \"2018-02-21T00:00:00\", \"2018-02-20T00:00:00\", \"2018-02-19T00:00:00\", \"2018-02-18T00:00:00\", \"2018-02-17T00:00:00\", \"2018-02-16T00:00:00\", \"2018-02-15T00:00:00\", \"2018-02-14T00:00:00\", \"2018-02-13T00:00:00\", \"2018-02-12T00:00:00\", \"2018-02-11T00:00:00\", \"2018-02-10T00:00:00\", \"2018-02-09T00:00:00\", \"2018-02-08T00:00:00\", \"2018-02-07T00:00:00\", \"2018-02-06T00:00:00\", \"2018-02-05T00:00:00\", \"2018-02-04T00:00:00\", \"2018-02-03T00:00:00\", \"2018-02-02T00:00:00\", \"2018-02-01T00:00:00\", \"2018-01-31T00:00:00\", \"2018-01-30T00:00:00\", \"2018-01-29T00:00:00\", \"2018-01-28T00:00:00\", \"2018-01-27T00:00:00\", \"2018-01-26T00:00:00\", \"2018-01-25T00:00:00\", \"2018-01-24T00:00:00\", \"2018-01-23T00:00:00\", \"2018-01-22T00:00:00\", \"2018-01-21T00:00:00\", \"2018-01-20T00:00:00\", \"2018-01-19T00:00:00\", \"2018-01-18T00:00:00\", \"2018-01-17T00:00:00\", \"2018-01-16T00:00:00\", \"2018-01-15T00:00:00\", \"2018-01-14T00:00:00\", \"2018-01-13T00:00:00\", \"2018-01-12T00:00:00\", \"2018-01-11T00:00:00\", \"2018-01-10T00:00:00\", \"2018-01-09T00:00:00\", \"2018-01-08T00:00:00\", \"2018-01-07T00:00:00\", \"2018-01-06T00:00:00\", \"2018-01-05T00:00:00\", \"2018-01-04T00:00:00\", \"2018-01-03T00:00:00\", \"2018-01-02T00:00:00\", \"2018-01-01T00:00:00\", \"2017-12-31T00:00:00\", \"2017-12-30T00:00:00\", \"2017-12-29T00:00:00\", \"2017-12-28T00:00:00\", \"2017-12-27T00:00:00\", \"2017-12-26T00:00:00\", \"2017-12-25T00:00:00\", \"2017-12-24T00:00:00\", \"2017-12-23T00:00:00\", \"2017-12-22T00:00:00\", \"2017-12-21T00:00:00\", \"2017-12-20T00:00:00\", \"2017-12-19T00:00:00\", \"2017-12-18T00:00:00\", \"2017-12-17T00:00:00\", \"2017-12-16T00:00:00\", \"2017-12-15T00:00:00\", \"2017-12-14T00:00:00\", \"2017-12-13T00:00:00\", \"2017-12-12T00:00:00\", \"2017-12-11T00:00:00\", \"2017-12-10T00:00:00\", \"2017-12-09T00:00:00\", \"2017-12-08T00:00:00\", \"2017-12-07T00:00:00\", \"2017-12-06T00:00:00\", \"2017-12-05T00:00:00\", \"2017-12-04T00:00:00\", \"2017-12-03T00:00:00\", \"2017-12-02T00:00:00\", \"2017-12-01T00:00:00\", \"2017-11-30T00:00:00\", \"2017-11-29T00:00:00\", \"2017-11-28T00:00:00\", \"2017-11-27T00:00:00\", \"2017-11-26T00:00:00\", \"2017-11-25T00:00:00\", \"2017-11-24T00:00:00\", \"2017-11-23T00:00:00\", \"2017-11-22T00:00:00\", \"2017-11-21T00:00:00\", \"2017-11-20T00:00:00\", \"2017-11-19T00:00:00\", \"2017-11-18T00:00:00\", \"2017-11-17T00:00:00\", \"2017-11-16T00:00:00\", \"2017-11-15T00:00:00\", \"2017-11-14T00:00:00\", \"2017-11-13T00:00:00\", \"2017-11-12T00:00:00\", \"2017-11-11T00:00:00\", \"2017-11-10T00:00:00\", \"2017-11-09T00:00:00\", \"2017-11-08T00:00:00\", \"2017-11-07T00:00:00\", \"2017-11-06T00:00:00\", \"2017-11-05T00:00:00\", \"2017-11-04T00:00:00\", \"2017-11-03T00:00:00\", \"2017-11-02T00:00:00\", \"2017-11-01T00:00:00\", \"2017-10-31T00:00:00\", \"2017-10-30T00:00:00\", \"2017-10-29T00:00:00\", \"2017-10-28T00:00:00\", \"2017-10-27T00:00:00\", \"2017-10-26T00:00:00\", \"2017-10-25T00:00:00\", \"2017-10-24T00:00:00\", \"2017-10-23T00:00:00\", \"2017-10-22T00:00:00\", \"2017-10-21T00:00:00\", \"2017-10-20T00:00:00\", \"2017-10-19T00:00:00\", \"2017-10-18T00:00:00\", \"2017-10-17T00:00:00\", \"2017-10-16T00:00:00\", \"2017-10-15T00:00:00\", \"2017-10-14T00:00:00\", \"2017-10-13T00:00:00\", \"2017-10-12T00:00:00\", \"2017-10-11T00:00:00\", \"2017-10-10T00:00:00\", \"2017-10-09T00:00:00\", \"2017-10-08T00:00:00\", \"2017-10-07T00:00:00\", \"2017-10-06T00:00:00\", \"2017-10-05T00:00:00\", \"2017-10-04T00:00:00\", \"2017-10-03T00:00:00\", \"2017-10-02T00:00:00\", \"2017-10-01T00:00:00\", \"2017-09-30T00:00:00\", \"2017-09-29T00:00:00\", \"2017-09-28T00:00:00\", \"2017-09-27T00:00:00\", \"2017-09-26T00:00:00\", \"2017-09-25T00:00:00\", \"2017-09-24T00:00:00\", \"2017-09-23T00:00:00\", \"2017-09-22T00:00:00\", \"2017-09-21T00:00:00\", \"2017-09-20T00:00:00\", \"2017-09-19T00:00:00\", \"2017-09-18T00:00:00\", \"2017-09-17T00:00:00\", \"2017-09-16T00:00:00\", \"2017-09-15T00:00:00\", \"2017-09-14T00:00:00\", \"2017-09-13T00:00:00\", \"2017-09-12T00:00:00\", \"2017-09-11T00:00:00\", \"2017-09-10T00:00:00\", \"2017-09-09T00:00:00\", \"2017-09-08T00:00:00\", \"2017-09-07T00:00:00\", \"2017-09-06T00:00:00\", \"2017-09-05T00:00:00\", \"2017-09-04T00:00:00\", \"2017-09-03T00:00:00\", \"2017-09-02T00:00:00\", \"2017-09-01T00:00:00\", \"2017-08-31T00:00:00\", \"2017-08-30T00:00:00\", \"2017-08-29T00:00:00\", \"2017-08-28T00:00:00\", \"2017-08-27T00:00:00\", \"2017-08-26T00:00:00\", \"2017-08-25T00:00:00\", \"2017-08-24T00:00:00\", \"2017-08-23T00:00:00\", \"2017-08-22T00:00:00\", \"2017-08-21T00:00:00\", \"2017-08-20T00:00:00\", \"2017-08-19T00:00:00\", \"2017-08-18T00:00:00\", \"2017-08-17T00:00:00\", \"2017-08-16T00:00:00\", \"2017-08-15T00:00:00\", \"2017-08-14T00:00:00\", \"2017-08-13T00:00:00\", \"2017-08-12T00:00:00\", \"2017-08-11T00:00:00\", \"2017-08-10T00:00:00\", \"2017-08-09T00:00:00\", \"2017-08-08T00:00:00\", \"2017-08-07T00:00:00\", \"2017-08-06T00:00:00\", \"2017-08-05T00:00:00\", \"2017-08-04T00:00:00\", \"2017-08-03T00:00:00\", \"2017-08-02T00:00:00\", \"2017-08-01T00:00:00\", \"2017-07-31T00:00:00\", \"2017-07-30T00:00:00\", \"2017-07-29T00:00:00\", \"2017-07-28T00:00:00\", \"2017-07-27T00:00:00\", \"2017-07-26T00:00:00\", \"2017-07-25T00:00:00\", \"2017-07-24T00:00:00\", \"2017-07-23T00:00:00\", \"2017-07-22T00:00:00\", \"2017-07-21T00:00:00\", \"2017-07-20T00:00:00\", \"2017-07-19T00:00:00\", \"2017-07-18T00:00:00\", \"2017-07-17T00:00:00\", \"2017-07-16T00:00:00\", \"2017-07-15T00:00:00\", \"2017-07-14T00:00:00\", \"2017-07-13T00:00:00\", \"2017-07-12T00:00:00\", \"2017-07-11T00:00:00\", \"2017-07-10T00:00:00\", \"2017-07-09T00:00:00\", \"2017-07-08T00:00:00\", \"2017-07-07T00:00:00\", \"2017-07-06T00:00:00\", \"2017-07-05T00:00:00\", \"2017-07-04T00:00:00\", \"2017-07-03T00:00:00\", \"2017-07-02T00:00:00\", \"2017-07-01T00:00:00\", \"2017-06-30T00:00:00\", \"2017-06-29T00:00:00\", \"2017-06-28T00:00:00\", \"2017-06-27T00:00:00\", \"2017-06-26T00:00:00\", \"2017-06-25T00:00:00\", \"2017-06-24T00:00:00\", \"2017-06-23T00:00:00\", \"2017-06-22T00:00:00\", \"2017-06-21T00:00:00\", \"2017-06-20T00:00:00\", \"2017-06-19T00:00:00\", \"2017-06-18T00:00:00\", \"2017-06-17T00:00:00\", \"2017-06-16T00:00:00\", \"2017-06-15T00:00:00\", \"2017-06-14T00:00:00\", \"2017-06-13T00:00:00\", \"2017-06-12T00:00:00\", \"2017-06-11T00:00:00\", \"2017-06-10T00:00:00\", \"2017-06-09T00:00:00\", \"2017-06-08T00:00:00\", \"2017-06-07T00:00:00\", \"2017-06-06T00:00:00\", \"2017-06-05T00:00:00\", \"2017-06-04T00:00:00\", \"2017-06-03T00:00:00\", \"2017-06-02T00:00:00\", \"2017-06-01T00:00:00\", \"2017-05-31T00:00:00\", \"2017-05-30T00:00:00\", \"2017-05-29T00:00:00\", \"2017-05-28T00:00:00\", \"2017-05-27T00:00:00\", \"2017-05-26T00:00:00\", \"2017-05-25T00:00:00\", \"2017-05-24T00:00:00\", \"2017-05-23T00:00:00\", \"2017-05-22T00:00:00\", \"2017-05-21T00:00:00\", \"2017-05-20T00:00:00\", \"2017-05-19T00:00:00\", \"2017-05-18T00:00:00\", \"2017-05-17T00:00:00\", \"2017-05-16T00:00:00\", \"2017-05-15T00:00:00\", \"2017-05-14T00:00:00\", \"2017-05-13T00:00:00\", \"2017-05-12T00:00:00\", \"2017-05-11T00:00:00\", \"2017-05-10T00:00:00\", \"2017-05-09T00:00:00\", \"2017-05-08T00:00:00\", \"2017-05-07T00:00:00\", \"2017-05-06T00:00:00\", \"2017-05-05T00:00:00\", \"2017-05-04T00:00:00\", \"2017-05-03T00:00:00\", \"2017-05-02T00:00:00\", \"2017-05-01T00:00:00\", \"2017-04-30T00:00:00\", \"2017-04-29T00:00:00\", \"2017-04-28T00:00:00\", \"2017-04-27T00:00:00\", \"2017-04-26T00:00:00\", \"2017-04-25T00:00:00\", \"2017-04-24T00:00:00\", \"2017-04-23T00:00:00\", \"2017-04-22T00:00:00\", \"2017-04-21T00:00:00\", \"2017-04-20T00:00:00\", \"2017-04-19T00:00:00\", \"2017-04-18T00:00:00\", \"2017-04-17T00:00:00\", \"2017-04-16T00:00:00\", \"2017-04-15T00:00:00\", \"2017-04-14T00:00:00\", \"2017-04-13T00:00:00\", \"2017-04-12T00:00:00\", \"2017-04-11T00:00:00\", \"2017-04-10T00:00:00\", \"2017-04-09T00:00:00\", \"2017-04-08T00:00:00\", \"2017-04-07T00:00:00\", \"2017-04-06T00:00:00\", \"2017-04-05T00:00:00\", \"2017-04-04T00:00:00\", \"2017-04-03T00:00:00\", \"2017-04-02T00:00:00\", \"2017-04-01T00:00:00\", \"2017-03-31T00:00:00\", \"2017-03-30T00:00:00\", \"2017-03-29T00:00:00\", \"2017-03-28T00:00:00\", \"2017-03-27T00:00:00\", \"2017-03-26T00:00:00\", \"2017-03-25T00:00:00\", \"2017-03-24T00:00:00\", \"2017-03-23T00:00:00\", \"2017-03-22T00:00:00\", \"2017-03-21T00:00:00\", \"2017-03-20T00:00:00\", \"2017-03-19T00:00:00\", \"2017-03-18T00:00:00\", \"2017-03-17T00:00:00\", \"2017-03-16T00:00:00\", \"2017-03-15T00:00:00\", \"2017-03-14T00:00:00\", \"2017-03-13T00:00:00\", \"2017-03-12T00:00:00\", \"2017-03-11T00:00:00\", \"2017-03-10T00:00:00\", \"2017-03-09T00:00:00\", \"2017-03-08T00:00:00\", \"2017-03-07T00:00:00\", \"2017-03-06T00:00:00\", \"2017-03-05T00:00:00\", \"2017-03-04T00:00:00\", \"2017-03-03T00:00:00\", \"2017-03-02T00:00:00\", \"2017-03-01T00:00:00\", \"2017-02-28T00:00:00\", \"2017-02-27T00:00:00\", \"2017-02-26T00:00:00\", \"2017-02-25T00:00:00\", \"2017-02-24T00:00:00\", \"2017-02-23T00:00:00\", \"2017-02-22T00:00:00\", \"2017-02-21T00:00:00\", \"2017-02-20T00:00:00\", \"2017-02-19T00:00:00\", \"2017-02-18T00:00:00\", \"2017-02-17T00:00:00\", \"2017-02-16T00:00:00\", \"2017-02-15T00:00:00\", \"2017-02-14T00:00:00\", \"2017-02-13T00:00:00\", \"2017-02-12T00:00:00\", \"2017-02-11T00:00:00\", \"2017-02-10T00:00:00\", \"2017-02-09T00:00:00\", \"2017-02-08T00:00:00\", \"2017-02-07T00:00:00\", \"2017-02-06T00:00:00\", \"2017-02-05T00:00:00\", \"2017-02-04T00:00:00\", \"2017-02-03T00:00:00\", \"2017-02-02T00:00:00\", \"2017-02-01T00:00:00\", \"2017-01-31T00:00:00\", \"2017-01-30T00:00:00\", \"2017-01-29T00:00:00\", \"2017-01-28T00:00:00\", \"2017-01-27T00:00:00\", \"2017-01-26T00:00:00\", \"2017-01-25T00:00:00\", \"2017-01-24T00:00:00\", \"2017-01-23T00:00:00\", \"2017-01-22T00:00:00\", \"2017-01-21T00:00:00\", \"2017-01-20T00:00:00\", \"2017-01-19T00:00:00\", \"2017-01-18T00:00:00\", \"2017-01-17T00:00:00\", \"2017-01-16T00:00:00\", \"2017-01-15T00:00:00\", \"2017-01-14T00:00:00\", \"2017-01-13T00:00:00\", \"2017-01-12T00:00:00\", \"2017-01-11T00:00:00\", \"2017-01-10T00:00:00\", \"2017-01-09T00:00:00\", \"2017-01-08T00:00:00\", \"2017-01-07T00:00:00\", \"2017-01-06T00:00:00\", \"2017-01-05T00:00:00\", \"2017-01-04T00:00:00\", \"2017-01-03T00:00:00\", \"2017-01-02T00:00:00\", \"2017-01-01T00:00:00\", \"2016-12-31T00:00:00\", \"2016-12-30T00:00:00\", \"2016-12-29T00:00:00\", \"2016-12-28T00:00:00\", \"2016-12-27T00:00:00\", \"2016-12-26T00:00:00\", \"2016-12-25T00:00:00\", \"2016-12-24T00:00:00\", \"2016-12-23T00:00:00\", \"2016-12-22T00:00:00\", \"2016-12-21T00:00:00\", \"2016-12-20T00:00:00\", \"2016-12-19T00:00:00\", \"2016-12-18T00:00:00\", \"2016-12-17T00:00:00\", \"2016-12-16T00:00:00\", \"2016-12-15T00:00:00\", \"2016-12-14T00:00:00\", \"2016-12-13T00:00:00\", \"2016-12-12T00:00:00\", \"2016-12-11T00:00:00\", \"2016-12-10T00:00:00\", \"2016-12-09T00:00:00\", \"2016-12-08T00:00:00\", \"2016-12-07T00:00:00\", \"2016-12-06T00:00:00\", \"2016-12-05T00:00:00\", \"2016-12-04T00:00:00\", \"2016-12-03T00:00:00\", \"2016-12-02T00:00:00\", \"2016-12-01T00:00:00\", \"2016-11-30T00:00:00\", \"2016-11-29T00:00:00\", \"2016-11-28T00:00:00\", \"2016-11-27T00:00:00\", \"2016-11-26T00:00:00\", \"2016-11-25T00:00:00\", \"2016-11-24T00:00:00\", \"2016-11-23T00:00:00\", \"2016-11-22T00:00:00\", \"2016-11-21T00:00:00\", \"2016-11-20T00:00:00\", \"2016-11-19T00:00:00\", \"2016-11-18T00:00:00\", \"2016-11-17T00:00:00\", \"2016-11-16T00:00:00\", \"2016-11-15T00:00:00\", \"2016-11-14T00:00:00\", \"2016-11-13T00:00:00\", \"2016-11-12T00:00:00\", \"2016-11-11T00:00:00\", \"2016-11-10T00:00:00\", \"2016-11-09T00:00:00\", \"2016-11-08T00:00:00\", \"2016-11-07T00:00:00\", \"2016-11-06T00:00:00\", \"2016-11-05T00:00:00\", \"2016-11-04T00:00:00\", \"2016-11-03T00:00:00\", \"2016-11-02T00:00:00\", \"2016-11-01T00:00:00\", \"2016-10-31T00:00:00\", \"2016-10-30T00:00:00\", \"2016-10-29T00:00:00\", \"2016-10-28T00:00:00\", \"2016-10-27T00:00:00\", \"2016-10-26T00:00:00\", \"2016-10-25T00:00:00\", \"2016-10-24T00:00:00\", \"2016-10-23T00:00:00\", \"2016-10-22T00:00:00\", \"2016-10-21T00:00:00\", \"2016-10-20T00:00:00\", \"2016-10-19T00:00:00\", \"2016-10-18T00:00:00\", \"2016-10-17T00:00:00\", \"2016-10-16T00:00:00\", \"2016-10-15T00:00:00\", \"2016-10-14T00:00:00\", \"2016-10-13T00:00:00\", \"2016-10-12T00:00:00\", \"2016-10-11T00:00:00\", \"2016-10-10T00:00:00\", \"2016-10-09T00:00:00\", \"2016-10-08T00:00:00\", \"2016-10-07T00:00:00\", \"2016-10-06T00:00:00\", \"2016-10-05T00:00:00\", \"2016-10-04T00:00:00\", \"2016-10-03T00:00:00\", \"2016-10-02T00:00:00\", \"2016-10-01T00:00:00\", \"2016-09-30T00:00:00\", \"2016-09-29T00:00:00\", \"2016-09-28T00:00:00\", \"2016-09-27T00:00:00\", \"2016-09-26T00:00:00\", \"2016-09-25T00:00:00\", \"2016-09-24T00:00:00\", \"2016-09-23T00:00:00\", \"2016-09-22T00:00:00\", \"2016-09-21T00:00:00\", \"2016-09-20T00:00:00\", \"2016-09-19T00:00:00\", \"2016-09-18T00:00:00\", \"2016-09-17T00:00:00\", \"2016-09-16T00:00:00\", \"2016-09-15T00:00:00\", \"2016-09-14T00:00:00\", \"2016-09-13T00:00:00\", \"2016-09-12T00:00:00\", \"2016-09-11T00:00:00\", \"2016-09-10T00:00:00\", \"2016-09-09T00:00:00\", \"2016-09-08T00:00:00\", \"2016-09-07T00:00:00\", \"2016-09-06T00:00:00\", \"2016-09-05T00:00:00\", \"2016-09-04T00:00:00\", \"2016-09-03T00:00:00\", \"2016-09-02T00:00:00\", \"2016-09-01T00:00:00\", \"2016-08-31T00:00:00\", \"2016-08-30T00:00:00\", \"2016-08-29T00:00:00\", \"2016-08-28T00:00:00\", \"2016-08-27T00:00:00\", \"2016-08-26T00:00:00\", \"2016-08-25T00:00:00\", \"2016-08-24T00:00:00\", \"2016-08-23T00:00:00\", \"2016-08-22T00:00:00\", \"2016-08-21T00:00:00\", \"2016-08-20T00:00:00\", \"2016-08-19T00:00:00\", \"2016-08-18T00:00:00\", \"2016-08-17T00:00:00\", \"2016-08-16T00:00:00\", \"2016-08-15T00:00:00\", \"2016-08-14T00:00:00\", \"2016-08-13T00:00:00\", \"2016-08-12T00:00:00\", \"2016-08-11T00:00:00\", \"2016-08-10T00:00:00\", \"2016-08-09T00:00:00\", \"2016-08-08T00:00:00\", \"2016-08-07T00:00:00\", \"2016-08-06T00:00:00\", \"2016-08-05T00:00:00\", \"2016-08-04T00:00:00\", \"2016-08-03T00:00:00\", \"2016-08-02T00:00:00\", \"2016-08-01T00:00:00\"], \"xaxis\": \"x\", \"y\": [5941, 5691, 5522, 6271, 6552, 5920, 6069, 5771, 5624, 5954, 6708, 6580, 5805, 5905, 5845, 5566, 5797, 7105, 6551, 6100, 6060, 5998, 5141, 5844, 6937, 6660, 6025, 6052, 5562, 5240, 5010, 6810, 6556, 5849, 6388, 5236, 5815, 5957, 7023, 6592, 6265, 6230, 5843, 5991, 5950, 6905, 6825, 5991, 6834, 6509, 5519, 5997, 7027, 6711, 6101, 6652, 6660, 5826, 6135, 7244, 6853, 6363, 6249, 5966, 5930, 6252, 7540, 7006, 6272, 5924, 5964, 6599, 6189, 7449, 6759, 6152, 5920, 6679, 5992, 6530, 6544, 6789, 6422, 6030, 5930, 5146, 4840, 6129, 6953, 6374, 5957, 6817, 6355, 6095, 7318, 6823, 6534, 6507, 5965, 5198, 5812, 7556, 7107, 6223, 6305, 6263, 6003, 5993, 6901, 6965, 6430, 6440, 6010, 5706, 5900, 6912, 6546, 5603, 6023, 6210, 6000, 5929, 7149, 6729, 6181, 6277, 5770, 5569, 5949, 6944, 6606, 6042, 5624, 5743, 5167, 5829, 6963, 6485, 5800, 6400, 5991, 5558, 6014, 6984, 6344, 5649, 5830, 5770, 5058, 5076, 6419, 6206, 6030, 5574, 5670, 5443, 5536, 6335, 5830, 5236, 5341, 5187, 4757, 4381, 4169, 2693, 4654, 6585, 5993, 5381, 5262, 6490, 6099, 5593, 5486, 5255, 4958, 4933, 5987, 5953, 5317, 5439, 5040, 4715, 5156, 5977, 5458, 5009, 4972, 4850, 4845, 5051, 6139, 5529, 5203, 5185, 4959, 5003, 5185, 5861, 5424, 4956, 5052, 5024, 4641, 4744, 5934, 5374, 4962, 4888, 4503, 4269, 5401, 5557, 5766, 5163, 5017, 4856, 5465, 5632, 6053, 5653, 5127, 4956, 4977, 4907, 4971, 5853, 5745, 5147, 5110, 4873, 4608, 5038, 5917, 5740, 5094, 5092, 4828, 4592, 4908, 5782, 5634, 4886, 4773, 4691, 4523, 4887, 5309, 5129, 4819, 4862, 4631, 4561, 4651, 5512, 5358, 4931, 5019, 4812, 4443, 4812, 5926, 5420, 4815, 4838, 4722, 4591, 4889, 5581, 5308, 4910, 4861, 4841, 4428, 4902, 5846, 5468, 5008, 5072, 4725, 4647, 5286, 5971, 5500, 4902, 4744, 4719, 4493, 4791, 5674, 5253, 4515, 4556, 4313, 4450, 4727, 4766, 4219, 3571, 2409, 3932, 5081, 4851, 5863, 5732, 5331, 5072, 4830, 4661, 5124, 5562, 5322, 5007, 5075, 4606, 4502, 4852, 5604, 5379, 4996, 4971, 4895, 4247, 5002, 5563, 5437, 4838, 4598, 4715, 4412, 4734, 5526, 5336, 5069, 4640, 4558, 4111, 4827, 5399, 5162, 4579, 4559, 4443, 4332, 4328, 5259, 5022, 4656, 4408, 4377, 4382, 4543, 5364, 5097, 4399, 4721, 4680, 4483, 4497, 5030, 4950, 4766, 4755, 4695, 4156, 4554, 4993, 4803, 4588, 4752, 4519, 4178, 4381, 5167, 4991, 4704, 4655, 4359, 4070, 4564, 4891, 4840, 4646, 4647, 4506, 3785, 4615, 4898, 4696, 4454, 4428, 4178, 3945, 4172, 4870, 4690, 4406, 4423, 4205, 3909, 4400, 5077, 4796, 4555, 4571, 4267, 4177, 4459, 5249, 4990, 4637, 4366, 4257, 4141, 4482, 5040, 4721, 4286, 4005, 4070, 4407, 4299, 4838, 4726, 4436, 4366, 4296, 3977, 4382, 4663, 4455, 4121, 3980, 3895, 3908, 4095, 4724, 4442, 4271, 4110, 4043, 3936, 4188, 4331, 4192, 3995, 3814, 3834, 3994, 3793, 3970, 4211, 4320, 4282, 4233, 4310, 4262, 4681, 4547, 4154, 4023, 3954, 3570, 4118, 4680, 4425, 3926, 4038, 3811, 3500, 4050, 4829, 4032, 3995, 3956, 3794, 3770, 4022, 4622, 4151, 3808, 3472, 3676, 3472, 3895, 4368, 3980, 3793, 3805, 3710, 3435, 3792, 4234, 4041, 3882, 3667, 3508, 3396, 3778, 4222, 4009, 3622, 3627, 3646, 3421, 3767, 4318, 3915, 3582, 3482, 3336, 3160, 3481, 4043, 3776, 3442, 3694, 3824, 3504, 3430, 3903, 3720, 3463, 3299, 3360, 3086, 3227, 3863, 3830, 3429, 3395, 3287, 3062, 3209, 3507, 3425, 3139, 3271, 3197, 2978, 3025, 3580, 3301, 2998, 3022, 2839, 2607, 2253, 1476, 2561, 3654, 3268, 3099, 2846, 3064, 3464, 3337, 3161, 3137, 3227, 2852, 3123, 3387, 3436, 3144, 3222, 3211, 3100, 3124, 3562, 3409, 3063, 3029, 2908, 2740, 2587, 3567, 3485, 3039, 3097, 3130, 2750, 3402, 3635, 3283, 3133, 3094, 3098, 2809, 3050, 3306, 3287, 3035, 3069, 3103, 2859, 2979, 3287, 3325, 2911, 3005, 2761, 2726, 2746, 3089, 3192, 2810, 2929, 2693, 2648, 2893, 3016, 3015, 2753, 2757, 2936, 2613, 2841, 3197, 3100, 3063, 3021, 2781, 2661, 2885, 3315, 3240, 2803, 2806, 2767, 2620, 2845, 3195, 3061, 2970, 2760, 2683, 2670, 2797, 3209, 3169, 2971, 2965, 2838, 2793, 3006, 3456, 3264, 3069, 2939, 2853, 2862, 2663, 3410, 3250, 3080, 3000, 2882, 2793, 2807, 3298, 3189, 3045, 2774, 2760, 2688, 2738, 3142, 3116, 2945, 2977, 2651, 2548, 2744, 3208, 3070, 2948, 2807, 2728, 2472, 2409, 2574, 2111, 1429, 2330, 3343, 2926, 2992, 3372, 3206, 2892, 2791, 2908, 2534, 2862, 3244, 3141, 3096, 2745, 2719, 2536, 2569, 3037, 2919, 2764, 2845, 2789, 2577, 2691, 3098, 3006, 2853, 2923, 2880, 2697, 2831, 3103, 3083, 2822, 2883, 2739, 2573, 2563, 3092, 2912, 2866, 2943, 2755, 2739], \"yaxis\": \"y\"}, {\"marker\": {\"color\": \"blue\"}, \"name\": \"\\ub9e4\\ucd9c\\uc561\", \"type\": \"scatter\", \"x\": [\"2018-07-31T00:00:00\", \"2018-07-30T00:00:00\", \"2018-07-29T00:00:00\", \"2018-07-28T00:00:00\", \"2018-07-27T00:00:00\", \"2018-07-26T00:00:00\", \"2018-07-25T00:00:00\", \"2018-07-24T00:00:00\", \"2018-07-23T00:00:00\", \"2018-07-22T00:00:00\", \"2018-07-21T00:00:00\", \"2018-07-20T00:00:00\", \"2018-07-19T00:00:00\", \"2018-07-18T00:00:00\", \"2018-07-17T00:00:00\", \"2018-07-16T00:00:00\", \"2018-07-15T00:00:00\", \"2018-07-14T00:00:00\", \"2018-07-13T00:00:00\", \"2018-07-12T00:00:00\", \"2018-07-11T00:00:00\", \"2018-07-10T00:00:00\", \"2018-07-09T00:00:00\", \"2018-07-08T00:00:00\", \"2018-07-07T00:00:00\", \"2018-07-06T00:00:00\", \"2018-07-05T00:00:00\", \"2018-07-04T00:00:00\", \"2018-07-03T00:00:00\", \"2018-07-02T00:00:00\", \"2018-07-01T00:00:00\", \"2018-06-30T00:00:00\", \"2018-06-29T00:00:00\", \"2018-06-28T00:00:00\", \"2018-06-27T00:00:00\", \"2018-06-26T00:00:00\", \"2018-06-25T00:00:00\", \"2018-06-24T00:00:00\", \"2018-06-23T00:00:00\", \"2018-06-22T00:00:00\", \"2018-06-21T00:00:00\", \"2018-06-20T00:00:00\", \"2018-06-19T00:00:00\", \"2018-06-18T00:00:00\", \"2018-06-17T00:00:00\", \"2018-06-16T00:00:00\", \"2018-06-15T00:00:00\", \"2018-06-14T00:00:00\", \"2018-06-13T00:00:00\", \"2018-06-12T00:00:00\", \"2018-06-11T00:00:00\", \"2018-06-10T00:00:00\", \"2018-06-09T00:00:00\", \"2018-06-08T00:00:00\", \"2018-06-07T00:00:00\", \"2018-06-06T00:00:00\", \"2018-06-05T00:00:00\", \"2018-06-04T00:00:00\", \"2018-06-03T00:00:00\", \"2018-06-02T00:00:00\", \"2018-06-01T00:00:00\", \"2018-05-31T00:00:00\", \"2018-05-30T00:00:00\", \"2018-05-29T00:00:00\", \"2018-05-28T00:00:00\", \"2018-05-27T00:00:00\", \"2018-05-26T00:00:00\", \"2018-05-25T00:00:00\", \"2018-05-24T00:00:00\", \"2018-05-23T00:00:00\", \"2018-05-22T00:00:00\", \"2018-05-21T00:00:00\", \"2018-05-20T00:00:00\", \"2018-05-19T00:00:00\", \"2018-05-18T00:00:00\", \"2018-05-17T00:00:00\", \"2018-05-16T00:00:00\", \"2018-05-15T00:00:00\", \"2018-05-14T00:00:00\", \"2018-05-13T00:00:00\", \"2018-05-12T00:00:00\", \"2018-05-11T00:00:00\", \"2018-05-10T00:00:00\", \"2018-05-09T00:00:00\", \"2018-05-08T00:00:00\", \"2018-05-07T00:00:00\", \"2018-05-06T00:00:00\", \"2018-05-05T00:00:00\", \"2018-05-04T00:00:00\", \"2018-05-03T00:00:00\", \"2018-05-02T00:00:00\", \"2018-05-01T00:00:00\", \"2018-04-30T00:00:00\", \"2018-04-29T00:00:00\", \"2018-04-28T00:00:00\", \"2018-04-27T00:00:00\", \"2018-04-26T00:00:00\", \"2018-04-25T00:00:00\", \"2018-04-24T00:00:00\", \"2018-04-23T00:00:00\", \"2018-04-22T00:00:00\", \"2018-04-21T00:00:00\", \"2018-04-20T00:00:00\", \"2018-04-19T00:00:00\", \"2018-04-18T00:00:00\", \"2018-04-17T00:00:00\", \"2018-04-16T00:00:00\", \"2018-04-15T00:00:00\", \"2018-04-14T00:00:00\", \"2018-04-13T00:00:00\", \"2018-04-12T00:00:00\", \"2018-04-11T00:00:00\", \"2018-04-10T00:00:00\", \"2018-04-09T00:00:00\", \"2018-04-08T00:00:00\", \"2018-04-07T00:00:00\", \"2018-04-06T00:00:00\", \"2018-04-05T00:00:00\", \"2018-04-04T00:00:00\", \"2018-04-03T00:00:00\", \"2018-04-02T00:00:00\", \"2018-04-01T00:00:00\", \"2018-03-31T00:00:00\", \"2018-03-30T00:00:00\", \"2018-03-29T00:00:00\", \"2018-03-28T00:00:00\", \"2018-03-27T00:00:00\", \"2018-03-26T00:00:00\", \"2018-03-25T00:00:00\", \"2018-03-24T00:00:00\", \"2018-03-23T00:00:00\", \"2018-03-22T00:00:00\", \"2018-03-21T00:00:00\", \"2018-03-20T00:00:00\", \"2018-03-19T00:00:00\", \"2018-03-18T00:00:00\", \"2018-03-17T00:00:00\", \"2018-03-16T00:00:00\", \"2018-03-15T00:00:00\", \"2018-03-14T00:00:00\", \"2018-03-13T00:00:00\", \"2018-03-12T00:00:00\", \"2018-03-11T00:00:00\", \"2018-03-10T00:00:00\", \"2018-03-09T00:00:00\", \"2018-03-08T00:00:00\", \"2018-03-07T00:00:00\", \"2018-03-06T00:00:00\", \"2018-03-05T00:00:00\", \"2018-03-04T00:00:00\", \"2018-03-03T00:00:00\", \"2018-03-02T00:00:00\", \"2018-03-01T00:00:00\", \"2018-02-28T00:00:00\", \"2018-02-27T00:00:00\", \"2018-02-26T00:00:00\", \"2018-02-25T00:00:00\", \"2018-02-24T00:00:00\", \"2018-02-23T00:00:00\", \"2018-02-22T00:00:00\", \"2018-02-21T00:00:00\", \"2018-02-20T00:00:00\", \"2018-02-19T00:00:00\", \"2018-02-18T00:00:00\", \"2018-02-17T00:00:00\", \"2018-02-16T00:00:00\", \"2018-02-15T00:00:00\", \"2018-02-14T00:00:00\", \"2018-02-13T00:00:00\", \"2018-02-12T00:00:00\", \"2018-02-11T00:00:00\", \"2018-02-10T00:00:00\", \"2018-02-09T00:00:00\", \"2018-02-08T00:00:00\", \"2018-02-07T00:00:00\", \"2018-02-06T00:00:00\", \"2018-02-05T00:00:00\", \"2018-02-04T00:00:00\", \"2018-02-03T00:00:00\", \"2018-02-02T00:00:00\", \"2018-02-01T00:00:00\", \"2018-01-31T00:00:00\", \"2018-01-30T00:00:00\", \"2018-01-29T00:00:00\", \"2018-01-28T00:00:00\", \"2018-01-27T00:00:00\", \"2018-01-26T00:00:00\", \"2018-01-25T00:00:00\", \"2018-01-24T00:00:00\", \"2018-01-23T00:00:00\", \"2018-01-22T00:00:00\", \"2018-01-21T00:00:00\", \"2018-01-20T00:00:00\", \"2018-01-19T00:00:00\", \"2018-01-18T00:00:00\", \"2018-01-17T00:00:00\", \"2018-01-16T00:00:00\", \"2018-01-15T00:00:00\", \"2018-01-14T00:00:00\", \"2018-01-13T00:00:00\", \"2018-01-12T00:00:00\", \"2018-01-11T00:00:00\", \"2018-01-10T00:00:00\", \"2018-01-09T00:00:00\", \"2018-01-08T00:00:00\", \"2018-01-07T00:00:00\", \"2018-01-06T00:00:00\", \"2018-01-05T00:00:00\", \"2018-01-04T00:00:00\", \"2018-01-03T00:00:00\", \"2018-01-02T00:00:00\", \"2018-01-01T00:00:00\", \"2017-12-31T00:00:00\", \"2017-12-30T00:00:00\", \"2017-12-29T00:00:00\", \"2017-12-28T00:00:00\", \"2017-12-27T00:00:00\", \"2017-12-26T00:00:00\", \"2017-12-25T00:00:00\", \"2017-12-24T00:00:00\", \"2017-12-23T00:00:00\", \"2017-12-22T00:00:00\", \"2017-12-21T00:00:00\", \"2017-12-20T00:00:00\", \"2017-12-19T00:00:00\", \"2017-12-18T00:00:00\", \"2017-12-17T00:00:00\", \"2017-12-16T00:00:00\", \"2017-12-15T00:00:00\", \"2017-12-14T00:00:00\", \"2017-12-13T00:00:00\", \"2017-12-12T00:00:00\", \"2017-12-11T00:00:00\", \"2017-12-10T00:00:00\", \"2017-12-09T00:00:00\", \"2017-12-08T00:00:00\", \"2017-12-07T00:00:00\", \"2017-12-06T00:00:00\", \"2017-12-05T00:00:00\", \"2017-12-04T00:00:00\", \"2017-12-03T00:00:00\", \"2017-12-02T00:00:00\", \"2017-12-01T00:00:00\", \"2017-11-30T00:00:00\", \"2017-11-29T00:00:00\", \"2017-11-28T00:00:00\", \"2017-11-27T00:00:00\", \"2017-11-26T00:00:00\", \"2017-11-25T00:00:00\", \"2017-11-24T00:00:00\", \"2017-11-23T00:00:00\", \"2017-11-22T00:00:00\", \"2017-11-21T00:00:00\", \"2017-11-20T00:00:00\", \"2017-11-19T00:00:00\", \"2017-11-18T00:00:00\", \"2017-11-17T00:00:00\", \"2017-11-16T00:00:00\", \"2017-11-15T00:00:00\", \"2017-11-14T00:00:00\", \"2017-11-13T00:00:00\", \"2017-11-12T00:00:00\", \"2017-11-11T00:00:00\", \"2017-11-10T00:00:00\", \"2017-11-09T00:00:00\", \"2017-11-08T00:00:00\", \"2017-11-07T00:00:00\", \"2017-11-06T00:00:00\", \"2017-11-05T00:00:00\", \"2017-11-04T00:00:00\", \"2017-11-03T00:00:00\", \"2017-11-02T00:00:00\", \"2017-11-01T00:00:00\", \"2017-10-31T00:00:00\", \"2017-10-30T00:00:00\", \"2017-10-29T00:00:00\", \"2017-10-28T00:00:00\", \"2017-10-27T00:00:00\", \"2017-10-26T00:00:00\", \"2017-10-25T00:00:00\", \"2017-10-24T00:00:00\", \"2017-10-23T00:00:00\", \"2017-10-22T00:00:00\", \"2017-10-21T00:00:00\", \"2017-10-20T00:00:00\", \"2017-10-19T00:00:00\", \"2017-10-18T00:00:00\", \"2017-10-17T00:00:00\", \"2017-10-16T00:00:00\", \"2017-10-15T00:00:00\", \"2017-10-14T00:00:00\", \"2017-10-13T00:00:00\", \"2017-10-12T00:00:00\", \"2017-10-11T00:00:00\", \"2017-10-10T00:00:00\", \"2017-10-09T00:00:00\", \"2017-10-08T00:00:00\", \"2017-10-07T00:00:00\", \"2017-10-06T00:00:00\", \"2017-10-05T00:00:00\", \"2017-10-04T00:00:00\", \"2017-10-03T00:00:00\", \"2017-10-02T00:00:00\", \"2017-10-01T00:00:00\", \"2017-09-30T00:00:00\", \"2017-09-29T00:00:00\", \"2017-09-28T00:00:00\", \"2017-09-27T00:00:00\", \"2017-09-26T00:00:00\", \"2017-09-25T00:00:00\", \"2017-09-24T00:00:00\", \"2017-09-23T00:00:00\", \"2017-09-22T00:00:00\", \"2017-09-21T00:00:00\", \"2017-09-20T00:00:00\", \"2017-09-19T00:00:00\", \"2017-09-18T00:00:00\", \"2017-09-17T00:00:00\", \"2017-09-16T00:00:00\", \"2017-09-15T00:00:00\", \"2017-09-14T00:00:00\", \"2017-09-13T00:00:00\", \"2017-09-12T00:00:00\", \"2017-09-11T00:00:00\", \"2017-09-10T00:00:00\", \"2017-09-09T00:00:00\", \"2017-09-08T00:00:00\", \"2017-09-07T00:00:00\", \"2017-09-06T00:00:00\", \"2017-09-05T00:00:00\", \"2017-09-04T00:00:00\", \"2017-09-03T00:00:00\", \"2017-09-02T00:00:00\", \"2017-09-01T00:00:00\", \"2017-08-31T00:00:00\", \"2017-08-30T00:00:00\", \"2017-08-29T00:00:00\", \"2017-08-28T00:00:00\", \"2017-08-27T00:00:00\", \"2017-08-26T00:00:00\", \"2017-08-25T00:00:00\", \"2017-08-24T00:00:00\", \"2017-08-23T00:00:00\", \"2017-08-22T00:00:00\", \"2017-08-21T00:00:00\", \"2017-08-20T00:00:00\", \"2017-08-19T00:00:00\", \"2017-08-18T00:00:00\", \"2017-08-17T00:00:00\", \"2017-08-16T00:00:00\", \"2017-08-15T00:00:00\", \"2017-08-14T00:00:00\", \"2017-08-13T00:00:00\", \"2017-08-12T00:00:00\", \"2017-08-11T00:00:00\", \"2017-08-10T00:00:00\", \"2017-08-09T00:00:00\", \"2017-08-08T00:00:00\", \"2017-08-07T00:00:00\", \"2017-08-06T00:00:00\", \"2017-08-05T00:00:00\", \"2017-08-04T00:00:00\", \"2017-08-03T00:00:00\", \"2017-08-02T00:00:00\", \"2017-08-01T00:00:00\", \"2017-07-31T00:00:00\", \"2017-07-30T00:00:00\", \"2017-07-29T00:00:00\", \"2017-07-28T00:00:00\", \"2017-07-27T00:00:00\", \"2017-07-26T00:00:00\", \"2017-07-25T00:00:00\", \"2017-07-24T00:00:00\", \"2017-07-23T00:00:00\", \"2017-07-22T00:00:00\", \"2017-07-21T00:00:00\", \"2017-07-20T00:00:00\", \"2017-07-19T00:00:00\", \"2017-07-18T00:00:00\", \"2017-07-17T00:00:00\", \"2017-07-16T00:00:00\", \"2017-07-15T00:00:00\", \"2017-07-14T00:00:00\", \"2017-07-13T00:00:00\", \"2017-07-12T00:00:00\", \"2017-07-11T00:00:00\", \"2017-07-10T00:00:00\", \"2017-07-09T00:00:00\", \"2017-07-08T00:00:00\", \"2017-07-07T00:00:00\", \"2017-07-06T00:00:00\", \"2017-07-05T00:00:00\", \"2017-07-04T00:00:00\", \"2017-07-03T00:00:00\", \"2017-07-02T00:00:00\", \"2017-07-01T00:00:00\", \"2017-06-30T00:00:00\", \"2017-06-29T00:00:00\", \"2017-06-28T00:00:00\", \"2017-06-27T00:00:00\", \"2017-06-26T00:00:00\", \"2017-06-25T00:00:00\", \"2017-06-24T00:00:00\", \"2017-06-23T00:00:00\", \"2017-06-22T00:00:00\", \"2017-06-21T00:00:00\", \"2017-06-20T00:00:00\", \"2017-06-19T00:00:00\", \"2017-06-18T00:00:00\", \"2017-06-17T00:00:00\", \"2017-06-16T00:00:00\", \"2017-06-15T00:00:00\", \"2017-06-14T00:00:00\", \"2017-06-13T00:00:00\", \"2017-06-12T00:00:00\", \"2017-06-11T00:00:00\", \"2017-06-10T00:00:00\", \"2017-06-09T00:00:00\", \"2017-06-08T00:00:00\", \"2017-06-07T00:00:00\", \"2017-06-06T00:00:00\", \"2017-06-05T00:00:00\", \"2017-06-04T00:00:00\", \"2017-06-03T00:00:00\", \"2017-06-02T00:00:00\", \"2017-06-01T00:00:00\", \"2017-05-31T00:00:00\", \"2017-05-30T00:00:00\", \"2017-05-29T00:00:00\", \"2017-05-28T00:00:00\", \"2017-05-27T00:00:00\", \"2017-05-26T00:00:00\", \"2017-05-25T00:00:00\", \"2017-05-24T00:00:00\", \"2017-05-23T00:00:00\", \"2017-05-22T00:00:00\", \"2017-05-21T00:00:00\", \"2017-05-20T00:00:00\", \"2017-05-19T00:00:00\", \"2017-05-18T00:00:00\", \"2017-05-17T00:00:00\", \"2017-05-16T00:00:00\", \"2017-05-15T00:00:00\", \"2017-05-14T00:00:00\", \"2017-05-13T00:00:00\", \"2017-05-12T00:00:00\", \"2017-05-11T00:00:00\", \"2017-05-10T00:00:00\", \"2017-05-09T00:00:00\", \"2017-05-08T00:00:00\", \"2017-05-07T00:00:00\", \"2017-05-06T00:00:00\", \"2017-05-05T00:00:00\", \"2017-05-04T00:00:00\", \"2017-05-03T00:00:00\", \"2017-05-02T00:00:00\", \"2017-05-01T00:00:00\", \"2017-04-30T00:00:00\", \"2017-04-29T00:00:00\", \"2017-04-28T00:00:00\", \"2017-04-27T00:00:00\", \"2017-04-26T00:00:00\", \"2017-04-25T00:00:00\", \"2017-04-24T00:00:00\", \"2017-04-23T00:00:00\", \"2017-04-22T00:00:00\", \"2017-04-21T00:00:00\", \"2017-04-20T00:00:00\", \"2017-04-19T00:00:00\", \"2017-04-18T00:00:00\", \"2017-04-17T00:00:00\", \"2017-04-16T00:00:00\", \"2017-04-15T00:00:00\", \"2017-04-14T00:00:00\", \"2017-04-13T00:00:00\", \"2017-04-12T00:00:00\", \"2017-04-11T00:00:00\", \"2017-04-10T00:00:00\", \"2017-04-09T00:00:00\", \"2017-04-08T00:00:00\", \"2017-04-07T00:00:00\", \"2017-04-06T00:00:00\", \"2017-04-05T00:00:00\", \"2017-04-04T00:00:00\", \"2017-04-03T00:00:00\", \"2017-04-02T00:00:00\", \"2017-04-01T00:00:00\", \"2017-03-31T00:00:00\", \"2017-03-30T00:00:00\", \"2017-03-29T00:00:00\", \"2017-03-28T00:00:00\", \"2017-03-27T00:00:00\", \"2017-03-26T00:00:00\", \"2017-03-25T00:00:00\", \"2017-03-24T00:00:00\", \"2017-03-23T00:00:00\", \"2017-03-22T00:00:00\", \"2017-03-21T00:00:00\", \"2017-03-20T00:00:00\", \"2017-03-19T00:00:00\", \"2017-03-18T00:00:00\", \"2017-03-17T00:00:00\", \"2017-03-16T00:00:00\", \"2017-03-15T00:00:00\", \"2017-03-14T00:00:00\", \"2017-03-13T00:00:00\", \"2017-03-12T00:00:00\", \"2017-03-11T00:00:00\", \"2017-03-10T00:00:00\", \"2017-03-09T00:00:00\", \"2017-03-08T00:00:00\", \"2017-03-07T00:00:00\", \"2017-03-06T00:00:00\", \"2017-03-05T00:00:00\", \"2017-03-04T00:00:00\", \"2017-03-03T00:00:00\", \"2017-03-02T00:00:00\", \"2017-03-01T00:00:00\", \"2017-02-28T00:00:00\", \"2017-02-27T00:00:00\", \"2017-02-26T00:00:00\", \"2017-02-25T00:00:00\", \"2017-02-24T00:00:00\", \"2017-02-23T00:00:00\", \"2017-02-22T00:00:00\", \"2017-02-21T00:00:00\", \"2017-02-20T00:00:00\", \"2017-02-19T00:00:00\", \"2017-02-18T00:00:00\", \"2017-02-17T00:00:00\", \"2017-02-16T00:00:00\", \"2017-02-15T00:00:00\", \"2017-02-14T00:00:00\", \"2017-02-13T00:00:00\", \"2017-02-12T00:00:00\", \"2017-02-11T00:00:00\", \"2017-02-10T00:00:00\", \"2017-02-09T00:00:00\", \"2017-02-08T00:00:00\", \"2017-02-07T00:00:00\", \"2017-02-06T00:00:00\", \"2017-02-05T00:00:00\", \"2017-02-04T00:00:00\", \"2017-02-03T00:00:00\", \"2017-02-02T00:00:00\", \"2017-02-01T00:00:00\", \"2017-01-31T00:00:00\", \"2017-01-30T00:00:00\", \"2017-01-29T00:00:00\", \"2017-01-28T00:00:00\", \"2017-01-27T00:00:00\", \"2017-01-26T00:00:00\", \"2017-01-25T00:00:00\", \"2017-01-24T00:00:00\", \"2017-01-23T00:00:00\", \"2017-01-22T00:00:00\", \"2017-01-21T00:00:00\", \"2017-01-20T00:00:00\", \"2017-01-19T00:00:00\", \"2017-01-18T00:00:00\", \"2017-01-17T00:00:00\", \"2017-01-16T00:00:00\", \"2017-01-15T00:00:00\", \"2017-01-14T00:00:00\", \"2017-01-13T00:00:00\", \"2017-01-12T00:00:00\", \"2017-01-11T00:00:00\", \"2017-01-10T00:00:00\", \"2017-01-09T00:00:00\", \"2017-01-08T00:00:00\", \"2017-01-07T00:00:00\", \"2017-01-06T00:00:00\", \"2017-01-05T00:00:00\", \"2017-01-04T00:00:00\", \"2017-01-03T00:00:00\", \"2017-01-02T00:00:00\", \"2017-01-01T00:00:00\", \"2016-12-31T00:00:00\", \"2016-12-30T00:00:00\", \"2016-12-29T00:00:00\", \"2016-12-28T00:00:00\", \"2016-12-27T00:00:00\", \"2016-12-26T00:00:00\", \"2016-12-25T00:00:00\", \"2016-12-24T00:00:00\", \"2016-12-23T00:00:00\", \"2016-12-22T00:00:00\", \"2016-12-21T00:00:00\", \"2016-12-20T00:00:00\", \"2016-12-19T00:00:00\", \"2016-12-18T00:00:00\", \"2016-12-17T00:00:00\", \"2016-12-16T00:00:00\", \"2016-12-15T00:00:00\", \"2016-12-14T00:00:00\", \"2016-12-13T00:00:00\", \"2016-12-12T00:00:00\", \"2016-12-11T00:00:00\", \"2016-12-10T00:00:00\", \"2016-12-09T00:00:00\", \"2016-12-08T00:00:00\", \"2016-12-07T00:00:00\", \"2016-12-06T00:00:00\", \"2016-12-05T00:00:00\", \"2016-12-04T00:00:00\", \"2016-12-03T00:00:00\", \"2016-12-02T00:00:00\", \"2016-12-01T00:00:00\", \"2016-11-30T00:00:00\", \"2016-11-29T00:00:00\", \"2016-11-28T00:00:00\", \"2016-11-27T00:00:00\", \"2016-11-26T00:00:00\", \"2016-11-25T00:00:00\", \"2016-11-24T00:00:00\", \"2016-11-23T00:00:00\", \"2016-11-22T00:00:00\", \"2016-11-21T00:00:00\", \"2016-11-20T00:00:00\", \"2016-11-19T00:00:00\", \"2016-11-18T00:00:00\", \"2016-11-17T00:00:00\", \"2016-11-16T00:00:00\", \"2016-11-15T00:00:00\", \"2016-11-14T00:00:00\", \"2016-11-13T00:00:00\", \"2016-11-12T00:00:00\", \"2016-11-11T00:00:00\", \"2016-11-10T00:00:00\", \"2016-11-09T00:00:00\", \"2016-11-08T00:00:00\", \"2016-11-07T00:00:00\", \"2016-11-06T00:00:00\", \"2016-11-05T00:00:00\", \"2016-11-04T00:00:00\", \"2016-11-03T00:00:00\", \"2016-11-02T00:00:00\", \"2016-11-01T00:00:00\", \"2016-10-31T00:00:00\", \"2016-10-30T00:00:00\", \"2016-10-29T00:00:00\", \"2016-10-28T00:00:00\", \"2016-10-27T00:00:00\", \"2016-10-26T00:00:00\", \"2016-10-25T00:00:00\", \"2016-10-24T00:00:00\", \"2016-10-23T00:00:00\", \"2016-10-22T00:00:00\", \"2016-10-21T00:00:00\", \"2016-10-20T00:00:00\", \"2016-10-19T00:00:00\", \"2016-10-18T00:00:00\", \"2016-10-17T00:00:00\", \"2016-10-16T00:00:00\", \"2016-10-15T00:00:00\", \"2016-10-14T00:00:00\", \"2016-10-13T00:00:00\", \"2016-10-12T00:00:00\", \"2016-10-11T00:00:00\", \"2016-10-10T00:00:00\", \"2016-10-09T00:00:00\", \"2016-10-08T00:00:00\", \"2016-10-07T00:00:00\", \"2016-10-06T00:00:00\", \"2016-10-05T00:00:00\", \"2016-10-04T00:00:00\", \"2016-10-03T00:00:00\", \"2016-10-02T00:00:00\", \"2016-10-01T00:00:00\", \"2016-09-30T00:00:00\", \"2016-09-29T00:00:00\", \"2016-09-28T00:00:00\", \"2016-09-27T00:00:00\", \"2016-09-26T00:00:00\", \"2016-09-25T00:00:00\", \"2016-09-24T00:00:00\", \"2016-09-23T00:00:00\", \"2016-09-22T00:00:00\", \"2016-09-21T00:00:00\", \"2016-09-20T00:00:00\", \"2016-09-19T00:00:00\", \"2016-09-18T00:00:00\", \"2016-09-17T00:00:00\", \"2016-09-16T00:00:00\", \"2016-09-15T00:00:00\", \"2016-09-14T00:00:00\", \"2016-09-13T00:00:00\", \"2016-09-12T00:00:00\", \"2016-09-11T00:00:00\", \"2016-09-10T00:00:00\", \"2016-09-09T00:00:00\", \"2016-09-08T00:00:00\", \"2016-09-07T00:00:00\", \"2016-09-06T00:00:00\", \"2016-09-05T00:00:00\", \"2016-09-04T00:00:00\", \"2016-09-03T00:00:00\", \"2016-09-02T00:00:00\", \"2016-09-01T00:00:00\", \"2016-08-31T00:00:00\", \"2016-08-30T00:00:00\", \"2016-08-29T00:00:00\", \"2016-08-28T00:00:00\", \"2016-08-27T00:00:00\", \"2016-08-26T00:00:00\", \"2016-08-25T00:00:00\", \"2016-08-24T00:00:00\", \"2016-08-23T00:00:00\", \"2016-08-22T00:00:00\", \"2016-08-21T00:00:00\", \"2016-08-20T00:00:00\", \"2016-08-19T00:00:00\", \"2016-08-18T00:00:00\", \"2016-08-17T00:00:00\", \"2016-08-16T00:00:00\", \"2016-08-15T00:00:00\", \"2016-08-14T00:00:00\", \"2016-08-13T00:00:00\", \"2016-08-12T00:00:00\", \"2016-08-11T00:00:00\", \"2016-08-10T00:00:00\", \"2016-08-09T00:00:00\", \"2016-08-08T00:00:00\", \"2016-08-07T00:00:00\", \"2016-08-06T00:00:00\", \"2016-08-05T00:00:00\", \"2016-08-04T00:00:00\", \"2016-08-03T00:00:00\", \"2016-08-02T00:00:00\", \"2016-08-01T00:00:00\"], \"xaxis\": \"x2\", \"y\": [849250, 775870, 684953, 862884, 949692, 833443, 907290, 811208, 783275, 728060, 947622, 945635, 849568, 874300, 907588, 729125, 715833, 966732, 958948, 824973, 885543, 847699, 738013, 744687, 990396, 1006707, 907768, 835287, 817405, 806839, 653170, 1023409, 1001731, 940701, 906828, 782813, 797112, 730314, 975058, 910333, 843762, 961064, 782515, 869408, 702472, 977595, 984365, 847192, 858462, 935454, 731831, 746047, 979680, 873941, 855883, 842765, 972299, 810156, 793734, 1001872, 953877, 1043534, 860475, 866751, 818264, 786314, 1051609, 1014222, 986113, 814842, 772973, 921512, 829143, 1011410, 1037118, 865906, 903791, 906670, 811796, 805250, 969523, 1012408, 924374, 878687, 868938, 706564, 721834, 934187, 1006881, 959546, 926952, 942933, 981543, 846153, 1022977, 1014891, 975985, 898231, 829133, 702650, 750010, 1063776, 1011776, 955305, 892049, 938519, 1000847, 784313, 1021464, 1046556, 921248, 917905, 874051, 891791, 759353, 1018524, 1004604, 861785, 857344, 895128, 895490, 814382, 1162393, 1036973, 904795, 966953, 880560, 830817, 790868, 1095432, 1004067, 887809, 785163, 919435, 697643, 847605, 1022897, 912901, 875878, 882863, 855109, 762369, 785539, 1043775, 874544, 858125, 837868, 959668, 830553, 694419, 965309, 984069, 887288, 1014765, 869179, 811088, 745629, 962557, 938415, 772366, 853918, 867585, 677095, 606579, 594863, 343923, 695576, 1084231, 989744, 881594, 737756, 1041571, 972790, 914922, 842139, 812504, 721471, 648568, 907741, 1049164, 820107, 938677, 789584, 648046, 706661, 937336, 886490, 813442, 783450, 765884, 631167, 688664, 888741, 968951, 780401, 737005, 724101, 774679, 683854, 968250, 815744, 769909, 750740, 749498, 695848, 632608, 826331, 868410, 748548, 823386, 673541, 544002, 812244, 922877, 1101944, 1094740, 992165, 794919, 748887, 832863, 932911, 988183, 876046, 774650, 769764, 808484, 742845, 943385, 938868, 771841, 836077, 755144, 759039, 662204, 928812, 913711, 848154, 813017, 929598, 689050, 664458, 873320, 979071, 819757, 685985, 708398, 674424, 641239, 820432, 729899, 810075, 738909, 710562, 655497, 634488, 885528, 821839, 737827, 749506, 660240, 648464, 610203, 863548, 738897, 714339, 695539, 687339, 637477, 660977, 857899, 843764, 719687, 765361, 785298, 651614, 651753, 829169, 899458, 698772, 767640, 785297, 621383, 656530, 851784, 806200, 658217, 700758, 680664, 594707, 610049, 773886, 746177, 678143, 712506, 646296, 589930, 600506, 673087, 627114, 465332, 278572, 544352, 738523, 667030, 887576, 937918, 717847, 785201, 765154, 635827, 646869, 800052, 760961, 704523, 720687, 648585, 577426, 646373, 786357, 764550, 685125, 721867, 667367, 598034, 619027, 833985, 772301, 698599, 728150, 728018, 673944, 626374, 774928, 806074, 771014, 779828, 621733, 605639, 597117, 802786, 753042, 711520, 657007, 587303, 606169, 572054, 691640, 818268, 962169, 592517, 563091, 607338, 578416, 784831, 747189, 631879, 653296, 707191, 623847, 557130, 682284, 715346, 749010, 697901, 675015, 617769, 592580, 684900, 724372, 698433, 661320, 726067, 577696, 578409, 762798, 742148, 681584, 684252, 660607, 612366, 591182, 755598, 712581, 693837, 732027, 616823, 545479, 577498, 703732, 745856, 688170, 712230, 625547, 581892, 534951, 697080, 789820, 687711, 700694, 644463, 509724, 551707, 766233, 683845, 643243, 685854, 568532, 623149, 562274, 710372, 693770, 640519, 629377, 608522, 534837, 590750, 733673, 665891, 619268, 575860, 555431, 612864, 535270, 734562, 698642, 746222, 708226, 588981, 517970, 537784, 687025, 741150, 658743, 600496, 550543, 551791, 580258, 761397, 685822, 645475, 588183, 579106, 535321, 554952, 703792, 641601, 605881, 604483, 530756, 627454, 528986, 579557, 600015, 639421, 569213, 628874, 625133, 580295, 731310, 719785, 602413, 716301, 579780, 522438, 523120, 744403, 726774, 581708, 542921, 543708, 609812, 590364, 706870, 679865, 601772, 573037, 550891, 604773, 607565, 699636, 660088, 580349, 614838, 551394, 581957, 537541, 672593, 662525, 589697, 593206, 584037, 564033, 511285, 735125, 645748, 569992, 563800, 577193, 497340, 533074, 667977, 626614, 569300, 583824, 525581, 511740, 526920, 666094, 647388, 545060, 516147, 652104, 492088, 510546, 642070, 647882, 589538, 569819, 661073, 600692, 497780, 632189, 637760, 575044, 533393, 562701, 529926, 464872, 666620, 650206, 571255, 563105, 504283, 479810, 436891, 548746, 573681, 489329, 520442, 550899, 454180, 435671, 605232, 612189, 488088, 539965, 469061, 382399, 343268, 189583, 398226, 691863, 575426, 531153, 485443, 446600, 573142, 609695, 513687, 574507, 526552, 468805, 501164, 599523, 551863, 505591, 523876, 602041, 431816, 431083, 621823, 587847, 490781, 522597, 491667, 444136, 377562, 671033, 713862, 585848, 556686, 611735, 503417, 513351, 609752, 664865, 536862, 521956, 550722, 504075, 533799, 581359, 570928, 500559, 499968, 513943, 512697, 445759, 589244, 545099, 531679, 513157, 500431, 459309, 383594, 508949, 536827, 468190, 524143, 460812, 376489, 424592, 517415, 491771, 451054, 391058, 551031, 447088, 368580, 480561, 483128, 482522, 476280, 425351, 440438, 410450, 530545, 457328, 436053, 434192, 394154, 402806, 392577, 458470, 512683, 443229, 460657, 426675, 427898, 375640, 474174, 564559, 423946, 497030, 441801, 450970, 391845, 517118, 458756, 466062, 414837, 463068, 383989, 337595, 574914, 460111, 474572, 427090, 484904, 408176, 383150, 456485, 457418, 422303, 414625, 446892, 331697, 354720, 467397, 511770, 447447, 418583, 365270, 364261, 349328, 464698, 501172, 453040, 434673, 417096, 374798, 306399, 347928, 282732, 158956, 311439, 638870, 451219, 381804, 489077, 478480, 454140, 496211, 421090, 347691, 343665, 452751, 511570, 471674, 535141, 424382, 336022, 300950, 448840, 477433, 407792, 430465, 378059, 400245, 320934, 463676, 408289, 412465, 443155, 420612, 307633, 358402, 425545, 461828, 441055, 405533, 382247, 349855, 322932, 486131, 438015, 416566, 507829, 397806, 435946], \"yaxis\": \"y2\"}],                        {\"height\": 660, \"showlegend\": true, \"template\": {\"data\": {\"bar\": [{\"error_x\": {\"color\": \"#2a3f5f\"}, \"error_y\": {\"color\": \"#2a3f5f\"}, \"marker\": {\"line\": {\"color\": \"#E5ECF6\", \"width\": 0.5}}, \"type\": \"bar\"}], \"barpolar\": [{\"marker\": {\"line\": {\"color\": \"#E5ECF6\", \"width\": 0.5}}, \"type\": \"barpolar\"}], \"carpet\": [{\"aaxis\": {\"endlinecolor\": \"#2a3f5f\", \"gridcolor\": \"white\", \"linecolor\": \"white\", \"minorgridcolor\": \"white\", \"startlinecolor\": \"#2a3f5f\"}, \"baxis\": {\"endlinecolor\": \"#2a3f5f\", \"gridcolor\": \"white\", \"linecolor\": \"white\", \"minorgridcolor\": \"white\", \"startlinecolor\": \"#2a3f5f\"}, \"type\": \"carpet\"}], \"choropleth\": [{\"colorbar\": {\"outlinewidth\": 0, \"ticks\": \"\"}, \"type\": \"choropleth\"}], \"contour\": [{\"colorbar\": {\"outlinewidth\": 0, \"ticks\": \"\"}, \"colorscale\": [[0.0, \"#0d0887\"], [0.1111111111111111, \"#46039f\"], [0.2222222222222222, \"#7201a8\"], [0.3333333333333333, \"#9c179e\"], [0.4444444444444444, \"#bd3786\"], [0.5555555555555556, \"#d8576b\"], [0.6666666666666666, \"#ed7953\"], [0.7777777777777778, \"#fb9f3a\"], [0.8888888888888888, \"#fdca26\"], [1.0, \"#f0f921\"]], \"type\": \"contour\"}], \"contourcarpet\": [{\"colorbar\": {\"outlinewidth\": 0, \"ticks\": \"\"}, \"type\": \"contourcarpet\"}], \"heatmap\": [{\"colorbar\": {\"outlinewidth\": 0, \"ticks\": \"\"}, \"colorscale\": [[0.0, \"#0d0887\"], [0.1111111111111111, \"#46039f\"], [0.2222222222222222, \"#7201a8\"], [0.3333333333333333, \"#9c179e\"], [0.4444444444444444, \"#bd3786\"], [0.5555555555555556, \"#d8576b\"], [0.6666666666666666, \"#ed7953\"], [0.7777777777777778, \"#fb9f3a\"], [0.8888888888888888, \"#fdca26\"], [1.0, \"#f0f921\"]], \"type\": \"heatmap\"}], \"heatmapgl\": [{\"colorbar\": {\"outlinewidth\": 0, \"ticks\": \"\"}, \"colorscale\": [[0.0, \"#0d0887\"], [0.1111111111111111, \"#46039f\"], [0.2222222222222222, \"#7201a8\"], [0.3333333333333333, \"#9c179e\"], [0.4444444444444444, \"#bd3786\"], [0.5555555555555556, \"#d8576b\"], [0.6666666666666666, \"#ed7953\"], [0.7777777777777778, \"#fb9f3a\"], [0.8888888888888888, \"#fdca26\"], [1.0, \"#f0f921\"]], \"type\": \"heatmapgl\"}], \"histogram\": [{\"marker\": {\"colorbar\": {\"outlinewidth\": 0, \"ticks\": \"\"}}, \"type\": \"histogram\"}], \"histogram2d\": [{\"colorbar\": {\"outlinewidth\": 0, \"ticks\": \"\"}, \"colorscale\": [[0.0, \"#0d0887\"], [0.1111111111111111, \"#46039f\"], [0.2222222222222222, \"#7201a8\"], [0.3333333333333333, \"#9c179e\"], [0.4444444444444444, \"#bd3786\"], [0.5555555555555556, \"#d8576b\"], [0.6666666666666666, \"#ed7953\"], [0.7777777777777778, \"#fb9f3a\"], [0.8888888888888888, \"#fdca26\"], [1.0, \"#f0f921\"]], \"type\": \"histogram2d\"}], \"histogram2dcontour\": [{\"colorbar\": {\"outlinewidth\": 0, \"ticks\": \"\"}, \"colorscale\": [[0.0, \"#0d0887\"], [0.1111111111111111, \"#46039f\"], [0.2222222222222222, \"#7201a8\"], [0.3333333333333333, \"#9c179e\"], [0.4444444444444444, \"#bd3786\"], [0.5555555555555556, \"#d8576b\"], [0.6666666666666666, \"#ed7953\"], [0.7777777777777778, \"#fb9f3a\"], [0.8888888888888888, \"#fdca26\"], [1.0, \"#f0f921\"]], \"type\": \"histogram2dcontour\"}], \"mesh3d\": [{\"colorbar\": {\"outlinewidth\": 0, \"ticks\": \"\"}, \"type\": \"mesh3d\"}], \"parcoords\": [{\"line\": {\"colorbar\": {\"outlinewidth\": 0, \"ticks\": \"\"}}, \"type\": \"parcoords\"}], \"pie\": [{\"automargin\": true, \"type\": \"pie\"}], \"scatter\": [{\"marker\": {\"colorbar\": {\"outlinewidth\": 0, \"ticks\": \"\"}}, \"type\": \"scatter\"}], \"scatter3d\": [{\"line\": {\"colorbar\": {\"outlinewidth\": 0, \"ticks\": \"\"}}, \"marker\": {\"colorbar\": {\"outlinewidth\": 0, \"ticks\": \"\"}}, \"type\": \"scatter3d\"}], \"scattercarpet\": [{\"marker\": {\"colorbar\": {\"outlinewidth\": 0, \"ticks\": \"\"}}, \"type\": \"scattercarpet\"}], \"scattergeo\": [{\"marker\": {\"colorbar\": {\"outlinewidth\": 0, \"ticks\": \"\"}}, \"type\": \"scattergeo\"}], \"scattergl\": [{\"marker\": {\"colorbar\": {\"outlinewidth\": 0, \"ticks\": \"\"}}, \"type\": \"scattergl\"}], \"scattermapbox\": [{\"marker\": {\"colorbar\": {\"outlinewidth\": 0, \"ticks\": \"\"}}, \"type\": \"scattermapbox\"}], \"scatterpolar\": [{\"marker\": {\"colorbar\": {\"outlinewidth\": 0, \"ticks\": \"\"}}, \"type\": \"scatterpolar\"}], \"scatterpolargl\": [{\"marker\": {\"colorbar\": {\"outlinewidth\": 0, \"ticks\": \"\"}}, \"type\": \"scatterpolargl\"}], \"scatterternary\": [{\"marker\": {\"colorbar\": {\"outlinewidth\": 0, \"ticks\": \"\"}}, \"type\": \"scatterternary\"}], \"surface\": [{\"colorbar\": {\"outlinewidth\": 0, \"ticks\": \"\"}, \"colorscale\": [[0.0, \"#0d0887\"], [0.1111111111111111, \"#46039f\"], [0.2222222222222222, \"#7201a8\"], [0.3333333333333333, \"#9c179e\"], [0.4444444444444444, \"#bd3786\"], [0.5555555555555556, \"#d8576b\"], [0.6666666666666666, \"#ed7953\"], [0.7777777777777778, \"#fb9f3a\"], [0.8888888888888888, \"#fdca26\"], [1.0, \"#f0f921\"]], \"type\": \"surface\"}], \"table\": [{\"cells\": {\"fill\": {\"color\": \"#EBF0F8\"}, \"line\": {\"color\": \"white\"}}, \"header\": {\"fill\": {\"color\": \"#C8D4E3\"}, \"line\": {\"color\": \"white\"}}, \"type\": \"table\"}]}, \"layout\": {\"annotationdefaults\": {\"arrowcolor\": \"#2a3f5f\", \"arrowhead\": 0, \"arrowwidth\": 1}, \"coloraxis\": {\"colorbar\": {\"outlinewidth\": 0, \"ticks\": \"\"}}, \"colorscale\": {\"diverging\": [[0, \"#8e0152\"], [0.1, \"#c51b7d\"], [0.2, \"#de77ae\"], [0.3, \"#f1b6da\"], [0.4, \"#fde0ef\"], [0.5, \"#f7f7f7\"], [0.6, \"#e6f5d0\"], [0.7, \"#b8e186\"], [0.8, \"#7fbc41\"], [0.9, \"#4d9221\"], [1, \"#276419\"]], \"sequential\": [[0.0, \"#0d0887\"], [0.1111111111111111, \"#46039f\"], [0.2222222222222222, \"#7201a8\"], [0.3333333333333333, \"#9c179e\"], [0.4444444444444444, \"#bd3786\"], [0.5555555555555556, \"#d8576b\"], [0.6666666666666666, \"#ed7953\"], [0.7777777777777778, \"#fb9f3a\"], [0.8888888888888888, \"#fdca26\"], [1.0, \"#f0f921\"]], \"sequentialminus\": [[0.0, \"#0d0887\"], [0.1111111111111111, \"#46039f\"], [0.2222222222222222, \"#7201a8\"], [0.3333333333333333, \"#9c179e\"], [0.4444444444444444, \"#bd3786\"], [0.5555555555555556, \"#d8576b\"], [0.6666666666666666, \"#ed7953\"], [0.7777777777777778, \"#fb9f3a\"], [0.8888888888888888, \"#fdca26\"], [1.0, \"#f0f921\"]]}, \"colorway\": [\"#636efa\", \"#EF553B\", \"#00cc96\", \"#ab63fa\", \"#FFA15A\", \"#19d3f3\", \"#FF6692\", \"#B6E880\", \"#FF97FF\", \"#FECB52\"], \"font\": {\"color\": \"#2a3f5f\"}, \"geo\": {\"bgcolor\": \"white\", \"lakecolor\": \"white\", \"landcolor\": \"#E5ECF6\", \"showlakes\": true, \"showland\": true, \"subunitcolor\": \"white\"}, \"hoverlabel\": {\"align\": \"left\"}, \"hovermode\": \"closest\", \"mapbox\": {\"style\": \"light\"}, \"paper_bgcolor\": \"white\", \"plot_bgcolor\": \"#E5ECF6\", \"polar\": {\"angularaxis\": {\"gridcolor\": \"white\", \"linecolor\": \"white\", \"ticks\": \"\"}, \"bgcolor\": \"#E5ECF6\", \"radialaxis\": {\"gridcolor\": \"white\", \"linecolor\": \"white\", \"ticks\": \"\"}}, \"scene\": {\"xaxis\": {\"backgroundcolor\": \"#E5ECF6\", \"gridcolor\": \"white\", \"gridwidth\": 2, \"linecolor\": \"white\", \"showbackground\": true, \"ticks\": \"\", \"zerolinecolor\": \"white\"}, \"yaxis\": {\"backgroundcolor\": \"#E5ECF6\", \"gridcolor\": \"white\", \"gridwidth\": 2, \"linecolor\": \"white\", \"showbackground\": true, \"ticks\": \"\", \"zerolinecolor\": \"white\"}, \"zaxis\": {\"backgroundcolor\": \"#E5ECF6\", \"gridcolor\": \"white\", \"gridwidth\": 2, \"linecolor\": \"white\", \"showbackground\": true, \"ticks\": \"\", \"zerolinecolor\": \"white\"}}, \"shapedefaults\": {\"line\": {\"color\": \"#2a3f5f\"}}, \"ternary\": {\"aaxis\": {\"gridcolor\": \"white\", \"linecolor\": \"white\", \"ticks\": \"\"}, \"baxis\": {\"gridcolor\": \"white\", \"linecolor\": \"white\", \"ticks\": \"\"}, \"bgcolor\": \"#E5ECF6\", \"caxis\": {\"gridcolor\": \"white\", \"linecolor\": \"white\", \"ticks\": \"\"}}, \"title\": {\"x\": 0.05}, \"xaxis\": {\"automargin\": true, \"gridcolor\": \"white\", \"linecolor\": \"white\", \"ticks\": \"\", \"title\": {\"standoff\": 15}, \"zerolinecolor\": \"white\", \"zerolinewidth\": 2}, \"yaxis\": {\"automargin\": true, \"gridcolor\": \"white\", \"linecolor\": \"white\", \"ticks\": \"\", \"title\": {\"standoff\": 15}, \"zerolinecolor\": \"white\", \"zerolinewidth\": 2}}}, \"title\": {\"text\": \"\\uc77c\\uc77c \\uad6c\\ub9e4\\ud69f\\uc218\\uc640 \\ub9e4\\ucd9c\\uc561\"}, \"width\": 900, \"xaxis\": {\"anchor\": \"y\", \"domain\": [0.0, 1.0], \"matches\": \"x2\", \"showticklabels\": false}, \"xaxis2\": {\"anchor\": \"y2\", \"domain\": [0.0, 1.0]}, \"yaxis\": {\"anchor\": \"x\", \"domain\": [0.51, 1.0], \"title\": {\"text\": \"\\uad6c\\ub9e4 \\ud69f\\uc218\"}}, \"yaxis2\": {\"anchor\": \"x2\", \"domain\": [0.0, 0.49], \"title\": {\"text\": \"\\ub9e4\\ucd9c\\uc561\"}}},                        {\"responsive\": true}                    ).then(function(){\n",
       "                            \n",
       "var gd = document.getElementById('a83035b5-c17e-4e27-8223-f18e744fdb59');\n",
       "var x = new MutationObserver(function (mutations, observer) {{\n",
       "        var display = window.getComputedStyle(gd).display;\n",
       "        if (!display || display === 'none') {{\n",
       "            console.log([gd, 'removed!']);\n",
       "            Plotly.purge(gd);\n",
       "            observer.disconnect();\n",
       "        }}\n",
       "}});\n",
       "\n",
       "// Listen for the removal of the full notebook cells\n",
       "var notebookContainer = gd.closest('#notebook-container');\n",
       "if (notebookContainer) {{\n",
       "    x.observe(notebookContainer, {childList: true});\n",
       "}}\n",
       "\n",
       "// Listen for the clearing of the current output cell\n",
       "var outputEl = gd.closest('.output');\n",
       "if (outputEl) {{\n",
       "    x.observe(outputEl, {childList: true});\n",
       "}}\n",
       "\n",
       "                        })                };                });            </script>        </div>"
      ]
     },
     "metadata": {},
     "output_type": "display_data"
    }
   ],
   "source": [
    "fig = make_subplots(\n",
    "    rows=2, cols=1, shared_xaxes=True, vertical_spacing=0.02,\n",
    "    row_heights = [0.5, 0.5],\n",
    ")\n",
    "\n",
    "fig.add_trace(go.Scatter(x=daily_count[\"date\"][::-1], y=daily_count[\"daily_count\"][::-1], name=\"구매횟수\", marker_color=\"red\"), row=1, col=1)\n",
    "\n",
    "fig.add_trace(go.Scatter(x=daily_amount[\"date\"][::-1], y=daily_amount[\"daily_amount\"][::-1], name=\"매출액\", marker_color=\"blue\"),row=2, col=1)\n",
    "\n",
    "fig.update_layout(height=330*2, width=300*3, title_text=\"일일 구매횟수와 매출액\", showlegend=True)\n",
    "fig.update_yaxes(title_text=\"구매 횟수\", row=1, col=1)\n",
    "fig.update_yaxes(title_text=\"매출액\", row=2, col=1)\n",
    "\n",
    "fig.show()"
   ]
  },
  {
   "cell_type": "code",
   "execution_count": 64,
   "metadata": {},
   "outputs": [
    {
     "data": {
      "text/html": [
       "<div>\n",
       "<style scoped>\n",
       "    .dataframe tbody tr th:only-of-type {\n",
       "        vertical-align: middle;\n",
       "    }\n",
       "\n",
       "    .dataframe tbody tr th {\n",
       "        vertical-align: top;\n",
       "    }\n",
       "\n",
       "    .dataframe thead th {\n",
       "        text-align: right;\n",
       "    }\n",
       "</style>\n",
       "<table border=\"1\" class=\"dataframe\">\n",
       "  <thead>\n",
       "    <tr style=\"text-align: right;\">\n",
       "      <th></th>\n",
       "      <th>holyday</th>\n",
       "    </tr>\n",
       "    <tr>\n",
       "      <th>date</th>\n",
       "      <th></th>\n",
       "    </tr>\n",
       "  </thead>\n",
       "  <tbody>\n",
       "    <tr>\n",
       "      <th>2016-09-15</th>\n",
       "      <td>1</td>\n",
       "    </tr>\n",
       "    <tr>\n",
       "      <th>2017-01-28</th>\n",
       "      <td>1</td>\n",
       "    </tr>\n",
       "    <tr>\n",
       "      <th>2017-10-04</th>\n",
       "      <td>1</td>\n",
       "    </tr>\n",
       "    <tr>\n",
       "      <th>2018-02-16</th>\n",
       "      <td>1</td>\n",
       "    </tr>\n",
       "    <tr>\n",
       "      <th>2018-05-06</th>\n",
       "      <td>0</td>\n",
       "    </tr>\n",
       "  </tbody>\n",
       "</table>\n",
       "</div>"
      ],
      "text/plain": [
       "            holyday\n",
       "date               \n",
       "2016-09-15        1\n",
       "2017-01-28        1\n",
       "2017-10-04        1\n",
       "2018-02-16        1\n",
       "2018-05-06        0"
      ]
     },
     "execution_count": 64,
     "metadata": {},
     "output_type": "execute_result"
    }
   ],
   "source": [
    "# 구매횟수가 떨어지는 날과 연휴를 비교해보자\n",
    "find_day = ['2016-09-15', '2017-01-28', '2017-10-04', '2018-02-16', '2018-05-06']\n",
    "train1 = train[(train['date'] == '2016-09-15') | (train['date'] == '2017-01-28') | (train['date'] == '2017-10-04') | (train['date'] == '2018-02-16') | (train['date'] == '2018-05-06')]\n",
    "train1.groupby('date').agg({'holyday':'mean'})"
   ]
  },
  {
   "cell_type": "code",
   "execution_count": 66,
   "metadata": {},
   "outputs": [],
   "source": [
    "# 구매횟수가 떨어지는 날을 확인해보니 휴일이였다.\n",
    "# 2016-09-15, 2017-10-04 : 추석, 2017-01-28, 2018-02-16 : 설 \n",
    "# 추석이나 설 연휴중 당일에는 휴무인 상점이 많아 거래가 준 것으로 보인다.\n",
    "# 2018-05-06일은 휴일에 포함이 안되어 있는데 2018-05-05일의 대체휴무가 2018-05-07이어서 휴무라고 볼 수 있다."
   ]
  },
  {
   "cell_type": "code",
   "execution_count": 76,
   "metadata": {},
   "outputs": [],
   "source": [
    "# 할부분석, 클러스터링하기\n",
    "# 어느시간과 어느요일에 할부를 많이 하는지 거래취소를 많이 하는지"
   ]
  },
  {
   "cell_type": "code",
   "execution_count": 178,
   "metadata": {
    "scrolled": true
   },
   "outputs": [
    {
     "data": {
      "text/html": [
       "<div>\n",
       "<style scoped>\n",
       "    .dataframe tbody tr th:only-of-type {\n",
       "        vertical-align: middle;\n",
       "    }\n",
       "\n",
       "    .dataframe tbody tr th {\n",
       "        vertical-align: top;\n",
       "    }\n",
       "\n",
       "    .dataframe thead th {\n",
       "        text-align: right;\n",
       "    }\n",
       "</style>\n",
       "<table border=\"1\" class=\"dataframe\">\n",
       "  <thead>\n",
       "    <tr style=\"text-align: right;\">\n",
       "      <th></th>\n",
       "      <th>store_id</th>\n",
       "      <th>date</th>\n",
       "      <th>time</th>\n",
       "      <th>card_id</th>\n",
       "      <th>amount</th>\n",
       "      <th>installments</th>\n",
       "      <th>days_of_week</th>\n",
       "      <th>holyday</th>\n",
       "      <th>year-month</th>\n",
       "      <th>datetime</th>\n",
       "      <th>year</th>\n",
       "      <th>month</th>\n",
       "      <th>day</th>\n",
       "      <th>hour</th>\n",
       "      <th>weekend</th>\n",
       "    </tr>\n",
       "  </thead>\n",
       "  <tbody>\n",
       "    <tr>\n",
       "      <th>3293756</th>\n",
       "      <td>1799</td>\n",
       "      <td>2017-05-14</td>\n",
       "      <td>21:14:12</td>\n",
       "      <td>54b471994c</td>\n",
       "      <td>1500</td>\n",
       "      <td>3.0</td>\n",
       "      <td>6</td>\n",
       "      <td>0</td>\n",
       "      <td>2017-05</td>\n",
       "      <td>2017-05-14 21:14:12</td>\n",
       "      <td>2017</td>\n",
       "      <td>5</td>\n",
       "      <td>14</td>\n",
       "      <td>21</td>\n",
       "      <td>1</td>\n",
       "    </tr>\n",
       "    <tr>\n",
       "      <th>3293813</th>\n",
       "      <td>1799</td>\n",
       "      <td>2017-07-19</td>\n",
       "      <td>14:30:10</td>\n",
       "      <td>e47d9a18e4</td>\n",
       "      <td>3850</td>\n",
       "      <td>3.0</td>\n",
       "      <td>2</td>\n",
       "      <td>0</td>\n",
       "      <td>2017-07</td>\n",
       "      <td>2017-07-19 14:30:10</td>\n",
       "      <td>2017</td>\n",
       "      <td>7</td>\n",
       "      <td>19</td>\n",
       "      <td>14</td>\n",
       "      <td>0</td>\n",
       "    </tr>\n",
       "    <tr>\n",
       "      <th>3293841</th>\n",
       "      <td>1799</td>\n",
       "      <td>2017-08-18</td>\n",
       "      <td>19:08:43</td>\n",
       "      <td>f293d9dc0c</td>\n",
       "      <td>300</td>\n",
       "      <td>2.0</td>\n",
       "      <td>4</td>\n",
       "      <td>0</td>\n",
       "      <td>2017-08</td>\n",
       "      <td>2017-08-18 19:08:43</td>\n",
       "      <td>2017</td>\n",
       "      <td>8</td>\n",
       "      <td>18</td>\n",
       "      <td>19</td>\n",
       "      <td>0</td>\n",
       "    </tr>\n",
       "    <tr>\n",
       "      <th>3294026</th>\n",
       "      <td>1799</td>\n",
       "      <td>2018-02-19</td>\n",
       "      <td>18:34:25</td>\n",
       "      <td>be98bd957b</td>\n",
       "      <td>1175</td>\n",
       "      <td>3.0</td>\n",
       "      <td>0</td>\n",
       "      <td>0</td>\n",
       "      <td>2018-02</td>\n",
       "      <td>2018-02-19 18:34:25</td>\n",
       "      <td>2018</td>\n",
       "      <td>2</td>\n",
       "      <td>19</td>\n",
       "      <td>18</td>\n",
       "      <td>0</td>\n",
       "    </tr>\n",
       "    <tr>\n",
       "      <th>3294065</th>\n",
       "      <td>1799</td>\n",
       "      <td>2018-05-01</td>\n",
       "      <td>18:40:11</td>\n",
       "      <td>f293d9dc0c</td>\n",
       "      <td>300</td>\n",
       "      <td>2.0</td>\n",
       "      <td>1</td>\n",
       "      <td>1</td>\n",
       "      <td>2018-05</td>\n",
       "      <td>2018-05-01 18:40:11</td>\n",
       "      <td>2018</td>\n",
       "      <td>5</td>\n",
       "      <td>1</td>\n",
       "      <td>18</td>\n",
       "      <td>0</td>\n",
       "    </tr>\n",
       "  </tbody>\n",
       "</table>\n",
       "</div>"
      ],
      "text/plain": [
       "         store_id       date      time     card_id  amount  installments  \\\n",
       "3293756      1799 2017-05-14  21:14:12  54b471994c    1500           3.0   \n",
       "3293813      1799 2017-07-19  14:30:10  e47d9a18e4    3850           3.0   \n",
       "3293841      1799 2017-08-18  19:08:43  f293d9dc0c     300           2.0   \n",
       "3294026      1799 2018-02-19  18:34:25  be98bd957b    1175           3.0   \n",
       "3294065      1799 2018-05-01  18:40:11  f293d9dc0c     300           2.0   \n",
       "\n",
       "         days_of_week  holyday year-month             datetime  year  month  \\\n",
       "3293756             6        0    2017-05  2017-05-14 21:14:12  2017      5   \n",
       "3293813             2        0    2017-07  2017-07-19 14:30:10  2017      7   \n",
       "3293841             4        0    2017-08  2017-08-18 19:08:43  2017      8   \n",
       "3294026             0        0    2018-02  2018-02-19 18:34:25  2018      2   \n",
       "3294065             1        1    2018-05  2018-05-01 18:40:11  2018      5   \n",
       "\n",
       "         day  hour  weekend  \n",
       "3293756   14    21        1  \n",
       "3293813   19    14        0  \n",
       "3293841   18    19        0  \n",
       "3294026   19    18        0  \n",
       "3294065    1    18        0  "
      ]
     },
     "execution_count": 178,
     "metadata": {},
     "output_type": "execute_result"
    }
   ],
   "source": [
    "# 할부 \n",
    "installments_df = train[(train[\"installments\"] > 1)]\n",
    "installments_df.tail()  "
   ]
  },
  {
   "cell_type": "code",
   "execution_count": 191,
   "metadata": {},
   "outputs": [
    {
     "data": {
      "application/vnd.plotly.v1+json": {
       "config": {
        "plotlyServerURL": "https://plot.ly"
       },
       "data": [
        {
         "alignmentgroup": "True",
         "bingroup": "x",
         "hovertemplate": "installments=%{x}<br>count=%{y}<extra></extra>",
         "legendgroup": "",
         "marker": {
          "color": "#636efa"
         },
         "name": "",
         "offsetgroup": "",
         "orientation": "v",
         "showlegend": false,
         "type": "histogram",
         "x": [
          2,
          3,
          3,
          3,
          2,
          3,
          3,
          3,
          3,
          3,
          4,
          3,
          3,
          3,
          2,
          3,
          3,
          3,
          3,
          2,
          2,
          3,
          2,
          3,
          3,
          2,
          3,
          3,
          3,
          3,
          2,
          3,
          2,
          3,
          2,
          3,
          3,
          3,
          3,
          3,
          3,
          2,
          2,
          2,
          3,
          3,
          3,
          2,
          3,
          3,
          3,
          2,
          2,
          2,
          3,
          3,
          3,
          3,
          3,
          3,
          2,
          3,
          2,
          2,
          2,
          3,
          3,
          3,
          2,
          3,
          3,
          3,
          2,
          2,
          2,
          3,
          3,
          3,
          3,
          3,
          3,
          3,
          3,
          2,
          3,
          2,
          3,
          3,
          3,
          2,
          2,
          2,
          3,
          2,
          3,
          3,
          3,
          3,
          3,
          2,
          2,
          2,
          3,
          2,
          2,
          2,
          3,
          2,
          2,
          3,
          2,
          3,
          2,
          3,
          2,
          2,
          2,
          2,
          2,
          3,
          2,
          2,
          3,
          3,
          2,
          3,
          3,
          2,
          2,
          3,
          3,
          3,
          5,
          5,
          3,
          3,
          3,
          2,
          2,
          2,
          2,
          3,
          3,
          3,
          2,
          3,
          5,
          3,
          2,
          3,
          3,
          3,
          3,
          3,
          3,
          2,
          3,
          3,
          3,
          3,
          2,
          3,
          3,
          3,
          3,
          3,
          3,
          2,
          3,
          3,
          3,
          2,
          2,
          2,
          3,
          3,
          2,
          3,
          2,
          3,
          2,
          2,
          2,
          2,
          3,
          2,
          3,
          3,
          2,
          2,
          3,
          2,
          3,
          3,
          2,
          2,
          2,
          3,
          2,
          3,
          2,
          3,
          3,
          3,
          3,
          3,
          2,
          3,
          3,
          3,
          2,
          2,
          3,
          2,
          2,
          5,
          3,
          3,
          3,
          2,
          3,
          3,
          3,
          3,
          3,
          3,
          3,
          3,
          3,
          5,
          3,
          3,
          3,
          2,
          3,
          3,
          5,
          2,
          10,
          6,
          5,
          6,
          6,
          6,
          12,
          3,
          4,
          6,
          3,
          6,
          6,
          6,
          2,
          2,
          3,
          3,
          3,
          3,
          3,
          3,
          3,
          3,
          2,
          3,
          3,
          3,
          3,
          3,
          2,
          2,
          3,
          3,
          3,
          3,
          2,
          3,
          3,
          2,
          3,
          3,
          2,
          2,
          3,
          3,
          3,
          4,
          3,
          3,
          2,
          3,
          3,
          3,
          7,
          3,
          5,
          10,
          6,
          3,
          5,
          3,
          3,
          3,
          3,
          3,
          5,
          3,
          6,
          3,
          3,
          3,
          3,
          3,
          3,
          3,
          3,
          3,
          3,
          3,
          2,
          6,
          3,
          3,
          3,
          3,
          3,
          3,
          5,
          3,
          3,
          3,
          3,
          3,
          2,
          2,
          3,
          3,
          2,
          3,
          3,
          2,
          2,
          2,
          2,
          3,
          2,
          3,
          2,
          2,
          2,
          2,
          2,
          2,
          2,
          3,
          2,
          2,
          3,
          3,
          3,
          2,
          3,
          3,
          6,
          5,
          3,
          3,
          3,
          10,
          3,
          3,
          3,
          3,
          3,
          5,
          3,
          2,
          4,
          3,
          3,
          2,
          2,
          2,
          2,
          3,
          3,
          3,
          12,
          3,
          3,
          6,
          3,
          3,
          3,
          3,
          3,
          3,
          3,
          3,
          3,
          3,
          3,
          2,
          3,
          2,
          3,
          3,
          3,
          10,
          3,
          3,
          3,
          12,
          2,
          3,
          3,
          3,
          3,
          2,
          3,
          3,
          3,
          3,
          3,
          3,
          3,
          3,
          3,
          3,
          3,
          3,
          3,
          2,
          3,
          6,
          6,
          6,
          6,
          6,
          3,
          3,
          3,
          3,
          2,
          3,
          5,
          2,
          3,
          3,
          3,
          3,
          3,
          3,
          2,
          2,
          2,
          3,
          2,
          3,
          2,
          3,
          2,
          3,
          3,
          3,
          3,
          3,
          3,
          3,
          5,
          5,
          3,
          3,
          2,
          3,
          3,
          3,
          2,
          3,
          3,
          3,
          4,
          3,
          3,
          3,
          3,
          3,
          5,
          10,
          3,
          3,
          3,
          2,
          2,
          5,
          3,
          3,
          3,
          3,
          3,
          2,
          2,
          2,
          2,
          3,
          3,
          3,
          3,
          3,
          3,
          3,
          3,
          3,
          2,
          3,
          3,
          3,
          3,
          3,
          3,
          3,
          3,
          3,
          3,
          3,
          3,
          2,
          2,
          3,
          2,
          3,
          3,
          3,
          2,
          2,
          3,
          2,
          4,
          5,
          3,
          3,
          3,
          2,
          3,
          2,
          3,
          3,
          3,
          3,
          3,
          3,
          3,
          3,
          5,
          3,
          8,
          2,
          2,
          5,
          3,
          3,
          3,
          3,
          2,
          2,
          3,
          5,
          2,
          4,
          6,
          3,
          3,
          3,
          3,
          2,
          3,
          3,
          3,
          3,
          2,
          3,
          3,
          3,
          3,
          2,
          5,
          3,
          3,
          2,
          3,
          5,
          2,
          3,
          3,
          3,
          2,
          5,
          2,
          3,
          2,
          3,
          3,
          3,
          2,
          2,
          2,
          2,
          3,
          2,
          2,
          2,
          3,
          2,
          3,
          3,
          2,
          3,
          3,
          2,
          3,
          3,
          2,
          3,
          3,
          2,
          3,
          2,
          2,
          2,
          2,
          3,
          3,
          3,
          3,
          2,
          3,
          2,
          2,
          3,
          2,
          6,
          9,
          9,
          9,
          3,
          2,
          3,
          3,
          3,
          2,
          3,
          3,
          9,
          3,
          2,
          3,
          3,
          2,
          3,
          3,
          3,
          2,
          3,
          2,
          3,
          3,
          3,
          2,
          2,
          3,
          2,
          2,
          3,
          3,
          2,
          2,
          3,
          3,
          2,
          2,
          3,
          3,
          3,
          2,
          3,
          3,
          3,
          2,
          3,
          2,
          3,
          3,
          3,
          3,
          3,
          3,
          2,
          2,
          3,
          3,
          3,
          3,
          3,
          3,
          3,
          3,
          3,
          3,
          2,
          3,
          3,
          3,
          2,
          3,
          3,
          3,
          2,
          2,
          3,
          3,
          3,
          3,
          2,
          3,
          3,
          2,
          2,
          3,
          2,
          2,
          2,
          2,
          3,
          2,
          3,
          2,
          3,
          4,
          6,
          2,
          3,
          3,
          3,
          3,
          3,
          2,
          2,
          3,
          3,
          3,
          3,
          3,
          3,
          3,
          2,
          2,
          2,
          2,
          3,
          2,
          2,
          2,
          3,
          3,
          2,
          3,
          3,
          2,
          2,
          3,
          3,
          3,
          12,
          3,
          3,
          6,
          6,
          3,
          5,
          5,
          3,
          3,
          3,
          3,
          3,
          2,
          2,
          3,
          3,
          3,
          2,
          3,
          3,
          2,
          3,
          5,
          2,
          3,
          3,
          3,
          3,
          3,
          3,
          3,
          3,
          3,
          3,
          2,
          3,
          2,
          3,
          2,
          2,
          10,
          2,
          3,
          3,
          2,
          3,
          5,
          3,
          3,
          3,
          5,
          3,
          2,
          3,
          3,
          3,
          5,
          2,
          2,
          2,
          3,
          5,
          3,
          3,
          2,
          3,
          3,
          3,
          3,
          2,
          5,
          5,
          3,
          5,
          2,
          3,
          3,
          3,
          3,
          2,
          3,
          3,
          2,
          6,
          5,
          5,
          3,
          3,
          6,
          3,
          10,
          3,
          3,
          2,
          3,
          3,
          2,
          2,
          3,
          6,
          5,
          5,
          5,
          5,
          5,
          5,
          5,
          10,
          3,
          3,
          3,
          3,
          2,
          3,
          5,
          3,
          3,
          2,
          4,
          3,
          3,
          5,
          3,
          3,
          3,
          3,
          3,
          5,
          3,
          3,
          3,
          6,
          2,
          3,
          2,
          2,
          3,
          4,
          2,
          3,
          2,
          3,
          2,
          3,
          2,
          3,
          2,
          3,
          2,
          3,
          3,
          3,
          6,
          3,
          2,
          2,
          2,
          2,
          2,
          3,
          3,
          6,
          3,
          3,
          3,
          3,
          2,
          8,
          3,
          5,
          6,
          6,
          6,
          3,
          3,
          3,
          3,
          3,
          3,
          2,
          2,
          2,
          3,
          3,
          3,
          2,
          3,
          2,
          5,
          3,
          3,
          3,
          3,
          3,
          3,
          3,
          3,
          3,
          3,
          3,
          3,
          3,
          3,
          3,
          3,
          3,
          3,
          3,
          3,
          3,
          3,
          3,
          2,
          2,
          3,
          3,
          3,
          3,
          3,
          3,
          2,
          2,
          3,
          3,
          3,
          3,
          5,
          3,
          3,
          3,
          2,
          3,
          3,
          2,
          3,
          3,
          3,
          3,
          3,
          3,
          3,
          2,
          3,
          3,
          5,
          5,
          2,
          6,
          3,
          6,
          3,
          3,
          3,
          5,
          2,
          2,
          3,
          3,
          5,
          3,
          3,
          3,
          3,
          2,
          3,
          3,
          3,
          3,
          3,
          3,
          2,
          2,
          3,
          3,
          3,
          4,
          3,
          3,
          4,
          3,
          3,
          5,
          4,
          3,
          4,
          5,
          3,
          3,
          2,
          2,
          3,
          5,
          3,
          3,
          3,
          2,
          2,
          2,
          10,
          3,
          6,
          4,
          3,
          5,
          3,
          3,
          3,
          3,
          3,
          3,
          2,
          3,
          2,
          3,
          5,
          5,
          3,
          3,
          3,
          3,
          2,
          3,
          2,
          3,
          5,
          3,
          6,
          5,
          3,
          3,
          3,
          3,
          3,
          10,
          2,
          3,
          5,
          3,
          3,
          3,
          3,
          3,
          3,
          5,
          3,
          4,
          5,
          3,
          3,
          5,
          3,
          3,
          3,
          2,
          3,
          3,
          5,
          5,
          3,
          10,
          2,
          2,
          3,
          2,
          3,
          3,
          3,
          3,
          3,
          3,
          2,
          6,
          10,
          10,
          6,
          3,
          2,
          3,
          3,
          3,
          3,
          3,
          3,
          3,
          2,
          3,
          3,
          2,
          3,
          3,
          3,
          3,
          3,
          2,
          3,
          3,
          3,
          3,
          3,
          3,
          3,
          2,
          3,
          3,
          3,
          3,
          3,
          3,
          3,
          3,
          3,
          3,
          3,
          5,
          2,
          3,
          3,
          3,
          3,
          3,
          3,
          3,
          3,
          3,
          3,
          3,
          5,
          3,
          3,
          2,
          5,
          3,
          3,
          3,
          2,
          3,
          3,
          3,
          5,
          3,
          3,
          2,
          2,
          3,
          3,
          2,
          4,
          3,
          3,
          3,
          3,
          3,
          3,
          2,
          3,
          3,
          3,
          5,
          3,
          3,
          3,
          3,
          3,
          2,
          3,
          2,
          3,
          3,
          3,
          3,
          3,
          2,
          3,
          3,
          3,
          3,
          3,
          3,
          3,
          6,
          3,
          3,
          3,
          3,
          3,
          3,
          3,
          3,
          3,
          5,
          3,
          3,
          3,
          5,
          3,
          3,
          3,
          3,
          3,
          3,
          3,
          3,
          3,
          3,
          3,
          3,
          3,
          5,
          3,
          3,
          5,
          3,
          2,
          3,
          3,
          3,
          3,
          5,
          3,
          3,
          3,
          4,
          3,
          3,
          3,
          3,
          3,
          3,
          3,
          3,
          3,
          3,
          3,
          2,
          3,
          3,
          3,
          3,
          3,
          2,
          3,
          2,
          3,
          3,
          3,
          3,
          3,
          3,
          3,
          3,
          6,
          3,
          3,
          3,
          3,
          5,
          2,
          3,
          3,
          3,
          3,
          3,
          3,
          3,
          3,
          3,
          3,
          3,
          3,
          3,
          3,
          2,
          3,
          3,
          3,
          3,
          3,
          6,
          3,
          2,
          3,
          2,
          2,
          2,
          2,
          3,
          3,
          3,
          2,
          3,
          3,
          3,
          3,
          3,
          3,
          3,
          3,
          2,
          2,
          3,
          3,
          3,
          2,
          3,
          2,
          2,
          3,
          3,
          2,
          3,
          3,
          3,
          3,
          3,
          3,
          3,
          2,
          3,
          3,
          3,
          3,
          3,
          3,
          3,
          3,
          3,
          3,
          3,
          3,
          3,
          3,
          3,
          2,
          3,
          3,
          3,
          3,
          3,
          3,
          3,
          3,
          3,
          3,
          3,
          2,
          3,
          3,
          3,
          3,
          3,
          3,
          2,
          3,
          3,
          3,
          3,
          3,
          3,
          3,
          3,
          3,
          3,
          3,
          2,
          3,
          3,
          3,
          2,
          3,
          3,
          2,
          2,
          2,
          3,
          3,
          2,
          3,
          2,
          2,
          2,
          3,
          3,
          3,
          3,
          2,
          3,
          3,
          3,
          3,
          3,
          3,
          3,
          3,
          3,
          3,
          2,
          2,
          3,
          3,
          3,
          3,
          2,
          2,
          5,
          3,
          2,
          3,
          3,
          3,
          3,
          3,
          3,
          3,
          3,
          3,
          3,
          3,
          3,
          3,
          3,
          3,
          3,
          3,
          5,
          3,
          3,
          3,
          3,
          3,
          3,
          3,
          3,
          3,
          3,
          3,
          3,
          3,
          3,
          3,
          3,
          3,
          3,
          3,
          3,
          3,
          3,
          3,
          3,
          3,
          6,
          5,
          5,
          4,
          3,
          5,
          12,
          3,
          12,
          5,
          24,
          6,
          3,
          6,
          2,
          3,
          4,
          3,
          3,
          12,
          3,
          12,
          24,
          3,
          3,
          3,
          3,
          3,
          3,
          10,
          10,
          3,
          2,
          3,
          3,
          2,
          2,
          3,
          3,
          5,
          6,
          6,
          6,
          3,
          2,
          2,
          3,
          5,
          3,
          2,
          2,
          2,
          3,
          3,
          3,
          2,
          3,
          5,
          5,
          6,
          2,
          3,
          3,
          2,
          3,
          6,
          10,
          6,
          3,
          3,
          3,
          3,
          3,
          3,
          3,
          3,
          3,
          2,
          3,
          10,
          3,
          3,
          12,
          18,
          24,
          24,
          24,
          3,
          12,
          3,
          24,
          5,
          24,
          9,
          3,
          3,
          6,
          24,
          3,
          24,
          12,
          3,
          6,
          24,
          18,
          3,
          18,
          24,
          3,
          24,
          12,
          12,
          12,
          24,
          24,
          24,
          24,
          2,
          24,
          24,
          2,
          24,
          5,
          3,
          24,
          3,
          24,
          12,
          24,
          18,
          12,
          12,
          12,
          12,
          12,
          3,
          12,
          18,
          3,
          24,
          3,
          18,
          24,
          24,
          3,
          24,
          12,
          24,
          24,
          12,
          3,
          24,
          3,
          12,
          12,
          12,
          12,
          24,
          3,
          24,
          24,
          3,
          3,
          3,
          3,
          3,
          3,
          3,
          3,
          3,
          2,
          2,
          3,
          2,
          2,
          2,
          3,
          2,
          2,
          5,
          3,
          2,
          2,
          3,
          2,
          2,
          2,
          2,
          3,
          2,
          5,
          3,
          3,
          5,
          7,
          3,
          5,
          3,
          5,
          5,
          3,
          3,
          4,
          2,
          2,
          2,
          5,
          3,
          6,
          3,
          4,
          3,
          3,
          4,
          3,
          3,
          3,
          3,
          9,
          3,
          2,
          3,
          3,
          3,
          3,
          5,
          2,
          2,
          3,
          2,
          3,
          6,
          2,
          2,
          2,
          2,
          3,
          2,
          3,
          3,
          2,
          2,
          3,
          2,
          10,
          2,
          5,
          3,
          3,
          10,
          3,
          3,
          3,
          2,
          3,
          3,
          3,
          3,
          2,
          3,
          3,
          3,
          3,
          3,
          3,
          3,
          3,
          3,
          3,
          3,
          3,
          3,
          3,
          3,
          3,
          3,
          3,
          3,
          3,
          3,
          3,
          3,
          3,
          3,
          3,
          3,
          3,
          3,
          3,
          3,
          3,
          3,
          3,
          2,
          5,
          3,
          3,
          3,
          2,
          3,
          3,
          2,
          3,
          3,
          2,
          3,
          3,
          3,
          3,
          3,
          3,
          3,
          2,
          3,
          3,
          3,
          2,
          2,
          3,
          6,
          3,
          3,
          3,
          3,
          3,
          6,
          3,
          6,
          3,
          3,
          6,
          3,
          3,
          2,
          3,
          3,
          3,
          3,
          5,
          2,
          3,
          2,
          3,
          5,
          4,
          5,
          5,
          10,
          3,
          3,
          3,
          3,
          3,
          3,
          4,
          3,
          3,
          3,
          3,
          2,
          3,
          5,
          2,
          3,
          3,
          3,
          3,
          3,
          5,
          6,
          5,
          3,
          3,
          2,
          3,
          3,
          2,
          2,
          3,
          3,
          6,
          3,
          3,
          5,
          3,
          3,
          3,
          2,
          3,
          4,
          3,
          2,
          2,
          3,
          3,
          3,
          3,
          3,
          3,
          2,
          3,
          3,
          3,
          6,
          2,
          3,
          3,
          3,
          6,
          5,
          2,
          3,
          6,
          3,
          2,
          2,
          3,
          6,
          2,
          3,
          2,
          2,
          2,
          3,
          3,
          3,
          5,
          7,
          3,
          2,
          3,
          6,
          3,
          3,
          3,
          3,
          3,
          3,
          3,
          3,
          3,
          3,
          6,
          3,
          3,
          2,
          2,
          3,
          3,
          3,
          3,
          2,
          3,
          5,
          3,
          3,
          3,
          3,
          3,
          3,
          3,
          3,
          3,
          3,
          3,
          3,
          3,
          3,
          2,
          2,
          3,
          3,
          3,
          3,
          3,
          3,
          3,
          3,
          3,
          2,
          3,
          3,
          2,
          3,
          3,
          2,
          3,
          2,
          3,
          2,
          3,
          3,
          3,
          3,
          2,
          3,
          2,
          3,
          2,
          3,
          2,
          3,
          3,
          3,
          3,
          3,
          2,
          3,
          3,
          3,
          3,
          3,
          3,
          3,
          3,
          3,
          3,
          3,
          3,
          3,
          2,
          3,
          3,
          3,
          3,
          3,
          3,
          6,
          3,
          12,
          3,
          3,
          3,
          5,
          3,
          2,
          2,
          3,
          3,
          3,
          3,
          3,
          2,
          3,
          3,
          3,
          5,
          2,
          7,
          2,
          3,
          3,
          2,
          2,
          5,
          3,
          5,
          5,
          5,
          5,
          5,
          3,
          3,
          3,
          3,
          3,
          3,
          3,
          5,
          2,
          5,
          5,
          6,
          2,
          2,
          3,
          3,
          3,
          3,
          3,
          3,
          3,
          3,
          3,
          5,
          3,
          5,
          3,
          5,
          5,
          3,
          2,
          3,
          3,
          3,
          5,
          5,
          6,
          2,
          3,
          5,
          3,
          3,
          3,
          8,
          5,
          3,
          2,
          2,
          5,
          2,
          2,
          3,
          5,
          6,
          2,
          3,
          2,
          3,
          2,
          3,
          5,
          3,
          3,
          2,
          3,
          3,
          4,
          3,
          3,
          3,
          2,
          3,
          3,
          3,
          3,
          3,
          3,
          3,
          3,
          2,
          3,
          3,
          6,
          6,
          6,
          2,
          5,
          3,
          6,
          3,
          3,
          6,
          3,
          20,
          2,
          3,
          3,
          2,
          3,
          2,
          3,
          2,
          2,
          3,
          3,
          3,
          3,
          3,
          3,
          3,
          2,
          3,
          3,
          3,
          3,
          2,
          3,
          3,
          3,
          3,
          2,
          3,
          3,
          3,
          3,
          3,
          5,
          2,
          6,
          5,
          3,
          5,
          6,
          3,
          3,
          3,
          3,
          3,
          3,
          3,
          3,
          2,
          3,
          3,
          3,
          3,
          2,
          2,
          3,
          3,
          3,
          3,
          3,
          3,
          3,
          2,
          2,
          3,
          4,
          3,
          3,
          3,
          6,
          3,
          3,
          3,
          3,
          3,
          2,
          3,
          3,
          2,
          2,
          3,
          2,
          5,
          3,
          2,
          3,
          3,
          2,
          2,
          3,
          3,
          3,
          3,
          3,
          5,
          3,
          3,
          3,
          5,
          3,
          3,
          3,
          3,
          2,
          3,
          5,
          2,
          5,
          3,
          5,
          5,
          3,
          2,
          3,
          6,
          3,
          3,
          3,
          3,
          5,
          5,
          3,
          2,
          3,
          3,
          3,
          3,
          3,
          3,
          5,
          2,
          3,
          3,
          3,
          2,
          2,
          3,
          2,
          3,
          2,
          5,
          3,
          2,
          5,
          5,
          3,
          3,
          3,
          3,
          3,
          5,
          5,
          5,
          5,
          5,
          5,
          5,
          10,
          3,
          3,
          3,
          2,
          3,
          3,
          3,
          3,
          3,
          2,
          3,
          3,
          2,
          3,
          3,
          3,
          24,
          3,
          10,
          3,
          2,
          3,
          2,
          2,
          3,
          2,
          2,
          2,
          2,
          2,
          3,
          3,
          3,
          2,
          3,
          5,
          3,
          3,
          2,
          3,
          3,
          2,
          2,
          3,
          3,
          4,
          3,
          3,
          3,
          2,
          2,
          3,
          2,
          3,
          2,
          3,
          5,
          3,
          3,
          2,
          3,
          2,
          3,
          6,
          3,
          2,
          3,
          2,
          5,
          4,
          4,
          3,
          4,
          3,
          3,
          2,
          2,
          3,
          3,
          2,
          2,
          3,
          3,
          3,
          3,
          2,
          2,
          2,
          2,
          3,
          2,
          3,
          2,
          2,
          4,
          3,
          12,
          5,
          12,
          6,
          6,
          3,
          3,
          6,
          5,
          6,
          5,
          3,
          3,
          5,
          3,
          3,
          3,
          5,
          5,
          3,
          6,
          5,
          3,
          5,
          5,
          5,
          3,
          6,
          6,
          5,
          3,
          6,
          2,
          3,
          3,
          10,
          6,
          3,
          3,
          3,
          3,
          2,
          3,
          2,
          3,
          3,
          3,
          3,
          2,
          3,
          3,
          2,
          5,
          12,
          10,
          12,
          3,
          3,
          3,
          3,
          3,
          3,
          3,
          2,
          3,
          3,
          2,
          2,
          3,
          2,
          2,
          3,
          3,
          3,
          2,
          3,
          2,
          3,
          3,
          2,
          2,
          3,
          3,
          3,
          5,
          2,
          3,
          5,
          2,
          3,
          5,
          2,
          5,
          5,
          3,
          3,
          5,
          3,
          3,
          3,
          2,
          3,
          3,
          3,
          3,
          3,
          5,
          6,
          2,
          3,
          3,
          3,
          3,
          3,
          3,
          5,
          3,
          2,
          2,
          5,
          3,
          3,
          3,
          4,
          2,
          5,
          3,
          3,
          3,
          3,
          3,
          2,
          5,
          3,
          3,
          5,
          3,
          5,
          3,
          2,
          5,
          3,
          3,
          2,
          2,
          3,
          3,
          3,
          3,
          12,
          3,
          2,
          12,
          2,
          2,
          3,
          3,
          2,
          3,
          3,
          3,
          3,
          4,
          3,
          4,
          2,
          3,
          3,
          3,
          3,
          8,
          3,
          3,
          2,
          3,
          3,
          4,
          3,
          3,
          2,
          3,
          2,
          3,
          4,
          3,
          2,
          2,
          3,
          3,
          2,
          3,
          3,
          3,
          3,
          2,
          3,
          3,
          3,
          3,
          3,
          2,
          3,
          3,
          2,
          3,
          3,
          2,
          3,
          2,
          3,
          2,
          2,
          3,
          3,
          3,
          5,
          3,
          3,
          3,
          3,
          2,
          2,
          3,
          2,
          3,
          2,
          2,
          3,
          2,
          2,
          3,
          3,
          3,
          3,
          2,
          3,
          2,
          3,
          2,
          3,
          2,
          3,
          3,
          2,
          2,
          2,
          3,
          3,
          3,
          2,
          3,
          3,
          3,
          3,
          3,
          3,
          3,
          3,
          3,
          3,
          3,
          3,
          24,
          12,
          3,
          2,
          3,
          12,
          3,
          3,
          3,
          10,
          12,
          3,
          3,
          10,
          3,
          5,
          3,
          3,
          3,
          3,
          3,
          3,
          3,
          3,
          3,
          3,
          3,
          3,
          3,
          3,
          3,
          3,
          3,
          3,
          3,
          3,
          3,
          3,
          3,
          3,
          3,
          5,
          5,
          3,
          3,
          3,
          3,
          3,
          5,
          3,
          3,
          3,
          6,
          3,
          6,
          3,
          3,
          3,
          2,
          3,
          5,
          5,
          3,
          5,
          3,
          3,
          2,
          5,
          5,
          2,
          5,
          3,
          3,
          3,
          2,
          2,
          3,
          5,
          3,
          2,
          3,
          3,
          2,
          2,
          3,
          3,
          3,
          3,
          3,
          3,
          3,
          3,
          3,
          2,
          3,
          3,
          5,
          3,
          3,
          6,
          3,
          2,
          5,
          2,
          2,
          3,
          3,
          3,
          3,
          3,
          2,
          3,
          2,
          3,
          3,
          3,
          2,
          3,
          3,
          3,
          3,
          3,
          3,
          3,
          3,
          3,
          3,
          3,
          3,
          3,
          2,
          2,
          2,
          2,
          2,
          2,
          2,
          3,
          3,
          3,
          2,
          2,
          3,
          3,
          2,
          2,
          3,
          2,
          3,
          3,
          2,
          3,
          3,
          3,
          3,
          3,
          3,
          3,
          2,
          6,
          2,
          2,
          2,
          3,
          3,
          3,
          3,
          3,
          3,
          3,
          3,
          3,
          2,
          2,
          3,
          3,
          3,
          2,
          2,
          3,
          3,
          3,
          3,
          3,
          2,
          3,
          3,
          3,
          2,
          3,
          3,
          2,
          6,
          2,
          8,
          5,
          6,
          3,
          6,
          3,
          10,
          3,
          3,
          3,
          3,
          3,
          3,
          3,
          3,
          2,
          2,
          2,
          2,
          2,
          3,
          2,
          3,
          2,
          3,
          2,
          2,
          2,
          3,
          3,
          3,
          2,
          3,
          3,
          3,
          3,
          3,
          10,
          2,
          2,
          3,
          2,
          3,
          2,
          2,
          3,
          3,
          3,
          3,
          3,
          5,
          3,
          3,
          3,
          3,
          2,
          3,
          3,
          3,
          5,
          3,
          3,
          2,
          3,
          3,
          2,
          3,
          2,
          3,
          2,
          2,
          2,
          2,
          3,
          6,
          3,
          3,
          3,
          3,
          2,
          3,
          3,
          3,
          3,
          6,
          2,
          3,
          3,
          5,
          3,
          3,
          3,
          3,
          3,
          3,
          3,
          5,
          3,
          3,
          3,
          2,
          4,
          2,
          2,
          3,
          3,
          3,
          3,
          3,
          2,
          2,
          3,
          2,
          3,
          3,
          3,
          2,
          3,
          3,
          3,
          3,
          3,
          3,
          3,
          3,
          2,
          3,
          2,
          3,
          4,
          6,
          2,
          3,
          3,
          3,
          2,
          2,
          2,
          3,
          2,
          2,
          3,
          3,
          3,
          3,
          2,
          3,
          3,
          5,
          6,
          3,
          3,
          5,
          3,
          3,
          3,
          3,
          3,
          3,
          5,
          5,
          2,
          3,
          3,
          6,
          3,
          3,
          3,
          3,
          3,
          3,
          3,
          3,
          3,
          5,
          3,
          2,
          12,
          2,
          2,
          2,
          2,
          3,
          2,
          3,
          5,
          2,
          2,
          2,
          3,
          3,
          3,
          3,
          3,
          2,
          2,
          3,
          2,
          3,
          3,
          3,
          2,
          2,
          3,
          3,
          2,
          2,
          3,
          3,
          2,
          3,
          3,
          3,
          3,
          3,
          3,
          3,
          3,
          3,
          5,
          3,
          3,
          3,
          3,
          3,
          2,
          3,
          3,
          2,
          3,
          3,
          5,
          6,
          2,
          2,
          2,
          3,
          6,
          3,
          3,
          3,
          3,
          3,
          3,
          3,
          2,
          3,
          5,
          3,
          3,
          3,
          3,
          3,
          2,
          3,
          2,
          10,
          3,
          3,
          3,
          2,
          3,
          3,
          3,
          6,
          3,
          3,
          3,
          3,
          3,
          3,
          5,
          2,
          3,
          3,
          3,
          3,
          2,
          3,
          12,
          3,
          3,
          3,
          10,
          3,
          3,
          10,
          3,
          3,
          3,
          2,
          3,
          3,
          3,
          4,
          3,
          3,
          2,
          3,
          3,
          3,
          3,
          3,
          3,
          3,
          5,
          3,
          2,
          3,
          3,
          3,
          3,
          3,
          6,
          6,
          6,
          3,
          6,
          3,
          3,
          6,
          6,
          6,
          2,
          2,
          3,
          3,
          2,
          3,
          3,
          3,
          5,
          3,
          5,
          4,
          3,
          3,
          3,
          3,
          2,
          3,
          3,
          3,
          3,
          3,
          3,
          3,
          3,
          3,
          3,
          2,
          2,
          3,
          3,
          3,
          3,
          3,
          3,
          3,
          3,
          3,
          3,
          2,
          3,
          3,
          3,
          2,
          3,
          3,
          2,
          6,
          2,
          3,
          7,
          7,
          3,
          4,
          3,
          3,
          2,
          2,
          2,
          3,
          3,
          3,
          2,
          2,
          3,
          3,
          3,
          3,
          3,
          2,
          3,
          3,
          3,
          5,
          5,
          4,
          2,
          3,
          3,
          6,
          3,
          3,
          3,
          3,
          3,
          2,
          3,
          3,
          6,
          3,
          3,
          2,
          3,
          4,
          2,
          3,
          3,
          3,
          3,
          3,
          6,
          3,
          3,
          3,
          6,
          3,
          3,
          6,
          3,
          3,
          6,
          2,
          3,
          3,
          4,
          5,
          3,
          3,
          3,
          2,
          3,
          3,
          3,
          5,
          3,
          3,
          2,
          3,
          3,
          5,
          3,
          3,
          3,
          3,
          6,
          3,
          3,
          2,
          3,
          5,
          3,
          2,
          5,
          3,
          2,
          12,
          3,
          2,
          3,
          2,
          3,
          3,
          2,
          6,
          3,
          4,
          2,
          4,
          2,
          3,
          3,
          3,
          2,
          3,
          3,
          3,
          2,
          5,
          3,
          10,
          3,
          3,
          10,
          3,
          3,
          3,
          3,
          3,
          3,
          2,
          3,
          3,
          3,
          3,
          3,
          3,
          3,
          3,
          3,
          3,
          3,
          3,
          3,
          3,
          3,
          3,
          2,
          5,
          2,
          3,
          3,
          3,
          3,
          3,
          3,
          6,
          5,
          6,
          3,
          6,
          3,
          2,
          10,
          6,
          3,
          4,
          3,
          12,
          3,
          7,
          3,
          3,
          3,
          2,
          3,
          2,
          3,
          3,
          2,
          3,
          2,
          3,
          3,
          6,
          3,
          6,
          6,
          3,
          3,
          3,
          3,
          3,
          3,
          3,
          2,
          3,
          3,
          5,
          3,
          3,
          3,
          3,
          3,
          3,
          3,
          3,
          3,
          3,
          3,
          3,
          3,
          3,
          3,
          3,
          3,
          3,
          3,
          3,
          3,
          3,
          3,
          3,
          2,
          3,
          2,
          2,
          3,
          2,
          12,
          3,
          3,
          5,
          3,
          2,
          3,
          4,
          3,
          2,
          3,
          3,
          3,
          3,
          3,
          3,
          2,
          3,
          3,
          5,
          3,
          2,
          2,
          3,
          2,
          3,
          3,
          3,
          3,
          2,
          2,
          3,
          3,
          3,
          3,
          4,
          4,
          3,
          3,
          4,
          2,
          2,
          3,
          2,
          2,
          2,
          2,
          3,
          2,
          2,
          2,
          3,
          3,
          3,
          3,
          3,
          3,
          2,
          3,
          2,
          2,
          3,
          3,
          3,
          3,
          3,
          3,
          6,
          3,
          3,
          3,
          3,
          2,
          3,
          3,
          2,
          3,
          3,
          5,
          2,
          3,
          5,
          2,
          5,
          3,
          5,
          3,
          5,
          3,
          5,
          3,
          3,
          3,
          3,
          3,
          2,
          3,
          4,
          3,
          4,
          4,
          5,
          3,
          2,
          4,
          5,
          3,
          2,
          3,
          5,
          3,
          3,
          2,
          3,
          10,
          3,
          5,
          3,
          3,
          2,
          3,
          3,
          2,
          2,
          3,
          2,
          3,
          2,
          5,
          3,
          3,
          4,
          2,
          3,
          3,
          2,
          3,
          5,
          3,
          3,
          2,
          2,
          3,
          3,
          3,
          3,
          3,
          2,
          3,
          3,
          2,
          2,
          2,
          3,
          5,
          3,
          5,
          5,
          3,
          2,
          3,
          2,
          5,
          3,
          4,
          3,
          3,
          3,
          3,
          2,
          2,
          3,
          3,
          3,
          3,
          4,
          3,
          2,
          3,
          3,
          3,
          5,
          3,
          3,
          3,
          3,
          3,
          3,
          3,
          3,
          3,
          3,
          3,
          3,
          3,
          3,
          3,
          2,
          3,
          2,
          3,
          3,
          3,
          3,
          3,
          3,
          2,
          2,
          2,
          5,
          3,
          3,
          6,
          3,
          3,
          3,
          2,
          2,
          2,
          2,
          3,
          5,
          3,
          3,
          2,
          3,
          2,
          3,
          3,
          3,
          2,
          3,
          3,
          3,
          3,
          3,
          3,
          2,
          3,
          5,
          2,
          3,
          3,
          6,
          2,
          3,
          3,
          3,
          2,
          5,
          3,
          3,
          3,
          3,
          2,
          2,
          2,
          3,
          2,
          2,
          3,
          3,
          3,
          3,
          3,
          2,
          3,
          5,
          3,
          3,
          5,
          3,
          3,
          4,
          3,
          2,
          3,
          3,
          3,
          3,
          2,
          3,
          3,
          3,
          3,
          5,
          5,
          3,
          3,
          3,
          3,
          3,
          3,
          3,
          3,
          3,
          2,
          3,
          3,
          3,
          3,
          3,
          3,
          5,
          5,
          3,
          2,
          3,
          3,
          2,
          5,
          3,
          2,
          2,
          3,
          3,
          3,
          12,
          3,
          3,
          3,
          2,
          3,
          2,
          3,
          3,
          3,
          3,
          3,
          5,
          5,
          3,
          3,
          2,
          2,
          2,
          2,
          3,
          5,
          3,
          3,
          3,
          3,
          3,
          3,
          3,
          3,
          3,
          3,
          2,
          3,
          3,
          2,
          3,
          3,
          3,
          3,
          3,
          5,
          3,
          3,
          3,
          3,
          3,
          2,
          3,
          2,
          3,
          3,
          2,
          3,
          3,
          3,
          2,
          2,
          3,
          3,
          5,
          3,
          3,
          3,
          3,
          10,
          2,
          3,
          3,
          3,
          3,
          3,
          5,
          3,
          3,
          3,
          3,
          3,
          3,
          3,
          3,
          3,
          3,
          3,
          3,
          3,
          5,
          2,
          3,
          3,
          3,
          3,
          3,
          3,
          2,
          3,
          3,
          3,
          3,
          3,
          5,
          6,
          3,
          2,
          3,
          5,
          10,
          3,
          3,
          3,
          3,
          5,
          3,
          3,
          3,
          3,
          3,
          3,
          3,
          2,
          2,
          2,
          3,
          3,
          5,
          3,
          2,
          3,
          3,
          3,
          5,
          3,
          3,
          3,
          3,
          3,
          3,
          2,
          3,
          3,
          3,
          5,
          3,
          6,
          10,
          3,
          3,
          2,
          3,
          2,
          3,
          3,
          3,
          3,
          3,
          3,
          6,
          2,
          3,
          5,
          3,
          5,
          3,
          3,
          3,
          5,
          3,
          3,
          3,
          2,
          3,
          3,
          5,
          3,
          3,
          12,
          3,
          3,
          3,
          2,
          5,
          2,
          3,
          3,
          5,
          3,
          3,
          3,
          3,
          3,
          8,
          5,
          3,
          3,
          3,
          3,
          5,
          3,
          5,
          3,
          2,
          3,
          2,
          3,
          3,
          3,
          3,
          3,
          2,
          2,
          3,
          3,
          3,
          5,
          3,
          5,
          3,
          10,
          3,
          5,
          3,
          3,
          3,
          5,
          3,
          3,
          3,
          3,
          3,
          3,
          2,
          6,
          3,
          3,
          3,
          3,
          3,
          2,
          3,
          5,
          3,
          3,
          3,
          3,
          2,
          10,
          2,
          2,
          2,
          2,
          3,
          3,
          3,
          3,
          3,
          3,
          2,
          3,
          5,
          3,
          3,
          3,
          3,
          3,
          3,
          2,
          3,
          3,
          6,
          5,
          6,
          3,
          3,
          3,
          3,
          5,
          3,
          3,
          5,
          3,
          10,
          2,
          3,
          3,
          3,
          3,
          3,
          3,
          3,
          3,
          3,
          3,
          2,
          3,
          3,
          3,
          2,
          3,
          3,
          3,
          3,
          3,
          7,
          5,
          3,
          5,
          3,
          2,
          3,
          3,
          3,
          3,
          3,
          10,
          3,
          2,
          3,
          3,
          3,
          3,
          3,
          3,
          3,
          2,
          2,
          2,
          3,
          8,
          3,
          5,
          3,
          3,
          5,
          3,
          3,
          2,
          3,
          2,
          2,
          3,
          3,
          3,
          3,
          2,
          3,
          3,
          3,
          3,
          3,
          5,
          5,
          3,
          3,
          3,
          3,
          5,
          5,
          5,
          3,
          5,
          3,
          3,
          2,
          8,
          5,
          5,
          3,
          3,
          3,
          3,
          2,
          3,
          2,
          3,
          2,
          3,
          8,
          5,
          3,
          5,
          3,
          3,
          3,
          3,
          5,
          3,
          5,
          5,
          5,
          3,
          2,
          3,
          3,
          3,
          5,
          3,
          5,
          5,
          5,
          3,
          3,
          3,
          8,
          2,
          2,
          3,
          5,
          3,
          5,
          5,
          3,
          3,
          3,
          5,
          5,
          3,
          2,
          3,
          5,
          3,
          3,
          5,
          3,
          3,
          5,
          3,
          5,
          3,
          3,
          2,
          3,
          3,
          5,
          3,
          5,
          3,
          8,
          5,
          5,
          3,
          5,
          3,
          3,
          3,
          3,
          3,
          5,
          5,
          5,
          5,
          3,
          5,
          5,
          5,
          5,
          3,
          5,
          10,
          3,
          2,
          3,
          3,
          5,
          2,
          3,
          3,
          3,
          3,
          10,
          3,
          3,
          3,
          3,
          3,
          3,
          2,
          3,
          3,
          5,
          2,
          3,
          3,
          3,
          6,
          3,
          6,
          3,
          3,
          3,
          3,
          3,
          5,
          3,
          3,
          8,
          3,
          3,
          3,
          2,
          3,
          6,
          2,
          3,
          2,
          10,
          2,
          3,
          6,
          3,
          3,
          8,
          5,
          3,
          3,
          5,
          3,
          3,
          3,
          3,
          3,
          3,
          2,
          6,
          3,
          2,
          3,
          3,
          2,
          3,
          5,
          3,
          6,
          3,
          5,
          6,
          5,
          6,
          8,
          3,
          5,
          6,
          3,
          2,
          3,
          2,
          3,
          3,
          2,
          3,
          3,
          6,
          2,
          3,
          3,
          3,
          5,
          3,
          3,
          3,
          3,
          3,
          3,
          2,
          3,
          3,
          5,
          5,
          3,
          6,
          2,
          8,
          3,
          3,
          3,
          3,
          6,
          3,
          3,
          3,
          5,
          3,
          3,
          5,
          6,
          3,
          3,
          5,
          3,
          3,
          3,
          3,
          3,
          2,
          3,
          3,
          3,
          2,
          2,
          3,
          3,
          3,
          3,
          3,
          3,
          8,
          3,
          3,
          6,
          6,
          2,
          3,
          6,
          5,
          2,
          3,
          3,
          2,
          3,
          2,
          3,
          3,
          3,
          2,
          6,
          6,
          2,
          6,
          10,
          3,
          6,
          2,
          3,
          5,
          3,
          3,
          3,
          3,
          3,
          3,
          5,
          2,
          6,
          5,
          3,
          3,
          3,
          3,
          3,
          3,
          3,
          3,
          3,
          3,
          3,
          6,
          10,
          10,
          3,
          3,
          5,
          3,
          3,
          3,
          5,
          3,
          3,
          3,
          2,
          2,
          3,
          3,
          3,
          3,
          5,
          5,
          5,
          5,
          5,
          5,
          5,
          12,
          5,
          2,
          2,
          3,
          3,
          2,
          3,
          3,
          3,
          3,
          3,
          3,
          3,
          3,
          3,
          3,
          3,
          3,
          2,
          2,
          3,
          2,
          2,
          3,
          2,
          3,
          3,
          2,
          3,
          3,
          2,
          2,
          3,
          3,
          3,
          2,
          2,
          2,
          2,
          3,
          3,
          3,
          2,
          3,
          6,
          12,
          3,
          3,
          2,
          2,
          3,
          5,
          5,
          3,
          2,
          3,
          3,
          2,
          2,
          2,
          3,
          4,
          2,
          3,
          3,
          2,
          5,
          2,
          3,
          3,
          3,
          3,
          3,
          2,
          2,
          3,
          3,
          3,
          3,
          2,
          3,
          3,
          3,
          3,
          3,
          3,
          3,
          3,
          3,
          3,
          3,
          3,
          3,
          3,
          3,
          3,
          3,
          3,
          3,
          3,
          3,
          3,
          3,
          3,
          3,
          3,
          3,
          3,
          3,
          2,
          3,
          3,
          3,
          3,
          3,
          3,
          3,
          3,
          3,
          3,
          3,
          2,
          12,
          3,
          3,
          5,
          3,
          10,
          10,
          3,
          3,
          8,
          7,
          3,
          2,
          2,
          3,
          2,
          2,
          3,
          3,
          2,
          2,
          7,
          5,
          4,
          5,
          6,
          8,
          5,
          5,
          7,
          8,
          10,
          3,
          3,
          3,
          3,
          3,
          3,
          3,
          6,
          2,
          3,
          2,
          6,
          3,
          2,
          4,
          3,
          3,
          2,
          3,
          3,
          3,
          2,
          6,
          2,
          3,
          3,
          2,
          2,
          3,
          2,
          3,
          3,
          6,
          3,
          3,
          6,
          4,
          2,
          2,
          3,
          3,
          3,
          2,
          3,
          2,
          5,
          5,
          2,
          2,
          2,
          4,
          3,
          2,
          5,
          10,
          3,
          3,
          2,
          3,
          3,
          2,
          2,
          3,
          2,
          3,
          3,
          3,
          3,
          3,
          3,
          3,
          3,
          3,
          3,
          3,
          3,
          3,
          3,
          3,
          3,
          3,
          3,
          3,
          3,
          3,
          3,
          3,
          3,
          3,
          3,
          3,
          5,
          3,
          3,
          3,
          3,
          3,
          2,
          2,
          2,
          3,
          3,
          3,
          3,
          2,
          2,
          3,
          2,
          3,
          2,
          2,
          3,
          5,
          3,
          2,
          3,
          3,
          3,
          2,
          2,
          3,
          3,
          2,
          3,
          3,
          2,
          3,
          2,
          3,
          2,
          3,
          2,
          3,
          3,
          2,
          2,
          3,
          3,
          3,
          3,
          3,
          3,
          3,
          2,
          3,
          3,
          2,
          3,
          3,
          3,
          3,
          3,
          3,
          3,
          3,
          3,
          3,
          3,
          3,
          3,
          3,
          3,
          3,
          5,
          2,
          2,
          3,
          3,
          3,
          10,
          5,
          2,
          5,
          24,
          3,
          3,
          3,
          3,
          3,
          2,
          3,
          2,
          2,
          2,
          3,
          3,
          3,
          2,
          3,
          2,
          2,
          3,
          2,
          2,
          3,
          2,
          3,
          3,
          2,
          3,
          2,
          3,
          2,
          3,
          3,
          2,
          3,
          3,
          3,
          3,
          3,
          2,
          3,
          3,
          3,
          3,
          3,
          3,
          3,
          3,
          4,
          5,
          3,
          4,
          4,
          4,
          4,
          3,
          3,
          7,
          5,
          5,
          5,
          5,
          5,
          5,
          5,
          5,
          5,
          5,
          5,
          4,
          4,
          5,
          5,
          4,
          4,
          5,
          2,
          3,
          3,
          3,
          3,
          3,
          3,
          5,
          3,
          5,
          5,
          5,
          3,
          2,
          2,
          2,
          2,
          5,
          3,
          3,
          2,
          2,
          3,
          3,
          3,
          2,
          3,
          3,
          3,
          3,
          3,
          3,
          3,
          3,
          2,
          3,
          2,
          2,
          3,
          2,
          3,
          3,
          3,
          3,
          2,
          3,
          3,
          3,
          2,
          6,
          3,
          3,
          3,
          3,
          3,
          3,
          2,
          3,
          3,
          2,
          3,
          3,
          3,
          3,
          2,
          2,
          3,
          3,
          2,
          3,
          3,
          3,
          2,
          3,
          3,
          3,
          2,
          3,
          3,
          3,
          3,
          3,
          2,
          3,
          3,
          3,
          3,
          2,
          3,
          3,
          3,
          5,
          2,
          3,
          3,
          3,
          3,
          2,
          3,
          2,
          2,
          2,
          3,
          2,
          3,
          3,
          3,
          3,
          3,
          3,
          3,
          3,
          2,
          2,
          3,
          2,
          2,
          3,
          3,
          3,
          4,
          2,
          3,
          3,
          2,
          2,
          2,
          3,
          3,
          3,
          3,
          2,
          3,
          3,
          3,
          3,
          3,
          3,
          5,
          3,
          3,
          3,
          3,
          2,
          3,
          3,
          2,
          2,
          3,
          2,
          3,
          3,
          3,
          2,
          2,
          2,
          2,
          3,
          3,
          3,
          3,
          2,
          2,
          3,
          3,
          3,
          3,
          2,
          2,
          2,
          3,
          3,
          2,
          3,
          3,
          3,
          3,
          3,
          2,
          3,
          3,
          3,
          12,
          12,
          3,
          5,
          6,
          2,
          5,
          4,
          2,
          3,
          3,
          3,
          3,
          3,
          3,
          3,
          3,
          3,
          3,
          6,
          3,
          6,
          3,
          3,
          6,
          3,
          3,
          3,
          3,
          3,
          6,
          3,
          3,
          3,
          2,
          3,
          6,
          3,
          3,
          3,
          3,
          2,
          5,
          3,
          3,
          3,
          3,
          3,
          2,
          3,
          3,
          3,
          2,
          2,
          3,
          3,
          2,
          3,
          3,
          3,
          3,
          2,
          3,
          2,
          3,
          3,
          2,
          3,
          3,
          2,
          3,
          3,
          2,
          3,
          3,
          2,
          3,
          3,
          5,
          2,
          3,
          3,
          3,
          3,
          3,
          3,
          3,
          3,
          3,
          2,
          3,
          3,
          3,
          3,
          2,
          3,
          3,
          4,
          3,
          2,
          2,
          3,
          2,
          3,
          3,
          3,
          3,
          3,
          3,
          2,
          2,
          2,
          3,
          3,
          2,
          3,
          3,
          3,
          2,
          5,
          3,
          8,
          3,
          3,
          5,
          3,
          3,
          5,
          3,
          3,
          3,
          5,
          5,
          3,
          3,
          3,
          3,
          3,
          3,
          5,
          3,
          9,
          3,
          5,
          3,
          3,
          3,
          5,
          5,
          3,
          5,
          5,
          3,
          3,
          10,
          3,
          3,
          3,
          3,
          3,
          3,
          5,
          3,
          5,
          12,
          3,
          3,
          12,
          12,
          3,
          3,
          3,
          3,
          3,
          6,
          3,
          6,
          3,
          3,
          3,
          3,
          3,
          3,
          3,
          2,
          3,
          3,
          3,
          3,
          3,
          2,
          2,
          3,
          2,
          2,
          5,
          3,
          3,
          2,
          2,
          3,
          3,
          3,
          3,
          3,
          3,
          3,
          3,
          3,
          3,
          3,
          3,
          3,
          3,
          3,
          3,
          3,
          2,
          3,
          3,
          2,
          3,
          3,
          3,
          6,
          6,
          6,
          3,
          3,
          3,
          3,
          3,
          2,
          3,
          3,
          3,
          3,
          5,
          3,
          10,
          3,
          3,
          2,
          3,
          3,
          3,
          3,
          3,
          3,
          3,
          2,
          2,
          3,
          6,
          6,
          12,
          5,
          6,
          6,
          6,
          5,
          5,
          5,
          5,
          2,
          3,
          3,
          3,
          3,
          3,
          3,
          3,
          3,
          3,
          3,
          3,
          3,
          10,
          2,
          2,
          4,
          2,
          3,
          3,
          3,
          3,
          2,
          2,
          2,
          3,
          3,
          3,
          3,
          4,
          3,
          3,
          3,
          3,
          2,
          6,
          3,
          3,
          2,
          3,
          3,
          3,
          3,
          3,
          3,
          3,
          3,
          3,
          3,
          2,
          3,
          3,
          3,
          3,
          2,
          3,
          3,
          2,
          3,
          2,
          3,
          3,
          2,
          3,
          2,
          3,
          3,
          2,
          2,
          2,
          2,
          3,
          3,
          3,
          3,
          3,
          3,
          10,
          5,
          5,
          3,
          3,
          3,
          3,
          3,
          3,
          3,
          3,
          2,
          3,
          3,
          3,
          2,
          5,
          3,
          3,
          3,
          3,
          3,
          3,
          3,
          3,
          3,
          3,
          3,
          3,
          3,
          3,
          3,
          3,
          3,
          3,
          2,
          2,
          2,
          3,
          3,
          3,
          3,
          3,
          3,
          3,
          3,
          3,
          3,
          3,
          3,
          3,
          3,
          3,
          3,
          3,
          3,
          2,
          2,
          2,
          3,
          3,
          3,
          2,
          3,
          2,
          3,
          3,
          3,
          3,
          3,
          3,
          3,
          3,
          3,
          3,
          3,
          3,
          3,
          3,
          3,
          3,
          3,
          3,
          2,
          2,
          2,
          2,
          3,
          2,
          3,
          3,
          3,
          3,
          3,
          3,
          3,
          3,
          3,
          3,
          3,
          3,
          3,
          3,
          3,
          3,
          3,
          2,
          3,
          3,
          3,
          3,
          2,
          3,
          3,
          3,
          3,
          3,
          3,
          3,
          2,
          3,
          3,
          2,
          3,
          3,
          3,
          3,
          3,
          3,
          3,
          2,
          3,
          3,
          2,
          3,
          3,
          3,
          3,
          3,
          3,
          3,
          6,
          3,
          5,
          6,
          3,
          3,
          3,
          3,
          4,
          6,
          5,
          3,
          6,
          2,
          5,
          3,
          5,
          3,
          6,
          2,
          3,
          3,
          3,
          4,
          3,
          6,
          6,
          6,
          6,
          6,
          5,
          3,
          3,
          3,
          5,
          3,
          3,
          3,
          3,
          2,
          3,
          3,
          3,
          3,
          2,
          2,
          2,
          3,
          2,
          2,
          3,
          2,
          2,
          2,
          3,
          3,
          3,
          2,
          3,
          3,
          2,
          2,
          2,
          3,
          2,
          3,
          3,
          3,
          2,
          3,
          3,
          3,
          3,
          2,
          3,
          3,
          3,
          3,
          2,
          5,
          5,
          6,
          6,
          3,
          6,
          5,
          6,
          3,
          6,
          5,
          3,
          4,
          6,
          6,
          3,
          3,
          3,
          3,
          3,
          5,
          3,
          5,
          3,
          5,
          3,
          3,
          5,
          3,
          3,
          3,
          5,
          5,
          3,
          5,
          3,
          2,
          5,
          5,
          2,
          3,
          3,
          3,
          3,
          5,
          3,
          3,
          3,
          3,
          3,
          5,
          3,
          3,
          3,
          2,
          3,
          2,
          2,
          3,
          2,
          2,
          3,
          3,
          2,
          4,
          3,
          5,
          3,
          4,
          3,
          2,
          5,
          3,
          5,
          3,
          5,
          5,
          2,
          5,
          3,
          5,
          5,
          5,
          3,
          3,
          3,
          3,
          5,
          3,
          3,
          3,
          3,
          3,
          3,
          2,
          5,
          3,
          3,
          5,
          3,
          5,
          5,
          3,
          3,
          2,
          6,
          6,
          6,
          3,
          3,
          3,
          3,
          3,
          2,
          3,
          3,
          3,
          3,
          6,
          2,
          2,
          3,
          2,
          10,
          6,
          2,
          3,
          2,
          2,
          2,
          3,
          2,
          2,
          3,
          3,
          2,
          3,
          3,
          2,
          3,
          3,
          3,
          3,
          3,
          3,
          3,
          3,
          3,
          3,
          3,
          2,
          3,
          3,
          3,
          3,
          3,
          3,
          3,
          3,
          3,
          2,
          3,
          3,
          3,
          3,
          3,
          3,
          2,
          3,
          3,
          3,
          3,
          3,
          3,
          3,
          3,
          3,
          3,
          3,
          3,
          12,
          2,
          3,
          3,
          3,
          3,
          6,
          3,
          3,
          3,
          3,
          2,
          2,
          3,
          2,
          3,
          2,
          3,
          2,
          3,
          2,
          2,
          3,
          3,
          2,
          3,
          3,
          2,
          2,
          3,
          3,
          2,
          3,
          3,
          3,
          3,
          3,
          3,
          2,
          2,
          2,
          3,
          2,
          3,
          3,
          3,
          2,
          2,
          2,
          3,
          3,
          2,
          3,
          2,
          2,
          2,
          3,
          3,
          2,
          3,
          2,
          2,
          3,
          3,
          2,
          2,
          3,
          2,
          3,
          2,
          2,
          2,
          2,
          3,
          3,
          2,
          3,
          2,
          3,
          3,
          3,
          3,
          3,
          2,
          3,
          2,
          3,
          3,
          3,
          3,
          3,
          3,
          3,
          3,
          3,
          3,
          3,
          3,
          3,
          3,
          3,
          3,
          3,
          3,
          3,
          2,
          3,
          3,
          3,
          3,
          3,
          3,
          3,
          3,
          3,
          3,
          3,
          3,
          3,
          3,
          5,
          3,
          3,
          10,
          3,
          3,
          3,
          3,
          3,
          3,
          5,
          6,
          3,
          3,
          5,
          3,
          5,
          5,
          5,
          10,
          3,
          10,
          5,
          5,
          5,
          3,
          3,
          3,
          5,
          5,
          3,
          5,
          3,
          5,
          5,
          5,
          5,
          6,
          3,
          3,
          10,
          5,
          5,
          5,
          6,
          3,
          3,
          5,
          2,
          3,
          3,
          3,
          6,
          3,
          5,
          4,
          3,
          3,
          3,
          3,
          3,
          3,
          3,
          2,
          3,
          3,
          3,
          2,
          2,
          2,
          2,
          3,
          2,
          3,
          2,
          2,
          3,
          3,
          2,
          2,
          2,
          2,
          2,
          3,
          2,
          3,
          3,
          3,
          3,
          2,
          2,
          3,
          3,
          3,
          3,
          3,
          3,
          10,
          3,
          3,
          2,
          3,
          3,
          3,
          2,
          5,
          3,
          2,
          2,
          3,
          3,
          2,
          5,
          3,
          3,
          5,
          5,
          3,
          2,
          6,
          2,
          2,
          3,
          2,
          3,
          3,
          3,
          2,
          3,
          3,
          3,
          3,
          3,
          5,
          2,
          3,
          2,
          6,
          5,
          5,
          5,
          6,
          5,
          3,
          3,
          3,
          6,
          3,
          3,
          3,
          3,
          3,
          3,
          3,
          3,
          3,
          3,
          3,
          3,
          6,
          2,
          20,
          3,
          12,
          3,
          20,
          3,
          12,
          10,
          10,
          3,
          12,
          3,
          12,
          3,
          2,
          3,
          12,
          10,
          20,
          5,
          12,
          3,
          12,
          6,
          5,
          10,
          12,
          3,
          3,
          10,
          5,
          3,
          3,
          6,
          6,
          2,
          3,
          2,
          2,
          2,
          2,
          3,
          3,
          3,
          3,
          2,
          5,
          6,
          3,
          12,
          12,
          5,
          3,
          10,
          12,
          10,
          3,
          3,
          3,
          3,
          2,
          2,
          2,
          2,
          2,
          2,
          3,
          3,
          3,
          3,
          3,
          3,
          3,
          3,
          3,
          6,
          3,
          5,
          3,
          5,
          3,
          3,
          24,
          6,
          5,
          3,
          3,
          2,
          3,
          5,
          2,
          3,
          2,
          3,
          3,
          3,
          3,
          2,
          3,
          3,
          3,
          3,
          3,
          3,
          3,
          3,
          3,
          5,
          3,
          3,
          3,
          3,
          3,
          2,
          3,
          3,
          2,
          2,
          3,
          3,
          2,
          3,
          2,
          3,
          2,
          2,
          3,
          3,
          3,
          3,
          3,
          2,
          3,
          3,
          3,
          5,
          3,
          3,
          2,
          3,
          3,
          3,
          5,
          2,
          3,
          3,
          2,
          3,
          3,
          3,
          3,
          3,
          3,
          2,
          3,
          3,
          3,
          2,
          2,
          3,
          3,
          2,
          2,
          3,
          3,
          3,
          2,
          3,
          3,
          3,
          3,
          3,
          3,
          3,
          2,
          3,
          3,
          3,
          3,
          3,
          3,
          3,
          3,
          2,
          3,
          2,
          3,
          3,
          3,
          3,
          3,
          2,
          3,
          3,
          3,
          3,
          3,
          3,
          3,
          3,
          3,
          3,
          3,
          2,
          3,
          3,
          3,
          3,
          3,
          3,
          3,
          3,
          2,
          3,
          3,
          3,
          3,
          3,
          3,
          3,
          2,
          3,
          3,
          3,
          3,
          3,
          3,
          3,
          3,
          2,
          3,
          3,
          2,
          3,
          3,
          3,
          3,
          3,
          3,
          2,
          3,
          3,
          3,
          3,
          3,
          3,
          3,
          3,
          3,
          3,
          3,
          3,
          2,
          3,
          3,
          3,
          3,
          3,
          3,
          3,
          3,
          3,
          3,
          3,
          3,
          3,
          3,
          3,
          3,
          5,
          3,
          3,
          3,
          3,
          3,
          3,
          3,
          3,
          2,
          3,
          2,
          3,
          3,
          3,
          3,
          3,
          3,
          3,
          2,
          3,
          3,
          2,
          3,
          3,
          2,
          3,
          3,
          3,
          3,
          2,
          3,
          2,
          3,
          3,
          5,
          2,
          3,
          3,
          3,
          3,
          2,
          3,
          3,
          3,
          24,
          24,
          24,
          2,
          2,
          2,
          2,
          5,
          3,
          2,
          2,
          3,
          2,
          3,
          3,
          2,
          2,
          3,
          3,
          3,
          2,
          2,
          6,
          6,
          6,
          6,
          6,
          6,
          3,
          3,
          2,
          3,
          5,
          3,
          2,
          12,
          3,
          6,
          3,
          3,
          12,
          2,
          3,
          4,
          3,
          2,
          2,
          6,
          3,
          3,
          2,
          5,
          3,
          4,
          5,
          2,
          6,
          5,
          3,
          4,
          5,
          6,
          3,
          4,
          2,
          6,
          6,
          3,
          3,
          5,
          3,
          2,
          6,
          5,
          6,
          3,
          3,
          3,
          3,
          3,
          3,
          3,
          3,
          3,
          3,
          3,
          3,
          2,
          3,
          10,
          3,
          6,
          3,
          3,
          2,
          3,
          2,
          2,
          3,
          3,
          2,
          3,
          3,
          3,
          3,
          3,
          2,
          2,
          3,
          3,
          3,
          2,
          3,
          2,
          3,
          3,
          2,
          3,
          2,
          3,
          3,
          3,
          3,
          3,
          3,
          3,
          3,
          2,
          3,
          2,
          3,
          3,
          3,
          3,
          2,
          2,
          3,
          3,
          3,
          3,
          3,
          3,
          3,
          2,
          3,
          3,
          3,
          3,
          3,
          3,
          6,
          3,
          3,
          2,
          3,
          3,
          3,
          2,
          2,
          3,
          3,
          3,
          3,
          2,
          3,
          3,
          12,
          3,
          10,
          10,
          3,
          2,
          3,
          2,
          2,
          3,
          2,
          2,
          3,
          3,
          3,
          3,
          3,
          5,
          2,
          2,
          3,
          3,
          3,
          3,
          3,
          3,
          12,
          2,
          2,
          2,
          2,
          2,
          6,
          4,
          5,
          2,
          3,
          6,
          6,
          6,
          6,
          6,
          6,
          6,
          6,
          6,
          6,
          6,
          6,
          6,
          6,
          6,
          3,
          2,
          3,
          3,
          3,
          3,
          2,
          2,
          3,
          3,
          3,
          2,
          3,
          3,
          10,
          3,
          3,
          2,
          3,
          3,
          3,
          3,
          5,
          2,
          5,
          3,
          5,
          2,
          2,
          3,
          2,
          3,
          5,
          2,
          3,
          5,
          5,
          5,
          5,
          5,
          3,
          3,
          3,
          2,
          3,
          3,
          2,
          3,
          3,
          3,
          3,
          3,
          3,
          3,
          2,
          3,
          2,
          3,
          3,
          3,
          10,
          10,
          5,
          10,
          2,
          3,
          3,
          3,
          3,
          10,
          3,
          3,
          3,
          3,
          3,
          3,
          3,
          2,
          3,
          3,
          3,
          2,
          3,
          3,
          2,
          2,
          3,
          3,
          3,
          6,
          5,
          3,
          3,
          3,
          3,
          3,
          3,
          3,
          3,
          3,
          3,
          3,
          3,
          3,
          3,
          3,
          3,
          3,
          6,
          3,
          3,
          3,
          3,
          3,
          3,
          3,
          3,
          3,
          3,
          3,
          3,
          3,
          3,
          3,
          3,
          3,
          3,
          3,
          3,
          3,
          3,
          3,
          2,
          2,
          3,
          3,
          2,
          3,
          3,
          3,
          3,
          2,
          3,
          3,
          3,
          3,
          10,
          2,
          3,
          2,
          3,
          2,
          2,
          2,
          2,
          3,
          3,
          3,
          3,
          3,
          2,
          3,
          2,
          2,
          3,
          3,
          3,
          3,
          2,
          3,
          3,
          2,
          3,
          3,
          3,
          3,
          3,
          3,
          2,
          3,
          3,
          3,
          3,
          3,
          3,
          3,
          2,
          2,
          2,
          3,
          3,
          3,
          3,
          3,
          3,
          3,
          3,
          3,
          3,
          3,
          3,
          2,
          2,
          3,
          2,
          2,
          3,
          2,
          3,
          3,
          3,
          3,
          3,
          3,
          3,
          6,
          3,
          3,
          3,
          3,
          3,
          3,
          3,
          3,
          3,
          3,
          3,
          5,
          3,
          3,
          3,
          3,
          3,
          3,
          3,
          3,
          3,
          3,
          2,
          3,
          2,
          3,
          2,
          3,
          3,
          3,
          5,
          5,
          3,
          3,
          3,
          3,
          3,
          3,
          3,
          3,
          3,
          3,
          3,
          2,
          2,
          6,
          3,
          3,
          2,
          2,
          3,
          2,
          5,
          3,
          3,
          3,
          3,
          3,
          2,
          2,
          9,
          3,
          3,
          2,
          3,
          3,
          3,
          3,
          3,
          3,
          3,
          3,
          3,
          3,
          3,
          3,
          3,
          3,
          3,
          2,
          3,
          3,
          3,
          2,
          3,
          3,
          3,
          3,
          3,
          2,
          3,
          2,
          2,
          3,
          3,
          3,
          2,
          3,
          3,
          3,
          2,
          3,
          3,
          3,
          3,
          3,
          3,
          3,
          3,
          3,
          3,
          3,
          3,
          3,
          5,
          5,
          3,
          10,
          10,
          5,
          12,
          5,
          3,
          5,
          2,
          3,
          3,
          2,
          2,
          2,
          3,
          4,
          2,
          3,
          3,
          3,
          3,
          3,
          2,
          3,
          12,
          12,
          12,
          10,
          12,
          10,
          8,
          8,
          10,
          10,
          12,
          12,
          12,
          12,
          10,
          12,
          8,
          5,
          12,
          6,
          3,
          10,
          10,
          12,
          12,
          10,
          2,
          3,
          2,
          3,
          3,
          3,
          3,
          3,
          3,
          3,
          3,
          5,
          3,
          6,
          3,
          3,
          3,
          2,
          6,
          3,
          3,
          5,
          2,
          3,
          5,
          3,
          3,
          2,
          3,
          2,
          5,
          6,
          3,
          2,
          3,
          3,
          3,
          5,
          3,
          3,
          3,
          3,
          10,
          3,
          2,
          3,
          3,
          3,
          3,
          3,
          3,
          2,
          2,
          5,
          3,
          3,
          3,
          3,
          3,
          3,
          3,
          2,
          3,
          3,
          3,
          3,
          2,
          2,
          5,
          3,
          3,
          3,
          2,
          3,
          3,
          2,
          3,
          3,
          3,
          3,
          4,
          3,
          3,
          3,
          3,
          3,
          3,
          3,
          3,
          6,
          3,
          3,
          3,
          3,
          3,
          3,
          3,
          2,
          3,
          3,
          3,
          3,
          3,
          3,
          2,
          3,
          12,
          12,
          6,
          6,
          6,
          10,
          10,
          6,
          6,
          10,
          3,
          5,
          3,
          5,
          6,
          3,
          4,
          7,
          3,
          12,
          5,
          3,
          6,
          12,
          5,
          5,
          5,
          10,
          10,
          10,
          10,
          5,
          10,
          10,
          12,
          5,
          10,
          3,
          3,
          3,
          6,
          6,
          3,
          2,
          5,
          3,
          3,
          5,
          5,
          3,
          5,
          2,
          3,
          3,
          3,
          3,
          3,
          3,
          2,
          3,
          2,
          3,
          2,
          3,
          3,
          3,
          3,
          2,
          2,
          2,
          3,
          2,
          2,
          4,
          3,
          2,
          5,
          5,
          5,
          10,
          12,
          6,
          3,
          4,
          3,
          3,
          3,
          3,
          3,
          3,
          3,
          3,
          3,
          3,
          3,
          3,
          3,
          3,
          3,
          3,
          3,
          3,
          3,
          3,
          3,
          3,
          3,
          3,
          3,
          2,
          3,
          3,
          3,
          3,
          3,
          3,
          3,
          3,
          3,
          3,
          3,
          3,
          3,
          3,
          3,
          3,
          3,
          3,
          3,
          3,
          2,
          3,
          3,
          3,
          3,
          3,
          3,
          3,
          3,
          3,
          3,
          3,
          3,
          3,
          3,
          3,
          3,
          2,
          3,
          3,
          3,
          3,
          3,
          3,
          3,
          6,
          2,
          3,
          3,
          3,
          3,
          3,
          3,
          2,
          3,
          3,
          3,
          3,
          3,
          3,
          3,
          3,
          3,
          2,
          2,
          2,
          2,
          12,
          3,
          3,
          3,
          3,
          3,
          3,
          4,
          6,
          3,
          2,
          2,
          2,
          3,
          3,
          3,
          6,
          3,
          3,
          5,
          3,
          3,
          2,
          3,
          2,
          2,
          2,
          8,
          3,
          3,
          2,
          3,
          6,
          3,
          2,
          2,
          3,
          2,
          2,
          3,
          2,
          3,
          5,
          3,
          3,
          3,
          3,
          3,
          3,
          3,
          3,
          10,
          3,
          3,
          3,
          2,
          2,
          2,
          3,
          3,
          2,
          10,
          3,
          3,
          3,
          2,
          3,
          9,
          3,
          3,
          2,
          3,
          3,
          3,
          3,
          3,
          3,
          3,
          3,
          3,
          3,
          3,
          3,
          2,
          3,
          2,
          3,
          3,
          3,
          3,
          3,
          3,
          3,
          2,
          3,
          3,
          2,
          3,
          3,
          3,
          2,
          3,
          3,
          3,
          6,
          2,
          3,
          3,
          8,
          3,
          3,
          3,
          3,
          3,
          3,
          3,
          3,
          3,
          3,
          3,
          2,
          2,
          3,
          3,
          6,
          3,
          3,
          3,
          3,
          3,
          3,
          3,
          3,
          3,
          3,
          2,
          3,
          2,
          3,
          3,
          2,
          3,
          3,
          3,
          3,
          3,
          3,
          9,
          3,
          3,
          2,
          3,
          3,
          3,
          3,
          2,
          2,
          3,
          2,
          3,
          3,
          3,
          3,
          3,
          3,
          3,
          3,
          2,
          3,
          3,
          3,
          3,
          3,
          3,
          3,
          3,
          2,
          5,
          3,
          3,
          3,
          3,
          2,
          3,
          3,
          5,
          3,
          2,
          3,
          3,
          10,
          6,
          3,
          10,
          3,
          3,
          3,
          3,
          10,
          3,
          3,
          3,
          2,
          3,
          3,
          2,
          6,
          3,
          3,
          4,
          2,
          3,
          4,
          3,
          3,
          12,
          3,
          7,
          3,
          3,
          5,
          3,
          6,
          3,
          3,
          3,
          3,
          2,
          3,
          6,
          3,
          3,
          5,
          3,
          3,
          2,
          3,
          3,
          3,
          3,
          5,
          3,
          3,
          3,
          2,
          3,
          3,
          6,
          3,
          6,
          3,
          3,
          3,
          3,
          2,
          10,
          3,
          3,
          3,
          6,
          2,
          3,
          6,
          3,
          6,
          3,
          3,
          3,
          4,
          3,
          3,
          3,
          3,
          3,
          3,
          2,
          3,
          2,
          3,
          6,
          3,
          2,
          3,
          2,
          3,
          3,
          2,
          4,
          3,
          6,
          4,
          2,
          6,
          3,
          3,
          2,
          3,
          3,
          3,
          3,
          3,
          3,
          5,
          3,
          3,
          3,
          3,
          2,
          3,
          3,
          3,
          2,
          3,
          3,
          3,
          3,
          6,
          12,
          3,
          3,
          3,
          3,
          3,
          3,
          3,
          3,
          3,
          3,
          6,
          10,
          3,
          3,
          5,
          3,
          3,
          3,
          5,
          3,
          3,
          6,
          3,
          3,
          3,
          3,
          3,
          3,
          4,
          3,
          3,
          3,
          3,
          3,
          3,
          3,
          3,
          2,
          3,
          3,
          2,
          2,
          3,
          2,
          3,
          3,
          2,
          3,
          3,
          5,
          3,
          5,
          5,
          6,
          12,
          3,
          3,
          5,
          3,
          3,
          3,
          3,
          3,
          2,
          2,
          5,
          5,
          5,
          2,
          2,
          12,
          2,
          2,
          3,
          6,
          3,
          2,
          5,
          5,
          3,
          5,
          5,
          3,
          5,
          5,
          3,
          5,
          3,
          5,
          3,
          2,
          10,
          2,
          2,
          3,
          3,
          6,
          3,
          3,
          2,
          2,
          4,
          2,
          3,
          5,
          5,
          4,
          5,
          2,
          4,
          3,
          5,
          2,
          2,
          3,
          3,
          3,
          3,
          3,
          3,
          5,
          5,
          3,
          6,
          5,
          2,
          3,
          5,
          5,
          2,
          6,
          5,
          3,
          3,
          2,
          5,
          2,
          5,
          5,
          5,
          3,
          3,
          3,
          2,
          3,
          3,
          5,
          4,
          6,
          2,
          2,
          3,
          3,
          3,
          3,
          2,
          3,
          4,
          3,
          3,
          3,
          3,
          3,
          6,
          3,
          6,
          3,
          3,
          3,
          3,
          3,
          6,
          6,
          6,
          5,
          3,
          6,
          3,
          3,
          3,
          6,
          6,
          3,
          2,
          6,
          3,
          3,
          3,
          6,
          2,
          3,
          2,
          3,
          3,
          3,
          3,
          3,
          3,
          2,
          2,
          3,
          3,
          2,
          3,
          3,
          2,
          3,
          2,
          3,
          2,
          2,
          3,
          3,
          2,
          3,
          2,
          2,
          3,
          2,
          3,
          2,
          2,
          2,
          5,
          5,
          5,
          5,
          3,
          3,
          10,
          2,
          3,
          2,
          2,
          3,
          2,
          3,
          3,
          3,
          5,
          5,
          5,
          3,
          10,
          3,
          3,
          3,
          3,
          3,
          2,
          5,
          3,
          3,
          10,
          5,
          5,
          3,
          2,
          5,
          3,
          3,
          3,
          5,
          5,
          3,
          3,
          3,
          3,
          3,
          3,
          3,
          3,
          3,
          3,
          3,
          3,
          3,
          3,
          3,
          5,
          5,
          3,
          3,
          3,
          3,
          3,
          3,
          3,
          2,
          3,
          3,
          2,
          3,
          3,
          3,
          5,
          3,
          5,
          10,
          3,
          3,
          5,
          3,
          3,
          3,
          3,
          5,
          3,
          5,
          4,
          3,
          2,
          3,
          2,
          2,
          2,
          5,
          5,
          3,
          3,
          3,
          5,
          3,
          3,
          3,
          2,
          3,
          2,
          3,
          3,
          5,
          2,
          5,
          3,
          3,
          3,
          5,
          2,
          5,
          3,
          2,
          3,
          2,
          3,
          3,
          3,
          3,
          3,
          2,
          2,
          3,
          3,
          3,
          2,
          3,
          3,
          2,
          2,
          2,
          3,
          3,
          3,
          3,
          2,
          2,
          3,
          5,
          3,
          3,
          5,
          5,
          3,
          3,
          3,
          2,
          3,
          6,
          4,
          2,
          3,
          3,
          3,
          3,
          3,
          3,
          3,
          3,
          2,
          3,
          3,
          3,
          3,
          3,
          2,
          3,
          3,
          3,
          3,
          3,
          5,
          3,
          3,
          2,
          2,
          5,
          3,
          2,
          6,
          2,
          5,
          3,
          3,
          3,
          3,
          2,
          3,
          2,
          5,
          3,
          2,
          5,
          3,
          5,
          10,
          3,
          5,
          3,
          2,
          5,
          3,
          3,
          5,
          5,
          5,
          3,
          5,
          4,
          2,
          5,
          5,
          3,
          2,
          2,
          5,
          3,
          3,
          3,
          5,
          3,
          5,
          5,
          2,
          2,
          3,
          3,
          2,
          3,
          6,
          3,
          5,
          2,
          3,
          5,
          3,
          2,
          3,
          3,
          5,
          3,
          3,
          3,
          3,
          3,
          3,
          2,
          3,
          3,
          2,
          3,
          3,
          3,
          2,
          3,
          2,
          2,
          5,
          3,
          3,
          5,
          5,
          3,
          3,
          3,
          5,
          3,
          5,
          7,
          3,
          3,
          3,
          3,
          3,
          3,
          4,
          2,
          3,
          3,
          3,
          5,
          3,
          3,
          3,
          5,
          5,
          3,
          20,
          3,
          3,
          2,
          3,
          5,
          5,
          3,
          3,
          2,
          6,
          6,
          5,
          2,
          5,
          3,
          3,
          5,
          3,
          3,
          6,
          3,
          3,
          3,
          5,
          3,
          2,
          3,
          3,
          2,
          3,
          3,
          6,
          3,
          6,
          3,
          6,
          3,
          3,
          3,
          4,
          3,
          3,
          3,
          3,
          3,
          2,
          3,
          3,
          3,
          3,
          6,
          2,
          3,
          6,
          3,
          3,
          3,
          3,
          5,
          3,
          3,
          5,
          3,
          2,
          2,
          3,
          3,
          6,
          3,
          5,
          3,
          3,
          2,
          3,
          3,
          3,
          3,
          2,
          3,
          3,
          2,
          3,
          3,
          6,
          3,
          2,
          3,
          2,
          3,
          6,
          3,
          2,
          3,
          6,
          3,
          6,
          3,
          2,
          4,
          2,
          6,
          3,
          3,
          6,
          3,
          3,
          2,
          2,
          2,
          3,
          3,
          12,
          6,
          2,
          3,
          5,
          3,
          3,
          3,
          2,
          3,
          3,
          3,
          3,
          3,
          3,
          3,
          10,
          6,
          6,
          10,
          6,
          9,
          3,
          3,
          3,
          5,
          3,
          2,
          2,
          3,
          3,
          3,
          5,
          3,
          5,
          3,
          2,
          3,
          3,
          3,
          2,
          3,
          12,
          12,
          6,
          3,
          3,
          3,
          2,
          6,
          10,
          3,
          3,
          3,
          6,
          3,
          2,
          6,
          3,
          12,
          3,
          3,
          3,
          3,
          2,
          3,
          3,
          3,
          2,
          3,
          2,
          3,
          2,
          2,
          3,
          2,
          2,
          3,
          3,
          4,
          2,
          3,
          3,
          3,
          3,
          3,
          2,
          3,
          3,
          6,
          3,
          3,
          3,
          3,
          3,
          2,
          3,
          3,
          2,
          3,
          3,
          2,
          5,
          2,
          3,
          2,
          2,
          3,
          3,
          10,
          3,
          3,
          2,
          2,
          5,
          3,
          3,
          3,
          5,
          6,
          3,
          3,
          2,
          3,
          3,
          5,
          3,
          3,
          3,
          5,
          2,
          5,
          3,
          3,
          3,
          6,
          3,
          3,
          2,
          3,
          3,
          3,
          3,
          3,
          3,
          3,
          2,
          3,
          3,
          3,
          3,
          2,
          2,
          3,
          3,
          2,
          3,
          3,
          3,
          2,
          2,
          2,
          3,
          3,
          3,
          3,
          2,
          2,
          2,
          3,
          3,
          2,
          3,
          3,
          3,
          2,
          3,
          5,
          3,
          2,
          2,
          3,
          2,
          3,
          2,
          3,
          3,
          3,
          3,
          3,
          3,
          3,
          3,
          3,
          3,
          3,
          3,
          3,
          2,
          2,
          10,
          3,
          3,
          3,
          3,
          15,
          3,
          3,
          15,
          3,
          3,
          3,
          3,
          3,
          3,
          3,
          3,
          3,
          3,
          2,
          2,
          3,
          3,
          3,
          3,
          3,
          3,
          3,
          3,
          5,
          2,
          3,
          3,
          3,
          3,
          3,
          2,
          3,
          3,
          3,
          3,
          3,
          3,
          3,
          3,
          3,
          3,
          2,
          3,
          3,
          3,
          3,
          2,
          2,
          3,
          3,
          3,
          3,
          6,
          3,
          3,
          3,
          3,
          3,
          3,
          2,
          3,
          3,
          3,
          3,
          3,
          2,
          3,
          3,
          2,
          3,
          3,
          3,
          2,
          2,
          3,
          2,
          6,
          3,
          3,
          3,
          2,
          6,
          3,
          3,
          2,
          3,
          3,
          3,
          3,
          2,
          3,
          2,
          2,
          3,
          3,
          3,
          3,
          3,
          3,
          2,
          2,
          3,
          3,
          5,
          3,
          2,
          3,
          2,
          3,
          2,
          2,
          2,
          3,
          2,
          3,
          3,
          2,
          2,
          2,
          2,
          3,
          2,
          3,
          3,
          3,
          3,
          3,
          2,
          2,
          3,
          3,
          3,
          2,
          4,
          3,
          5,
          4,
          4,
          3,
          5,
          3,
          12,
          3,
          3,
          3,
          2,
          12,
          3,
          3,
          3,
          3,
          3,
          2,
          2,
          3,
          3,
          2,
          3,
          3,
          3,
          2,
          3,
          3,
          5,
          3,
          3,
          2,
          3,
          3,
          5,
          2,
          3,
          3,
          2,
          3,
          2,
          3,
          2,
          3,
          3,
          3,
          5,
          3,
          3,
          2,
          3,
          3,
          3,
          3,
          3,
          3,
          2,
          3,
          3,
          3,
          5,
          3,
          3,
          3,
          2,
          3,
          2,
          3,
          2,
          3,
          5,
          3,
          3,
          5,
          2,
          3,
          3,
          3,
          5,
          5,
          5,
          5,
          3,
          3,
          3,
          3,
          4,
          3,
          2,
          3,
          3,
          3,
          3,
          3,
          3,
          4,
          5,
          2,
          2,
          5,
          3,
          5,
          5,
          3,
          3,
          3,
          2,
          2,
          3,
          3,
          5,
          3,
          3,
          3,
          2,
          3,
          2,
          3,
          3,
          3,
          3,
          3,
          3,
          3,
          2,
          3,
          3,
          2,
          3,
          2,
          3,
          3,
          2,
          3,
          3,
          5,
          5,
          3,
          5,
          3,
          3,
          2,
          6,
          6,
          5,
          3,
          3,
          3,
          10,
          3,
          2,
          6,
          3,
          3,
          5,
          6,
          3,
          5,
          3,
          4,
          2,
          6,
          3,
          2,
          3,
          3,
          3,
          3,
          3,
          2,
          2,
          3,
          4,
          3,
          2,
          3,
          3,
          3,
          6,
          6,
          3,
          6,
          6,
          3,
          5,
          3,
          2,
          3,
          3,
          3,
          6,
          3,
          3,
          2,
          3,
          2,
          3,
          2,
          3,
          6,
          2,
          3,
          3,
          3,
          3,
          3,
          3,
          6,
          3,
          6,
          3,
          3,
          2,
          5,
          3,
          4,
          2,
          2,
          3,
          3,
          2,
          6,
          6,
          2,
          3,
          3,
          6,
          3,
          5,
          2,
          4,
          2,
          3,
          3,
          6,
          3,
          3,
          3,
          3,
          6,
          2,
          3,
          6,
          3,
          3,
          3,
          3,
          3,
          2,
          3,
          5,
          3,
          2,
          6,
          3,
          6,
          6,
          3,
          3,
          3,
          3,
          3,
          3,
          6,
          6,
          3,
          6,
          3,
          2,
          2,
          3,
          2,
          3,
          6,
          5,
          4,
          3,
          3,
          3,
          2,
          2,
          3,
          2,
          3,
          2,
          3,
          6,
          3,
          3,
          3,
          6,
          3,
          3,
          3,
          5,
          2,
          6,
          3,
          3,
          3,
          3,
          3,
          2,
          3,
          3,
          3,
          3,
          3,
          5,
          3,
          4,
          3,
          3,
          3,
          6,
          3,
          3,
          3,
          3,
          3,
          3,
          3,
          3,
          3,
          3,
          3,
          5,
          3,
          3,
          3,
          3,
          6,
          3,
          6,
          6,
          6,
          6,
          6,
          2,
          3,
          3,
          6,
          5,
          3,
          3,
          2,
          3,
          3,
          3,
          3,
          3,
          3,
          5,
          5,
          5,
          5,
          3,
          3,
          3,
          3,
          3,
          6,
          10,
          2,
          5,
          2,
          3,
          3,
          3,
          2,
          3,
          3,
          3,
          3,
          2,
          2,
          2,
          2,
          3,
          3,
          2,
          2,
          6,
          3,
          3,
          3,
          2,
          3,
          3,
          3,
          3,
          3,
          2,
          2,
          3,
          5,
          2,
          2,
          3,
          3,
          3,
          3,
          3,
          2,
          3,
          2,
          3,
          3,
          3,
          3,
          2,
          3,
          5,
          3,
          6,
          3,
          5,
          9,
          9,
          9,
          9,
          9,
          9,
          3,
          6,
          3,
          6,
          9,
          9,
          2,
          2,
          3,
          3,
          2,
          2,
          3,
          3,
          3,
          3,
          3,
          3,
          2,
          3,
          3,
          3,
          2,
          3,
          2,
          2,
          3,
          3,
          3,
          5,
          2,
          3,
          3,
          3,
          3,
          3,
          2,
          3,
          3,
          3,
          2,
          2,
          3,
          3,
          3,
          2,
          3,
          3,
          3,
          3,
          3,
          3,
          3,
          5,
          3,
          2,
          3,
          3,
          3,
          2,
          5,
          3,
          3,
          2,
          3,
          2,
          3,
          3,
          2,
          3,
          2,
          3,
          3,
          3,
          2,
          2,
          2,
          3,
          3,
          3,
          3,
          3,
          3,
          3,
          3,
          2,
          3,
          3,
          3,
          3,
          2,
          2,
          2,
          3,
          3,
          2,
          3,
          3,
          2,
          3,
          3,
          3,
          2,
          2,
          3,
          2,
          3,
          3,
          3,
          3,
          2,
          3,
          3,
          3,
          3,
          3,
          2,
          3,
          4,
          2,
          3,
          2,
          3,
          3,
          2,
          3,
          3,
          6,
          3,
          2,
          2,
          2,
          3,
          3,
          5,
          3,
          3,
          3,
          3,
          3,
          3,
          3,
          3,
          3,
          6,
          3,
          3,
          12,
          3,
          4,
          10,
          3,
          3,
          12,
          24,
          24,
          3,
          3,
          3,
          4,
          24,
          3,
          24,
          3,
          3,
          24,
          36,
          24,
          24,
          3,
          3,
          3,
          3,
          3,
          3,
          3,
          3,
          3,
          3,
          3,
          5,
          6,
          3,
          3,
          3,
          2,
          10,
          3,
          6,
          3,
          3,
          6,
          2,
          3,
          3,
          3,
          3,
          6,
          3,
          12,
          5,
          10,
          10,
          12,
          4,
          18,
          3,
          4,
          2,
          2,
          3,
          3,
          3,
          2,
          10,
          10,
          5,
          5,
          10,
          6,
          10,
          5,
          10,
          6,
          6,
          5,
          12,
          5,
          5,
          5,
          3,
          3,
          5,
          2,
          3,
          2,
          3,
          2,
          2,
          2,
          2,
          2,
          10,
          2,
          3,
          2,
          3,
          3,
          3,
          3,
          6,
          2,
          5,
          2,
          2,
          2,
          3,
          3,
          3,
          2,
          2,
          2,
          3,
          6,
          3,
          3,
          3,
          3,
          2,
          3,
          3,
          3,
          3,
          2,
          3,
          2,
          3,
          3,
          5,
          5,
          3,
          2,
          3,
          3,
          2,
          2,
          2,
          5,
          3,
          2,
          3,
          3,
          3,
          3,
          3,
          3,
          3,
          2,
          6,
          3,
          3,
          3,
          2,
          3,
          3,
          2,
          10,
          10,
          5,
          12,
          3,
          3,
          10,
          4,
          12,
          10,
          3,
          9,
          5,
          3,
          10,
          3,
          3,
          3,
          10,
          2,
          5,
          5,
          5,
          5,
          5,
          3,
          5,
          10,
          5,
          5,
          5,
          5,
          5,
          5,
          3,
          3,
          3,
          3,
          5,
          5,
          2,
          5,
          3,
          3,
          5,
          4,
          3,
          3,
          3,
          3,
          3,
          3,
          2,
          2,
          2,
          3,
          2,
          2,
          3,
          2,
          3,
          2,
          3,
          5,
          6,
          3,
          3,
          5,
          3,
          3,
          3,
          5,
          7,
          10,
          2,
          6,
          3,
          3,
          3,
          3,
          2,
          2,
          3,
          2,
          5,
          3,
          3,
          3,
          2,
          2,
          2,
          2,
          3,
          2,
          5,
          5,
          3,
          3,
          3,
          2,
          2,
          3,
          2,
          2,
          3,
          3,
          3,
          3,
          3,
          2,
          3,
          3,
          3,
          3,
          3,
          3,
          3,
          3,
          3,
          3,
          3,
          3,
          3,
          3,
          3,
          2,
          3,
          3,
          2,
          2,
          2,
          3,
          3,
          2,
          3,
          3,
          3,
          3,
          3,
          2,
          3,
          3,
          3,
          3,
          3,
          2,
          3,
          3,
          4,
          3,
          3,
          3,
          2,
          5,
          3,
          3,
          3,
          2,
          6,
          3,
          6,
          3,
          6,
          5,
          3,
          5,
          3,
          3,
          6,
          3,
          3,
          3,
          3,
          5,
          3,
          2,
          3,
          3,
          3,
          2,
          3,
          3,
          3,
          2,
          3,
          3,
          3,
          2,
          3,
          3,
          2,
          2,
          3,
          5,
          2,
          3,
          3,
          3,
          2,
          3,
          2,
          3,
          3,
          3,
          3,
          3,
          3,
          3,
          3,
          3,
          2,
          3,
          3,
          2,
          3,
          2,
          3,
          3,
          2,
          3,
          3,
          3,
          3,
          2,
          3,
          3,
          3,
          3,
          2,
          2,
          3,
          3,
          2,
          3,
          3,
          3,
          2,
          2,
          3,
          2,
          3,
          2,
          3,
          3,
          4,
          3,
          3,
          3,
          2,
          2,
          5,
          2,
          2,
          2,
          2,
          2,
          5,
          10,
          5,
          3,
          5,
          3,
          3,
          2,
          2,
          2,
          2,
          3,
          2,
          4,
          2,
          3,
          2,
          5,
          3,
          2,
          2,
          2,
          2,
          2,
          3,
          2,
          2,
          3,
          2,
          3,
          3,
          3,
          3,
          3,
          2,
          3,
          3,
          3,
          3,
          2,
          3,
          2,
          3,
          3,
          2,
          3,
          2,
          3,
          2,
          3,
          3,
          2,
          3,
          3,
          2,
          2,
          3,
          2,
          2,
          2,
          2,
          2,
          2,
          3,
          3,
          6,
          2,
          3,
          2,
          3,
          3,
          2,
          2,
          2,
          3,
          3,
          3,
          3,
          2,
          2,
          5,
          3,
          4,
          3,
          3,
          2,
          3,
          3,
          3,
          3,
          3,
          3,
          3,
          3,
          2,
          3,
          3,
          2,
          3,
          3,
          3,
          3,
          5,
          3,
          3,
          2,
          3,
          3,
          3,
          3,
          10,
          10,
          10,
          10,
          10,
          10,
          10,
          10,
          10,
          10,
          12,
          12,
          12,
          12,
          3,
          3,
          2,
          3,
          2,
          3,
          3,
          2,
          2,
          3,
          2,
          3,
          3,
          3,
          3,
          3,
          3,
          3,
          3,
          3,
          3,
          3,
          3,
          5,
          3,
          3,
          3,
          3,
          3,
          3,
          2,
          3,
          3,
          5,
          3,
          2,
          3,
          3,
          3,
          3,
          3,
          3,
          4,
          2,
          3,
          3,
          3,
          3,
          3,
          3,
          2,
          3,
          5,
          3,
          3,
          2,
          3,
          3,
          3,
          3,
          3,
          2,
          5,
          3,
          2,
          3,
          3,
          2,
          2,
          3,
          2,
          2,
          3,
          2,
          3,
          2,
          3,
          3,
          3,
          3,
          2,
          3,
          2,
          3,
          2,
          3,
          5,
          2,
          2,
          3,
          3,
          5,
          3,
          3,
          3,
          3,
          3,
          3,
          3,
          2,
          3,
          3,
          2,
          2,
          3,
          3,
          3,
          3,
          3,
          2,
          5,
          3,
          3,
          2,
          3,
          3,
          6,
          3,
          6,
          6,
          3,
          3,
          3,
          3,
          6,
          3,
          3,
          3,
          3,
          3,
          5,
          3,
          3,
          2,
          2,
          3,
          2,
          3,
          3,
          2,
          3,
          3,
          6,
          5,
          3,
          3,
          5,
          5,
          6,
          3,
          3,
          2,
          2,
          3,
          2,
          3,
          4,
          3,
          6,
          2,
          3,
          3,
          3,
          2,
          3,
          3,
          3,
          3,
          3,
          3,
          2,
          3,
          3,
          3,
          3,
          2,
          3,
          3,
          3,
          3,
          3,
          3,
          3,
          3,
          2,
          3,
          3,
          3,
          3,
          3,
          3,
          3,
          6,
          3,
          3,
          3,
          2,
          3,
          3,
          3,
          3,
          3,
          3,
          3,
          3,
          3,
          3,
          3,
          3,
          6,
          6,
          3,
          2,
          3,
          3,
          4,
          3,
          2,
          3,
          2,
          3,
          3,
          3,
          3,
          3,
          3,
          3,
          3,
          3,
          2,
          2,
          2,
          3,
          2,
          3,
          3,
          3,
          2,
          3,
          3,
          2,
          3,
          2,
          3,
          3,
          5,
          6,
          5,
          3,
          5,
          3,
          3,
          3,
          3,
          5,
          3,
          3,
          2,
          3,
          5,
          3,
          5,
          6,
          3,
          3,
          6,
          3,
          3,
          6,
          2,
          2,
          3,
          3,
          5,
          3,
          3,
          3,
          3,
          3,
          3,
          3,
          2,
          3,
          3,
          3,
          3,
          2,
          3,
          3,
          3,
          3,
          2,
          2,
          3,
          3,
          3,
          3,
          2,
          3,
          3,
          5,
          3,
          5,
          3,
          5,
          10,
          5,
          5,
          3,
          2,
          3,
          5,
          3,
          3,
          2,
          2,
          3,
          2,
          3,
          2,
          3,
          3,
          2,
          3,
          2,
          3,
          3,
          3,
          3,
          2,
          2,
          2,
          2,
          2,
          3,
          3,
          2,
          3,
          2,
          3,
          3,
          3,
          3,
          3,
          3,
          3,
          3,
          3,
          3,
          3,
          3,
          3,
          3,
          2,
          3,
          10,
          3,
          5,
          2,
          3,
          3,
          6,
          5,
          3,
          3,
          3,
          6,
          2,
          3,
          3,
          3,
          3,
          3,
          3,
          3,
          3,
          3,
          3,
          3,
          3,
          3,
          3,
          6,
          3,
          3,
          2,
          3,
          3,
          3,
          3,
          2,
          3,
          3,
          3,
          3,
          3,
          3,
          2,
          3,
          2,
          2,
          3,
          3,
          2,
          3,
          3,
          2,
          2,
          2,
          2,
          3,
          3,
          3,
          3,
          3,
          2,
          3,
          3,
          3,
          3,
          2,
          2,
          3,
          3,
          3,
          3,
          3,
          3,
          2,
          2,
          3,
          5,
          2,
          3,
          3,
          2,
          3,
          2,
          2,
          2,
          3,
          3,
          3,
          2,
          3,
          3,
          2,
          3,
          2,
          2,
          3,
          5,
          3,
          3,
          2,
          3,
          5,
          3,
          6,
          3,
          2,
          3,
          3,
          3,
          3,
          3,
          3,
          3,
          3,
          2,
          6,
          2,
          3,
          3,
          2,
          3,
          3,
          6,
          3,
          6,
          6,
          3,
          6,
          2,
          3,
          3,
          3,
          6,
          3,
          3,
          2,
          2,
          2,
          2,
          3,
          2,
          3,
          2,
          6,
          3,
          3,
          3,
          2,
          6,
          6,
          3,
          2,
          2,
          3,
          3,
          3,
          3,
          2,
          3,
          3,
          3,
          3,
          3,
          3,
          3,
          3,
          2,
          3,
          3,
          3,
          3,
          3,
          2,
          3,
          3,
          3,
          3,
          3,
          2,
          3,
          3,
          2,
          3,
          3,
          3,
          3,
          3,
          3,
          3,
          2,
          3,
          3,
          3,
          3,
          3,
          2,
          3,
          3,
          3,
          2,
          3,
          3,
          2,
          3,
          3,
          3,
          2,
          3,
          2,
          2,
          3,
          3,
          3,
          3,
          3,
          3,
          3,
          3,
          2,
          2,
          3,
          3,
          3,
          3,
          3,
          2,
          3,
          3,
          2,
          3,
          2,
          3,
          3,
          3,
          3,
          2,
          2,
          3,
          3,
          2,
          3,
          2,
          3,
          2,
          3,
          3,
          3,
          3,
          3,
          3,
          2,
          3,
          2,
          3,
          2,
          3,
          3,
          3,
          2,
          2,
          2,
          2,
          2,
          3,
          3,
          3,
          3,
          2,
          2,
          3,
          3,
          2,
          3,
          3,
          3,
          2,
          3,
          3,
          3,
          5,
          3,
          3,
          5,
          5,
          6,
          3,
          6,
          2,
          3,
          3,
          3,
          3,
          3,
          2,
          6,
          2,
          3,
          3,
          3,
          3,
          3,
          3,
          3,
          3,
          2,
          2,
          3,
          3,
          2,
          3,
          2,
          3,
          3,
          3,
          2,
          2,
          3,
          2,
          2,
          3,
          3,
          3,
          2,
          2,
          3,
          2,
          3,
          3,
          3,
          3,
          2,
          3,
          3,
          2,
          3,
          3,
          2,
          3,
          2,
          3,
          2,
          2,
          3,
          3,
          3,
          3,
          3,
          2,
          3,
          3,
          3,
          3,
          2,
          2,
          2,
          3,
          2,
          2,
          2,
          2,
          2,
          4,
          2,
          2,
          3,
          3,
          2,
          2,
          3,
          3,
          2,
          3,
          2,
          3,
          2,
          3,
          2,
          3,
          3,
          3,
          2,
          10,
          3,
          3,
          3,
          3,
          3,
          3,
          3,
          3,
          3,
          3,
          2,
          3,
          3,
          5,
          3,
          3,
          3,
          3,
          3,
          3,
          3,
          3,
          5,
          3,
          3,
          3,
          3,
          3,
          4,
          3,
          2,
          3,
          3,
          2,
          2,
          3,
          3,
          3,
          3,
          3,
          3,
          2,
          2,
          2,
          3,
          5,
          2,
          3,
          3,
          3,
          3,
          3,
          3,
          2,
          3,
          3,
          3,
          3,
          3,
          2,
          3,
          3,
          2,
          3,
          3,
          3,
          5,
          2,
          3,
          3,
          3,
          3,
          2,
          3,
          3,
          3,
          3,
          3,
          3,
          2,
          3,
          2,
          3,
          3,
          3,
          3,
          2,
          3,
          3,
          3,
          3,
          3,
          3,
          3,
          3,
          2,
          3,
          3,
          2,
          3,
          6,
          3,
          3,
          2,
          3,
          2,
          3,
          3,
          2,
          2,
          3,
          3,
          3,
          2,
          3,
          2,
          3,
          3,
          3,
          3,
          10,
          3,
          3,
          3,
          2,
          2,
          3,
          3,
          3,
          3,
          5,
          3,
          6,
          3,
          3,
          3,
          3,
          3,
          3,
          3,
          3,
          3,
          2,
          2,
          2,
          3,
          3,
          5,
          3,
          3,
          2,
          3,
          3,
          3,
          5,
          3,
          2,
          3,
          3,
          3,
          3,
          3,
          3,
          3,
          2,
          2,
          2,
          2,
          5,
          3,
          2,
          5,
          3,
          3,
          2,
          3,
          3,
          2,
          3,
          2,
          3,
          2,
          3,
          2,
          3,
          7,
          2,
          2,
          3,
          3,
          3,
          5,
          3,
          3,
          3,
          2,
          5,
          3,
          2,
          2,
          3,
          3,
          6,
          3,
          2,
          2,
          3,
          3,
          3,
          3,
          3,
          2,
          3,
          3,
          3,
          4,
          3,
          3,
          5,
          3,
          2,
          3,
          2,
          3,
          2,
          3,
          3,
          3,
          5,
          2,
          3,
          6,
          3,
          2,
          3,
          2,
          3,
          2,
          3,
          3,
          3,
          5,
          2,
          3,
          3,
          5,
          3,
          6,
          3,
          3,
          3,
          3,
          4,
          3,
          3,
          3,
          2,
          6,
          3,
          3,
          2,
          3,
          5,
          3,
          10,
          2,
          5,
          3,
          3,
          3,
          3,
          3,
          5,
          3,
          3,
          3,
          2,
          4,
          2,
          3,
          4,
          3,
          10,
          2,
          3,
          5,
          3,
          5,
          5,
          2,
          5,
          3,
          3,
          2,
          2,
          5,
          2,
          2,
          5,
          3,
          3,
          6,
          6,
          5,
          2,
          6,
          6,
          3,
          2,
          6,
          6,
          3,
          6,
          3,
          3,
          3,
          3,
          3,
          3,
          3,
          3,
          2,
          3,
          3,
          3,
          2,
          4,
          3,
          2,
          3,
          3,
          3,
          3,
          2,
          2,
          3,
          2,
          3,
          3,
          2,
          3,
          3,
          2,
          3,
          5,
          3,
          3,
          3,
          3,
          3,
          3,
          3,
          3,
          2,
          2,
          2,
          3,
          2,
          3,
          3,
          3,
          3,
          3,
          2,
          2,
          3,
          3,
          6,
          3,
          3,
          2,
          3,
          3,
          3,
          3,
          5,
          4,
          3,
          3,
          2,
          2,
          3,
          3,
          3,
          6,
          3,
          3,
          2,
          3,
          3,
          2,
          3,
          3,
          6,
          5,
          3,
          3,
          3,
          3,
          2,
          2,
          2,
          3,
          3,
          3,
          4,
          2,
          3,
          3,
          2,
          2,
          2,
          2,
          2,
          2,
          2,
          3,
          3,
          2,
          3,
          3,
          3,
          3,
          3,
          2,
          3,
          3,
          3,
          3,
          3,
          3,
          3,
          3,
          3,
          3,
          3,
          3,
          3,
          3,
          3,
          3,
          2,
          2,
          3,
          3,
          2,
          3,
          3,
          3,
          3,
          3,
          3,
          3,
          2,
          3,
          3,
          3,
          3,
          3,
          3,
          3,
          2,
          2,
          3,
          3,
          2,
          3,
          3,
          3,
          3,
          3,
          3,
          3,
          3,
          5,
          3,
          3,
          3,
          3,
          3,
          3,
          3,
          2,
          2,
          5,
          3,
          2,
          3,
          3,
          3,
          3,
          2,
          2,
          3,
          3,
          3,
          2,
          3,
          3,
          3,
          5,
          3,
          2,
          3,
          3,
          3,
          3,
          3,
          2,
          5,
          5,
          3,
          3,
          2,
          5,
          2,
          3,
          2,
          3,
          4,
          2,
          2,
          2,
          3,
          3,
          2,
          6,
          6,
          3,
          3,
          8,
          2,
          6,
          3,
          3,
          3,
          3,
          10,
          6,
          6,
          3,
          6,
          6,
          2,
          3,
          5,
          3,
          3,
          3,
          3,
          3,
          3,
          3,
          3,
          2,
          3,
          3,
          3,
          3,
          5,
          5,
          6,
          3,
          3,
          2,
          3,
          3,
          5,
          3,
          3,
          3,
          2,
          3,
          3,
          2,
          3,
          2,
          2,
          3,
          3,
          2,
          3,
          3,
          3,
          3,
          3,
          3,
          5,
          3,
          3,
          3,
          5,
          3,
          3,
          3,
          3,
          3,
          2,
          3,
          2,
          3,
          3,
          2,
          2,
          3,
          2,
          2,
          2,
          3,
          3,
          3,
          3,
          5,
          3,
          3,
          5,
          3,
          3,
          3,
          5,
          2,
          2,
          3,
          2,
          3,
          3,
          7,
          3,
          3,
          6,
          3,
          2,
          2,
          3,
          3,
          2,
          4,
          3,
          2,
          2,
          3,
          3,
          3,
          3,
          3,
          3,
          2,
          3,
          3,
          3,
          2,
          2,
          3,
          3,
          2,
          2,
          3,
          2,
          2,
          3,
          3,
          3,
          3,
          3,
          3,
          5,
          3,
          3,
          3,
          3,
          5,
          3,
          3,
          10,
          10,
          3,
          3,
          3,
          10,
          2,
          3,
          3,
          2,
          3,
          12,
          3,
          3,
          3,
          3,
          5,
          10,
          3,
          3,
          3,
          10,
          10,
          3,
          3,
          3,
          3,
          3,
          3,
          3,
          3,
          3,
          3,
          3,
          3,
          3,
          3,
          2,
          2,
          3,
          2,
          3,
          3,
          3,
          3,
          3,
          3,
          3,
          3,
          3,
          3,
          3,
          2,
          2,
          3,
          3,
          3,
          3,
          2,
          3,
          3,
          2,
          3,
          3,
          2,
          3,
          2,
          3,
          3,
          3,
          3,
          3,
          6,
          3,
          3,
          4,
          6,
          5,
          5,
          5,
          2,
          2,
          10,
          3,
          3,
          2,
          3,
          3,
          5,
          10,
          3,
          2,
          4,
          3,
          3,
          3,
          3,
          5,
          3,
          3,
          5,
          3,
          5,
          3,
          6,
          3,
          3,
          3,
          3,
          2,
          3,
          3,
          3,
          2,
          2,
          4,
          3,
          3,
          6,
          2,
          3,
          3,
          3,
          3,
          2,
          2,
          3,
          6,
          3,
          3,
          3,
          3,
          5,
          3,
          5,
          3,
          3,
          2,
          3,
          2,
          3,
          2,
          3,
          3,
          3,
          3,
          3,
          3,
          3,
          3,
          3,
          3,
          3,
          2,
          3,
          3,
          3,
          2,
          3,
          2,
          2,
          2,
          3,
          2,
          3,
          3,
          3,
          3,
          3,
          3,
          3,
          3,
          3,
          3,
          3,
          3,
          3,
          3,
          3,
          3,
          3,
          3,
          3,
          3,
          3,
          2,
          2,
          3,
          3,
          2,
          3,
          3,
          3,
          3,
          3,
          3,
          3,
          3,
          3,
          2,
          3,
          3,
          3,
          3,
          2,
          2,
          3,
          2,
          2,
          3,
          3,
          3,
          5,
          3,
          3,
          2,
          2,
          2,
          3,
          2,
          3,
          3,
          3,
          2,
          2,
          2,
          3,
          3,
          3,
          3,
          5,
          3,
          3,
          3,
          2,
          5,
          2,
          3,
          3,
          2,
          3,
          3,
          3,
          3,
          4,
          3,
          2,
          3,
          2,
          3,
          2,
          3,
          5,
          3,
          3,
          5,
          3,
          3,
          2,
          3,
          2,
          3,
          2,
          3,
          3,
          3,
          3,
          3,
          3,
          3,
          3,
          3,
          2,
          2,
          3,
          3,
          2,
          3,
          3,
          3,
          3,
          3,
          5,
          3,
          3,
          3,
          3,
          3,
          4,
          3,
          3,
          3,
          3,
          9,
          9,
          9,
          3,
          3,
          3,
          3,
          2,
          3,
          2,
          3,
          2,
          2,
          3,
          2,
          2,
          2,
          3,
          3,
          3,
          3,
          5,
          9,
          3,
          2,
          2,
          3,
          3,
          3,
          3,
          6,
          2,
          3,
          3,
          3,
          3,
          2,
          3,
          5,
          3,
          2,
          2,
          3,
          2,
          3,
          3,
          3,
          3,
          3,
          3,
          3,
          2,
          2,
          2,
          3,
          2,
          2,
          2,
          3,
          3,
          3,
          3,
          3,
          2,
          3,
          3,
          3,
          3,
          2,
          3,
          3,
          3,
          3,
          3,
          3,
          3,
          3,
          2,
          2,
          3,
          3,
          6,
          3,
          3,
          5,
          10,
          5,
          6,
          3,
          3,
          3,
          3,
          3,
          2,
          3,
          3,
          8,
          3,
          5,
          3,
          3,
          3,
          3,
          3,
          3,
          3,
          2,
          7,
          3,
          3,
          3,
          3,
          3,
          3,
          3,
          3,
          10,
          5,
          6,
          12,
          5,
          10,
          2,
          5,
          5,
          6,
          12,
          12,
          12,
          12,
          12,
          3,
          3,
          2,
          3,
          3,
          10,
          3,
          3,
          3,
          3,
          5,
          3,
          3,
          3,
          3,
          3,
          3,
          2,
          3,
          3,
          2,
          3,
          3,
          3,
          3,
          3,
          3,
          3,
          2,
          2,
          3,
          3,
          3,
          3,
          3,
          3,
          3,
          3,
          3,
          2,
          2,
          2,
          3,
          3,
          3,
          3,
          3,
          3,
          3,
          3,
          3,
          3,
          2,
          3,
          3,
          2,
          4,
          3,
          3,
          3,
          5,
          10,
          3,
          2,
          3,
          3,
          3,
          3,
          3,
          2,
          2,
          3,
          3,
          3,
          3,
          3,
          3,
          3,
          3,
          3,
          3,
          3,
          3,
          3,
          3,
          3,
          3,
          3,
          3,
          6,
          3,
          3,
          3,
          3,
          3,
          3,
          3,
          3,
          5,
          3,
          3,
          3,
          2,
          3,
          5,
          2,
          3,
          3,
          3,
          2,
          3,
          2,
          3,
          2,
          3,
          3,
          2,
          3,
          3,
          3,
          3,
          3,
          3,
          3,
          3,
          5,
          2,
          3,
          3,
          3,
          3,
          3,
          3,
          3,
          3,
          3,
          5,
          3,
          3,
          3,
          5,
          3,
          3,
          3,
          3,
          3,
          3,
          3,
          3,
          3,
          5,
          3,
          3,
          3,
          3,
          3,
          3,
          3,
          3,
          5,
          3,
          3,
          3,
          3,
          3,
          3,
          3,
          3,
          3,
          3,
          3,
          3,
          3,
          3,
          3,
          3,
          3,
          3,
          3,
          3,
          3,
          3,
          3,
          3,
          5,
          3,
          2,
          3,
          3,
          3,
          2,
          3,
          3,
          3,
          2,
          3,
          2,
          3,
          3,
          3,
          3,
          3,
          3,
          3,
          6,
          3,
          3,
          2,
          3,
          3,
          2,
          3,
          3,
          3,
          3,
          3,
          3,
          3,
          2,
          3,
          5,
          3,
          3,
          3,
          3,
          3,
          3,
          3,
          3,
          3,
          3,
          3,
          5,
          3,
          3,
          3,
          3,
          3,
          2,
          2,
          3,
          5,
          3,
          3,
          3,
          3,
          3,
          2,
          3,
          3,
          2,
          3,
          2,
          5,
          3,
          3,
          3,
          3,
          2,
          3,
          3,
          3,
          2,
          2,
          3,
          3,
          3,
          3,
          3,
          2,
          3,
          3,
          3,
          3,
          3,
          3,
          3,
          2,
          3,
          3,
          3,
          3,
          2,
          2,
          3,
          3,
          3,
          3,
          3,
          2,
          3,
          3,
          2,
          3,
          5,
          3,
          3,
          5,
          3,
          3,
          3,
          3,
          2,
          2,
          3,
          3,
          2,
          3,
          3,
          3,
          3,
          2,
          3,
          3,
          3,
          4,
          2,
          3,
          3,
          2,
          2,
          3,
          3,
          2,
          3,
          3,
          3,
          3,
          3,
          3,
          2,
          3,
          3,
          3,
          2,
          3,
          2,
          3,
          3,
          3,
          3,
          3,
          3,
          3,
          3,
          3,
          3,
          3,
          3,
          3,
          3,
          3,
          3,
          2,
          3,
          3,
          3,
          3,
          3,
          2,
          2,
          2,
          2,
          3,
          2,
          3,
          5,
          2,
          10,
          2,
          2,
          3,
          3,
          5,
          10,
          2,
          4,
          3,
          3,
          6,
          3,
          6,
          3,
          7,
          3,
          3,
          2,
          2,
          2,
          3,
          3,
          3,
          5,
          3,
          5,
          3,
          3,
          3,
          3,
          2,
          3,
          5,
          3,
          3,
          5,
          3,
          2,
          3,
          5,
          5,
          5,
          2,
          4,
          4,
          3,
          3,
          2,
          5,
          3,
          5,
          3,
          2,
          2,
          3,
          12,
          3,
          4,
          7,
          3,
          2,
          5,
          2,
          6,
          2,
          3,
          2,
          2,
          2,
          2,
          3,
          3,
          3,
          3,
          3,
          3,
          3,
          3,
          3,
          3,
          3,
          3,
          3,
          3,
          3,
          3,
          3,
          4,
          3,
          3,
          3,
          3,
          10,
          3,
          3,
          3,
          3,
          2,
          2,
          5,
          3,
          3,
          2,
          3,
          2,
          2,
          3,
          5,
          3,
          3,
          2,
          2,
          2,
          2,
          2,
          2,
          3,
          12,
          2,
          4,
          3,
          3,
          3,
          3,
          2,
          3,
          3,
          3,
          3,
          3,
          3,
          3,
          6,
          2,
          2,
          3,
          3,
          3,
          2,
          5,
          3,
          3,
          3,
          3,
          2,
          2,
          2,
          2,
          2,
          3,
          3,
          3,
          4,
          3,
          3,
          3,
          3,
          3,
          3,
          3,
          3,
          3,
          4,
          3,
          3,
          2,
          3,
          5,
          3,
          2,
          3,
          3,
          2,
          2,
          3,
          3,
          3,
          3,
          3,
          3,
          3,
          2,
          3,
          3,
          3,
          3,
          3,
          3,
          3,
          2,
          2,
          4,
          2,
          3,
          2,
          3,
          3,
          3,
          3,
          3,
          5,
          3,
          2,
          3,
          3,
          2,
          3,
          3,
          3,
          6,
          2,
          3,
          5,
          2,
          3,
          3,
          3,
          3,
          2,
          2,
          2,
          2,
          2,
          2,
          5,
          2,
          3,
          2,
          3,
          2,
          3,
          3,
          3,
          3,
          6,
          3,
          2,
          4,
          6,
          5,
          6,
          2,
          3,
          3,
          7,
          3,
          3,
          3,
          3,
          5,
          6,
          6,
          3,
          3,
          3,
          3,
          6,
          12,
          3,
          12,
          12,
          12,
          12,
          3,
          2,
          2,
          3,
          3,
          2,
          3,
          2,
          3,
          3,
          3,
          2,
          2,
          3,
          2,
          3,
          2,
          3,
          3,
          3,
          2,
          2,
          3,
          3,
          3,
          2,
          3,
          3,
          2,
          2,
          3,
          3,
          3,
          2,
          2,
          3,
          2,
          3,
          3,
          3,
          3,
          2,
          5,
          5,
          3,
          3,
          3,
          2,
          2,
          3,
          3,
          3,
          6,
          3,
          2,
          2,
          3,
          2,
          3,
          3,
          3,
          2,
          3,
          3,
          3,
          3,
          3,
          3,
          4,
          3,
          2,
          3,
          2,
          2,
          3,
          2,
          6,
          2,
          3,
          3,
          3,
          2,
          2,
          5,
          3,
          2,
          2,
          2,
          2,
          3,
          2,
          3,
          3,
          3,
          2,
          3,
          5,
          2,
          3,
          2,
          3,
          3,
          5,
          3,
          3,
          3,
          2,
          3,
          3,
          2,
          2,
          3,
          3,
          3,
          2,
          2,
          3,
          2,
          3,
          3,
          2,
          2,
          2,
          3,
          3,
          3,
          3,
          3,
          2,
          3,
          3,
          3,
          3,
          3,
          3,
          2,
          3,
          3,
          3,
          3,
          2,
          3,
          3,
          3,
          2,
          3,
          3,
          3,
          3,
          3,
          2,
          3,
          3,
          3,
          3,
          3,
          3,
          3,
          3,
          3,
          2,
          3,
          3,
          3,
          3,
          3,
          3,
          3,
          3,
          3,
          3,
          3,
          3,
          3,
          3,
          3,
          3,
          3,
          3,
          2,
          3,
          3,
          3,
          3,
          3,
          3,
          3,
          3,
          2,
          2,
          3,
          3,
          2,
          4,
          3,
          3,
          3,
          3,
          3,
          3,
          3,
          2,
          3,
          3,
          3,
          3,
          2,
          2,
          3,
          3,
          3,
          3,
          2,
          3,
          3,
          2,
          3,
          3,
          3,
          3,
          3,
          3,
          3,
          3,
          3,
          2,
          2,
          3,
          3,
          3,
          3,
          3,
          3,
          2,
          2,
          3,
          2,
          3,
          3,
          3,
          3,
          3,
          3,
          2,
          3,
          3,
          3,
          2,
          3,
          3,
          3,
          3,
          2,
          3,
          3,
          2,
          3,
          3,
          3,
          3,
          3,
          3,
          2,
          3,
          3,
          3,
          3,
          3,
          3,
          3,
          3,
          3,
          3,
          2,
          3,
          3,
          3,
          3,
          2,
          3,
          3,
          2,
          3,
          3,
          3,
          2,
          3,
          3,
          3,
          3,
          2,
          2,
          2,
          3,
          2,
          3,
          3,
          3,
          3,
          3,
          3,
          3,
          3,
          3,
          5,
          3,
          3,
          5,
          5,
          3,
          3,
          5,
          3,
          3,
          2,
          4,
          3,
          3,
          6,
          2,
          2,
          2,
          2,
          3,
          3,
          3,
          3,
          2,
          2,
          3,
          3,
          3,
          3,
          3,
          3,
          3,
          3,
          2,
          2,
          3,
          3,
          3,
          3,
          4,
          3,
          3,
          3,
          3,
          3,
          3,
          5,
          2,
          2,
          12,
          8,
          5,
          3,
          3,
          3,
          2,
          3,
          10,
          2,
          3,
          10,
          5,
          10,
          12,
          3,
          3,
          3,
          3,
          3,
          2,
          5,
          3,
          3,
          6,
          3,
          2,
          2,
          3,
          2,
          3,
          3,
          3,
          3,
          3,
          3,
          3,
          3,
          3,
          3,
          3,
          3,
          3,
          3,
          3,
          3,
          3,
          3,
          3,
          3,
          10,
          2,
          3,
          2,
          3,
          2,
          2,
          3,
          2,
          2,
          2,
          2,
          2,
          3,
          6,
          3,
          2,
          3,
          3,
          3,
          3,
          2,
          3,
          3,
          3,
          3,
          3,
          2,
          3,
          3,
          3,
          3,
          3,
          3,
          3,
          3,
          3,
          2,
          3,
          2,
          3,
          3,
          5,
          3,
          3,
          2,
          2,
          3,
          2,
          2,
          2,
          3,
          2,
          2,
          3,
          3,
          2,
          2,
          2,
          2,
          3,
          2,
          2,
          3,
          4,
          3,
          3,
          3,
          3,
          2,
          2,
          3,
          2,
          5,
          3,
          3,
          2,
          3,
          3,
          6,
          3,
          5,
          3,
          3,
          2,
          2,
          3,
          5,
          3,
          3,
          3,
          3,
          6,
          3,
          6,
          10,
          3,
          3,
          3,
          5,
          5,
          2,
          3,
          3,
          3,
          5,
          3,
          3,
          5,
          3,
          3,
          3,
          3,
          3,
          4,
          3,
          3,
          3,
          3,
          4,
          2,
          2,
          3,
          3,
          3,
          4,
          3,
          2,
          2,
          3,
          3,
          3,
          3,
          3,
          3,
          2,
          3,
          3,
          3,
          3,
          3,
          3,
          2,
          3,
          3,
          3,
          3,
          2,
          3,
          3,
          2,
          3,
          2,
          2,
          2,
          3,
          3,
          3,
          3,
          3,
          2,
          2,
          3,
          3,
          3,
          3,
          3,
          3,
          4,
          3,
          2,
          3,
          6,
          3,
          3,
          2,
          2,
          3,
          3,
          3,
          3,
          3,
          3,
          3,
          3,
          2,
          5,
          3,
          5,
          3,
          3,
          3,
          3,
          5,
          3,
          3,
          2,
          3,
          3,
          3,
          2,
          3,
          3,
          3,
          2,
          3,
          3,
          3,
          2,
          3,
          3,
          3,
          3,
          2,
          3,
          3,
          2,
          3,
          4,
          3,
          2,
          2,
          2,
          2,
          3,
          2,
          2,
          3,
          3,
          2,
          2,
          6,
          3,
          3,
          3,
          3,
          3,
          3,
          3,
          3,
          6,
          3,
          2,
          10,
          3,
          2,
          3,
          2,
          2,
          3,
          2,
          2,
          3,
          3,
          2,
          6,
          2,
          2,
          3,
          2,
          2,
          3,
          3,
          3,
          3,
          3,
          3,
          3,
          3,
          3,
          3,
          2,
          3,
          3,
          3,
          6,
          3,
          10,
          10,
          10,
          2,
          3,
          10,
          10,
          7,
          10,
          7,
          5,
          10,
          3,
          7,
          9,
          3,
          3,
          3,
          3,
          2,
          2,
          2,
          2,
          3,
          3,
          2,
          3,
          3,
          2,
          3,
          2,
          2,
          3,
          3,
          2,
          2,
          3,
          2,
          2,
          3,
          2,
          3,
          3,
          3,
          2,
          2,
          3,
          3,
          3,
          2,
          3,
          3,
          3,
          5,
          2,
          2,
          2,
          3,
          3,
          3,
          2,
          3,
          2,
          3,
          2,
          3,
          3,
          3,
          2,
          3,
          3,
          3,
          2,
          3,
          2,
          3,
          3,
          3,
          3,
          5,
          2,
          2,
          2,
          3,
          2,
          2,
          3,
          3,
          3,
          3,
          2,
          3,
          2,
          2,
          3,
          2,
          2,
          3,
          3,
          3,
          2,
          5,
          2,
          3,
          3,
          3,
          2,
          3,
          5,
          3,
          3,
          2,
          5,
          3,
          2,
          5,
          3,
          5,
          6,
          2,
          6,
          3,
          3,
          3,
          2,
          3,
          3,
          3,
          3,
          3,
          2,
          3,
          3,
          2,
          5,
          3,
          3,
          3,
          2,
          6,
          3,
          3,
          3,
          2,
          2,
          3,
          2,
          3,
          2,
          2,
          2,
          3,
          3,
          3,
          3,
          3,
          3,
          3,
          3,
          3,
          3,
          3,
          5,
          3,
          3,
          2,
          3,
          3,
          3,
          3,
          3,
          2,
          3,
          3,
          3,
          3,
          2,
          3,
          3,
          3,
          3,
          2,
          3,
          3,
          3,
          5,
          6,
          5,
          5,
          6,
          4,
          6,
          10,
          3,
          6,
          3,
          6,
          2,
          3,
          2,
          3,
          3,
          2,
          3,
          3,
          3,
          2,
          6,
          3,
          3,
          2,
          3,
          3,
          3,
          3,
          2,
          2,
          2,
          3,
          3,
          3,
          5,
          2,
          3,
          2,
          2,
          2,
          3,
          3,
          3,
          3,
          3,
          2,
          2,
          2,
          2,
          2,
          3,
          2,
          2,
          2,
          2,
          2,
          2,
          3,
          2,
          2,
          3,
          2,
          3,
          2,
          2,
          2,
          3,
          2,
          2,
          3,
          3,
          2,
          3,
          3,
          5,
          2,
          3,
          3,
          3,
          3,
          3,
          3,
          3,
          3,
          3,
          3,
          3,
          3,
          3,
          3,
          3,
          3,
          3,
          3,
          2,
          2,
          3,
          3,
          3,
          3,
          6,
          3,
          3,
          6,
          3,
          6,
          12,
          5,
          3,
          3,
          5,
          12,
          3,
          12,
          12,
          12,
          12,
          3,
          12,
          2,
          3,
          12,
          3,
          3,
          12,
          5,
          4,
          3,
          12,
          4,
          12,
          2,
          5,
          3,
          3,
          2,
          5,
          3,
          3,
          12,
          12,
          12,
          5,
          3,
          12,
          2,
          12,
          12,
          3,
          2,
          2,
          3,
          12,
          3,
          5,
          12,
          3,
          12,
          5,
          10,
          10,
          12,
          12,
          5,
          5,
          5,
          12,
          12,
          3,
          12,
          12,
          12,
          12,
          12,
          5,
          4,
          2,
          3,
          2,
          3,
          3,
          3,
          2,
          3,
          2,
          3,
          3,
          6,
          5,
          6,
          3,
          3,
          3,
          3,
          3,
          3,
          3,
          3,
          3,
          3,
          3,
          3,
          3,
          3,
          3,
          3,
          3,
          3,
          3,
          3,
          3,
          3,
          3,
          3,
          3,
          3,
          3,
          3,
          3,
          3,
          3,
          3,
          3,
          3,
          3,
          3,
          3,
          3,
          3,
          3,
          3,
          3,
          3,
          3,
          3,
          3,
          3,
          3,
          3,
          3,
          3,
          2,
          3,
          3,
          3,
          3,
          3,
          3,
          3,
          2,
          3,
          3,
          3,
          3,
          3,
          3,
          3,
          3,
          3,
          3,
          3,
          10,
          3,
          3,
          3,
          2,
          2,
          3,
          6,
          2,
          6,
          6,
          5,
          3,
          3,
          3,
          4,
          5,
          5,
          3,
          3,
          5,
          3,
          2,
          2,
          3,
          3,
          3,
          5,
          2,
          5,
          3,
          3,
          3,
          3,
          3,
          3,
          3,
          2,
          3,
          5,
          2,
          2,
          2,
          2,
          2,
          2,
          3,
          3,
          3,
          3,
          3,
          10,
          10,
          3,
          10,
          10,
          10,
          10,
          10,
          3,
          24,
          3,
          3,
          2,
          2,
          2,
          3,
          3,
          2,
          3,
          3,
          2,
          3,
          2,
          3,
          2,
          3,
          2,
          3,
          3,
          2,
          2,
          2,
          3,
          3,
          3,
          3,
          3,
          5,
          3,
          3,
          3,
          3,
          3,
          2,
          5,
          2,
          3,
          2,
          2,
          3,
          5,
          3,
          5,
          5,
          3,
          2,
          3,
          5,
          3,
          2,
          3,
          3,
          3,
          2,
          2,
          3,
          3,
          2,
          3,
          3,
          4,
          3,
          3,
          3,
          2,
          4,
          2,
          3,
          3,
          3,
          3,
          3,
          2,
          2,
          5,
          3,
          3,
          2,
          2,
          5,
          2,
          3,
          2,
          3,
          2,
          2,
          3,
          2,
          2,
          3,
          3,
          3,
          3,
          2,
          5,
          2,
          5,
          3,
          3,
          2,
          2,
          3,
          3,
          2,
          3,
          2,
          3,
          8,
          3,
          3,
          2,
          2,
          2,
          6,
          3,
          3,
          2,
          3,
          3,
          2,
          6,
          3,
          2,
          3,
          6,
          2,
          3,
          3,
          2,
          2,
          3,
          3,
          3,
          3,
          3,
          2,
          3,
          2,
          3,
          3,
          2,
          3,
          3,
          3,
          2,
          6,
          2,
          3,
          3,
          2,
          3,
          3,
          3,
          3,
          3,
          3,
          3,
          3,
          5,
          3,
          3,
          3,
          3,
          3,
          2,
          3,
          2,
          2,
          3,
          3,
          2,
          3,
          6,
          3,
          3,
          3,
          3,
          2,
          2,
          3,
          3,
          3,
          3,
          3,
          2,
          3,
          3,
          3,
          3,
          3,
          3,
          2,
          3,
          2,
          3,
          3,
          3,
          3,
          3,
          3,
          3,
          3,
          3,
          3,
          3,
          3,
          3,
          3,
          3,
          3,
          3,
          3,
          3,
          3,
          3,
          3,
          3,
          3,
          3,
          3,
          3,
          3,
          3,
          3,
          6,
          6,
          3,
          3,
          6,
          6,
          3,
          6,
          6,
          3,
          3,
          3,
          3,
          3,
          3,
          3,
          3,
          3,
          3,
          3,
          3,
          3,
          3,
          5,
          3,
          3,
          3,
          3,
          3,
          3,
          3,
          3,
          3,
          10,
          3,
          3,
          3,
          3,
          6,
          3,
          3,
          3,
          2,
          2,
          3,
          2,
          2,
          3,
          3,
          3,
          3,
          3,
          2,
          3,
          3,
          2,
          3,
          3,
          2,
          3,
          6,
          2,
          2,
          3,
          2,
          2,
          3,
          2,
          3,
          3,
          3,
          3,
          2,
          3,
          3,
          2,
          2,
          3,
          3,
          3,
          3,
          3,
          3,
          3,
          2,
          3,
          5,
          3,
          2,
          3,
          2,
          5,
          3,
          2,
          3,
          3,
          2,
          10,
          3,
          3,
          3,
          3,
          3,
          3,
          3,
          2,
          2,
          2,
          5,
          6,
          3,
          10,
          3,
          3,
          2,
          6,
          6,
          12,
          12,
          10,
          3,
          2,
          3,
          2,
          24,
          3,
          10,
          3,
          3,
          3,
          3,
          3,
          3,
          5,
          2,
          2,
          3,
          3,
          2,
          3,
          3,
          2,
          3,
          3,
          3,
          3,
          3,
          3,
          3,
          5,
          5,
          3,
          3,
          3,
          2,
          2,
          3,
          3,
          3,
          3,
          2,
          2,
          2,
          3,
          3,
          3,
          3,
          3,
          3,
          5,
          3,
          3,
          2,
          2,
          3,
          3,
          2,
          3,
          2,
          3,
          2,
          3,
          3,
          3,
          3,
          3,
          3,
          2,
          3,
          2,
          3,
          2,
          3,
          3,
          2,
          3,
          3,
          3,
          3,
          2,
          3,
          3,
          2,
          2,
          3,
          2,
          3,
          2,
          3,
          3,
          2,
          3,
          3,
          3,
          3,
          3,
          3,
          2,
          3,
          2,
          3,
          3,
          3,
          3,
          3,
          3,
          2,
          3,
          3,
          3,
          3,
          3,
          3,
          2,
          3,
          3,
          3,
          3,
          3,
          3,
          3,
          2,
          2,
          2,
          2,
          2,
          2,
          3,
          3,
          3,
          2,
          3,
          2,
          3,
          3,
          3,
          2,
          2,
          3,
          3,
          2,
          3,
          3,
          3,
          3,
          2,
          3,
          3,
          3,
          3,
          3,
          3,
          3,
          3,
          3,
          3,
          3,
          3,
          3,
          3,
          3,
          3,
          2,
          3,
          3,
          3,
          3,
          2,
          2,
          2,
          2,
          5,
          3,
          3,
          3,
          3,
          3,
          2,
          6,
          3,
          6,
          3,
          6,
          2,
          3,
          3,
          3,
          3,
          3,
          3,
          3,
          3,
          3,
          3,
          3,
          3,
          3,
          3,
          3,
          3,
          3,
          3,
          6,
          6,
          3,
          3,
          3,
          3,
          3,
          3,
          3,
          3,
          3,
          3,
          3,
          3,
          5,
          6,
          6,
          2,
          3,
          3,
          6,
          2,
          3,
          10,
          6,
          3,
          2,
          2,
          2,
          2,
          2,
          3,
          2,
          2,
          2,
          2,
          3,
          3,
          3,
          3,
          3,
          3,
          3,
          3,
          3,
          5,
          5,
          2,
          3,
          3,
          2,
          3,
          2,
          3,
          3,
          3,
          3,
          3,
          3,
          3,
          3,
          3,
          3,
          3,
          2,
          2,
          3,
          3,
          2,
          2,
          3,
          3,
          3,
          2,
          2,
          5,
          2,
          3,
          2,
          2,
          2,
          2,
          2,
          2,
          3,
          3,
          3,
          3,
          3,
          2,
          3,
          3,
          2,
          2,
          3,
          2,
          8,
          3,
          2,
          3,
          3,
          2,
          2,
          2,
          3,
          2,
          3,
          3,
          3,
          2,
          3,
          3,
          3,
          3,
          3,
          6,
          3,
          3,
          3,
          3,
          2,
          3,
          3,
          3,
          3,
          2,
          3,
          3,
          3,
          2,
          3,
          3,
          2,
          3,
          3,
          3,
          3,
          5,
          3,
          3,
          2,
          3,
          3,
          2,
          3,
          3,
          2,
          3,
          3,
          3,
          2,
          2,
          2,
          3,
          3,
          2,
          3,
          2,
          3,
          3,
          3,
          3,
          2,
          3,
          3,
          3,
          3,
          3,
          3,
          3,
          2,
          2,
          2,
          2,
          3,
          3,
          3,
          3,
          3,
          2,
          3,
          2,
          3,
          3,
          2,
          3,
          3,
          3,
          3,
          3,
          3,
          10,
          3,
          2,
          3,
          6,
          3,
          3,
          3,
          3,
          3,
          3,
          3,
          3,
          3,
          3,
          3,
          3,
          3,
          3,
          3,
          3,
          3,
          3,
          3,
          2,
          2,
          3,
          2,
          3,
          3,
          3,
          3,
          3,
          3,
          3,
          2,
          3,
          2,
          2,
          3,
          3,
          2,
          5,
          2,
          2,
          3,
          3,
          3,
          2,
          3,
          3,
          2,
          3,
          3,
          5,
          10,
          6,
          3,
          10,
          3,
          5,
          3,
          10,
          2,
          3,
          3,
          2,
          2,
          2,
          3,
          3,
          3,
          3,
          3,
          2,
          3,
          3,
          3,
          2,
          6,
          3,
          10,
          5,
          5,
          5,
          5,
          6,
          3,
          2,
          3,
          3,
          3,
          2,
          3,
          5,
          3,
          3,
          3,
          10,
          10,
          10,
          3,
          6,
          10,
          10,
          10,
          3,
          6,
          10,
          3,
          3,
          3,
          3,
          3,
          6,
          2,
          3,
          3,
          3,
          3,
          3,
          2,
          3,
          3,
          3,
          2,
          2,
          5,
          3,
          2,
          2,
          3,
          3,
          3,
          3,
          3,
          3,
          3,
          3,
          3,
          3,
          12,
          3,
          2,
          3,
          3,
          2,
          3,
          3,
          3,
          10,
          3,
          3,
          5,
          2,
          3,
          3,
          5,
          3,
          2,
          3,
          3,
          3,
          2,
          3,
          3,
          3,
          2,
          6,
          3,
          3,
          3,
          3,
          3,
          3,
          3,
          2,
          3,
          3,
          3,
          3,
          2,
          3,
          2,
          3,
          3,
          2,
          2,
          2,
          3,
          2,
          3,
          2,
          5,
          3,
          3,
          3,
          3,
          3,
          6,
          3,
          2,
          3,
          3,
          3,
          3,
          3,
          3,
          3,
          3,
          3,
          3,
          2,
          3,
          3,
          3,
          3,
          5,
          6,
          3,
          2,
          3,
          6,
          3,
          3,
          3,
          3,
          3,
          2,
          2,
          3,
          3,
          4,
          5,
          2,
          3,
          3,
          3,
          3,
          3,
          3,
          3,
          2,
          3,
          3,
          3,
          3,
          2,
          2,
          3,
          3,
          3,
          3,
          3,
          3,
          3,
          3,
          3,
          3,
          3,
          10,
          10,
          10,
          3,
          12,
          3,
          3,
          3,
          3,
          10,
          3,
          3,
          3,
          2,
          6,
          4,
          3,
          3,
          6,
          3,
          6,
          6,
          3,
          3,
          6,
          2,
          2,
          6,
          3,
          3,
          3,
          3,
          3,
          3,
          3,
          6,
          3,
          2,
          3,
          3,
          3,
          3,
          5,
          3,
          2,
          3,
          3,
          5,
          3,
          3,
          3,
          3,
          3,
          2,
          2,
          3,
          3,
          3,
          3,
          3,
          2,
          6,
          6,
          2,
          3,
          3,
          5,
          5,
          5,
          3,
          3,
          3,
          2,
          5,
          5,
          5,
          12,
          2,
          3,
          3,
          3,
          3,
          3,
          6,
          6,
          6,
          6,
          2,
          3,
          2,
          6,
          6,
          6,
          6,
          3,
          6,
          3,
          2,
          6,
          3,
          6,
          5,
          6,
          6,
          3,
          6,
          3,
          3,
          6,
          3,
          24,
          10,
          5,
          5,
          5,
          10,
          6,
          3,
          3,
          10,
          3,
          3,
          3,
          3,
          3,
          3,
          3,
          3,
          3,
          3,
          2,
          3,
          2,
          3,
          3,
          2,
          3,
          3,
          2,
          3,
          3,
          3,
          3,
          10,
          3,
          3,
          3,
          3,
          3,
          3,
          2,
          3,
          12,
          2,
          3,
          2,
          3,
          3,
          5,
          3,
          3,
          3,
          3,
          3,
          3,
          3,
          3,
          3,
          3,
          3,
          3,
          3,
          2,
          3,
          3,
          3,
          3,
          3,
          3,
          3,
          3,
          3,
          3,
          3,
          3,
          3,
          3,
          3,
          3,
          3,
          2,
          2,
          2,
          3,
          3,
          5,
          3,
          3,
          3,
          3,
          3,
          3,
          5,
          3,
          2,
          3,
          3,
          3,
          10,
          10,
          10,
          3,
          3,
          10,
          3,
          12,
          3,
          12,
          12,
          5,
          3,
          3,
          3,
          6,
          3,
          3,
          3,
          3,
          3,
          3,
          3,
          2,
          3,
          3,
          3,
          3,
          3,
          3,
          3,
          3,
          3,
          3,
          3,
          3,
          3,
          3,
          3,
          3,
          3,
          2,
          3,
          3,
          5,
          3,
          4,
          2,
          3,
          3,
          3,
          3,
          2,
          3,
          3,
          3,
          3,
          3,
          3,
          3,
          3,
          2,
          3,
          3,
          3,
          3,
          3,
          3,
          6,
          3,
          2,
          5,
          3,
          3,
          3,
          12,
          2,
          3,
          3,
          3,
          3,
          3,
          3,
          6,
          3,
          2,
          3,
          12,
          2,
          3,
          2,
          3,
          3,
          3,
          3,
          3,
          5,
          2,
          3,
          3,
          3,
          3,
          3,
          3,
          3,
          3,
          2,
          3,
          2,
          3,
          3,
          3,
          2,
          2,
          3,
          2,
          2,
          2,
          3,
          3,
          3,
          3,
          3,
          3,
          3,
          2,
          3,
          3,
          2,
          3,
          3,
          2,
          3,
          2,
          3,
          3,
          2,
          3,
          3,
          2,
          2,
          2,
          2,
          2,
          3,
          2,
          2,
          5,
          3,
          2,
          3,
          3,
          3,
          3,
          2,
          3,
          2,
          3,
          3,
          2,
          5,
          3,
          2,
          3,
          3,
          3,
          3,
          2,
          3,
          3,
          3,
          3,
          2,
          3,
          3,
          3,
          2,
          3,
          3,
          3,
          3,
          3,
          2,
          3,
          5,
          5,
          5,
          2,
          2,
          3,
          5,
          5,
          3,
          2,
          3,
          3,
          2,
          2,
          3,
          3,
          3,
          3,
          2,
          3,
          3,
          3,
          3,
          3,
          3,
          3,
          3,
          3,
          3,
          3,
          3,
          3,
          3,
          3,
          3,
          3,
          3,
          3,
          3,
          3,
          3,
          3,
          3,
          3,
          3,
          3,
          3,
          3,
          3,
          3,
          2,
          3,
          2,
          3,
          3,
          10,
          3,
          3,
          3,
          3,
          2,
          2,
          3,
          12,
          2,
          4,
          3,
          3,
          3,
          3,
          3,
          24,
          2,
          3,
          2,
          3,
          2,
          3,
          3,
          3,
          5,
          3,
          3,
          3,
          24,
          3,
          3,
          3,
          2,
          24,
          3,
          3,
          3,
          3,
          12,
          3,
          3,
          3,
          3,
          24,
          3,
          24,
          24,
          3,
          24,
          3,
          2,
          12,
          5,
          24,
          24,
          2,
          3,
          3,
          5,
          2,
          20,
          2,
          2,
          3,
          3,
          2,
          6,
          3,
          3,
          3,
          3,
          3,
          2,
          2,
          3,
          3,
          3,
          3,
          3,
          3,
          3,
          3,
          3,
          3,
          3,
          3,
          3,
          3,
          3,
          2,
          2,
          3,
          3,
          3,
          3,
          2,
          2,
          2,
          3,
          2,
          2,
          2,
          3,
          2,
          2,
          3,
          3,
          5,
          2,
          3,
          3,
          3,
          2,
          3,
          2,
          2,
          2,
          3,
          2,
          3,
          3,
          2,
          3,
          3,
          3,
          2,
          5,
          2,
          2,
          3,
          3,
          3,
          2,
          3,
          6,
          3,
          5,
          3,
          3,
          2,
          3,
          6,
          5,
          4,
          2,
          2,
          3,
          3,
          3,
          3,
          3,
          4,
          3,
          3,
          5,
          2,
          4,
          3,
          6,
          3,
          10,
          3,
          3,
          3,
          3,
          3,
          3,
          6,
          2,
          3,
          6,
          6,
          3,
          3,
          5,
          2,
          2,
          5,
          3,
          3,
          3,
          4,
          6,
          3,
          5,
          3,
          3,
          3,
          3,
          3,
          5,
          2,
          3,
          3,
          2,
          3,
          3,
          3,
          3,
          2,
          3,
          10,
          3,
          3,
          3,
          3,
          2,
          3,
          3,
          3,
          3,
          3,
          2,
          3,
          12,
          3,
          2,
          2,
          3,
          3,
          3,
          3,
          2,
          3,
          2,
          2,
          3,
          2,
          3,
          2,
          3,
          3,
          3,
          2,
          2,
          3,
          3,
          2,
          2,
          2,
          3,
          3,
          3,
          3,
          3,
          6,
          3,
          3,
          6,
          6,
          5,
          6,
          3,
          6,
          4,
          3,
          6,
          6,
          6,
          6,
          3,
          3,
          3,
          3,
          5,
          2,
          3,
          2,
          2,
          2,
          3,
          3,
          2,
          3,
          3,
          2,
          2,
          3,
          3,
          3,
          3,
          2,
          3,
          3,
          3,
          3,
          3,
          3,
          3,
          3,
          3,
          3,
          3,
          3,
          2,
          3,
          2,
          3,
          2,
          3,
          2,
          2,
          2,
          3,
          3,
          2,
          6,
          2,
          2,
          2,
          6,
          2,
          2,
          6,
          3,
          2,
          3,
          3,
          5,
          2,
          3,
          3,
          3,
          3,
          3,
          3,
          2,
          3,
          3,
          3,
          3,
          3,
          3,
          3,
          3,
          3,
          2,
          3,
          2,
          3,
          2,
          3,
          2,
          2,
          3,
          3,
          3,
          2,
          3,
          3,
          3,
          3,
          3,
          3,
          3,
          5,
          3,
          3,
          2,
          3,
          3,
          3,
          2,
          3,
          3,
          3,
          3,
          2,
          3,
          2,
          3,
          2,
          3,
          3,
          2,
          3,
          3,
          3,
          3,
          3,
          3,
          3,
          3,
          3,
          3,
          3,
          3,
          3,
          3,
          3,
          3,
          3,
          3,
          3,
          3,
          3,
          3,
          3,
          3,
          3,
          3,
          3,
          3,
          3,
          3,
          3,
          3,
          3,
          3,
          3,
          3,
          3,
          3,
          3,
          3,
          3,
          3,
          3,
          3,
          3,
          3,
          3,
          3,
          3,
          3,
          3,
          3,
          3,
          3,
          3,
          3,
          3,
          3,
          3,
          3,
          3,
          3,
          3,
          3,
          3,
          3,
          10,
          3,
          3,
          3,
          3,
          3,
          3,
          3,
          3,
          3,
          3,
          3,
          3,
          2,
          2,
          3,
          3,
          3,
          3,
          2,
          3,
          3,
          2,
          3,
          3,
          2,
          3,
          3,
          3,
          3,
          3,
          3,
          3,
          3,
          3,
          3,
          3,
          3,
          3,
          3,
          2,
          2,
          3,
          3,
          3,
          2,
          2,
          2,
          3,
          2,
          3,
          2,
          3,
          2,
          3,
          3,
          3,
          3,
          2,
          3,
          3,
          3,
          3,
          3,
          3,
          3,
          3,
          3,
          2,
          2,
          5,
          3,
          3,
          5,
          5,
          3,
          3,
          3,
          2,
          3,
          3,
          3,
          3,
          3,
          3,
          3,
          2,
          3,
          3,
          3,
          4,
          3,
          3,
          3,
          3,
          3,
          5,
          5,
          5,
          3,
          3,
          3,
          2,
          6,
          3,
          6,
          2,
          5,
          3,
          4,
          5,
          2,
          5,
          3,
          5,
          3,
          2,
          3,
          3,
          5,
          3,
          5,
          3,
          2,
          5,
          2,
          3,
          5,
          5,
          5,
          5,
          5,
          3,
          3,
          5,
          3,
          3,
          3,
          3,
          5,
          2,
          5,
          2,
          2,
          2,
          3,
          3,
          3,
          2,
          3,
          3,
          3,
          3,
          2,
          2,
          3,
          4,
          3,
          3,
          3,
          3,
          3,
          3,
          3,
          2,
          3,
          5,
          2,
          5,
          3,
          3,
          5,
          3,
          2,
          3,
          5,
          5,
          3,
          3,
          3,
          5,
          5,
          3,
          5,
          3,
          3,
          3,
          3,
          2,
          5,
          3,
          5,
          5,
          5,
          5,
          3,
          3,
          3,
          3,
          2,
          5,
          6,
          6,
          3,
          3,
          3,
          3,
          3,
          6,
          5,
          3,
          2,
          3,
          6,
          3,
          3,
          3,
          5,
          3,
          3,
          3,
          3,
          6,
          5,
          6,
          6,
          3,
          2,
          6,
          3,
          2,
          3,
          2,
          6,
          3,
          2,
          2,
          3,
          3,
          3,
          3,
          3,
          2,
          3,
          6,
          3,
          3,
          3,
          3,
          3,
          3,
          3,
          3,
          3,
          3,
          3,
          2,
          3,
          3,
          3,
          3,
          3,
          3,
          3,
          3,
          3,
          3,
          3,
          3,
          3,
          2,
          3,
          3,
          3,
          3,
          3,
          3,
          2,
          3,
          3,
          3,
          2,
          2,
          3,
          4,
          3,
          4,
          5,
          3,
          3,
          3,
          3,
          3,
          3,
          3,
          3,
          3,
          3,
          3,
          5,
          3,
          3,
          3,
          5,
          5,
          2,
          2,
          3,
          5,
          2,
          3,
          3,
          3,
          3,
          3,
          3,
          3,
          3,
          3,
          3,
          3,
          3,
          2,
          3,
          3,
          3,
          2,
          3,
          2,
          3,
          3,
          3,
          3,
          3,
          2,
          3,
          3,
          5,
          2,
          3,
          3,
          3,
          3,
          2,
          2,
          2,
          4,
          2,
          2,
          4,
          2,
          3,
          3,
          2,
          3,
          2,
          2,
          3,
          3,
          5,
          2,
          7,
          2,
          2,
          2,
          3,
          2,
          2,
          3,
          2,
          3,
          2,
          3,
          3,
          2,
          3,
          3,
          2,
          3,
          2,
          3,
          3,
          5,
          3,
          3,
          3,
          2,
          3,
          2
         ],
         "xaxis": "x",
         "yaxis": "y"
        }
       ],
       "layout": {
        "barmode": "relative",
        "legend": {
         "tracegroupgap": 0
        },
        "margin": {
         "t": 60
        },
        "showlegend": true,
        "template": {
         "data": {
          "bar": [
           {
            "error_x": {
             "color": "#2a3f5f"
            },
            "error_y": {
             "color": "#2a3f5f"
            },
            "marker": {
             "line": {
              "color": "#E5ECF6",
              "width": 0.5
             }
            },
            "type": "bar"
           }
          ],
          "barpolar": [
           {
            "marker": {
             "line": {
              "color": "#E5ECF6",
              "width": 0.5
             }
            },
            "type": "barpolar"
           }
          ],
          "carpet": [
           {
            "aaxis": {
             "endlinecolor": "#2a3f5f",
             "gridcolor": "white",
             "linecolor": "white",
             "minorgridcolor": "white",
             "startlinecolor": "#2a3f5f"
            },
            "baxis": {
             "endlinecolor": "#2a3f5f",
             "gridcolor": "white",
             "linecolor": "white",
             "minorgridcolor": "white",
             "startlinecolor": "#2a3f5f"
            },
            "type": "carpet"
           }
          ],
          "choropleth": [
           {
            "colorbar": {
             "outlinewidth": 0,
             "ticks": ""
            },
            "type": "choropleth"
           }
          ],
          "contour": [
           {
            "colorbar": {
             "outlinewidth": 0,
             "ticks": ""
            },
            "colorscale": [
             [
              0,
              "#0d0887"
             ],
             [
              0.1111111111111111,
              "#46039f"
             ],
             [
              0.2222222222222222,
              "#7201a8"
             ],
             [
              0.3333333333333333,
              "#9c179e"
             ],
             [
              0.4444444444444444,
              "#bd3786"
             ],
             [
              0.5555555555555556,
              "#d8576b"
             ],
             [
              0.6666666666666666,
              "#ed7953"
             ],
             [
              0.7777777777777778,
              "#fb9f3a"
             ],
             [
              0.8888888888888888,
              "#fdca26"
             ],
             [
              1,
              "#f0f921"
             ]
            ],
            "type": "contour"
           }
          ],
          "contourcarpet": [
           {
            "colorbar": {
             "outlinewidth": 0,
             "ticks": ""
            },
            "type": "contourcarpet"
           }
          ],
          "heatmap": [
           {
            "colorbar": {
             "outlinewidth": 0,
             "ticks": ""
            },
            "colorscale": [
             [
              0,
              "#0d0887"
             ],
             [
              0.1111111111111111,
              "#46039f"
             ],
             [
              0.2222222222222222,
              "#7201a8"
             ],
             [
              0.3333333333333333,
              "#9c179e"
             ],
             [
              0.4444444444444444,
              "#bd3786"
             ],
             [
              0.5555555555555556,
              "#d8576b"
             ],
             [
              0.6666666666666666,
              "#ed7953"
             ],
             [
              0.7777777777777778,
              "#fb9f3a"
             ],
             [
              0.8888888888888888,
              "#fdca26"
             ],
             [
              1,
              "#f0f921"
             ]
            ],
            "type": "heatmap"
           }
          ],
          "heatmapgl": [
           {
            "colorbar": {
             "outlinewidth": 0,
             "ticks": ""
            },
            "colorscale": [
             [
              0,
              "#0d0887"
             ],
             [
              0.1111111111111111,
              "#46039f"
             ],
             [
              0.2222222222222222,
              "#7201a8"
             ],
             [
              0.3333333333333333,
              "#9c179e"
             ],
             [
              0.4444444444444444,
              "#bd3786"
             ],
             [
              0.5555555555555556,
              "#d8576b"
             ],
             [
              0.6666666666666666,
              "#ed7953"
             ],
             [
              0.7777777777777778,
              "#fb9f3a"
             ],
             [
              0.8888888888888888,
              "#fdca26"
             ],
             [
              1,
              "#f0f921"
             ]
            ],
            "type": "heatmapgl"
           }
          ],
          "histogram": [
           {
            "marker": {
             "colorbar": {
              "outlinewidth": 0,
              "ticks": ""
             }
            },
            "type": "histogram"
           }
          ],
          "histogram2d": [
           {
            "colorbar": {
             "outlinewidth": 0,
             "ticks": ""
            },
            "colorscale": [
             [
              0,
              "#0d0887"
             ],
             [
              0.1111111111111111,
              "#46039f"
             ],
             [
              0.2222222222222222,
              "#7201a8"
             ],
             [
              0.3333333333333333,
              "#9c179e"
             ],
             [
              0.4444444444444444,
              "#bd3786"
             ],
             [
              0.5555555555555556,
              "#d8576b"
             ],
             [
              0.6666666666666666,
              "#ed7953"
             ],
             [
              0.7777777777777778,
              "#fb9f3a"
             ],
             [
              0.8888888888888888,
              "#fdca26"
             ],
             [
              1,
              "#f0f921"
             ]
            ],
            "type": "histogram2d"
           }
          ],
          "histogram2dcontour": [
           {
            "colorbar": {
             "outlinewidth": 0,
             "ticks": ""
            },
            "colorscale": [
             [
              0,
              "#0d0887"
             ],
             [
              0.1111111111111111,
              "#46039f"
             ],
             [
              0.2222222222222222,
              "#7201a8"
             ],
             [
              0.3333333333333333,
              "#9c179e"
             ],
             [
              0.4444444444444444,
              "#bd3786"
             ],
             [
              0.5555555555555556,
              "#d8576b"
             ],
             [
              0.6666666666666666,
              "#ed7953"
             ],
             [
              0.7777777777777778,
              "#fb9f3a"
             ],
             [
              0.8888888888888888,
              "#fdca26"
             ],
             [
              1,
              "#f0f921"
             ]
            ],
            "type": "histogram2dcontour"
           }
          ],
          "mesh3d": [
           {
            "colorbar": {
             "outlinewidth": 0,
             "ticks": ""
            },
            "type": "mesh3d"
           }
          ],
          "parcoords": [
           {
            "line": {
             "colorbar": {
              "outlinewidth": 0,
              "ticks": ""
             }
            },
            "type": "parcoords"
           }
          ],
          "pie": [
           {
            "automargin": true,
            "type": "pie"
           }
          ],
          "scatter": [
           {
            "marker": {
             "colorbar": {
              "outlinewidth": 0,
              "ticks": ""
             }
            },
            "type": "scatter"
           }
          ],
          "scatter3d": [
           {
            "line": {
             "colorbar": {
              "outlinewidth": 0,
              "ticks": ""
             }
            },
            "marker": {
             "colorbar": {
              "outlinewidth": 0,
              "ticks": ""
             }
            },
            "type": "scatter3d"
           }
          ],
          "scattercarpet": [
           {
            "marker": {
             "colorbar": {
              "outlinewidth": 0,
              "ticks": ""
             }
            },
            "type": "scattercarpet"
           }
          ],
          "scattergeo": [
           {
            "marker": {
             "colorbar": {
              "outlinewidth": 0,
              "ticks": ""
             }
            },
            "type": "scattergeo"
           }
          ],
          "scattergl": [
           {
            "marker": {
             "colorbar": {
              "outlinewidth": 0,
              "ticks": ""
             }
            },
            "type": "scattergl"
           }
          ],
          "scattermapbox": [
           {
            "marker": {
             "colorbar": {
              "outlinewidth": 0,
              "ticks": ""
             }
            },
            "type": "scattermapbox"
           }
          ],
          "scatterpolar": [
           {
            "marker": {
             "colorbar": {
              "outlinewidth": 0,
              "ticks": ""
             }
            },
            "type": "scatterpolar"
           }
          ],
          "scatterpolargl": [
           {
            "marker": {
             "colorbar": {
              "outlinewidth": 0,
              "ticks": ""
             }
            },
            "type": "scatterpolargl"
           }
          ],
          "scatterternary": [
           {
            "marker": {
             "colorbar": {
              "outlinewidth": 0,
              "ticks": ""
             }
            },
            "type": "scatterternary"
           }
          ],
          "surface": [
           {
            "colorbar": {
             "outlinewidth": 0,
             "ticks": ""
            },
            "colorscale": [
             [
              0,
              "#0d0887"
             ],
             [
              0.1111111111111111,
              "#46039f"
             ],
             [
              0.2222222222222222,
              "#7201a8"
             ],
             [
              0.3333333333333333,
              "#9c179e"
             ],
             [
              0.4444444444444444,
              "#bd3786"
             ],
             [
              0.5555555555555556,
              "#d8576b"
             ],
             [
              0.6666666666666666,
              "#ed7953"
             ],
             [
              0.7777777777777778,
              "#fb9f3a"
             ],
             [
              0.8888888888888888,
              "#fdca26"
             ],
             [
              1,
              "#f0f921"
             ]
            ],
            "type": "surface"
           }
          ],
          "table": [
           {
            "cells": {
             "fill": {
              "color": "#EBF0F8"
             },
             "line": {
              "color": "white"
             }
            },
            "header": {
             "fill": {
              "color": "#C8D4E3"
             },
             "line": {
              "color": "white"
             }
            },
            "type": "table"
           }
          ]
         },
         "layout": {
          "annotationdefaults": {
           "arrowcolor": "#2a3f5f",
           "arrowhead": 0,
           "arrowwidth": 1
          },
          "coloraxis": {
           "colorbar": {
            "outlinewidth": 0,
            "ticks": ""
           }
          },
          "colorscale": {
           "diverging": [
            [
             0,
             "#8e0152"
            ],
            [
             0.1,
             "#c51b7d"
            ],
            [
             0.2,
             "#de77ae"
            ],
            [
             0.3,
             "#f1b6da"
            ],
            [
             0.4,
             "#fde0ef"
            ],
            [
             0.5,
             "#f7f7f7"
            ],
            [
             0.6,
             "#e6f5d0"
            ],
            [
             0.7,
             "#b8e186"
            ],
            [
             0.8,
             "#7fbc41"
            ],
            [
             0.9,
             "#4d9221"
            ],
            [
             1,
             "#276419"
            ]
           ],
           "sequential": [
            [
             0,
             "#0d0887"
            ],
            [
             0.1111111111111111,
             "#46039f"
            ],
            [
             0.2222222222222222,
             "#7201a8"
            ],
            [
             0.3333333333333333,
             "#9c179e"
            ],
            [
             0.4444444444444444,
             "#bd3786"
            ],
            [
             0.5555555555555556,
             "#d8576b"
            ],
            [
             0.6666666666666666,
             "#ed7953"
            ],
            [
             0.7777777777777778,
             "#fb9f3a"
            ],
            [
             0.8888888888888888,
             "#fdca26"
            ],
            [
             1,
             "#f0f921"
            ]
           ],
           "sequentialminus": [
            [
             0,
             "#0d0887"
            ],
            [
             0.1111111111111111,
             "#46039f"
            ],
            [
             0.2222222222222222,
             "#7201a8"
            ],
            [
             0.3333333333333333,
             "#9c179e"
            ],
            [
             0.4444444444444444,
             "#bd3786"
            ],
            [
             0.5555555555555556,
             "#d8576b"
            ],
            [
             0.6666666666666666,
             "#ed7953"
            ],
            [
             0.7777777777777778,
             "#fb9f3a"
            ],
            [
             0.8888888888888888,
             "#fdca26"
            ],
            [
             1,
             "#f0f921"
            ]
           ]
          },
          "colorway": [
           "#636efa",
           "#EF553B",
           "#00cc96",
           "#ab63fa",
           "#FFA15A",
           "#19d3f3",
           "#FF6692",
           "#B6E880",
           "#FF97FF",
           "#FECB52"
          ],
          "font": {
           "color": "#2a3f5f"
          },
          "geo": {
           "bgcolor": "white",
           "lakecolor": "white",
           "landcolor": "#E5ECF6",
           "showlakes": true,
           "showland": true,
           "subunitcolor": "white"
          },
          "hoverlabel": {
           "align": "left"
          },
          "hovermode": "closest",
          "mapbox": {
           "style": "light"
          },
          "paper_bgcolor": "white",
          "plot_bgcolor": "#E5ECF6",
          "polar": {
           "angularaxis": {
            "gridcolor": "white",
            "linecolor": "white",
            "ticks": ""
           },
           "bgcolor": "#E5ECF6",
           "radialaxis": {
            "gridcolor": "white",
            "linecolor": "white",
            "ticks": ""
           }
          },
          "scene": {
           "xaxis": {
            "backgroundcolor": "#E5ECF6",
            "gridcolor": "white",
            "gridwidth": 2,
            "linecolor": "white",
            "showbackground": true,
            "ticks": "",
            "zerolinecolor": "white"
           },
           "yaxis": {
            "backgroundcolor": "#E5ECF6",
            "gridcolor": "white",
            "gridwidth": 2,
            "linecolor": "white",
            "showbackground": true,
            "ticks": "",
            "zerolinecolor": "white"
           },
           "zaxis": {
            "backgroundcolor": "#E5ECF6",
            "gridcolor": "white",
            "gridwidth": 2,
            "linecolor": "white",
            "showbackground": true,
            "ticks": "",
            "zerolinecolor": "white"
           }
          },
          "shapedefaults": {
           "line": {
            "color": "#2a3f5f"
           }
          },
          "ternary": {
           "aaxis": {
            "gridcolor": "white",
            "linecolor": "white",
            "ticks": ""
           },
           "baxis": {
            "gridcolor": "white",
            "linecolor": "white",
            "ticks": ""
           },
           "bgcolor": "#E5ECF6",
           "caxis": {
            "gridcolor": "white",
            "linecolor": "white",
            "ticks": ""
           }
          },
          "title": {
           "x": 0.05
          },
          "xaxis": {
           "automargin": true,
           "gridcolor": "white",
           "linecolor": "white",
           "ticks": "",
           "title": {
            "standoff": 15
           },
           "zerolinecolor": "white",
           "zerolinewidth": 2
          },
          "yaxis": {
           "automargin": true,
           "gridcolor": "white",
           "linecolor": "white",
           "ticks": "",
           "title": {
            "standoff": 15
           },
           "zerolinecolor": "white",
           "zerolinewidth": 2
          }
         }
        },
        "title": {
         "text": "개월수별 할부 빈도수"
        },
        "xaxis": {
         "anchor": "y",
         "domain": [
          0,
          1
         ],
         "title": {
          "text": "할부 개월수"
         }
        },
        "yaxis": {
         "anchor": "x",
         "domain": [
          0,
          1
         ],
         "title": {
          "text": "빈도수"
         }
        }
       }
      },
      "text/html": [
       "<div>                            <div id=\"e5a69c32-78b8-44aa-a6dd-d46ad0588df1\" class=\"plotly-graph-div\" style=\"height:525px; width:100%;\"></div>            <script type=\"text/javascript\">                require([\"plotly\"], function(Plotly) {                    window.PLOTLYENV=window.PLOTLYENV || {};                                    if (document.getElementById(\"e5a69c32-78b8-44aa-a6dd-d46ad0588df1\")) {                    Plotly.newPlot(                        \"e5a69c32-78b8-44aa-a6dd-d46ad0588df1\",                        [{\"alignmentgroup\": \"True\", \"bingroup\": \"x\", \"hovertemplate\": \"installments=%{x}<br>count=%{y}<extra></extra>\", \"legendgroup\": \"\", \"marker\": {\"color\": \"#636efa\"}, \"name\": \"\", \"offsetgroup\": \"\", \"orientation\": \"v\", \"showlegend\": false, \"type\": \"histogram\", \"x\": [2.0, 3.0, 3.0, 3.0, 2.0, 3.0, 3.0, 3.0, 3.0, 3.0, 4.0, 3.0, 3.0, 3.0, 2.0, 3.0, 3.0, 3.0, 3.0, 2.0, 2.0, 3.0, 2.0, 3.0, 3.0, 2.0, 3.0, 3.0, 3.0, 3.0, 2.0, 3.0, 2.0, 3.0, 2.0, 3.0, 3.0, 3.0, 3.0, 3.0, 3.0, 2.0, 2.0, 2.0, 3.0, 3.0, 3.0, 2.0, 3.0, 3.0, 3.0, 2.0, 2.0, 2.0, 3.0, 3.0, 3.0, 3.0, 3.0, 3.0, 2.0, 3.0, 2.0, 2.0, 2.0, 3.0, 3.0, 3.0, 2.0, 3.0, 3.0, 3.0, 2.0, 2.0, 2.0, 3.0, 3.0, 3.0, 3.0, 3.0, 3.0, 3.0, 3.0, 2.0, 3.0, 2.0, 3.0, 3.0, 3.0, 2.0, 2.0, 2.0, 3.0, 2.0, 3.0, 3.0, 3.0, 3.0, 3.0, 2.0, 2.0, 2.0, 3.0, 2.0, 2.0, 2.0, 3.0, 2.0, 2.0, 3.0, 2.0, 3.0, 2.0, 3.0, 2.0, 2.0, 2.0, 2.0, 2.0, 3.0, 2.0, 2.0, 3.0, 3.0, 2.0, 3.0, 3.0, 2.0, 2.0, 3.0, 3.0, 3.0, 5.0, 5.0, 3.0, 3.0, 3.0, 2.0, 2.0, 2.0, 2.0, 3.0, 3.0, 3.0, 2.0, 3.0, 5.0, 3.0, 2.0, 3.0, 3.0, 3.0, 3.0, 3.0, 3.0, 2.0, 3.0, 3.0, 3.0, 3.0, 2.0, 3.0, 3.0, 3.0, 3.0, 3.0, 3.0, 2.0, 3.0, 3.0, 3.0, 2.0, 2.0, 2.0, 3.0, 3.0, 2.0, 3.0, 2.0, 3.0, 2.0, 2.0, 2.0, 2.0, 3.0, 2.0, 3.0, 3.0, 2.0, 2.0, 3.0, 2.0, 3.0, 3.0, 2.0, 2.0, 2.0, 3.0, 2.0, 3.0, 2.0, 3.0, 3.0, 3.0, 3.0, 3.0, 2.0, 3.0, 3.0, 3.0, 2.0, 2.0, 3.0, 2.0, 2.0, 5.0, 3.0, 3.0, 3.0, 2.0, 3.0, 3.0, 3.0, 3.0, 3.0, 3.0, 3.0, 3.0, 3.0, 5.0, 3.0, 3.0, 3.0, 2.0, 3.0, 3.0, 5.0, 2.0, 10.0, 6.0, 5.0, 6.0, 6.0, 6.0, 12.0, 3.0, 4.0, 6.0, 3.0, 6.0, 6.0, 6.0, 2.0, 2.0, 3.0, 3.0, 3.0, 3.0, 3.0, 3.0, 3.0, 3.0, 2.0, 3.0, 3.0, 3.0, 3.0, 3.0, 2.0, 2.0, 3.0, 3.0, 3.0, 3.0, 2.0, 3.0, 3.0, 2.0, 3.0, 3.0, 2.0, 2.0, 3.0, 3.0, 3.0, 4.0, 3.0, 3.0, 2.0, 3.0, 3.0, 3.0, 7.0, 3.0, 5.0, 10.0, 6.0, 3.0, 5.0, 3.0, 3.0, 3.0, 3.0, 3.0, 5.0, 3.0, 6.0, 3.0, 3.0, 3.0, 3.0, 3.0, 3.0, 3.0, 3.0, 3.0, 3.0, 3.0, 2.0, 6.0, 3.0, 3.0, 3.0, 3.0, 3.0, 3.0, 5.0, 3.0, 3.0, 3.0, 3.0, 3.0, 2.0, 2.0, 3.0, 3.0, 2.0, 3.0, 3.0, 2.0, 2.0, 2.0, 2.0, 3.0, 2.0, 3.0, 2.0, 2.0, 2.0, 2.0, 2.0, 2.0, 2.0, 3.0, 2.0, 2.0, 3.0, 3.0, 3.0, 2.0, 3.0, 3.0, 6.0, 5.0, 3.0, 3.0, 3.0, 10.0, 3.0, 3.0, 3.0, 3.0, 3.0, 5.0, 3.0, 2.0, 4.0, 3.0, 3.0, 2.0, 2.0, 2.0, 2.0, 3.0, 3.0, 3.0, 12.0, 3.0, 3.0, 6.0, 3.0, 3.0, 3.0, 3.0, 3.0, 3.0, 3.0, 3.0, 3.0, 3.0, 3.0, 2.0, 3.0, 2.0, 3.0, 3.0, 3.0, 10.0, 3.0, 3.0, 3.0, 12.0, 2.0, 3.0, 3.0, 3.0, 3.0, 2.0, 3.0, 3.0, 3.0, 3.0, 3.0, 3.0, 3.0, 3.0, 3.0, 3.0, 3.0, 3.0, 3.0, 2.0, 3.0, 6.0, 6.0, 6.0, 6.0, 6.0, 3.0, 3.0, 3.0, 3.0, 2.0, 3.0, 5.0, 2.0, 3.0, 3.0, 3.0, 3.0, 3.0, 3.0, 2.0, 2.0, 2.0, 3.0, 2.0, 3.0, 2.0, 3.0, 2.0, 3.0, 3.0, 3.0, 3.0, 3.0, 3.0, 3.0, 5.0, 5.0, 3.0, 3.0, 2.0, 3.0, 3.0, 3.0, 2.0, 3.0, 3.0, 3.0, 4.0, 3.0, 3.0, 3.0, 3.0, 3.0, 5.0, 10.0, 3.0, 3.0, 3.0, 2.0, 2.0, 5.0, 3.0, 3.0, 3.0, 3.0, 3.0, 2.0, 2.0, 2.0, 2.0, 3.0, 3.0, 3.0, 3.0, 3.0, 3.0, 3.0, 3.0, 3.0, 2.0, 3.0, 3.0, 3.0, 3.0, 3.0, 3.0, 3.0, 3.0, 3.0, 3.0, 3.0, 3.0, 2.0, 2.0, 3.0, 2.0, 3.0, 3.0, 3.0, 2.0, 2.0, 3.0, 2.0, 4.0, 5.0, 3.0, 3.0, 3.0, 2.0, 3.0, 2.0, 3.0, 3.0, 3.0, 3.0, 3.0, 3.0, 3.0, 3.0, 5.0, 3.0, 8.0, 2.0, 2.0, 5.0, 3.0, 3.0, 3.0, 3.0, 2.0, 2.0, 3.0, 5.0, 2.0, 4.0, 6.0, 3.0, 3.0, 3.0, 3.0, 2.0, 3.0, 3.0, 3.0, 3.0, 2.0, 3.0, 3.0, 3.0, 3.0, 2.0, 5.0, 3.0, 3.0, 2.0, 3.0, 5.0, 2.0, 3.0, 3.0, 3.0, 2.0, 5.0, 2.0, 3.0, 2.0, 3.0, 3.0, 3.0, 2.0, 2.0, 2.0, 2.0, 3.0, 2.0, 2.0, 2.0, 3.0, 2.0, 3.0, 3.0, 2.0, 3.0, 3.0, 2.0, 3.0, 3.0, 2.0, 3.0, 3.0, 2.0, 3.0, 2.0, 2.0, 2.0, 2.0, 3.0, 3.0, 3.0, 3.0, 2.0, 3.0, 2.0, 2.0, 3.0, 2.0, 6.0, 9.0, 9.0, 9.0, 3.0, 2.0, 3.0, 3.0, 3.0, 2.0, 3.0, 3.0, 9.0, 3.0, 2.0, 3.0, 3.0, 2.0, 3.0, 3.0, 3.0, 2.0, 3.0, 2.0, 3.0, 3.0, 3.0, 2.0, 2.0, 3.0, 2.0, 2.0, 3.0, 3.0, 2.0, 2.0, 3.0, 3.0, 2.0, 2.0, 3.0, 3.0, 3.0, 2.0, 3.0, 3.0, 3.0, 2.0, 3.0, 2.0, 3.0, 3.0, 3.0, 3.0, 3.0, 3.0, 2.0, 2.0, 3.0, 3.0, 3.0, 3.0, 3.0, 3.0, 3.0, 3.0, 3.0, 3.0, 2.0, 3.0, 3.0, 3.0, 2.0, 3.0, 3.0, 3.0, 2.0, 2.0, 3.0, 3.0, 3.0, 3.0, 2.0, 3.0, 3.0, 2.0, 2.0, 3.0, 2.0, 2.0, 2.0, 2.0, 3.0, 2.0, 3.0, 2.0, 3.0, 4.0, 6.0, 2.0, 3.0, 3.0, 3.0, 3.0, 3.0, 2.0, 2.0, 3.0, 3.0, 3.0, 3.0, 3.0, 3.0, 3.0, 2.0, 2.0, 2.0, 2.0, 3.0, 2.0, 2.0, 2.0, 3.0, 3.0, 2.0, 3.0, 3.0, 2.0, 2.0, 3.0, 3.0, 3.0, 12.0, 3.0, 3.0, 6.0, 6.0, 3.0, 5.0, 5.0, 3.0, 3.0, 3.0, 3.0, 3.0, 2.0, 2.0, 3.0, 3.0, 3.0, 2.0, 3.0, 3.0, 2.0, 3.0, 5.0, 2.0, 3.0, 3.0, 3.0, 3.0, 3.0, 3.0, 3.0, 3.0, 3.0, 3.0, 2.0, 3.0, 2.0, 3.0, 2.0, 2.0, 10.0, 2.0, 3.0, 3.0, 2.0, 3.0, 5.0, 3.0, 3.0, 3.0, 5.0, 3.0, 2.0, 3.0, 3.0, 3.0, 5.0, 2.0, 2.0, 2.0, 3.0, 5.0, 3.0, 3.0, 2.0, 3.0, 3.0, 3.0, 3.0, 2.0, 5.0, 5.0, 3.0, 5.0, 2.0, 3.0, 3.0, 3.0, 3.0, 2.0, 3.0, 3.0, 2.0, 6.0, 5.0, 5.0, 3.0, 3.0, 6.0, 3.0, 10.0, 3.0, 3.0, 2.0, 3.0, 3.0, 2.0, 2.0, 3.0, 6.0, 5.0, 5.0, 5.0, 5.0, 5.0, 5.0, 5.0, 10.0, 3.0, 3.0, 3.0, 3.0, 2.0, 3.0, 5.0, 3.0, 3.0, 2.0, 4.0, 3.0, 3.0, 5.0, 3.0, 3.0, 3.0, 3.0, 3.0, 5.0, 3.0, 3.0, 3.0, 6.0, 2.0, 3.0, 2.0, 2.0, 3.0, 4.0, 2.0, 3.0, 2.0, 3.0, 2.0, 3.0, 2.0, 3.0, 2.0, 3.0, 2.0, 3.0, 3.0, 3.0, 6.0, 3.0, 2.0, 2.0, 2.0, 2.0, 2.0, 3.0, 3.0, 6.0, 3.0, 3.0, 3.0, 3.0, 2.0, 8.0, 3.0, 5.0, 6.0, 6.0, 6.0, 3.0, 3.0, 3.0, 3.0, 3.0, 3.0, 2.0, 2.0, 2.0, 3.0, 3.0, 3.0, 2.0, 3.0, 2.0, 5.0, 3.0, 3.0, 3.0, 3.0, 3.0, 3.0, 3.0, 3.0, 3.0, 3.0, 3.0, 3.0, 3.0, 3.0, 3.0, 3.0, 3.0, 3.0, 3.0, 3.0, 3.0, 3.0, 3.0, 2.0, 2.0, 3.0, 3.0, 3.0, 3.0, 3.0, 3.0, 2.0, 2.0, 3.0, 3.0, 3.0, 3.0, 5.0, 3.0, 3.0, 3.0, 2.0, 3.0, 3.0, 2.0, 3.0, 3.0, 3.0, 3.0, 3.0, 3.0, 3.0, 2.0, 3.0, 3.0, 5.0, 5.0, 2.0, 6.0, 3.0, 6.0, 3.0, 3.0, 3.0, 5.0, 2.0, 2.0, 3.0, 3.0, 5.0, 3.0, 3.0, 3.0, 3.0, 2.0, 3.0, 3.0, 3.0, 3.0, 3.0, 3.0, 2.0, 2.0, 3.0, 3.0, 3.0, 4.0, 3.0, 3.0, 4.0, 3.0, 3.0, 5.0, 4.0, 3.0, 4.0, 5.0, 3.0, 3.0, 2.0, 2.0, 3.0, 5.0, 3.0, 3.0, 3.0, 2.0, 2.0, 2.0, 10.0, 3.0, 6.0, 4.0, 3.0, 5.0, 3.0, 3.0, 3.0, 3.0, 3.0, 3.0, 2.0, 3.0, 2.0, 3.0, 5.0, 5.0, 3.0, 3.0, 3.0, 3.0, 2.0, 3.0, 2.0, 3.0, 5.0, 3.0, 6.0, 5.0, 3.0, 3.0, 3.0, 3.0, 3.0, 10.0, 2.0, 3.0, 5.0, 3.0, 3.0, 3.0, 3.0, 3.0, 3.0, 5.0, 3.0, 4.0, 5.0, 3.0, 3.0, 5.0, 3.0, 3.0, 3.0, 2.0, 3.0, 3.0, 5.0, 5.0, 3.0, 10.0, 2.0, 2.0, 3.0, 2.0, 3.0, 3.0, 3.0, 3.0, 3.0, 3.0, 2.0, 6.0, 10.0, 10.0, 6.0, 3.0, 2.0, 3.0, 3.0, 3.0, 3.0, 3.0, 3.0, 3.0, 2.0, 3.0, 3.0, 2.0, 3.0, 3.0, 3.0, 3.0, 3.0, 2.0, 3.0, 3.0, 3.0, 3.0, 3.0, 3.0, 3.0, 2.0, 3.0, 3.0, 3.0, 3.0, 3.0, 3.0, 3.0, 3.0, 3.0, 3.0, 3.0, 5.0, 2.0, 3.0, 3.0, 3.0, 3.0, 3.0, 3.0, 3.0, 3.0, 3.0, 3.0, 3.0, 5.0, 3.0, 3.0, 2.0, 5.0, 3.0, 3.0, 3.0, 2.0, 3.0, 3.0, 3.0, 5.0, 3.0, 3.0, 2.0, 2.0, 3.0, 3.0, 2.0, 4.0, 3.0, 3.0, 3.0, 3.0, 3.0, 3.0, 2.0, 3.0, 3.0, 3.0, 5.0, 3.0, 3.0, 3.0, 3.0, 3.0, 2.0, 3.0, 2.0, 3.0, 3.0, 3.0, 3.0, 3.0, 2.0, 3.0, 3.0, 3.0, 3.0, 3.0, 3.0, 3.0, 6.0, 3.0, 3.0, 3.0, 3.0, 3.0, 3.0, 3.0, 3.0, 3.0, 5.0, 3.0, 3.0, 3.0, 5.0, 3.0, 3.0, 3.0, 3.0, 3.0, 3.0, 3.0, 3.0, 3.0, 3.0, 3.0, 3.0, 3.0, 5.0, 3.0, 3.0, 5.0, 3.0, 2.0, 3.0, 3.0, 3.0, 3.0, 5.0, 3.0, 3.0, 3.0, 4.0, 3.0, 3.0, 3.0, 3.0, 3.0, 3.0, 3.0, 3.0, 3.0, 3.0, 3.0, 2.0, 3.0, 3.0, 3.0, 3.0, 3.0, 2.0, 3.0, 2.0, 3.0, 3.0, 3.0, 3.0, 3.0, 3.0, 3.0, 3.0, 6.0, 3.0, 3.0, 3.0, 3.0, 5.0, 2.0, 3.0, 3.0, 3.0, 3.0, 3.0, 3.0, 3.0, 3.0, 3.0, 3.0, 3.0, 3.0, 3.0, 3.0, 2.0, 3.0, 3.0, 3.0, 3.0, 3.0, 6.0, 3.0, 2.0, 3.0, 2.0, 2.0, 2.0, 2.0, 3.0, 3.0, 3.0, 2.0, 3.0, 3.0, 3.0, 3.0, 3.0, 3.0, 3.0, 3.0, 2.0, 2.0, 3.0, 3.0, 3.0, 2.0, 3.0, 2.0, 2.0, 3.0, 3.0, 2.0, 3.0, 3.0, 3.0, 3.0, 3.0, 3.0, 3.0, 2.0, 3.0, 3.0, 3.0, 3.0, 3.0, 3.0, 3.0, 3.0, 3.0, 3.0, 3.0, 3.0, 3.0, 3.0, 3.0, 2.0, 3.0, 3.0, 3.0, 3.0, 3.0, 3.0, 3.0, 3.0, 3.0, 3.0, 3.0, 2.0, 3.0, 3.0, 3.0, 3.0, 3.0, 3.0, 2.0, 3.0, 3.0, 3.0, 3.0, 3.0, 3.0, 3.0, 3.0, 3.0, 3.0, 3.0, 2.0, 3.0, 3.0, 3.0, 2.0, 3.0, 3.0, 2.0, 2.0, 2.0, 3.0, 3.0, 2.0, 3.0, 2.0, 2.0, 2.0, 3.0, 3.0, 3.0, 3.0, 2.0, 3.0, 3.0, 3.0, 3.0, 3.0, 3.0, 3.0, 3.0, 3.0, 3.0, 2.0, 2.0, 3.0, 3.0, 3.0, 3.0, 2.0, 2.0, 5.0, 3.0, 2.0, 3.0, 3.0, 3.0, 3.0, 3.0, 3.0, 3.0, 3.0, 3.0, 3.0, 3.0, 3.0, 3.0, 3.0, 3.0, 3.0, 3.0, 5.0, 3.0, 3.0, 3.0, 3.0, 3.0, 3.0, 3.0, 3.0, 3.0, 3.0, 3.0, 3.0, 3.0, 3.0, 3.0, 3.0, 3.0, 3.0, 3.0, 3.0, 3.0, 3.0, 3.0, 3.0, 3.0, 6.0, 5.0, 5.0, 4.0, 3.0, 5.0, 12.0, 3.0, 12.0, 5.0, 24.0, 6.0, 3.0, 6.0, 2.0, 3.0, 4.0, 3.0, 3.0, 12.0, 3.0, 12.0, 24.0, 3.0, 3.0, 3.0, 3.0, 3.0, 3.0, 10.0, 10.0, 3.0, 2.0, 3.0, 3.0, 2.0, 2.0, 3.0, 3.0, 5.0, 6.0, 6.0, 6.0, 3.0, 2.0, 2.0, 3.0, 5.0, 3.0, 2.0, 2.0, 2.0, 3.0, 3.0, 3.0, 2.0, 3.0, 5.0, 5.0, 6.0, 2.0, 3.0, 3.0, 2.0, 3.0, 6.0, 10.0, 6.0, 3.0, 3.0, 3.0, 3.0, 3.0, 3.0, 3.0, 3.0, 3.0, 2.0, 3.0, 10.0, 3.0, 3.0, 12.0, 18.0, 24.0, 24.0, 24.0, 3.0, 12.0, 3.0, 24.0, 5.0, 24.0, 9.0, 3.0, 3.0, 6.0, 24.0, 3.0, 24.0, 12.0, 3.0, 6.0, 24.0, 18.0, 3.0, 18.0, 24.0, 3.0, 24.0, 12.0, 12.0, 12.0, 24.0, 24.0, 24.0, 24.0, 2.0, 24.0, 24.0, 2.0, 24.0, 5.0, 3.0, 24.0, 3.0, 24.0, 12.0, 24.0, 18.0, 12.0, 12.0, 12.0, 12.0, 12.0, 3.0, 12.0, 18.0, 3.0, 24.0, 3.0, 18.0, 24.0, 24.0, 3.0, 24.0, 12.0, 24.0, 24.0, 12.0, 3.0, 24.0, 3.0, 12.0, 12.0, 12.0, 12.0, 24.0, 3.0, 24.0, 24.0, 3.0, 3.0, 3.0, 3.0, 3.0, 3.0, 3.0, 3.0, 3.0, 2.0, 2.0, 3.0, 2.0, 2.0, 2.0, 3.0, 2.0, 2.0, 5.0, 3.0, 2.0, 2.0, 3.0, 2.0, 2.0, 2.0, 2.0, 3.0, 2.0, 5.0, 3.0, 3.0, 5.0, 7.0, 3.0, 5.0, 3.0, 5.0, 5.0, 3.0, 3.0, 4.0, 2.0, 2.0, 2.0, 5.0, 3.0, 6.0, 3.0, 4.0, 3.0, 3.0, 4.0, 3.0, 3.0, 3.0, 3.0, 9.0, 3.0, 2.0, 3.0, 3.0, 3.0, 3.0, 5.0, 2.0, 2.0, 3.0, 2.0, 3.0, 6.0, 2.0, 2.0, 2.0, 2.0, 3.0, 2.0, 3.0, 3.0, 2.0, 2.0, 3.0, 2.0, 10.0, 2.0, 5.0, 3.0, 3.0, 10.0, 3.0, 3.0, 3.0, 2.0, 3.0, 3.0, 3.0, 3.0, 2.0, 3.0, 3.0, 3.0, 3.0, 3.0, 3.0, 3.0, 3.0, 3.0, 3.0, 3.0, 3.0, 3.0, 3.0, 3.0, 3.0, 3.0, 3.0, 3.0, 3.0, 3.0, 3.0, 3.0, 3.0, 3.0, 3.0, 3.0, 3.0, 3.0, 3.0, 3.0, 3.0, 3.0, 3.0, 2.0, 5.0, 3.0, 3.0, 3.0, 2.0, 3.0, 3.0, 2.0, 3.0, 3.0, 2.0, 3.0, 3.0, 3.0, 3.0, 3.0, 3.0, 3.0, 2.0, 3.0, 3.0, 3.0, 2.0, 2.0, 3.0, 6.0, 3.0, 3.0, 3.0, 3.0, 3.0, 6.0, 3.0, 6.0, 3.0, 3.0, 6.0, 3.0, 3.0, 2.0, 3.0, 3.0, 3.0, 3.0, 5.0, 2.0, 3.0, 2.0, 3.0, 5.0, 4.0, 5.0, 5.0, 10.0, 3.0, 3.0, 3.0, 3.0, 3.0, 3.0, 4.0, 3.0, 3.0, 3.0, 3.0, 2.0, 3.0, 5.0, 2.0, 3.0, 3.0, 3.0, 3.0, 3.0, 5.0, 6.0, 5.0, 3.0, 3.0, 2.0, 3.0, 3.0, 2.0, 2.0, 3.0, 3.0, 6.0, 3.0, 3.0, 5.0, 3.0, 3.0, 3.0, 2.0, 3.0, 4.0, 3.0, 2.0, 2.0, 3.0, 3.0, 3.0, 3.0, 3.0, 3.0, 2.0, 3.0, 3.0, 3.0, 6.0, 2.0, 3.0, 3.0, 3.0, 6.0, 5.0, 2.0, 3.0, 6.0, 3.0, 2.0, 2.0, 3.0, 6.0, 2.0, 3.0, 2.0, 2.0, 2.0, 3.0, 3.0, 3.0, 5.0, 7.0, 3.0, 2.0, 3.0, 6.0, 3.0, 3.0, 3.0, 3.0, 3.0, 3.0, 3.0, 3.0, 3.0, 3.0, 6.0, 3.0, 3.0, 2.0, 2.0, 3.0, 3.0, 3.0, 3.0, 2.0, 3.0, 5.0, 3.0, 3.0, 3.0, 3.0, 3.0, 3.0, 3.0, 3.0, 3.0, 3.0, 3.0, 3.0, 3.0, 3.0, 2.0, 2.0, 3.0, 3.0, 3.0, 3.0, 3.0, 3.0, 3.0, 3.0, 3.0, 2.0, 3.0, 3.0, 2.0, 3.0, 3.0, 2.0, 3.0, 2.0, 3.0, 2.0, 3.0, 3.0, 3.0, 3.0, 2.0, 3.0, 2.0, 3.0, 2.0, 3.0, 2.0, 3.0, 3.0, 3.0, 3.0, 3.0, 2.0, 3.0, 3.0, 3.0, 3.0, 3.0, 3.0, 3.0, 3.0, 3.0, 3.0, 3.0, 3.0, 3.0, 2.0, 3.0, 3.0, 3.0, 3.0, 3.0, 3.0, 6.0, 3.0, 12.0, 3.0, 3.0, 3.0, 5.0, 3.0, 2.0, 2.0, 3.0, 3.0, 3.0, 3.0, 3.0, 2.0, 3.0, 3.0, 3.0, 5.0, 2.0, 7.0, 2.0, 3.0, 3.0, 2.0, 2.0, 5.0, 3.0, 5.0, 5.0, 5.0, 5.0, 5.0, 3.0, 3.0, 3.0, 3.0, 3.0, 3.0, 3.0, 5.0, 2.0, 5.0, 5.0, 6.0, 2.0, 2.0, 3.0, 3.0, 3.0, 3.0, 3.0, 3.0, 3.0, 3.0, 3.0, 5.0, 3.0, 5.0, 3.0, 5.0, 5.0, 3.0, 2.0, 3.0, 3.0, 3.0, 5.0, 5.0, 6.0, 2.0, 3.0, 5.0, 3.0, 3.0, 3.0, 8.0, 5.0, 3.0, 2.0, 2.0, 5.0, 2.0, 2.0, 3.0, 5.0, 6.0, 2.0, 3.0, 2.0, 3.0, 2.0, 3.0, 5.0, 3.0, 3.0, 2.0, 3.0, 3.0, 4.0, 3.0, 3.0, 3.0, 2.0, 3.0, 3.0, 3.0, 3.0, 3.0, 3.0, 3.0, 3.0, 2.0, 3.0, 3.0, 6.0, 6.0, 6.0, 2.0, 5.0, 3.0, 6.0, 3.0, 3.0, 6.0, 3.0, 20.0, 2.0, 3.0, 3.0, 2.0, 3.0, 2.0, 3.0, 2.0, 2.0, 3.0, 3.0, 3.0, 3.0, 3.0, 3.0, 3.0, 2.0, 3.0, 3.0, 3.0, 3.0, 2.0, 3.0, 3.0, 3.0, 3.0, 2.0, 3.0, 3.0, 3.0, 3.0, 3.0, 5.0, 2.0, 6.0, 5.0, 3.0, 5.0, 6.0, 3.0, 3.0, 3.0, 3.0, 3.0, 3.0, 3.0, 3.0, 2.0, 3.0, 3.0, 3.0, 3.0, 2.0, 2.0, 3.0, 3.0, 3.0, 3.0, 3.0, 3.0, 3.0, 2.0, 2.0, 3.0, 4.0, 3.0, 3.0, 3.0, 6.0, 3.0, 3.0, 3.0, 3.0, 3.0, 2.0, 3.0, 3.0, 2.0, 2.0, 3.0, 2.0, 5.0, 3.0, 2.0, 3.0, 3.0, 2.0, 2.0, 3.0, 3.0, 3.0, 3.0, 3.0, 5.0, 3.0, 3.0, 3.0, 5.0, 3.0, 3.0, 3.0, 3.0, 2.0, 3.0, 5.0, 2.0, 5.0, 3.0, 5.0, 5.0, 3.0, 2.0, 3.0, 6.0, 3.0, 3.0, 3.0, 3.0, 5.0, 5.0, 3.0, 2.0, 3.0, 3.0, 3.0, 3.0, 3.0, 3.0, 5.0, 2.0, 3.0, 3.0, 3.0, 2.0, 2.0, 3.0, 2.0, 3.0, 2.0, 5.0, 3.0, 2.0, 5.0, 5.0, 3.0, 3.0, 3.0, 3.0, 3.0, 5.0, 5.0, 5.0, 5.0, 5.0, 5.0, 5.0, 10.0, 3.0, 3.0, 3.0, 2.0, 3.0, 3.0, 3.0, 3.0, 3.0, 2.0, 3.0, 3.0, 2.0, 3.0, 3.0, 3.0, 24.0, 3.0, 10.0, 3.0, 2.0, 3.0, 2.0, 2.0, 3.0, 2.0, 2.0, 2.0, 2.0, 2.0, 3.0, 3.0, 3.0, 2.0, 3.0, 5.0, 3.0, 3.0, 2.0, 3.0, 3.0, 2.0, 2.0, 3.0, 3.0, 4.0, 3.0, 3.0, 3.0, 2.0, 2.0, 3.0, 2.0, 3.0, 2.0, 3.0, 5.0, 3.0, 3.0, 2.0, 3.0, 2.0, 3.0, 6.0, 3.0, 2.0, 3.0, 2.0, 5.0, 4.0, 4.0, 3.0, 4.0, 3.0, 3.0, 2.0, 2.0, 3.0, 3.0, 2.0, 2.0, 3.0, 3.0, 3.0, 3.0, 2.0, 2.0, 2.0, 2.0, 3.0, 2.0, 3.0, 2.0, 2.0, 4.0, 3.0, 12.0, 5.0, 12.0, 6.0, 6.0, 3.0, 3.0, 6.0, 5.0, 6.0, 5.0, 3.0, 3.0, 5.0, 3.0, 3.0, 3.0, 5.0, 5.0, 3.0, 6.0, 5.0, 3.0, 5.0, 5.0, 5.0, 3.0, 6.0, 6.0, 5.0, 3.0, 6.0, 2.0, 3.0, 3.0, 10.0, 6.0, 3.0, 3.0, 3.0, 3.0, 2.0, 3.0, 2.0, 3.0, 3.0, 3.0, 3.0, 2.0, 3.0, 3.0, 2.0, 5.0, 12.0, 10.0, 12.0, 3.0, 3.0, 3.0, 3.0, 3.0, 3.0, 3.0, 2.0, 3.0, 3.0, 2.0, 2.0, 3.0, 2.0, 2.0, 3.0, 3.0, 3.0, 2.0, 3.0, 2.0, 3.0, 3.0, 2.0, 2.0, 3.0, 3.0, 3.0, 5.0, 2.0, 3.0, 5.0, 2.0, 3.0, 5.0, 2.0, 5.0, 5.0, 3.0, 3.0, 5.0, 3.0, 3.0, 3.0, 2.0, 3.0, 3.0, 3.0, 3.0, 3.0, 5.0, 6.0, 2.0, 3.0, 3.0, 3.0, 3.0, 3.0, 3.0, 5.0, 3.0, 2.0, 2.0, 5.0, 3.0, 3.0, 3.0, 4.0, 2.0, 5.0, 3.0, 3.0, 3.0, 3.0, 3.0, 2.0, 5.0, 3.0, 3.0, 5.0, 3.0, 5.0, 3.0, 2.0, 5.0, 3.0, 3.0, 2.0, 2.0, 3.0, 3.0, 3.0, 3.0, 12.0, 3.0, 2.0, 12.0, 2.0, 2.0, 3.0, 3.0, 2.0, 3.0, 3.0, 3.0, 3.0, 4.0, 3.0, 4.0, 2.0, 3.0, 3.0, 3.0, 3.0, 8.0, 3.0, 3.0, 2.0, 3.0, 3.0, 4.0, 3.0, 3.0, 2.0, 3.0, 2.0, 3.0, 4.0, 3.0, 2.0, 2.0, 3.0, 3.0, 2.0, 3.0, 3.0, 3.0, 3.0, 2.0, 3.0, 3.0, 3.0, 3.0, 3.0, 2.0, 3.0, 3.0, 2.0, 3.0, 3.0, 2.0, 3.0, 2.0, 3.0, 2.0, 2.0, 3.0, 3.0, 3.0, 5.0, 3.0, 3.0, 3.0, 3.0, 2.0, 2.0, 3.0, 2.0, 3.0, 2.0, 2.0, 3.0, 2.0, 2.0, 3.0, 3.0, 3.0, 3.0, 2.0, 3.0, 2.0, 3.0, 2.0, 3.0, 2.0, 3.0, 3.0, 2.0, 2.0, 2.0, 3.0, 3.0, 3.0, 2.0, 3.0, 3.0, 3.0, 3.0, 3.0, 3.0, 3.0, 3.0, 3.0, 3.0, 3.0, 3.0, 24.0, 12.0, 3.0, 2.0, 3.0, 12.0, 3.0, 3.0, 3.0, 10.0, 12.0, 3.0, 3.0, 10.0, 3.0, 5.0, 3.0, 3.0, 3.0, 3.0, 3.0, 3.0, 3.0, 3.0, 3.0, 3.0, 3.0, 3.0, 3.0, 3.0, 3.0, 3.0, 3.0, 3.0, 3.0, 3.0, 3.0, 3.0, 3.0, 3.0, 3.0, 5.0, 5.0, 3.0, 3.0, 3.0, 3.0, 3.0, 5.0, 3.0, 3.0, 3.0, 6.0, 3.0, 6.0, 3.0, 3.0, 3.0, 2.0, 3.0, 5.0, 5.0, 3.0, 5.0, 3.0, 3.0, 2.0, 5.0, 5.0, 2.0, 5.0, 3.0, 3.0, 3.0, 2.0, 2.0, 3.0, 5.0, 3.0, 2.0, 3.0, 3.0, 2.0, 2.0, 3.0, 3.0, 3.0, 3.0, 3.0, 3.0, 3.0, 3.0, 3.0, 2.0, 3.0, 3.0, 5.0, 3.0, 3.0, 6.0, 3.0, 2.0, 5.0, 2.0, 2.0, 3.0, 3.0, 3.0, 3.0, 3.0, 2.0, 3.0, 2.0, 3.0, 3.0, 3.0, 2.0, 3.0, 3.0, 3.0, 3.0, 3.0, 3.0, 3.0, 3.0, 3.0, 3.0, 3.0, 3.0, 3.0, 2.0, 2.0, 2.0, 2.0, 2.0, 2.0, 2.0, 3.0, 3.0, 3.0, 2.0, 2.0, 3.0, 3.0, 2.0, 2.0, 3.0, 2.0, 3.0, 3.0, 2.0, 3.0, 3.0, 3.0, 3.0, 3.0, 3.0, 3.0, 2.0, 6.0, 2.0, 2.0, 2.0, 3.0, 3.0, 3.0, 3.0, 3.0, 3.0, 3.0, 3.0, 3.0, 2.0, 2.0, 3.0, 3.0, 3.0, 2.0, 2.0, 3.0, 3.0, 3.0, 3.0, 3.0, 2.0, 3.0, 3.0, 3.0, 2.0, 3.0, 3.0, 2.0, 6.0, 2.0, 8.0, 5.0, 6.0, 3.0, 6.0, 3.0, 10.0, 3.0, 3.0, 3.0, 3.0, 3.0, 3.0, 3.0, 3.0, 2.0, 2.0, 2.0, 2.0, 2.0, 3.0, 2.0, 3.0, 2.0, 3.0, 2.0, 2.0, 2.0, 3.0, 3.0, 3.0, 2.0, 3.0, 3.0, 3.0, 3.0, 3.0, 10.0, 2.0, 2.0, 3.0, 2.0, 3.0, 2.0, 2.0, 3.0, 3.0, 3.0, 3.0, 3.0, 5.0, 3.0, 3.0, 3.0, 3.0, 2.0, 3.0, 3.0, 3.0, 5.0, 3.0, 3.0, 2.0, 3.0, 3.0, 2.0, 3.0, 2.0, 3.0, 2.0, 2.0, 2.0, 2.0, 3.0, 6.0, 3.0, 3.0, 3.0, 3.0, 2.0, 3.0, 3.0, 3.0, 3.0, 6.0, 2.0, 3.0, 3.0, 5.0, 3.0, 3.0, 3.0, 3.0, 3.0, 3.0, 3.0, 5.0, 3.0, 3.0, 3.0, 2.0, 4.0, 2.0, 2.0, 3.0, 3.0, 3.0, 3.0, 3.0, 2.0, 2.0, 3.0, 2.0, 3.0, 3.0, 3.0, 2.0, 3.0, 3.0, 3.0, 3.0, 3.0, 3.0, 3.0, 3.0, 2.0, 3.0, 2.0, 3.0, 4.0, 6.0, 2.0, 3.0, 3.0, 3.0, 2.0, 2.0, 2.0, 3.0, 2.0, 2.0, 3.0, 3.0, 3.0, 3.0, 2.0, 3.0, 3.0, 5.0, 6.0, 3.0, 3.0, 5.0, 3.0, 3.0, 3.0, 3.0, 3.0, 3.0, 5.0, 5.0, 2.0, 3.0, 3.0, 6.0, 3.0, 3.0, 3.0, 3.0, 3.0, 3.0, 3.0, 3.0, 3.0, 5.0, 3.0, 2.0, 12.0, 2.0, 2.0, 2.0, 2.0, 3.0, 2.0, 3.0, 5.0, 2.0, 2.0, 2.0, 3.0, 3.0, 3.0, 3.0, 3.0, 2.0, 2.0, 3.0, 2.0, 3.0, 3.0, 3.0, 2.0, 2.0, 3.0, 3.0, 2.0, 2.0, 3.0, 3.0, 2.0, 3.0, 3.0, 3.0, 3.0, 3.0, 3.0, 3.0, 3.0, 3.0, 5.0, 3.0, 3.0, 3.0, 3.0, 3.0, 2.0, 3.0, 3.0, 2.0, 3.0, 3.0, 5.0, 6.0, 2.0, 2.0, 2.0, 3.0, 6.0, 3.0, 3.0, 3.0, 3.0, 3.0, 3.0, 3.0, 2.0, 3.0, 5.0, 3.0, 3.0, 3.0, 3.0, 3.0, 2.0, 3.0, 2.0, 10.0, 3.0, 3.0, 3.0, 2.0, 3.0, 3.0, 3.0, 6.0, 3.0, 3.0, 3.0, 3.0, 3.0, 3.0, 5.0, 2.0, 3.0, 3.0, 3.0, 3.0, 2.0, 3.0, 12.0, 3.0, 3.0, 3.0, 10.0, 3.0, 3.0, 10.0, 3.0, 3.0, 3.0, 2.0, 3.0, 3.0, 3.0, 4.0, 3.0, 3.0, 2.0, 3.0, 3.0, 3.0, 3.0, 3.0, 3.0, 3.0, 5.0, 3.0, 2.0, 3.0, 3.0, 3.0, 3.0, 3.0, 6.0, 6.0, 6.0, 3.0, 6.0, 3.0, 3.0, 6.0, 6.0, 6.0, 2.0, 2.0, 3.0, 3.0, 2.0, 3.0, 3.0, 3.0, 5.0, 3.0, 5.0, 4.0, 3.0, 3.0, 3.0, 3.0, 2.0, 3.0, 3.0, 3.0, 3.0, 3.0, 3.0, 3.0, 3.0, 3.0, 3.0, 2.0, 2.0, 3.0, 3.0, 3.0, 3.0, 3.0, 3.0, 3.0, 3.0, 3.0, 3.0, 2.0, 3.0, 3.0, 3.0, 2.0, 3.0, 3.0, 2.0, 6.0, 2.0, 3.0, 7.0, 7.0, 3.0, 4.0, 3.0, 3.0, 2.0, 2.0, 2.0, 3.0, 3.0, 3.0, 2.0, 2.0, 3.0, 3.0, 3.0, 3.0, 3.0, 2.0, 3.0, 3.0, 3.0, 5.0, 5.0, 4.0, 2.0, 3.0, 3.0, 6.0, 3.0, 3.0, 3.0, 3.0, 3.0, 2.0, 3.0, 3.0, 6.0, 3.0, 3.0, 2.0, 3.0, 4.0, 2.0, 3.0, 3.0, 3.0, 3.0, 3.0, 6.0, 3.0, 3.0, 3.0, 6.0, 3.0, 3.0, 6.0, 3.0, 3.0, 6.0, 2.0, 3.0, 3.0, 4.0, 5.0, 3.0, 3.0, 3.0, 2.0, 3.0, 3.0, 3.0, 5.0, 3.0, 3.0, 2.0, 3.0, 3.0, 5.0, 3.0, 3.0, 3.0, 3.0, 6.0, 3.0, 3.0, 2.0, 3.0, 5.0, 3.0, 2.0, 5.0, 3.0, 2.0, 12.0, 3.0, 2.0, 3.0, 2.0, 3.0, 3.0, 2.0, 6.0, 3.0, 4.0, 2.0, 4.0, 2.0, 3.0, 3.0, 3.0, 2.0, 3.0, 3.0, 3.0, 2.0, 5.0, 3.0, 10.0, 3.0, 3.0, 10.0, 3.0, 3.0, 3.0, 3.0, 3.0, 3.0, 2.0, 3.0, 3.0, 3.0, 3.0, 3.0, 3.0, 3.0, 3.0, 3.0, 3.0, 3.0, 3.0, 3.0, 3.0, 3.0, 3.0, 2.0, 5.0, 2.0, 3.0, 3.0, 3.0, 3.0, 3.0, 3.0, 6.0, 5.0, 6.0, 3.0, 6.0, 3.0, 2.0, 10.0, 6.0, 3.0, 4.0, 3.0, 12.0, 3.0, 7.0, 3.0, 3.0, 3.0, 2.0, 3.0, 2.0, 3.0, 3.0, 2.0, 3.0, 2.0, 3.0, 3.0, 6.0, 3.0, 6.0, 6.0, 3.0, 3.0, 3.0, 3.0, 3.0, 3.0, 3.0, 2.0, 3.0, 3.0, 5.0, 3.0, 3.0, 3.0, 3.0, 3.0, 3.0, 3.0, 3.0, 3.0, 3.0, 3.0, 3.0, 3.0, 3.0, 3.0, 3.0, 3.0, 3.0, 3.0, 3.0, 3.0, 3.0, 3.0, 3.0, 2.0, 3.0, 2.0, 2.0, 3.0, 2.0, 12.0, 3.0, 3.0, 5.0, 3.0, 2.0, 3.0, 4.0, 3.0, 2.0, 3.0, 3.0, 3.0, 3.0, 3.0, 3.0, 2.0, 3.0, 3.0, 5.0, 3.0, 2.0, 2.0, 3.0, 2.0, 3.0, 3.0, 3.0, 3.0, 2.0, 2.0, 3.0, 3.0, 3.0, 3.0, 4.0, 4.0, 3.0, 3.0, 4.0, 2.0, 2.0, 3.0, 2.0, 2.0, 2.0, 2.0, 3.0, 2.0, 2.0, 2.0, 3.0, 3.0, 3.0, 3.0, 3.0, 3.0, 2.0, 3.0, 2.0, 2.0, 3.0, 3.0, 3.0, 3.0, 3.0, 3.0, 6.0, 3.0, 3.0, 3.0, 3.0, 2.0, 3.0, 3.0, 2.0, 3.0, 3.0, 5.0, 2.0, 3.0, 5.0, 2.0, 5.0, 3.0, 5.0, 3.0, 5.0, 3.0, 5.0, 3.0, 3.0, 3.0, 3.0, 3.0, 2.0, 3.0, 4.0, 3.0, 4.0, 4.0, 5.0, 3.0, 2.0, 4.0, 5.0, 3.0, 2.0, 3.0, 5.0, 3.0, 3.0, 2.0, 3.0, 10.0, 3.0, 5.0, 3.0, 3.0, 2.0, 3.0, 3.0, 2.0, 2.0, 3.0, 2.0, 3.0, 2.0, 5.0, 3.0, 3.0, 4.0, 2.0, 3.0, 3.0, 2.0, 3.0, 5.0, 3.0, 3.0, 2.0, 2.0, 3.0, 3.0, 3.0, 3.0, 3.0, 2.0, 3.0, 3.0, 2.0, 2.0, 2.0, 3.0, 5.0, 3.0, 5.0, 5.0, 3.0, 2.0, 3.0, 2.0, 5.0, 3.0, 4.0, 3.0, 3.0, 3.0, 3.0, 2.0, 2.0, 3.0, 3.0, 3.0, 3.0, 4.0, 3.0, 2.0, 3.0, 3.0, 3.0, 5.0, 3.0, 3.0, 3.0, 3.0, 3.0, 3.0, 3.0, 3.0, 3.0, 3.0, 3.0, 3.0, 3.0, 3.0, 3.0, 2.0, 3.0, 2.0, 3.0, 3.0, 3.0, 3.0, 3.0, 3.0, 2.0, 2.0, 2.0, 5.0, 3.0, 3.0, 6.0, 3.0, 3.0, 3.0, 2.0, 2.0, 2.0, 2.0, 3.0, 5.0, 3.0, 3.0, 2.0, 3.0, 2.0, 3.0, 3.0, 3.0, 2.0, 3.0, 3.0, 3.0, 3.0, 3.0, 3.0, 2.0, 3.0, 5.0, 2.0, 3.0, 3.0, 6.0, 2.0, 3.0, 3.0, 3.0, 2.0, 5.0, 3.0, 3.0, 3.0, 3.0, 2.0, 2.0, 2.0, 3.0, 2.0, 2.0, 3.0, 3.0, 3.0, 3.0, 3.0, 2.0, 3.0, 5.0, 3.0, 3.0, 5.0, 3.0, 3.0, 4.0, 3.0, 2.0, 3.0, 3.0, 3.0, 3.0, 2.0, 3.0, 3.0, 3.0, 3.0, 5.0, 5.0, 3.0, 3.0, 3.0, 3.0, 3.0, 3.0, 3.0, 3.0, 3.0, 2.0, 3.0, 3.0, 3.0, 3.0, 3.0, 3.0, 5.0, 5.0, 3.0, 2.0, 3.0, 3.0, 2.0, 5.0, 3.0, 2.0, 2.0, 3.0, 3.0, 3.0, 12.0, 3.0, 3.0, 3.0, 2.0, 3.0, 2.0, 3.0, 3.0, 3.0, 3.0, 3.0, 5.0, 5.0, 3.0, 3.0, 2.0, 2.0, 2.0, 2.0, 3.0, 5.0, 3.0, 3.0, 3.0, 3.0, 3.0, 3.0, 3.0, 3.0, 3.0, 3.0, 2.0, 3.0, 3.0, 2.0, 3.0, 3.0, 3.0, 3.0, 3.0, 5.0, 3.0, 3.0, 3.0, 3.0, 3.0, 2.0, 3.0, 2.0, 3.0, 3.0, 2.0, 3.0, 3.0, 3.0, 2.0, 2.0, 3.0, 3.0, 5.0, 3.0, 3.0, 3.0, 3.0, 10.0, 2.0, 3.0, 3.0, 3.0, 3.0, 3.0, 5.0, 3.0, 3.0, 3.0, 3.0, 3.0, 3.0, 3.0, 3.0, 3.0, 3.0, 3.0, 3.0, 3.0, 5.0, 2.0, 3.0, 3.0, 3.0, 3.0, 3.0, 3.0, 2.0, 3.0, 3.0, 3.0, 3.0, 3.0, 5.0, 6.0, 3.0, 2.0, 3.0, 5.0, 10.0, 3.0, 3.0, 3.0, 3.0, 5.0, 3.0, 3.0, 3.0, 3.0, 3.0, 3.0, 3.0, 2.0, 2.0, 2.0, 3.0, 3.0, 5.0, 3.0, 2.0, 3.0, 3.0, 3.0, 5.0, 3.0, 3.0, 3.0, 3.0, 3.0, 3.0, 2.0, 3.0, 3.0, 3.0, 5.0, 3.0, 6.0, 10.0, 3.0, 3.0, 2.0, 3.0, 2.0, 3.0, 3.0, 3.0, 3.0, 3.0, 3.0, 6.0, 2.0, 3.0, 5.0, 3.0, 5.0, 3.0, 3.0, 3.0, 5.0, 3.0, 3.0, 3.0, 2.0, 3.0, 3.0, 5.0, 3.0, 3.0, 12.0, 3.0, 3.0, 3.0, 2.0, 5.0, 2.0, 3.0, 3.0, 5.0, 3.0, 3.0, 3.0, 3.0, 3.0, 8.0, 5.0, 3.0, 3.0, 3.0, 3.0, 5.0, 3.0, 5.0, 3.0, 2.0, 3.0, 2.0, 3.0, 3.0, 3.0, 3.0, 3.0, 2.0, 2.0, 3.0, 3.0, 3.0, 5.0, 3.0, 5.0, 3.0, 10.0, 3.0, 5.0, 3.0, 3.0, 3.0, 5.0, 3.0, 3.0, 3.0, 3.0, 3.0, 3.0, 2.0, 6.0, 3.0, 3.0, 3.0, 3.0, 3.0, 2.0, 3.0, 5.0, 3.0, 3.0, 3.0, 3.0, 2.0, 10.0, 2.0, 2.0, 2.0, 2.0, 3.0, 3.0, 3.0, 3.0, 3.0, 3.0, 2.0, 3.0, 5.0, 3.0, 3.0, 3.0, 3.0, 3.0, 3.0, 2.0, 3.0, 3.0, 6.0, 5.0, 6.0, 3.0, 3.0, 3.0, 3.0, 5.0, 3.0, 3.0, 5.0, 3.0, 10.0, 2.0, 3.0, 3.0, 3.0, 3.0, 3.0, 3.0, 3.0, 3.0, 3.0, 3.0, 2.0, 3.0, 3.0, 3.0, 2.0, 3.0, 3.0, 3.0, 3.0, 3.0, 7.0, 5.0, 3.0, 5.0, 3.0, 2.0, 3.0, 3.0, 3.0, 3.0, 3.0, 10.0, 3.0, 2.0, 3.0, 3.0, 3.0, 3.0, 3.0, 3.0, 3.0, 2.0, 2.0, 2.0, 3.0, 8.0, 3.0, 5.0, 3.0, 3.0, 5.0, 3.0, 3.0, 2.0, 3.0, 2.0, 2.0, 3.0, 3.0, 3.0, 3.0, 2.0, 3.0, 3.0, 3.0, 3.0, 3.0, 5.0, 5.0, 3.0, 3.0, 3.0, 3.0, 5.0, 5.0, 5.0, 3.0, 5.0, 3.0, 3.0, 2.0, 8.0, 5.0, 5.0, 3.0, 3.0, 3.0, 3.0, 2.0, 3.0, 2.0, 3.0, 2.0, 3.0, 8.0, 5.0, 3.0, 5.0, 3.0, 3.0, 3.0, 3.0, 5.0, 3.0, 5.0, 5.0, 5.0, 3.0, 2.0, 3.0, 3.0, 3.0, 5.0, 3.0, 5.0, 5.0, 5.0, 3.0, 3.0, 3.0, 8.0, 2.0, 2.0, 3.0, 5.0, 3.0, 5.0, 5.0, 3.0, 3.0, 3.0, 5.0, 5.0, 3.0, 2.0, 3.0, 5.0, 3.0, 3.0, 5.0, 3.0, 3.0, 5.0, 3.0, 5.0, 3.0, 3.0, 2.0, 3.0, 3.0, 5.0, 3.0, 5.0, 3.0, 8.0, 5.0, 5.0, 3.0, 5.0, 3.0, 3.0, 3.0, 3.0, 3.0, 5.0, 5.0, 5.0, 5.0, 3.0, 5.0, 5.0, 5.0, 5.0, 3.0, 5.0, 10.0, 3.0, 2.0, 3.0, 3.0, 5.0, 2.0, 3.0, 3.0, 3.0, 3.0, 10.0, 3.0, 3.0, 3.0, 3.0, 3.0, 3.0, 2.0, 3.0, 3.0, 5.0, 2.0, 3.0, 3.0, 3.0, 6.0, 3.0, 6.0, 3.0, 3.0, 3.0, 3.0, 3.0, 5.0, 3.0, 3.0, 8.0, 3.0, 3.0, 3.0, 2.0, 3.0, 6.0, 2.0, 3.0, 2.0, 10.0, 2.0, 3.0, 6.0, 3.0, 3.0, 8.0, 5.0, 3.0, 3.0, 5.0, 3.0, 3.0, 3.0, 3.0, 3.0, 3.0, 2.0, 6.0, 3.0, 2.0, 3.0, 3.0, 2.0, 3.0, 5.0, 3.0, 6.0, 3.0, 5.0, 6.0, 5.0, 6.0, 8.0, 3.0, 5.0, 6.0, 3.0, 2.0, 3.0, 2.0, 3.0, 3.0, 2.0, 3.0, 3.0, 6.0, 2.0, 3.0, 3.0, 3.0, 5.0, 3.0, 3.0, 3.0, 3.0, 3.0, 3.0, 2.0, 3.0, 3.0, 5.0, 5.0, 3.0, 6.0, 2.0, 8.0, 3.0, 3.0, 3.0, 3.0, 6.0, 3.0, 3.0, 3.0, 5.0, 3.0, 3.0, 5.0, 6.0, 3.0, 3.0, 5.0, 3.0, 3.0, 3.0, 3.0, 3.0, 2.0, 3.0, 3.0, 3.0, 2.0, 2.0, 3.0, 3.0, 3.0, 3.0, 3.0, 3.0, 8.0, 3.0, 3.0, 6.0, 6.0, 2.0, 3.0, 6.0, 5.0, 2.0, 3.0, 3.0, 2.0, 3.0, 2.0, 3.0, 3.0, 3.0, 2.0, 6.0, 6.0, 2.0, 6.0, 10.0, 3.0, 6.0, 2.0, 3.0, 5.0, 3.0, 3.0, 3.0, 3.0, 3.0, 3.0, 5.0, 2.0, 6.0, 5.0, 3.0, 3.0, 3.0, 3.0, 3.0, 3.0, 3.0, 3.0, 3.0, 3.0, 3.0, 6.0, 10.0, 10.0, 3.0, 3.0, 5.0, 3.0, 3.0, 3.0, 5.0, 3.0, 3.0, 3.0, 2.0, 2.0, 3.0, 3.0, 3.0, 3.0, 5.0, 5.0, 5.0, 5.0, 5.0, 5.0, 5.0, 12.0, 5.0, 2.0, 2.0, 3.0, 3.0, 2.0, 3.0, 3.0, 3.0, 3.0, 3.0, 3.0, 3.0, 3.0, 3.0, 3.0, 3.0, 3.0, 2.0, 2.0, 3.0, 2.0, 2.0, 3.0, 2.0, 3.0, 3.0, 2.0, 3.0, 3.0, 2.0, 2.0, 3.0, 3.0, 3.0, 2.0, 2.0, 2.0, 2.0, 3.0, 3.0, 3.0, 2.0, 3.0, 6.0, 12.0, 3.0, 3.0, 2.0, 2.0, 3.0, 5.0, 5.0, 3.0, 2.0, 3.0, 3.0, 2.0, 2.0, 2.0, 3.0, 4.0, 2.0, 3.0, 3.0, 2.0, 5.0, 2.0, 3.0, 3.0, 3.0, 3.0, 3.0, 2.0, 2.0, 3.0, 3.0, 3.0, 3.0, 2.0, 3.0, 3.0, 3.0, 3.0, 3.0, 3.0, 3.0, 3.0, 3.0, 3.0, 3.0, 3.0, 3.0, 3.0, 3.0, 3.0, 3.0, 3.0, 3.0, 3.0, 3.0, 3.0, 3.0, 3.0, 3.0, 3.0, 3.0, 3.0, 3.0, 2.0, 3.0, 3.0, 3.0, 3.0, 3.0, 3.0, 3.0, 3.0, 3.0, 3.0, 3.0, 2.0, 12.0, 3.0, 3.0, 5.0, 3.0, 10.0, 10.0, 3.0, 3.0, 8.0, 7.0, 3.0, 2.0, 2.0, 3.0, 2.0, 2.0, 3.0, 3.0, 2.0, 2.0, 7.0, 5.0, 4.0, 5.0, 6.0, 8.0, 5.0, 5.0, 7.0, 8.0, 10.0, 3.0, 3.0, 3.0, 3.0, 3.0, 3.0, 3.0, 6.0, 2.0, 3.0, 2.0, 6.0, 3.0, 2.0, 4.0, 3.0, 3.0, 2.0, 3.0, 3.0, 3.0, 2.0, 6.0, 2.0, 3.0, 3.0, 2.0, 2.0, 3.0, 2.0, 3.0, 3.0, 6.0, 3.0, 3.0, 6.0, 4.0, 2.0, 2.0, 3.0, 3.0, 3.0, 2.0, 3.0, 2.0, 5.0, 5.0, 2.0, 2.0, 2.0, 4.0, 3.0, 2.0, 5.0, 10.0, 3.0, 3.0, 2.0, 3.0, 3.0, 2.0, 2.0, 3.0, 2.0, 3.0, 3.0, 3.0, 3.0, 3.0, 3.0, 3.0, 3.0, 3.0, 3.0, 3.0, 3.0, 3.0, 3.0, 3.0, 3.0, 3.0, 3.0, 3.0, 3.0, 3.0, 3.0, 3.0, 3.0, 3.0, 3.0, 3.0, 5.0, 3.0, 3.0, 3.0, 3.0, 3.0, 2.0, 2.0, 2.0, 3.0, 3.0, 3.0, 3.0, 2.0, 2.0, 3.0, 2.0, 3.0, 2.0, 2.0, 3.0, 5.0, 3.0, 2.0, 3.0, 3.0, 3.0, 2.0, 2.0, 3.0, 3.0, 2.0, 3.0, 3.0, 2.0, 3.0, 2.0, 3.0, 2.0, 3.0, 2.0, 3.0, 3.0, 2.0, 2.0, 3.0, 3.0, 3.0, 3.0, 3.0, 3.0, 3.0, 2.0, 3.0, 3.0, 2.0, 3.0, 3.0, 3.0, 3.0, 3.0, 3.0, 3.0, 3.0, 3.0, 3.0, 3.0, 3.0, 3.0, 3.0, 3.0, 3.0, 5.0, 2.0, 2.0, 3.0, 3.0, 3.0, 10.0, 5.0, 2.0, 5.0, 24.0, 3.0, 3.0, 3.0, 3.0, 3.0, 2.0, 3.0, 2.0, 2.0, 2.0, 3.0, 3.0, 3.0, 2.0, 3.0, 2.0, 2.0, 3.0, 2.0, 2.0, 3.0, 2.0, 3.0, 3.0, 2.0, 3.0, 2.0, 3.0, 2.0, 3.0, 3.0, 2.0, 3.0, 3.0, 3.0, 3.0, 3.0, 2.0, 3.0, 3.0, 3.0, 3.0, 3.0, 3.0, 3.0, 3.0, 4.0, 5.0, 3.0, 4.0, 4.0, 4.0, 4.0, 3.0, 3.0, 7.0, 5.0, 5.0, 5.0, 5.0, 5.0, 5.0, 5.0, 5.0, 5.0, 5.0, 5.0, 4.0, 4.0, 5.0, 5.0, 4.0, 4.0, 5.0, 2.0, 3.0, 3.0, 3.0, 3.0, 3.0, 3.0, 5.0, 3.0, 5.0, 5.0, 5.0, 3.0, 2.0, 2.0, 2.0, 2.0, 5.0, 3.0, 3.0, 2.0, 2.0, 3.0, 3.0, 3.0, 2.0, 3.0, 3.0, 3.0, 3.0, 3.0, 3.0, 3.0, 3.0, 2.0, 3.0, 2.0, 2.0, 3.0, 2.0, 3.0, 3.0, 3.0, 3.0, 2.0, 3.0, 3.0, 3.0, 2.0, 6.0, 3.0, 3.0, 3.0, 3.0, 3.0, 3.0, 2.0, 3.0, 3.0, 2.0, 3.0, 3.0, 3.0, 3.0, 2.0, 2.0, 3.0, 3.0, 2.0, 3.0, 3.0, 3.0, 2.0, 3.0, 3.0, 3.0, 2.0, 3.0, 3.0, 3.0, 3.0, 3.0, 2.0, 3.0, 3.0, 3.0, 3.0, 2.0, 3.0, 3.0, 3.0, 5.0, 2.0, 3.0, 3.0, 3.0, 3.0, 2.0, 3.0, 2.0, 2.0, 2.0, 3.0, 2.0, 3.0, 3.0, 3.0, 3.0, 3.0, 3.0, 3.0, 3.0, 2.0, 2.0, 3.0, 2.0, 2.0, 3.0, 3.0, 3.0, 4.0, 2.0, 3.0, 3.0, 2.0, 2.0, 2.0, 3.0, 3.0, 3.0, 3.0, 2.0, 3.0, 3.0, 3.0, 3.0, 3.0, 3.0, 5.0, 3.0, 3.0, 3.0, 3.0, 2.0, 3.0, 3.0, 2.0, 2.0, 3.0, 2.0, 3.0, 3.0, 3.0, 2.0, 2.0, 2.0, 2.0, 3.0, 3.0, 3.0, 3.0, 2.0, 2.0, 3.0, 3.0, 3.0, 3.0, 2.0, 2.0, 2.0, 3.0, 3.0, 2.0, 3.0, 3.0, 3.0, 3.0, 3.0, 2.0, 3.0, 3.0, 3.0, 12.0, 12.0, 3.0, 5.0, 6.0, 2.0, 5.0, 4.0, 2.0, 3.0, 3.0, 3.0, 3.0, 3.0, 3.0, 3.0, 3.0, 3.0, 3.0, 6.0, 3.0, 6.0, 3.0, 3.0, 6.0, 3.0, 3.0, 3.0, 3.0, 3.0, 6.0, 3.0, 3.0, 3.0, 2.0, 3.0, 6.0, 3.0, 3.0, 3.0, 3.0, 2.0, 5.0, 3.0, 3.0, 3.0, 3.0, 3.0, 2.0, 3.0, 3.0, 3.0, 2.0, 2.0, 3.0, 3.0, 2.0, 3.0, 3.0, 3.0, 3.0, 2.0, 3.0, 2.0, 3.0, 3.0, 2.0, 3.0, 3.0, 2.0, 3.0, 3.0, 2.0, 3.0, 3.0, 2.0, 3.0, 3.0, 5.0, 2.0, 3.0, 3.0, 3.0, 3.0, 3.0, 3.0, 3.0, 3.0, 3.0, 2.0, 3.0, 3.0, 3.0, 3.0, 2.0, 3.0, 3.0, 4.0, 3.0, 2.0, 2.0, 3.0, 2.0, 3.0, 3.0, 3.0, 3.0, 3.0, 3.0, 2.0, 2.0, 2.0, 3.0, 3.0, 2.0, 3.0, 3.0, 3.0, 2.0, 5.0, 3.0, 8.0, 3.0, 3.0, 5.0, 3.0, 3.0, 5.0, 3.0, 3.0, 3.0, 5.0, 5.0, 3.0, 3.0, 3.0, 3.0, 3.0, 3.0, 5.0, 3.0, 9.0, 3.0, 5.0, 3.0, 3.0, 3.0, 5.0, 5.0, 3.0, 5.0, 5.0, 3.0, 3.0, 10.0, 3.0, 3.0, 3.0, 3.0, 3.0, 3.0, 5.0, 3.0, 5.0, 12.0, 3.0, 3.0, 12.0, 12.0, 3.0, 3.0, 3.0, 3.0, 3.0, 6.0, 3.0, 6.0, 3.0, 3.0, 3.0, 3.0, 3.0, 3.0, 3.0, 2.0, 3.0, 3.0, 3.0, 3.0, 3.0, 2.0, 2.0, 3.0, 2.0, 2.0, 5.0, 3.0, 3.0, 2.0, 2.0, 3.0, 3.0, 3.0, 3.0, 3.0, 3.0, 3.0, 3.0, 3.0, 3.0, 3.0, 3.0, 3.0, 3.0, 3.0, 3.0, 3.0, 2.0, 3.0, 3.0, 2.0, 3.0, 3.0, 3.0, 6.0, 6.0, 6.0, 3.0, 3.0, 3.0, 3.0, 3.0, 2.0, 3.0, 3.0, 3.0, 3.0, 5.0, 3.0, 10.0, 3.0, 3.0, 2.0, 3.0, 3.0, 3.0, 3.0, 3.0, 3.0, 3.0, 2.0, 2.0, 3.0, 6.0, 6.0, 12.0, 5.0, 6.0, 6.0, 6.0, 5.0, 5.0, 5.0, 5.0, 2.0, 3.0, 3.0, 3.0, 3.0, 3.0, 3.0, 3.0, 3.0, 3.0, 3.0, 3.0, 3.0, 10.0, 2.0, 2.0, 4.0, 2.0, 3.0, 3.0, 3.0, 3.0, 2.0, 2.0, 2.0, 3.0, 3.0, 3.0, 3.0, 4.0, 3.0, 3.0, 3.0, 3.0, 2.0, 6.0, 3.0, 3.0, 2.0, 3.0, 3.0, 3.0, 3.0, 3.0, 3.0, 3.0, 3.0, 3.0, 3.0, 2.0, 3.0, 3.0, 3.0, 3.0, 2.0, 3.0, 3.0, 2.0, 3.0, 2.0, 3.0, 3.0, 2.0, 3.0, 2.0, 3.0, 3.0, 2.0, 2.0, 2.0, 2.0, 3.0, 3.0, 3.0, 3.0, 3.0, 3.0, 10.0, 5.0, 5.0, 3.0, 3.0, 3.0, 3.0, 3.0, 3.0, 3.0, 3.0, 2.0, 3.0, 3.0, 3.0, 2.0, 5.0, 3.0, 3.0, 3.0, 3.0, 3.0, 3.0, 3.0, 3.0, 3.0, 3.0, 3.0, 3.0, 3.0, 3.0, 3.0, 3.0, 3.0, 3.0, 2.0, 2.0, 2.0, 3.0, 3.0, 3.0, 3.0, 3.0, 3.0, 3.0, 3.0, 3.0, 3.0, 3.0, 3.0, 3.0, 3.0, 3.0, 3.0, 3.0, 3.0, 2.0, 2.0, 2.0, 3.0, 3.0, 3.0, 2.0, 3.0, 2.0, 3.0, 3.0, 3.0, 3.0, 3.0, 3.0, 3.0, 3.0, 3.0, 3.0, 3.0, 3.0, 3.0, 3.0, 3.0, 3.0, 3.0, 3.0, 2.0, 2.0, 2.0, 2.0, 3.0, 2.0, 3.0, 3.0, 3.0, 3.0, 3.0, 3.0, 3.0, 3.0, 3.0, 3.0, 3.0, 3.0, 3.0, 3.0, 3.0, 3.0, 3.0, 2.0, 3.0, 3.0, 3.0, 3.0, 2.0, 3.0, 3.0, 3.0, 3.0, 3.0, 3.0, 3.0, 2.0, 3.0, 3.0, 2.0, 3.0, 3.0, 3.0, 3.0, 3.0, 3.0, 3.0, 2.0, 3.0, 3.0, 2.0, 3.0, 3.0, 3.0, 3.0, 3.0, 3.0, 3.0, 6.0, 3.0, 5.0, 6.0, 3.0, 3.0, 3.0, 3.0, 4.0, 6.0, 5.0, 3.0, 6.0, 2.0, 5.0, 3.0, 5.0, 3.0, 6.0, 2.0, 3.0, 3.0, 3.0, 4.0, 3.0, 6.0, 6.0, 6.0, 6.0, 6.0, 5.0, 3.0, 3.0, 3.0, 5.0, 3.0, 3.0, 3.0, 3.0, 2.0, 3.0, 3.0, 3.0, 3.0, 2.0, 2.0, 2.0, 3.0, 2.0, 2.0, 3.0, 2.0, 2.0, 2.0, 3.0, 3.0, 3.0, 2.0, 3.0, 3.0, 2.0, 2.0, 2.0, 3.0, 2.0, 3.0, 3.0, 3.0, 2.0, 3.0, 3.0, 3.0, 3.0, 2.0, 3.0, 3.0, 3.0, 3.0, 2.0, 5.0, 5.0, 6.0, 6.0, 3.0, 6.0, 5.0, 6.0, 3.0, 6.0, 5.0, 3.0, 4.0, 6.0, 6.0, 3.0, 3.0, 3.0, 3.0, 3.0, 5.0, 3.0, 5.0, 3.0, 5.0, 3.0, 3.0, 5.0, 3.0, 3.0, 3.0, 5.0, 5.0, 3.0, 5.0, 3.0, 2.0, 5.0, 5.0, 2.0, 3.0, 3.0, 3.0, 3.0, 5.0, 3.0, 3.0, 3.0, 3.0, 3.0, 5.0, 3.0, 3.0, 3.0, 2.0, 3.0, 2.0, 2.0, 3.0, 2.0, 2.0, 3.0, 3.0, 2.0, 4.0, 3.0, 5.0, 3.0, 4.0, 3.0, 2.0, 5.0, 3.0, 5.0, 3.0, 5.0, 5.0, 2.0, 5.0, 3.0, 5.0, 5.0, 5.0, 3.0, 3.0, 3.0, 3.0, 5.0, 3.0, 3.0, 3.0, 3.0, 3.0, 3.0, 2.0, 5.0, 3.0, 3.0, 5.0, 3.0, 5.0, 5.0, 3.0, 3.0, 2.0, 6.0, 6.0, 6.0, 3.0, 3.0, 3.0, 3.0, 3.0, 2.0, 3.0, 3.0, 3.0, 3.0, 6.0, 2.0, 2.0, 3.0, 2.0, 10.0, 6.0, 2.0, 3.0, 2.0, 2.0, 2.0, 3.0, 2.0, 2.0, 3.0, 3.0, 2.0, 3.0, 3.0, 2.0, 3.0, 3.0, 3.0, 3.0, 3.0, 3.0, 3.0, 3.0, 3.0, 3.0, 3.0, 2.0, 3.0, 3.0, 3.0, 3.0, 3.0, 3.0, 3.0, 3.0, 3.0, 2.0, 3.0, 3.0, 3.0, 3.0, 3.0, 3.0, 2.0, 3.0, 3.0, 3.0, 3.0, 3.0, 3.0, 3.0, 3.0, 3.0, 3.0, 3.0, 3.0, 12.0, 2.0, 3.0, 3.0, 3.0, 3.0, 6.0, 3.0, 3.0, 3.0, 3.0, 2.0, 2.0, 3.0, 2.0, 3.0, 2.0, 3.0, 2.0, 3.0, 2.0, 2.0, 3.0, 3.0, 2.0, 3.0, 3.0, 2.0, 2.0, 3.0, 3.0, 2.0, 3.0, 3.0, 3.0, 3.0, 3.0, 3.0, 2.0, 2.0, 2.0, 3.0, 2.0, 3.0, 3.0, 3.0, 2.0, 2.0, 2.0, 3.0, 3.0, 2.0, 3.0, 2.0, 2.0, 2.0, 3.0, 3.0, 2.0, 3.0, 2.0, 2.0, 3.0, 3.0, 2.0, 2.0, 3.0, 2.0, 3.0, 2.0, 2.0, 2.0, 2.0, 3.0, 3.0, 2.0, 3.0, 2.0, 3.0, 3.0, 3.0, 3.0, 3.0, 2.0, 3.0, 2.0, 3.0, 3.0, 3.0, 3.0, 3.0, 3.0, 3.0, 3.0, 3.0, 3.0, 3.0, 3.0, 3.0, 3.0, 3.0, 3.0, 3.0, 3.0, 3.0, 2.0, 3.0, 3.0, 3.0, 3.0, 3.0, 3.0, 3.0, 3.0, 3.0, 3.0, 3.0, 3.0, 3.0, 3.0, 5.0, 3.0, 3.0, 10.0, 3.0, 3.0, 3.0, 3.0, 3.0, 3.0, 5.0, 6.0, 3.0, 3.0, 5.0, 3.0, 5.0, 5.0, 5.0, 10.0, 3.0, 10.0, 5.0, 5.0, 5.0, 3.0, 3.0, 3.0, 5.0, 5.0, 3.0, 5.0, 3.0, 5.0, 5.0, 5.0, 5.0, 6.0, 3.0, 3.0, 10.0, 5.0, 5.0, 5.0, 6.0, 3.0, 3.0, 5.0, 2.0, 3.0, 3.0, 3.0, 6.0, 3.0, 5.0, 4.0, 3.0, 3.0, 3.0, 3.0, 3.0, 3.0, 3.0, 2.0, 3.0, 3.0, 3.0, 2.0, 2.0, 2.0, 2.0, 3.0, 2.0, 3.0, 2.0, 2.0, 3.0, 3.0, 2.0, 2.0, 2.0, 2.0, 2.0, 3.0, 2.0, 3.0, 3.0, 3.0, 3.0, 2.0, 2.0, 3.0, 3.0, 3.0, 3.0, 3.0, 3.0, 10.0, 3.0, 3.0, 2.0, 3.0, 3.0, 3.0, 2.0, 5.0, 3.0, 2.0, 2.0, 3.0, 3.0, 2.0, 5.0, 3.0, 3.0, 5.0, 5.0, 3.0, 2.0, 6.0, 2.0, 2.0, 3.0, 2.0, 3.0, 3.0, 3.0, 2.0, 3.0, 3.0, 3.0, 3.0, 3.0, 5.0, 2.0, 3.0, 2.0, 6.0, 5.0, 5.0, 5.0, 6.0, 5.0, 3.0, 3.0, 3.0, 6.0, 3.0, 3.0, 3.0, 3.0, 3.0, 3.0, 3.0, 3.0, 3.0, 3.0, 3.0, 3.0, 6.0, 2.0, 20.0, 3.0, 12.0, 3.0, 20.0, 3.0, 12.0, 10.0, 10.0, 3.0, 12.0, 3.0, 12.0, 3.0, 2.0, 3.0, 12.0, 10.0, 20.0, 5.0, 12.0, 3.0, 12.0, 6.0, 5.0, 10.0, 12.0, 3.0, 3.0, 10.0, 5.0, 3.0, 3.0, 6.0, 6.0, 2.0, 3.0, 2.0, 2.0, 2.0, 2.0, 3.0, 3.0, 3.0, 3.0, 2.0, 5.0, 6.0, 3.0, 12.0, 12.0, 5.0, 3.0, 10.0, 12.0, 10.0, 3.0, 3.0, 3.0, 3.0, 2.0, 2.0, 2.0, 2.0, 2.0, 2.0, 3.0, 3.0, 3.0, 3.0, 3.0, 3.0, 3.0, 3.0, 3.0, 6.0, 3.0, 5.0, 3.0, 5.0, 3.0, 3.0, 24.0, 6.0, 5.0, 3.0, 3.0, 2.0, 3.0, 5.0, 2.0, 3.0, 2.0, 3.0, 3.0, 3.0, 3.0, 2.0, 3.0, 3.0, 3.0, 3.0, 3.0, 3.0, 3.0, 3.0, 3.0, 5.0, 3.0, 3.0, 3.0, 3.0, 3.0, 2.0, 3.0, 3.0, 2.0, 2.0, 3.0, 3.0, 2.0, 3.0, 2.0, 3.0, 2.0, 2.0, 3.0, 3.0, 3.0, 3.0, 3.0, 2.0, 3.0, 3.0, 3.0, 5.0, 3.0, 3.0, 2.0, 3.0, 3.0, 3.0, 5.0, 2.0, 3.0, 3.0, 2.0, 3.0, 3.0, 3.0, 3.0, 3.0, 3.0, 2.0, 3.0, 3.0, 3.0, 2.0, 2.0, 3.0, 3.0, 2.0, 2.0, 3.0, 3.0, 3.0, 2.0, 3.0, 3.0, 3.0, 3.0, 3.0, 3.0, 3.0, 2.0, 3.0, 3.0, 3.0, 3.0, 3.0, 3.0, 3.0, 3.0, 2.0, 3.0, 2.0, 3.0, 3.0, 3.0, 3.0, 3.0, 2.0, 3.0, 3.0, 3.0, 3.0, 3.0, 3.0, 3.0, 3.0, 3.0, 3.0, 3.0, 2.0, 3.0, 3.0, 3.0, 3.0, 3.0, 3.0, 3.0, 3.0, 2.0, 3.0, 3.0, 3.0, 3.0, 3.0, 3.0, 3.0, 2.0, 3.0, 3.0, 3.0, 3.0, 3.0, 3.0, 3.0, 3.0, 2.0, 3.0, 3.0, 2.0, 3.0, 3.0, 3.0, 3.0, 3.0, 3.0, 2.0, 3.0, 3.0, 3.0, 3.0, 3.0, 3.0, 3.0, 3.0, 3.0, 3.0, 3.0, 3.0, 2.0, 3.0, 3.0, 3.0, 3.0, 3.0, 3.0, 3.0, 3.0, 3.0, 3.0, 3.0, 3.0, 3.0, 3.0, 3.0, 3.0, 5.0, 3.0, 3.0, 3.0, 3.0, 3.0, 3.0, 3.0, 3.0, 2.0, 3.0, 2.0, 3.0, 3.0, 3.0, 3.0, 3.0, 3.0, 3.0, 2.0, 3.0, 3.0, 2.0, 3.0, 3.0, 2.0, 3.0, 3.0, 3.0, 3.0, 2.0, 3.0, 2.0, 3.0, 3.0, 5.0, 2.0, 3.0, 3.0, 3.0, 3.0, 2.0, 3.0, 3.0, 3.0, 24.0, 24.0, 24.0, 2.0, 2.0, 2.0, 2.0, 5.0, 3.0, 2.0, 2.0, 3.0, 2.0, 3.0, 3.0, 2.0, 2.0, 3.0, 3.0, 3.0, 2.0, 2.0, 6.0, 6.0, 6.0, 6.0, 6.0, 6.0, 3.0, 3.0, 2.0, 3.0, 5.0, 3.0, 2.0, 12.0, 3.0, 6.0, 3.0, 3.0, 12.0, 2.0, 3.0, 4.0, 3.0, 2.0, 2.0, 6.0, 3.0, 3.0, 2.0, 5.0, 3.0, 4.0, 5.0, 2.0, 6.0, 5.0, 3.0, 4.0, 5.0, 6.0, 3.0, 4.0, 2.0, 6.0, 6.0, 3.0, 3.0, 5.0, 3.0, 2.0, 6.0, 5.0, 6.0, 3.0, 3.0, 3.0, 3.0, 3.0, 3.0, 3.0, 3.0, 3.0, 3.0, 3.0, 3.0, 2.0, 3.0, 10.0, 3.0, 6.0, 3.0, 3.0, 2.0, 3.0, 2.0, 2.0, 3.0, 3.0, 2.0, 3.0, 3.0, 3.0, 3.0, 3.0, 2.0, 2.0, 3.0, 3.0, 3.0, 2.0, 3.0, 2.0, 3.0, 3.0, 2.0, 3.0, 2.0, 3.0, 3.0, 3.0, 3.0, 3.0, 3.0, 3.0, 3.0, 2.0, 3.0, 2.0, 3.0, 3.0, 3.0, 3.0, 2.0, 2.0, 3.0, 3.0, 3.0, 3.0, 3.0, 3.0, 3.0, 2.0, 3.0, 3.0, 3.0, 3.0, 3.0, 3.0, 6.0, 3.0, 3.0, 2.0, 3.0, 3.0, 3.0, 2.0, 2.0, 3.0, 3.0, 3.0, 3.0, 2.0, 3.0, 3.0, 12.0, 3.0, 10.0, 10.0, 3.0, 2.0, 3.0, 2.0, 2.0, 3.0, 2.0, 2.0, 3.0, 3.0, 3.0, 3.0, 3.0, 5.0, 2.0, 2.0, 3.0, 3.0, 3.0, 3.0, 3.0, 3.0, 12.0, 2.0, 2.0, 2.0, 2.0, 2.0, 6.0, 4.0, 5.0, 2.0, 3.0, 6.0, 6.0, 6.0, 6.0, 6.0, 6.0, 6.0, 6.0, 6.0, 6.0, 6.0, 6.0, 6.0, 6.0, 6.0, 3.0, 2.0, 3.0, 3.0, 3.0, 3.0, 2.0, 2.0, 3.0, 3.0, 3.0, 2.0, 3.0, 3.0, 10.0, 3.0, 3.0, 2.0, 3.0, 3.0, 3.0, 3.0, 5.0, 2.0, 5.0, 3.0, 5.0, 2.0, 2.0, 3.0, 2.0, 3.0, 5.0, 2.0, 3.0, 5.0, 5.0, 5.0, 5.0, 5.0, 3.0, 3.0, 3.0, 2.0, 3.0, 3.0, 2.0, 3.0, 3.0, 3.0, 3.0, 3.0, 3.0, 3.0, 2.0, 3.0, 2.0, 3.0, 3.0, 3.0, 10.0, 10.0, 5.0, 10.0, 2.0, 3.0, 3.0, 3.0, 3.0, 10.0, 3.0, 3.0, 3.0, 3.0, 3.0, 3.0, 3.0, 2.0, 3.0, 3.0, 3.0, 2.0, 3.0, 3.0, 2.0, 2.0, 3.0, 3.0, 3.0, 6.0, 5.0, 3.0, 3.0, 3.0, 3.0, 3.0, 3.0, 3.0, 3.0, 3.0, 3.0, 3.0, 3.0, 3.0, 3.0, 3.0, 3.0, 3.0, 6.0, 3.0, 3.0, 3.0, 3.0, 3.0, 3.0, 3.0, 3.0, 3.0, 3.0, 3.0, 3.0, 3.0, 3.0, 3.0, 3.0, 3.0, 3.0, 3.0, 3.0, 3.0, 3.0, 3.0, 2.0, 2.0, 3.0, 3.0, 2.0, 3.0, 3.0, 3.0, 3.0, 2.0, 3.0, 3.0, 3.0, 3.0, 10.0, 2.0, 3.0, 2.0, 3.0, 2.0, 2.0, 2.0, 2.0, 3.0, 3.0, 3.0, 3.0, 3.0, 2.0, 3.0, 2.0, 2.0, 3.0, 3.0, 3.0, 3.0, 2.0, 3.0, 3.0, 2.0, 3.0, 3.0, 3.0, 3.0, 3.0, 3.0, 2.0, 3.0, 3.0, 3.0, 3.0, 3.0, 3.0, 3.0, 2.0, 2.0, 2.0, 3.0, 3.0, 3.0, 3.0, 3.0, 3.0, 3.0, 3.0, 3.0, 3.0, 3.0, 3.0, 2.0, 2.0, 3.0, 2.0, 2.0, 3.0, 2.0, 3.0, 3.0, 3.0, 3.0, 3.0, 3.0, 3.0, 6.0, 3.0, 3.0, 3.0, 3.0, 3.0, 3.0, 3.0, 3.0, 3.0, 3.0, 3.0, 5.0, 3.0, 3.0, 3.0, 3.0, 3.0, 3.0, 3.0, 3.0, 3.0, 3.0, 2.0, 3.0, 2.0, 3.0, 2.0, 3.0, 3.0, 3.0, 5.0, 5.0, 3.0, 3.0, 3.0, 3.0, 3.0, 3.0, 3.0, 3.0, 3.0, 3.0, 3.0, 2.0, 2.0, 6.0, 3.0, 3.0, 2.0, 2.0, 3.0, 2.0, 5.0, 3.0, 3.0, 3.0, 3.0, 3.0, 2.0, 2.0, 9.0, 3.0, 3.0, 2.0, 3.0, 3.0, 3.0, 3.0, 3.0, 3.0, 3.0, 3.0, 3.0, 3.0, 3.0, 3.0, 3.0, 3.0, 3.0, 2.0, 3.0, 3.0, 3.0, 2.0, 3.0, 3.0, 3.0, 3.0, 3.0, 2.0, 3.0, 2.0, 2.0, 3.0, 3.0, 3.0, 2.0, 3.0, 3.0, 3.0, 2.0, 3.0, 3.0, 3.0, 3.0, 3.0, 3.0, 3.0, 3.0, 3.0, 3.0, 3.0, 3.0, 3.0, 5.0, 5.0, 3.0, 10.0, 10.0, 5.0, 12.0, 5.0, 3.0, 5.0, 2.0, 3.0, 3.0, 2.0, 2.0, 2.0, 3.0, 4.0, 2.0, 3.0, 3.0, 3.0, 3.0, 3.0, 2.0, 3.0, 12.0, 12.0, 12.0, 10.0, 12.0, 10.0, 8.0, 8.0, 10.0, 10.0, 12.0, 12.0, 12.0, 12.0, 10.0, 12.0, 8.0, 5.0, 12.0, 6.0, 3.0, 10.0, 10.0, 12.0, 12.0, 10.0, 2.0, 3.0, 2.0, 3.0, 3.0, 3.0, 3.0, 3.0, 3.0, 3.0, 3.0, 5.0, 3.0, 6.0, 3.0, 3.0, 3.0, 2.0, 6.0, 3.0, 3.0, 5.0, 2.0, 3.0, 5.0, 3.0, 3.0, 2.0, 3.0, 2.0, 5.0, 6.0, 3.0, 2.0, 3.0, 3.0, 3.0, 5.0, 3.0, 3.0, 3.0, 3.0, 10.0, 3.0, 2.0, 3.0, 3.0, 3.0, 3.0, 3.0, 3.0, 2.0, 2.0, 5.0, 3.0, 3.0, 3.0, 3.0, 3.0, 3.0, 3.0, 2.0, 3.0, 3.0, 3.0, 3.0, 2.0, 2.0, 5.0, 3.0, 3.0, 3.0, 2.0, 3.0, 3.0, 2.0, 3.0, 3.0, 3.0, 3.0, 4.0, 3.0, 3.0, 3.0, 3.0, 3.0, 3.0, 3.0, 3.0, 6.0, 3.0, 3.0, 3.0, 3.0, 3.0, 3.0, 3.0, 2.0, 3.0, 3.0, 3.0, 3.0, 3.0, 3.0, 2.0, 3.0, 12.0, 12.0, 6.0, 6.0, 6.0, 10.0, 10.0, 6.0, 6.0, 10.0, 3.0, 5.0, 3.0, 5.0, 6.0, 3.0, 4.0, 7.0, 3.0, 12.0, 5.0, 3.0, 6.0, 12.0, 5.0, 5.0, 5.0, 10.0, 10.0, 10.0, 10.0, 5.0, 10.0, 10.0, 12.0, 5.0, 10.0, 3.0, 3.0, 3.0, 6.0, 6.0, 3.0, 2.0, 5.0, 3.0, 3.0, 5.0, 5.0, 3.0, 5.0, 2.0, 3.0, 3.0, 3.0, 3.0, 3.0, 3.0, 2.0, 3.0, 2.0, 3.0, 2.0, 3.0, 3.0, 3.0, 3.0, 2.0, 2.0, 2.0, 3.0, 2.0, 2.0, 4.0, 3.0, 2.0, 5.0, 5.0, 5.0, 10.0, 12.0, 6.0, 3.0, 4.0, 3.0, 3.0, 3.0, 3.0, 3.0, 3.0, 3.0, 3.0, 3.0, 3.0, 3.0, 3.0, 3.0, 3.0, 3.0, 3.0, 3.0, 3.0, 3.0, 3.0, 3.0, 3.0, 3.0, 3.0, 3.0, 2.0, 3.0, 3.0, 3.0, 3.0, 3.0, 3.0, 3.0, 3.0, 3.0, 3.0, 3.0, 3.0, 3.0, 3.0, 3.0, 3.0, 3.0, 3.0, 3.0, 3.0, 2.0, 3.0, 3.0, 3.0, 3.0, 3.0, 3.0, 3.0, 3.0, 3.0, 3.0, 3.0, 3.0, 3.0, 3.0, 3.0, 3.0, 2.0, 3.0, 3.0, 3.0, 3.0, 3.0, 3.0, 3.0, 6.0, 2.0, 3.0, 3.0, 3.0, 3.0, 3.0, 3.0, 2.0, 3.0, 3.0, 3.0, 3.0, 3.0, 3.0, 3.0, 3.0, 3.0, 2.0, 2.0, 2.0, 2.0, 12.0, 3.0, 3.0, 3.0, 3.0, 3.0, 3.0, 4.0, 6.0, 3.0, 2.0, 2.0, 2.0, 3.0, 3.0, 3.0, 6.0, 3.0, 3.0, 5.0, 3.0, 3.0, 2.0, 3.0, 2.0, 2.0, 2.0, 8.0, 3.0, 3.0, 2.0, 3.0, 6.0, 3.0, 2.0, 2.0, 3.0, 2.0, 2.0, 3.0, 2.0, 3.0, 5.0, 3.0, 3.0, 3.0, 3.0, 3.0, 3.0, 3.0, 3.0, 10.0, 3.0, 3.0, 3.0, 2.0, 2.0, 2.0, 3.0, 3.0, 2.0, 10.0, 3.0, 3.0, 3.0, 2.0, 3.0, 9.0, 3.0, 3.0, 2.0, 3.0, 3.0, 3.0, 3.0, 3.0, 3.0, 3.0, 3.0, 3.0, 3.0, 3.0, 3.0, 2.0, 3.0, 2.0, 3.0, 3.0, 3.0, 3.0, 3.0, 3.0, 3.0, 2.0, 3.0, 3.0, 2.0, 3.0, 3.0, 3.0, 2.0, 3.0, 3.0, 3.0, 6.0, 2.0, 3.0, 3.0, 8.0, 3.0, 3.0, 3.0, 3.0, 3.0, 3.0, 3.0, 3.0, 3.0, 3.0, 3.0, 2.0, 2.0, 3.0, 3.0, 6.0, 3.0, 3.0, 3.0, 3.0, 3.0, 3.0, 3.0, 3.0, 3.0, 3.0, 2.0, 3.0, 2.0, 3.0, 3.0, 2.0, 3.0, 3.0, 3.0, 3.0, 3.0, 3.0, 9.0, 3.0, 3.0, 2.0, 3.0, 3.0, 3.0, 3.0, 2.0, 2.0, 3.0, 2.0, 3.0, 3.0, 3.0, 3.0, 3.0, 3.0, 3.0, 3.0, 2.0, 3.0, 3.0, 3.0, 3.0, 3.0, 3.0, 3.0, 3.0, 2.0, 5.0, 3.0, 3.0, 3.0, 3.0, 2.0, 3.0, 3.0, 5.0, 3.0, 2.0, 3.0, 3.0, 10.0, 6.0, 3.0, 10.0, 3.0, 3.0, 3.0, 3.0, 10.0, 3.0, 3.0, 3.0, 2.0, 3.0, 3.0, 2.0, 6.0, 3.0, 3.0, 4.0, 2.0, 3.0, 4.0, 3.0, 3.0, 12.0, 3.0, 7.0, 3.0, 3.0, 5.0, 3.0, 6.0, 3.0, 3.0, 3.0, 3.0, 2.0, 3.0, 6.0, 3.0, 3.0, 5.0, 3.0, 3.0, 2.0, 3.0, 3.0, 3.0, 3.0, 5.0, 3.0, 3.0, 3.0, 2.0, 3.0, 3.0, 6.0, 3.0, 6.0, 3.0, 3.0, 3.0, 3.0, 2.0, 10.0, 3.0, 3.0, 3.0, 6.0, 2.0, 3.0, 6.0, 3.0, 6.0, 3.0, 3.0, 3.0, 4.0, 3.0, 3.0, 3.0, 3.0, 3.0, 3.0, 2.0, 3.0, 2.0, 3.0, 6.0, 3.0, 2.0, 3.0, 2.0, 3.0, 3.0, 2.0, 4.0, 3.0, 6.0, 4.0, 2.0, 6.0, 3.0, 3.0, 2.0, 3.0, 3.0, 3.0, 3.0, 3.0, 3.0, 5.0, 3.0, 3.0, 3.0, 3.0, 2.0, 3.0, 3.0, 3.0, 2.0, 3.0, 3.0, 3.0, 3.0, 6.0, 12.0, 3.0, 3.0, 3.0, 3.0, 3.0, 3.0, 3.0, 3.0, 3.0, 3.0, 6.0, 10.0, 3.0, 3.0, 5.0, 3.0, 3.0, 3.0, 5.0, 3.0, 3.0, 6.0, 3.0, 3.0, 3.0, 3.0, 3.0, 3.0, 4.0, 3.0, 3.0, 3.0, 3.0, 3.0, 3.0, 3.0, 3.0, 2.0, 3.0, 3.0, 2.0, 2.0, 3.0, 2.0, 3.0, 3.0, 2.0, 3.0, 3.0, 5.0, 3.0, 5.0, 5.0, 6.0, 12.0, 3.0, 3.0, 5.0, 3.0, 3.0, 3.0, 3.0, 3.0, 2.0, 2.0, 5.0, 5.0, 5.0, 2.0, 2.0, 12.0, 2.0, 2.0, 3.0, 6.0, 3.0, 2.0, 5.0, 5.0, 3.0, 5.0, 5.0, 3.0, 5.0, 5.0, 3.0, 5.0, 3.0, 5.0, 3.0, 2.0, 10.0, 2.0, 2.0, 3.0, 3.0, 6.0, 3.0, 3.0, 2.0, 2.0, 4.0, 2.0, 3.0, 5.0, 5.0, 4.0, 5.0, 2.0, 4.0, 3.0, 5.0, 2.0, 2.0, 3.0, 3.0, 3.0, 3.0, 3.0, 3.0, 5.0, 5.0, 3.0, 6.0, 5.0, 2.0, 3.0, 5.0, 5.0, 2.0, 6.0, 5.0, 3.0, 3.0, 2.0, 5.0, 2.0, 5.0, 5.0, 5.0, 3.0, 3.0, 3.0, 2.0, 3.0, 3.0, 5.0, 4.0, 6.0, 2.0, 2.0, 3.0, 3.0, 3.0, 3.0, 2.0, 3.0, 4.0, 3.0, 3.0, 3.0, 3.0, 3.0, 6.0, 3.0, 6.0, 3.0, 3.0, 3.0, 3.0, 3.0, 6.0, 6.0, 6.0, 5.0, 3.0, 6.0, 3.0, 3.0, 3.0, 6.0, 6.0, 3.0, 2.0, 6.0, 3.0, 3.0, 3.0, 6.0, 2.0, 3.0, 2.0, 3.0, 3.0, 3.0, 3.0, 3.0, 3.0, 2.0, 2.0, 3.0, 3.0, 2.0, 3.0, 3.0, 2.0, 3.0, 2.0, 3.0, 2.0, 2.0, 3.0, 3.0, 2.0, 3.0, 2.0, 2.0, 3.0, 2.0, 3.0, 2.0, 2.0, 2.0, 5.0, 5.0, 5.0, 5.0, 3.0, 3.0, 10.0, 2.0, 3.0, 2.0, 2.0, 3.0, 2.0, 3.0, 3.0, 3.0, 5.0, 5.0, 5.0, 3.0, 10.0, 3.0, 3.0, 3.0, 3.0, 3.0, 2.0, 5.0, 3.0, 3.0, 10.0, 5.0, 5.0, 3.0, 2.0, 5.0, 3.0, 3.0, 3.0, 5.0, 5.0, 3.0, 3.0, 3.0, 3.0, 3.0, 3.0, 3.0, 3.0, 3.0, 3.0, 3.0, 3.0, 3.0, 3.0, 3.0, 5.0, 5.0, 3.0, 3.0, 3.0, 3.0, 3.0, 3.0, 3.0, 2.0, 3.0, 3.0, 2.0, 3.0, 3.0, 3.0, 5.0, 3.0, 5.0, 10.0, 3.0, 3.0, 5.0, 3.0, 3.0, 3.0, 3.0, 5.0, 3.0, 5.0, 4.0, 3.0, 2.0, 3.0, 2.0, 2.0, 2.0, 5.0, 5.0, 3.0, 3.0, 3.0, 5.0, 3.0, 3.0, 3.0, 2.0, 3.0, 2.0, 3.0, 3.0, 5.0, 2.0, 5.0, 3.0, 3.0, 3.0, 5.0, 2.0, 5.0, 3.0, 2.0, 3.0, 2.0, 3.0, 3.0, 3.0, 3.0, 3.0, 2.0, 2.0, 3.0, 3.0, 3.0, 2.0, 3.0, 3.0, 2.0, 2.0, 2.0, 3.0, 3.0, 3.0, 3.0, 2.0, 2.0, 3.0, 5.0, 3.0, 3.0, 5.0, 5.0, 3.0, 3.0, 3.0, 2.0, 3.0, 6.0, 4.0, 2.0, 3.0, 3.0, 3.0, 3.0, 3.0, 3.0, 3.0, 3.0, 2.0, 3.0, 3.0, 3.0, 3.0, 3.0, 2.0, 3.0, 3.0, 3.0, 3.0, 3.0, 5.0, 3.0, 3.0, 2.0, 2.0, 5.0, 3.0, 2.0, 6.0, 2.0, 5.0, 3.0, 3.0, 3.0, 3.0, 2.0, 3.0, 2.0, 5.0, 3.0, 2.0, 5.0, 3.0, 5.0, 10.0, 3.0, 5.0, 3.0, 2.0, 5.0, 3.0, 3.0, 5.0, 5.0, 5.0, 3.0, 5.0, 4.0, 2.0, 5.0, 5.0, 3.0, 2.0, 2.0, 5.0, 3.0, 3.0, 3.0, 5.0, 3.0, 5.0, 5.0, 2.0, 2.0, 3.0, 3.0, 2.0, 3.0, 6.0, 3.0, 5.0, 2.0, 3.0, 5.0, 3.0, 2.0, 3.0, 3.0, 5.0, 3.0, 3.0, 3.0, 3.0, 3.0, 3.0, 2.0, 3.0, 3.0, 2.0, 3.0, 3.0, 3.0, 2.0, 3.0, 2.0, 2.0, 5.0, 3.0, 3.0, 5.0, 5.0, 3.0, 3.0, 3.0, 5.0, 3.0, 5.0, 7.0, 3.0, 3.0, 3.0, 3.0, 3.0, 3.0, 4.0, 2.0, 3.0, 3.0, 3.0, 5.0, 3.0, 3.0, 3.0, 5.0, 5.0, 3.0, 20.0, 3.0, 3.0, 2.0, 3.0, 5.0, 5.0, 3.0, 3.0, 2.0, 6.0, 6.0, 5.0, 2.0, 5.0, 3.0, 3.0, 5.0, 3.0, 3.0, 6.0, 3.0, 3.0, 3.0, 5.0, 3.0, 2.0, 3.0, 3.0, 2.0, 3.0, 3.0, 6.0, 3.0, 6.0, 3.0, 6.0, 3.0, 3.0, 3.0, 4.0, 3.0, 3.0, 3.0, 3.0, 3.0, 2.0, 3.0, 3.0, 3.0, 3.0, 6.0, 2.0, 3.0, 6.0, 3.0, 3.0, 3.0, 3.0, 5.0, 3.0, 3.0, 5.0, 3.0, 2.0, 2.0, 3.0, 3.0, 6.0, 3.0, 5.0, 3.0, 3.0, 2.0, 3.0, 3.0, 3.0, 3.0, 2.0, 3.0, 3.0, 2.0, 3.0, 3.0, 6.0, 3.0, 2.0, 3.0, 2.0, 3.0, 6.0, 3.0, 2.0, 3.0, 6.0, 3.0, 6.0, 3.0, 2.0, 4.0, 2.0, 6.0, 3.0, 3.0, 6.0, 3.0, 3.0, 2.0, 2.0, 2.0, 3.0, 3.0, 12.0, 6.0, 2.0, 3.0, 5.0, 3.0, 3.0, 3.0, 2.0, 3.0, 3.0, 3.0, 3.0, 3.0, 3.0, 3.0, 10.0, 6.0, 6.0, 10.0, 6.0, 9.0, 3.0, 3.0, 3.0, 5.0, 3.0, 2.0, 2.0, 3.0, 3.0, 3.0, 5.0, 3.0, 5.0, 3.0, 2.0, 3.0, 3.0, 3.0, 2.0, 3.0, 12.0, 12.0, 6.0, 3.0, 3.0, 3.0, 2.0, 6.0, 10.0, 3.0, 3.0, 3.0, 6.0, 3.0, 2.0, 6.0, 3.0, 12.0, 3.0, 3.0, 3.0, 3.0, 2.0, 3.0, 3.0, 3.0, 2.0, 3.0, 2.0, 3.0, 2.0, 2.0, 3.0, 2.0, 2.0, 3.0, 3.0, 4.0, 2.0, 3.0, 3.0, 3.0, 3.0, 3.0, 2.0, 3.0, 3.0, 6.0, 3.0, 3.0, 3.0, 3.0, 3.0, 2.0, 3.0, 3.0, 2.0, 3.0, 3.0, 2.0, 5.0, 2.0, 3.0, 2.0, 2.0, 3.0, 3.0, 10.0, 3.0, 3.0, 2.0, 2.0, 5.0, 3.0, 3.0, 3.0, 5.0, 6.0, 3.0, 3.0, 2.0, 3.0, 3.0, 5.0, 3.0, 3.0, 3.0, 5.0, 2.0, 5.0, 3.0, 3.0, 3.0, 6.0, 3.0, 3.0, 2.0, 3.0, 3.0, 3.0, 3.0, 3.0, 3.0, 3.0, 2.0, 3.0, 3.0, 3.0, 3.0, 2.0, 2.0, 3.0, 3.0, 2.0, 3.0, 3.0, 3.0, 2.0, 2.0, 2.0, 3.0, 3.0, 3.0, 3.0, 2.0, 2.0, 2.0, 3.0, 3.0, 2.0, 3.0, 3.0, 3.0, 2.0, 3.0, 5.0, 3.0, 2.0, 2.0, 3.0, 2.0, 3.0, 2.0, 3.0, 3.0, 3.0, 3.0, 3.0, 3.0, 3.0, 3.0, 3.0, 3.0, 3.0, 3.0, 3.0, 2.0, 2.0, 10.0, 3.0, 3.0, 3.0, 3.0, 15.0, 3.0, 3.0, 15.0, 3.0, 3.0, 3.0, 3.0, 3.0, 3.0, 3.0, 3.0, 3.0, 3.0, 2.0, 2.0, 3.0, 3.0, 3.0, 3.0, 3.0, 3.0, 3.0, 3.0, 5.0, 2.0, 3.0, 3.0, 3.0, 3.0, 3.0, 2.0, 3.0, 3.0, 3.0, 3.0, 3.0, 3.0, 3.0, 3.0, 3.0, 3.0, 2.0, 3.0, 3.0, 3.0, 3.0, 2.0, 2.0, 3.0, 3.0, 3.0, 3.0, 6.0, 3.0, 3.0, 3.0, 3.0, 3.0, 3.0, 2.0, 3.0, 3.0, 3.0, 3.0, 3.0, 2.0, 3.0, 3.0, 2.0, 3.0, 3.0, 3.0, 2.0, 2.0, 3.0, 2.0, 6.0, 3.0, 3.0, 3.0, 2.0, 6.0, 3.0, 3.0, 2.0, 3.0, 3.0, 3.0, 3.0, 2.0, 3.0, 2.0, 2.0, 3.0, 3.0, 3.0, 3.0, 3.0, 3.0, 2.0, 2.0, 3.0, 3.0, 5.0, 3.0, 2.0, 3.0, 2.0, 3.0, 2.0, 2.0, 2.0, 3.0, 2.0, 3.0, 3.0, 2.0, 2.0, 2.0, 2.0, 3.0, 2.0, 3.0, 3.0, 3.0, 3.0, 3.0, 2.0, 2.0, 3.0, 3.0, 3.0, 2.0, 4.0, 3.0, 5.0, 4.0, 4.0, 3.0, 5.0, 3.0, 12.0, 3.0, 3.0, 3.0, 2.0, 12.0, 3.0, 3.0, 3.0, 3.0, 3.0, 2.0, 2.0, 3.0, 3.0, 2.0, 3.0, 3.0, 3.0, 2.0, 3.0, 3.0, 5.0, 3.0, 3.0, 2.0, 3.0, 3.0, 5.0, 2.0, 3.0, 3.0, 2.0, 3.0, 2.0, 3.0, 2.0, 3.0, 3.0, 3.0, 5.0, 3.0, 3.0, 2.0, 3.0, 3.0, 3.0, 3.0, 3.0, 3.0, 2.0, 3.0, 3.0, 3.0, 5.0, 3.0, 3.0, 3.0, 2.0, 3.0, 2.0, 3.0, 2.0, 3.0, 5.0, 3.0, 3.0, 5.0, 2.0, 3.0, 3.0, 3.0, 5.0, 5.0, 5.0, 5.0, 3.0, 3.0, 3.0, 3.0, 4.0, 3.0, 2.0, 3.0, 3.0, 3.0, 3.0, 3.0, 3.0, 4.0, 5.0, 2.0, 2.0, 5.0, 3.0, 5.0, 5.0, 3.0, 3.0, 3.0, 2.0, 2.0, 3.0, 3.0, 5.0, 3.0, 3.0, 3.0, 2.0, 3.0, 2.0, 3.0, 3.0, 3.0, 3.0, 3.0, 3.0, 3.0, 2.0, 3.0, 3.0, 2.0, 3.0, 2.0, 3.0, 3.0, 2.0, 3.0, 3.0, 5.0, 5.0, 3.0, 5.0, 3.0, 3.0, 2.0, 6.0, 6.0, 5.0, 3.0, 3.0, 3.0, 10.0, 3.0, 2.0, 6.0, 3.0, 3.0, 5.0, 6.0, 3.0, 5.0, 3.0, 4.0, 2.0, 6.0, 3.0, 2.0, 3.0, 3.0, 3.0, 3.0, 3.0, 2.0, 2.0, 3.0, 4.0, 3.0, 2.0, 3.0, 3.0, 3.0, 6.0, 6.0, 3.0, 6.0, 6.0, 3.0, 5.0, 3.0, 2.0, 3.0, 3.0, 3.0, 6.0, 3.0, 3.0, 2.0, 3.0, 2.0, 3.0, 2.0, 3.0, 6.0, 2.0, 3.0, 3.0, 3.0, 3.0, 3.0, 3.0, 6.0, 3.0, 6.0, 3.0, 3.0, 2.0, 5.0, 3.0, 4.0, 2.0, 2.0, 3.0, 3.0, 2.0, 6.0, 6.0, 2.0, 3.0, 3.0, 6.0, 3.0, 5.0, 2.0, 4.0, 2.0, 3.0, 3.0, 6.0, 3.0, 3.0, 3.0, 3.0, 6.0, 2.0, 3.0, 6.0, 3.0, 3.0, 3.0, 3.0, 3.0, 2.0, 3.0, 5.0, 3.0, 2.0, 6.0, 3.0, 6.0, 6.0, 3.0, 3.0, 3.0, 3.0, 3.0, 3.0, 6.0, 6.0, 3.0, 6.0, 3.0, 2.0, 2.0, 3.0, 2.0, 3.0, 6.0, 5.0, 4.0, 3.0, 3.0, 3.0, 2.0, 2.0, 3.0, 2.0, 3.0, 2.0, 3.0, 6.0, 3.0, 3.0, 3.0, 6.0, 3.0, 3.0, 3.0, 5.0, 2.0, 6.0, 3.0, 3.0, 3.0, 3.0, 3.0, 2.0, 3.0, 3.0, 3.0, 3.0, 3.0, 5.0, 3.0, 4.0, 3.0, 3.0, 3.0, 6.0, 3.0, 3.0, 3.0, 3.0, 3.0, 3.0, 3.0, 3.0, 3.0, 3.0, 3.0, 5.0, 3.0, 3.0, 3.0, 3.0, 6.0, 3.0, 6.0, 6.0, 6.0, 6.0, 6.0, 2.0, 3.0, 3.0, 6.0, 5.0, 3.0, 3.0, 2.0, 3.0, 3.0, 3.0, 3.0, 3.0, 3.0, 5.0, 5.0, 5.0, 5.0, 3.0, 3.0, 3.0, 3.0, 3.0, 6.0, 10.0, 2.0, 5.0, 2.0, 3.0, 3.0, 3.0, 2.0, 3.0, 3.0, 3.0, 3.0, 2.0, 2.0, 2.0, 2.0, 3.0, 3.0, 2.0, 2.0, 6.0, 3.0, 3.0, 3.0, 2.0, 3.0, 3.0, 3.0, 3.0, 3.0, 2.0, 2.0, 3.0, 5.0, 2.0, 2.0, 3.0, 3.0, 3.0, 3.0, 3.0, 2.0, 3.0, 2.0, 3.0, 3.0, 3.0, 3.0, 2.0, 3.0, 5.0, 3.0, 6.0, 3.0, 5.0, 9.0, 9.0, 9.0, 9.0, 9.0, 9.0, 3.0, 6.0, 3.0, 6.0, 9.0, 9.0, 2.0, 2.0, 3.0, 3.0, 2.0, 2.0, 3.0, 3.0, 3.0, 3.0, 3.0, 3.0, 2.0, 3.0, 3.0, 3.0, 2.0, 3.0, 2.0, 2.0, 3.0, 3.0, 3.0, 5.0, 2.0, 3.0, 3.0, 3.0, 3.0, 3.0, 2.0, 3.0, 3.0, 3.0, 2.0, 2.0, 3.0, 3.0, 3.0, 2.0, 3.0, 3.0, 3.0, 3.0, 3.0, 3.0, 3.0, 5.0, 3.0, 2.0, 3.0, 3.0, 3.0, 2.0, 5.0, 3.0, 3.0, 2.0, 3.0, 2.0, 3.0, 3.0, 2.0, 3.0, 2.0, 3.0, 3.0, 3.0, 2.0, 2.0, 2.0, 3.0, 3.0, 3.0, 3.0, 3.0, 3.0, 3.0, 3.0, 2.0, 3.0, 3.0, 3.0, 3.0, 2.0, 2.0, 2.0, 3.0, 3.0, 2.0, 3.0, 3.0, 2.0, 3.0, 3.0, 3.0, 2.0, 2.0, 3.0, 2.0, 3.0, 3.0, 3.0, 3.0, 2.0, 3.0, 3.0, 3.0, 3.0, 3.0, 2.0, 3.0, 4.0, 2.0, 3.0, 2.0, 3.0, 3.0, 2.0, 3.0, 3.0, 6.0, 3.0, 2.0, 2.0, 2.0, 3.0, 3.0, 5.0, 3.0, 3.0, 3.0, 3.0, 3.0, 3.0, 3.0, 3.0, 3.0, 6.0, 3.0, 3.0, 12.0, 3.0, 4.0, 10.0, 3.0, 3.0, 12.0, 24.0, 24.0, 3.0, 3.0, 3.0, 4.0, 24.0, 3.0, 24.0, 3.0, 3.0, 24.0, 36.0, 24.0, 24.0, 3.0, 3.0, 3.0, 3.0, 3.0, 3.0, 3.0, 3.0, 3.0, 3.0, 3.0, 5.0, 6.0, 3.0, 3.0, 3.0, 2.0, 10.0, 3.0, 6.0, 3.0, 3.0, 6.0, 2.0, 3.0, 3.0, 3.0, 3.0, 6.0, 3.0, 12.0, 5.0, 10.0, 10.0, 12.0, 4.0, 18.0, 3.0, 4.0, 2.0, 2.0, 3.0, 3.0, 3.0, 2.0, 10.0, 10.0, 5.0, 5.0, 10.0, 6.0, 10.0, 5.0, 10.0, 6.0, 6.0, 5.0, 12.0, 5.0, 5.0, 5.0, 3.0, 3.0, 5.0, 2.0, 3.0, 2.0, 3.0, 2.0, 2.0, 2.0, 2.0, 2.0, 10.0, 2.0, 3.0, 2.0, 3.0, 3.0, 3.0, 3.0, 6.0, 2.0, 5.0, 2.0, 2.0, 2.0, 3.0, 3.0, 3.0, 2.0, 2.0, 2.0, 3.0, 6.0, 3.0, 3.0, 3.0, 3.0, 2.0, 3.0, 3.0, 3.0, 3.0, 2.0, 3.0, 2.0, 3.0, 3.0, 5.0, 5.0, 3.0, 2.0, 3.0, 3.0, 2.0, 2.0, 2.0, 5.0, 3.0, 2.0, 3.0, 3.0, 3.0, 3.0, 3.0, 3.0, 3.0, 2.0, 6.0, 3.0, 3.0, 3.0, 2.0, 3.0, 3.0, 2.0, 10.0, 10.0, 5.0, 12.0, 3.0, 3.0, 10.0, 4.0, 12.0, 10.0, 3.0, 9.0, 5.0, 3.0, 10.0, 3.0, 3.0, 3.0, 10.0, 2.0, 5.0, 5.0, 5.0, 5.0, 5.0, 3.0, 5.0, 10.0, 5.0, 5.0, 5.0, 5.0, 5.0, 5.0, 3.0, 3.0, 3.0, 3.0, 5.0, 5.0, 2.0, 5.0, 3.0, 3.0, 5.0, 4.0, 3.0, 3.0, 3.0, 3.0, 3.0, 3.0, 2.0, 2.0, 2.0, 3.0, 2.0, 2.0, 3.0, 2.0, 3.0, 2.0, 3.0, 5.0, 6.0, 3.0, 3.0, 5.0, 3.0, 3.0, 3.0, 5.0, 7.0, 10.0, 2.0, 6.0, 3.0, 3.0, 3.0, 3.0, 2.0, 2.0, 3.0, 2.0, 5.0, 3.0, 3.0, 3.0, 2.0, 2.0, 2.0, 2.0, 3.0, 2.0, 5.0, 5.0, 3.0, 3.0, 3.0, 2.0, 2.0, 3.0, 2.0, 2.0, 3.0, 3.0, 3.0, 3.0, 3.0, 2.0, 3.0, 3.0, 3.0, 3.0, 3.0, 3.0, 3.0, 3.0, 3.0, 3.0, 3.0, 3.0, 3.0, 3.0, 3.0, 2.0, 3.0, 3.0, 2.0, 2.0, 2.0, 3.0, 3.0, 2.0, 3.0, 3.0, 3.0, 3.0, 3.0, 2.0, 3.0, 3.0, 3.0, 3.0, 3.0, 2.0, 3.0, 3.0, 4.0, 3.0, 3.0, 3.0, 2.0, 5.0, 3.0, 3.0, 3.0, 2.0, 6.0, 3.0, 6.0, 3.0, 6.0, 5.0, 3.0, 5.0, 3.0, 3.0, 6.0, 3.0, 3.0, 3.0, 3.0, 5.0, 3.0, 2.0, 3.0, 3.0, 3.0, 2.0, 3.0, 3.0, 3.0, 2.0, 3.0, 3.0, 3.0, 2.0, 3.0, 3.0, 2.0, 2.0, 3.0, 5.0, 2.0, 3.0, 3.0, 3.0, 2.0, 3.0, 2.0, 3.0, 3.0, 3.0, 3.0, 3.0, 3.0, 3.0, 3.0, 3.0, 2.0, 3.0, 3.0, 2.0, 3.0, 2.0, 3.0, 3.0, 2.0, 3.0, 3.0, 3.0, 3.0, 2.0, 3.0, 3.0, 3.0, 3.0, 2.0, 2.0, 3.0, 3.0, 2.0, 3.0, 3.0, 3.0, 2.0, 2.0, 3.0, 2.0, 3.0, 2.0, 3.0, 3.0, 4.0, 3.0, 3.0, 3.0, 2.0, 2.0, 5.0, 2.0, 2.0, 2.0, 2.0, 2.0, 5.0, 10.0, 5.0, 3.0, 5.0, 3.0, 3.0, 2.0, 2.0, 2.0, 2.0, 3.0, 2.0, 4.0, 2.0, 3.0, 2.0, 5.0, 3.0, 2.0, 2.0, 2.0, 2.0, 2.0, 3.0, 2.0, 2.0, 3.0, 2.0, 3.0, 3.0, 3.0, 3.0, 3.0, 2.0, 3.0, 3.0, 3.0, 3.0, 2.0, 3.0, 2.0, 3.0, 3.0, 2.0, 3.0, 2.0, 3.0, 2.0, 3.0, 3.0, 2.0, 3.0, 3.0, 2.0, 2.0, 3.0, 2.0, 2.0, 2.0, 2.0, 2.0, 2.0, 3.0, 3.0, 6.0, 2.0, 3.0, 2.0, 3.0, 3.0, 2.0, 2.0, 2.0, 3.0, 3.0, 3.0, 3.0, 2.0, 2.0, 5.0, 3.0, 4.0, 3.0, 3.0, 2.0, 3.0, 3.0, 3.0, 3.0, 3.0, 3.0, 3.0, 3.0, 2.0, 3.0, 3.0, 2.0, 3.0, 3.0, 3.0, 3.0, 5.0, 3.0, 3.0, 2.0, 3.0, 3.0, 3.0, 3.0, 10.0, 10.0, 10.0, 10.0, 10.0, 10.0, 10.0, 10.0, 10.0, 10.0, 12.0, 12.0, 12.0, 12.0, 3.0, 3.0, 2.0, 3.0, 2.0, 3.0, 3.0, 2.0, 2.0, 3.0, 2.0, 3.0, 3.0, 3.0, 3.0, 3.0, 3.0, 3.0, 3.0, 3.0, 3.0, 3.0, 3.0, 5.0, 3.0, 3.0, 3.0, 3.0, 3.0, 3.0, 2.0, 3.0, 3.0, 5.0, 3.0, 2.0, 3.0, 3.0, 3.0, 3.0, 3.0, 3.0, 4.0, 2.0, 3.0, 3.0, 3.0, 3.0, 3.0, 3.0, 2.0, 3.0, 5.0, 3.0, 3.0, 2.0, 3.0, 3.0, 3.0, 3.0, 3.0, 2.0, 5.0, 3.0, 2.0, 3.0, 3.0, 2.0, 2.0, 3.0, 2.0, 2.0, 3.0, 2.0, 3.0, 2.0, 3.0, 3.0, 3.0, 3.0, 2.0, 3.0, 2.0, 3.0, 2.0, 3.0, 5.0, 2.0, 2.0, 3.0, 3.0, 5.0, 3.0, 3.0, 3.0, 3.0, 3.0, 3.0, 3.0, 2.0, 3.0, 3.0, 2.0, 2.0, 3.0, 3.0, 3.0, 3.0, 3.0, 2.0, 5.0, 3.0, 3.0, 2.0, 3.0, 3.0, 6.0, 3.0, 6.0, 6.0, 3.0, 3.0, 3.0, 3.0, 6.0, 3.0, 3.0, 3.0, 3.0, 3.0, 5.0, 3.0, 3.0, 2.0, 2.0, 3.0, 2.0, 3.0, 3.0, 2.0, 3.0, 3.0, 6.0, 5.0, 3.0, 3.0, 5.0, 5.0, 6.0, 3.0, 3.0, 2.0, 2.0, 3.0, 2.0, 3.0, 4.0, 3.0, 6.0, 2.0, 3.0, 3.0, 3.0, 2.0, 3.0, 3.0, 3.0, 3.0, 3.0, 3.0, 2.0, 3.0, 3.0, 3.0, 3.0, 2.0, 3.0, 3.0, 3.0, 3.0, 3.0, 3.0, 3.0, 3.0, 2.0, 3.0, 3.0, 3.0, 3.0, 3.0, 3.0, 3.0, 6.0, 3.0, 3.0, 3.0, 2.0, 3.0, 3.0, 3.0, 3.0, 3.0, 3.0, 3.0, 3.0, 3.0, 3.0, 3.0, 3.0, 6.0, 6.0, 3.0, 2.0, 3.0, 3.0, 4.0, 3.0, 2.0, 3.0, 2.0, 3.0, 3.0, 3.0, 3.0, 3.0, 3.0, 3.0, 3.0, 3.0, 2.0, 2.0, 2.0, 3.0, 2.0, 3.0, 3.0, 3.0, 2.0, 3.0, 3.0, 2.0, 3.0, 2.0, 3.0, 3.0, 5.0, 6.0, 5.0, 3.0, 5.0, 3.0, 3.0, 3.0, 3.0, 5.0, 3.0, 3.0, 2.0, 3.0, 5.0, 3.0, 5.0, 6.0, 3.0, 3.0, 6.0, 3.0, 3.0, 6.0, 2.0, 2.0, 3.0, 3.0, 5.0, 3.0, 3.0, 3.0, 3.0, 3.0, 3.0, 3.0, 2.0, 3.0, 3.0, 3.0, 3.0, 2.0, 3.0, 3.0, 3.0, 3.0, 2.0, 2.0, 3.0, 3.0, 3.0, 3.0, 2.0, 3.0, 3.0, 5.0, 3.0, 5.0, 3.0, 5.0, 10.0, 5.0, 5.0, 3.0, 2.0, 3.0, 5.0, 3.0, 3.0, 2.0, 2.0, 3.0, 2.0, 3.0, 2.0, 3.0, 3.0, 2.0, 3.0, 2.0, 3.0, 3.0, 3.0, 3.0, 2.0, 2.0, 2.0, 2.0, 2.0, 3.0, 3.0, 2.0, 3.0, 2.0, 3.0, 3.0, 3.0, 3.0, 3.0, 3.0, 3.0, 3.0, 3.0, 3.0, 3.0, 3.0, 3.0, 3.0, 2.0, 3.0, 10.0, 3.0, 5.0, 2.0, 3.0, 3.0, 6.0, 5.0, 3.0, 3.0, 3.0, 6.0, 2.0, 3.0, 3.0, 3.0, 3.0, 3.0, 3.0, 3.0, 3.0, 3.0, 3.0, 3.0, 3.0, 3.0, 3.0, 6.0, 3.0, 3.0, 2.0, 3.0, 3.0, 3.0, 3.0, 2.0, 3.0, 3.0, 3.0, 3.0, 3.0, 3.0, 2.0, 3.0, 2.0, 2.0, 3.0, 3.0, 2.0, 3.0, 3.0, 2.0, 2.0, 2.0, 2.0, 3.0, 3.0, 3.0, 3.0, 3.0, 2.0, 3.0, 3.0, 3.0, 3.0, 2.0, 2.0, 3.0, 3.0, 3.0, 3.0, 3.0, 3.0, 2.0, 2.0, 3.0, 5.0, 2.0, 3.0, 3.0, 2.0, 3.0, 2.0, 2.0, 2.0, 3.0, 3.0, 3.0, 2.0, 3.0, 3.0, 2.0, 3.0, 2.0, 2.0, 3.0, 5.0, 3.0, 3.0, 2.0, 3.0, 5.0, 3.0, 6.0, 3.0, 2.0, 3.0, 3.0, 3.0, 3.0, 3.0, 3.0, 3.0, 3.0, 2.0, 6.0, 2.0, 3.0, 3.0, 2.0, 3.0, 3.0, 6.0, 3.0, 6.0, 6.0, 3.0, 6.0, 2.0, 3.0, 3.0, 3.0, 6.0, 3.0, 3.0, 2.0, 2.0, 2.0, 2.0, 3.0, 2.0, 3.0, 2.0, 6.0, 3.0, 3.0, 3.0, 2.0, 6.0, 6.0, 3.0, 2.0, 2.0, 3.0, 3.0, 3.0, 3.0, 2.0, 3.0, 3.0, 3.0, 3.0, 3.0, 3.0, 3.0, 3.0, 2.0, 3.0, 3.0, 3.0, 3.0, 3.0, 2.0, 3.0, 3.0, 3.0, 3.0, 3.0, 2.0, 3.0, 3.0, 2.0, 3.0, 3.0, 3.0, 3.0, 3.0, 3.0, 3.0, 2.0, 3.0, 3.0, 3.0, 3.0, 3.0, 2.0, 3.0, 3.0, 3.0, 2.0, 3.0, 3.0, 2.0, 3.0, 3.0, 3.0, 2.0, 3.0, 2.0, 2.0, 3.0, 3.0, 3.0, 3.0, 3.0, 3.0, 3.0, 3.0, 2.0, 2.0, 3.0, 3.0, 3.0, 3.0, 3.0, 2.0, 3.0, 3.0, 2.0, 3.0, 2.0, 3.0, 3.0, 3.0, 3.0, 2.0, 2.0, 3.0, 3.0, 2.0, 3.0, 2.0, 3.0, 2.0, 3.0, 3.0, 3.0, 3.0, 3.0, 3.0, 2.0, 3.0, 2.0, 3.0, 2.0, 3.0, 3.0, 3.0, 2.0, 2.0, 2.0, 2.0, 2.0, 3.0, 3.0, 3.0, 3.0, 2.0, 2.0, 3.0, 3.0, 2.0, 3.0, 3.0, 3.0, 2.0, 3.0, 3.0, 3.0, 5.0, 3.0, 3.0, 5.0, 5.0, 6.0, 3.0, 6.0, 2.0, 3.0, 3.0, 3.0, 3.0, 3.0, 2.0, 6.0, 2.0, 3.0, 3.0, 3.0, 3.0, 3.0, 3.0, 3.0, 3.0, 2.0, 2.0, 3.0, 3.0, 2.0, 3.0, 2.0, 3.0, 3.0, 3.0, 2.0, 2.0, 3.0, 2.0, 2.0, 3.0, 3.0, 3.0, 2.0, 2.0, 3.0, 2.0, 3.0, 3.0, 3.0, 3.0, 2.0, 3.0, 3.0, 2.0, 3.0, 3.0, 2.0, 3.0, 2.0, 3.0, 2.0, 2.0, 3.0, 3.0, 3.0, 3.0, 3.0, 2.0, 3.0, 3.0, 3.0, 3.0, 2.0, 2.0, 2.0, 3.0, 2.0, 2.0, 2.0, 2.0, 2.0, 4.0, 2.0, 2.0, 3.0, 3.0, 2.0, 2.0, 3.0, 3.0, 2.0, 3.0, 2.0, 3.0, 2.0, 3.0, 2.0, 3.0, 3.0, 3.0, 2.0, 10.0, 3.0, 3.0, 3.0, 3.0, 3.0, 3.0, 3.0, 3.0, 3.0, 3.0, 2.0, 3.0, 3.0, 5.0, 3.0, 3.0, 3.0, 3.0, 3.0, 3.0, 3.0, 3.0, 5.0, 3.0, 3.0, 3.0, 3.0, 3.0, 4.0, 3.0, 2.0, 3.0, 3.0, 2.0, 2.0, 3.0, 3.0, 3.0, 3.0, 3.0, 3.0, 2.0, 2.0, 2.0, 3.0, 5.0, 2.0, 3.0, 3.0, 3.0, 3.0, 3.0, 3.0, 2.0, 3.0, 3.0, 3.0, 3.0, 3.0, 2.0, 3.0, 3.0, 2.0, 3.0, 3.0, 3.0, 5.0, 2.0, 3.0, 3.0, 3.0, 3.0, 2.0, 3.0, 3.0, 3.0, 3.0, 3.0, 3.0, 2.0, 3.0, 2.0, 3.0, 3.0, 3.0, 3.0, 2.0, 3.0, 3.0, 3.0, 3.0, 3.0, 3.0, 3.0, 3.0, 2.0, 3.0, 3.0, 2.0, 3.0, 6.0, 3.0, 3.0, 2.0, 3.0, 2.0, 3.0, 3.0, 2.0, 2.0, 3.0, 3.0, 3.0, 2.0, 3.0, 2.0, 3.0, 3.0, 3.0, 3.0, 10.0, 3.0, 3.0, 3.0, 2.0, 2.0, 3.0, 3.0, 3.0, 3.0, 5.0, 3.0, 6.0, 3.0, 3.0, 3.0, 3.0, 3.0, 3.0, 3.0, 3.0, 3.0, 2.0, 2.0, 2.0, 3.0, 3.0, 5.0, 3.0, 3.0, 2.0, 3.0, 3.0, 3.0, 5.0, 3.0, 2.0, 3.0, 3.0, 3.0, 3.0, 3.0, 3.0, 3.0, 2.0, 2.0, 2.0, 2.0, 5.0, 3.0, 2.0, 5.0, 3.0, 3.0, 2.0, 3.0, 3.0, 2.0, 3.0, 2.0, 3.0, 2.0, 3.0, 2.0, 3.0, 7.0, 2.0, 2.0, 3.0, 3.0, 3.0, 5.0, 3.0, 3.0, 3.0, 2.0, 5.0, 3.0, 2.0, 2.0, 3.0, 3.0, 6.0, 3.0, 2.0, 2.0, 3.0, 3.0, 3.0, 3.0, 3.0, 2.0, 3.0, 3.0, 3.0, 4.0, 3.0, 3.0, 5.0, 3.0, 2.0, 3.0, 2.0, 3.0, 2.0, 3.0, 3.0, 3.0, 5.0, 2.0, 3.0, 6.0, 3.0, 2.0, 3.0, 2.0, 3.0, 2.0, 3.0, 3.0, 3.0, 5.0, 2.0, 3.0, 3.0, 5.0, 3.0, 6.0, 3.0, 3.0, 3.0, 3.0, 4.0, 3.0, 3.0, 3.0, 2.0, 6.0, 3.0, 3.0, 2.0, 3.0, 5.0, 3.0, 10.0, 2.0, 5.0, 3.0, 3.0, 3.0, 3.0, 3.0, 5.0, 3.0, 3.0, 3.0, 2.0, 4.0, 2.0, 3.0, 4.0, 3.0, 10.0, 2.0, 3.0, 5.0, 3.0, 5.0, 5.0, 2.0, 5.0, 3.0, 3.0, 2.0, 2.0, 5.0, 2.0, 2.0, 5.0, 3.0, 3.0, 6.0, 6.0, 5.0, 2.0, 6.0, 6.0, 3.0, 2.0, 6.0, 6.0, 3.0, 6.0, 3.0, 3.0, 3.0, 3.0, 3.0, 3.0, 3.0, 3.0, 2.0, 3.0, 3.0, 3.0, 2.0, 4.0, 3.0, 2.0, 3.0, 3.0, 3.0, 3.0, 2.0, 2.0, 3.0, 2.0, 3.0, 3.0, 2.0, 3.0, 3.0, 2.0, 3.0, 5.0, 3.0, 3.0, 3.0, 3.0, 3.0, 3.0, 3.0, 3.0, 2.0, 2.0, 2.0, 3.0, 2.0, 3.0, 3.0, 3.0, 3.0, 3.0, 2.0, 2.0, 3.0, 3.0, 6.0, 3.0, 3.0, 2.0, 3.0, 3.0, 3.0, 3.0, 5.0, 4.0, 3.0, 3.0, 2.0, 2.0, 3.0, 3.0, 3.0, 6.0, 3.0, 3.0, 2.0, 3.0, 3.0, 2.0, 3.0, 3.0, 6.0, 5.0, 3.0, 3.0, 3.0, 3.0, 2.0, 2.0, 2.0, 3.0, 3.0, 3.0, 4.0, 2.0, 3.0, 3.0, 2.0, 2.0, 2.0, 2.0, 2.0, 2.0, 2.0, 3.0, 3.0, 2.0, 3.0, 3.0, 3.0, 3.0, 3.0, 2.0, 3.0, 3.0, 3.0, 3.0, 3.0, 3.0, 3.0, 3.0, 3.0, 3.0, 3.0, 3.0, 3.0, 3.0, 3.0, 3.0, 2.0, 2.0, 3.0, 3.0, 2.0, 3.0, 3.0, 3.0, 3.0, 3.0, 3.0, 3.0, 2.0, 3.0, 3.0, 3.0, 3.0, 3.0, 3.0, 3.0, 2.0, 2.0, 3.0, 3.0, 2.0, 3.0, 3.0, 3.0, 3.0, 3.0, 3.0, 3.0, 3.0, 5.0, 3.0, 3.0, 3.0, 3.0, 3.0, 3.0, 3.0, 2.0, 2.0, 5.0, 3.0, 2.0, 3.0, 3.0, 3.0, 3.0, 2.0, 2.0, 3.0, 3.0, 3.0, 2.0, 3.0, 3.0, 3.0, 5.0, 3.0, 2.0, 3.0, 3.0, 3.0, 3.0, 3.0, 2.0, 5.0, 5.0, 3.0, 3.0, 2.0, 5.0, 2.0, 3.0, 2.0, 3.0, 4.0, 2.0, 2.0, 2.0, 3.0, 3.0, 2.0, 6.0, 6.0, 3.0, 3.0, 8.0, 2.0, 6.0, 3.0, 3.0, 3.0, 3.0, 10.0, 6.0, 6.0, 3.0, 6.0, 6.0, 2.0, 3.0, 5.0, 3.0, 3.0, 3.0, 3.0, 3.0, 3.0, 3.0, 3.0, 2.0, 3.0, 3.0, 3.0, 3.0, 5.0, 5.0, 6.0, 3.0, 3.0, 2.0, 3.0, 3.0, 5.0, 3.0, 3.0, 3.0, 2.0, 3.0, 3.0, 2.0, 3.0, 2.0, 2.0, 3.0, 3.0, 2.0, 3.0, 3.0, 3.0, 3.0, 3.0, 3.0, 5.0, 3.0, 3.0, 3.0, 5.0, 3.0, 3.0, 3.0, 3.0, 3.0, 2.0, 3.0, 2.0, 3.0, 3.0, 2.0, 2.0, 3.0, 2.0, 2.0, 2.0, 3.0, 3.0, 3.0, 3.0, 5.0, 3.0, 3.0, 5.0, 3.0, 3.0, 3.0, 5.0, 2.0, 2.0, 3.0, 2.0, 3.0, 3.0, 7.0, 3.0, 3.0, 6.0, 3.0, 2.0, 2.0, 3.0, 3.0, 2.0, 4.0, 3.0, 2.0, 2.0, 3.0, 3.0, 3.0, 3.0, 3.0, 3.0, 2.0, 3.0, 3.0, 3.0, 2.0, 2.0, 3.0, 3.0, 2.0, 2.0, 3.0, 2.0, 2.0, 3.0, 3.0, 3.0, 3.0, 3.0, 3.0, 5.0, 3.0, 3.0, 3.0, 3.0, 5.0, 3.0, 3.0, 10.0, 10.0, 3.0, 3.0, 3.0, 10.0, 2.0, 3.0, 3.0, 2.0, 3.0, 12.0, 3.0, 3.0, 3.0, 3.0, 5.0, 10.0, 3.0, 3.0, 3.0, 10.0, 10.0, 3.0, 3.0, 3.0, 3.0, 3.0, 3.0, 3.0, 3.0, 3.0, 3.0, 3.0, 3.0, 3.0, 3.0, 2.0, 2.0, 3.0, 2.0, 3.0, 3.0, 3.0, 3.0, 3.0, 3.0, 3.0, 3.0, 3.0, 3.0, 3.0, 2.0, 2.0, 3.0, 3.0, 3.0, 3.0, 2.0, 3.0, 3.0, 2.0, 3.0, 3.0, 2.0, 3.0, 2.0, 3.0, 3.0, 3.0, 3.0, 3.0, 6.0, 3.0, 3.0, 4.0, 6.0, 5.0, 5.0, 5.0, 2.0, 2.0, 10.0, 3.0, 3.0, 2.0, 3.0, 3.0, 5.0, 10.0, 3.0, 2.0, 4.0, 3.0, 3.0, 3.0, 3.0, 5.0, 3.0, 3.0, 5.0, 3.0, 5.0, 3.0, 6.0, 3.0, 3.0, 3.0, 3.0, 2.0, 3.0, 3.0, 3.0, 2.0, 2.0, 4.0, 3.0, 3.0, 6.0, 2.0, 3.0, 3.0, 3.0, 3.0, 2.0, 2.0, 3.0, 6.0, 3.0, 3.0, 3.0, 3.0, 5.0, 3.0, 5.0, 3.0, 3.0, 2.0, 3.0, 2.0, 3.0, 2.0, 3.0, 3.0, 3.0, 3.0, 3.0, 3.0, 3.0, 3.0, 3.0, 3.0, 3.0, 2.0, 3.0, 3.0, 3.0, 2.0, 3.0, 2.0, 2.0, 2.0, 3.0, 2.0, 3.0, 3.0, 3.0, 3.0, 3.0, 3.0, 3.0, 3.0, 3.0, 3.0, 3.0, 3.0, 3.0, 3.0, 3.0, 3.0, 3.0, 3.0, 3.0, 3.0, 3.0, 2.0, 2.0, 3.0, 3.0, 2.0, 3.0, 3.0, 3.0, 3.0, 3.0, 3.0, 3.0, 3.0, 3.0, 2.0, 3.0, 3.0, 3.0, 3.0, 2.0, 2.0, 3.0, 2.0, 2.0, 3.0, 3.0, 3.0, 5.0, 3.0, 3.0, 2.0, 2.0, 2.0, 3.0, 2.0, 3.0, 3.0, 3.0, 2.0, 2.0, 2.0, 3.0, 3.0, 3.0, 3.0, 5.0, 3.0, 3.0, 3.0, 2.0, 5.0, 2.0, 3.0, 3.0, 2.0, 3.0, 3.0, 3.0, 3.0, 4.0, 3.0, 2.0, 3.0, 2.0, 3.0, 2.0, 3.0, 5.0, 3.0, 3.0, 5.0, 3.0, 3.0, 2.0, 3.0, 2.0, 3.0, 2.0, 3.0, 3.0, 3.0, 3.0, 3.0, 3.0, 3.0, 3.0, 3.0, 2.0, 2.0, 3.0, 3.0, 2.0, 3.0, 3.0, 3.0, 3.0, 3.0, 5.0, 3.0, 3.0, 3.0, 3.0, 3.0, 4.0, 3.0, 3.0, 3.0, 3.0, 9.0, 9.0, 9.0, 3.0, 3.0, 3.0, 3.0, 2.0, 3.0, 2.0, 3.0, 2.0, 2.0, 3.0, 2.0, 2.0, 2.0, 3.0, 3.0, 3.0, 3.0, 5.0, 9.0, 3.0, 2.0, 2.0, 3.0, 3.0, 3.0, 3.0, 6.0, 2.0, 3.0, 3.0, 3.0, 3.0, 2.0, 3.0, 5.0, 3.0, 2.0, 2.0, 3.0, 2.0, 3.0, 3.0, 3.0, 3.0, 3.0, 3.0, 3.0, 2.0, 2.0, 2.0, 3.0, 2.0, 2.0, 2.0, 3.0, 3.0, 3.0, 3.0, 3.0, 2.0, 3.0, 3.0, 3.0, 3.0, 2.0, 3.0, 3.0, 3.0, 3.0, 3.0, 3.0, 3.0, 3.0, 2.0, 2.0, 3.0, 3.0, 6.0, 3.0, 3.0, 5.0, 10.0, 5.0, 6.0, 3.0, 3.0, 3.0, 3.0, 3.0, 2.0, 3.0, 3.0, 8.0, 3.0, 5.0, 3.0, 3.0, 3.0, 3.0, 3.0, 3.0, 3.0, 2.0, 7.0, 3.0, 3.0, 3.0, 3.0, 3.0, 3.0, 3.0, 3.0, 10.0, 5.0, 6.0, 12.0, 5.0, 10.0, 2.0, 5.0, 5.0, 6.0, 12.0, 12.0, 12.0, 12.0, 12.0, 3.0, 3.0, 2.0, 3.0, 3.0, 10.0, 3.0, 3.0, 3.0, 3.0, 5.0, 3.0, 3.0, 3.0, 3.0, 3.0, 3.0, 2.0, 3.0, 3.0, 2.0, 3.0, 3.0, 3.0, 3.0, 3.0, 3.0, 3.0, 2.0, 2.0, 3.0, 3.0, 3.0, 3.0, 3.0, 3.0, 3.0, 3.0, 3.0, 2.0, 2.0, 2.0, 3.0, 3.0, 3.0, 3.0, 3.0, 3.0, 3.0, 3.0, 3.0, 3.0, 2.0, 3.0, 3.0, 2.0, 4.0, 3.0, 3.0, 3.0, 5.0, 10.0, 3.0, 2.0, 3.0, 3.0, 3.0, 3.0, 3.0, 2.0, 2.0, 3.0, 3.0, 3.0, 3.0, 3.0, 3.0, 3.0, 3.0, 3.0, 3.0, 3.0, 3.0, 3.0, 3.0, 3.0, 3.0, 3.0, 3.0, 6.0, 3.0, 3.0, 3.0, 3.0, 3.0, 3.0, 3.0, 3.0, 5.0, 3.0, 3.0, 3.0, 2.0, 3.0, 5.0, 2.0, 3.0, 3.0, 3.0, 2.0, 3.0, 2.0, 3.0, 2.0, 3.0, 3.0, 2.0, 3.0, 3.0, 3.0, 3.0, 3.0, 3.0, 3.0, 3.0, 5.0, 2.0, 3.0, 3.0, 3.0, 3.0, 3.0, 3.0, 3.0, 3.0, 3.0, 5.0, 3.0, 3.0, 3.0, 5.0, 3.0, 3.0, 3.0, 3.0, 3.0, 3.0, 3.0, 3.0, 3.0, 5.0, 3.0, 3.0, 3.0, 3.0, 3.0, 3.0, 3.0, 3.0, 5.0, 3.0, 3.0, 3.0, 3.0, 3.0, 3.0, 3.0, 3.0, 3.0, 3.0, 3.0, 3.0, 3.0, 3.0, 3.0, 3.0, 3.0, 3.0, 3.0, 3.0, 3.0, 3.0, 3.0, 3.0, 5.0, 3.0, 2.0, 3.0, 3.0, 3.0, 2.0, 3.0, 3.0, 3.0, 2.0, 3.0, 2.0, 3.0, 3.0, 3.0, 3.0, 3.0, 3.0, 3.0, 6.0, 3.0, 3.0, 2.0, 3.0, 3.0, 2.0, 3.0, 3.0, 3.0, 3.0, 3.0, 3.0, 3.0, 2.0, 3.0, 5.0, 3.0, 3.0, 3.0, 3.0, 3.0, 3.0, 3.0, 3.0, 3.0, 3.0, 3.0, 5.0, 3.0, 3.0, 3.0, 3.0, 3.0, 2.0, 2.0, 3.0, 5.0, 3.0, 3.0, 3.0, 3.0, 3.0, 2.0, 3.0, 3.0, 2.0, 3.0, 2.0, 5.0, 3.0, 3.0, 3.0, 3.0, 2.0, 3.0, 3.0, 3.0, 2.0, 2.0, 3.0, 3.0, 3.0, 3.0, 3.0, 2.0, 3.0, 3.0, 3.0, 3.0, 3.0, 3.0, 3.0, 2.0, 3.0, 3.0, 3.0, 3.0, 2.0, 2.0, 3.0, 3.0, 3.0, 3.0, 3.0, 2.0, 3.0, 3.0, 2.0, 3.0, 5.0, 3.0, 3.0, 5.0, 3.0, 3.0, 3.0, 3.0, 2.0, 2.0, 3.0, 3.0, 2.0, 3.0, 3.0, 3.0, 3.0, 2.0, 3.0, 3.0, 3.0, 4.0, 2.0, 3.0, 3.0, 2.0, 2.0, 3.0, 3.0, 2.0, 3.0, 3.0, 3.0, 3.0, 3.0, 3.0, 2.0, 3.0, 3.0, 3.0, 2.0, 3.0, 2.0, 3.0, 3.0, 3.0, 3.0, 3.0, 3.0, 3.0, 3.0, 3.0, 3.0, 3.0, 3.0, 3.0, 3.0, 3.0, 3.0, 2.0, 3.0, 3.0, 3.0, 3.0, 3.0, 2.0, 2.0, 2.0, 2.0, 3.0, 2.0, 3.0, 5.0, 2.0, 10.0, 2.0, 2.0, 3.0, 3.0, 5.0, 10.0, 2.0, 4.0, 3.0, 3.0, 6.0, 3.0, 6.0, 3.0, 7.0, 3.0, 3.0, 2.0, 2.0, 2.0, 3.0, 3.0, 3.0, 5.0, 3.0, 5.0, 3.0, 3.0, 3.0, 3.0, 2.0, 3.0, 5.0, 3.0, 3.0, 5.0, 3.0, 2.0, 3.0, 5.0, 5.0, 5.0, 2.0, 4.0, 4.0, 3.0, 3.0, 2.0, 5.0, 3.0, 5.0, 3.0, 2.0, 2.0, 3.0, 12.0, 3.0, 4.0, 7.0, 3.0, 2.0, 5.0, 2.0, 6.0, 2.0, 3.0, 2.0, 2.0, 2.0, 2.0, 3.0, 3.0, 3.0, 3.0, 3.0, 3.0, 3.0, 3.0, 3.0, 3.0, 3.0, 3.0, 3.0, 3.0, 3.0, 3.0, 3.0, 4.0, 3.0, 3.0, 3.0, 3.0, 10.0, 3.0, 3.0, 3.0, 3.0, 2.0, 2.0, 5.0, 3.0, 3.0, 2.0, 3.0, 2.0, 2.0, 3.0, 5.0, 3.0, 3.0, 2.0, 2.0, 2.0, 2.0, 2.0, 2.0, 3.0, 12.0, 2.0, 4.0, 3.0, 3.0, 3.0, 3.0, 2.0, 3.0, 3.0, 3.0, 3.0, 3.0, 3.0, 3.0, 6.0, 2.0, 2.0, 3.0, 3.0, 3.0, 2.0, 5.0, 3.0, 3.0, 3.0, 3.0, 2.0, 2.0, 2.0, 2.0, 2.0, 3.0, 3.0, 3.0, 4.0, 3.0, 3.0, 3.0, 3.0, 3.0, 3.0, 3.0, 3.0, 3.0, 4.0, 3.0, 3.0, 2.0, 3.0, 5.0, 3.0, 2.0, 3.0, 3.0, 2.0, 2.0, 3.0, 3.0, 3.0, 3.0, 3.0, 3.0, 3.0, 2.0, 3.0, 3.0, 3.0, 3.0, 3.0, 3.0, 3.0, 2.0, 2.0, 4.0, 2.0, 3.0, 2.0, 3.0, 3.0, 3.0, 3.0, 3.0, 5.0, 3.0, 2.0, 3.0, 3.0, 2.0, 3.0, 3.0, 3.0, 6.0, 2.0, 3.0, 5.0, 2.0, 3.0, 3.0, 3.0, 3.0, 2.0, 2.0, 2.0, 2.0, 2.0, 2.0, 5.0, 2.0, 3.0, 2.0, 3.0, 2.0, 3.0, 3.0, 3.0, 3.0, 6.0, 3.0, 2.0, 4.0, 6.0, 5.0, 6.0, 2.0, 3.0, 3.0, 7.0, 3.0, 3.0, 3.0, 3.0, 5.0, 6.0, 6.0, 3.0, 3.0, 3.0, 3.0, 6.0, 12.0, 3.0, 12.0, 12.0, 12.0, 12.0, 3.0, 2.0, 2.0, 3.0, 3.0, 2.0, 3.0, 2.0, 3.0, 3.0, 3.0, 2.0, 2.0, 3.0, 2.0, 3.0, 2.0, 3.0, 3.0, 3.0, 2.0, 2.0, 3.0, 3.0, 3.0, 2.0, 3.0, 3.0, 2.0, 2.0, 3.0, 3.0, 3.0, 2.0, 2.0, 3.0, 2.0, 3.0, 3.0, 3.0, 3.0, 2.0, 5.0, 5.0, 3.0, 3.0, 3.0, 2.0, 2.0, 3.0, 3.0, 3.0, 6.0, 3.0, 2.0, 2.0, 3.0, 2.0, 3.0, 3.0, 3.0, 2.0, 3.0, 3.0, 3.0, 3.0, 3.0, 3.0, 4.0, 3.0, 2.0, 3.0, 2.0, 2.0, 3.0, 2.0, 6.0, 2.0, 3.0, 3.0, 3.0, 2.0, 2.0, 5.0, 3.0, 2.0, 2.0, 2.0, 2.0, 3.0, 2.0, 3.0, 3.0, 3.0, 2.0, 3.0, 5.0, 2.0, 3.0, 2.0, 3.0, 3.0, 5.0, 3.0, 3.0, 3.0, 2.0, 3.0, 3.0, 2.0, 2.0, 3.0, 3.0, 3.0, 2.0, 2.0, 3.0, 2.0, 3.0, 3.0, 2.0, 2.0, 2.0, 3.0, 3.0, 3.0, 3.0, 3.0, 2.0, 3.0, 3.0, 3.0, 3.0, 3.0, 3.0, 2.0, 3.0, 3.0, 3.0, 3.0, 2.0, 3.0, 3.0, 3.0, 2.0, 3.0, 3.0, 3.0, 3.0, 3.0, 2.0, 3.0, 3.0, 3.0, 3.0, 3.0, 3.0, 3.0, 3.0, 3.0, 2.0, 3.0, 3.0, 3.0, 3.0, 3.0, 3.0, 3.0, 3.0, 3.0, 3.0, 3.0, 3.0, 3.0, 3.0, 3.0, 3.0, 3.0, 3.0, 2.0, 3.0, 3.0, 3.0, 3.0, 3.0, 3.0, 3.0, 3.0, 2.0, 2.0, 3.0, 3.0, 2.0, 4.0, 3.0, 3.0, 3.0, 3.0, 3.0, 3.0, 3.0, 2.0, 3.0, 3.0, 3.0, 3.0, 2.0, 2.0, 3.0, 3.0, 3.0, 3.0, 2.0, 3.0, 3.0, 2.0, 3.0, 3.0, 3.0, 3.0, 3.0, 3.0, 3.0, 3.0, 3.0, 2.0, 2.0, 3.0, 3.0, 3.0, 3.0, 3.0, 3.0, 2.0, 2.0, 3.0, 2.0, 3.0, 3.0, 3.0, 3.0, 3.0, 3.0, 2.0, 3.0, 3.0, 3.0, 2.0, 3.0, 3.0, 3.0, 3.0, 2.0, 3.0, 3.0, 2.0, 3.0, 3.0, 3.0, 3.0, 3.0, 3.0, 2.0, 3.0, 3.0, 3.0, 3.0, 3.0, 3.0, 3.0, 3.0, 3.0, 3.0, 2.0, 3.0, 3.0, 3.0, 3.0, 2.0, 3.0, 3.0, 2.0, 3.0, 3.0, 3.0, 2.0, 3.0, 3.0, 3.0, 3.0, 2.0, 2.0, 2.0, 3.0, 2.0, 3.0, 3.0, 3.0, 3.0, 3.0, 3.0, 3.0, 3.0, 3.0, 5.0, 3.0, 3.0, 5.0, 5.0, 3.0, 3.0, 5.0, 3.0, 3.0, 2.0, 4.0, 3.0, 3.0, 6.0, 2.0, 2.0, 2.0, 2.0, 3.0, 3.0, 3.0, 3.0, 2.0, 2.0, 3.0, 3.0, 3.0, 3.0, 3.0, 3.0, 3.0, 3.0, 2.0, 2.0, 3.0, 3.0, 3.0, 3.0, 4.0, 3.0, 3.0, 3.0, 3.0, 3.0, 3.0, 5.0, 2.0, 2.0, 12.0, 8.0, 5.0, 3.0, 3.0, 3.0, 2.0, 3.0, 10.0, 2.0, 3.0, 10.0, 5.0, 10.0, 12.0, 3.0, 3.0, 3.0, 3.0, 3.0, 2.0, 5.0, 3.0, 3.0, 6.0, 3.0, 2.0, 2.0, 3.0, 2.0, 3.0, 3.0, 3.0, 3.0, 3.0, 3.0, 3.0, 3.0, 3.0, 3.0, 3.0, 3.0, 3.0, 3.0, 3.0, 3.0, 3.0, 3.0, 3.0, 3.0, 10.0, 2.0, 3.0, 2.0, 3.0, 2.0, 2.0, 3.0, 2.0, 2.0, 2.0, 2.0, 2.0, 3.0, 6.0, 3.0, 2.0, 3.0, 3.0, 3.0, 3.0, 2.0, 3.0, 3.0, 3.0, 3.0, 3.0, 2.0, 3.0, 3.0, 3.0, 3.0, 3.0, 3.0, 3.0, 3.0, 3.0, 2.0, 3.0, 2.0, 3.0, 3.0, 5.0, 3.0, 3.0, 2.0, 2.0, 3.0, 2.0, 2.0, 2.0, 3.0, 2.0, 2.0, 3.0, 3.0, 2.0, 2.0, 2.0, 2.0, 3.0, 2.0, 2.0, 3.0, 4.0, 3.0, 3.0, 3.0, 3.0, 2.0, 2.0, 3.0, 2.0, 5.0, 3.0, 3.0, 2.0, 3.0, 3.0, 6.0, 3.0, 5.0, 3.0, 3.0, 2.0, 2.0, 3.0, 5.0, 3.0, 3.0, 3.0, 3.0, 6.0, 3.0, 6.0, 10.0, 3.0, 3.0, 3.0, 5.0, 5.0, 2.0, 3.0, 3.0, 3.0, 5.0, 3.0, 3.0, 5.0, 3.0, 3.0, 3.0, 3.0, 3.0, 4.0, 3.0, 3.0, 3.0, 3.0, 4.0, 2.0, 2.0, 3.0, 3.0, 3.0, 4.0, 3.0, 2.0, 2.0, 3.0, 3.0, 3.0, 3.0, 3.0, 3.0, 2.0, 3.0, 3.0, 3.0, 3.0, 3.0, 3.0, 2.0, 3.0, 3.0, 3.0, 3.0, 2.0, 3.0, 3.0, 2.0, 3.0, 2.0, 2.0, 2.0, 3.0, 3.0, 3.0, 3.0, 3.0, 2.0, 2.0, 3.0, 3.0, 3.0, 3.0, 3.0, 3.0, 4.0, 3.0, 2.0, 3.0, 6.0, 3.0, 3.0, 2.0, 2.0, 3.0, 3.0, 3.0, 3.0, 3.0, 3.0, 3.0, 3.0, 2.0, 5.0, 3.0, 5.0, 3.0, 3.0, 3.0, 3.0, 5.0, 3.0, 3.0, 2.0, 3.0, 3.0, 3.0, 2.0, 3.0, 3.0, 3.0, 2.0, 3.0, 3.0, 3.0, 2.0, 3.0, 3.0, 3.0, 3.0, 2.0, 3.0, 3.0, 2.0, 3.0, 4.0, 3.0, 2.0, 2.0, 2.0, 2.0, 3.0, 2.0, 2.0, 3.0, 3.0, 2.0, 2.0, 6.0, 3.0, 3.0, 3.0, 3.0, 3.0, 3.0, 3.0, 3.0, 6.0, 3.0, 2.0, 10.0, 3.0, 2.0, 3.0, 2.0, 2.0, 3.0, 2.0, 2.0, 3.0, 3.0, 2.0, 6.0, 2.0, 2.0, 3.0, 2.0, 2.0, 3.0, 3.0, 3.0, 3.0, 3.0, 3.0, 3.0, 3.0, 3.0, 3.0, 2.0, 3.0, 3.0, 3.0, 6.0, 3.0, 10.0, 10.0, 10.0, 2.0, 3.0, 10.0, 10.0, 7.0, 10.0, 7.0, 5.0, 10.0, 3.0, 7.0, 9.0, 3.0, 3.0, 3.0, 3.0, 2.0, 2.0, 2.0, 2.0, 3.0, 3.0, 2.0, 3.0, 3.0, 2.0, 3.0, 2.0, 2.0, 3.0, 3.0, 2.0, 2.0, 3.0, 2.0, 2.0, 3.0, 2.0, 3.0, 3.0, 3.0, 2.0, 2.0, 3.0, 3.0, 3.0, 2.0, 3.0, 3.0, 3.0, 5.0, 2.0, 2.0, 2.0, 3.0, 3.0, 3.0, 2.0, 3.0, 2.0, 3.0, 2.0, 3.0, 3.0, 3.0, 2.0, 3.0, 3.0, 3.0, 2.0, 3.0, 2.0, 3.0, 3.0, 3.0, 3.0, 5.0, 2.0, 2.0, 2.0, 3.0, 2.0, 2.0, 3.0, 3.0, 3.0, 3.0, 2.0, 3.0, 2.0, 2.0, 3.0, 2.0, 2.0, 3.0, 3.0, 3.0, 2.0, 5.0, 2.0, 3.0, 3.0, 3.0, 2.0, 3.0, 5.0, 3.0, 3.0, 2.0, 5.0, 3.0, 2.0, 5.0, 3.0, 5.0, 6.0, 2.0, 6.0, 3.0, 3.0, 3.0, 2.0, 3.0, 3.0, 3.0, 3.0, 3.0, 2.0, 3.0, 3.0, 2.0, 5.0, 3.0, 3.0, 3.0, 2.0, 6.0, 3.0, 3.0, 3.0, 2.0, 2.0, 3.0, 2.0, 3.0, 2.0, 2.0, 2.0, 3.0, 3.0, 3.0, 3.0, 3.0, 3.0, 3.0, 3.0, 3.0, 3.0, 3.0, 5.0, 3.0, 3.0, 2.0, 3.0, 3.0, 3.0, 3.0, 3.0, 2.0, 3.0, 3.0, 3.0, 3.0, 2.0, 3.0, 3.0, 3.0, 3.0, 2.0, 3.0, 3.0, 3.0, 5.0, 6.0, 5.0, 5.0, 6.0, 4.0, 6.0, 10.0, 3.0, 6.0, 3.0, 6.0, 2.0, 3.0, 2.0, 3.0, 3.0, 2.0, 3.0, 3.0, 3.0, 2.0, 6.0, 3.0, 3.0, 2.0, 3.0, 3.0, 3.0, 3.0, 2.0, 2.0, 2.0, 3.0, 3.0, 3.0, 5.0, 2.0, 3.0, 2.0, 2.0, 2.0, 3.0, 3.0, 3.0, 3.0, 3.0, 2.0, 2.0, 2.0, 2.0, 2.0, 3.0, 2.0, 2.0, 2.0, 2.0, 2.0, 2.0, 3.0, 2.0, 2.0, 3.0, 2.0, 3.0, 2.0, 2.0, 2.0, 3.0, 2.0, 2.0, 3.0, 3.0, 2.0, 3.0, 3.0, 5.0, 2.0, 3.0, 3.0, 3.0, 3.0, 3.0, 3.0, 3.0, 3.0, 3.0, 3.0, 3.0, 3.0, 3.0, 3.0, 3.0, 3.0, 3.0, 3.0, 2.0, 2.0, 3.0, 3.0, 3.0, 3.0, 6.0, 3.0, 3.0, 6.0, 3.0, 6.0, 12.0, 5.0, 3.0, 3.0, 5.0, 12.0, 3.0, 12.0, 12.0, 12.0, 12.0, 3.0, 12.0, 2.0, 3.0, 12.0, 3.0, 3.0, 12.0, 5.0, 4.0, 3.0, 12.0, 4.0, 12.0, 2.0, 5.0, 3.0, 3.0, 2.0, 5.0, 3.0, 3.0, 12.0, 12.0, 12.0, 5.0, 3.0, 12.0, 2.0, 12.0, 12.0, 3.0, 2.0, 2.0, 3.0, 12.0, 3.0, 5.0, 12.0, 3.0, 12.0, 5.0, 10.0, 10.0, 12.0, 12.0, 5.0, 5.0, 5.0, 12.0, 12.0, 3.0, 12.0, 12.0, 12.0, 12.0, 12.0, 5.0, 4.0, 2.0, 3.0, 2.0, 3.0, 3.0, 3.0, 2.0, 3.0, 2.0, 3.0, 3.0, 6.0, 5.0, 6.0, 3.0, 3.0, 3.0, 3.0, 3.0, 3.0, 3.0, 3.0, 3.0, 3.0, 3.0, 3.0, 3.0, 3.0, 3.0, 3.0, 3.0, 3.0, 3.0, 3.0, 3.0, 3.0, 3.0, 3.0, 3.0, 3.0, 3.0, 3.0, 3.0, 3.0, 3.0, 3.0, 3.0, 3.0, 3.0, 3.0, 3.0, 3.0, 3.0, 3.0, 3.0, 3.0, 3.0, 3.0, 3.0, 3.0, 3.0, 3.0, 3.0, 3.0, 3.0, 2.0, 3.0, 3.0, 3.0, 3.0, 3.0, 3.0, 3.0, 2.0, 3.0, 3.0, 3.0, 3.0, 3.0, 3.0, 3.0, 3.0, 3.0, 3.0, 3.0, 10.0, 3.0, 3.0, 3.0, 2.0, 2.0, 3.0, 6.0, 2.0, 6.0, 6.0, 5.0, 3.0, 3.0, 3.0, 4.0, 5.0, 5.0, 3.0, 3.0, 5.0, 3.0, 2.0, 2.0, 3.0, 3.0, 3.0, 5.0, 2.0, 5.0, 3.0, 3.0, 3.0, 3.0, 3.0, 3.0, 3.0, 2.0, 3.0, 5.0, 2.0, 2.0, 2.0, 2.0, 2.0, 2.0, 3.0, 3.0, 3.0, 3.0, 3.0, 10.0, 10.0, 3.0, 10.0, 10.0, 10.0, 10.0, 10.0, 3.0, 24.0, 3.0, 3.0, 2.0, 2.0, 2.0, 3.0, 3.0, 2.0, 3.0, 3.0, 2.0, 3.0, 2.0, 3.0, 2.0, 3.0, 2.0, 3.0, 3.0, 2.0, 2.0, 2.0, 3.0, 3.0, 3.0, 3.0, 3.0, 5.0, 3.0, 3.0, 3.0, 3.0, 3.0, 2.0, 5.0, 2.0, 3.0, 2.0, 2.0, 3.0, 5.0, 3.0, 5.0, 5.0, 3.0, 2.0, 3.0, 5.0, 3.0, 2.0, 3.0, 3.0, 3.0, 2.0, 2.0, 3.0, 3.0, 2.0, 3.0, 3.0, 4.0, 3.0, 3.0, 3.0, 2.0, 4.0, 2.0, 3.0, 3.0, 3.0, 3.0, 3.0, 2.0, 2.0, 5.0, 3.0, 3.0, 2.0, 2.0, 5.0, 2.0, 3.0, 2.0, 3.0, 2.0, 2.0, 3.0, 2.0, 2.0, 3.0, 3.0, 3.0, 3.0, 2.0, 5.0, 2.0, 5.0, 3.0, 3.0, 2.0, 2.0, 3.0, 3.0, 2.0, 3.0, 2.0, 3.0, 8.0, 3.0, 3.0, 2.0, 2.0, 2.0, 6.0, 3.0, 3.0, 2.0, 3.0, 3.0, 2.0, 6.0, 3.0, 2.0, 3.0, 6.0, 2.0, 3.0, 3.0, 2.0, 2.0, 3.0, 3.0, 3.0, 3.0, 3.0, 2.0, 3.0, 2.0, 3.0, 3.0, 2.0, 3.0, 3.0, 3.0, 2.0, 6.0, 2.0, 3.0, 3.0, 2.0, 3.0, 3.0, 3.0, 3.0, 3.0, 3.0, 3.0, 3.0, 5.0, 3.0, 3.0, 3.0, 3.0, 3.0, 2.0, 3.0, 2.0, 2.0, 3.0, 3.0, 2.0, 3.0, 6.0, 3.0, 3.0, 3.0, 3.0, 2.0, 2.0, 3.0, 3.0, 3.0, 3.0, 3.0, 2.0, 3.0, 3.0, 3.0, 3.0, 3.0, 3.0, 2.0, 3.0, 2.0, 3.0, 3.0, 3.0, 3.0, 3.0, 3.0, 3.0, 3.0, 3.0, 3.0, 3.0, 3.0, 3.0, 3.0, 3.0, 3.0, 3.0, 3.0, 3.0, 3.0, 3.0, 3.0, 3.0, 3.0, 3.0, 3.0, 3.0, 3.0, 3.0, 3.0, 6.0, 6.0, 3.0, 3.0, 6.0, 6.0, 3.0, 6.0, 6.0, 3.0, 3.0, 3.0, 3.0, 3.0, 3.0, 3.0, 3.0, 3.0, 3.0, 3.0, 3.0, 3.0, 3.0, 5.0, 3.0, 3.0, 3.0, 3.0, 3.0, 3.0, 3.0, 3.0, 3.0, 10.0, 3.0, 3.0, 3.0, 3.0, 6.0, 3.0, 3.0, 3.0, 2.0, 2.0, 3.0, 2.0, 2.0, 3.0, 3.0, 3.0, 3.0, 3.0, 2.0, 3.0, 3.0, 2.0, 3.0, 3.0, 2.0, 3.0, 6.0, 2.0, 2.0, 3.0, 2.0, 2.0, 3.0, 2.0, 3.0, 3.0, 3.0, 3.0, 2.0, 3.0, 3.0, 2.0, 2.0, 3.0, 3.0, 3.0, 3.0, 3.0, 3.0, 3.0, 2.0, 3.0, 5.0, 3.0, 2.0, 3.0, 2.0, 5.0, 3.0, 2.0, 3.0, 3.0, 2.0, 10.0, 3.0, 3.0, 3.0, 3.0, 3.0, 3.0, 3.0, 2.0, 2.0, 2.0, 5.0, 6.0, 3.0, 10.0, 3.0, 3.0, 2.0, 6.0, 6.0, 12.0, 12.0, 10.0, 3.0, 2.0, 3.0, 2.0, 24.0, 3.0, 10.0, 3.0, 3.0, 3.0, 3.0, 3.0, 3.0, 5.0, 2.0, 2.0, 3.0, 3.0, 2.0, 3.0, 3.0, 2.0, 3.0, 3.0, 3.0, 3.0, 3.0, 3.0, 3.0, 5.0, 5.0, 3.0, 3.0, 3.0, 2.0, 2.0, 3.0, 3.0, 3.0, 3.0, 2.0, 2.0, 2.0, 3.0, 3.0, 3.0, 3.0, 3.0, 3.0, 5.0, 3.0, 3.0, 2.0, 2.0, 3.0, 3.0, 2.0, 3.0, 2.0, 3.0, 2.0, 3.0, 3.0, 3.0, 3.0, 3.0, 3.0, 2.0, 3.0, 2.0, 3.0, 2.0, 3.0, 3.0, 2.0, 3.0, 3.0, 3.0, 3.0, 2.0, 3.0, 3.0, 2.0, 2.0, 3.0, 2.0, 3.0, 2.0, 3.0, 3.0, 2.0, 3.0, 3.0, 3.0, 3.0, 3.0, 3.0, 2.0, 3.0, 2.0, 3.0, 3.0, 3.0, 3.0, 3.0, 3.0, 2.0, 3.0, 3.0, 3.0, 3.0, 3.0, 3.0, 2.0, 3.0, 3.0, 3.0, 3.0, 3.0, 3.0, 3.0, 2.0, 2.0, 2.0, 2.0, 2.0, 2.0, 3.0, 3.0, 3.0, 2.0, 3.0, 2.0, 3.0, 3.0, 3.0, 2.0, 2.0, 3.0, 3.0, 2.0, 3.0, 3.0, 3.0, 3.0, 2.0, 3.0, 3.0, 3.0, 3.0, 3.0, 3.0, 3.0, 3.0, 3.0, 3.0, 3.0, 3.0, 3.0, 3.0, 3.0, 3.0, 2.0, 3.0, 3.0, 3.0, 3.0, 2.0, 2.0, 2.0, 2.0, 5.0, 3.0, 3.0, 3.0, 3.0, 3.0, 2.0, 6.0, 3.0, 6.0, 3.0, 6.0, 2.0, 3.0, 3.0, 3.0, 3.0, 3.0, 3.0, 3.0, 3.0, 3.0, 3.0, 3.0, 3.0, 3.0, 3.0, 3.0, 3.0, 3.0, 3.0, 6.0, 6.0, 3.0, 3.0, 3.0, 3.0, 3.0, 3.0, 3.0, 3.0, 3.0, 3.0, 3.0, 3.0, 5.0, 6.0, 6.0, 2.0, 3.0, 3.0, 6.0, 2.0, 3.0, 10.0, 6.0, 3.0, 2.0, 2.0, 2.0, 2.0, 2.0, 3.0, 2.0, 2.0, 2.0, 2.0, 3.0, 3.0, 3.0, 3.0, 3.0, 3.0, 3.0, 3.0, 3.0, 5.0, 5.0, 2.0, 3.0, 3.0, 2.0, 3.0, 2.0, 3.0, 3.0, 3.0, 3.0, 3.0, 3.0, 3.0, 3.0, 3.0, 3.0, 3.0, 2.0, 2.0, 3.0, 3.0, 2.0, 2.0, 3.0, 3.0, 3.0, 2.0, 2.0, 5.0, 2.0, 3.0, 2.0, 2.0, 2.0, 2.0, 2.0, 2.0, 3.0, 3.0, 3.0, 3.0, 3.0, 2.0, 3.0, 3.0, 2.0, 2.0, 3.0, 2.0, 8.0, 3.0, 2.0, 3.0, 3.0, 2.0, 2.0, 2.0, 3.0, 2.0, 3.0, 3.0, 3.0, 2.0, 3.0, 3.0, 3.0, 3.0, 3.0, 6.0, 3.0, 3.0, 3.0, 3.0, 2.0, 3.0, 3.0, 3.0, 3.0, 2.0, 3.0, 3.0, 3.0, 2.0, 3.0, 3.0, 2.0, 3.0, 3.0, 3.0, 3.0, 5.0, 3.0, 3.0, 2.0, 3.0, 3.0, 2.0, 3.0, 3.0, 2.0, 3.0, 3.0, 3.0, 2.0, 2.0, 2.0, 3.0, 3.0, 2.0, 3.0, 2.0, 3.0, 3.0, 3.0, 3.0, 2.0, 3.0, 3.0, 3.0, 3.0, 3.0, 3.0, 3.0, 2.0, 2.0, 2.0, 2.0, 3.0, 3.0, 3.0, 3.0, 3.0, 2.0, 3.0, 2.0, 3.0, 3.0, 2.0, 3.0, 3.0, 3.0, 3.0, 3.0, 3.0, 10.0, 3.0, 2.0, 3.0, 6.0, 3.0, 3.0, 3.0, 3.0, 3.0, 3.0, 3.0, 3.0, 3.0, 3.0, 3.0, 3.0, 3.0, 3.0, 3.0, 3.0, 3.0, 3.0, 3.0, 2.0, 2.0, 3.0, 2.0, 3.0, 3.0, 3.0, 3.0, 3.0, 3.0, 3.0, 2.0, 3.0, 2.0, 2.0, 3.0, 3.0, 2.0, 5.0, 2.0, 2.0, 3.0, 3.0, 3.0, 2.0, 3.0, 3.0, 2.0, 3.0, 3.0, 5.0, 10.0, 6.0, 3.0, 10.0, 3.0, 5.0, 3.0, 10.0, 2.0, 3.0, 3.0, 2.0, 2.0, 2.0, 3.0, 3.0, 3.0, 3.0, 3.0, 2.0, 3.0, 3.0, 3.0, 2.0, 6.0, 3.0, 10.0, 5.0, 5.0, 5.0, 5.0, 6.0, 3.0, 2.0, 3.0, 3.0, 3.0, 2.0, 3.0, 5.0, 3.0, 3.0, 3.0, 10.0, 10.0, 10.0, 3.0, 6.0, 10.0, 10.0, 10.0, 3.0, 6.0, 10.0, 3.0, 3.0, 3.0, 3.0, 3.0, 6.0, 2.0, 3.0, 3.0, 3.0, 3.0, 3.0, 2.0, 3.0, 3.0, 3.0, 2.0, 2.0, 5.0, 3.0, 2.0, 2.0, 3.0, 3.0, 3.0, 3.0, 3.0, 3.0, 3.0, 3.0, 3.0, 3.0, 12.0, 3.0, 2.0, 3.0, 3.0, 2.0, 3.0, 3.0, 3.0, 10.0, 3.0, 3.0, 5.0, 2.0, 3.0, 3.0, 5.0, 3.0, 2.0, 3.0, 3.0, 3.0, 2.0, 3.0, 3.0, 3.0, 2.0, 6.0, 3.0, 3.0, 3.0, 3.0, 3.0, 3.0, 3.0, 2.0, 3.0, 3.0, 3.0, 3.0, 2.0, 3.0, 2.0, 3.0, 3.0, 2.0, 2.0, 2.0, 3.0, 2.0, 3.0, 2.0, 5.0, 3.0, 3.0, 3.0, 3.0, 3.0, 6.0, 3.0, 2.0, 3.0, 3.0, 3.0, 3.0, 3.0, 3.0, 3.0, 3.0, 3.0, 3.0, 2.0, 3.0, 3.0, 3.0, 3.0, 5.0, 6.0, 3.0, 2.0, 3.0, 6.0, 3.0, 3.0, 3.0, 3.0, 3.0, 2.0, 2.0, 3.0, 3.0, 4.0, 5.0, 2.0, 3.0, 3.0, 3.0, 3.0, 3.0, 3.0, 3.0, 2.0, 3.0, 3.0, 3.0, 3.0, 2.0, 2.0, 3.0, 3.0, 3.0, 3.0, 3.0, 3.0, 3.0, 3.0, 3.0, 3.0, 3.0, 10.0, 10.0, 10.0, 3.0, 12.0, 3.0, 3.0, 3.0, 3.0, 10.0, 3.0, 3.0, 3.0, 2.0, 6.0, 4.0, 3.0, 3.0, 6.0, 3.0, 6.0, 6.0, 3.0, 3.0, 6.0, 2.0, 2.0, 6.0, 3.0, 3.0, 3.0, 3.0, 3.0, 3.0, 3.0, 6.0, 3.0, 2.0, 3.0, 3.0, 3.0, 3.0, 5.0, 3.0, 2.0, 3.0, 3.0, 5.0, 3.0, 3.0, 3.0, 3.0, 3.0, 2.0, 2.0, 3.0, 3.0, 3.0, 3.0, 3.0, 2.0, 6.0, 6.0, 2.0, 3.0, 3.0, 5.0, 5.0, 5.0, 3.0, 3.0, 3.0, 2.0, 5.0, 5.0, 5.0, 12.0, 2.0, 3.0, 3.0, 3.0, 3.0, 3.0, 6.0, 6.0, 6.0, 6.0, 2.0, 3.0, 2.0, 6.0, 6.0, 6.0, 6.0, 3.0, 6.0, 3.0, 2.0, 6.0, 3.0, 6.0, 5.0, 6.0, 6.0, 3.0, 6.0, 3.0, 3.0, 6.0, 3.0, 24.0, 10.0, 5.0, 5.0, 5.0, 10.0, 6.0, 3.0, 3.0, 10.0, 3.0, 3.0, 3.0, 3.0, 3.0, 3.0, 3.0, 3.0, 3.0, 3.0, 2.0, 3.0, 2.0, 3.0, 3.0, 2.0, 3.0, 3.0, 2.0, 3.0, 3.0, 3.0, 3.0, 10.0, 3.0, 3.0, 3.0, 3.0, 3.0, 3.0, 2.0, 3.0, 12.0, 2.0, 3.0, 2.0, 3.0, 3.0, 5.0, 3.0, 3.0, 3.0, 3.0, 3.0, 3.0, 3.0, 3.0, 3.0, 3.0, 3.0, 3.0, 3.0, 2.0, 3.0, 3.0, 3.0, 3.0, 3.0, 3.0, 3.0, 3.0, 3.0, 3.0, 3.0, 3.0, 3.0, 3.0, 3.0, 3.0, 3.0, 2.0, 2.0, 2.0, 3.0, 3.0, 5.0, 3.0, 3.0, 3.0, 3.0, 3.0, 3.0, 5.0, 3.0, 2.0, 3.0, 3.0, 3.0, 10.0, 10.0, 10.0, 3.0, 3.0, 10.0, 3.0, 12.0, 3.0, 12.0, 12.0, 5.0, 3.0, 3.0, 3.0, 6.0, 3.0, 3.0, 3.0, 3.0, 3.0, 3.0, 3.0, 2.0, 3.0, 3.0, 3.0, 3.0, 3.0, 3.0, 3.0, 3.0, 3.0, 3.0, 3.0, 3.0, 3.0, 3.0, 3.0, 3.0, 3.0, 2.0, 3.0, 3.0, 5.0, 3.0, 4.0, 2.0, 3.0, 3.0, 3.0, 3.0, 2.0, 3.0, 3.0, 3.0, 3.0, 3.0, 3.0, 3.0, 3.0, 2.0, 3.0, 3.0, 3.0, 3.0, 3.0, 3.0, 6.0, 3.0, 2.0, 5.0, 3.0, 3.0, 3.0, 12.0, 2.0, 3.0, 3.0, 3.0, 3.0, 3.0, 3.0, 6.0, 3.0, 2.0, 3.0, 12.0, 2.0, 3.0, 2.0, 3.0, 3.0, 3.0, 3.0, 3.0, 5.0, 2.0, 3.0, 3.0, 3.0, 3.0, 3.0, 3.0, 3.0, 3.0, 2.0, 3.0, 2.0, 3.0, 3.0, 3.0, 2.0, 2.0, 3.0, 2.0, 2.0, 2.0, 3.0, 3.0, 3.0, 3.0, 3.0, 3.0, 3.0, 2.0, 3.0, 3.0, 2.0, 3.0, 3.0, 2.0, 3.0, 2.0, 3.0, 3.0, 2.0, 3.0, 3.0, 2.0, 2.0, 2.0, 2.0, 2.0, 3.0, 2.0, 2.0, 5.0, 3.0, 2.0, 3.0, 3.0, 3.0, 3.0, 2.0, 3.0, 2.0, 3.0, 3.0, 2.0, 5.0, 3.0, 2.0, 3.0, 3.0, 3.0, 3.0, 2.0, 3.0, 3.0, 3.0, 3.0, 2.0, 3.0, 3.0, 3.0, 2.0, 3.0, 3.0, 3.0, 3.0, 3.0, 2.0, 3.0, 5.0, 5.0, 5.0, 2.0, 2.0, 3.0, 5.0, 5.0, 3.0, 2.0, 3.0, 3.0, 2.0, 2.0, 3.0, 3.0, 3.0, 3.0, 2.0, 3.0, 3.0, 3.0, 3.0, 3.0, 3.0, 3.0, 3.0, 3.0, 3.0, 3.0, 3.0, 3.0, 3.0, 3.0, 3.0, 3.0, 3.0, 3.0, 3.0, 3.0, 3.0, 3.0, 3.0, 3.0, 3.0, 3.0, 3.0, 3.0, 3.0, 3.0, 2.0, 3.0, 2.0, 3.0, 3.0, 10.0, 3.0, 3.0, 3.0, 3.0, 2.0, 2.0, 3.0, 12.0, 2.0, 4.0, 3.0, 3.0, 3.0, 3.0, 3.0, 24.0, 2.0, 3.0, 2.0, 3.0, 2.0, 3.0, 3.0, 3.0, 5.0, 3.0, 3.0, 3.0, 24.0, 3.0, 3.0, 3.0, 2.0, 24.0, 3.0, 3.0, 3.0, 3.0, 12.0, 3.0, 3.0, 3.0, 3.0, 24.0, 3.0, 24.0, 24.0, 3.0, 24.0, 3.0, 2.0, 12.0, 5.0, 24.0, 24.0, 2.0, 3.0, 3.0, 5.0, 2.0, 20.0, 2.0, 2.0, 3.0, 3.0, 2.0, 6.0, 3.0, 3.0, 3.0, 3.0, 3.0, 2.0, 2.0, 3.0, 3.0, 3.0, 3.0, 3.0, 3.0, 3.0, 3.0, 3.0, 3.0, 3.0, 3.0, 3.0, 3.0, 3.0, 2.0, 2.0, 3.0, 3.0, 3.0, 3.0, 2.0, 2.0, 2.0, 3.0, 2.0, 2.0, 2.0, 3.0, 2.0, 2.0, 3.0, 3.0, 5.0, 2.0, 3.0, 3.0, 3.0, 2.0, 3.0, 2.0, 2.0, 2.0, 3.0, 2.0, 3.0, 3.0, 2.0, 3.0, 3.0, 3.0, 2.0, 5.0, 2.0, 2.0, 3.0, 3.0, 3.0, 2.0, 3.0, 6.0, 3.0, 5.0, 3.0, 3.0, 2.0, 3.0, 6.0, 5.0, 4.0, 2.0, 2.0, 3.0, 3.0, 3.0, 3.0, 3.0, 4.0, 3.0, 3.0, 5.0, 2.0, 4.0, 3.0, 6.0, 3.0, 10.0, 3.0, 3.0, 3.0, 3.0, 3.0, 3.0, 6.0, 2.0, 3.0, 6.0, 6.0, 3.0, 3.0, 5.0, 2.0, 2.0, 5.0, 3.0, 3.0, 3.0, 4.0, 6.0, 3.0, 5.0, 3.0, 3.0, 3.0, 3.0, 3.0, 5.0, 2.0, 3.0, 3.0, 2.0, 3.0, 3.0, 3.0, 3.0, 2.0, 3.0, 10.0, 3.0, 3.0, 3.0, 3.0, 2.0, 3.0, 3.0, 3.0, 3.0, 3.0, 2.0, 3.0, 12.0, 3.0, 2.0, 2.0, 3.0, 3.0, 3.0, 3.0, 2.0, 3.0, 2.0, 2.0, 3.0, 2.0, 3.0, 2.0, 3.0, 3.0, 3.0, 2.0, 2.0, 3.0, 3.0, 2.0, 2.0, 2.0, 3.0, 3.0, 3.0, 3.0, 3.0, 6.0, 3.0, 3.0, 6.0, 6.0, 5.0, 6.0, 3.0, 6.0, 4.0, 3.0, 6.0, 6.0, 6.0, 6.0, 3.0, 3.0, 3.0, 3.0, 5.0, 2.0, 3.0, 2.0, 2.0, 2.0, 3.0, 3.0, 2.0, 3.0, 3.0, 2.0, 2.0, 3.0, 3.0, 3.0, 3.0, 2.0, 3.0, 3.0, 3.0, 3.0, 3.0, 3.0, 3.0, 3.0, 3.0, 3.0, 3.0, 3.0, 2.0, 3.0, 2.0, 3.0, 2.0, 3.0, 2.0, 2.0, 2.0, 3.0, 3.0, 2.0, 6.0, 2.0, 2.0, 2.0, 6.0, 2.0, 2.0, 6.0, 3.0, 2.0, 3.0, 3.0, 5.0, 2.0, 3.0, 3.0, 3.0, 3.0, 3.0, 3.0, 2.0, 3.0, 3.0, 3.0, 3.0, 3.0, 3.0, 3.0, 3.0, 3.0, 2.0, 3.0, 2.0, 3.0, 2.0, 3.0, 2.0, 2.0, 3.0, 3.0, 3.0, 2.0, 3.0, 3.0, 3.0, 3.0, 3.0, 3.0, 3.0, 5.0, 3.0, 3.0, 2.0, 3.0, 3.0, 3.0, 2.0, 3.0, 3.0, 3.0, 3.0, 2.0, 3.0, 2.0, 3.0, 2.0, 3.0, 3.0, 2.0, 3.0, 3.0, 3.0, 3.0, 3.0, 3.0, 3.0, 3.0, 3.0, 3.0, 3.0, 3.0, 3.0, 3.0, 3.0, 3.0, 3.0, 3.0, 3.0, 3.0, 3.0, 3.0, 3.0, 3.0, 3.0, 3.0, 3.0, 3.0, 3.0, 3.0, 3.0, 3.0, 3.0, 3.0, 3.0, 3.0, 3.0, 3.0, 3.0, 3.0, 3.0, 3.0, 3.0, 3.0, 3.0, 3.0, 3.0, 3.0, 3.0, 3.0, 3.0, 3.0, 3.0, 3.0, 3.0, 3.0, 3.0, 3.0, 3.0, 3.0, 3.0, 3.0, 3.0, 3.0, 3.0, 3.0, 10.0, 3.0, 3.0, 3.0, 3.0, 3.0, 3.0, 3.0, 3.0, 3.0, 3.0, 3.0, 3.0, 2.0, 2.0, 3.0, 3.0, 3.0, 3.0, 2.0, 3.0, 3.0, 2.0, 3.0, 3.0, 2.0, 3.0, 3.0, 3.0, 3.0, 3.0, 3.0, 3.0, 3.0, 3.0, 3.0, 3.0, 3.0, 3.0, 3.0, 2.0, 2.0, 3.0, 3.0, 3.0, 2.0, 2.0, 2.0, 3.0, 2.0, 3.0, 2.0, 3.0, 2.0, 3.0, 3.0, 3.0, 3.0, 2.0, 3.0, 3.0, 3.0, 3.0, 3.0, 3.0, 3.0, 3.0, 3.0, 2.0, 2.0, 5.0, 3.0, 3.0, 5.0, 5.0, 3.0, 3.0, 3.0, 2.0, 3.0, 3.0, 3.0, 3.0, 3.0, 3.0, 3.0, 2.0, 3.0, 3.0, 3.0, 4.0, 3.0, 3.0, 3.0, 3.0, 3.0, 5.0, 5.0, 5.0, 3.0, 3.0, 3.0, 2.0, 6.0, 3.0, 6.0, 2.0, 5.0, 3.0, 4.0, 5.0, 2.0, 5.0, 3.0, 5.0, 3.0, 2.0, 3.0, 3.0, 5.0, 3.0, 5.0, 3.0, 2.0, 5.0, 2.0, 3.0, 5.0, 5.0, 5.0, 5.0, 5.0, 3.0, 3.0, 5.0, 3.0, 3.0, 3.0, 3.0, 5.0, 2.0, 5.0, 2.0, 2.0, 2.0, 3.0, 3.0, 3.0, 2.0, 3.0, 3.0, 3.0, 3.0, 2.0, 2.0, 3.0, 4.0, 3.0, 3.0, 3.0, 3.0, 3.0, 3.0, 3.0, 2.0, 3.0, 5.0, 2.0, 5.0, 3.0, 3.0, 5.0, 3.0, 2.0, 3.0, 5.0, 5.0, 3.0, 3.0, 3.0, 5.0, 5.0, 3.0, 5.0, 3.0, 3.0, 3.0, 3.0, 2.0, 5.0, 3.0, 5.0, 5.0, 5.0, 5.0, 3.0, 3.0, 3.0, 3.0, 2.0, 5.0, 6.0, 6.0, 3.0, 3.0, 3.0, 3.0, 3.0, 6.0, 5.0, 3.0, 2.0, 3.0, 6.0, 3.0, 3.0, 3.0, 5.0, 3.0, 3.0, 3.0, 3.0, 6.0, 5.0, 6.0, 6.0, 3.0, 2.0, 6.0, 3.0, 2.0, 3.0, 2.0, 6.0, 3.0, 2.0, 2.0, 3.0, 3.0, 3.0, 3.0, 3.0, 2.0, 3.0, 6.0, 3.0, 3.0, 3.0, 3.0, 3.0, 3.0, 3.0, 3.0, 3.0, 3.0, 3.0, 2.0, 3.0, 3.0, 3.0, 3.0, 3.0, 3.0, 3.0, 3.0, 3.0, 3.0, 3.0, 3.0, 3.0, 2.0, 3.0, 3.0, 3.0, 3.0, 3.0, 3.0, 2.0, 3.0, 3.0, 3.0, 2.0, 2.0, 3.0, 4.0, 3.0, 4.0, 5.0, 3.0, 3.0, 3.0, 3.0, 3.0, 3.0, 3.0, 3.0, 3.0, 3.0, 3.0, 5.0, 3.0, 3.0, 3.0, 5.0, 5.0, 2.0, 2.0, 3.0, 5.0, 2.0, 3.0, 3.0, 3.0, 3.0, 3.0, 3.0, 3.0, 3.0, 3.0, 3.0, 3.0, 3.0, 2.0, 3.0, 3.0, 3.0, 2.0, 3.0, 2.0, 3.0, 3.0, 3.0, 3.0, 3.0, 2.0, 3.0, 3.0, 5.0, 2.0, 3.0, 3.0, 3.0, 3.0, 2.0, 2.0, 2.0, 4.0, 2.0, 2.0, 4.0, 2.0, 3.0, 3.0, 2.0, 3.0, 2.0, 2.0, 3.0, 3.0, 5.0, 2.0, 7.0, 2.0, 2.0, 2.0, 3.0, 2.0, 2.0, 3.0, 2.0, 3.0, 2.0, 3.0, 3.0, 2.0, 3.0, 3.0, 2.0, 3.0, 2.0, 3.0, 3.0, 5.0, 3.0, 3.0, 3.0, 2.0, 3.0, 2.0], \"xaxis\": \"x\", \"yaxis\": \"y\"}],                        {\"barmode\": \"relative\", \"legend\": {\"tracegroupgap\": 0}, \"margin\": {\"t\": 60}, \"showlegend\": true, \"template\": {\"data\": {\"bar\": [{\"error_x\": {\"color\": \"#2a3f5f\"}, \"error_y\": {\"color\": \"#2a3f5f\"}, \"marker\": {\"line\": {\"color\": \"#E5ECF6\", \"width\": 0.5}}, \"type\": \"bar\"}], \"barpolar\": [{\"marker\": {\"line\": {\"color\": \"#E5ECF6\", \"width\": 0.5}}, \"type\": \"barpolar\"}], \"carpet\": [{\"aaxis\": {\"endlinecolor\": \"#2a3f5f\", \"gridcolor\": \"white\", \"linecolor\": \"white\", \"minorgridcolor\": \"white\", \"startlinecolor\": \"#2a3f5f\"}, \"baxis\": {\"endlinecolor\": \"#2a3f5f\", \"gridcolor\": \"white\", \"linecolor\": \"white\", \"minorgridcolor\": \"white\", \"startlinecolor\": \"#2a3f5f\"}, \"type\": \"carpet\"}], \"choropleth\": [{\"colorbar\": {\"outlinewidth\": 0, \"ticks\": \"\"}, \"type\": \"choropleth\"}], \"contour\": [{\"colorbar\": {\"outlinewidth\": 0, \"ticks\": \"\"}, \"colorscale\": [[0.0, \"#0d0887\"], [0.1111111111111111, \"#46039f\"], [0.2222222222222222, \"#7201a8\"], [0.3333333333333333, \"#9c179e\"], [0.4444444444444444, \"#bd3786\"], [0.5555555555555556, \"#d8576b\"], [0.6666666666666666, \"#ed7953\"], [0.7777777777777778, \"#fb9f3a\"], [0.8888888888888888, \"#fdca26\"], [1.0, \"#f0f921\"]], \"type\": \"contour\"}], \"contourcarpet\": [{\"colorbar\": {\"outlinewidth\": 0, \"ticks\": \"\"}, \"type\": \"contourcarpet\"}], \"heatmap\": [{\"colorbar\": {\"outlinewidth\": 0, \"ticks\": \"\"}, \"colorscale\": [[0.0, \"#0d0887\"], [0.1111111111111111, \"#46039f\"], [0.2222222222222222, \"#7201a8\"], [0.3333333333333333, \"#9c179e\"], [0.4444444444444444, \"#bd3786\"], [0.5555555555555556, \"#d8576b\"], [0.6666666666666666, \"#ed7953\"], [0.7777777777777778, \"#fb9f3a\"], [0.8888888888888888, \"#fdca26\"], [1.0, \"#f0f921\"]], \"type\": \"heatmap\"}], \"heatmapgl\": [{\"colorbar\": {\"outlinewidth\": 0, \"ticks\": \"\"}, \"colorscale\": [[0.0, \"#0d0887\"], [0.1111111111111111, \"#46039f\"], [0.2222222222222222, \"#7201a8\"], [0.3333333333333333, \"#9c179e\"], [0.4444444444444444, \"#bd3786\"], [0.5555555555555556, \"#d8576b\"], [0.6666666666666666, \"#ed7953\"], [0.7777777777777778, \"#fb9f3a\"], [0.8888888888888888, \"#fdca26\"], [1.0, \"#f0f921\"]], \"type\": \"heatmapgl\"}], \"histogram\": [{\"marker\": {\"colorbar\": {\"outlinewidth\": 0, \"ticks\": \"\"}}, \"type\": \"histogram\"}], \"histogram2d\": [{\"colorbar\": {\"outlinewidth\": 0, \"ticks\": \"\"}, \"colorscale\": [[0.0, \"#0d0887\"], [0.1111111111111111, \"#46039f\"], [0.2222222222222222, \"#7201a8\"], [0.3333333333333333, \"#9c179e\"], [0.4444444444444444, \"#bd3786\"], [0.5555555555555556, \"#d8576b\"], [0.6666666666666666, \"#ed7953\"], [0.7777777777777778, \"#fb9f3a\"], [0.8888888888888888, \"#fdca26\"], [1.0, \"#f0f921\"]], \"type\": \"histogram2d\"}], \"histogram2dcontour\": [{\"colorbar\": {\"outlinewidth\": 0, \"ticks\": \"\"}, \"colorscale\": [[0.0, \"#0d0887\"], [0.1111111111111111, \"#46039f\"], [0.2222222222222222, \"#7201a8\"], [0.3333333333333333, \"#9c179e\"], [0.4444444444444444, \"#bd3786\"], [0.5555555555555556, \"#d8576b\"], [0.6666666666666666, \"#ed7953\"], [0.7777777777777778, \"#fb9f3a\"], [0.8888888888888888, \"#fdca26\"], [1.0, \"#f0f921\"]], \"type\": \"histogram2dcontour\"}], \"mesh3d\": [{\"colorbar\": {\"outlinewidth\": 0, \"ticks\": \"\"}, \"type\": \"mesh3d\"}], \"parcoords\": [{\"line\": {\"colorbar\": {\"outlinewidth\": 0, \"ticks\": \"\"}}, \"type\": \"parcoords\"}], \"pie\": [{\"automargin\": true, \"type\": \"pie\"}], \"scatter\": [{\"marker\": {\"colorbar\": {\"outlinewidth\": 0, \"ticks\": \"\"}}, \"type\": \"scatter\"}], \"scatter3d\": [{\"line\": {\"colorbar\": {\"outlinewidth\": 0, \"ticks\": \"\"}}, \"marker\": {\"colorbar\": {\"outlinewidth\": 0, \"ticks\": \"\"}}, \"type\": \"scatter3d\"}], \"scattercarpet\": [{\"marker\": {\"colorbar\": {\"outlinewidth\": 0, \"ticks\": \"\"}}, \"type\": \"scattercarpet\"}], \"scattergeo\": [{\"marker\": {\"colorbar\": {\"outlinewidth\": 0, \"ticks\": \"\"}}, \"type\": \"scattergeo\"}], \"scattergl\": [{\"marker\": {\"colorbar\": {\"outlinewidth\": 0, \"ticks\": \"\"}}, \"type\": \"scattergl\"}], \"scattermapbox\": [{\"marker\": {\"colorbar\": {\"outlinewidth\": 0, \"ticks\": \"\"}}, \"type\": \"scattermapbox\"}], \"scatterpolar\": [{\"marker\": {\"colorbar\": {\"outlinewidth\": 0, \"ticks\": \"\"}}, \"type\": \"scatterpolar\"}], \"scatterpolargl\": [{\"marker\": {\"colorbar\": {\"outlinewidth\": 0, \"ticks\": \"\"}}, \"type\": \"scatterpolargl\"}], \"scatterternary\": [{\"marker\": {\"colorbar\": {\"outlinewidth\": 0, \"ticks\": \"\"}}, \"type\": \"scatterternary\"}], \"surface\": [{\"colorbar\": {\"outlinewidth\": 0, \"ticks\": \"\"}, \"colorscale\": [[0.0, \"#0d0887\"], [0.1111111111111111, \"#46039f\"], [0.2222222222222222, \"#7201a8\"], [0.3333333333333333, \"#9c179e\"], [0.4444444444444444, \"#bd3786\"], [0.5555555555555556, \"#d8576b\"], [0.6666666666666666, \"#ed7953\"], [0.7777777777777778, \"#fb9f3a\"], [0.8888888888888888, \"#fdca26\"], [1.0, \"#f0f921\"]], \"type\": \"surface\"}], \"table\": [{\"cells\": {\"fill\": {\"color\": \"#EBF0F8\"}, \"line\": {\"color\": \"white\"}}, \"header\": {\"fill\": {\"color\": \"#C8D4E3\"}, \"line\": {\"color\": \"white\"}}, \"type\": \"table\"}]}, \"layout\": {\"annotationdefaults\": {\"arrowcolor\": \"#2a3f5f\", \"arrowhead\": 0, \"arrowwidth\": 1}, \"coloraxis\": {\"colorbar\": {\"outlinewidth\": 0, \"ticks\": \"\"}}, \"colorscale\": {\"diverging\": [[0, \"#8e0152\"], [0.1, \"#c51b7d\"], [0.2, \"#de77ae\"], [0.3, \"#f1b6da\"], [0.4, \"#fde0ef\"], [0.5, \"#f7f7f7\"], [0.6, \"#e6f5d0\"], [0.7, \"#b8e186\"], [0.8, \"#7fbc41\"], [0.9, \"#4d9221\"], [1, \"#276419\"]], \"sequential\": [[0.0, \"#0d0887\"], [0.1111111111111111, \"#46039f\"], [0.2222222222222222, \"#7201a8\"], [0.3333333333333333, \"#9c179e\"], [0.4444444444444444, \"#bd3786\"], [0.5555555555555556, \"#d8576b\"], [0.6666666666666666, \"#ed7953\"], [0.7777777777777778, \"#fb9f3a\"], [0.8888888888888888, \"#fdca26\"], [1.0, \"#f0f921\"]], \"sequentialminus\": [[0.0, \"#0d0887\"], [0.1111111111111111, \"#46039f\"], [0.2222222222222222, \"#7201a8\"], [0.3333333333333333, \"#9c179e\"], [0.4444444444444444, \"#bd3786\"], [0.5555555555555556, \"#d8576b\"], [0.6666666666666666, \"#ed7953\"], [0.7777777777777778, \"#fb9f3a\"], [0.8888888888888888, \"#fdca26\"], [1.0, \"#f0f921\"]]}, \"colorway\": [\"#636efa\", \"#EF553B\", \"#00cc96\", \"#ab63fa\", \"#FFA15A\", \"#19d3f3\", \"#FF6692\", \"#B6E880\", \"#FF97FF\", \"#FECB52\"], \"font\": {\"color\": \"#2a3f5f\"}, \"geo\": {\"bgcolor\": \"white\", \"lakecolor\": \"white\", \"landcolor\": \"#E5ECF6\", \"showlakes\": true, \"showland\": true, \"subunitcolor\": \"white\"}, \"hoverlabel\": {\"align\": \"left\"}, \"hovermode\": \"closest\", \"mapbox\": {\"style\": \"light\"}, \"paper_bgcolor\": \"white\", \"plot_bgcolor\": \"#E5ECF6\", \"polar\": {\"angularaxis\": {\"gridcolor\": \"white\", \"linecolor\": \"white\", \"ticks\": \"\"}, \"bgcolor\": \"#E5ECF6\", \"radialaxis\": {\"gridcolor\": \"white\", \"linecolor\": \"white\", \"ticks\": \"\"}}, \"scene\": {\"xaxis\": {\"backgroundcolor\": \"#E5ECF6\", \"gridcolor\": \"white\", \"gridwidth\": 2, \"linecolor\": \"white\", \"showbackground\": true, \"ticks\": \"\", \"zerolinecolor\": \"white\"}, \"yaxis\": {\"backgroundcolor\": \"#E5ECF6\", \"gridcolor\": \"white\", \"gridwidth\": 2, \"linecolor\": \"white\", \"showbackground\": true, \"ticks\": \"\", \"zerolinecolor\": \"white\"}, \"zaxis\": {\"backgroundcolor\": \"#E5ECF6\", \"gridcolor\": \"white\", \"gridwidth\": 2, \"linecolor\": \"white\", \"showbackground\": true, \"ticks\": \"\", \"zerolinecolor\": \"white\"}}, \"shapedefaults\": {\"line\": {\"color\": \"#2a3f5f\"}}, \"ternary\": {\"aaxis\": {\"gridcolor\": \"white\", \"linecolor\": \"white\", \"ticks\": \"\"}, \"baxis\": {\"gridcolor\": \"white\", \"linecolor\": \"white\", \"ticks\": \"\"}, \"bgcolor\": \"#E5ECF6\", \"caxis\": {\"gridcolor\": \"white\", \"linecolor\": \"white\", \"ticks\": \"\"}}, \"title\": {\"x\": 0.05}, \"xaxis\": {\"automargin\": true, \"gridcolor\": \"white\", \"linecolor\": \"white\", \"ticks\": \"\", \"title\": {\"standoff\": 15}, \"zerolinecolor\": \"white\", \"zerolinewidth\": 2}, \"yaxis\": {\"automargin\": true, \"gridcolor\": \"white\", \"linecolor\": \"white\", \"ticks\": \"\", \"title\": {\"standoff\": 15}, \"zerolinecolor\": \"white\", \"zerolinewidth\": 2}}}, \"title\": {\"text\": \"\\uac1c\\uc6d4\\uc218\\ubcc4 \\ud560\\ubd80 \\ube48\\ub3c4\\uc218\"}, \"xaxis\": {\"anchor\": \"y\", \"domain\": [0.0, 1.0], \"title\": {\"text\": \"\\ud560\\ubd80 \\uac1c\\uc6d4\\uc218\"}}, \"yaxis\": {\"anchor\": \"x\", \"domain\": [0.0, 1.0], \"title\": {\"text\": \"\\ube48\\ub3c4\\uc218\"}}},                        {\"responsive\": true}                    ).then(function(){\n",
       "                            \n",
       "var gd = document.getElementById('e5a69c32-78b8-44aa-a6dd-d46ad0588df1');\n",
       "var x = new MutationObserver(function (mutations, observer) {{\n",
       "        var display = window.getComputedStyle(gd).display;\n",
       "        if (!display || display === 'none') {{\n",
       "            console.log([gd, 'removed!']);\n",
       "            Plotly.purge(gd);\n",
       "            observer.disconnect();\n",
       "        }}\n",
       "}});\n",
       "\n",
       "// Listen for the removal of the full notebook cells\n",
       "var notebookContainer = gd.closest('#notebook-container');\n",
       "if (notebookContainer) {{\n",
       "    x.observe(notebookContainer, {childList: true});\n",
       "}}\n",
       "\n",
       "// Listen for the clearing of the current output cell\n",
       "var outputEl = gd.closest('.output');\n",
       "if (outputEl) {{\n",
       "    x.observe(outputEl, {childList: true});\n",
       "}}\n",
       "\n",
       "                        })                };                });            </script>        </div>"
      ]
     },
     "metadata": {},
     "output_type": "display_data"
    }
   ],
   "source": [
    "# 할부별 빈도수\n",
    "# 일시불이 제일 많았지만 \n",
    "fig = px.histogram(installments_df, x=\"installments\")\n",
    "fig.update_layout(title_text=\"개월수별 할부 빈도수\", showlegend=True)\n",
    "fig.update_xaxes(title_text=\"할부 개월수\")\n",
    "fig.update_yaxes(title_text=\"빈도수\")\n",
    "fig.show()"
   ]
  },
  {
   "cell_type": "code",
   "execution_count": 192,
   "metadata": {},
   "outputs": [],
   "source": [
    "# 어떤 요일에 할부가 가장 많을까?\n",
    "installments_count_by_day = installments_df.groupby(\"days_of_week\").size().reset_index(name=\"빈도수\")\n",
    "installments_count_by_day[\"days_of_week\"] = [\"월요일\", \"화요일\", \"수요일\", \"목요일\", \"금요일\", \"토요일\", \"일요일\"]"
   ]
  },
  {
   "cell_type": "code",
   "execution_count": 196,
   "metadata": {
    "scrolled": false
   },
   "outputs": [
    {
     "data": {
      "application/vnd.plotly.v1+json": {
       "config": {
        "linkText": "Export to plot.ly",
        "plotlyServerURL": "https://plot.ly",
        "showLink": false
       },
       "data": [
        {
         "marker": {
          "color": "blue"
         },
         "name": "요일별 할부결제 빈도수",
         "opacity": 0.6,
         "type": "scatter",
         "x": [
          "월요일",
          "화요일",
          "수요일",
          "목요일",
          "금요일",
          "토요일",
          "일요일"
         ],
         "y": [
          2147,
          2316,
          2215,
          2209,
          2401,
          2575,
          1749
         ]
        }
       ],
       "layout": {
        "showlegend": true,
        "template": {
         "data": {
          "bar": [
           {
            "error_x": {
             "color": "#2a3f5f"
            },
            "error_y": {
             "color": "#2a3f5f"
            },
            "marker": {
             "line": {
              "color": "#E5ECF6",
              "width": 0.5
             }
            },
            "type": "bar"
           }
          ],
          "barpolar": [
           {
            "marker": {
             "line": {
              "color": "#E5ECF6",
              "width": 0.5
             }
            },
            "type": "barpolar"
           }
          ],
          "carpet": [
           {
            "aaxis": {
             "endlinecolor": "#2a3f5f",
             "gridcolor": "white",
             "linecolor": "white",
             "minorgridcolor": "white",
             "startlinecolor": "#2a3f5f"
            },
            "baxis": {
             "endlinecolor": "#2a3f5f",
             "gridcolor": "white",
             "linecolor": "white",
             "minorgridcolor": "white",
             "startlinecolor": "#2a3f5f"
            },
            "type": "carpet"
           }
          ],
          "choropleth": [
           {
            "colorbar": {
             "outlinewidth": 0,
             "ticks": ""
            },
            "type": "choropleth"
           }
          ],
          "contour": [
           {
            "colorbar": {
             "outlinewidth": 0,
             "ticks": ""
            },
            "colorscale": [
             [
              0,
              "#0d0887"
             ],
             [
              0.1111111111111111,
              "#46039f"
             ],
             [
              0.2222222222222222,
              "#7201a8"
             ],
             [
              0.3333333333333333,
              "#9c179e"
             ],
             [
              0.4444444444444444,
              "#bd3786"
             ],
             [
              0.5555555555555556,
              "#d8576b"
             ],
             [
              0.6666666666666666,
              "#ed7953"
             ],
             [
              0.7777777777777778,
              "#fb9f3a"
             ],
             [
              0.8888888888888888,
              "#fdca26"
             ],
             [
              1,
              "#f0f921"
             ]
            ],
            "type": "contour"
           }
          ],
          "contourcarpet": [
           {
            "colorbar": {
             "outlinewidth": 0,
             "ticks": ""
            },
            "type": "contourcarpet"
           }
          ],
          "heatmap": [
           {
            "colorbar": {
             "outlinewidth": 0,
             "ticks": ""
            },
            "colorscale": [
             [
              0,
              "#0d0887"
             ],
             [
              0.1111111111111111,
              "#46039f"
             ],
             [
              0.2222222222222222,
              "#7201a8"
             ],
             [
              0.3333333333333333,
              "#9c179e"
             ],
             [
              0.4444444444444444,
              "#bd3786"
             ],
             [
              0.5555555555555556,
              "#d8576b"
             ],
             [
              0.6666666666666666,
              "#ed7953"
             ],
             [
              0.7777777777777778,
              "#fb9f3a"
             ],
             [
              0.8888888888888888,
              "#fdca26"
             ],
             [
              1,
              "#f0f921"
             ]
            ],
            "type": "heatmap"
           }
          ],
          "heatmapgl": [
           {
            "colorbar": {
             "outlinewidth": 0,
             "ticks": ""
            },
            "colorscale": [
             [
              0,
              "#0d0887"
             ],
             [
              0.1111111111111111,
              "#46039f"
             ],
             [
              0.2222222222222222,
              "#7201a8"
             ],
             [
              0.3333333333333333,
              "#9c179e"
             ],
             [
              0.4444444444444444,
              "#bd3786"
             ],
             [
              0.5555555555555556,
              "#d8576b"
             ],
             [
              0.6666666666666666,
              "#ed7953"
             ],
             [
              0.7777777777777778,
              "#fb9f3a"
             ],
             [
              0.8888888888888888,
              "#fdca26"
             ],
             [
              1,
              "#f0f921"
             ]
            ],
            "type": "heatmapgl"
           }
          ],
          "histogram": [
           {
            "marker": {
             "colorbar": {
              "outlinewidth": 0,
              "ticks": ""
             }
            },
            "type": "histogram"
           }
          ],
          "histogram2d": [
           {
            "colorbar": {
             "outlinewidth": 0,
             "ticks": ""
            },
            "colorscale": [
             [
              0,
              "#0d0887"
             ],
             [
              0.1111111111111111,
              "#46039f"
             ],
             [
              0.2222222222222222,
              "#7201a8"
             ],
             [
              0.3333333333333333,
              "#9c179e"
             ],
             [
              0.4444444444444444,
              "#bd3786"
             ],
             [
              0.5555555555555556,
              "#d8576b"
             ],
             [
              0.6666666666666666,
              "#ed7953"
             ],
             [
              0.7777777777777778,
              "#fb9f3a"
             ],
             [
              0.8888888888888888,
              "#fdca26"
             ],
             [
              1,
              "#f0f921"
             ]
            ],
            "type": "histogram2d"
           }
          ],
          "histogram2dcontour": [
           {
            "colorbar": {
             "outlinewidth": 0,
             "ticks": ""
            },
            "colorscale": [
             [
              0,
              "#0d0887"
             ],
             [
              0.1111111111111111,
              "#46039f"
             ],
             [
              0.2222222222222222,
              "#7201a8"
             ],
             [
              0.3333333333333333,
              "#9c179e"
             ],
             [
              0.4444444444444444,
              "#bd3786"
             ],
             [
              0.5555555555555556,
              "#d8576b"
             ],
             [
              0.6666666666666666,
              "#ed7953"
             ],
             [
              0.7777777777777778,
              "#fb9f3a"
             ],
             [
              0.8888888888888888,
              "#fdca26"
             ],
             [
              1,
              "#f0f921"
             ]
            ],
            "type": "histogram2dcontour"
           }
          ],
          "mesh3d": [
           {
            "colorbar": {
             "outlinewidth": 0,
             "ticks": ""
            },
            "type": "mesh3d"
           }
          ],
          "parcoords": [
           {
            "line": {
             "colorbar": {
              "outlinewidth": 0,
              "ticks": ""
             }
            },
            "type": "parcoords"
           }
          ],
          "pie": [
           {
            "automargin": true,
            "type": "pie"
           }
          ],
          "scatter": [
           {
            "marker": {
             "colorbar": {
              "outlinewidth": 0,
              "ticks": ""
             }
            },
            "type": "scatter"
           }
          ],
          "scatter3d": [
           {
            "line": {
             "colorbar": {
              "outlinewidth": 0,
              "ticks": ""
             }
            },
            "marker": {
             "colorbar": {
              "outlinewidth": 0,
              "ticks": ""
             }
            },
            "type": "scatter3d"
           }
          ],
          "scattercarpet": [
           {
            "marker": {
             "colorbar": {
              "outlinewidth": 0,
              "ticks": ""
             }
            },
            "type": "scattercarpet"
           }
          ],
          "scattergeo": [
           {
            "marker": {
             "colorbar": {
              "outlinewidth": 0,
              "ticks": ""
             }
            },
            "type": "scattergeo"
           }
          ],
          "scattergl": [
           {
            "marker": {
             "colorbar": {
              "outlinewidth": 0,
              "ticks": ""
             }
            },
            "type": "scattergl"
           }
          ],
          "scattermapbox": [
           {
            "marker": {
             "colorbar": {
              "outlinewidth": 0,
              "ticks": ""
             }
            },
            "type": "scattermapbox"
           }
          ],
          "scatterpolar": [
           {
            "marker": {
             "colorbar": {
              "outlinewidth": 0,
              "ticks": ""
             }
            },
            "type": "scatterpolar"
           }
          ],
          "scatterpolargl": [
           {
            "marker": {
             "colorbar": {
              "outlinewidth": 0,
              "ticks": ""
             }
            },
            "type": "scatterpolargl"
           }
          ],
          "scatterternary": [
           {
            "marker": {
             "colorbar": {
              "outlinewidth": 0,
              "ticks": ""
             }
            },
            "type": "scatterternary"
           }
          ],
          "surface": [
           {
            "colorbar": {
             "outlinewidth": 0,
             "ticks": ""
            },
            "colorscale": [
             [
              0,
              "#0d0887"
             ],
             [
              0.1111111111111111,
              "#46039f"
             ],
             [
              0.2222222222222222,
              "#7201a8"
             ],
             [
              0.3333333333333333,
              "#9c179e"
             ],
             [
              0.4444444444444444,
              "#bd3786"
             ],
             [
              0.5555555555555556,
              "#d8576b"
             ],
             [
              0.6666666666666666,
              "#ed7953"
             ],
             [
              0.7777777777777778,
              "#fb9f3a"
             ],
             [
              0.8888888888888888,
              "#fdca26"
             ],
             [
              1,
              "#f0f921"
             ]
            ],
            "type": "surface"
           }
          ],
          "table": [
           {
            "cells": {
             "fill": {
              "color": "#EBF0F8"
             },
             "line": {
              "color": "white"
             }
            },
            "header": {
             "fill": {
              "color": "#C8D4E3"
             },
             "line": {
              "color": "white"
             }
            },
            "type": "table"
           }
          ]
         },
         "layout": {
          "annotationdefaults": {
           "arrowcolor": "#2a3f5f",
           "arrowhead": 0,
           "arrowwidth": 1
          },
          "coloraxis": {
           "colorbar": {
            "outlinewidth": 0,
            "ticks": ""
           }
          },
          "colorscale": {
           "diverging": [
            [
             0,
             "#8e0152"
            ],
            [
             0.1,
             "#c51b7d"
            ],
            [
             0.2,
             "#de77ae"
            ],
            [
             0.3,
             "#f1b6da"
            ],
            [
             0.4,
             "#fde0ef"
            ],
            [
             0.5,
             "#f7f7f7"
            ],
            [
             0.6,
             "#e6f5d0"
            ],
            [
             0.7,
             "#b8e186"
            ],
            [
             0.8,
             "#7fbc41"
            ],
            [
             0.9,
             "#4d9221"
            ],
            [
             1,
             "#276419"
            ]
           ],
           "sequential": [
            [
             0,
             "#0d0887"
            ],
            [
             0.1111111111111111,
             "#46039f"
            ],
            [
             0.2222222222222222,
             "#7201a8"
            ],
            [
             0.3333333333333333,
             "#9c179e"
            ],
            [
             0.4444444444444444,
             "#bd3786"
            ],
            [
             0.5555555555555556,
             "#d8576b"
            ],
            [
             0.6666666666666666,
             "#ed7953"
            ],
            [
             0.7777777777777778,
             "#fb9f3a"
            ],
            [
             0.8888888888888888,
             "#fdca26"
            ],
            [
             1,
             "#f0f921"
            ]
           ],
           "sequentialminus": [
            [
             0,
             "#0d0887"
            ],
            [
             0.1111111111111111,
             "#46039f"
            ],
            [
             0.2222222222222222,
             "#7201a8"
            ],
            [
             0.3333333333333333,
             "#9c179e"
            ],
            [
             0.4444444444444444,
             "#bd3786"
            ],
            [
             0.5555555555555556,
             "#d8576b"
            ],
            [
             0.6666666666666666,
             "#ed7953"
            ],
            [
             0.7777777777777778,
             "#fb9f3a"
            ],
            [
             0.8888888888888888,
             "#fdca26"
            ],
            [
             1,
             "#f0f921"
            ]
           ]
          },
          "colorway": [
           "#636efa",
           "#EF553B",
           "#00cc96",
           "#ab63fa",
           "#FFA15A",
           "#19d3f3",
           "#FF6692",
           "#B6E880",
           "#FF97FF",
           "#FECB52"
          ],
          "font": {
           "color": "#2a3f5f"
          },
          "geo": {
           "bgcolor": "white",
           "lakecolor": "white",
           "landcolor": "#E5ECF6",
           "showlakes": true,
           "showland": true,
           "subunitcolor": "white"
          },
          "hoverlabel": {
           "align": "left"
          },
          "hovermode": "closest",
          "mapbox": {
           "style": "light"
          },
          "paper_bgcolor": "white",
          "plot_bgcolor": "#E5ECF6",
          "polar": {
           "angularaxis": {
            "gridcolor": "white",
            "linecolor": "white",
            "ticks": ""
           },
           "bgcolor": "#E5ECF6",
           "radialaxis": {
            "gridcolor": "white",
            "linecolor": "white",
            "ticks": ""
           }
          },
          "scene": {
           "xaxis": {
            "backgroundcolor": "#E5ECF6",
            "gridcolor": "white",
            "gridwidth": 2,
            "linecolor": "white",
            "showbackground": true,
            "ticks": "",
            "zerolinecolor": "white"
           },
           "yaxis": {
            "backgroundcolor": "#E5ECF6",
            "gridcolor": "white",
            "gridwidth": 2,
            "linecolor": "white",
            "showbackground": true,
            "ticks": "",
            "zerolinecolor": "white"
           },
           "zaxis": {
            "backgroundcolor": "#E5ECF6",
            "gridcolor": "white",
            "gridwidth": 2,
            "linecolor": "white",
            "showbackground": true,
            "ticks": "",
            "zerolinecolor": "white"
           }
          },
          "shapedefaults": {
           "line": {
            "color": "#2a3f5f"
           }
          },
          "ternary": {
           "aaxis": {
            "gridcolor": "white",
            "linecolor": "white",
            "ticks": ""
           },
           "baxis": {
            "gridcolor": "white",
            "linecolor": "white",
            "ticks": ""
           },
           "bgcolor": "#E5ECF6",
           "caxis": {
            "gridcolor": "white",
            "linecolor": "white",
            "ticks": ""
           }
          },
          "title": {
           "x": 0.05
          },
          "xaxis": {
           "automargin": true,
           "gridcolor": "white",
           "linecolor": "white",
           "ticks": "",
           "title": {
            "standoff": 15
           },
           "zerolinecolor": "white",
           "zerolinewidth": 2
          },
          "yaxis": {
           "automargin": true,
           "gridcolor": "white",
           "linecolor": "white",
           "ticks": "",
           "title": {
            "standoff": 15
           },
           "zerolinecolor": "white",
           "zerolinewidth": 2
          }
         }
        },
        "title": {
         "text": "요일별 할부결제 빈도수"
        },
        "xaxis": {
         "gridwidth": 2,
         "ticklen": 5,
         "title": {
          "text": " "
         },
         "zeroline": true
        },
        "yaxis": {
         "gridwidth": 2,
         "ticklen": 5,
         "title": {
          "text": "빈도수"
         }
        }
       }
      },
      "text/html": [
       "<div>                            <div id=\"2f7e80b2-4498-4a1f-a839-a01f1bbca839\" class=\"plotly-graph-div\" style=\"height:525px; width:100%;\"></div>            <script type=\"text/javascript\">                require([\"plotly\"], function(Plotly) {                    window.PLOTLYENV=window.PLOTLYENV || {};                                    if (document.getElementById(\"2f7e80b2-4498-4a1f-a839-a01f1bbca839\")) {                    Plotly.newPlot(                        \"2f7e80b2-4498-4a1f-a839-a01f1bbca839\",                        [{\"marker\": {\"color\": \"blue\"}, \"name\": \"\\uc694\\uc77c\\ubcc4 \\ud560\\ubd80\\uacb0\\uc81c \\ube48\\ub3c4\\uc218\", \"opacity\": 0.6, \"type\": \"scatter\", \"x\": [\"\\uc6d4\\uc694\\uc77c\", \"\\ud654\\uc694\\uc77c\", \"\\uc218\\uc694\\uc77c\", \"\\ubaa9\\uc694\\uc77c\", \"\\uae08\\uc694\\uc77c\", \"\\ud1a0\\uc694\\uc77c\", \"\\uc77c\\uc694\\uc77c\"], \"y\": [2147, 2316, 2215, 2209, 2401, 2575, 1749]}],                        {\"showlegend\": true, \"template\": {\"data\": {\"bar\": [{\"error_x\": {\"color\": \"#2a3f5f\"}, \"error_y\": {\"color\": \"#2a3f5f\"}, \"marker\": {\"line\": {\"color\": \"#E5ECF6\", \"width\": 0.5}}, \"type\": \"bar\"}], \"barpolar\": [{\"marker\": {\"line\": {\"color\": \"#E5ECF6\", \"width\": 0.5}}, \"type\": \"barpolar\"}], \"carpet\": [{\"aaxis\": {\"endlinecolor\": \"#2a3f5f\", \"gridcolor\": \"white\", \"linecolor\": \"white\", \"minorgridcolor\": \"white\", \"startlinecolor\": \"#2a3f5f\"}, \"baxis\": {\"endlinecolor\": \"#2a3f5f\", \"gridcolor\": \"white\", \"linecolor\": \"white\", \"minorgridcolor\": \"white\", \"startlinecolor\": \"#2a3f5f\"}, \"type\": \"carpet\"}], \"choropleth\": [{\"colorbar\": {\"outlinewidth\": 0, \"ticks\": \"\"}, \"type\": \"choropleth\"}], \"contour\": [{\"colorbar\": {\"outlinewidth\": 0, \"ticks\": \"\"}, \"colorscale\": [[0.0, \"#0d0887\"], [0.1111111111111111, \"#46039f\"], [0.2222222222222222, \"#7201a8\"], [0.3333333333333333, \"#9c179e\"], [0.4444444444444444, \"#bd3786\"], [0.5555555555555556, \"#d8576b\"], [0.6666666666666666, \"#ed7953\"], [0.7777777777777778, \"#fb9f3a\"], [0.8888888888888888, \"#fdca26\"], [1.0, \"#f0f921\"]], \"type\": \"contour\"}], \"contourcarpet\": [{\"colorbar\": {\"outlinewidth\": 0, \"ticks\": \"\"}, \"type\": \"contourcarpet\"}], \"heatmap\": [{\"colorbar\": {\"outlinewidth\": 0, \"ticks\": \"\"}, \"colorscale\": [[0.0, \"#0d0887\"], [0.1111111111111111, \"#46039f\"], [0.2222222222222222, \"#7201a8\"], [0.3333333333333333, \"#9c179e\"], [0.4444444444444444, \"#bd3786\"], [0.5555555555555556, \"#d8576b\"], [0.6666666666666666, \"#ed7953\"], [0.7777777777777778, \"#fb9f3a\"], [0.8888888888888888, \"#fdca26\"], [1.0, \"#f0f921\"]], \"type\": \"heatmap\"}], \"heatmapgl\": [{\"colorbar\": {\"outlinewidth\": 0, \"ticks\": \"\"}, \"colorscale\": [[0.0, \"#0d0887\"], [0.1111111111111111, \"#46039f\"], [0.2222222222222222, \"#7201a8\"], [0.3333333333333333, \"#9c179e\"], [0.4444444444444444, \"#bd3786\"], [0.5555555555555556, \"#d8576b\"], [0.6666666666666666, \"#ed7953\"], [0.7777777777777778, \"#fb9f3a\"], [0.8888888888888888, \"#fdca26\"], [1.0, \"#f0f921\"]], \"type\": \"heatmapgl\"}], \"histogram\": [{\"marker\": {\"colorbar\": {\"outlinewidth\": 0, \"ticks\": \"\"}}, \"type\": \"histogram\"}], \"histogram2d\": [{\"colorbar\": {\"outlinewidth\": 0, \"ticks\": \"\"}, \"colorscale\": [[0.0, \"#0d0887\"], [0.1111111111111111, \"#46039f\"], [0.2222222222222222, \"#7201a8\"], [0.3333333333333333, \"#9c179e\"], [0.4444444444444444, \"#bd3786\"], [0.5555555555555556, \"#d8576b\"], [0.6666666666666666, \"#ed7953\"], [0.7777777777777778, \"#fb9f3a\"], [0.8888888888888888, \"#fdca26\"], [1.0, \"#f0f921\"]], \"type\": \"histogram2d\"}], \"histogram2dcontour\": [{\"colorbar\": {\"outlinewidth\": 0, \"ticks\": \"\"}, \"colorscale\": [[0.0, \"#0d0887\"], [0.1111111111111111, \"#46039f\"], [0.2222222222222222, \"#7201a8\"], [0.3333333333333333, \"#9c179e\"], [0.4444444444444444, \"#bd3786\"], [0.5555555555555556, \"#d8576b\"], [0.6666666666666666, \"#ed7953\"], [0.7777777777777778, \"#fb9f3a\"], [0.8888888888888888, \"#fdca26\"], [1.0, \"#f0f921\"]], \"type\": \"histogram2dcontour\"}], \"mesh3d\": [{\"colorbar\": {\"outlinewidth\": 0, \"ticks\": \"\"}, \"type\": \"mesh3d\"}], \"parcoords\": [{\"line\": {\"colorbar\": {\"outlinewidth\": 0, \"ticks\": \"\"}}, \"type\": \"parcoords\"}], \"pie\": [{\"automargin\": true, \"type\": \"pie\"}], \"scatter\": [{\"marker\": {\"colorbar\": {\"outlinewidth\": 0, \"ticks\": \"\"}}, \"type\": \"scatter\"}], \"scatter3d\": [{\"line\": {\"colorbar\": {\"outlinewidth\": 0, \"ticks\": \"\"}}, \"marker\": {\"colorbar\": {\"outlinewidth\": 0, \"ticks\": \"\"}}, \"type\": \"scatter3d\"}], \"scattercarpet\": [{\"marker\": {\"colorbar\": {\"outlinewidth\": 0, \"ticks\": \"\"}}, \"type\": \"scattercarpet\"}], \"scattergeo\": [{\"marker\": {\"colorbar\": {\"outlinewidth\": 0, \"ticks\": \"\"}}, \"type\": \"scattergeo\"}], \"scattergl\": [{\"marker\": {\"colorbar\": {\"outlinewidth\": 0, \"ticks\": \"\"}}, \"type\": \"scattergl\"}], \"scattermapbox\": [{\"marker\": {\"colorbar\": {\"outlinewidth\": 0, \"ticks\": \"\"}}, \"type\": \"scattermapbox\"}], \"scatterpolar\": [{\"marker\": {\"colorbar\": {\"outlinewidth\": 0, \"ticks\": \"\"}}, \"type\": \"scatterpolar\"}], \"scatterpolargl\": [{\"marker\": {\"colorbar\": {\"outlinewidth\": 0, \"ticks\": \"\"}}, \"type\": \"scatterpolargl\"}], \"scatterternary\": [{\"marker\": {\"colorbar\": {\"outlinewidth\": 0, \"ticks\": \"\"}}, \"type\": \"scatterternary\"}], \"surface\": [{\"colorbar\": {\"outlinewidth\": 0, \"ticks\": \"\"}, \"colorscale\": [[0.0, \"#0d0887\"], [0.1111111111111111, \"#46039f\"], [0.2222222222222222, \"#7201a8\"], [0.3333333333333333, \"#9c179e\"], [0.4444444444444444, \"#bd3786\"], [0.5555555555555556, \"#d8576b\"], [0.6666666666666666, \"#ed7953\"], [0.7777777777777778, \"#fb9f3a\"], [0.8888888888888888, \"#fdca26\"], [1.0, \"#f0f921\"]], \"type\": \"surface\"}], \"table\": [{\"cells\": {\"fill\": {\"color\": \"#EBF0F8\"}, \"line\": {\"color\": \"white\"}}, \"header\": {\"fill\": {\"color\": \"#C8D4E3\"}, \"line\": {\"color\": \"white\"}}, \"type\": \"table\"}]}, \"layout\": {\"annotationdefaults\": {\"arrowcolor\": \"#2a3f5f\", \"arrowhead\": 0, \"arrowwidth\": 1}, \"coloraxis\": {\"colorbar\": {\"outlinewidth\": 0, \"ticks\": \"\"}}, \"colorscale\": {\"diverging\": [[0, \"#8e0152\"], [0.1, \"#c51b7d\"], [0.2, \"#de77ae\"], [0.3, \"#f1b6da\"], [0.4, \"#fde0ef\"], [0.5, \"#f7f7f7\"], [0.6, \"#e6f5d0\"], [0.7, \"#b8e186\"], [0.8, \"#7fbc41\"], [0.9, \"#4d9221\"], [1, \"#276419\"]], \"sequential\": [[0.0, \"#0d0887\"], [0.1111111111111111, \"#46039f\"], [0.2222222222222222, \"#7201a8\"], [0.3333333333333333, \"#9c179e\"], [0.4444444444444444, \"#bd3786\"], [0.5555555555555556, \"#d8576b\"], [0.6666666666666666, \"#ed7953\"], [0.7777777777777778, \"#fb9f3a\"], [0.8888888888888888, \"#fdca26\"], [1.0, \"#f0f921\"]], \"sequentialminus\": [[0.0, \"#0d0887\"], [0.1111111111111111, \"#46039f\"], [0.2222222222222222, \"#7201a8\"], [0.3333333333333333, \"#9c179e\"], [0.4444444444444444, \"#bd3786\"], [0.5555555555555556, \"#d8576b\"], [0.6666666666666666, \"#ed7953\"], [0.7777777777777778, \"#fb9f3a\"], [0.8888888888888888, \"#fdca26\"], [1.0, \"#f0f921\"]]}, \"colorway\": [\"#636efa\", \"#EF553B\", \"#00cc96\", \"#ab63fa\", \"#FFA15A\", \"#19d3f3\", \"#FF6692\", \"#B6E880\", \"#FF97FF\", \"#FECB52\"], \"font\": {\"color\": \"#2a3f5f\"}, \"geo\": {\"bgcolor\": \"white\", \"lakecolor\": \"white\", \"landcolor\": \"#E5ECF6\", \"showlakes\": true, \"showland\": true, \"subunitcolor\": \"white\"}, \"hoverlabel\": {\"align\": \"left\"}, \"hovermode\": \"closest\", \"mapbox\": {\"style\": \"light\"}, \"paper_bgcolor\": \"white\", \"plot_bgcolor\": \"#E5ECF6\", \"polar\": {\"angularaxis\": {\"gridcolor\": \"white\", \"linecolor\": \"white\", \"ticks\": \"\"}, \"bgcolor\": \"#E5ECF6\", \"radialaxis\": {\"gridcolor\": \"white\", \"linecolor\": \"white\", \"ticks\": \"\"}}, \"scene\": {\"xaxis\": {\"backgroundcolor\": \"#E5ECF6\", \"gridcolor\": \"white\", \"gridwidth\": 2, \"linecolor\": \"white\", \"showbackground\": true, \"ticks\": \"\", \"zerolinecolor\": \"white\"}, \"yaxis\": {\"backgroundcolor\": \"#E5ECF6\", \"gridcolor\": \"white\", \"gridwidth\": 2, \"linecolor\": \"white\", \"showbackground\": true, \"ticks\": \"\", \"zerolinecolor\": \"white\"}, \"zaxis\": {\"backgroundcolor\": \"#E5ECF6\", \"gridcolor\": \"white\", \"gridwidth\": 2, \"linecolor\": \"white\", \"showbackground\": true, \"ticks\": \"\", \"zerolinecolor\": \"white\"}}, \"shapedefaults\": {\"line\": {\"color\": \"#2a3f5f\"}}, \"ternary\": {\"aaxis\": {\"gridcolor\": \"white\", \"linecolor\": \"white\", \"ticks\": \"\"}, \"baxis\": {\"gridcolor\": \"white\", \"linecolor\": \"white\", \"ticks\": \"\"}, \"bgcolor\": \"#E5ECF6\", \"caxis\": {\"gridcolor\": \"white\", \"linecolor\": \"white\", \"ticks\": \"\"}}, \"title\": {\"x\": 0.05}, \"xaxis\": {\"automargin\": true, \"gridcolor\": \"white\", \"linecolor\": \"white\", \"ticks\": \"\", \"title\": {\"standoff\": 15}, \"zerolinecolor\": \"white\", \"zerolinewidth\": 2}, \"yaxis\": {\"automargin\": true, \"gridcolor\": \"white\", \"linecolor\": \"white\", \"ticks\": \"\", \"title\": {\"standoff\": 15}, \"zerolinecolor\": \"white\", \"zerolinewidth\": 2}}}, \"title\": {\"text\": \"\\uc694\\uc77c\\ubcc4 \\ud560\\ubd80\\uacb0\\uc81c \\ube48\\ub3c4\\uc218\"}, \"xaxis\": {\"gridwidth\": 2, \"ticklen\": 5, \"title\": {\"text\": \" \"}, \"zeroline\": true}, \"yaxis\": {\"gridwidth\": 2, \"ticklen\": 5, \"title\": {\"text\": \"\\ube48\\ub3c4\\uc218\"}}},                        {\"responsive\": true}                    ).then(function(){\n",
       "                            \n",
       "var gd = document.getElementById('2f7e80b2-4498-4a1f-a839-a01f1bbca839');\n",
       "var x = new MutationObserver(function (mutations, observer) {{\n",
       "        var display = window.getComputedStyle(gd).display;\n",
       "        if (!display || display === 'none') {{\n",
       "            console.log([gd, 'removed!']);\n",
       "            Plotly.purge(gd);\n",
       "            observer.disconnect();\n",
       "        }}\n",
       "}});\n",
       "\n",
       "// Listen for the removal of the full notebook cells\n",
       "var notebookContainer = gd.closest('#notebook-container');\n",
       "if (notebookContainer) {{\n",
       "    x.observe(notebookContainer, {childList: true});\n",
       "}}\n",
       "\n",
       "// Listen for the clearing of the current output cell\n",
       "var outputEl = gd.closest('.output');\n",
       "if (outputEl) {{\n",
       "    x.observe(outputEl, {childList: true});\n",
       "}}\n",
       "\n",
       "                        })                };                });            </script>        </div>"
      ]
     },
     "metadata": {},
     "output_type": "display_data"
    }
   ],
   "source": [
    "data = [go.Scatter(x=installments_count_by_day[\"days_of_week\"], y=installments_count_by_day[\"빈도수\"], name=\"요일별 할부결제 빈도수\", marker_color=\"blue\", opacity = 0.6)]\n",
    "layout= go.Layout(title= \"요일별 할부결제 빈도수\", xaxis= dict(title=' ', ticklen=5, zeroline=True, gridwidth=2), yaxis= dict(title='빈도수', ticklen=5, gridwidth=2), showlegend=True)\n",
    "fig = go.Figure(data=data, layout=layout)\n",
    "py.iplot(fig, filename='요일별 할부결제 빈도수')"
   ]
  },
  {
   "cell_type": "code",
   "execution_count": 209,
   "metadata": {},
   "outputs": [
    {
     "data": {
      "text/html": [
       "<div>\n",
       "<style scoped>\n",
       "    .dataframe tbody tr th:only-of-type {\n",
       "        vertical-align: middle;\n",
       "    }\n",
       "\n",
       "    .dataframe tbody tr th {\n",
       "        vertical-align: top;\n",
       "    }\n",
       "\n",
       "    .dataframe thead th {\n",
       "        text-align: right;\n",
       "    }\n",
       "</style>\n",
       "<table border=\"1\" class=\"dataframe\">\n",
       "  <thead>\n",
       "    <tr style=\"text-align: right;\">\n",
       "      <th></th>\n",
       "      <th>hour</th>\n",
       "      <th>installments_amount_count</th>\n",
       "    </tr>\n",
       "  </thead>\n",
       "  <tbody>\n",
       "    <tr>\n",
       "      <th>0</th>\n",
       "      <td>0</td>\n",
       "      <td>108</td>\n",
       "    </tr>\n",
       "    <tr>\n",
       "      <th>1</th>\n",
       "      <td>1</td>\n",
       "      <td>119</td>\n",
       "    </tr>\n",
       "    <tr>\n",
       "      <th>2</th>\n",
       "      <td>2</td>\n",
       "      <td>94</td>\n",
       "    </tr>\n",
       "    <tr>\n",
       "      <th>3</th>\n",
       "      <td>3</td>\n",
       "      <td>65</td>\n",
       "    </tr>\n",
       "    <tr>\n",
       "      <th>4</th>\n",
       "      <td>4</td>\n",
       "      <td>31</td>\n",
       "    </tr>\n",
       "    <tr>\n",
       "      <th>5</th>\n",
       "      <td>5</td>\n",
       "      <td>14</td>\n",
       "    </tr>\n",
       "    <tr>\n",
       "      <th>6</th>\n",
       "      <td>6</td>\n",
       "      <td>54</td>\n",
       "    </tr>\n",
       "    <tr>\n",
       "      <th>7</th>\n",
       "      <td>7</td>\n",
       "      <td>60</td>\n",
       "    </tr>\n",
       "    <tr>\n",
       "      <th>8</th>\n",
       "      <td>8</td>\n",
       "      <td>76</td>\n",
       "    </tr>\n",
       "    <tr>\n",
       "      <th>9</th>\n",
       "      <td>9</td>\n",
       "      <td>282</td>\n",
       "    </tr>\n",
       "    <tr>\n",
       "      <th>10</th>\n",
       "      <td>10</td>\n",
       "      <td>544</td>\n",
       "    </tr>\n",
       "    <tr>\n",
       "      <th>11</th>\n",
       "      <td>11</td>\n",
       "      <td>822</td>\n",
       "    </tr>\n",
       "    <tr>\n",
       "      <th>12</th>\n",
       "      <td>12</td>\n",
       "      <td>1060</td>\n",
       "    </tr>\n",
       "    <tr>\n",
       "      <th>13</th>\n",
       "      <td>13</td>\n",
       "      <td>1245</td>\n",
       "    </tr>\n",
       "    <tr>\n",
       "      <th>14</th>\n",
       "      <td>14</td>\n",
       "      <td>1353</td>\n",
       "    </tr>\n",
       "    <tr>\n",
       "      <th>15</th>\n",
       "      <td>15</td>\n",
       "      <td>1514</td>\n",
       "    </tr>\n",
       "    <tr>\n",
       "      <th>16</th>\n",
       "      <td>16</td>\n",
       "      <td>1484</td>\n",
       "    </tr>\n",
       "    <tr>\n",
       "      <th>17</th>\n",
       "      <td>17</td>\n",
       "      <td>1417</td>\n",
       "    </tr>\n",
       "    <tr>\n",
       "      <th>18</th>\n",
       "      <td>18</td>\n",
       "      <td>1419</td>\n",
       "    </tr>\n",
       "    <tr>\n",
       "      <th>19</th>\n",
       "      <td>19</td>\n",
       "      <td>1386</td>\n",
       "    </tr>\n",
       "    <tr>\n",
       "      <th>20</th>\n",
       "      <td>20</td>\n",
       "      <td>1161</td>\n",
       "    </tr>\n",
       "    <tr>\n",
       "      <th>21</th>\n",
       "      <td>21</td>\n",
       "      <td>704</td>\n",
       "    </tr>\n",
       "    <tr>\n",
       "      <th>22</th>\n",
       "      <td>22</td>\n",
       "      <td>382</td>\n",
       "    </tr>\n",
       "    <tr>\n",
       "      <th>23</th>\n",
       "      <td>23</td>\n",
       "      <td>218</td>\n",
       "    </tr>\n",
       "  </tbody>\n",
       "</table>\n",
       "</div>"
      ],
      "text/plain": [
       "    hour  installments_amount_count\n",
       "0      0                        108\n",
       "1      1                        119\n",
       "2      2                         94\n",
       "3      3                         65\n",
       "4      4                         31\n",
       "5      5                         14\n",
       "6      6                         54\n",
       "7      7                         60\n",
       "8      8                         76\n",
       "9      9                        282\n",
       "10    10                        544\n",
       "11    11                        822\n",
       "12    12                       1060\n",
       "13    13                       1245\n",
       "14    14                       1353\n",
       "15    15                       1514\n",
       "16    16                       1484\n",
       "17    17                       1417\n",
       "18    18                       1419\n",
       "19    19                       1386\n",
       "20    20                       1161\n",
       "21    21                        704\n",
       "22    22                        382\n",
       "23    23                        218"
      ]
     },
     "execution_count": 209,
     "metadata": {},
     "output_type": "execute_result"
    }
   ],
   "source": [
    "installments1 = train[train['installments']==1]\n",
    "installments2 = train[train['installments']!=1]\n",
    "\n",
    "hourly_installments_count1 = installments1.groupby('hour')['amount'].size().reset_index(name=\"installments_amount_count\")\n",
    "hourly_installments_count2 = installments2.groupby('hour')['amount'].size().reset_index(name=\"installments_amount_count\")\n",
    "hourly_installments_count2"
   ]
  },
  {
   "cell_type": "code",
   "execution_count": 213,
   "metadata": {},
   "outputs": [
    {
     "data": {
      "application/vnd.plotly.v1+json": {
       "config": {
        "linkText": "Export to plot.ly",
        "plotlyServerURL": "https://plot.ly",
        "showLink": false
       },
       "data": [
        {
         "marker": {
          "color": "blue"
         },
         "name": "일시불",
         "type": "scatter",
         "x": [
          0,
          1,
          2,
          3,
          4,
          5,
          6,
          7,
          8,
          9,
          10,
          11,
          12,
          13,
          14,
          15,
          16,
          17,
          18,
          19,
          20,
          21,
          22,
          23
         ],
         "y": [
          69301,
          47017,
          30402,
          19218,
          11658,
          9890,
          13628,
          23289,
          42998,
          63164,
          78642,
          128469,
          346090,
          279455,
          199577,
          174007,
          173884,
          201959,
          268988,
          313679,
          292419,
          222796,
          159619,
          108358
         ]
        },
        {
         "marker": {
          "color": "red"
         },
         "name": "할부",
         "type": "scatter",
         "x": [
          0,
          1,
          2,
          3,
          4,
          5,
          6,
          7,
          8,
          9,
          10,
          11,
          12,
          13,
          14,
          15,
          16,
          17,
          18,
          19,
          20,
          21,
          22,
          23
         ],
         "y": [
          108,
          119,
          94,
          65,
          31,
          14,
          54,
          60,
          76,
          282,
          544,
          822,
          1060,
          1245,
          1353,
          1514,
          1484,
          1417,
          1419,
          1386,
          1161,
          704,
          382,
          218
         ]
        }
       ],
       "layout": {
        "showlegend": true,
        "template": {
         "data": {
          "bar": [
           {
            "error_x": {
             "color": "#2a3f5f"
            },
            "error_y": {
             "color": "#2a3f5f"
            },
            "marker": {
             "line": {
              "color": "#E5ECF6",
              "width": 0.5
             }
            },
            "type": "bar"
           }
          ],
          "barpolar": [
           {
            "marker": {
             "line": {
              "color": "#E5ECF6",
              "width": 0.5
             }
            },
            "type": "barpolar"
           }
          ],
          "carpet": [
           {
            "aaxis": {
             "endlinecolor": "#2a3f5f",
             "gridcolor": "white",
             "linecolor": "white",
             "minorgridcolor": "white",
             "startlinecolor": "#2a3f5f"
            },
            "baxis": {
             "endlinecolor": "#2a3f5f",
             "gridcolor": "white",
             "linecolor": "white",
             "minorgridcolor": "white",
             "startlinecolor": "#2a3f5f"
            },
            "type": "carpet"
           }
          ],
          "choropleth": [
           {
            "colorbar": {
             "outlinewidth": 0,
             "ticks": ""
            },
            "type": "choropleth"
           }
          ],
          "contour": [
           {
            "colorbar": {
             "outlinewidth": 0,
             "ticks": ""
            },
            "colorscale": [
             [
              0,
              "#0d0887"
             ],
             [
              0.1111111111111111,
              "#46039f"
             ],
             [
              0.2222222222222222,
              "#7201a8"
             ],
             [
              0.3333333333333333,
              "#9c179e"
             ],
             [
              0.4444444444444444,
              "#bd3786"
             ],
             [
              0.5555555555555556,
              "#d8576b"
             ],
             [
              0.6666666666666666,
              "#ed7953"
             ],
             [
              0.7777777777777778,
              "#fb9f3a"
             ],
             [
              0.8888888888888888,
              "#fdca26"
             ],
             [
              1,
              "#f0f921"
             ]
            ],
            "type": "contour"
           }
          ],
          "contourcarpet": [
           {
            "colorbar": {
             "outlinewidth": 0,
             "ticks": ""
            },
            "type": "contourcarpet"
           }
          ],
          "heatmap": [
           {
            "colorbar": {
             "outlinewidth": 0,
             "ticks": ""
            },
            "colorscale": [
             [
              0,
              "#0d0887"
             ],
             [
              0.1111111111111111,
              "#46039f"
             ],
             [
              0.2222222222222222,
              "#7201a8"
             ],
             [
              0.3333333333333333,
              "#9c179e"
             ],
             [
              0.4444444444444444,
              "#bd3786"
             ],
             [
              0.5555555555555556,
              "#d8576b"
             ],
             [
              0.6666666666666666,
              "#ed7953"
             ],
             [
              0.7777777777777778,
              "#fb9f3a"
             ],
             [
              0.8888888888888888,
              "#fdca26"
             ],
             [
              1,
              "#f0f921"
             ]
            ],
            "type": "heatmap"
           }
          ],
          "heatmapgl": [
           {
            "colorbar": {
             "outlinewidth": 0,
             "ticks": ""
            },
            "colorscale": [
             [
              0,
              "#0d0887"
             ],
             [
              0.1111111111111111,
              "#46039f"
             ],
             [
              0.2222222222222222,
              "#7201a8"
             ],
             [
              0.3333333333333333,
              "#9c179e"
             ],
             [
              0.4444444444444444,
              "#bd3786"
             ],
             [
              0.5555555555555556,
              "#d8576b"
             ],
             [
              0.6666666666666666,
              "#ed7953"
             ],
             [
              0.7777777777777778,
              "#fb9f3a"
             ],
             [
              0.8888888888888888,
              "#fdca26"
             ],
             [
              1,
              "#f0f921"
             ]
            ],
            "type": "heatmapgl"
           }
          ],
          "histogram": [
           {
            "marker": {
             "colorbar": {
              "outlinewidth": 0,
              "ticks": ""
             }
            },
            "type": "histogram"
           }
          ],
          "histogram2d": [
           {
            "colorbar": {
             "outlinewidth": 0,
             "ticks": ""
            },
            "colorscale": [
             [
              0,
              "#0d0887"
             ],
             [
              0.1111111111111111,
              "#46039f"
             ],
             [
              0.2222222222222222,
              "#7201a8"
             ],
             [
              0.3333333333333333,
              "#9c179e"
             ],
             [
              0.4444444444444444,
              "#bd3786"
             ],
             [
              0.5555555555555556,
              "#d8576b"
             ],
             [
              0.6666666666666666,
              "#ed7953"
             ],
             [
              0.7777777777777778,
              "#fb9f3a"
             ],
             [
              0.8888888888888888,
              "#fdca26"
             ],
             [
              1,
              "#f0f921"
             ]
            ],
            "type": "histogram2d"
           }
          ],
          "histogram2dcontour": [
           {
            "colorbar": {
             "outlinewidth": 0,
             "ticks": ""
            },
            "colorscale": [
             [
              0,
              "#0d0887"
             ],
             [
              0.1111111111111111,
              "#46039f"
             ],
             [
              0.2222222222222222,
              "#7201a8"
             ],
             [
              0.3333333333333333,
              "#9c179e"
             ],
             [
              0.4444444444444444,
              "#bd3786"
             ],
             [
              0.5555555555555556,
              "#d8576b"
             ],
             [
              0.6666666666666666,
              "#ed7953"
             ],
             [
              0.7777777777777778,
              "#fb9f3a"
             ],
             [
              0.8888888888888888,
              "#fdca26"
             ],
             [
              1,
              "#f0f921"
             ]
            ],
            "type": "histogram2dcontour"
           }
          ],
          "mesh3d": [
           {
            "colorbar": {
             "outlinewidth": 0,
             "ticks": ""
            },
            "type": "mesh3d"
           }
          ],
          "parcoords": [
           {
            "line": {
             "colorbar": {
              "outlinewidth": 0,
              "ticks": ""
             }
            },
            "type": "parcoords"
           }
          ],
          "pie": [
           {
            "automargin": true,
            "type": "pie"
           }
          ],
          "scatter": [
           {
            "marker": {
             "colorbar": {
              "outlinewidth": 0,
              "ticks": ""
             }
            },
            "type": "scatter"
           }
          ],
          "scatter3d": [
           {
            "line": {
             "colorbar": {
              "outlinewidth": 0,
              "ticks": ""
             }
            },
            "marker": {
             "colorbar": {
              "outlinewidth": 0,
              "ticks": ""
             }
            },
            "type": "scatter3d"
           }
          ],
          "scattercarpet": [
           {
            "marker": {
             "colorbar": {
              "outlinewidth": 0,
              "ticks": ""
             }
            },
            "type": "scattercarpet"
           }
          ],
          "scattergeo": [
           {
            "marker": {
             "colorbar": {
              "outlinewidth": 0,
              "ticks": ""
             }
            },
            "type": "scattergeo"
           }
          ],
          "scattergl": [
           {
            "marker": {
             "colorbar": {
              "outlinewidth": 0,
              "ticks": ""
             }
            },
            "type": "scattergl"
           }
          ],
          "scattermapbox": [
           {
            "marker": {
             "colorbar": {
              "outlinewidth": 0,
              "ticks": ""
             }
            },
            "type": "scattermapbox"
           }
          ],
          "scatterpolar": [
           {
            "marker": {
             "colorbar": {
              "outlinewidth": 0,
              "ticks": ""
             }
            },
            "type": "scatterpolar"
           }
          ],
          "scatterpolargl": [
           {
            "marker": {
             "colorbar": {
              "outlinewidth": 0,
              "ticks": ""
             }
            },
            "type": "scatterpolargl"
           }
          ],
          "scatterternary": [
           {
            "marker": {
             "colorbar": {
              "outlinewidth": 0,
              "ticks": ""
             }
            },
            "type": "scatterternary"
           }
          ],
          "surface": [
           {
            "colorbar": {
             "outlinewidth": 0,
             "ticks": ""
            },
            "colorscale": [
             [
              0,
              "#0d0887"
             ],
             [
              0.1111111111111111,
              "#46039f"
             ],
             [
              0.2222222222222222,
              "#7201a8"
             ],
             [
              0.3333333333333333,
              "#9c179e"
             ],
             [
              0.4444444444444444,
              "#bd3786"
             ],
             [
              0.5555555555555556,
              "#d8576b"
             ],
             [
              0.6666666666666666,
              "#ed7953"
             ],
             [
              0.7777777777777778,
              "#fb9f3a"
             ],
             [
              0.8888888888888888,
              "#fdca26"
             ],
             [
              1,
              "#f0f921"
             ]
            ],
            "type": "surface"
           }
          ],
          "table": [
           {
            "cells": {
             "fill": {
              "color": "#EBF0F8"
             },
             "line": {
              "color": "white"
             }
            },
            "header": {
             "fill": {
              "color": "#C8D4E3"
             },
             "line": {
              "color": "white"
             }
            },
            "type": "table"
           }
          ]
         },
         "layout": {
          "annotationdefaults": {
           "arrowcolor": "#2a3f5f",
           "arrowhead": 0,
           "arrowwidth": 1
          },
          "coloraxis": {
           "colorbar": {
            "outlinewidth": 0,
            "ticks": ""
           }
          },
          "colorscale": {
           "diverging": [
            [
             0,
             "#8e0152"
            ],
            [
             0.1,
             "#c51b7d"
            ],
            [
             0.2,
             "#de77ae"
            ],
            [
             0.3,
             "#f1b6da"
            ],
            [
             0.4,
             "#fde0ef"
            ],
            [
             0.5,
             "#f7f7f7"
            ],
            [
             0.6,
             "#e6f5d0"
            ],
            [
             0.7,
             "#b8e186"
            ],
            [
             0.8,
             "#7fbc41"
            ],
            [
             0.9,
             "#4d9221"
            ],
            [
             1,
             "#276419"
            ]
           ],
           "sequential": [
            [
             0,
             "#0d0887"
            ],
            [
             0.1111111111111111,
             "#46039f"
            ],
            [
             0.2222222222222222,
             "#7201a8"
            ],
            [
             0.3333333333333333,
             "#9c179e"
            ],
            [
             0.4444444444444444,
             "#bd3786"
            ],
            [
             0.5555555555555556,
             "#d8576b"
            ],
            [
             0.6666666666666666,
             "#ed7953"
            ],
            [
             0.7777777777777778,
             "#fb9f3a"
            ],
            [
             0.8888888888888888,
             "#fdca26"
            ],
            [
             1,
             "#f0f921"
            ]
           ],
           "sequentialminus": [
            [
             0,
             "#0d0887"
            ],
            [
             0.1111111111111111,
             "#46039f"
            ],
            [
             0.2222222222222222,
             "#7201a8"
            ],
            [
             0.3333333333333333,
             "#9c179e"
            ],
            [
             0.4444444444444444,
             "#bd3786"
            ],
            [
             0.5555555555555556,
             "#d8576b"
            ],
            [
             0.6666666666666666,
             "#ed7953"
            ],
            [
             0.7777777777777778,
             "#fb9f3a"
            ],
            [
             0.8888888888888888,
             "#fdca26"
            ],
            [
             1,
             "#f0f921"
            ]
           ]
          },
          "colorway": [
           "#636efa",
           "#EF553B",
           "#00cc96",
           "#ab63fa",
           "#FFA15A",
           "#19d3f3",
           "#FF6692",
           "#B6E880",
           "#FF97FF",
           "#FECB52"
          ],
          "font": {
           "color": "#2a3f5f"
          },
          "geo": {
           "bgcolor": "white",
           "lakecolor": "white",
           "landcolor": "#E5ECF6",
           "showlakes": true,
           "showland": true,
           "subunitcolor": "white"
          },
          "hoverlabel": {
           "align": "left"
          },
          "hovermode": "closest",
          "mapbox": {
           "style": "light"
          },
          "paper_bgcolor": "white",
          "plot_bgcolor": "#E5ECF6",
          "polar": {
           "angularaxis": {
            "gridcolor": "white",
            "linecolor": "white",
            "ticks": ""
           },
           "bgcolor": "#E5ECF6",
           "radialaxis": {
            "gridcolor": "white",
            "linecolor": "white",
            "ticks": ""
           }
          },
          "scene": {
           "xaxis": {
            "backgroundcolor": "#E5ECF6",
            "gridcolor": "white",
            "gridwidth": 2,
            "linecolor": "white",
            "showbackground": true,
            "ticks": "",
            "zerolinecolor": "white"
           },
           "yaxis": {
            "backgroundcolor": "#E5ECF6",
            "gridcolor": "white",
            "gridwidth": 2,
            "linecolor": "white",
            "showbackground": true,
            "ticks": "",
            "zerolinecolor": "white"
           },
           "zaxis": {
            "backgroundcolor": "#E5ECF6",
            "gridcolor": "white",
            "gridwidth": 2,
            "linecolor": "white",
            "showbackground": true,
            "ticks": "",
            "zerolinecolor": "white"
           }
          },
          "shapedefaults": {
           "line": {
            "color": "#2a3f5f"
           }
          },
          "ternary": {
           "aaxis": {
            "gridcolor": "white",
            "linecolor": "white",
            "ticks": ""
           },
           "baxis": {
            "gridcolor": "white",
            "linecolor": "white",
            "ticks": ""
           },
           "bgcolor": "#E5ECF6",
           "caxis": {
            "gridcolor": "white",
            "linecolor": "white",
            "ticks": ""
           }
          },
          "title": {
           "x": 0.05
          },
          "xaxis": {
           "automargin": true,
           "gridcolor": "white",
           "linecolor": "white",
           "ticks": "",
           "title": {
            "standoff": 15
           },
           "zerolinecolor": "white",
           "zerolinewidth": 2
          },
          "yaxis": {
           "automargin": true,
           "gridcolor": "white",
           "linecolor": "white",
           "ticks": "",
           "title": {
            "standoff": 15
           },
           "zerolinecolor": "white",
           "zerolinewidth": 2
          }
         }
        },
        "title": {
         "text": "시간대 일시불-할부 거래 횟수"
        },
        "xaxis": {
         "gridwidth": 2,
         "ticklen": 5,
         "title": {
          "text": " "
         },
         "zeroline": true
        },
        "yaxis": {
         "gridwidth": 2,
         "ticklen": 5,
         "title": {
          "text": "구매 횟수"
         }
        }
       }
      },
      "text/html": [
       "<div>                            <div id=\"87292b91-a9a3-4510-ac4f-986da3ff6aab\" class=\"plotly-graph-div\" style=\"height:525px; width:100%;\"></div>            <script type=\"text/javascript\">                require([\"plotly\"], function(Plotly) {                    window.PLOTLYENV=window.PLOTLYENV || {};                                    if (document.getElementById(\"87292b91-a9a3-4510-ac4f-986da3ff6aab\")) {                    Plotly.newPlot(                        \"87292b91-a9a3-4510-ac4f-986da3ff6aab\",                        [{\"marker\": {\"color\": \"blue\"}, \"name\": \"\\uc77c\\uc2dc\\ubd88\", \"type\": \"scatter\", \"x\": [0, 1, 2, 3, 4, 5, 6, 7, 8, 9, 10, 11, 12, 13, 14, 15, 16, 17, 18, 19, 20, 21, 22, 23], \"y\": [69301, 47017, 30402, 19218, 11658, 9890, 13628, 23289, 42998, 63164, 78642, 128469, 346090, 279455, 199577, 174007, 173884, 201959, 268988, 313679, 292419, 222796, 159619, 108358]}, {\"marker\": {\"color\": \"red\"}, \"name\": \"\\ud560\\ubd80\", \"type\": \"scatter\", \"x\": [0, 1, 2, 3, 4, 5, 6, 7, 8, 9, 10, 11, 12, 13, 14, 15, 16, 17, 18, 19, 20, 21, 22, 23], \"y\": [108, 119, 94, 65, 31, 14, 54, 60, 76, 282, 544, 822, 1060, 1245, 1353, 1514, 1484, 1417, 1419, 1386, 1161, 704, 382, 218]}],                        {\"showlegend\": true, \"template\": {\"data\": {\"bar\": [{\"error_x\": {\"color\": \"#2a3f5f\"}, \"error_y\": {\"color\": \"#2a3f5f\"}, \"marker\": {\"line\": {\"color\": \"#E5ECF6\", \"width\": 0.5}}, \"type\": \"bar\"}], \"barpolar\": [{\"marker\": {\"line\": {\"color\": \"#E5ECF6\", \"width\": 0.5}}, \"type\": \"barpolar\"}], \"carpet\": [{\"aaxis\": {\"endlinecolor\": \"#2a3f5f\", \"gridcolor\": \"white\", \"linecolor\": \"white\", \"minorgridcolor\": \"white\", \"startlinecolor\": \"#2a3f5f\"}, \"baxis\": {\"endlinecolor\": \"#2a3f5f\", \"gridcolor\": \"white\", \"linecolor\": \"white\", \"minorgridcolor\": \"white\", \"startlinecolor\": \"#2a3f5f\"}, \"type\": \"carpet\"}], \"choropleth\": [{\"colorbar\": {\"outlinewidth\": 0, \"ticks\": \"\"}, \"type\": \"choropleth\"}], \"contour\": [{\"colorbar\": {\"outlinewidth\": 0, \"ticks\": \"\"}, \"colorscale\": [[0.0, \"#0d0887\"], [0.1111111111111111, \"#46039f\"], [0.2222222222222222, \"#7201a8\"], [0.3333333333333333, \"#9c179e\"], [0.4444444444444444, \"#bd3786\"], [0.5555555555555556, \"#d8576b\"], [0.6666666666666666, \"#ed7953\"], [0.7777777777777778, \"#fb9f3a\"], [0.8888888888888888, \"#fdca26\"], [1.0, \"#f0f921\"]], \"type\": \"contour\"}], \"contourcarpet\": [{\"colorbar\": {\"outlinewidth\": 0, \"ticks\": \"\"}, \"type\": \"contourcarpet\"}], \"heatmap\": [{\"colorbar\": {\"outlinewidth\": 0, \"ticks\": \"\"}, \"colorscale\": [[0.0, \"#0d0887\"], [0.1111111111111111, \"#46039f\"], [0.2222222222222222, \"#7201a8\"], [0.3333333333333333, \"#9c179e\"], [0.4444444444444444, \"#bd3786\"], [0.5555555555555556, \"#d8576b\"], [0.6666666666666666, \"#ed7953\"], [0.7777777777777778, \"#fb9f3a\"], [0.8888888888888888, \"#fdca26\"], [1.0, \"#f0f921\"]], \"type\": \"heatmap\"}], \"heatmapgl\": [{\"colorbar\": {\"outlinewidth\": 0, \"ticks\": \"\"}, \"colorscale\": [[0.0, \"#0d0887\"], [0.1111111111111111, \"#46039f\"], [0.2222222222222222, \"#7201a8\"], [0.3333333333333333, \"#9c179e\"], [0.4444444444444444, \"#bd3786\"], [0.5555555555555556, \"#d8576b\"], [0.6666666666666666, \"#ed7953\"], [0.7777777777777778, \"#fb9f3a\"], [0.8888888888888888, \"#fdca26\"], [1.0, \"#f0f921\"]], \"type\": \"heatmapgl\"}], \"histogram\": [{\"marker\": {\"colorbar\": {\"outlinewidth\": 0, \"ticks\": \"\"}}, \"type\": \"histogram\"}], \"histogram2d\": [{\"colorbar\": {\"outlinewidth\": 0, \"ticks\": \"\"}, \"colorscale\": [[0.0, \"#0d0887\"], [0.1111111111111111, \"#46039f\"], [0.2222222222222222, \"#7201a8\"], [0.3333333333333333, \"#9c179e\"], [0.4444444444444444, \"#bd3786\"], [0.5555555555555556, \"#d8576b\"], [0.6666666666666666, \"#ed7953\"], [0.7777777777777778, \"#fb9f3a\"], [0.8888888888888888, \"#fdca26\"], [1.0, \"#f0f921\"]], \"type\": \"histogram2d\"}], \"histogram2dcontour\": [{\"colorbar\": {\"outlinewidth\": 0, \"ticks\": \"\"}, \"colorscale\": [[0.0, \"#0d0887\"], [0.1111111111111111, \"#46039f\"], [0.2222222222222222, \"#7201a8\"], [0.3333333333333333, \"#9c179e\"], [0.4444444444444444, \"#bd3786\"], [0.5555555555555556, \"#d8576b\"], [0.6666666666666666, \"#ed7953\"], [0.7777777777777778, \"#fb9f3a\"], [0.8888888888888888, \"#fdca26\"], [1.0, \"#f0f921\"]], \"type\": \"histogram2dcontour\"}], \"mesh3d\": [{\"colorbar\": {\"outlinewidth\": 0, \"ticks\": \"\"}, \"type\": \"mesh3d\"}], \"parcoords\": [{\"line\": {\"colorbar\": {\"outlinewidth\": 0, \"ticks\": \"\"}}, \"type\": \"parcoords\"}], \"pie\": [{\"automargin\": true, \"type\": \"pie\"}], \"scatter\": [{\"marker\": {\"colorbar\": {\"outlinewidth\": 0, \"ticks\": \"\"}}, \"type\": \"scatter\"}], \"scatter3d\": [{\"line\": {\"colorbar\": {\"outlinewidth\": 0, \"ticks\": \"\"}}, \"marker\": {\"colorbar\": {\"outlinewidth\": 0, \"ticks\": \"\"}}, \"type\": \"scatter3d\"}], \"scattercarpet\": [{\"marker\": {\"colorbar\": {\"outlinewidth\": 0, \"ticks\": \"\"}}, \"type\": \"scattercarpet\"}], \"scattergeo\": [{\"marker\": {\"colorbar\": {\"outlinewidth\": 0, \"ticks\": \"\"}}, \"type\": \"scattergeo\"}], \"scattergl\": [{\"marker\": {\"colorbar\": {\"outlinewidth\": 0, \"ticks\": \"\"}}, \"type\": \"scattergl\"}], \"scattermapbox\": [{\"marker\": {\"colorbar\": {\"outlinewidth\": 0, \"ticks\": \"\"}}, \"type\": \"scattermapbox\"}], \"scatterpolar\": [{\"marker\": {\"colorbar\": {\"outlinewidth\": 0, \"ticks\": \"\"}}, \"type\": \"scatterpolar\"}], \"scatterpolargl\": [{\"marker\": {\"colorbar\": {\"outlinewidth\": 0, \"ticks\": \"\"}}, \"type\": \"scatterpolargl\"}], \"scatterternary\": [{\"marker\": {\"colorbar\": {\"outlinewidth\": 0, \"ticks\": \"\"}}, \"type\": \"scatterternary\"}], \"surface\": [{\"colorbar\": {\"outlinewidth\": 0, \"ticks\": \"\"}, \"colorscale\": [[0.0, \"#0d0887\"], [0.1111111111111111, \"#46039f\"], [0.2222222222222222, \"#7201a8\"], [0.3333333333333333, \"#9c179e\"], [0.4444444444444444, \"#bd3786\"], [0.5555555555555556, \"#d8576b\"], [0.6666666666666666, \"#ed7953\"], [0.7777777777777778, \"#fb9f3a\"], [0.8888888888888888, \"#fdca26\"], [1.0, \"#f0f921\"]], \"type\": \"surface\"}], \"table\": [{\"cells\": {\"fill\": {\"color\": \"#EBF0F8\"}, \"line\": {\"color\": \"white\"}}, \"header\": {\"fill\": {\"color\": \"#C8D4E3\"}, \"line\": {\"color\": \"white\"}}, \"type\": \"table\"}]}, \"layout\": {\"annotationdefaults\": {\"arrowcolor\": \"#2a3f5f\", \"arrowhead\": 0, \"arrowwidth\": 1}, \"coloraxis\": {\"colorbar\": {\"outlinewidth\": 0, \"ticks\": \"\"}}, \"colorscale\": {\"diverging\": [[0, \"#8e0152\"], [0.1, \"#c51b7d\"], [0.2, \"#de77ae\"], [0.3, \"#f1b6da\"], [0.4, \"#fde0ef\"], [0.5, \"#f7f7f7\"], [0.6, \"#e6f5d0\"], [0.7, \"#b8e186\"], [0.8, \"#7fbc41\"], [0.9, \"#4d9221\"], [1, \"#276419\"]], \"sequential\": [[0.0, \"#0d0887\"], [0.1111111111111111, \"#46039f\"], [0.2222222222222222, \"#7201a8\"], [0.3333333333333333, \"#9c179e\"], [0.4444444444444444, \"#bd3786\"], [0.5555555555555556, \"#d8576b\"], [0.6666666666666666, \"#ed7953\"], [0.7777777777777778, \"#fb9f3a\"], [0.8888888888888888, \"#fdca26\"], [1.0, \"#f0f921\"]], \"sequentialminus\": [[0.0, \"#0d0887\"], [0.1111111111111111, \"#46039f\"], [0.2222222222222222, \"#7201a8\"], [0.3333333333333333, \"#9c179e\"], [0.4444444444444444, \"#bd3786\"], [0.5555555555555556, \"#d8576b\"], [0.6666666666666666, \"#ed7953\"], [0.7777777777777778, \"#fb9f3a\"], [0.8888888888888888, \"#fdca26\"], [1.0, \"#f0f921\"]]}, \"colorway\": [\"#636efa\", \"#EF553B\", \"#00cc96\", \"#ab63fa\", \"#FFA15A\", \"#19d3f3\", \"#FF6692\", \"#B6E880\", \"#FF97FF\", \"#FECB52\"], \"font\": {\"color\": \"#2a3f5f\"}, \"geo\": {\"bgcolor\": \"white\", \"lakecolor\": \"white\", \"landcolor\": \"#E5ECF6\", \"showlakes\": true, \"showland\": true, \"subunitcolor\": \"white\"}, \"hoverlabel\": {\"align\": \"left\"}, \"hovermode\": \"closest\", \"mapbox\": {\"style\": \"light\"}, \"paper_bgcolor\": \"white\", \"plot_bgcolor\": \"#E5ECF6\", \"polar\": {\"angularaxis\": {\"gridcolor\": \"white\", \"linecolor\": \"white\", \"ticks\": \"\"}, \"bgcolor\": \"#E5ECF6\", \"radialaxis\": {\"gridcolor\": \"white\", \"linecolor\": \"white\", \"ticks\": \"\"}}, \"scene\": {\"xaxis\": {\"backgroundcolor\": \"#E5ECF6\", \"gridcolor\": \"white\", \"gridwidth\": 2, \"linecolor\": \"white\", \"showbackground\": true, \"ticks\": \"\", \"zerolinecolor\": \"white\"}, \"yaxis\": {\"backgroundcolor\": \"#E5ECF6\", \"gridcolor\": \"white\", \"gridwidth\": 2, \"linecolor\": \"white\", \"showbackground\": true, \"ticks\": \"\", \"zerolinecolor\": \"white\"}, \"zaxis\": {\"backgroundcolor\": \"#E5ECF6\", \"gridcolor\": \"white\", \"gridwidth\": 2, \"linecolor\": \"white\", \"showbackground\": true, \"ticks\": \"\", \"zerolinecolor\": \"white\"}}, \"shapedefaults\": {\"line\": {\"color\": \"#2a3f5f\"}}, \"ternary\": {\"aaxis\": {\"gridcolor\": \"white\", \"linecolor\": \"white\", \"ticks\": \"\"}, \"baxis\": {\"gridcolor\": \"white\", \"linecolor\": \"white\", \"ticks\": \"\"}, \"bgcolor\": \"#E5ECF6\", \"caxis\": {\"gridcolor\": \"white\", \"linecolor\": \"white\", \"ticks\": \"\"}}, \"title\": {\"x\": 0.05}, \"xaxis\": {\"automargin\": true, \"gridcolor\": \"white\", \"linecolor\": \"white\", \"ticks\": \"\", \"title\": {\"standoff\": 15}, \"zerolinecolor\": \"white\", \"zerolinewidth\": 2}, \"yaxis\": {\"automargin\": true, \"gridcolor\": \"white\", \"linecolor\": \"white\", \"ticks\": \"\", \"title\": {\"standoff\": 15}, \"zerolinecolor\": \"white\", \"zerolinewidth\": 2}}}, \"title\": {\"text\": \"\\uc2dc\\uac04\\ub300 \\uc77c\\uc2dc\\ubd88-\\ud560\\ubd80 \\uac70\\ub798 \\ud69f\\uc218\"}, \"xaxis\": {\"gridwidth\": 2, \"ticklen\": 5, \"title\": {\"text\": \" \"}, \"zeroline\": true}, \"yaxis\": {\"gridwidth\": 2, \"ticklen\": 5, \"title\": {\"text\": \"\\uad6c\\ub9e4 \\ud69f\\uc218\"}}},                        {\"responsive\": true}                    ).then(function(){\n",
       "                            \n",
       "var gd = document.getElementById('87292b91-a9a3-4510-ac4f-986da3ff6aab');\n",
       "var x = new MutationObserver(function (mutations, observer) {{\n",
       "        var display = window.getComputedStyle(gd).display;\n",
       "        if (!display || display === 'none') {{\n",
       "            console.log([gd, 'removed!']);\n",
       "            Plotly.purge(gd);\n",
       "            observer.disconnect();\n",
       "        }}\n",
       "}});\n",
       "\n",
       "// Listen for the removal of the full notebook cells\n",
       "var notebookContainer = gd.closest('#notebook-container');\n",
       "if (notebookContainer) {{\n",
       "    x.observe(notebookContainer, {childList: true});\n",
       "}}\n",
       "\n",
       "// Listen for the clearing of the current output cell\n",
       "var outputEl = gd.closest('.output');\n",
       "if (outputEl) {{\n",
       "    x.observe(outputEl, {childList: true});\n",
       "}}\n",
       "\n",
       "                        })                };                });            </script>        </div>"
      ]
     },
     "metadata": {},
     "output_type": "display_data"
    }
   ],
   "source": [
    "data = [go.Scatter(x=hourly_installments_count1[\"hour\"], y=hourly_installments_count1[\"installments_amount_count\"], name=\"일시불\", marker_color=\"blue\"),\n",
    "       go.Scatter(x=hourly_installments_count2[\"hour\"], y=hourly_installments_count2[\"installments_amount_count\"], name=\"할부\", marker_color=\"red\")]\n",
    "layout= go.Layout(title= \"시간대 일시불-할부 거래 횟수\", xaxis= dict(title=' ', ticklen=5, zeroline=True, gridwidth=2), yaxis= dict(title='구매 횟수', ticklen=5, gridwidth=2), showlegend=True)\n",
    "fig = go.Figure(data=data, layout=layout)\n",
    "py.iplot(fig, filename='시간대 일시불-할부 거래 횟수')"
   ]
  },
  {
   "cell_type": "code",
   "execution_count": 204,
   "metadata": {},
   "outputs": [
    {
     "data": {
      "text/html": [
       "<div>\n",
       "<style scoped>\n",
       "    .dataframe tbody tr th:only-of-type {\n",
       "        vertical-align: middle;\n",
       "    }\n",
       "\n",
       "    .dataframe tbody tr th {\n",
       "        vertical-align: top;\n",
       "    }\n",
       "\n",
       "    .dataframe thead th {\n",
       "        text-align: right;\n",
       "    }\n",
       "</style>\n",
       "<table border=\"1\" class=\"dataframe\">\n",
       "  <thead>\n",
       "    <tr style=\"text-align: right;\">\n",
       "      <th></th>\n",
       "      <th>hour</th>\n",
       "      <th>installments_amount_mean</th>\n",
       "    </tr>\n",
       "  </thead>\n",
       "  <tbody>\n",
       "    <tr>\n",
       "      <th>0</th>\n",
       "      <td>0</td>\n",
       "      <td>1985.027778</td>\n",
       "    </tr>\n",
       "    <tr>\n",
       "      <th>1</th>\n",
       "      <td>1</td>\n",
       "      <td>1669.949580</td>\n",
       "    </tr>\n",
       "    <tr>\n",
       "      <th>2</th>\n",
       "      <td>2</td>\n",
       "      <td>1283.585106</td>\n",
       "    </tr>\n",
       "    <tr>\n",
       "      <th>3</th>\n",
       "      <td>3</td>\n",
       "      <td>1503.307692</td>\n",
       "    </tr>\n",
       "    <tr>\n",
       "      <th>4</th>\n",
       "      <td>4</td>\n",
       "      <td>1098.483871</td>\n",
       "    </tr>\n",
       "    <tr>\n",
       "      <th>5</th>\n",
       "      <td>5</td>\n",
       "      <td>836.000000</td>\n",
       "    </tr>\n",
       "    <tr>\n",
       "      <th>6</th>\n",
       "      <td>6</td>\n",
       "      <td>718.240741</td>\n",
       "    </tr>\n",
       "    <tr>\n",
       "      <th>7</th>\n",
       "      <td>7</td>\n",
       "      <td>952.566667</td>\n",
       "    </tr>\n",
       "    <tr>\n",
       "      <th>8</th>\n",
       "      <td>8</td>\n",
       "      <td>1267.342105</td>\n",
       "    </tr>\n",
       "    <tr>\n",
       "      <th>9</th>\n",
       "      <td>9</td>\n",
       "      <td>2688.131206</td>\n",
       "    </tr>\n",
       "    <tr>\n",
       "      <th>10</th>\n",
       "      <td>10</td>\n",
       "      <td>2350.264706</td>\n",
       "    </tr>\n",
       "    <tr>\n",
       "      <th>11</th>\n",
       "      <td>11</td>\n",
       "      <td>2285.858881</td>\n",
       "    </tr>\n",
       "    <tr>\n",
       "      <th>12</th>\n",
       "      <td>12</td>\n",
       "      <td>1969.683962</td>\n",
       "    </tr>\n",
       "    <tr>\n",
       "      <th>13</th>\n",
       "      <td>13</td>\n",
       "      <td>1878.405622</td>\n",
       "    </tr>\n",
       "    <tr>\n",
       "      <th>14</th>\n",
       "      <td>14</td>\n",
       "      <td>1791.256467</td>\n",
       "    </tr>\n",
       "    <tr>\n",
       "      <th>15</th>\n",
       "      <td>15</td>\n",
       "      <td>1995.863937</td>\n",
       "    </tr>\n",
       "    <tr>\n",
       "      <th>16</th>\n",
       "      <td>16</td>\n",
       "      <td>1830.108491</td>\n",
       "    </tr>\n",
       "    <tr>\n",
       "      <th>17</th>\n",
       "      <td>17</td>\n",
       "      <td>1879.734651</td>\n",
       "    </tr>\n",
       "    <tr>\n",
       "      <th>18</th>\n",
       "      <td>18</td>\n",
       "      <td>1583.629316</td>\n",
       "    </tr>\n",
       "    <tr>\n",
       "      <th>19</th>\n",
       "      <td>19</td>\n",
       "      <td>1579.321068</td>\n",
       "    </tr>\n",
       "    <tr>\n",
       "      <th>20</th>\n",
       "      <td>20</td>\n",
       "      <td>1300.507321</td>\n",
       "    </tr>\n",
       "    <tr>\n",
       "      <th>21</th>\n",
       "      <td>21</td>\n",
       "      <td>1384.850852</td>\n",
       "    </tr>\n",
       "    <tr>\n",
       "      <th>22</th>\n",
       "      <td>22</td>\n",
       "      <td>1827.125654</td>\n",
       "    </tr>\n",
       "    <tr>\n",
       "      <th>23</th>\n",
       "      <td>23</td>\n",
       "      <td>1644.009174</td>\n",
       "    </tr>\n",
       "  </tbody>\n",
       "</table>\n",
       "</div>"
      ],
      "text/plain": [
       "    hour  installments_amount_mean\n",
       "0      0               1985.027778\n",
       "1      1               1669.949580\n",
       "2      2               1283.585106\n",
       "3      3               1503.307692\n",
       "4      4               1098.483871\n",
       "5      5                836.000000\n",
       "6      6                718.240741\n",
       "7      7                952.566667\n",
       "8      8               1267.342105\n",
       "9      9               2688.131206\n",
       "10    10               2350.264706\n",
       "11    11               2285.858881\n",
       "12    12               1969.683962\n",
       "13    13               1878.405622\n",
       "14    14               1791.256467\n",
       "15    15               1995.863937\n",
       "16    16               1830.108491\n",
       "17    17               1879.734651\n",
       "18    18               1583.629316\n",
       "19    19               1579.321068\n",
       "20    20               1300.507321\n",
       "21    21               1384.850852\n",
       "22    22               1827.125654\n",
       "23    23               1644.009174"
      ]
     },
     "execution_count": 204,
     "metadata": {},
     "output_type": "execute_result"
    }
   ],
   "source": [
    "hourly_installments_mean1 = installments1.groupby('hour')['amount'].mean().reset_index(name=\"installments_amount_mean\")\n",
    "hourly_installments_mean2 = installments2.groupby('hour')['amount'].mean().reset_index(name=\"installments_amount_mean\")\n",
    "hourly_installments_mean2"
   ]
  },
  {
   "cell_type": "code",
   "execution_count": 205,
   "metadata": {},
   "outputs": [
    {
     "data": {
      "application/vnd.plotly.v1+json": {
       "config": {
        "linkText": "Export to plot.ly",
        "plotlyServerURL": "https://plot.ly",
        "showLink": false
       },
       "data": [
        {
         "marker": {
          "color": "blue"
         },
         "name": "일시불",
         "type": "scatter",
         "x": [
          0,
          1,
          2,
          3,
          4,
          5,
          6,
          7,
          8,
          9,
          10,
          11,
          12,
          13,
          14,
          15,
          16,
          17,
          18,
          19,
          20,
          21,
          22,
          23
         ],
         "y": [
          198.835139464077,
          207.29266010166535,
          208.48181040721005,
          193.4013424914143,
          168.02796363012524,
          139.0779575328615,
          136.01056648077488,
          110.33831422560007,
          93.37134285315597,
          108.8522576150972,
          129.55957376465503,
          127.60778086542278,
          112.8040596376665,
          116.84196024404645,
          129.17466441523823,
          133.83255846029184,
          132.50416944629754,
          129.19433647423486,
          128.63668639493213,
          145.24044006771254,
          170.4548712634952,
          170.336033860572,
          165.06890783678634,
          181.08555898041678
         ]
        },
        {
         "marker": {
          "color": "red"
         },
         "name": "할부",
         "type": "scatter",
         "x": [
          0,
          1,
          2,
          3,
          4,
          5,
          6,
          7,
          8,
          9,
          10,
          11,
          12,
          13,
          14,
          15,
          16,
          17,
          18,
          19,
          20,
          21,
          22,
          23
         ],
         "y": [
          1985.0277777777778,
          1669.9495798319329,
          1283.5851063829787,
          1503.3076923076924,
          1098.483870967742,
          836,
          718.2407407407408,
          952.5666666666667,
          1267.342105263158,
          2688.131205673759,
          2350.264705882353,
          2285.8588807785886,
          1969.683962264151,
          1878.4056224899598,
          1791.2564671101256,
          1995.8639365918098,
          1830.1084905660377,
          1879.7346506704305,
          1583.629316420014,
          1579.3210678210678,
          1300.5073212747632,
          1384.8508522727273,
          1827.125654450262,
          1644.0091743119267
         ]
        }
       ],
       "layout": {
        "showlegend": true,
        "template": {
         "data": {
          "bar": [
           {
            "error_x": {
             "color": "#2a3f5f"
            },
            "error_y": {
             "color": "#2a3f5f"
            },
            "marker": {
             "line": {
              "color": "#E5ECF6",
              "width": 0.5
             }
            },
            "type": "bar"
           }
          ],
          "barpolar": [
           {
            "marker": {
             "line": {
              "color": "#E5ECF6",
              "width": 0.5
             }
            },
            "type": "barpolar"
           }
          ],
          "carpet": [
           {
            "aaxis": {
             "endlinecolor": "#2a3f5f",
             "gridcolor": "white",
             "linecolor": "white",
             "minorgridcolor": "white",
             "startlinecolor": "#2a3f5f"
            },
            "baxis": {
             "endlinecolor": "#2a3f5f",
             "gridcolor": "white",
             "linecolor": "white",
             "minorgridcolor": "white",
             "startlinecolor": "#2a3f5f"
            },
            "type": "carpet"
           }
          ],
          "choropleth": [
           {
            "colorbar": {
             "outlinewidth": 0,
             "ticks": ""
            },
            "type": "choropleth"
           }
          ],
          "contour": [
           {
            "colorbar": {
             "outlinewidth": 0,
             "ticks": ""
            },
            "colorscale": [
             [
              0,
              "#0d0887"
             ],
             [
              0.1111111111111111,
              "#46039f"
             ],
             [
              0.2222222222222222,
              "#7201a8"
             ],
             [
              0.3333333333333333,
              "#9c179e"
             ],
             [
              0.4444444444444444,
              "#bd3786"
             ],
             [
              0.5555555555555556,
              "#d8576b"
             ],
             [
              0.6666666666666666,
              "#ed7953"
             ],
             [
              0.7777777777777778,
              "#fb9f3a"
             ],
             [
              0.8888888888888888,
              "#fdca26"
             ],
             [
              1,
              "#f0f921"
             ]
            ],
            "type": "contour"
           }
          ],
          "contourcarpet": [
           {
            "colorbar": {
             "outlinewidth": 0,
             "ticks": ""
            },
            "type": "contourcarpet"
           }
          ],
          "heatmap": [
           {
            "colorbar": {
             "outlinewidth": 0,
             "ticks": ""
            },
            "colorscale": [
             [
              0,
              "#0d0887"
             ],
             [
              0.1111111111111111,
              "#46039f"
             ],
             [
              0.2222222222222222,
              "#7201a8"
             ],
             [
              0.3333333333333333,
              "#9c179e"
             ],
             [
              0.4444444444444444,
              "#bd3786"
             ],
             [
              0.5555555555555556,
              "#d8576b"
             ],
             [
              0.6666666666666666,
              "#ed7953"
             ],
             [
              0.7777777777777778,
              "#fb9f3a"
             ],
             [
              0.8888888888888888,
              "#fdca26"
             ],
             [
              1,
              "#f0f921"
             ]
            ],
            "type": "heatmap"
           }
          ],
          "heatmapgl": [
           {
            "colorbar": {
             "outlinewidth": 0,
             "ticks": ""
            },
            "colorscale": [
             [
              0,
              "#0d0887"
             ],
             [
              0.1111111111111111,
              "#46039f"
             ],
             [
              0.2222222222222222,
              "#7201a8"
             ],
             [
              0.3333333333333333,
              "#9c179e"
             ],
             [
              0.4444444444444444,
              "#bd3786"
             ],
             [
              0.5555555555555556,
              "#d8576b"
             ],
             [
              0.6666666666666666,
              "#ed7953"
             ],
             [
              0.7777777777777778,
              "#fb9f3a"
             ],
             [
              0.8888888888888888,
              "#fdca26"
             ],
             [
              1,
              "#f0f921"
             ]
            ],
            "type": "heatmapgl"
           }
          ],
          "histogram": [
           {
            "marker": {
             "colorbar": {
              "outlinewidth": 0,
              "ticks": ""
             }
            },
            "type": "histogram"
           }
          ],
          "histogram2d": [
           {
            "colorbar": {
             "outlinewidth": 0,
             "ticks": ""
            },
            "colorscale": [
             [
              0,
              "#0d0887"
             ],
             [
              0.1111111111111111,
              "#46039f"
             ],
             [
              0.2222222222222222,
              "#7201a8"
             ],
             [
              0.3333333333333333,
              "#9c179e"
             ],
             [
              0.4444444444444444,
              "#bd3786"
             ],
             [
              0.5555555555555556,
              "#d8576b"
             ],
             [
              0.6666666666666666,
              "#ed7953"
             ],
             [
              0.7777777777777778,
              "#fb9f3a"
             ],
             [
              0.8888888888888888,
              "#fdca26"
             ],
             [
              1,
              "#f0f921"
             ]
            ],
            "type": "histogram2d"
           }
          ],
          "histogram2dcontour": [
           {
            "colorbar": {
             "outlinewidth": 0,
             "ticks": ""
            },
            "colorscale": [
             [
              0,
              "#0d0887"
             ],
             [
              0.1111111111111111,
              "#46039f"
             ],
             [
              0.2222222222222222,
              "#7201a8"
             ],
             [
              0.3333333333333333,
              "#9c179e"
             ],
             [
              0.4444444444444444,
              "#bd3786"
             ],
             [
              0.5555555555555556,
              "#d8576b"
             ],
             [
              0.6666666666666666,
              "#ed7953"
             ],
             [
              0.7777777777777778,
              "#fb9f3a"
             ],
             [
              0.8888888888888888,
              "#fdca26"
             ],
             [
              1,
              "#f0f921"
             ]
            ],
            "type": "histogram2dcontour"
           }
          ],
          "mesh3d": [
           {
            "colorbar": {
             "outlinewidth": 0,
             "ticks": ""
            },
            "type": "mesh3d"
           }
          ],
          "parcoords": [
           {
            "line": {
             "colorbar": {
              "outlinewidth": 0,
              "ticks": ""
             }
            },
            "type": "parcoords"
           }
          ],
          "pie": [
           {
            "automargin": true,
            "type": "pie"
           }
          ],
          "scatter": [
           {
            "marker": {
             "colorbar": {
              "outlinewidth": 0,
              "ticks": ""
             }
            },
            "type": "scatter"
           }
          ],
          "scatter3d": [
           {
            "line": {
             "colorbar": {
              "outlinewidth": 0,
              "ticks": ""
             }
            },
            "marker": {
             "colorbar": {
              "outlinewidth": 0,
              "ticks": ""
             }
            },
            "type": "scatter3d"
           }
          ],
          "scattercarpet": [
           {
            "marker": {
             "colorbar": {
              "outlinewidth": 0,
              "ticks": ""
             }
            },
            "type": "scattercarpet"
           }
          ],
          "scattergeo": [
           {
            "marker": {
             "colorbar": {
              "outlinewidth": 0,
              "ticks": ""
             }
            },
            "type": "scattergeo"
           }
          ],
          "scattergl": [
           {
            "marker": {
             "colorbar": {
              "outlinewidth": 0,
              "ticks": ""
             }
            },
            "type": "scattergl"
           }
          ],
          "scattermapbox": [
           {
            "marker": {
             "colorbar": {
              "outlinewidth": 0,
              "ticks": ""
             }
            },
            "type": "scattermapbox"
           }
          ],
          "scatterpolar": [
           {
            "marker": {
             "colorbar": {
              "outlinewidth": 0,
              "ticks": ""
             }
            },
            "type": "scatterpolar"
           }
          ],
          "scatterpolargl": [
           {
            "marker": {
             "colorbar": {
              "outlinewidth": 0,
              "ticks": ""
             }
            },
            "type": "scatterpolargl"
           }
          ],
          "scatterternary": [
           {
            "marker": {
             "colorbar": {
              "outlinewidth": 0,
              "ticks": ""
             }
            },
            "type": "scatterternary"
           }
          ],
          "surface": [
           {
            "colorbar": {
             "outlinewidth": 0,
             "ticks": ""
            },
            "colorscale": [
             [
              0,
              "#0d0887"
             ],
             [
              0.1111111111111111,
              "#46039f"
             ],
             [
              0.2222222222222222,
              "#7201a8"
             ],
             [
              0.3333333333333333,
              "#9c179e"
             ],
             [
              0.4444444444444444,
              "#bd3786"
             ],
             [
              0.5555555555555556,
              "#d8576b"
             ],
             [
              0.6666666666666666,
              "#ed7953"
             ],
             [
              0.7777777777777778,
              "#fb9f3a"
             ],
             [
              0.8888888888888888,
              "#fdca26"
             ],
             [
              1,
              "#f0f921"
             ]
            ],
            "type": "surface"
           }
          ],
          "table": [
           {
            "cells": {
             "fill": {
              "color": "#EBF0F8"
             },
             "line": {
              "color": "white"
             }
            },
            "header": {
             "fill": {
              "color": "#C8D4E3"
             },
             "line": {
              "color": "white"
             }
            },
            "type": "table"
           }
          ]
         },
         "layout": {
          "annotationdefaults": {
           "arrowcolor": "#2a3f5f",
           "arrowhead": 0,
           "arrowwidth": 1
          },
          "coloraxis": {
           "colorbar": {
            "outlinewidth": 0,
            "ticks": ""
           }
          },
          "colorscale": {
           "diverging": [
            [
             0,
             "#8e0152"
            ],
            [
             0.1,
             "#c51b7d"
            ],
            [
             0.2,
             "#de77ae"
            ],
            [
             0.3,
             "#f1b6da"
            ],
            [
             0.4,
             "#fde0ef"
            ],
            [
             0.5,
             "#f7f7f7"
            ],
            [
             0.6,
             "#e6f5d0"
            ],
            [
             0.7,
             "#b8e186"
            ],
            [
             0.8,
             "#7fbc41"
            ],
            [
             0.9,
             "#4d9221"
            ],
            [
             1,
             "#276419"
            ]
           ],
           "sequential": [
            [
             0,
             "#0d0887"
            ],
            [
             0.1111111111111111,
             "#46039f"
            ],
            [
             0.2222222222222222,
             "#7201a8"
            ],
            [
             0.3333333333333333,
             "#9c179e"
            ],
            [
             0.4444444444444444,
             "#bd3786"
            ],
            [
             0.5555555555555556,
             "#d8576b"
            ],
            [
             0.6666666666666666,
             "#ed7953"
            ],
            [
             0.7777777777777778,
             "#fb9f3a"
            ],
            [
             0.8888888888888888,
             "#fdca26"
            ],
            [
             1,
             "#f0f921"
            ]
           ],
           "sequentialminus": [
            [
             0,
             "#0d0887"
            ],
            [
             0.1111111111111111,
             "#46039f"
            ],
            [
             0.2222222222222222,
             "#7201a8"
            ],
            [
             0.3333333333333333,
             "#9c179e"
            ],
            [
             0.4444444444444444,
             "#bd3786"
            ],
            [
             0.5555555555555556,
             "#d8576b"
            ],
            [
             0.6666666666666666,
             "#ed7953"
            ],
            [
             0.7777777777777778,
             "#fb9f3a"
            ],
            [
             0.8888888888888888,
             "#fdca26"
            ],
            [
             1,
             "#f0f921"
            ]
           ]
          },
          "colorway": [
           "#636efa",
           "#EF553B",
           "#00cc96",
           "#ab63fa",
           "#FFA15A",
           "#19d3f3",
           "#FF6692",
           "#B6E880",
           "#FF97FF",
           "#FECB52"
          ],
          "font": {
           "color": "#2a3f5f"
          },
          "geo": {
           "bgcolor": "white",
           "lakecolor": "white",
           "landcolor": "#E5ECF6",
           "showlakes": true,
           "showland": true,
           "subunitcolor": "white"
          },
          "hoverlabel": {
           "align": "left"
          },
          "hovermode": "closest",
          "mapbox": {
           "style": "light"
          },
          "paper_bgcolor": "white",
          "plot_bgcolor": "#E5ECF6",
          "polar": {
           "angularaxis": {
            "gridcolor": "white",
            "linecolor": "white",
            "ticks": ""
           },
           "bgcolor": "#E5ECF6",
           "radialaxis": {
            "gridcolor": "white",
            "linecolor": "white",
            "ticks": ""
           }
          },
          "scene": {
           "xaxis": {
            "backgroundcolor": "#E5ECF6",
            "gridcolor": "white",
            "gridwidth": 2,
            "linecolor": "white",
            "showbackground": true,
            "ticks": "",
            "zerolinecolor": "white"
           },
           "yaxis": {
            "backgroundcolor": "#E5ECF6",
            "gridcolor": "white",
            "gridwidth": 2,
            "linecolor": "white",
            "showbackground": true,
            "ticks": "",
            "zerolinecolor": "white"
           },
           "zaxis": {
            "backgroundcolor": "#E5ECF6",
            "gridcolor": "white",
            "gridwidth": 2,
            "linecolor": "white",
            "showbackground": true,
            "ticks": "",
            "zerolinecolor": "white"
           }
          },
          "shapedefaults": {
           "line": {
            "color": "#2a3f5f"
           }
          },
          "ternary": {
           "aaxis": {
            "gridcolor": "white",
            "linecolor": "white",
            "ticks": ""
           },
           "baxis": {
            "gridcolor": "white",
            "linecolor": "white",
            "ticks": ""
           },
           "bgcolor": "#E5ECF6",
           "caxis": {
            "gridcolor": "white",
            "linecolor": "white",
            "ticks": ""
           }
          },
          "title": {
           "x": 0.05
          },
          "xaxis": {
           "automargin": true,
           "gridcolor": "white",
           "linecolor": "white",
           "ticks": "",
           "title": {
            "standoff": 15
           },
           "zerolinecolor": "white",
           "zerolinewidth": 2
          },
          "yaxis": {
           "automargin": true,
           "gridcolor": "white",
           "linecolor": "white",
           "ticks": "",
           "title": {
            "standoff": 15
           },
           "zerolinecolor": "white",
           "zerolinewidth": 2
          }
         }
        },
        "title": {
         "text": "시간대 일시불-할부 거래 금액"
        },
        "xaxis": {
         "gridwidth": 2,
         "ticklen": 5,
         "title": {
          "text": " "
         },
         "zeroline": true
        },
        "yaxis": {
         "gridwidth": 2,
         "ticklen": 5,
         "title": {
          "text": "평균 금액"
         }
        }
       }
      },
      "text/html": [
       "<div>                            <div id=\"51c6600f-a076-42cf-994f-0028197747f2\" class=\"plotly-graph-div\" style=\"height:525px; width:100%;\"></div>            <script type=\"text/javascript\">                require([\"plotly\"], function(Plotly) {                    window.PLOTLYENV=window.PLOTLYENV || {};                                    if (document.getElementById(\"51c6600f-a076-42cf-994f-0028197747f2\")) {                    Plotly.newPlot(                        \"51c6600f-a076-42cf-994f-0028197747f2\",                        [{\"marker\": {\"color\": \"blue\"}, \"name\": \"\\uc77c\\uc2dc\\ubd88\", \"type\": \"scatter\", \"x\": [0, 1, 2, 3, 4, 5, 6, 7, 8, 9, 10, 11, 12, 13, 14, 15, 16, 17, 18, 19, 20, 21, 22, 23], \"y\": [198.835139464077, 207.29266010166535, 208.48181040721005, 193.4013424914143, 168.02796363012524, 139.0779575328615, 136.01056648077488, 110.33831422560007, 93.37134285315597, 108.8522576150972, 129.55957376465503, 127.60778086542278, 112.8040596376665, 116.84196024404645, 129.17466441523823, 133.83255846029184, 132.50416944629754, 129.19433647423486, 128.63668639493213, 145.24044006771254, 170.4548712634952, 170.336033860572, 165.06890783678634, 181.08555898041678]}, {\"marker\": {\"color\": \"red\"}, \"name\": \"\\ud560\\ubd80\", \"type\": \"scatter\", \"x\": [0, 1, 2, 3, 4, 5, 6, 7, 8, 9, 10, 11, 12, 13, 14, 15, 16, 17, 18, 19, 20, 21, 22, 23], \"y\": [1985.0277777777778, 1669.9495798319329, 1283.5851063829787, 1503.3076923076924, 1098.483870967742, 836.0, 718.2407407407408, 952.5666666666667, 1267.342105263158, 2688.131205673759, 2350.264705882353, 2285.8588807785886, 1969.683962264151, 1878.4056224899598, 1791.2564671101256, 1995.8639365918098, 1830.1084905660377, 1879.7346506704305, 1583.629316420014, 1579.3210678210678, 1300.5073212747632, 1384.8508522727273, 1827.125654450262, 1644.0091743119267]}],                        {\"showlegend\": true, \"template\": {\"data\": {\"bar\": [{\"error_x\": {\"color\": \"#2a3f5f\"}, \"error_y\": {\"color\": \"#2a3f5f\"}, \"marker\": {\"line\": {\"color\": \"#E5ECF6\", \"width\": 0.5}}, \"type\": \"bar\"}], \"barpolar\": [{\"marker\": {\"line\": {\"color\": \"#E5ECF6\", \"width\": 0.5}}, \"type\": \"barpolar\"}], \"carpet\": [{\"aaxis\": {\"endlinecolor\": \"#2a3f5f\", \"gridcolor\": \"white\", \"linecolor\": \"white\", \"minorgridcolor\": \"white\", \"startlinecolor\": \"#2a3f5f\"}, \"baxis\": {\"endlinecolor\": \"#2a3f5f\", \"gridcolor\": \"white\", \"linecolor\": \"white\", \"minorgridcolor\": \"white\", \"startlinecolor\": \"#2a3f5f\"}, \"type\": \"carpet\"}], \"choropleth\": [{\"colorbar\": {\"outlinewidth\": 0, \"ticks\": \"\"}, \"type\": \"choropleth\"}], \"contour\": [{\"colorbar\": {\"outlinewidth\": 0, \"ticks\": \"\"}, \"colorscale\": [[0.0, \"#0d0887\"], [0.1111111111111111, \"#46039f\"], [0.2222222222222222, \"#7201a8\"], [0.3333333333333333, \"#9c179e\"], [0.4444444444444444, \"#bd3786\"], [0.5555555555555556, \"#d8576b\"], [0.6666666666666666, \"#ed7953\"], [0.7777777777777778, \"#fb9f3a\"], [0.8888888888888888, \"#fdca26\"], [1.0, \"#f0f921\"]], \"type\": \"contour\"}], \"contourcarpet\": [{\"colorbar\": {\"outlinewidth\": 0, \"ticks\": \"\"}, \"type\": \"contourcarpet\"}], \"heatmap\": [{\"colorbar\": {\"outlinewidth\": 0, \"ticks\": \"\"}, \"colorscale\": [[0.0, \"#0d0887\"], [0.1111111111111111, \"#46039f\"], [0.2222222222222222, \"#7201a8\"], [0.3333333333333333, \"#9c179e\"], [0.4444444444444444, \"#bd3786\"], [0.5555555555555556, \"#d8576b\"], [0.6666666666666666, \"#ed7953\"], [0.7777777777777778, \"#fb9f3a\"], [0.8888888888888888, \"#fdca26\"], [1.0, \"#f0f921\"]], \"type\": \"heatmap\"}], \"heatmapgl\": [{\"colorbar\": {\"outlinewidth\": 0, \"ticks\": \"\"}, \"colorscale\": [[0.0, \"#0d0887\"], [0.1111111111111111, \"#46039f\"], [0.2222222222222222, \"#7201a8\"], [0.3333333333333333, \"#9c179e\"], [0.4444444444444444, \"#bd3786\"], [0.5555555555555556, \"#d8576b\"], [0.6666666666666666, \"#ed7953\"], [0.7777777777777778, \"#fb9f3a\"], [0.8888888888888888, \"#fdca26\"], [1.0, \"#f0f921\"]], \"type\": \"heatmapgl\"}], \"histogram\": [{\"marker\": {\"colorbar\": {\"outlinewidth\": 0, \"ticks\": \"\"}}, \"type\": \"histogram\"}], \"histogram2d\": [{\"colorbar\": {\"outlinewidth\": 0, \"ticks\": \"\"}, \"colorscale\": [[0.0, \"#0d0887\"], [0.1111111111111111, \"#46039f\"], [0.2222222222222222, \"#7201a8\"], [0.3333333333333333, \"#9c179e\"], [0.4444444444444444, \"#bd3786\"], [0.5555555555555556, \"#d8576b\"], [0.6666666666666666, \"#ed7953\"], [0.7777777777777778, \"#fb9f3a\"], [0.8888888888888888, \"#fdca26\"], [1.0, \"#f0f921\"]], \"type\": \"histogram2d\"}], \"histogram2dcontour\": [{\"colorbar\": {\"outlinewidth\": 0, \"ticks\": \"\"}, \"colorscale\": [[0.0, \"#0d0887\"], [0.1111111111111111, \"#46039f\"], [0.2222222222222222, \"#7201a8\"], [0.3333333333333333, \"#9c179e\"], [0.4444444444444444, \"#bd3786\"], [0.5555555555555556, \"#d8576b\"], [0.6666666666666666, \"#ed7953\"], [0.7777777777777778, \"#fb9f3a\"], [0.8888888888888888, \"#fdca26\"], [1.0, \"#f0f921\"]], \"type\": \"histogram2dcontour\"}], \"mesh3d\": [{\"colorbar\": {\"outlinewidth\": 0, \"ticks\": \"\"}, \"type\": \"mesh3d\"}], \"parcoords\": [{\"line\": {\"colorbar\": {\"outlinewidth\": 0, \"ticks\": \"\"}}, \"type\": \"parcoords\"}], \"pie\": [{\"automargin\": true, \"type\": \"pie\"}], \"scatter\": [{\"marker\": {\"colorbar\": {\"outlinewidth\": 0, \"ticks\": \"\"}}, \"type\": \"scatter\"}], \"scatter3d\": [{\"line\": {\"colorbar\": {\"outlinewidth\": 0, \"ticks\": \"\"}}, \"marker\": {\"colorbar\": {\"outlinewidth\": 0, \"ticks\": \"\"}}, \"type\": \"scatter3d\"}], \"scattercarpet\": [{\"marker\": {\"colorbar\": {\"outlinewidth\": 0, \"ticks\": \"\"}}, \"type\": \"scattercarpet\"}], \"scattergeo\": [{\"marker\": {\"colorbar\": {\"outlinewidth\": 0, \"ticks\": \"\"}}, \"type\": \"scattergeo\"}], \"scattergl\": [{\"marker\": {\"colorbar\": {\"outlinewidth\": 0, \"ticks\": \"\"}}, \"type\": \"scattergl\"}], \"scattermapbox\": [{\"marker\": {\"colorbar\": {\"outlinewidth\": 0, \"ticks\": \"\"}}, \"type\": \"scattermapbox\"}], \"scatterpolar\": [{\"marker\": {\"colorbar\": {\"outlinewidth\": 0, \"ticks\": \"\"}}, \"type\": \"scatterpolar\"}], \"scatterpolargl\": [{\"marker\": {\"colorbar\": {\"outlinewidth\": 0, \"ticks\": \"\"}}, \"type\": \"scatterpolargl\"}], \"scatterternary\": [{\"marker\": {\"colorbar\": {\"outlinewidth\": 0, \"ticks\": \"\"}}, \"type\": \"scatterternary\"}], \"surface\": [{\"colorbar\": {\"outlinewidth\": 0, \"ticks\": \"\"}, \"colorscale\": [[0.0, \"#0d0887\"], [0.1111111111111111, \"#46039f\"], [0.2222222222222222, \"#7201a8\"], [0.3333333333333333, \"#9c179e\"], [0.4444444444444444, \"#bd3786\"], [0.5555555555555556, \"#d8576b\"], [0.6666666666666666, \"#ed7953\"], [0.7777777777777778, \"#fb9f3a\"], [0.8888888888888888, \"#fdca26\"], [1.0, \"#f0f921\"]], \"type\": \"surface\"}], \"table\": [{\"cells\": {\"fill\": {\"color\": \"#EBF0F8\"}, \"line\": {\"color\": \"white\"}}, \"header\": {\"fill\": {\"color\": \"#C8D4E3\"}, \"line\": {\"color\": \"white\"}}, \"type\": \"table\"}]}, \"layout\": {\"annotationdefaults\": {\"arrowcolor\": \"#2a3f5f\", \"arrowhead\": 0, \"arrowwidth\": 1}, \"coloraxis\": {\"colorbar\": {\"outlinewidth\": 0, \"ticks\": \"\"}}, \"colorscale\": {\"diverging\": [[0, \"#8e0152\"], [0.1, \"#c51b7d\"], [0.2, \"#de77ae\"], [0.3, \"#f1b6da\"], [0.4, \"#fde0ef\"], [0.5, \"#f7f7f7\"], [0.6, \"#e6f5d0\"], [0.7, \"#b8e186\"], [0.8, \"#7fbc41\"], [0.9, \"#4d9221\"], [1, \"#276419\"]], \"sequential\": [[0.0, \"#0d0887\"], [0.1111111111111111, \"#46039f\"], [0.2222222222222222, \"#7201a8\"], [0.3333333333333333, \"#9c179e\"], [0.4444444444444444, \"#bd3786\"], [0.5555555555555556, \"#d8576b\"], [0.6666666666666666, \"#ed7953\"], [0.7777777777777778, \"#fb9f3a\"], [0.8888888888888888, \"#fdca26\"], [1.0, \"#f0f921\"]], \"sequentialminus\": [[0.0, \"#0d0887\"], [0.1111111111111111, \"#46039f\"], [0.2222222222222222, \"#7201a8\"], [0.3333333333333333, \"#9c179e\"], [0.4444444444444444, \"#bd3786\"], [0.5555555555555556, \"#d8576b\"], [0.6666666666666666, \"#ed7953\"], [0.7777777777777778, \"#fb9f3a\"], [0.8888888888888888, \"#fdca26\"], [1.0, \"#f0f921\"]]}, \"colorway\": [\"#636efa\", \"#EF553B\", \"#00cc96\", \"#ab63fa\", \"#FFA15A\", \"#19d3f3\", \"#FF6692\", \"#B6E880\", \"#FF97FF\", \"#FECB52\"], \"font\": {\"color\": \"#2a3f5f\"}, \"geo\": {\"bgcolor\": \"white\", \"lakecolor\": \"white\", \"landcolor\": \"#E5ECF6\", \"showlakes\": true, \"showland\": true, \"subunitcolor\": \"white\"}, \"hoverlabel\": {\"align\": \"left\"}, \"hovermode\": \"closest\", \"mapbox\": {\"style\": \"light\"}, \"paper_bgcolor\": \"white\", \"plot_bgcolor\": \"#E5ECF6\", \"polar\": {\"angularaxis\": {\"gridcolor\": \"white\", \"linecolor\": \"white\", \"ticks\": \"\"}, \"bgcolor\": \"#E5ECF6\", \"radialaxis\": {\"gridcolor\": \"white\", \"linecolor\": \"white\", \"ticks\": \"\"}}, \"scene\": {\"xaxis\": {\"backgroundcolor\": \"#E5ECF6\", \"gridcolor\": \"white\", \"gridwidth\": 2, \"linecolor\": \"white\", \"showbackground\": true, \"ticks\": \"\", \"zerolinecolor\": \"white\"}, \"yaxis\": {\"backgroundcolor\": \"#E5ECF6\", \"gridcolor\": \"white\", \"gridwidth\": 2, \"linecolor\": \"white\", \"showbackground\": true, \"ticks\": \"\", \"zerolinecolor\": \"white\"}, \"zaxis\": {\"backgroundcolor\": \"#E5ECF6\", \"gridcolor\": \"white\", \"gridwidth\": 2, \"linecolor\": \"white\", \"showbackground\": true, \"ticks\": \"\", \"zerolinecolor\": \"white\"}}, \"shapedefaults\": {\"line\": {\"color\": \"#2a3f5f\"}}, \"ternary\": {\"aaxis\": {\"gridcolor\": \"white\", \"linecolor\": \"white\", \"ticks\": \"\"}, \"baxis\": {\"gridcolor\": \"white\", \"linecolor\": \"white\", \"ticks\": \"\"}, \"bgcolor\": \"#E5ECF6\", \"caxis\": {\"gridcolor\": \"white\", \"linecolor\": \"white\", \"ticks\": \"\"}}, \"title\": {\"x\": 0.05}, \"xaxis\": {\"automargin\": true, \"gridcolor\": \"white\", \"linecolor\": \"white\", \"ticks\": \"\", \"title\": {\"standoff\": 15}, \"zerolinecolor\": \"white\", \"zerolinewidth\": 2}, \"yaxis\": {\"automargin\": true, \"gridcolor\": \"white\", \"linecolor\": \"white\", \"ticks\": \"\", \"title\": {\"standoff\": 15}, \"zerolinecolor\": \"white\", \"zerolinewidth\": 2}}}, \"title\": {\"text\": \"\\uc2dc\\uac04\\ub300 \\uc77c\\uc2dc\\ubd88-\\ud560\\ubd80 \\uac70\\ub798 \\uae08\\uc561\"}, \"xaxis\": {\"gridwidth\": 2, \"ticklen\": 5, \"title\": {\"text\": \" \"}, \"zeroline\": true}, \"yaxis\": {\"gridwidth\": 2, \"ticklen\": 5, \"title\": {\"text\": \"\\ud3c9\\uade0 \\uae08\\uc561\"}}},                        {\"responsive\": true}                    ).then(function(){\n",
       "                            \n",
       "var gd = document.getElementById('51c6600f-a076-42cf-994f-0028197747f2');\n",
       "var x = new MutationObserver(function (mutations, observer) {{\n",
       "        var display = window.getComputedStyle(gd).display;\n",
       "        if (!display || display === 'none') {{\n",
       "            console.log([gd, 'removed!']);\n",
       "            Plotly.purge(gd);\n",
       "            observer.disconnect();\n",
       "        }}\n",
       "}});\n",
       "\n",
       "// Listen for the removal of the full notebook cells\n",
       "var notebookContainer = gd.closest('#notebook-container');\n",
       "if (notebookContainer) {{\n",
       "    x.observe(notebookContainer, {childList: true});\n",
       "}}\n",
       "\n",
       "// Listen for the clearing of the current output cell\n",
       "var outputEl = gd.closest('.output');\n",
       "if (outputEl) {{\n",
       "    x.observe(outputEl, {childList: true});\n",
       "}}\n",
       "\n",
       "                        })                };                });            </script>        </div>"
      ]
     },
     "metadata": {},
     "output_type": "display_data"
    }
   ],
   "source": [
    "data = [go.Scatter(x=hourly_installments_mean1[\"hour\"], y=hourly_installments_mean1[\"installments_amount_mean\"], name=\"일시불\", marker_color=\"blue\"),\n",
    "       go.Scatter(x=hourly_installments_mean2[\"hour\"], y=hourly_installments_mean2[\"installments_amount_mean\"], name=\"할부\", marker_color=\"red\")]\n",
    "layout= go.Layout(title= \"시간대 일시불-할부 거래 금액\", xaxis= dict(title=' ', ticklen=5, zeroline=True, gridwidth=2), yaxis= dict(title='평균 금액', ticklen=5, gridwidth=2), showlegend=True)\n",
    "fig = go.Figure(data=data, layout=layout)\n",
    "py.iplot(fig, filename='시간대 일시불-할부 거래 금액')"
   ]
  },
  {
   "cell_type": "code",
   "execution_count": null,
   "metadata": {},
   "outputs": [],
   "source": []
  },
  {
   "cell_type": "code",
   "execution_count": null,
   "metadata": {},
   "outputs": [],
   "source": []
  },
  {
   "cell_type": "code",
   "execution_count": null,
   "metadata": {},
   "outputs": [],
   "source": []
  },
  {
   "cell_type": "code",
   "execution_count": 81,
   "metadata": {},
   "outputs": [],
   "source": [
    "installments1 = installments_df[installments_df[\"weekend\"]==0]\n",
    "installments2 = installments_df[installments_df[\"weekend\"]==1]"
   ]
  },
  {
   "cell_type": "code",
   "execution_count": 82,
   "metadata": {},
   "outputs": [
    {
     "data": {
      "text/html": [
       "<div>\n",
       "<style scoped>\n",
       "    .dataframe tbody tr th:only-of-type {\n",
       "        vertical-align: middle;\n",
       "    }\n",
       "\n",
       "    .dataframe tbody tr th {\n",
       "        vertical-align: top;\n",
       "    }\n",
       "\n",
       "    .dataframe thead th {\n",
       "        text-align: right;\n",
       "    }\n",
       "</style>\n",
       "<table border=\"1\" class=\"dataframe\">\n",
       "  <thead>\n",
       "    <tr style=\"text-align: right;\">\n",
       "      <th></th>\n",
       "      <th>hour</th>\n",
       "      <th>평일 시간별 할부결제 빈도수</th>\n",
       "    </tr>\n",
       "  </thead>\n",
       "  <tbody>\n",
       "    <tr>\n",
       "      <th>0</th>\n",
       "      <td>0</td>\n",
       "      <td>74</td>\n",
       "    </tr>\n",
       "    <tr>\n",
       "      <th>1</th>\n",
       "      <td>1</td>\n",
       "      <td>88</td>\n",
       "    </tr>\n",
       "  </tbody>\n",
       "</table>\n",
       "</div>"
      ],
      "text/plain": [
       "   hour  평일 시간별 할부결제 빈도수\n",
       "0     0               74\n",
       "1     1               88"
      ]
     },
     "execution_count": 82,
     "metadata": {},
     "output_type": "execute_result"
    }
   ],
   "source": [
    "installments_count_by_hour1 = installments1.groupby(\"hour\").size().reset_index(name=\"평일 시간별 할부결제 빈도수\")\n",
    "installments_count_by_hour2 = installments2.groupby(\"hour\").size().reset_index(name=\"주말 시간별 할부결제 빈도수\")\n",
    "installments_count_by_hour1.head(2)"
   ]
  },
  {
   "cell_type": "code",
   "execution_count": 83,
   "metadata": {},
   "outputs": [
    {
     "data": {
      "text/html": [
       "<div>\n",
       "<style scoped>\n",
       "    .dataframe tbody tr th:only-of-type {\n",
       "        vertical-align: middle;\n",
       "    }\n",
       "\n",
       "    .dataframe tbody tr th {\n",
       "        vertical-align: top;\n",
       "    }\n",
       "\n",
       "    .dataframe thead th {\n",
       "        text-align: right;\n",
       "    }\n",
       "</style>\n",
       "<table border=\"1\" class=\"dataframe\">\n",
       "  <thead>\n",
       "    <tr style=\"text-align: right;\">\n",
       "      <th></th>\n",
       "      <th>hour</th>\n",
       "      <th>평일 시간별 할부결제 빈도수</th>\n",
       "      <th>평일 평균 할부결제 빈도수</th>\n",
       "    </tr>\n",
       "  </thead>\n",
       "  <tbody>\n",
       "    <tr>\n",
       "      <th>0</th>\n",
       "      <td>0</td>\n",
       "      <td>74</td>\n",
       "      <td>14.8</td>\n",
       "    </tr>\n",
       "    <tr>\n",
       "      <th>1</th>\n",
       "      <td>1</td>\n",
       "      <td>88</td>\n",
       "      <td>17.6</td>\n",
       "    </tr>\n",
       "  </tbody>\n",
       "</table>\n",
       "</div>"
      ],
      "text/plain": [
       "   hour  평일 시간별 할부결제 빈도수  평일 평균 할부결제 빈도수\n",
       "0     0               74            14.8\n",
       "1     1               88            17.6"
      ]
     },
     "execution_count": 83,
     "metadata": {},
     "output_type": "execute_result"
    }
   ],
   "source": [
    "installments_count_by_hour1[\"평일 평균 할부결제 빈도수\"] = (installments_count_by_hour1[\"평일 시간별 할부결제 빈도수\"].values)/5 \n",
    "installments_count_by_hour2[\"주말 평균 할부결제 빈도수\"] = (installments_count_by_hour2[\"주말 시간별 할부결제 빈도수\"].values)/2 \n",
    "installments_count_by_hour1.head(2)"
   ]
  },
  {
   "cell_type": "code",
   "execution_count": 84,
   "metadata": {},
   "outputs": [
    {
     "data": {
      "application/vnd.plotly.v1+json": {
       "config": {
        "linkText": "Export to plot.ly",
        "plotlyServerURL": "https://plot.ly",
        "showLink": false
       },
       "data": [
        {
         "marker": {
          "color": "blue"
         },
         "name": "평일",
         "type": "scatter",
         "x": [
          0,
          1,
          2,
          3,
          4,
          5,
          6,
          7,
          8,
          9,
          10,
          11,
          12,
          13,
          14,
          15,
          16,
          17,
          18,
          19,
          20,
          21,
          22,
          23
         ],
         "y": [
          14.8,
          17.6,
          11.4,
          8.4,
          3.2,
          1.6,
          8.2,
          9.2,
          13.8,
          46.6,
          86.8,
          127.4,
          157.6,
          181.6,
          195.2,
          219.6,
          226.8,
          214.4,
          214.4,
          207.4,
          178.8,
          111.2,
          61.6,
          33.8
         ]
        },
        {
         "marker": {
          "color": "red"
         },
         "name": "주말",
         "type": "scatter",
         "x": [
          0,
          1,
          2,
          3,
          4,
          5,
          6,
          7,
          8,
          9,
          10,
          11,
          12,
          13,
          14,
          15,
          16,
          17,
          18,
          19,
          20,
          21,
          22,
          23
         ],
         "y": [
          20,
          17,
          19.5,
          11.5,
          7.5,
          3,
          7,
          8,
          7,
          29.5,
          66,
          107.5,
          154,
          192,
          217,
          231,
          215,
          194.5,
          208.5,
          199.5,
          162.5,
          87,
          44,
          27.5
         ]
        }
       ],
       "layout": {
        "showlegend": true,
        "template": {
         "data": {
          "bar": [
           {
            "error_x": {
             "color": "#2a3f5f"
            },
            "error_y": {
             "color": "#2a3f5f"
            },
            "marker": {
             "line": {
              "color": "#E5ECF6",
              "width": 0.5
             }
            },
            "type": "bar"
           }
          ],
          "barpolar": [
           {
            "marker": {
             "line": {
              "color": "#E5ECF6",
              "width": 0.5
             }
            },
            "type": "barpolar"
           }
          ],
          "carpet": [
           {
            "aaxis": {
             "endlinecolor": "#2a3f5f",
             "gridcolor": "white",
             "linecolor": "white",
             "minorgridcolor": "white",
             "startlinecolor": "#2a3f5f"
            },
            "baxis": {
             "endlinecolor": "#2a3f5f",
             "gridcolor": "white",
             "linecolor": "white",
             "minorgridcolor": "white",
             "startlinecolor": "#2a3f5f"
            },
            "type": "carpet"
           }
          ],
          "choropleth": [
           {
            "colorbar": {
             "outlinewidth": 0,
             "ticks": ""
            },
            "type": "choropleth"
           }
          ],
          "contour": [
           {
            "colorbar": {
             "outlinewidth": 0,
             "ticks": ""
            },
            "colorscale": [
             [
              0,
              "#0d0887"
             ],
             [
              0.1111111111111111,
              "#46039f"
             ],
             [
              0.2222222222222222,
              "#7201a8"
             ],
             [
              0.3333333333333333,
              "#9c179e"
             ],
             [
              0.4444444444444444,
              "#bd3786"
             ],
             [
              0.5555555555555556,
              "#d8576b"
             ],
             [
              0.6666666666666666,
              "#ed7953"
             ],
             [
              0.7777777777777778,
              "#fb9f3a"
             ],
             [
              0.8888888888888888,
              "#fdca26"
             ],
             [
              1,
              "#f0f921"
             ]
            ],
            "type": "contour"
           }
          ],
          "contourcarpet": [
           {
            "colorbar": {
             "outlinewidth": 0,
             "ticks": ""
            },
            "type": "contourcarpet"
           }
          ],
          "heatmap": [
           {
            "colorbar": {
             "outlinewidth": 0,
             "ticks": ""
            },
            "colorscale": [
             [
              0,
              "#0d0887"
             ],
             [
              0.1111111111111111,
              "#46039f"
             ],
             [
              0.2222222222222222,
              "#7201a8"
             ],
             [
              0.3333333333333333,
              "#9c179e"
             ],
             [
              0.4444444444444444,
              "#bd3786"
             ],
             [
              0.5555555555555556,
              "#d8576b"
             ],
             [
              0.6666666666666666,
              "#ed7953"
             ],
             [
              0.7777777777777778,
              "#fb9f3a"
             ],
             [
              0.8888888888888888,
              "#fdca26"
             ],
             [
              1,
              "#f0f921"
             ]
            ],
            "type": "heatmap"
           }
          ],
          "heatmapgl": [
           {
            "colorbar": {
             "outlinewidth": 0,
             "ticks": ""
            },
            "colorscale": [
             [
              0,
              "#0d0887"
             ],
             [
              0.1111111111111111,
              "#46039f"
             ],
             [
              0.2222222222222222,
              "#7201a8"
             ],
             [
              0.3333333333333333,
              "#9c179e"
             ],
             [
              0.4444444444444444,
              "#bd3786"
             ],
             [
              0.5555555555555556,
              "#d8576b"
             ],
             [
              0.6666666666666666,
              "#ed7953"
             ],
             [
              0.7777777777777778,
              "#fb9f3a"
             ],
             [
              0.8888888888888888,
              "#fdca26"
             ],
             [
              1,
              "#f0f921"
             ]
            ],
            "type": "heatmapgl"
           }
          ],
          "histogram": [
           {
            "marker": {
             "colorbar": {
              "outlinewidth": 0,
              "ticks": ""
             }
            },
            "type": "histogram"
           }
          ],
          "histogram2d": [
           {
            "colorbar": {
             "outlinewidth": 0,
             "ticks": ""
            },
            "colorscale": [
             [
              0,
              "#0d0887"
             ],
             [
              0.1111111111111111,
              "#46039f"
             ],
             [
              0.2222222222222222,
              "#7201a8"
             ],
             [
              0.3333333333333333,
              "#9c179e"
             ],
             [
              0.4444444444444444,
              "#bd3786"
             ],
             [
              0.5555555555555556,
              "#d8576b"
             ],
             [
              0.6666666666666666,
              "#ed7953"
             ],
             [
              0.7777777777777778,
              "#fb9f3a"
             ],
             [
              0.8888888888888888,
              "#fdca26"
             ],
             [
              1,
              "#f0f921"
             ]
            ],
            "type": "histogram2d"
           }
          ],
          "histogram2dcontour": [
           {
            "colorbar": {
             "outlinewidth": 0,
             "ticks": ""
            },
            "colorscale": [
             [
              0,
              "#0d0887"
             ],
             [
              0.1111111111111111,
              "#46039f"
             ],
             [
              0.2222222222222222,
              "#7201a8"
             ],
             [
              0.3333333333333333,
              "#9c179e"
             ],
             [
              0.4444444444444444,
              "#bd3786"
             ],
             [
              0.5555555555555556,
              "#d8576b"
             ],
             [
              0.6666666666666666,
              "#ed7953"
             ],
             [
              0.7777777777777778,
              "#fb9f3a"
             ],
             [
              0.8888888888888888,
              "#fdca26"
             ],
             [
              1,
              "#f0f921"
             ]
            ],
            "type": "histogram2dcontour"
           }
          ],
          "mesh3d": [
           {
            "colorbar": {
             "outlinewidth": 0,
             "ticks": ""
            },
            "type": "mesh3d"
           }
          ],
          "parcoords": [
           {
            "line": {
             "colorbar": {
              "outlinewidth": 0,
              "ticks": ""
             }
            },
            "type": "parcoords"
           }
          ],
          "pie": [
           {
            "automargin": true,
            "type": "pie"
           }
          ],
          "scatter": [
           {
            "marker": {
             "colorbar": {
              "outlinewidth": 0,
              "ticks": ""
             }
            },
            "type": "scatter"
           }
          ],
          "scatter3d": [
           {
            "line": {
             "colorbar": {
              "outlinewidth": 0,
              "ticks": ""
             }
            },
            "marker": {
             "colorbar": {
              "outlinewidth": 0,
              "ticks": ""
             }
            },
            "type": "scatter3d"
           }
          ],
          "scattercarpet": [
           {
            "marker": {
             "colorbar": {
              "outlinewidth": 0,
              "ticks": ""
             }
            },
            "type": "scattercarpet"
           }
          ],
          "scattergeo": [
           {
            "marker": {
             "colorbar": {
              "outlinewidth": 0,
              "ticks": ""
             }
            },
            "type": "scattergeo"
           }
          ],
          "scattergl": [
           {
            "marker": {
             "colorbar": {
              "outlinewidth": 0,
              "ticks": ""
             }
            },
            "type": "scattergl"
           }
          ],
          "scattermapbox": [
           {
            "marker": {
             "colorbar": {
              "outlinewidth": 0,
              "ticks": ""
             }
            },
            "type": "scattermapbox"
           }
          ],
          "scatterpolar": [
           {
            "marker": {
             "colorbar": {
              "outlinewidth": 0,
              "ticks": ""
             }
            },
            "type": "scatterpolar"
           }
          ],
          "scatterpolargl": [
           {
            "marker": {
             "colorbar": {
              "outlinewidth": 0,
              "ticks": ""
             }
            },
            "type": "scatterpolargl"
           }
          ],
          "scatterternary": [
           {
            "marker": {
             "colorbar": {
              "outlinewidth": 0,
              "ticks": ""
             }
            },
            "type": "scatterternary"
           }
          ],
          "surface": [
           {
            "colorbar": {
             "outlinewidth": 0,
             "ticks": ""
            },
            "colorscale": [
             [
              0,
              "#0d0887"
             ],
             [
              0.1111111111111111,
              "#46039f"
             ],
             [
              0.2222222222222222,
              "#7201a8"
             ],
             [
              0.3333333333333333,
              "#9c179e"
             ],
             [
              0.4444444444444444,
              "#bd3786"
             ],
             [
              0.5555555555555556,
              "#d8576b"
             ],
             [
              0.6666666666666666,
              "#ed7953"
             ],
             [
              0.7777777777777778,
              "#fb9f3a"
             ],
             [
              0.8888888888888888,
              "#fdca26"
             ],
             [
              1,
              "#f0f921"
             ]
            ],
            "type": "surface"
           }
          ],
          "table": [
           {
            "cells": {
             "fill": {
              "color": "#EBF0F8"
             },
             "line": {
              "color": "white"
             }
            },
            "header": {
             "fill": {
              "color": "#C8D4E3"
             },
             "line": {
              "color": "white"
             }
            },
            "type": "table"
           }
          ]
         },
         "layout": {
          "annotationdefaults": {
           "arrowcolor": "#2a3f5f",
           "arrowhead": 0,
           "arrowwidth": 1
          },
          "coloraxis": {
           "colorbar": {
            "outlinewidth": 0,
            "ticks": ""
           }
          },
          "colorscale": {
           "diverging": [
            [
             0,
             "#8e0152"
            ],
            [
             0.1,
             "#c51b7d"
            ],
            [
             0.2,
             "#de77ae"
            ],
            [
             0.3,
             "#f1b6da"
            ],
            [
             0.4,
             "#fde0ef"
            ],
            [
             0.5,
             "#f7f7f7"
            ],
            [
             0.6,
             "#e6f5d0"
            ],
            [
             0.7,
             "#b8e186"
            ],
            [
             0.8,
             "#7fbc41"
            ],
            [
             0.9,
             "#4d9221"
            ],
            [
             1,
             "#276419"
            ]
           ],
           "sequential": [
            [
             0,
             "#0d0887"
            ],
            [
             0.1111111111111111,
             "#46039f"
            ],
            [
             0.2222222222222222,
             "#7201a8"
            ],
            [
             0.3333333333333333,
             "#9c179e"
            ],
            [
             0.4444444444444444,
             "#bd3786"
            ],
            [
             0.5555555555555556,
             "#d8576b"
            ],
            [
             0.6666666666666666,
             "#ed7953"
            ],
            [
             0.7777777777777778,
             "#fb9f3a"
            ],
            [
             0.8888888888888888,
             "#fdca26"
            ],
            [
             1,
             "#f0f921"
            ]
           ],
           "sequentialminus": [
            [
             0,
             "#0d0887"
            ],
            [
             0.1111111111111111,
             "#46039f"
            ],
            [
             0.2222222222222222,
             "#7201a8"
            ],
            [
             0.3333333333333333,
             "#9c179e"
            ],
            [
             0.4444444444444444,
             "#bd3786"
            ],
            [
             0.5555555555555556,
             "#d8576b"
            ],
            [
             0.6666666666666666,
             "#ed7953"
            ],
            [
             0.7777777777777778,
             "#fb9f3a"
            ],
            [
             0.8888888888888888,
             "#fdca26"
            ],
            [
             1,
             "#f0f921"
            ]
           ]
          },
          "colorway": [
           "#636efa",
           "#EF553B",
           "#00cc96",
           "#ab63fa",
           "#FFA15A",
           "#19d3f3",
           "#FF6692",
           "#B6E880",
           "#FF97FF",
           "#FECB52"
          ],
          "font": {
           "color": "#2a3f5f"
          },
          "geo": {
           "bgcolor": "white",
           "lakecolor": "white",
           "landcolor": "#E5ECF6",
           "showlakes": true,
           "showland": true,
           "subunitcolor": "white"
          },
          "hoverlabel": {
           "align": "left"
          },
          "hovermode": "closest",
          "mapbox": {
           "style": "light"
          },
          "paper_bgcolor": "white",
          "plot_bgcolor": "#E5ECF6",
          "polar": {
           "angularaxis": {
            "gridcolor": "white",
            "linecolor": "white",
            "ticks": ""
           },
           "bgcolor": "#E5ECF6",
           "radialaxis": {
            "gridcolor": "white",
            "linecolor": "white",
            "ticks": ""
           }
          },
          "scene": {
           "xaxis": {
            "backgroundcolor": "#E5ECF6",
            "gridcolor": "white",
            "gridwidth": 2,
            "linecolor": "white",
            "showbackground": true,
            "ticks": "",
            "zerolinecolor": "white"
           },
           "yaxis": {
            "backgroundcolor": "#E5ECF6",
            "gridcolor": "white",
            "gridwidth": 2,
            "linecolor": "white",
            "showbackground": true,
            "ticks": "",
            "zerolinecolor": "white"
           },
           "zaxis": {
            "backgroundcolor": "#E5ECF6",
            "gridcolor": "white",
            "gridwidth": 2,
            "linecolor": "white",
            "showbackground": true,
            "ticks": "",
            "zerolinecolor": "white"
           }
          },
          "shapedefaults": {
           "line": {
            "color": "#2a3f5f"
           }
          },
          "ternary": {
           "aaxis": {
            "gridcolor": "white",
            "linecolor": "white",
            "ticks": ""
           },
           "baxis": {
            "gridcolor": "white",
            "linecolor": "white",
            "ticks": ""
           },
           "bgcolor": "#E5ECF6",
           "caxis": {
            "gridcolor": "white",
            "linecolor": "white",
            "ticks": ""
           }
          },
          "title": {
           "x": 0.05
          },
          "xaxis": {
           "automargin": true,
           "gridcolor": "white",
           "linecolor": "white",
           "ticks": "",
           "title": {
            "standoff": 15
           },
           "zerolinecolor": "white",
           "zerolinewidth": 2
          },
          "yaxis": {
           "automargin": true,
           "gridcolor": "white",
           "linecolor": "white",
           "ticks": "",
           "title": {
            "standoff": 15
           },
           "zerolinecolor": "white",
           "zerolinewidth": 2
          }
         }
        },
        "title": {
         "text": "평일 VS 주말 시간별 할부결제 빈도수"
        },
        "xaxis": {
         "gridwidth": 2,
         "ticklen": 5,
         "title": {
          "text": "시간"
         },
         "zeroline": false
        },
        "yaxis": {
         "gridwidth": 2,
         "ticklen": 5,
         "title": {
          "text": "빈도수"
         }
        }
       }
      },
      "text/html": [
       "<div>                            <div id=\"48f3d805-1d19-4136-80ee-e12d316eae24\" class=\"plotly-graph-div\" style=\"height:525px; width:100%;\"></div>            <script type=\"text/javascript\">                require([\"plotly\"], function(Plotly) {                    window.PLOTLYENV=window.PLOTLYENV || {};                                    if (document.getElementById(\"48f3d805-1d19-4136-80ee-e12d316eae24\")) {                    Plotly.newPlot(                        \"48f3d805-1d19-4136-80ee-e12d316eae24\",                        [{\"marker\": {\"color\": \"blue\"}, \"name\": \"\\ud3c9\\uc77c\", \"type\": \"scatter\", \"x\": [0, 1, 2, 3, 4, 5, 6, 7, 8, 9, 10, 11, 12, 13, 14, 15, 16, 17, 18, 19, 20, 21, 22, 23], \"y\": [14.8, 17.6, 11.4, 8.4, 3.2, 1.6, 8.2, 9.2, 13.8, 46.6, 86.8, 127.4, 157.6, 181.6, 195.2, 219.6, 226.8, 214.4, 214.4, 207.4, 178.8, 111.2, 61.6, 33.8]}, {\"marker\": {\"color\": \"red\"}, \"name\": \"\\uc8fc\\ub9d0\", \"type\": \"scatter\", \"x\": [0, 1, 2, 3, 4, 5, 6, 7, 8, 9, 10, 11, 12, 13, 14, 15, 16, 17, 18, 19, 20, 21, 22, 23], \"y\": [20.0, 17.0, 19.5, 11.5, 7.5, 3.0, 7.0, 8.0, 7.0, 29.5, 66.0, 107.5, 154.0, 192.0, 217.0, 231.0, 215.0, 194.5, 208.5, 199.5, 162.5, 87.0, 44.0, 27.5]}],                        {\"showlegend\": true, \"template\": {\"data\": {\"bar\": [{\"error_x\": {\"color\": \"#2a3f5f\"}, \"error_y\": {\"color\": \"#2a3f5f\"}, \"marker\": {\"line\": {\"color\": \"#E5ECF6\", \"width\": 0.5}}, \"type\": \"bar\"}], \"barpolar\": [{\"marker\": {\"line\": {\"color\": \"#E5ECF6\", \"width\": 0.5}}, \"type\": \"barpolar\"}], \"carpet\": [{\"aaxis\": {\"endlinecolor\": \"#2a3f5f\", \"gridcolor\": \"white\", \"linecolor\": \"white\", \"minorgridcolor\": \"white\", \"startlinecolor\": \"#2a3f5f\"}, \"baxis\": {\"endlinecolor\": \"#2a3f5f\", \"gridcolor\": \"white\", \"linecolor\": \"white\", \"minorgridcolor\": \"white\", \"startlinecolor\": \"#2a3f5f\"}, \"type\": \"carpet\"}], \"choropleth\": [{\"colorbar\": {\"outlinewidth\": 0, \"ticks\": \"\"}, \"type\": \"choropleth\"}], \"contour\": [{\"colorbar\": {\"outlinewidth\": 0, \"ticks\": \"\"}, \"colorscale\": [[0.0, \"#0d0887\"], [0.1111111111111111, \"#46039f\"], [0.2222222222222222, \"#7201a8\"], [0.3333333333333333, \"#9c179e\"], [0.4444444444444444, \"#bd3786\"], [0.5555555555555556, \"#d8576b\"], [0.6666666666666666, \"#ed7953\"], [0.7777777777777778, \"#fb9f3a\"], [0.8888888888888888, \"#fdca26\"], [1.0, \"#f0f921\"]], \"type\": \"contour\"}], \"contourcarpet\": [{\"colorbar\": {\"outlinewidth\": 0, \"ticks\": \"\"}, \"type\": \"contourcarpet\"}], \"heatmap\": [{\"colorbar\": {\"outlinewidth\": 0, \"ticks\": \"\"}, \"colorscale\": [[0.0, \"#0d0887\"], [0.1111111111111111, \"#46039f\"], [0.2222222222222222, \"#7201a8\"], [0.3333333333333333, \"#9c179e\"], [0.4444444444444444, \"#bd3786\"], [0.5555555555555556, \"#d8576b\"], [0.6666666666666666, \"#ed7953\"], [0.7777777777777778, \"#fb9f3a\"], [0.8888888888888888, \"#fdca26\"], [1.0, \"#f0f921\"]], \"type\": \"heatmap\"}], \"heatmapgl\": [{\"colorbar\": {\"outlinewidth\": 0, \"ticks\": \"\"}, \"colorscale\": [[0.0, \"#0d0887\"], [0.1111111111111111, \"#46039f\"], [0.2222222222222222, \"#7201a8\"], [0.3333333333333333, \"#9c179e\"], [0.4444444444444444, \"#bd3786\"], [0.5555555555555556, \"#d8576b\"], [0.6666666666666666, \"#ed7953\"], [0.7777777777777778, \"#fb9f3a\"], [0.8888888888888888, \"#fdca26\"], [1.0, \"#f0f921\"]], \"type\": \"heatmapgl\"}], \"histogram\": [{\"marker\": {\"colorbar\": {\"outlinewidth\": 0, \"ticks\": \"\"}}, \"type\": \"histogram\"}], \"histogram2d\": [{\"colorbar\": {\"outlinewidth\": 0, \"ticks\": \"\"}, \"colorscale\": [[0.0, \"#0d0887\"], [0.1111111111111111, \"#46039f\"], [0.2222222222222222, \"#7201a8\"], [0.3333333333333333, \"#9c179e\"], [0.4444444444444444, \"#bd3786\"], [0.5555555555555556, \"#d8576b\"], [0.6666666666666666, \"#ed7953\"], [0.7777777777777778, \"#fb9f3a\"], [0.8888888888888888, \"#fdca26\"], [1.0, \"#f0f921\"]], \"type\": \"histogram2d\"}], \"histogram2dcontour\": [{\"colorbar\": {\"outlinewidth\": 0, \"ticks\": \"\"}, \"colorscale\": [[0.0, \"#0d0887\"], [0.1111111111111111, \"#46039f\"], [0.2222222222222222, \"#7201a8\"], [0.3333333333333333, \"#9c179e\"], [0.4444444444444444, \"#bd3786\"], [0.5555555555555556, \"#d8576b\"], [0.6666666666666666, \"#ed7953\"], [0.7777777777777778, \"#fb9f3a\"], [0.8888888888888888, \"#fdca26\"], [1.0, \"#f0f921\"]], \"type\": \"histogram2dcontour\"}], \"mesh3d\": [{\"colorbar\": {\"outlinewidth\": 0, \"ticks\": \"\"}, \"type\": \"mesh3d\"}], \"parcoords\": [{\"line\": {\"colorbar\": {\"outlinewidth\": 0, \"ticks\": \"\"}}, \"type\": \"parcoords\"}], \"pie\": [{\"automargin\": true, \"type\": \"pie\"}], \"scatter\": [{\"marker\": {\"colorbar\": {\"outlinewidth\": 0, \"ticks\": \"\"}}, \"type\": \"scatter\"}], \"scatter3d\": [{\"line\": {\"colorbar\": {\"outlinewidth\": 0, \"ticks\": \"\"}}, \"marker\": {\"colorbar\": {\"outlinewidth\": 0, \"ticks\": \"\"}}, \"type\": \"scatter3d\"}], \"scattercarpet\": [{\"marker\": {\"colorbar\": {\"outlinewidth\": 0, \"ticks\": \"\"}}, \"type\": \"scattercarpet\"}], \"scattergeo\": [{\"marker\": {\"colorbar\": {\"outlinewidth\": 0, \"ticks\": \"\"}}, \"type\": \"scattergeo\"}], \"scattergl\": [{\"marker\": {\"colorbar\": {\"outlinewidth\": 0, \"ticks\": \"\"}}, \"type\": \"scattergl\"}], \"scattermapbox\": [{\"marker\": {\"colorbar\": {\"outlinewidth\": 0, \"ticks\": \"\"}}, \"type\": \"scattermapbox\"}], \"scatterpolar\": [{\"marker\": {\"colorbar\": {\"outlinewidth\": 0, \"ticks\": \"\"}}, \"type\": \"scatterpolar\"}], \"scatterpolargl\": [{\"marker\": {\"colorbar\": {\"outlinewidth\": 0, \"ticks\": \"\"}}, \"type\": \"scatterpolargl\"}], \"scatterternary\": [{\"marker\": {\"colorbar\": {\"outlinewidth\": 0, \"ticks\": \"\"}}, \"type\": \"scatterternary\"}], \"surface\": [{\"colorbar\": {\"outlinewidth\": 0, \"ticks\": \"\"}, \"colorscale\": [[0.0, \"#0d0887\"], [0.1111111111111111, \"#46039f\"], [0.2222222222222222, \"#7201a8\"], [0.3333333333333333, \"#9c179e\"], [0.4444444444444444, \"#bd3786\"], [0.5555555555555556, \"#d8576b\"], [0.6666666666666666, \"#ed7953\"], [0.7777777777777778, \"#fb9f3a\"], [0.8888888888888888, \"#fdca26\"], [1.0, \"#f0f921\"]], \"type\": \"surface\"}], \"table\": [{\"cells\": {\"fill\": {\"color\": \"#EBF0F8\"}, \"line\": {\"color\": \"white\"}}, \"header\": {\"fill\": {\"color\": \"#C8D4E3\"}, \"line\": {\"color\": \"white\"}}, \"type\": \"table\"}]}, \"layout\": {\"annotationdefaults\": {\"arrowcolor\": \"#2a3f5f\", \"arrowhead\": 0, \"arrowwidth\": 1}, \"coloraxis\": {\"colorbar\": {\"outlinewidth\": 0, \"ticks\": \"\"}}, \"colorscale\": {\"diverging\": [[0, \"#8e0152\"], [0.1, \"#c51b7d\"], [0.2, \"#de77ae\"], [0.3, \"#f1b6da\"], [0.4, \"#fde0ef\"], [0.5, \"#f7f7f7\"], [0.6, \"#e6f5d0\"], [0.7, \"#b8e186\"], [0.8, \"#7fbc41\"], [0.9, \"#4d9221\"], [1, \"#276419\"]], \"sequential\": [[0.0, \"#0d0887\"], [0.1111111111111111, \"#46039f\"], [0.2222222222222222, \"#7201a8\"], [0.3333333333333333, \"#9c179e\"], [0.4444444444444444, \"#bd3786\"], [0.5555555555555556, \"#d8576b\"], [0.6666666666666666, \"#ed7953\"], [0.7777777777777778, \"#fb9f3a\"], [0.8888888888888888, \"#fdca26\"], [1.0, \"#f0f921\"]], \"sequentialminus\": [[0.0, \"#0d0887\"], [0.1111111111111111, \"#46039f\"], [0.2222222222222222, \"#7201a8\"], [0.3333333333333333, \"#9c179e\"], [0.4444444444444444, \"#bd3786\"], [0.5555555555555556, \"#d8576b\"], [0.6666666666666666, \"#ed7953\"], [0.7777777777777778, \"#fb9f3a\"], [0.8888888888888888, \"#fdca26\"], [1.0, \"#f0f921\"]]}, \"colorway\": [\"#636efa\", \"#EF553B\", \"#00cc96\", \"#ab63fa\", \"#FFA15A\", \"#19d3f3\", \"#FF6692\", \"#B6E880\", \"#FF97FF\", \"#FECB52\"], \"font\": {\"color\": \"#2a3f5f\"}, \"geo\": {\"bgcolor\": \"white\", \"lakecolor\": \"white\", \"landcolor\": \"#E5ECF6\", \"showlakes\": true, \"showland\": true, \"subunitcolor\": \"white\"}, \"hoverlabel\": {\"align\": \"left\"}, \"hovermode\": \"closest\", \"mapbox\": {\"style\": \"light\"}, \"paper_bgcolor\": \"white\", \"plot_bgcolor\": \"#E5ECF6\", \"polar\": {\"angularaxis\": {\"gridcolor\": \"white\", \"linecolor\": \"white\", \"ticks\": \"\"}, \"bgcolor\": \"#E5ECF6\", \"radialaxis\": {\"gridcolor\": \"white\", \"linecolor\": \"white\", \"ticks\": \"\"}}, \"scene\": {\"xaxis\": {\"backgroundcolor\": \"#E5ECF6\", \"gridcolor\": \"white\", \"gridwidth\": 2, \"linecolor\": \"white\", \"showbackground\": true, \"ticks\": \"\", \"zerolinecolor\": \"white\"}, \"yaxis\": {\"backgroundcolor\": \"#E5ECF6\", \"gridcolor\": \"white\", \"gridwidth\": 2, \"linecolor\": \"white\", \"showbackground\": true, \"ticks\": \"\", \"zerolinecolor\": \"white\"}, \"zaxis\": {\"backgroundcolor\": \"#E5ECF6\", \"gridcolor\": \"white\", \"gridwidth\": 2, \"linecolor\": \"white\", \"showbackground\": true, \"ticks\": \"\", \"zerolinecolor\": \"white\"}}, \"shapedefaults\": {\"line\": {\"color\": \"#2a3f5f\"}}, \"ternary\": {\"aaxis\": {\"gridcolor\": \"white\", \"linecolor\": \"white\", \"ticks\": \"\"}, \"baxis\": {\"gridcolor\": \"white\", \"linecolor\": \"white\", \"ticks\": \"\"}, \"bgcolor\": \"#E5ECF6\", \"caxis\": {\"gridcolor\": \"white\", \"linecolor\": \"white\", \"ticks\": \"\"}}, \"title\": {\"x\": 0.05}, \"xaxis\": {\"automargin\": true, \"gridcolor\": \"white\", \"linecolor\": \"white\", \"ticks\": \"\", \"title\": {\"standoff\": 15}, \"zerolinecolor\": \"white\", \"zerolinewidth\": 2}, \"yaxis\": {\"automargin\": true, \"gridcolor\": \"white\", \"linecolor\": \"white\", \"ticks\": \"\", \"title\": {\"standoff\": 15}, \"zerolinecolor\": \"white\", \"zerolinewidth\": 2}}}, \"title\": {\"text\": \"\\ud3c9\\uc77c VS \\uc8fc\\ub9d0 \\uc2dc\\uac04\\ubcc4 \\ud560\\ubd80\\uacb0\\uc81c \\ube48\\ub3c4\\uc218\"}, \"xaxis\": {\"gridwidth\": 2, \"ticklen\": 5, \"title\": {\"text\": \"\\uc2dc\\uac04\"}, \"zeroline\": false}, \"yaxis\": {\"gridwidth\": 2, \"ticklen\": 5, \"title\": {\"text\": \"\\ube48\\ub3c4\\uc218\"}}},                        {\"responsive\": true}                    ).then(function(){\n",
       "                            \n",
       "var gd = document.getElementById('48f3d805-1d19-4136-80ee-e12d316eae24');\n",
       "var x = new MutationObserver(function (mutations, observer) {{\n",
       "        var display = window.getComputedStyle(gd).display;\n",
       "        if (!display || display === 'none') {{\n",
       "            console.log([gd, 'removed!']);\n",
       "            Plotly.purge(gd);\n",
       "            observer.disconnect();\n",
       "        }}\n",
       "}});\n",
       "\n",
       "// Listen for the removal of the full notebook cells\n",
       "var notebookContainer = gd.closest('#notebook-container');\n",
       "if (notebookContainer) {{\n",
       "    x.observe(notebookContainer, {childList: true});\n",
       "}}\n",
       "\n",
       "// Listen for the clearing of the current output cell\n",
       "var outputEl = gd.closest('.output');\n",
       "if (outputEl) {{\n",
       "    x.observe(outputEl, {childList: true});\n",
       "}}\n",
       "\n",
       "                        })                };                });            </script>        </div>"
      ]
     },
     "metadata": {},
     "output_type": "display_data"
    }
   ],
   "source": [
    "data = [go.Scatter(x=installments_count_by_hour1[\"hour\"], y=installments_count_by_hour1[\"평일 평균 할부결제 빈도수\"], name=\"평일\", marker_color=\"blue\"),\n",
    "       go.Scatter(x=installments_count_by_hour2[\"hour\"], y=installments_count_by_hour2[\"주말 평균 할부결제 빈도수\"], name=\"주말\", marker_color=\"red\")]\n",
    "layout= go.Layout(title= \"평일 VS 주말 시간별 할부결제 빈도수\", xaxis= dict(title='시간', ticklen=5, zeroline=False, gridwidth=2), yaxis= dict(title='빈도수', ticklen=5, gridwidth=2), showlegend=True)\n",
    "fig = go.Figure(data=data, layout=layout)\n",
    "py.iplot(fig, filename='시간별 할부결제 빈도수')"
   ]
  },
  {
   "cell_type": "code",
   "execution_count": 85,
   "metadata": {},
   "outputs": [
    {
     "data": {
      "text/html": [
       "<div>\n",
       "<style scoped>\n",
       "    .dataframe tbody tr th:only-of-type {\n",
       "        vertical-align: middle;\n",
       "    }\n",
       "\n",
       "    .dataframe tbody tr th {\n",
       "        vertical-align: top;\n",
       "    }\n",
       "\n",
       "    .dataframe thead th {\n",
       "        text-align: right;\n",
       "    }\n",
       "</style>\n",
       "<table border=\"1\" class=\"dataframe\">\n",
       "  <thead>\n",
       "    <tr style=\"text-align: right;\">\n",
       "      <th></th>\n",
       "      <th>store_id</th>\n",
       "      <th>date</th>\n",
       "      <th>time</th>\n",
       "      <th>card_id</th>\n",
       "      <th>amount</th>\n",
       "      <th>installments</th>\n",
       "      <th>days_of_week</th>\n",
       "      <th>holyday</th>\n",
       "      <th>year-month</th>\n",
       "      <th>year</th>\n",
       "      <th>month</th>\n",
       "      <th>day</th>\n",
       "      <th>hour</th>\n",
       "      <th>weekend</th>\n",
       "    </tr>\n",
       "  </thead>\n",
       "  <tbody>\n",
       "    <tr>\n",
       "      <th>929617</th>\n",
       "      <td>370</td>\n",
       "      <td>2018-04-10</td>\n",
       "      <td>14:59:47</td>\n",
       "      <td>d8b799ac0c</td>\n",
       "      <td>-50000</td>\n",
       "      <td>3.0</td>\n",
       "      <td>1</td>\n",
       "      <td>0</td>\n",
       "      <td>2018-04</td>\n",
       "      <td>2018</td>\n",
       "      <td>4</td>\n",
       "      <td>10</td>\n",
       "      <td>14</td>\n",
       "      <td>0</td>\n",
       "    </tr>\n",
       "    <tr>\n",
       "      <th>929647</th>\n",
       "      <td>370</td>\n",
       "      <td>2018-07-13</td>\n",
       "      <td>20:10:35</td>\n",
       "      <td>d8b799ac0c</td>\n",
       "      <td>-50000</td>\n",
       "      <td>3.0</td>\n",
       "      <td>4</td>\n",
       "      <td>0</td>\n",
       "      <td>2018-07</td>\n",
       "      <td>2018</td>\n",
       "      <td>7</td>\n",
       "      <td>13</td>\n",
       "      <td>20</td>\n",
       "      <td>0</td>\n",
       "    </tr>\n",
       "    <tr>\n",
       "      <th>929649</th>\n",
       "      <td>370</td>\n",
       "      <td>2018-07-13</td>\n",
       "      <td>20:10:36</td>\n",
       "      <td>d8b799ac0c</td>\n",
       "      <td>-50000</td>\n",
       "      <td>3.0</td>\n",
       "      <td>4</td>\n",
       "      <td>0</td>\n",
       "      <td>2018-07</td>\n",
       "      <td>2018</td>\n",
       "      <td>7</td>\n",
       "      <td>13</td>\n",
       "      <td>20</td>\n",
       "      <td>0</td>\n",
       "    </tr>\n",
       "    <tr>\n",
       "      <th>929650</th>\n",
       "      <td>370</td>\n",
       "      <td>2018-07-17</td>\n",
       "      <td>19:44:42</td>\n",
       "      <td>d8b799ac0c</td>\n",
       "      <td>-50000</td>\n",
       "      <td>3.0</td>\n",
       "      <td>1</td>\n",
       "      <td>0</td>\n",
       "      <td>2018-07</td>\n",
       "      <td>2018</td>\n",
       "      <td>7</td>\n",
       "      <td>17</td>\n",
       "      <td>19</td>\n",
       "      <td>0</td>\n",
       "    </tr>\n",
       "    <tr>\n",
       "      <th>929651</th>\n",
       "      <td>370</td>\n",
       "      <td>2018-07-17</td>\n",
       "      <td>19:44:42</td>\n",
       "      <td>d8b799ac0c</td>\n",
       "      <td>-50000</td>\n",
       "      <td>3.0</td>\n",
       "      <td>1</td>\n",
       "      <td>0</td>\n",
       "      <td>2018-07</td>\n",
       "      <td>2018</td>\n",
       "      <td>7</td>\n",
       "      <td>17</td>\n",
       "      <td>19</td>\n",
       "      <td>0</td>\n",
       "    </tr>\n",
       "    <tr>\n",
       "      <th>...</th>\n",
       "      <td>...</td>\n",
       "      <td>...</td>\n",
       "      <td>...</td>\n",
       "      <td>...</td>\n",
       "      <td>...</td>\n",
       "      <td>...</td>\n",
       "      <td>...</td>\n",
       "      <td>...</td>\n",
       "      <td>...</td>\n",
       "      <td>...</td>\n",
       "      <td>...</td>\n",
       "      <td>...</td>\n",
       "      <td>...</td>\n",
       "      <td>...</td>\n",
       "    </tr>\n",
       "    <tr>\n",
       "      <th>2843100</th>\n",
       "      <td>1497</td>\n",
       "      <td>2016-10-08</td>\n",
       "      <td>17:47:34</td>\n",
       "      <td>b92da52c7f</td>\n",
       "      <td>-1</td>\n",
       "      <td>1.0</td>\n",
       "      <td>5</td>\n",
       "      <td>0</td>\n",
       "      <td>2016-10</td>\n",
       "      <td>2016</td>\n",
       "      <td>10</td>\n",
       "      <td>8</td>\n",
       "      <td>17</td>\n",
       "      <td>1</td>\n",
       "    </tr>\n",
       "    <tr>\n",
       "      <th>146689</th>\n",
       "      <td>34</td>\n",
       "      <td>2018-05-09</td>\n",
       "      <td>02:30:27</td>\n",
       "      <td>2285acc03f</td>\n",
       "      <td>-1</td>\n",
       "      <td>1.0</td>\n",
       "      <td>2</td>\n",
       "      <td>0</td>\n",
       "      <td>2018-05</td>\n",
       "      <td>2018</td>\n",
       "      <td>5</td>\n",
       "      <td>9</td>\n",
       "      <td>2</td>\n",
       "      <td>0</td>\n",
       "    </tr>\n",
       "    <tr>\n",
       "      <th>1909423</th>\n",
       "      <td>978</td>\n",
       "      <td>2017-02-27</td>\n",
       "      <td>14:30:00</td>\n",
       "      <td>2844b95375</td>\n",
       "      <td>-1</td>\n",
       "      <td>1.0</td>\n",
       "      <td>0</td>\n",
       "      <td>0</td>\n",
       "      <td>2017-02</td>\n",
       "      <td>2017</td>\n",
       "      <td>2</td>\n",
       "      <td>27</td>\n",
       "      <td>14</td>\n",
       "      <td>0</td>\n",
       "    </tr>\n",
       "    <tr>\n",
       "      <th>1315207</th>\n",
       "      <td>555</td>\n",
       "      <td>2017-10-17</td>\n",
       "      <td>15:49:00</td>\n",
       "      <td>d2354ab773</td>\n",
       "      <td>-1</td>\n",
       "      <td>1.0</td>\n",
       "      <td>1</td>\n",
       "      <td>0</td>\n",
       "      <td>2017-10</td>\n",
       "      <td>2017</td>\n",
       "      <td>10</td>\n",
       "      <td>17</td>\n",
       "      <td>15</td>\n",
       "      <td>0</td>\n",
       "    </tr>\n",
       "    <tr>\n",
       "      <th>2023421</th>\n",
       "      <td>1038</td>\n",
       "      <td>2017-06-30</td>\n",
       "      <td>15:58:09</td>\n",
       "      <td>f1c146fb11</td>\n",
       "      <td>-1</td>\n",
       "      <td>1.0</td>\n",
       "      <td>4</td>\n",
       "      <td>0</td>\n",
       "      <td>2017-06</td>\n",
       "      <td>2017</td>\n",
       "      <td>6</td>\n",
       "      <td>30</td>\n",
       "      <td>15</td>\n",
       "      <td>0</td>\n",
       "    </tr>\n",
       "  </tbody>\n",
       "</table>\n",
       "<p>33825 rows × 14 columns</p>\n",
       "</div>"
      ],
      "text/plain": [
       "         store_id       date      time     card_id  amount  installments  \\\n",
       "929617        370 2018-04-10  14:59:47  d8b799ac0c  -50000           3.0   \n",
       "929647        370 2018-07-13  20:10:35  d8b799ac0c  -50000           3.0   \n",
       "929649        370 2018-07-13  20:10:36  d8b799ac0c  -50000           3.0   \n",
       "929650        370 2018-07-17  19:44:42  d8b799ac0c  -50000           3.0   \n",
       "929651        370 2018-07-17  19:44:42  d8b799ac0c  -50000           3.0   \n",
       "...           ...        ...       ...         ...     ...           ...   \n",
       "2843100      1497 2016-10-08  17:47:34  b92da52c7f      -1           1.0   \n",
       "146689         34 2018-05-09  02:30:27  2285acc03f      -1           1.0   \n",
       "1909423       978 2017-02-27  14:30:00  2844b95375      -1           1.0   \n",
       "1315207       555 2017-10-17  15:49:00  d2354ab773      -1           1.0   \n",
       "2023421      1038 2017-06-30  15:58:09  f1c146fb11      -1           1.0   \n",
       "\n",
       "         days_of_week  holyday year-month  year  month  day  hour  weekend  \n",
       "929617              1        0    2018-04  2018      4   10    14        0  \n",
       "929647              4        0    2018-07  2018      7   13    20        0  \n",
       "929649              4        0    2018-07  2018      7   13    20        0  \n",
       "929650              1        0    2018-07  2018      7   17    19        0  \n",
       "929651              1        0    2018-07  2018      7   17    19        0  \n",
       "...               ...      ...        ...   ...    ...  ...   ...      ...  \n",
       "2843100             5        0    2016-10  2016     10    8    17        1  \n",
       "146689              2        0    2018-05  2018      5    9     2        0  \n",
       "1909423             0        0    2017-02  2017      2   27    14        0  \n",
       "1315207             1        0    2017-10  2017     10   17    15        0  \n",
       "2023421             4        0    2017-06  2017      6   30    15        0  \n",
       "\n",
       "[33825 rows x 14 columns]"
      ]
     },
     "execution_count": 85,
     "metadata": {},
     "output_type": "execute_result"
    }
   ],
   "source": [
    "# 거래취소 건수 33832개\n",
    "train[train[\"amount\"] < 0].sort_values(by=\"amount\")"
   ]
  },
  {
   "cell_type": "code",
   "execution_count": 86,
   "metadata": {},
   "outputs": [],
   "source": [
    "# 평균 하루 매출 건수 확인하기"
   ]
  },
  {
   "cell_type": "code",
   "execution_count": null,
   "metadata": {},
   "outputs": [],
   "source": []
  },
  {
   "cell_type": "code",
   "execution_count": null,
   "metadata": {},
   "outputs": [],
   "source": [
    "# 클러스터링 먼저 하자"
   ]
  },
  {
   "cell_type": "code",
   "execution_count": 186,
   "metadata": {},
   "outputs": [
    {
     "data": {
      "text/html": [
       "<div>\n",
       "<style scoped>\n",
       "    .dataframe tbody tr th:only-of-type {\n",
       "        vertical-align: middle;\n",
       "    }\n",
       "\n",
       "    .dataframe tbody tr th {\n",
       "        vertical-align: top;\n",
       "    }\n",
       "\n",
       "    .dataframe thead th {\n",
       "        text-align: right;\n",
       "    }\n",
       "</style>\n",
       "<table border=\"1\" class=\"dataframe\">\n",
       "  <thead>\n",
       "    <tr style=\"text-align: right;\">\n",
       "      <th></th>\n",
       "      <th>store_id</th>\n",
       "      <th>amount</th>\n",
       "    </tr>\n",
       "  </thead>\n",
       "  <tbody>\n",
       "    <tr>\n",
       "      <th>count</th>\n",
       "      <td>1772.000000</td>\n",
       "      <td>1772.000000</td>\n",
       "    </tr>\n",
       "    <tr>\n",
       "      <th>mean</th>\n",
       "      <td>898.241535</td>\n",
       "      <td>1858.983634</td>\n",
       "    </tr>\n",
       "    <tr>\n",
       "      <th>std</th>\n",
       "      <td>519.515030</td>\n",
       "      <td>3971.050800</td>\n",
       "    </tr>\n",
       "    <tr>\n",
       "      <th>min</th>\n",
       "      <td>0.000000</td>\n",
       "      <td>1.000000</td>\n",
       "    </tr>\n",
       "    <tr>\n",
       "      <th>25%</th>\n",
       "      <td>448.750000</td>\n",
       "      <td>96.750000</td>\n",
       "    </tr>\n",
       "    <tr>\n",
       "      <th>50%</th>\n",
       "      <td>896.500000</td>\n",
       "      <td>479.500000</td>\n",
       "    </tr>\n",
       "    <tr>\n",
       "      <th>75%</th>\n",
       "      <td>1347.250000</td>\n",
       "      <td>1915.250000</td>\n",
       "    </tr>\n",
       "    <tr>\n",
       "      <th>max</th>\n",
       "      <td>1799.000000</td>\n",
       "      <td>67532.000000</td>\n",
       "    </tr>\n",
       "  </tbody>\n",
       "</table>\n",
       "</div>"
      ],
      "text/plain": [
       "          store_id        amount\n",
       "count  1772.000000   1772.000000\n",
       "mean    898.241535   1858.983634\n",
       "std     519.515030   3971.050800\n",
       "min       0.000000      1.000000\n",
       "25%     448.750000     96.750000\n",
       "50%     896.500000    479.500000\n",
       "75%    1347.250000   1915.250000\n",
       "max    1799.000000  67532.000000"
      ]
     },
     "execution_count": 186,
     "metadata": {},
     "output_type": "execute_result"
    }
   ],
   "source": [
    "cluster1 = train.groupby(\"store_id\")[\"amount\"].size().reset_index()\n",
    "cluster1.describe()"
   ]
  },
  {
   "cell_type": "code",
   "execution_count": 108,
   "metadata": {},
   "outputs": [
    {
     "data": {
      "text/html": [
       "<div>\n",
       "<style scoped>\n",
       "    .dataframe tbody tr th:only-of-type {\n",
       "        vertical-align: middle;\n",
       "    }\n",
       "\n",
       "    .dataframe tbody tr th {\n",
       "        vertical-align: top;\n",
       "    }\n",
       "\n",
       "    .dataframe thead th {\n",
       "        text-align: right;\n",
       "    }\n",
       "</style>\n",
       "<table border=\"1\" class=\"dataframe\">\n",
       "  <thead>\n",
       "    <tr style=\"text-align: right;\">\n",
       "      <th></th>\n",
       "      <th>store_id</th>\n",
       "      <th>amount</th>\n",
       "    </tr>\n",
       "  </thead>\n",
       "  <tbody>\n",
       "    <tr>\n",
       "      <th>0</th>\n",
       "      <td>0</td>\n",
       "      <td>5234611</td>\n",
       "    </tr>\n",
       "    <tr>\n",
       "      <th>1</th>\n",
       "      <td>1</td>\n",
       "      <td>147950</td>\n",
       "    </tr>\n",
       "    <tr>\n",
       "      <th>2</th>\n",
       "      <td>2</td>\n",
       "      <td>1615060</td>\n",
       "    </tr>\n",
       "    <tr>\n",
       "      <th>4</th>\n",
       "      <td>4</td>\n",
       "      <td>270312</td>\n",
       "    </tr>\n",
       "    <tr>\n",
       "      <th>5</th>\n",
       "      <td>5</td>\n",
       "      <td>184437</td>\n",
       "    </tr>\n",
       "    <tr>\n",
       "      <th>...</th>\n",
       "      <td>...</td>\n",
       "      <td>...</td>\n",
       "    </tr>\n",
       "    <tr>\n",
       "      <th>1766</th>\n",
       "      <td>1791</td>\n",
       "      <td>915759</td>\n",
       "    </tr>\n",
       "    <tr>\n",
       "      <th>1768</th>\n",
       "      <td>1793</td>\n",
       "      <td>1210907</td>\n",
       "    </tr>\n",
       "    <tr>\n",
       "      <th>1769</th>\n",
       "      <td>1794</td>\n",
       "      <td>538364</td>\n",
       "    </tr>\n",
       "    <tr>\n",
       "      <th>1770</th>\n",
       "      <td>1795</td>\n",
       "      <td>1319911</td>\n",
       "    </tr>\n",
       "    <tr>\n",
       "      <th>1774</th>\n",
       "      <td>1799</td>\n",
       "      <td>192951</td>\n",
       "    </tr>\n",
       "  </tbody>\n",
       "</table>\n",
       "<p>887 rows × 2 columns</p>\n",
       "</div>"
      ],
      "text/plain": [
       "      store_id   amount\n",
       "0            0  5234611\n",
       "1            1   147950\n",
       "2            2  1615060\n",
       "4            4   270312\n",
       "5            5   184437\n",
       "...        ...      ...\n",
       "1766      1791   915759\n",
       "1768      1793  1210907\n",
       "1769      1794   538364\n",
       "1770      1795  1319911\n",
       "1774      1799   192951\n",
       "\n",
       "[887 rows x 2 columns]"
      ]
     },
     "execution_count": 108,
     "metadata": {},
     "output_type": "execute_result"
    }
   ],
   "source": [
    "cluster_50 = cluster1[cluster1[\"amount\"] > 1.198840e+05]\n",
    "cluster_50"
   ]
  },
  {
   "cell_type": "code",
   "execution_count": 107,
   "metadata": {},
   "outputs": [
    {
     "data": {
      "text/html": [
       "<div>\n",
       "<style scoped>\n",
       "    .dataframe tbody tr th:only-of-type {\n",
       "        vertical-align: middle;\n",
       "    }\n",
       "\n",
       "    .dataframe tbody tr th {\n",
       "        vertical-align: top;\n",
       "    }\n",
       "\n",
       "    .dataframe thead th {\n",
       "        text-align: right;\n",
       "    }\n",
       "</style>\n",
       "<table border=\"1\" class=\"dataframe\">\n",
       "  <thead>\n",
       "    <tr style=\"text-align: right;\">\n",
       "      <th></th>\n",
       "      <th>store_id</th>\n",
       "      <th>amount</th>\n",
       "    </tr>\n",
       "  </thead>\n",
       "  <tbody>\n",
       "    <tr>\n",
       "      <th>3</th>\n",
       "      <td>3</td>\n",
       "      <td>62781</td>\n",
       "    </tr>\n",
       "    <tr>\n",
       "      <th>7</th>\n",
       "      <td>7</td>\n",
       "      <td>109510</td>\n",
       "    </tr>\n",
       "    <tr>\n",
       "      <th>9</th>\n",
       "      <td>9</td>\n",
       "      <td>19760</td>\n",
       "    </tr>\n",
       "    <tr>\n",
       "      <th>10</th>\n",
       "      <td>10</td>\n",
       "      <td>9110</td>\n",
       "    </tr>\n",
       "    <tr>\n",
       "      <th>14</th>\n",
       "      <td>15</td>\n",
       "      <td>36720</td>\n",
       "    </tr>\n",
       "    <tr>\n",
       "      <th>...</th>\n",
       "      <td>...</td>\n",
       "      <td>...</td>\n",
       "    </tr>\n",
       "    <tr>\n",
       "      <th>1764</th>\n",
       "      <td>1789</td>\n",
       "      <td>10322</td>\n",
       "    </tr>\n",
       "    <tr>\n",
       "      <th>1767</th>\n",
       "      <td>1792</td>\n",
       "      <td>46473</td>\n",
       "    </tr>\n",
       "    <tr>\n",
       "      <th>1771</th>\n",
       "      <td>1796</td>\n",
       "      <td>15372</td>\n",
       "    </tr>\n",
       "    <tr>\n",
       "      <th>1772</th>\n",
       "      <td>1797</td>\n",
       "      <td>49645</td>\n",
       "    </tr>\n",
       "    <tr>\n",
       "      <th>1773</th>\n",
       "      <td>1798</td>\n",
       "      <td>110011</td>\n",
       "    </tr>\n",
       "  </tbody>\n",
       "</table>\n",
       "<p>888 rows × 2 columns</p>\n",
       "</div>"
      ],
      "text/plain": [
       "      store_id  amount\n",
       "3            3   62781\n",
       "7            7  109510\n",
       "9            9   19760\n",
       "10          10    9110\n",
       "14          15   36720\n",
       "...        ...     ...\n",
       "1764      1789   10322\n",
       "1767      1792   46473\n",
       "1771      1796   15372\n",
       "1772      1797   49645\n",
       "1773      1798  110011\n",
       "\n",
       "[888 rows x 2 columns]"
      ]
     },
     "execution_count": 107,
     "metadata": {},
     "output_type": "execute_result"
    }
   ],
   "source": [
    "cluster_100 = cluster1[cluster1[\"amount\"] <= 1.198840e+05]\n",
    "cluster_100"
   ]
  },
  {
   "cell_type": "code",
   "execution_count": 110,
   "metadata": {},
   "outputs": [],
   "source": [
    "upper50 = cluster_50[\"store_id\"]"
   ]
  },
  {
   "cell_type": "code",
   "execution_count": 113,
   "metadata": {},
   "outputs": [],
   "source": [
    "cluster_amount1 = train[train[\"store_id\"].isin(upper50)]"
   ]
  },
  {
   "cell_type": "code",
   "execution_count": 121,
   "metadata": {},
   "outputs": [
    {
     "data": {
      "text/html": [
       "<div>\n",
       "<style scoped>\n",
       "    .dataframe tbody tr th:only-of-type {\n",
       "        vertical-align: middle;\n",
       "    }\n",
       "\n",
       "    .dataframe tbody tr th {\n",
       "        vertical-align: top;\n",
       "    }\n",
       "\n",
       "    .dataframe thead th {\n",
       "        text-align: right;\n",
       "    }\n",
       "</style>\n",
       "<table border=\"1\" class=\"dataframe\">\n",
       "  <thead>\n",
       "    <tr style=\"text-align: right;\">\n",
       "      <th></th>\n",
       "      <th>month</th>\n",
       "      <th>amount</th>\n",
       "    </tr>\n",
       "  </thead>\n",
       "  <tbody>\n",
       "    <tr>\n",
       "      <th>0</th>\n",
       "      <td>1</td>\n",
       "      <td>37111919</td>\n",
       "    </tr>\n",
       "    <tr>\n",
       "      <th>1</th>\n",
       "      <td>2</td>\n",
       "      <td>35895881</td>\n",
       "    </tr>\n",
       "    <tr>\n",
       "      <th>2</th>\n",
       "      <td>3</td>\n",
       "      <td>42257978</td>\n",
       "    </tr>\n",
       "    <tr>\n",
       "      <th>3</th>\n",
       "      <td>4</td>\n",
       "      <td>41156748</td>\n",
       "    </tr>\n",
       "    <tr>\n",
       "      <th>4</th>\n",
       "      <td>5</td>\n",
       "      <td>42216140</td>\n",
       "    </tr>\n",
       "    <tr>\n",
       "      <th>5</th>\n",
       "      <td>6</td>\n",
       "      <td>40790132</td>\n",
       "    </tr>\n",
       "    <tr>\n",
       "      <th>6</th>\n",
       "      <td>7</td>\n",
       "      <td>41086125</td>\n",
       "    </tr>\n",
       "    <tr>\n",
       "      <th>7</th>\n",
       "      <td>8</td>\n",
       "      <td>31871097</td>\n",
       "    </tr>\n",
       "    <tr>\n",
       "      <th>8</th>\n",
       "      <td>9</td>\n",
       "      <td>32202993</td>\n",
       "    </tr>\n",
       "    <tr>\n",
       "      <th>9</th>\n",
       "      <td>10</td>\n",
       "      <td>32719884</td>\n",
       "    </tr>\n",
       "    <tr>\n",
       "      <th>10</th>\n",
       "      <td>11</td>\n",
       "      <td>33210398</td>\n",
       "    </tr>\n",
       "    <tr>\n",
       "      <th>11</th>\n",
       "      <td>12</td>\n",
       "      <td>40555092</td>\n",
       "    </tr>\n",
       "  </tbody>\n",
       "</table>\n",
       "</div>"
      ],
      "text/plain": [
       "    month    amount\n",
       "0       1  37111919\n",
       "1       2  35895881\n",
       "2       3  42257978\n",
       "3       4  41156748\n",
       "4       5  42216140\n",
       "5       6  40790132\n",
       "6       7  41086125\n",
       "7       8  31871097\n",
       "8       9  32202993\n",
       "9      10  32719884\n",
       "10     11  33210398\n",
       "11     12  40555092"
      ]
     },
     "execution_count": 121,
     "metadata": {},
     "output_type": "execute_result"
    }
   ],
   "source": [
    "cluster_monthly1 = cluster_amount1.groupby(\"month\")[\"amount\"].sum().reset_index()\n",
    "cluster_monthly1"
   ]
  },
  {
   "cell_type": "code",
   "execution_count": 116,
   "metadata": {},
   "outputs": [],
   "source": [
    "bottom50 = cluster_100[\"store_id\"]"
   ]
  },
  {
   "cell_type": "code",
   "execution_count": 117,
   "metadata": {},
   "outputs": [],
   "source": [
    "cluster_amount2 = train[train[\"store_id\"].isin(bottom50)]"
   ]
  },
  {
   "cell_type": "code",
   "execution_count": 120,
   "metadata": {},
   "outputs": [],
   "source": [
    "cluster_monthly2 = cluster_amount2.groupby(\"month\")[\"amount\"].sum().reset_index()"
   ]
  },
  {
   "cell_type": "code",
   "execution_count": 123,
   "metadata": {},
   "outputs": [
    {
     "data": {
      "application/vnd.plotly.v1+json": {
       "config": {
        "linkText": "Export to plot.ly",
        "plotlyServerURL": "https://plot.ly",
        "showLink": false
       },
       "data": [
        {
         "marker": {
          "color": "red"
         },
         "name": "상위50%",
         "type": "scatter",
         "x": [
          1,
          2,
          3,
          4,
          5,
          6,
          7,
          8,
          9,
          10,
          11,
          12
         ],
         "y": [
          37111919,
          35895881,
          42257978,
          41156748,
          42216140,
          40790132,
          41086125,
          31871097,
          32202993,
          32719884,
          33210398,
          40555092
         ]
        },
        {
         "marker": {
          "color": "blue"
         },
         "name": "하위50%",
         "type": "scatter",
         "x": [
          1,
          2,
          3,
          4,
          5,
          6,
          7,
          8,
          9,
          10,
          11,
          12
         ],
         "y": [
          2407447,
          2656888,
          3820125,
          4379635,
          4888516,
          5178227,
          5336402,
          1635328,
          1991303,
          2077879,
          2142813,
          2490178
         ]
        }
       ],
       "layout": {
        "showlegend": true,
        "template": {
         "data": {
          "bar": [
           {
            "error_x": {
             "color": "#2a3f5f"
            },
            "error_y": {
             "color": "#2a3f5f"
            },
            "marker": {
             "line": {
              "color": "#E5ECF6",
              "width": 0.5
             }
            },
            "type": "bar"
           }
          ],
          "barpolar": [
           {
            "marker": {
             "line": {
              "color": "#E5ECF6",
              "width": 0.5
             }
            },
            "type": "barpolar"
           }
          ],
          "carpet": [
           {
            "aaxis": {
             "endlinecolor": "#2a3f5f",
             "gridcolor": "white",
             "linecolor": "white",
             "minorgridcolor": "white",
             "startlinecolor": "#2a3f5f"
            },
            "baxis": {
             "endlinecolor": "#2a3f5f",
             "gridcolor": "white",
             "linecolor": "white",
             "minorgridcolor": "white",
             "startlinecolor": "#2a3f5f"
            },
            "type": "carpet"
           }
          ],
          "choropleth": [
           {
            "colorbar": {
             "outlinewidth": 0,
             "ticks": ""
            },
            "type": "choropleth"
           }
          ],
          "contour": [
           {
            "colorbar": {
             "outlinewidth": 0,
             "ticks": ""
            },
            "colorscale": [
             [
              0,
              "#0d0887"
             ],
             [
              0.1111111111111111,
              "#46039f"
             ],
             [
              0.2222222222222222,
              "#7201a8"
             ],
             [
              0.3333333333333333,
              "#9c179e"
             ],
             [
              0.4444444444444444,
              "#bd3786"
             ],
             [
              0.5555555555555556,
              "#d8576b"
             ],
             [
              0.6666666666666666,
              "#ed7953"
             ],
             [
              0.7777777777777778,
              "#fb9f3a"
             ],
             [
              0.8888888888888888,
              "#fdca26"
             ],
             [
              1,
              "#f0f921"
             ]
            ],
            "type": "contour"
           }
          ],
          "contourcarpet": [
           {
            "colorbar": {
             "outlinewidth": 0,
             "ticks": ""
            },
            "type": "contourcarpet"
           }
          ],
          "heatmap": [
           {
            "colorbar": {
             "outlinewidth": 0,
             "ticks": ""
            },
            "colorscale": [
             [
              0,
              "#0d0887"
             ],
             [
              0.1111111111111111,
              "#46039f"
             ],
             [
              0.2222222222222222,
              "#7201a8"
             ],
             [
              0.3333333333333333,
              "#9c179e"
             ],
             [
              0.4444444444444444,
              "#bd3786"
             ],
             [
              0.5555555555555556,
              "#d8576b"
             ],
             [
              0.6666666666666666,
              "#ed7953"
             ],
             [
              0.7777777777777778,
              "#fb9f3a"
             ],
             [
              0.8888888888888888,
              "#fdca26"
             ],
             [
              1,
              "#f0f921"
             ]
            ],
            "type": "heatmap"
           }
          ],
          "heatmapgl": [
           {
            "colorbar": {
             "outlinewidth": 0,
             "ticks": ""
            },
            "colorscale": [
             [
              0,
              "#0d0887"
             ],
             [
              0.1111111111111111,
              "#46039f"
             ],
             [
              0.2222222222222222,
              "#7201a8"
             ],
             [
              0.3333333333333333,
              "#9c179e"
             ],
             [
              0.4444444444444444,
              "#bd3786"
             ],
             [
              0.5555555555555556,
              "#d8576b"
             ],
             [
              0.6666666666666666,
              "#ed7953"
             ],
             [
              0.7777777777777778,
              "#fb9f3a"
             ],
             [
              0.8888888888888888,
              "#fdca26"
             ],
             [
              1,
              "#f0f921"
             ]
            ],
            "type": "heatmapgl"
           }
          ],
          "histogram": [
           {
            "marker": {
             "colorbar": {
              "outlinewidth": 0,
              "ticks": ""
             }
            },
            "type": "histogram"
           }
          ],
          "histogram2d": [
           {
            "colorbar": {
             "outlinewidth": 0,
             "ticks": ""
            },
            "colorscale": [
             [
              0,
              "#0d0887"
             ],
             [
              0.1111111111111111,
              "#46039f"
             ],
             [
              0.2222222222222222,
              "#7201a8"
             ],
             [
              0.3333333333333333,
              "#9c179e"
             ],
             [
              0.4444444444444444,
              "#bd3786"
             ],
             [
              0.5555555555555556,
              "#d8576b"
             ],
             [
              0.6666666666666666,
              "#ed7953"
             ],
             [
              0.7777777777777778,
              "#fb9f3a"
             ],
             [
              0.8888888888888888,
              "#fdca26"
             ],
             [
              1,
              "#f0f921"
             ]
            ],
            "type": "histogram2d"
           }
          ],
          "histogram2dcontour": [
           {
            "colorbar": {
             "outlinewidth": 0,
             "ticks": ""
            },
            "colorscale": [
             [
              0,
              "#0d0887"
             ],
             [
              0.1111111111111111,
              "#46039f"
             ],
             [
              0.2222222222222222,
              "#7201a8"
             ],
             [
              0.3333333333333333,
              "#9c179e"
             ],
             [
              0.4444444444444444,
              "#bd3786"
             ],
             [
              0.5555555555555556,
              "#d8576b"
             ],
             [
              0.6666666666666666,
              "#ed7953"
             ],
             [
              0.7777777777777778,
              "#fb9f3a"
             ],
             [
              0.8888888888888888,
              "#fdca26"
             ],
             [
              1,
              "#f0f921"
             ]
            ],
            "type": "histogram2dcontour"
           }
          ],
          "mesh3d": [
           {
            "colorbar": {
             "outlinewidth": 0,
             "ticks": ""
            },
            "type": "mesh3d"
           }
          ],
          "parcoords": [
           {
            "line": {
             "colorbar": {
              "outlinewidth": 0,
              "ticks": ""
             }
            },
            "type": "parcoords"
           }
          ],
          "pie": [
           {
            "automargin": true,
            "type": "pie"
           }
          ],
          "scatter": [
           {
            "marker": {
             "colorbar": {
              "outlinewidth": 0,
              "ticks": ""
             }
            },
            "type": "scatter"
           }
          ],
          "scatter3d": [
           {
            "line": {
             "colorbar": {
              "outlinewidth": 0,
              "ticks": ""
             }
            },
            "marker": {
             "colorbar": {
              "outlinewidth": 0,
              "ticks": ""
             }
            },
            "type": "scatter3d"
           }
          ],
          "scattercarpet": [
           {
            "marker": {
             "colorbar": {
              "outlinewidth": 0,
              "ticks": ""
             }
            },
            "type": "scattercarpet"
           }
          ],
          "scattergeo": [
           {
            "marker": {
             "colorbar": {
              "outlinewidth": 0,
              "ticks": ""
             }
            },
            "type": "scattergeo"
           }
          ],
          "scattergl": [
           {
            "marker": {
             "colorbar": {
              "outlinewidth": 0,
              "ticks": ""
             }
            },
            "type": "scattergl"
           }
          ],
          "scattermapbox": [
           {
            "marker": {
             "colorbar": {
              "outlinewidth": 0,
              "ticks": ""
             }
            },
            "type": "scattermapbox"
           }
          ],
          "scatterpolar": [
           {
            "marker": {
             "colorbar": {
              "outlinewidth": 0,
              "ticks": ""
             }
            },
            "type": "scatterpolar"
           }
          ],
          "scatterpolargl": [
           {
            "marker": {
             "colorbar": {
              "outlinewidth": 0,
              "ticks": ""
             }
            },
            "type": "scatterpolargl"
           }
          ],
          "scatterternary": [
           {
            "marker": {
             "colorbar": {
              "outlinewidth": 0,
              "ticks": ""
             }
            },
            "type": "scatterternary"
           }
          ],
          "surface": [
           {
            "colorbar": {
             "outlinewidth": 0,
             "ticks": ""
            },
            "colorscale": [
             [
              0,
              "#0d0887"
             ],
             [
              0.1111111111111111,
              "#46039f"
             ],
             [
              0.2222222222222222,
              "#7201a8"
             ],
             [
              0.3333333333333333,
              "#9c179e"
             ],
             [
              0.4444444444444444,
              "#bd3786"
             ],
             [
              0.5555555555555556,
              "#d8576b"
             ],
             [
              0.6666666666666666,
              "#ed7953"
             ],
             [
              0.7777777777777778,
              "#fb9f3a"
             ],
             [
              0.8888888888888888,
              "#fdca26"
             ],
             [
              1,
              "#f0f921"
             ]
            ],
            "type": "surface"
           }
          ],
          "table": [
           {
            "cells": {
             "fill": {
              "color": "#EBF0F8"
             },
             "line": {
              "color": "white"
             }
            },
            "header": {
             "fill": {
              "color": "#C8D4E3"
             },
             "line": {
              "color": "white"
             }
            },
            "type": "table"
           }
          ]
         },
         "layout": {
          "annotationdefaults": {
           "arrowcolor": "#2a3f5f",
           "arrowhead": 0,
           "arrowwidth": 1
          },
          "coloraxis": {
           "colorbar": {
            "outlinewidth": 0,
            "ticks": ""
           }
          },
          "colorscale": {
           "diverging": [
            [
             0,
             "#8e0152"
            ],
            [
             0.1,
             "#c51b7d"
            ],
            [
             0.2,
             "#de77ae"
            ],
            [
             0.3,
             "#f1b6da"
            ],
            [
             0.4,
             "#fde0ef"
            ],
            [
             0.5,
             "#f7f7f7"
            ],
            [
             0.6,
             "#e6f5d0"
            ],
            [
             0.7,
             "#b8e186"
            ],
            [
             0.8,
             "#7fbc41"
            ],
            [
             0.9,
             "#4d9221"
            ],
            [
             1,
             "#276419"
            ]
           ],
           "sequential": [
            [
             0,
             "#0d0887"
            ],
            [
             0.1111111111111111,
             "#46039f"
            ],
            [
             0.2222222222222222,
             "#7201a8"
            ],
            [
             0.3333333333333333,
             "#9c179e"
            ],
            [
             0.4444444444444444,
             "#bd3786"
            ],
            [
             0.5555555555555556,
             "#d8576b"
            ],
            [
             0.6666666666666666,
             "#ed7953"
            ],
            [
             0.7777777777777778,
             "#fb9f3a"
            ],
            [
             0.8888888888888888,
             "#fdca26"
            ],
            [
             1,
             "#f0f921"
            ]
           ],
           "sequentialminus": [
            [
             0,
             "#0d0887"
            ],
            [
             0.1111111111111111,
             "#46039f"
            ],
            [
             0.2222222222222222,
             "#7201a8"
            ],
            [
             0.3333333333333333,
             "#9c179e"
            ],
            [
             0.4444444444444444,
             "#bd3786"
            ],
            [
             0.5555555555555556,
             "#d8576b"
            ],
            [
             0.6666666666666666,
             "#ed7953"
            ],
            [
             0.7777777777777778,
             "#fb9f3a"
            ],
            [
             0.8888888888888888,
             "#fdca26"
            ],
            [
             1,
             "#f0f921"
            ]
           ]
          },
          "colorway": [
           "#636efa",
           "#EF553B",
           "#00cc96",
           "#ab63fa",
           "#FFA15A",
           "#19d3f3",
           "#FF6692",
           "#B6E880",
           "#FF97FF",
           "#FECB52"
          ],
          "font": {
           "color": "#2a3f5f"
          },
          "geo": {
           "bgcolor": "white",
           "lakecolor": "white",
           "landcolor": "#E5ECF6",
           "showlakes": true,
           "showland": true,
           "subunitcolor": "white"
          },
          "hoverlabel": {
           "align": "left"
          },
          "hovermode": "closest",
          "mapbox": {
           "style": "light"
          },
          "paper_bgcolor": "white",
          "plot_bgcolor": "#E5ECF6",
          "polar": {
           "angularaxis": {
            "gridcolor": "white",
            "linecolor": "white",
            "ticks": ""
           },
           "bgcolor": "#E5ECF6",
           "radialaxis": {
            "gridcolor": "white",
            "linecolor": "white",
            "ticks": ""
           }
          },
          "scene": {
           "xaxis": {
            "backgroundcolor": "#E5ECF6",
            "gridcolor": "white",
            "gridwidth": 2,
            "linecolor": "white",
            "showbackground": true,
            "ticks": "",
            "zerolinecolor": "white"
           },
           "yaxis": {
            "backgroundcolor": "#E5ECF6",
            "gridcolor": "white",
            "gridwidth": 2,
            "linecolor": "white",
            "showbackground": true,
            "ticks": "",
            "zerolinecolor": "white"
           },
           "zaxis": {
            "backgroundcolor": "#E5ECF6",
            "gridcolor": "white",
            "gridwidth": 2,
            "linecolor": "white",
            "showbackground": true,
            "ticks": "",
            "zerolinecolor": "white"
           }
          },
          "shapedefaults": {
           "line": {
            "color": "#2a3f5f"
           }
          },
          "ternary": {
           "aaxis": {
            "gridcolor": "white",
            "linecolor": "white",
            "ticks": ""
           },
           "baxis": {
            "gridcolor": "white",
            "linecolor": "white",
            "ticks": ""
           },
           "bgcolor": "#E5ECF6",
           "caxis": {
            "gridcolor": "white",
            "linecolor": "white",
            "ticks": ""
           }
          },
          "title": {
           "x": 0.05
          },
          "xaxis": {
           "automargin": true,
           "gridcolor": "white",
           "linecolor": "white",
           "ticks": "",
           "title": {
            "standoff": 15
           },
           "zerolinecolor": "white",
           "zerolinewidth": 2
          },
          "yaxis": {
           "automargin": true,
           "gridcolor": "white",
           "linecolor": "white",
           "ticks": "",
           "title": {
            "standoff": 15
           },
           "zerolinecolor": "white",
           "zerolinewidth": 2
          }
         }
        },
        "title": {
         "text": "상위 하위 월별 매출 비교"
        },
        "xaxis": {
         "gridwidth": 2,
         "ticklen": 5,
         "title": {
          "text": " "
         },
         "zeroline": false
        },
        "yaxis": {
         "gridwidth": 2,
         "ticklen": 5,
         "title": {
          "text": "매출"
         }
        }
       }
      },
      "text/html": [
       "<div>                            <div id=\"06bc6ed3-436c-422b-9702-752a3bfe2304\" class=\"plotly-graph-div\" style=\"height:525px; width:100%;\"></div>            <script type=\"text/javascript\">                require([\"plotly\"], function(Plotly) {                    window.PLOTLYENV=window.PLOTLYENV || {};                                    if (document.getElementById(\"06bc6ed3-436c-422b-9702-752a3bfe2304\")) {                    Plotly.newPlot(                        \"06bc6ed3-436c-422b-9702-752a3bfe2304\",                        [{\"marker\": {\"color\": \"red\"}, \"name\": \"\\uc0c1\\uc70450%\", \"type\": \"scatter\", \"x\": [1, 2, 3, 4, 5, 6, 7, 8, 9, 10, 11, 12], \"y\": [37111919, 35895881, 42257978, 41156748, 42216140, 40790132, 41086125, 31871097, 32202993, 32719884, 33210398, 40555092]}, {\"marker\": {\"color\": \"blue\"}, \"name\": \"\\ud558\\uc70450%\", \"type\": \"scatter\", \"x\": [1, 2, 3, 4, 5, 6, 7, 8, 9, 10, 11, 12], \"y\": [2407447, 2656888, 3820125, 4379635, 4888516, 5178227, 5336402, 1635328, 1991303, 2077879, 2142813, 2490178]}],                        {\"showlegend\": true, \"template\": {\"data\": {\"bar\": [{\"error_x\": {\"color\": \"#2a3f5f\"}, \"error_y\": {\"color\": \"#2a3f5f\"}, \"marker\": {\"line\": {\"color\": \"#E5ECF6\", \"width\": 0.5}}, \"type\": \"bar\"}], \"barpolar\": [{\"marker\": {\"line\": {\"color\": \"#E5ECF6\", \"width\": 0.5}}, \"type\": \"barpolar\"}], \"carpet\": [{\"aaxis\": {\"endlinecolor\": \"#2a3f5f\", \"gridcolor\": \"white\", \"linecolor\": \"white\", \"minorgridcolor\": \"white\", \"startlinecolor\": \"#2a3f5f\"}, \"baxis\": {\"endlinecolor\": \"#2a3f5f\", \"gridcolor\": \"white\", \"linecolor\": \"white\", \"minorgridcolor\": \"white\", \"startlinecolor\": \"#2a3f5f\"}, \"type\": \"carpet\"}], \"choropleth\": [{\"colorbar\": {\"outlinewidth\": 0, \"ticks\": \"\"}, \"type\": \"choropleth\"}], \"contour\": [{\"colorbar\": {\"outlinewidth\": 0, \"ticks\": \"\"}, \"colorscale\": [[0.0, \"#0d0887\"], [0.1111111111111111, \"#46039f\"], [0.2222222222222222, \"#7201a8\"], [0.3333333333333333, \"#9c179e\"], [0.4444444444444444, \"#bd3786\"], [0.5555555555555556, \"#d8576b\"], [0.6666666666666666, \"#ed7953\"], [0.7777777777777778, \"#fb9f3a\"], [0.8888888888888888, \"#fdca26\"], [1.0, \"#f0f921\"]], \"type\": \"contour\"}], \"contourcarpet\": [{\"colorbar\": {\"outlinewidth\": 0, \"ticks\": \"\"}, \"type\": \"contourcarpet\"}], \"heatmap\": [{\"colorbar\": {\"outlinewidth\": 0, \"ticks\": \"\"}, \"colorscale\": [[0.0, \"#0d0887\"], [0.1111111111111111, \"#46039f\"], [0.2222222222222222, \"#7201a8\"], [0.3333333333333333, \"#9c179e\"], [0.4444444444444444, \"#bd3786\"], [0.5555555555555556, \"#d8576b\"], [0.6666666666666666, \"#ed7953\"], [0.7777777777777778, \"#fb9f3a\"], [0.8888888888888888, \"#fdca26\"], [1.0, \"#f0f921\"]], \"type\": \"heatmap\"}], \"heatmapgl\": [{\"colorbar\": {\"outlinewidth\": 0, \"ticks\": \"\"}, \"colorscale\": [[0.0, \"#0d0887\"], [0.1111111111111111, \"#46039f\"], [0.2222222222222222, \"#7201a8\"], [0.3333333333333333, \"#9c179e\"], [0.4444444444444444, \"#bd3786\"], [0.5555555555555556, \"#d8576b\"], [0.6666666666666666, \"#ed7953\"], [0.7777777777777778, \"#fb9f3a\"], [0.8888888888888888, \"#fdca26\"], [1.0, \"#f0f921\"]], \"type\": \"heatmapgl\"}], \"histogram\": [{\"marker\": {\"colorbar\": {\"outlinewidth\": 0, \"ticks\": \"\"}}, \"type\": \"histogram\"}], \"histogram2d\": [{\"colorbar\": {\"outlinewidth\": 0, \"ticks\": \"\"}, \"colorscale\": [[0.0, \"#0d0887\"], [0.1111111111111111, \"#46039f\"], [0.2222222222222222, \"#7201a8\"], [0.3333333333333333, \"#9c179e\"], [0.4444444444444444, \"#bd3786\"], [0.5555555555555556, \"#d8576b\"], [0.6666666666666666, \"#ed7953\"], [0.7777777777777778, \"#fb9f3a\"], [0.8888888888888888, \"#fdca26\"], [1.0, \"#f0f921\"]], \"type\": \"histogram2d\"}], \"histogram2dcontour\": [{\"colorbar\": {\"outlinewidth\": 0, \"ticks\": \"\"}, \"colorscale\": [[0.0, \"#0d0887\"], [0.1111111111111111, \"#46039f\"], [0.2222222222222222, \"#7201a8\"], [0.3333333333333333, \"#9c179e\"], [0.4444444444444444, \"#bd3786\"], [0.5555555555555556, \"#d8576b\"], [0.6666666666666666, \"#ed7953\"], [0.7777777777777778, \"#fb9f3a\"], [0.8888888888888888, \"#fdca26\"], [1.0, \"#f0f921\"]], \"type\": \"histogram2dcontour\"}], \"mesh3d\": [{\"colorbar\": {\"outlinewidth\": 0, \"ticks\": \"\"}, \"type\": \"mesh3d\"}], \"parcoords\": [{\"line\": {\"colorbar\": {\"outlinewidth\": 0, \"ticks\": \"\"}}, \"type\": \"parcoords\"}], \"pie\": [{\"automargin\": true, \"type\": \"pie\"}], \"scatter\": [{\"marker\": {\"colorbar\": {\"outlinewidth\": 0, \"ticks\": \"\"}}, \"type\": \"scatter\"}], \"scatter3d\": [{\"line\": {\"colorbar\": {\"outlinewidth\": 0, \"ticks\": \"\"}}, \"marker\": {\"colorbar\": {\"outlinewidth\": 0, \"ticks\": \"\"}}, \"type\": \"scatter3d\"}], \"scattercarpet\": [{\"marker\": {\"colorbar\": {\"outlinewidth\": 0, \"ticks\": \"\"}}, \"type\": \"scattercarpet\"}], \"scattergeo\": [{\"marker\": {\"colorbar\": {\"outlinewidth\": 0, \"ticks\": \"\"}}, \"type\": \"scattergeo\"}], \"scattergl\": [{\"marker\": {\"colorbar\": {\"outlinewidth\": 0, \"ticks\": \"\"}}, \"type\": \"scattergl\"}], \"scattermapbox\": [{\"marker\": {\"colorbar\": {\"outlinewidth\": 0, \"ticks\": \"\"}}, \"type\": \"scattermapbox\"}], \"scatterpolar\": [{\"marker\": {\"colorbar\": {\"outlinewidth\": 0, \"ticks\": \"\"}}, \"type\": \"scatterpolar\"}], \"scatterpolargl\": [{\"marker\": {\"colorbar\": {\"outlinewidth\": 0, \"ticks\": \"\"}}, \"type\": \"scatterpolargl\"}], \"scatterternary\": [{\"marker\": {\"colorbar\": {\"outlinewidth\": 0, \"ticks\": \"\"}}, \"type\": \"scatterternary\"}], \"surface\": [{\"colorbar\": {\"outlinewidth\": 0, \"ticks\": \"\"}, \"colorscale\": [[0.0, \"#0d0887\"], [0.1111111111111111, \"#46039f\"], [0.2222222222222222, \"#7201a8\"], [0.3333333333333333, \"#9c179e\"], [0.4444444444444444, \"#bd3786\"], [0.5555555555555556, \"#d8576b\"], [0.6666666666666666, \"#ed7953\"], [0.7777777777777778, \"#fb9f3a\"], [0.8888888888888888, \"#fdca26\"], [1.0, \"#f0f921\"]], \"type\": \"surface\"}], \"table\": [{\"cells\": {\"fill\": {\"color\": \"#EBF0F8\"}, \"line\": {\"color\": \"white\"}}, \"header\": {\"fill\": {\"color\": \"#C8D4E3\"}, \"line\": {\"color\": \"white\"}}, \"type\": \"table\"}]}, \"layout\": {\"annotationdefaults\": {\"arrowcolor\": \"#2a3f5f\", \"arrowhead\": 0, \"arrowwidth\": 1}, \"coloraxis\": {\"colorbar\": {\"outlinewidth\": 0, \"ticks\": \"\"}}, \"colorscale\": {\"diverging\": [[0, \"#8e0152\"], [0.1, \"#c51b7d\"], [0.2, \"#de77ae\"], [0.3, \"#f1b6da\"], [0.4, \"#fde0ef\"], [0.5, \"#f7f7f7\"], [0.6, \"#e6f5d0\"], [0.7, \"#b8e186\"], [0.8, \"#7fbc41\"], [0.9, \"#4d9221\"], [1, \"#276419\"]], \"sequential\": [[0.0, \"#0d0887\"], [0.1111111111111111, \"#46039f\"], [0.2222222222222222, \"#7201a8\"], [0.3333333333333333, \"#9c179e\"], [0.4444444444444444, \"#bd3786\"], [0.5555555555555556, \"#d8576b\"], [0.6666666666666666, \"#ed7953\"], [0.7777777777777778, \"#fb9f3a\"], [0.8888888888888888, \"#fdca26\"], [1.0, \"#f0f921\"]], \"sequentialminus\": [[0.0, \"#0d0887\"], [0.1111111111111111, \"#46039f\"], [0.2222222222222222, \"#7201a8\"], [0.3333333333333333, \"#9c179e\"], [0.4444444444444444, \"#bd3786\"], [0.5555555555555556, \"#d8576b\"], [0.6666666666666666, \"#ed7953\"], [0.7777777777777778, \"#fb9f3a\"], [0.8888888888888888, \"#fdca26\"], [1.0, \"#f0f921\"]]}, \"colorway\": [\"#636efa\", \"#EF553B\", \"#00cc96\", \"#ab63fa\", \"#FFA15A\", \"#19d3f3\", \"#FF6692\", \"#B6E880\", \"#FF97FF\", \"#FECB52\"], \"font\": {\"color\": \"#2a3f5f\"}, \"geo\": {\"bgcolor\": \"white\", \"lakecolor\": \"white\", \"landcolor\": \"#E5ECF6\", \"showlakes\": true, \"showland\": true, \"subunitcolor\": \"white\"}, \"hoverlabel\": {\"align\": \"left\"}, \"hovermode\": \"closest\", \"mapbox\": {\"style\": \"light\"}, \"paper_bgcolor\": \"white\", \"plot_bgcolor\": \"#E5ECF6\", \"polar\": {\"angularaxis\": {\"gridcolor\": \"white\", \"linecolor\": \"white\", \"ticks\": \"\"}, \"bgcolor\": \"#E5ECF6\", \"radialaxis\": {\"gridcolor\": \"white\", \"linecolor\": \"white\", \"ticks\": \"\"}}, \"scene\": {\"xaxis\": {\"backgroundcolor\": \"#E5ECF6\", \"gridcolor\": \"white\", \"gridwidth\": 2, \"linecolor\": \"white\", \"showbackground\": true, \"ticks\": \"\", \"zerolinecolor\": \"white\"}, \"yaxis\": {\"backgroundcolor\": \"#E5ECF6\", \"gridcolor\": \"white\", \"gridwidth\": 2, \"linecolor\": \"white\", \"showbackground\": true, \"ticks\": \"\", \"zerolinecolor\": \"white\"}, \"zaxis\": {\"backgroundcolor\": \"#E5ECF6\", \"gridcolor\": \"white\", \"gridwidth\": 2, \"linecolor\": \"white\", \"showbackground\": true, \"ticks\": \"\", \"zerolinecolor\": \"white\"}}, \"shapedefaults\": {\"line\": {\"color\": \"#2a3f5f\"}}, \"ternary\": {\"aaxis\": {\"gridcolor\": \"white\", \"linecolor\": \"white\", \"ticks\": \"\"}, \"baxis\": {\"gridcolor\": \"white\", \"linecolor\": \"white\", \"ticks\": \"\"}, \"bgcolor\": \"#E5ECF6\", \"caxis\": {\"gridcolor\": \"white\", \"linecolor\": \"white\", \"ticks\": \"\"}}, \"title\": {\"x\": 0.05}, \"xaxis\": {\"automargin\": true, \"gridcolor\": \"white\", \"linecolor\": \"white\", \"ticks\": \"\", \"title\": {\"standoff\": 15}, \"zerolinecolor\": \"white\", \"zerolinewidth\": 2}, \"yaxis\": {\"automargin\": true, \"gridcolor\": \"white\", \"linecolor\": \"white\", \"ticks\": \"\", \"title\": {\"standoff\": 15}, \"zerolinecolor\": \"white\", \"zerolinewidth\": 2}}}, \"title\": {\"text\": \"\\uc0c1\\uc704 \\ud558\\uc704 \\uc6d4\\ubcc4 \\ub9e4\\ucd9c \\ube44\\uad50\"}, \"xaxis\": {\"gridwidth\": 2, \"ticklen\": 5, \"title\": {\"text\": \" \"}, \"zeroline\": false}, \"yaxis\": {\"gridwidth\": 2, \"ticklen\": 5, \"title\": {\"text\": \"\\ub9e4\\ucd9c\"}}},                        {\"responsive\": true}                    ).then(function(){\n",
       "                            \n",
       "var gd = document.getElementById('06bc6ed3-436c-422b-9702-752a3bfe2304');\n",
       "var x = new MutationObserver(function (mutations, observer) {{\n",
       "        var display = window.getComputedStyle(gd).display;\n",
       "        if (!display || display === 'none') {{\n",
       "            console.log([gd, 'removed!']);\n",
       "            Plotly.purge(gd);\n",
       "            observer.disconnect();\n",
       "        }}\n",
       "}});\n",
       "\n",
       "// Listen for the removal of the full notebook cells\n",
       "var notebookContainer = gd.closest('#notebook-container');\n",
       "if (notebookContainer) {{\n",
       "    x.observe(notebookContainer, {childList: true});\n",
       "}}\n",
       "\n",
       "// Listen for the clearing of the current output cell\n",
       "var outputEl = gd.closest('.output');\n",
       "if (outputEl) {{\n",
       "    x.observe(outputEl, {childList: true});\n",
       "}}\n",
       "\n",
       "                        })                };                });            </script>        </div>"
      ]
     },
     "metadata": {},
     "output_type": "display_data"
    }
   ],
   "source": [
    "data = [go.Scatter(x=cluster_monthly1[\"month\"], y=cluster_monthly1[\"amount\"], name=\"상위50%\", marker_color=\"red\"),\n",
    "       go.Scatter(x=cluster_monthly2[\"month\"], y=cluster_monthly2[\"amount\"], name=\"하위50%\", marker_color=\"blue\")]\n",
    "layout= go.Layout(title= \"상위 하위 월별 매출 비교\", xaxis= dict(title=' ', ticklen=5, zeroline=False, gridwidth=2), yaxis= dict(title='매출', ticklen=5, gridwidth=2), showlegend=True)\n",
    "fig = go.Figure(data=data, layout=layout)\n",
    "py.iplot(fig, filename='상위 하위 월별 매출 비교')"
   ]
  },
  {
   "cell_type": "code",
   "execution_count": null,
   "metadata": {},
   "outputs": [],
   "source": [
    "# 거래율롤 클러스터링"
   ]
  }
 ],
 "metadata": {
  "kernelspec": {
   "display_name": "Python 3",
   "language": "python",
   "name": "python3"
  },
  "language_info": {
   "codemirror_mode": {
    "name": "ipython",
    "version": 3
   },
   "file_extension": ".py",
   "mimetype": "text/x-python",
   "name": "python",
   "nbconvert_exporter": "python",
   "pygments_lexer": "ipython3",
   "version": "3.8.3"
  }
 },
 "nbformat": 4,
 "nbformat_minor": 4
}
