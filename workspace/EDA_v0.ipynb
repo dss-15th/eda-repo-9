{
 "cells": [
  {
   "cell_type": "code",
   "execution_count": 42,
   "metadata": {},
   "outputs": [
    {
     "data": {
      "text/html": [
       "<div>\n",
       "<style scoped>\n",
       "    .dataframe tbody tr th:only-of-type {\n",
       "        vertical-align: middle;\n",
       "    }\n",
       "\n",
       "    .dataframe tbody tr th {\n",
       "        vertical-align: top;\n",
       "    }\n",
       "\n",
       "    .dataframe thead th {\n",
       "        text-align: right;\n",
       "    }\n",
       "</style>\n",
       "<table border=\"1\" class=\"dataframe\">\n",
       "  <thead>\n",
       "    <tr style=\"text-align: right;\">\n",
       "      <th></th>\n",
       "      <th>store_id</th>\n",
       "      <th>date</th>\n",
       "      <th>time</th>\n",
       "      <th>card_id</th>\n",
       "      <th>amount</th>\n",
       "      <th>installments</th>\n",
       "      <th>days_of_week</th>\n",
       "      <th>holyday</th>\n",
       "    </tr>\n",
       "  </thead>\n",
       "  <tbody>\n",
       "    <tr>\n",
       "      <th>3362786</th>\n",
       "      <td>1799</td>\n",
       "      <td>2018-07-10</td>\n",
       "      <td>18:00:55</td>\n",
       "      <td>560b85cb59</td>\n",
       "      <td>325</td>\n",
       "      <td>NaN</td>\n",
       "      <td>1</td>\n",
       "      <td>0</td>\n",
       "    </tr>\n",
       "    <tr>\n",
       "      <th>3362787</th>\n",
       "      <td>1799</td>\n",
       "      <td>2018-07-11</td>\n",
       "      <td>11:57:34</td>\n",
       "      <td>fcf1b338aa</td>\n",
       "      <td>350</td>\n",
       "      <td>NaN</td>\n",
       "      <td>2</td>\n",
       "      <td>0</td>\n",
       "    </tr>\n",
       "    <tr>\n",
       "      <th>3362788</th>\n",
       "      <td>1799</td>\n",
       "      <td>2018-07-15</td>\n",
       "      <td>18:24:57</td>\n",
       "      <td>b96ac1d7a8</td>\n",
       "      <td>275</td>\n",
       "      <td>NaN</td>\n",
       "      <td>6</td>\n",
       "      <td>0</td>\n",
       "    </tr>\n",
       "    <tr>\n",
       "      <th>3362789</th>\n",
       "      <td>1799</td>\n",
       "      <td>2018-07-17</td>\n",
       "      <td>11:26:44</td>\n",
       "      <td>b7846c9389</td>\n",
       "      <td>350</td>\n",
       "      <td>NaN</td>\n",
       "      <td>1</td>\n",
       "      <td>0</td>\n",
       "    </tr>\n",
       "    <tr>\n",
       "      <th>3362790</th>\n",
       "      <td>1799</td>\n",
       "      <td>2018-07-17</td>\n",
       "      <td>14:44:54</td>\n",
       "      <td>e73e0f0390</td>\n",
       "      <td>350</td>\n",
       "      <td>NaN</td>\n",
       "      <td>1</td>\n",
       "      <td>0</td>\n",
       "    </tr>\n",
       "    <tr>\n",
       "      <th>3362791</th>\n",
       "      <td>1799</td>\n",
       "      <td>2018-07-19</td>\n",
       "      <td>17:58:31</td>\n",
       "      <td>e254bf70d9</td>\n",
       "      <td>600</td>\n",
       "      <td>NaN</td>\n",
       "      <td>3</td>\n",
       "      <td>0</td>\n",
       "    </tr>\n",
       "    <tr>\n",
       "      <th>3362792</th>\n",
       "      <td>1799</td>\n",
       "      <td>2018-07-19</td>\n",
       "      <td>18:54:34</td>\n",
       "      <td>8f41c89891</td>\n",
       "      <td>275</td>\n",
       "      <td>NaN</td>\n",
       "      <td>3</td>\n",
       "      <td>0</td>\n",
       "    </tr>\n",
       "    <tr>\n",
       "      <th>3362793</th>\n",
       "      <td>1799</td>\n",
       "      <td>2018-07-22</td>\n",
       "      <td>14:46:57</td>\n",
       "      <td>aeb64fe1fb</td>\n",
       "      <td>350</td>\n",
       "      <td>NaN</td>\n",
       "      <td>6</td>\n",
       "      <td>0</td>\n",
       "    </tr>\n",
       "    <tr>\n",
       "      <th>3362794</th>\n",
       "      <td>1799</td>\n",
       "      <td>2018-07-25</td>\n",
       "      <td>18:09:13</td>\n",
       "      <td>57932602d6</td>\n",
       "      <td>300</td>\n",
       "      <td>NaN</td>\n",
       "      <td>2</td>\n",
       "      <td>0</td>\n",
       "    </tr>\n",
       "    <tr>\n",
       "      <th>3362795</th>\n",
       "      <td>1799</td>\n",
       "      <td>2018-07-30</td>\n",
       "      <td>10:58:53</td>\n",
       "      <td>42d354807a</td>\n",
       "      <td>325</td>\n",
       "      <td>NaN</td>\n",
       "      <td>0</td>\n",
       "      <td>0</td>\n",
       "    </tr>\n",
       "  </tbody>\n",
       "</table>\n",
       "</div>"
      ],
      "text/plain": [
       "         store_id        date      time     card_id  amount  installments  \\\n",
       "3362786      1799  2018-07-10  18:00:55  560b85cb59     325           NaN   \n",
       "3362787      1799  2018-07-11  11:57:34  fcf1b338aa     350           NaN   \n",
       "3362788      1799  2018-07-15  18:24:57  b96ac1d7a8     275           NaN   \n",
       "3362789      1799  2018-07-17  11:26:44  b7846c9389     350           NaN   \n",
       "3362790      1799  2018-07-17  14:44:54  e73e0f0390     350           NaN   \n",
       "3362791      1799  2018-07-19  17:58:31  e254bf70d9     600           NaN   \n",
       "3362792      1799  2018-07-19  18:54:34  8f41c89891     275           NaN   \n",
       "3362793      1799  2018-07-22  14:46:57  aeb64fe1fb     350           NaN   \n",
       "3362794      1799  2018-07-25  18:09:13  57932602d6     300           NaN   \n",
       "3362795      1799  2018-07-30  10:58:53  42d354807a     325           NaN   \n",
       "\n",
       "         days_of_week  holyday  \n",
       "3362786             1        0  \n",
       "3362787             2        0  \n",
       "3362788             6        0  \n",
       "3362789             1        0  \n",
       "3362790             1        0  \n",
       "3362791             3        0  \n",
       "3362792             3        0  \n",
       "3362793             6        0  \n",
       "3362794             2        0  \n",
       "3362795             0        0  "
      ]
     },
     "execution_count": 42,
     "metadata": {},
     "output_type": "execute_result"
    }
   ],
   "source": [
    "# 데이터 불러오기\n",
    "train_df = pd.read_csv(\"train.csv\")\n",
    "train_df.tail(10)"
   ]
  },
  {
   "cell_type": "code",
   "execution_count": 43,
   "metadata": {},
   "outputs": [],
   "source": [
    "# 총 8개의 column과 3362796개의 row를 확인 할 수 있었습니다.\n",
    "# 약 3백3십6만개의 row데이터에 비해 변수(column)가 적었습니다."
   ]
  },
  {
   "cell_type": "code",
   "execution_count": 45,
   "metadata": {},
   "outputs": [
    {
     "data": {
      "text/plain": [
       "store_id        3362796\n",
       "date            3362796\n",
       "time            3362796\n",
       "card_id         3362796\n",
       "amount          3362796\n",
       "installments      16860\n",
       "days_of_week    3362796\n",
       "holyday         3362796\n",
       "dtype: int64"
      ]
     },
     "execution_count": 45,
     "metadata": {},
     "output_type": "execute_result"
    }
   ],
   "source": [
    "# installments column을 제외한 다른 column 들은 3362796개의 row를 가진 것을 알 수 있다.\n",
    "# installments에서 결측치 확인 installments는 할부개월수로 일시불일 경우 값이 비어 NaN으로 표시됨.\n",
    "train_df.count()"
   ]
  },
  {
   "cell_type": "code",
   "execution_count": 46,
   "metadata": {},
   "outputs": [
    {
     "name": "stdout",
     "output_type": "stream",
     "text": [
      "<class 'pandas.core.frame.DataFrame'>\n",
      "RangeIndex: 3362796 entries, 0 to 3362795\n",
      "Data columns (total 8 columns):\n",
      " #   Column        Dtype  \n",
      "---  ------        -----  \n",
      " 0   store_id      int64  \n",
      " 1   date          object \n",
      " 2   time          object \n",
      " 3   card_id       object \n",
      " 4   amount        int64  \n",
      " 5   installments  float64\n",
      " 6   days_of_week  int64  \n",
      " 7   holyday       int64  \n",
      "dtypes: float64(1), int64(4), object(3)\n",
      "memory usage: 205.2+ MB\n"
     ]
    }
   ],
   "source": [
    "train_df.info()"
   ]
  },
  {
   "cell_type": "code",
   "execution_count": 4,
   "metadata": {},
   "outputs": [],
   "source": [
    "# 일시불인 경우 값을 1로 생각해서 결측치를 1로 채움\n",
    "credit_df[\"installments\"] = credit_df[\"installments\"].fillna(1)"
   ]
  },
  {
   "cell_type": "code",
   "execution_count": 5,
   "metadata": {},
   "outputs": [
    {
     "data": {
      "text/plain": [
       "store_id        3362796\n",
       "date            3362796\n",
       "time            3362796\n",
       "card_id         3362796\n",
       "amount          3362796\n",
       "installments    3362796\n",
       "days_of_week    3362796\n",
       "holyday         3362796\n",
       "dtype: int64"
      ]
     },
     "execution_count": 5,
     "metadata": {},
     "output_type": "execute_result"
    }
   ],
   "source": [
    "# 다시 column들의 개수를 확인하니 결측치가 제거된 것을 확인\n",
    "credit_df.count()"
   ]
  },
  {
   "cell_type": "code",
   "execution_count": 6,
   "metadata": {},
   "outputs": [
    {
     "name": "stdout",
     "output_type": "stream",
     "text": [
      "0       68773\n",
      "753     39318\n",
      "105     36063\n",
      "1342    33335\n",
      "428     33285\n",
      "        ...  \n",
      "657         1\n",
      "632         1\n",
      "727         1\n",
      "201         1\n",
      "991         1\n",
      "Name: store_id, Length: 1775, dtype: int64\n",
      "53817035d4    835\n",
      "93bba5079c    512\n",
      "994b71a98a    458\n",
      "18549044f3    453\n",
      "6b2d18c5c5    433\n",
      "             ... \n",
      "ad156acef1      1\n",
      "5358b5e1e9      1\n",
      "ae88b1ce5d      1\n",
      "fc64158899      1\n",
      "64496954b1      1\n",
      "Name: card_id, Length: 922522, dtype: int64\n"
     ]
    }
   ],
   "source": [
    "# 결측치를 제거했으니 데이터에 있는 store의 수와 신용카드 개수를 확인\n",
    "print(credit_df[\"store_id\"].value_counts())\n",
    "print(credit_df[\"card_id\"].value_counts())"
   ]
  },
  {
   "cell_type": "code",
   "execution_count": 7,
   "metadata": {},
   "outputs": [],
   "source": [
    "# 수집된 데이터에서 조사된 store과 card의 수는 각각 1775개, 922522개 였다.\n",
    "# 여기서 각 store의 거래횟수와 card의 거래횟수를 알 수 있었다. 0번 상점이 제일 많은 횟수인 68773회 였고 card의 경우 2년동안 835회의 \n",
    "# 결제건수를 확인할 수 있었다."
   ]
  },
  {
   "cell_type": "code",
   "execution_count": 19,
   "metadata": {},
   "outputs": [
    {
     "name": "stdout",
     "output_type": "stream",
     "text": [
      "17\n"
     ]
    }
   ],
   "source": [
    "print(len(credit_df[\"installments\"].unique()))"
   ]
  },
  {
   "cell_type": "code",
   "execution_count": 20,
   "metadata": {},
   "outputs": [
    {
     "name": "stdout",
     "output_type": "stream",
     "text": [
      "1.0     3345936\n",
      "3.0       10686\n",
      "2.0        3431\n",
      "5.0        1220\n",
      "6.0         647\n",
      "10.0        252\n",
      "4.0         209\n",
      "12.0        206\n",
      "24.0         96\n",
      "8.0          32\n",
      "7.0          28\n",
      "9.0          25\n",
      "18.0         11\n",
      "20.0          6\n",
      "36.0          5\n",
      "22.0          4\n",
      "15.0          2\n",
      "Name: installments, dtype: int64\n"
     ]
    }
   ],
   "source": [
    "# 할부 개월수의 unique 값도 알아보자\n",
    "print(credit_df[\"installments\"].value_counts())"
   ]
  },
  {
   "cell_type": "code",
   "execution_count": 21,
   "metadata": {},
   "outputs": [],
   "source": [
    "# 할부월수를 보면 일시불이 가장 많았고 그 다음으로 3개월 2개월의 할부개월수를 확인할 수 있었다. 할부 개월수가 4개월인 경우가 7위에 있는데 \n",
    "# 우리가 생활습관에서 4개월 할부는 잘 안하는 모습을 볼 수 있었다. "
   ]
  },
  {
   "cell_type": "code",
   "execution_count": 24,
   "metadata": {},
   "outputs": [
    {
     "data": {
      "text/plain": [
       "0       68773\n",
       "753     39318\n",
       "105     36063\n",
       "1342    33335\n",
       "428     33285\n",
       "221     31409\n",
       "161     27170\n",
       "1038    25694\n",
       "323     25221\n",
       "1366    24946\n",
       "Name: store_id, dtype: int64"
      ]
     },
     "execution_count": 24,
     "metadata": {},
     "output_type": "execute_result"
    }
   ],
   "source": [
    "credit_df[\"store_id\"].value_counts().head(10) "
   ]
  },
  {
   "cell_type": "code",
   "execution_count": null,
   "metadata": {},
   "outputs": [],
   "source": [
    "credit_df"
   ]
  },
  {
   "cell_type": "code",
   "execution_count": 23,
   "metadata": {},
   "outputs": [
    {
     "data": {
      "text/html": [
       "<div>\n",
       "<style scoped>\n",
       "    .dataframe tbody tr th:only-of-type {\n",
       "        vertical-align: middle;\n",
       "    }\n",
       "\n",
       "    .dataframe tbody tr th {\n",
       "        vertical-align: top;\n",
       "    }\n",
       "\n",
       "    .dataframe thead th {\n",
       "        text-align: right;\n",
       "    }\n",
       "</style>\n",
       "<table border=\"1\" class=\"dataframe\">\n",
       "  <thead>\n",
       "    <tr style=\"text-align: right;\">\n",
       "      <th></th>\n",
       "      <th>index</th>\n",
       "      <th>count</th>\n",
       "    </tr>\n",
       "  </thead>\n",
       "  <tbody>\n",
       "    <tr>\n",
       "      <th>0</th>\n",
       "      <td>53817035d4</td>\n",
       "      <td>835</td>\n",
       "    </tr>\n",
       "    <tr>\n",
       "      <th>1</th>\n",
       "      <td>93bba5079c</td>\n",
       "      <td>512</td>\n",
       "    </tr>\n",
       "    <tr>\n",
       "      <th>2</th>\n",
       "      <td>994b71a98a</td>\n",
       "      <td>458</td>\n",
       "    </tr>\n",
       "    <tr>\n",
       "      <th>3</th>\n",
       "      <td>18549044f3</td>\n",
       "      <td>453</td>\n",
       "    </tr>\n",
       "    <tr>\n",
       "      <th>4</th>\n",
       "      <td>6b2d18c5c5</td>\n",
       "      <td>433</td>\n",
       "    </tr>\n",
       "    <tr>\n",
       "      <th>5</th>\n",
       "      <td>10a5c30cda</td>\n",
       "      <td>425</td>\n",
       "    </tr>\n",
       "    <tr>\n",
       "      <th>6</th>\n",
       "      <td>06e61d93b8</td>\n",
       "      <td>423</td>\n",
       "    </tr>\n",
       "    <tr>\n",
       "      <th>7</th>\n",
       "      <td>5cf0b23473</td>\n",
       "      <td>413</td>\n",
       "    </tr>\n",
       "    <tr>\n",
       "      <th>8</th>\n",
       "      <td>0177959e09</td>\n",
       "      <td>409</td>\n",
       "    </tr>\n",
       "    <tr>\n",
       "      <th>9</th>\n",
       "      <td>a9a1e3d97d</td>\n",
       "      <td>405</td>\n",
       "    </tr>\n",
       "  </tbody>\n",
       "</table>\n",
       "</div>"
      ],
      "text/plain": [
       "        index  count\n",
       "0  53817035d4    835\n",
       "1  93bba5079c    512\n",
       "2  994b71a98a    458\n",
       "3  18549044f3    453\n",
       "4  6b2d18c5c5    433\n",
       "5  10a5c30cda    425\n",
       "6  06e61d93b8    423\n",
       "7  5cf0b23473    413\n",
       "8  0177959e09    409\n",
       "9  a9a1e3d97d    405"
      ]
     },
     "execution_count": 23,
     "metadata": {},
     "output_type": "execute_result"
    }
   ],
   "source": [
    "credit_df[\"card_id\"].value_counts().reset_index(name=\"count\").head(10) "
   ]
  },
  {
   "cell_type": "code",
   "execution_count": 31,
   "metadata": {},
   "outputs": [],
   "source": [
    "import seaborn as sns\n",
    "import matplotlib.pyplot as plt\n",
    "%matplotlib inline"
   ]
  },
  {
   "cell_type": "code",
   "execution_count": 32,
   "metadata": {},
   "outputs": [
    {
     "data": {
      "text/plain": [
       "<matplotlib.axes._subplots.AxesSubplot at 0x7fe6dabaa5e0>"
      ]
     },
     "execution_count": 32,
     "metadata": {},
     "output_type": "execute_result"
    },
    {
     "data": {
      "image/png": "[encoded data removed]",
      "text/plain": [
       "<Figure size 432x288 with 1 Axes>"
      ]
     },
     "metadata": {
      "image/png": {
       "height": 266,
       "width": 389
      },
      "needs_background": "light"
     },
     "output_type": "display_data"
    }
   ],
   "source": [
    "credit_df.groupby(\"store_id\").count()[\"amount\"].plot()"
   ]
  },
  {
   "cell_type": "code",
   "execution_count": 33,
   "metadata": {},
   "outputs": [
    {
     "data": {
      "text/plain": [
       "[<matplotlib.lines.Line2D at 0x7fe6dad38df0>]"
      ]
     },
     "execution_count": 33,
     "metadata": {},
     "output_type": "execute_result"
    },
    {
     "data": {
      "image/png": "[encoded data removed]",
      "text/plain": [
       "<Figure size 432x288 with 1 Axes>"
      ]
     },
     "metadata": {
      "image/png": {
       "height": 251,
       "width": 389
      },
      "needs_background": "light"
     },
     "output_type": "display_data"
    }
   ],
   "source": [
    "plt.plot(credit_df.groupby(\"store_id\").count()[\"amount\"])"
   ]
  },
  {
   "cell_type": "code",
   "execution_count": 40,
   "metadata": {},
   "outputs": [
    {
     "data": {
      "text/plain": [
       "<matplotlib.axes._subplots.AxesSubplot at 0x7fe6c4af63a0>"
      ]
     },
     "execution_count": 40,
     "metadata": {},
     "output_type": "execute_result"
    },
    {
     "data": {
      "image/png": "[encoded data removed]",
      "text/plain": [
       "<Figure size 864x432 with 2 Axes>"
      ]
     },
     "metadata": {
      "image/png": {
       "height": 364,
       "width": 704
      },
      "needs_background": "light"
     },
     "output_type": "display_data"
    }
   ],
   "source": [
    "plt.figure(figsize=(12, 6))\n",
    "sns.heatmap(credit_df.corr(), annot=True)"
   ]
  },
  {
   "cell_type": "code",
   "execution_count": 41,
   "metadata": {},
   "outputs": [],
   "source": [
    "# 휴일전날 매출의 상관관계를 히트맵으로 보기\n",
    "# 시간대별로 점심과 저녁시간 amount의 상관관계 보기"
   ]
  },
  {
   "cell_type": "code",
   "execution_count": null,
   "metadata": {},
   "outputs": [],
   "source": []
  },
  {
   "cell_type": "code",
   "execution_count": 27,
   "metadata": {},
   "outputs": [
    {
     "data": {
      "text/html": [
       "<div>\n",
       "<style scoped>\n",
       "    .dataframe tbody tr th:only-of-type {\n",
       "        vertical-align: middle;\n",
       "    }\n",
       "\n",
       "    .dataframe tbody tr th {\n",
       "        vertical-align: top;\n",
       "    }\n",
       "\n",
       "    .dataframe thead th {\n",
       "        text-align: right;\n",
       "    }\n",
       "</style>\n",
       "<table border=\"1\" class=\"dataframe\">\n",
       "  <thead>\n",
       "    <tr style=\"text-align: right;\">\n",
       "      <th></th>\n",
       "      <th>store_id</th>\n",
       "      <th>date</th>\n",
       "      <th>time</th>\n",
       "      <th>card_id</th>\n",
       "      <th>amount</th>\n",
       "      <th>installments</th>\n",
       "      <th>days_of_week</th>\n",
       "      <th>holyday</th>\n",
       "    </tr>\n",
       "  </thead>\n",
       "  <tbody>\n",
       "    <tr>\n",
       "      <th>152</th>\n",
       "      <td>0</td>\n",
       "      <td>2016-12-21</td>\n",
       "      <td>10:48:04</td>\n",
       "      <td>65d5e33f69</td>\n",
       "      <td>445</td>\n",
       "      <td>3.0</td>\n",
       "      <td>2</td>\n",
       "      <td>0</td>\n",
       "    </tr>\n",
       "    <tr>\n",
       "      <th>155</th>\n",
       "      <td>0</td>\n",
       "      <td>2016-12-21</td>\n",
       "      <td>11:16:17</td>\n",
       "      <td>65d5e33f69</td>\n",
       "      <td>-445</td>\n",
       "      <td>3.0</td>\n",
       "      <td>2</td>\n",
       "      <td>0</td>\n",
       "    </tr>\n",
       "    <tr>\n",
       "      <th>206</th>\n",
       "      <td>0</td>\n",
       "      <td>2016-12-21</td>\n",
       "      <td>14:26:24</td>\n",
       "      <td>4a8e737d2c</td>\n",
       "      <td>277</td>\n",
       "      <td>2.0</td>\n",
       "      <td>2</td>\n",
       "      <td>0</td>\n",
       "    </tr>\n",
       "    <tr>\n",
       "      <th>311</th>\n",
       "      <td>0</td>\n",
       "      <td>2016-12-21</td>\n",
       "      <td>22:17:30</td>\n",
       "      <td>3f59e8684b</td>\n",
       "      <td>375</td>\n",
       "      <td>3.0</td>\n",
       "      <td>2</td>\n",
       "      <td>0</td>\n",
       "    </tr>\n",
       "    <tr>\n",
       "      <th>651</th>\n",
       "      <td>0</td>\n",
       "      <td>2016-12-24</td>\n",
       "      <td>11:59:37</td>\n",
       "      <td>583d5dd51c</td>\n",
       "      <td>408</td>\n",
       "      <td>3.0</td>\n",
       "      <td>5</td>\n",
       "      <td>0</td>\n",
       "    </tr>\n",
       "    <tr>\n",
       "      <th>...</th>\n",
       "      <td>...</td>\n",
       "      <td>...</td>\n",
       "      <td>...</td>\n",
       "      <td>...</td>\n",
       "      <td>...</td>\n",
       "      <td>...</td>\n",
       "      <td>...</td>\n",
       "      <td>...</td>\n",
       "    </tr>\n",
       "    <tr>\n",
       "      <th>3362429</th>\n",
       "      <td>1799</td>\n",
       "      <td>2017-05-14</td>\n",
       "      <td>21:14:12</td>\n",
       "      <td>54b471994c</td>\n",
       "      <td>1500</td>\n",
       "      <td>3.0</td>\n",
       "      <td>6</td>\n",
       "      <td>0</td>\n",
       "    </tr>\n",
       "    <tr>\n",
       "      <th>3362486</th>\n",
       "      <td>1799</td>\n",
       "      <td>2017-07-19</td>\n",
       "      <td>14:30:10</td>\n",
       "      <td>e47d9a18e4</td>\n",
       "      <td>3850</td>\n",
       "      <td>3.0</td>\n",
       "      <td>2</td>\n",
       "      <td>0</td>\n",
       "    </tr>\n",
       "    <tr>\n",
       "      <th>3362514</th>\n",
       "      <td>1799</td>\n",
       "      <td>2017-08-18</td>\n",
       "      <td>19:08:43</td>\n",
       "      <td>f293d9dc0c</td>\n",
       "      <td>300</td>\n",
       "      <td>2.0</td>\n",
       "      <td>4</td>\n",
       "      <td>0</td>\n",
       "    </tr>\n",
       "    <tr>\n",
       "      <th>3362701</th>\n",
       "      <td>1799</td>\n",
       "      <td>2018-02-19</td>\n",
       "      <td>18:34:25</td>\n",
       "      <td>be98bd957b</td>\n",
       "      <td>1175</td>\n",
       "      <td>3.0</td>\n",
       "      <td>0</td>\n",
       "      <td>0</td>\n",
       "    </tr>\n",
       "    <tr>\n",
       "      <th>3362740</th>\n",
       "      <td>1799</td>\n",
       "      <td>2018-05-01</td>\n",
       "      <td>18:40:11</td>\n",
       "      <td>f293d9dc0c</td>\n",
       "      <td>300</td>\n",
       "      <td>2.0</td>\n",
       "      <td>1</td>\n",
       "      <td>1</td>\n",
       "    </tr>\n",
       "  </tbody>\n",
       "</table>\n",
       "<p>16860 rows × 8 columns</p>\n",
       "</div>"
      ],
      "text/plain": [
       "         store_id        date      time     card_id  amount  installments  \\\n",
       "152             0  2016-12-21  10:48:04  65d5e33f69     445           3.0   \n",
       "155             0  2016-12-21  11:16:17  65d5e33f69    -445           3.0   \n",
       "206             0  2016-12-21  14:26:24  4a8e737d2c     277           2.0   \n",
       "311             0  2016-12-21  22:17:30  3f59e8684b     375           3.0   \n",
       "651             0  2016-12-24  11:59:37  583d5dd51c     408           3.0   \n",
       "...           ...         ...       ...         ...     ...           ...   \n",
       "3362429      1799  2017-05-14  21:14:12  54b471994c    1500           3.0   \n",
       "3362486      1799  2017-07-19  14:30:10  e47d9a18e4    3850           3.0   \n",
       "3362514      1799  2017-08-18  19:08:43  f293d9dc0c     300           2.0   \n",
       "3362701      1799  2018-02-19  18:34:25  be98bd957b    1175           3.0   \n",
       "3362740      1799  2018-05-01  18:40:11  f293d9dc0c     300           2.0   \n",
       "\n",
       "         days_of_week  holyday  \n",
       "152                 2        0  \n",
       "155                 2        0  \n",
       "206                 2        0  \n",
       "311                 2        0  \n",
       "651                 5        0  \n",
       "...               ...      ...  \n",
       "3362429             6        0  \n",
       "3362486             2        0  \n",
       "3362514             4        0  \n",
       "3362701             0        0  \n",
       "3362740             1        1  \n",
       "\n",
       "[16860 rows x 8 columns]"
      ]
     },
     "execution_count": 27,
     "metadata": {},
     "output_type": "execute_result"
    }
   ],
   "source": [
    "credit_df[credit_df[\"installments\"] > 1]"
   ]
  },
  {
   "cell_type": "code",
   "execution_count": 4,
   "metadata": {},
   "outputs": [
    {
     "name": "stdout",
     "output_type": "stream",
     "text": [
      "<class 'pandas.core.frame.DataFrame'>\n",
      "RangeIndex: 3362796 entries, 0 to 3362795\n",
      "Data columns (total 8 columns):\n",
      " #   Column        Dtype  \n",
      "---  ------        -----  \n",
      " 0   store_id      int64  \n",
      " 1   date          object \n",
      " 2   time          object \n",
      " 3   card_id       object \n",
      " 4   amount        int64  \n",
      " 5   installments  float64\n",
      " 6   days_of_week  int64  \n",
      " 7   holyday       int64  \n",
      "dtypes: float64(1), int64(4), object(3)\n",
      "memory usage: 205.2+ MB\n"
     ]
    }
   ],
   "source": [
    "credit_df.info()"
   ]
  },
  {
   "cell_type": "code",
   "execution_count": 8,
   "metadata": {},
   "outputs": [
    {
     "data": {
      "text/plain": [
       "float"
      ]
     },
     "execution_count": 8,
     "metadata": {},
     "output_type": "execute_result"
    }
   ],
   "source": [
    "a = 1.0\n",
    "type(a)"
   ]
  },
  {
   "cell_type": "code",
   "execution_count": 20,
   "metadata": {},
   "outputs": [],
   "source": [
    "credit_df[\"installments\"] = credit_df[\"installments\"].fillna(1)"
   ]
  },
  {
   "cell_type": "code",
   "execution_count": 21,
   "metadata": {},
   "outputs": [
    {
     "data": {
      "text/html": [
       "<div>\n",
       "<style scoped>\n",
       "    .dataframe tbody tr th:only-of-type {\n",
       "        vertical-align: middle;\n",
       "    }\n",
       "\n",
       "    .dataframe tbody tr th {\n",
       "        vertical-align: top;\n",
       "    }\n",
       "\n",
       "    .dataframe thead th {\n",
       "        text-align: right;\n",
       "    }\n",
       "</style>\n",
       "<table border=\"1\" class=\"dataframe\">\n",
       "  <thead>\n",
       "    <tr style=\"text-align: right;\">\n",
       "      <th></th>\n",
       "      <th>store_id</th>\n",
       "      <th>date</th>\n",
       "      <th>amount</th>\n",
       "    </tr>\n",
       "  </thead>\n",
       "  <tbody>\n",
       "    <tr>\n",
       "      <th>0</th>\n",
       "      <td>0</td>\n",
       "      <td>2016-12-14</td>\n",
       "      <td>0</td>\n",
       "    </tr>\n",
       "    <tr>\n",
       "      <th>1</th>\n",
       "      <td>0</td>\n",
       "      <td>2016-12-19</td>\n",
       "      <td>3055</td>\n",
       "    </tr>\n",
       "    <tr>\n",
       "      <th>2</th>\n",
       "      <td>0</td>\n",
       "      <td>2016-12-20</td>\n",
       "      <td>5918</td>\n",
       "    </tr>\n",
       "    <tr>\n",
       "      <th>3</th>\n",
       "      <td>0</td>\n",
       "      <td>2016-12-21</td>\n",
       "      <td>16747</td>\n",
       "    </tr>\n",
       "    <tr>\n",
       "      <th>4</th>\n",
       "      <td>0</td>\n",
       "      <td>2016-12-22</td>\n",
       "      <td>12014</td>\n",
       "    </tr>\n",
       "    <tr>\n",
       "      <th>...</th>\n",
       "      <td>...</td>\n",
       "      <td>...</td>\n",
       "      <td>...</td>\n",
       "    </tr>\n",
       "    <tr>\n",
       "      <th>480155</th>\n",
       "      <td>1799</td>\n",
       "      <td>2018-07-17</td>\n",
       "      <td>700</td>\n",
       "    </tr>\n",
       "    <tr>\n",
       "      <th>480156</th>\n",
       "      <td>1799</td>\n",
       "      <td>2018-07-19</td>\n",
       "      <td>875</td>\n",
       "    </tr>\n",
       "    <tr>\n",
       "      <th>480157</th>\n",
       "      <td>1799</td>\n",
       "      <td>2018-07-22</td>\n",
       "      <td>350</td>\n",
       "    </tr>\n",
       "    <tr>\n",
       "      <th>480158</th>\n",
       "      <td>1799</td>\n",
       "      <td>2018-07-25</td>\n",
       "      <td>300</td>\n",
       "    </tr>\n",
       "    <tr>\n",
       "      <th>480159</th>\n",
       "      <td>1799</td>\n",
       "      <td>2018-07-30</td>\n",
       "      <td>325</td>\n",
       "    </tr>\n",
       "  </tbody>\n",
       "</table>\n",
       "<p>480160 rows × 3 columns</p>\n",
       "</div>"
      ],
      "text/plain": [
       "        store_id        date  amount\n",
       "0              0  2016-12-14       0\n",
       "1              0  2016-12-19    3055\n",
       "2              0  2016-12-20    5918\n",
       "3              0  2016-12-21   16747\n",
       "4              0  2016-12-22   12014\n",
       "...          ...         ...     ...\n",
       "480155      1799  2018-07-17     700\n",
       "480156      1799  2018-07-19     875\n",
       "480157      1799  2018-07-22     350\n",
       "480158      1799  2018-07-25     300\n",
       "480159      1799  2018-07-30     325\n",
       "\n",
       "[480160 rows x 3 columns]"
      ]
     },
     "execution_count": 21,
     "metadata": {},
     "output_type": "execute_result"
    }
   ],
   "source": [
    "credit_df.groupby([\"store_id\", \"date\"]).sum()[\"amount\"].reset_index()"
   ]
  },
  {
   "cell_type": "code",
   "execution_count": 22,
   "metadata": {},
   "outputs": [
    {
     "data": {
      "text/html": [
       "<div>\n",
       "<style scoped>\n",
       "    .dataframe tbody tr th:only-of-type {\n",
       "        vertical-align: middle;\n",
       "    }\n",
       "\n",
       "    .dataframe tbody tr th {\n",
       "        vertical-align: top;\n",
       "    }\n",
       "\n",
       "    .dataframe thead th {\n",
       "        text-align: right;\n",
       "    }\n",
       "</style>\n",
       "<table border=\"1\" class=\"dataframe\">\n",
       "  <thead>\n",
       "    <tr style=\"text-align: right;\">\n",
       "      <th></th>\n",
       "      <th>store_id</th>\n",
       "      <th>amount</th>\n",
       "    </tr>\n",
       "  </thead>\n",
       "  <tbody>\n",
       "    <tr>\n",
       "      <th>0</th>\n",
       "      <td>0</td>\n",
       "      <td>5234611</td>\n",
       "    </tr>\n",
       "    <tr>\n",
       "      <th>1</th>\n",
       "      <td>1</td>\n",
       "      <td>147950</td>\n",
       "    </tr>\n",
       "    <tr>\n",
       "      <th>2</th>\n",
       "      <td>2</td>\n",
       "      <td>1615060</td>\n",
       "    </tr>\n",
       "    <tr>\n",
       "      <th>3</th>\n",
       "      <td>3</td>\n",
       "      <td>62781</td>\n",
       "    </tr>\n",
       "    <tr>\n",
       "      <th>4</th>\n",
       "      <td>4</td>\n",
       "      <td>270312</td>\n",
       "    </tr>\n",
       "    <tr>\n",
       "      <th>...</th>\n",
       "      <td>...</td>\n",
       "      <td>...</td>\n",
       "    </tr>\n",
       "    <tr>\n",
       "      <th>1770</th>\n",
       "      <td>1795</td>\n",
       "      <td>1319911</td>\n",
       "    </tr>\n",
       "    <tr>\n",
       "      <th>1771</th>\n",
       "      <td>1796</td>\n",
       "      <td>15372</td>\n",
       "    </tr>\n",
       "    <tr>\n",
       "      <th>1772</th>\n",
       "      <td>1797</td>\n",
       "      <td>49645</td>\n",
       "    </tr>\n",
       "    <tr>\n",
       "      <th>1773</th>\n",
       "      <td>1798</td>\n",
       "      <td>110011</td>\n",
       "    </tr>\n",
       "    <tr>\n",
       "      <th>1774</th>\n",
       "      <td>1799</td>\n",
       "      <td>192951</td>\n",
       "    </tr>\n",
       "  </tbody>\n",
       "</table>\n",
       "<p>1775 rows × 2 columns</p>\n",
       "</div>"
      ],
      "text/plain": [
       "      store_id   amount\n",
       "0            0  5234611\n",
       "1            1   147950\n",
       "2            2  1615060\n",
       "3            3    62781\n",
       "4            4   270312\n",
       "...        ...      ...\n",
       "1770      1795  1319911\n",
       "1771      1796    15372\n",
       "1772      1797    49645\n",
       "1773      1798   110011\n",
       "1774      1799   192951\n",
       "\n",
       "[1775 rows x 2 columns]"
      ]
     },
     "execution_count": 22,
     "metadata": {},
     "output_type": "execute_result"
    }
   ],
   "source": [
    "credit_df.groupby(\"store_id\").sum()[\"amount\"].reset_index() #상점개수 = 1775개"
   ]
  },
  {
   "cell_type": "code",
   "execution_count": 25,
   "metadata": {},
   "outputs": [
    {
     "data": {
      "text/html": [
       "<div>\n",
       "<style scoped>\n",
       "    .dataframe tbody tr th:only-of-type {\n",
       "        vertical-align: middle;\n",
       "    }\n",
       "\n",
       "    .dataframe tbody tr th {\n",
       "        vertical-align: top;\n",
       "    }\n",
       "\n",
       "    .dataframe thead th {\n",
       "        text-align: right;\n",
       "    }\n",
       "</style>\n",
       "<table border=\"1\" class=\"dataframe\">\n",
       "  <thead>\n",
       "    <tr style=\"text-align: right;\">\n",
       "      <th></th>\n",
       "      <th>card_id</th>\n",
       "      <th>amount</th>\n",
       "    </tr>\n",
       "  </thead>\n",
       "  <tbody>\n",
       "    <tr>\n",
       "      <th>0</th>\n",
       "      <td>000009e765</td>\n",
       "      <td>10</td>\n",
       "    </tr>\n",
       "    <tr>\n",
       "      <th>1</th>\n",
       "      <td>00000f9eaa</td>\n",
       "      <td>331</td>\n",
       "    </tr>\n",
       "    <tr>\n",
       "      <th>2</th>\n",
       "      <td>0000134335</td>\n",
       "      <td>90</td>\n",
       "    </tr>\n",
       "    <tr>\n",
       "      <th>3</th>\n",
       "      <td>000024f480</td>\n",
       "      <td>80</td>\n",
       "    </tr>\n",
       "    <tr>\n",
       "      <th>4</th>\n",
       "      <td>000036a26b</td>\n",
       "      <td>720</td>\n",
       "    </tr>\n",
       "    <tr>\n",
       "      <th>...</th>\n",
       "      <td>...</td>\n",
       "      <td>...</td>\n",
       "    </tr>\n",
       "    <tr>\n",
       "      <th>922517</th>\n",
       "      <td>ffffabcd67</td>\n",
       "      <td>225</td>\n",
       "    </tr>\n",
       "    <tr>\n",
       "      <th>922518</th>\n",
       "      <td>ffffd0294d</td>\n",
       "      <td>3432</td>\n",
       "    </tr>\n",
       "    <tr>\n",
       "      <th>922519</th>\n",
       "      <td>ffffe10b92</td>\n",
       "      <td>605</td>\n",
       "    </tr>\n",
       "    <tr>\n",
       "      <th>922520</th>\n",
       "      <td>fffffa0825</td>\n",
       "      <td>76</td>\n",
       "    </tr>\n",
       "    <tr>\n",
       "      <th>922521</th>\n",
       "      <td>ffffffab49</td>\n",
       "      <td>82</td>\n",
       "    </tr>\n",
       "  </tbody>\n",
       "</table>\n",
       "<p>922522 rows × 2 columns</p>\n",
       "</div>"
      ],
      "text/plain": [
       "           card_id  amount\n",
       "0       000009e765      10\n",
       "1       00000f9eaa     331\n",
       "2       0000134335      90\n",
       "3       000024f480      80\n",
       "4       000036a26b     720\n",
       "...            ...     ...\n",
       "922517  ffffabcd67     225\n",
       "922518  ffffd0294d    3432\n",
       "922519  ffffe10b92     605\n",
       "922520  fffffa0825      76\n",
       "922521  ffffffab49      82\n",
       "\n",
       "[922522 rows x 2 columns]"
      ]
     },
     "execution_count": 25,
     "metadata": {},
     "output_type": "execute_result"
    }
   ],
   "source": [
    "credit_df.sum()[\"amount\"].reset_index() # 고유카드개수 = 922522개 (한 사람당 1개의 카드를 가지고 있다하면 922522명의 사람의 거래량을 알 수 있음)"
   ]
  }
 ],
 "metadata": {
  "kernelspec": {
   "display_name": "Python 3",
   "language": "python",
   "name": "python3"
  },
  "language_info": {
   "codemirror_mode": {
    "name": "ipython",
    "version": 3
   },
   "file_extension": ".py",
   "mimetype": "text/x-python",
   "name": "python",
   "nbconvert_exporter": "python",
   "pygments_lexer": "ipython3",
   "version": "3.8.3"
  }
 },
 "nbformat": 4,
 "nbformat_minor": 4
}
